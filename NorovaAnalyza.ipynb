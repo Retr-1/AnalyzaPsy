{
 "cells": [
  {
   "cell_type": "code",
   "execution_count": null,
   "metadata": {},
   "outputs": [],
   "source": [
    "import numpy as np\n",
    "import pandas as pd\n",
    "import matplotlib.pyplot as plt\n",
    "import seaborn as sns\n",
    "import plotly.express as px\n",
    "from IPython.display import Markdown"
   ]
  },
  {
   "cell_type": "code",
   "execution_count": null,
   "metadata": {},
   "outputs": [],
   "source": [
    "dogs = pd.read_csv(\"psy_data.csv\", header=0).set_index(\"dog.id\")\n",
    "display(dogs.head())\n",
    "dog_info = pd.read_csv(\"psy_info.csv\", header=1)\n",
    "print(dogs.columns[10:100])\n"
   ]
  },
  {
   "cell_type": "code",
   "execution_count": null,
   "metadata": {},
   "outputs": [],
   "source": [
    "dogs[\"rounded_weight\"] = np.floor(dogs[\"weight_kg\"])\n",
    "display(dogs.sort_values(\"weight_kg\").loc[:,[\"weight_kg\", \"rounded_weight\", \"Aggressive_dogs_samegender\"]].head(15))\n",
    "q1 = dogs[\"rounded_weight\"].quantile(0.25)\n",
    "q3 = dogs[\"rounded_weight\"].quantile(0.75)\n",
    "iqr = q3 - q1\n",
    "lower = q1 - 1.5*iqr\n",
    "upper = q3 + 1.5*iqr\n",
    "\n",
    "figure, axes = plt.subplots(2, 1, figsize = (15, 15), sharey = False)\n",
    "sns.histplot(data = dogs, x = \"weight_kg\", ax = axes[0])\n",
    "\n",
    "aggression_per_weight_samegender = pd.DataFrame(dogs.query(\"rounded_weight > @lower and rounded_weight < @upper\").groupby(\"rounded_weight\").mean(\"Aggressive_dogs_samegender\")[\"Aggressive_dogs_samegender\"])\n",
    "sns.lineplot(data = aggression_per_weight_samegender, x = \"rounded_weight\", y = \"Aggressive_dogs_samegender\", label = \"Aggressive_samegender\", ax = axes[1])\n",
    "\n",
    "aggression_per_weight_people = pd.DataFrame(dogs.query(\"rounded_weight > @lower and rounded_weight < @upper\").groupby(\"rounded_weight\").mean(\"Aggressive_people\")[\"Aggressive_people\"])\n",
    "sns.lineplot(data = aggression_per_weight_people , x = \"rounded_weight\", y = \"Aggressive_people\", label = \"Aggressive_people\", ax = axes[1])\n",
    "\n",
    "aggression_per_weight_oppositegender = pd.DataFrame(dogs.query(\"rounded_weight > @lower and rounded_weight < @upper\").groupby(\"rounded_weight\").mean(\"Aggressive_dogs_oppositegender\")[\"Aggressive_dogs_oppositegender\"])\n",
    "sns.lineplot(data = aggression_per_weight_oppositegender , x = \"rounded_weight\", y = \"Aggressive_dogs_oppositegender\", label = \"Aggressive_dogs_oppositegender\", ax = axes[1])"
   ]
  },
  {
   "cell_type": "code",
   "execution_count": null,
   "metadata": {},
   "outputs": [],
   "source": [
    "grid = []\n",
    "grid.append(sns.FacetGrid(data=dogs, col='obtained_from', sharey=False))\n",
    "grid[0].map(sns.histplot, \"Sensitive_touch\")\n",
    "\n",
    "grid.append(sns.FacetGrid(data=dogs, col='obtained_from', sharey=False))\n",
    "grid[1].map(sns.histplot, \"Anxious\")\n",
    "\n",
    "grid.append(sns.FacetGrid(data=dogs, col='obtained_from', sharey=False))\n",
    "grid[2].map(sns.histplot, \"Human_oriented\")\n",
    "\n",
    "for gr in grid:\n",
    "    plt.show(gr)\n",
    "\n",
    "dogs_melted = dogs.melt(id_vars=['obtained_from'], \n",
    "                        value_vars=['Sensitive_touch', 'Anxious', 'Human_oriented'],\n",
    "                        var_name='Behavior', \n",
    "                        value_name='Score')\n",
    "\n",
    "priemery = dogs_melted.groupby([\"Behavior\", \"obtained_from\"])[\"Score\"].mean().reset_index()\n",
    "\n",
    "dogs[\"interval\"] = pd.cut(x = dogs[\"dog_aggression_score\"], bins = np.linspace(dogs[\"dog_aggression_score\"].min(), dogs[\"dog_aggression_score\"].max(), 50))\n",
    "priemery2 = dogs.groupby(\"interval\", observed = False)[\"noise_sensitivity_score\"].mean().reset_index()\n",
    "\n",
    "boolseries = dogs.reset_index().groupby(\"interval\", observed= False)[\"dog.id\"].count() < 10\n",
    "\n",
    "axe = sns.barplot(data=priemery2, x = \"interval\", y = \"noise_sensitivity_score\")\n",
    "sns.stripplot(data = dogs.iloc[list(dogs[\"interval\"].replace(boolseries).fillna(False)), :], x = \"interval\", y = \"noise_sensitivity_score\", ax = axe)\n",
    "labels = np.array(np.round(np.linspace(dogs[\"dog_aggression_score\"].min(), dogs[\"dog_aggression_score\"].max(), 50), decimals = 2), dtype = str)\n",
    "labels[1::2] = \"\"\n",
    "axe.set_xticklabels(labels, rotation = 45)\n",
    "\n",
    "px.bar(data_frame= priemery, x = \"Score\", y = \"obtained_from\", facet_col= \"Behavior\", facet_col_wrap=3).show()"
   ]
  }
 ],
 "metadata": {
  "language_info": {
   "name": "python"
  }
 },
 "nbformat": 4,
 "nbformat_minor": 2
}
