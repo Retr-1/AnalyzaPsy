{
 "cells": [
  {
   "cell_type": "code",
   "execution_count": 2,
   "metadata": {},
   "outputs": [],
   "source": [
    "import numpy as np\n",
    "import pandas as pd\n",
    "import matplotlib.pyplot as plt\n",
    "import seaborn as sns\n",
    "import plotly.express as px\n",
    "from IPython.display import Markdown"
   ]
  },
  {
   "cell_type": "code",
   "execution_count": null,
   "metadata": {},
   "outputs": [
    {
     "data": {
      "text/html": [
       "<div>\n",
       "<style scoped>\n",
       "    .dataframe tbody tr th:only-of-type {\n",
       "        vertical-align: middle;\n",
       "    }\n",
       "\n",
       "    .dataframe tbody tr th {\n",
       "        vertical-align: top;\n",
       "    }\n",
       "\n",
       "    .dataframe thead th {\n",
       "        text-align: right;\n",
       "    }\n",
       "</style>\n",
       "<table border=\"1\" class=\"dataframe\">\n",
       "  <thead>\n",
       "    <tr style=\"text-align: right;\">\n",
       "      <th></th>\n",
       "      <th>breed_group</th>\n",
       "      <th>sex</th>\n",
       "      <th>sterilization_status</th>\n",
       "      <th>Noise.sensitivity_age</th>\n",
       "      <th>Fearfulness_age</th>\n",
       "      <th>Aggression_age</th>\n",
       "      <th>Surface_age</th>\n",
       "      <th>Separation_age</th>\n",
       "      <th>Impulsivity_age</th>\n",
       "      <th>Personality_age</th>\n",
       "      <th>...</th>\n",
       "      <th>Vas_8_excessive</th>\n",
       "      <th>Vas_9_alwaysplay</th>\n",
       "      <th>Vas_10_complicatedtasks</th>\n",
       "      <th>Vas_11_reacthastily</th>\n",
       "      <th>Vas_12_easilydistracted</th>\n",
       "      <th>Vas_13_cannotwait</th>\n",
       "      <th>impulsive</th>\n",
       "      <th>impulsiveness_disturbes</th>\n",
       "      <th>inattention_score</th>\n",
       "      <th>impulsivity_score</th>\n",
       "    </tr>\n",
       "    <tr>\n",
       "      <th>dog.id</th>\n",
       "      <th></th>\n",
       "      <th></th>\n",
       "      <th></th>\n",
       "      <th></th>\n",
       "      <th></th>\n",
       "      <th></th>\n",
       "      <th></th>\n",
       "      <th></th>\n",
       "      <th></th>\n",
       "      <th></th>\n",
       "      <th></th>\n",
       "      <th></th>\n",
       "      <th></th>\n",
       "      <th></th>\n",
       "      <th></th>\n",
       "      <th></th>\n",
       "      <th></th>\n",
       "      <th></th>\n",
       "      <th></th>\n",
       "      <th></th>\n",
       "      <th></th>\n",
       "    </tr>\n",
       "  </thead>\n",
       "  <tbody>\n",
       "    <tr>\n",
       "      <th>1</th>\n",
       "      <td>Jack_Russell_Terrier</td>\n",
       "      <td>female</td>\n",
       "      <td>sterilized</td>\n",
       "      <td>14.241650</td>\n",
       "      <td>14.181420</td>\n",
       "      <td>14.236174</td>\n",
       "      <td>14.233437</td>\n",
       "      <td>14.181420</td>\n",
       "      <td>14.236174</td>\n",
       "      <td>14.044534</td>\n",
       "      <td>...</td>\n",
       "      <td>2.0</td>\n",
       "      <td>3.0</td>\n",
       "      <td>2.0</td>\n",
       "      <td>2.0</td>\n",
       "      <td>3.0</td>\n",
       "      <td>2.0</td>\n",
       "      <td>0.0</td>\n",
       "      <td>3.0</td>\n",
       "      <td>0.993593</td>\n",
       "      <td>0.097521</td>\n",
       "    </tr>\n",
       "    <tr>\n",
       "      <th>2</th>\n",
       "      <td>Jack_Russell_Terrier</td>\n",
       "      <td>female</td>\n",
       "      <td>intact</td>\n",
       "      <td>8.693866</td>\n",
       "      <td>8.359294</td>\n",
       "      <td>8.693866</td>\n",
       "      <td>8.353818</td>\n",
       "      <td>NaN</td>\n",
       "      <td>8.422270</td>\n",
       "      <td>8.685652</td>\n",
       "      <td>...</td>\n",
       "      <td>2.0</td>\n",
       "      <td>3.0</td>\n",
       "      <td>1.0</td>\n",
       "      <td>1.0</td>\n",
       "      <td>2.0</td>\n",
       "      <td>2.0</td>\n",
       "      <td>NaN</td>\n",
       "      <td>2.0</td>\n",
       "      <td>-0.633266</td>\n",
       "      <td>0.904661</td>\n",
       "    </tr>\n",
       "    <tr>\n",
       "      <th>3</th>\n",
       "      <td>Pinschers_Schnauzers</td>\n",
       "      <td>male</td>\n",
       "      <td>intact</td>\n",
       "      <td>1.992701</td>\n",
       "      <td>1.992701</td>\n",
       "      <td>1.992701</td>\n",
       "      <td>1.992701</td>\n",
       "      <td>1.992701</td>\n",
       "      <td>1.992701</td>\n",
       "      <td>NaN</td>\n",
       "      <td>...</td>\n",
       "      <td>NaN</td>\n",
       "      <td>NaN</td>\n",
       "      <td>NaN</td>\n",
       "      <td>NaN</td>\n",
       "      <td>NaN</td>\n",
       "      <td>NaN</td>\n",
       "      <td>1.0</td>\n",
       "      <td>4.0</td>\n",
       "      <td>NaN</td>\n",
       "      <td>NaN</td>\n",
       "    </tr>\n",
       "    <tr>\n",
       "      <th>4</th>\n",
       "      <td>Pinschers_Schnauzers</td>\n",
       "      <td>male</td>\n",
       "      <td>sterilized</td>\n",
       "      <td>5.405751</td>\n",
       "      <td>5.405751</td>\n",
       "      <td>5.405751</td>\n",
       "      <td>5.405751</td>\n",
       "      <td>5.405751</td>\n",
       "      <td>5.405751</td>\n",
       "      <td>NaN</td>\n",
       "      <td>...</td>\n",
       "      <td>1.0</td>\n",
       "      <td>2.0</td>\n",
       "      <td>1.0</td>\n",
       "      <td>2.0</td>\n",
       "      <td>2.0</td>\n",
       "      <td>1.0</td>\n",
       "      <td>1.0</td>\n",
       "      <td>2.0</td>\n",
       "      <td>-0.528441</td>\n",
       "      <td>-0.822966</td>\n",
       "    </tr>\n",
       "    <tr>\n",
       "      <th>5</th>\n",
       "      <td>German_Shepherd_Dog</td>\n",
       "      <td>male</td>\n",
       "      <td>sterilized</td>\n",
       "      <td>3.875205</td>\n",
       "      <td>4.006568</td>\n",
       "      <td>3.875205</td>\n",
       "      <td>4.006568</td>\n",
       "      <td>4.006568</td>\n",
       "      <td>4.006568</td>\n",
       "      <td>4.006568</td>\n",
       "      <td>...</td>\n",
       "      <td>3.0</td>\n",
       "      <td>3.0</td>\n",
       "      <td>2.0</td>\n",
       "      <td>2.0</td>\n",
       "      <td>4.0</td>\n",
       "      <td>2.0</td>\n",
       "      <td>1.0</td>\n",
       "      <td>5.0</td>\n",
       "      <td>0.347356</td>\n",
       "      <td>1.438794</td>\n",
       "    </tr>\n",
       "  </tbody>\n",
       "</table>\n",
       "<p>5 rows × 249 columns</p>\n",
       "</div>"
      ],
      "text/plain": [
       "                 breed_group     sex sterilization_status  \\\n",
       "dog.id                                                      \n",
       "1       Jack_Russell_Terrier  female           sterilized   \n",
       "2       Jack_Russell_Terrier  female               intact   \n",
       "3       Pinschers_Schnauzers    male               intact   \n",
       "4       Pinschers_Schnauzers    male           sterilized   \n",
       "5        German_Shepherd_Dog    male           sterilized   \n",
       "\n",
       "        Noise.sensitivity_age  Fearfulness_age  Aggression_age  Surface_age  \\\n",
       "dog.id                                                                        \n",
       "1                   14.241650        14.181420       14.236174    14.233437   \n",
       "2                    8.693866         8.359294        8.693866     8.353818   \n",
       "3                    1.992701         1.992701        1.992701     1.992701   \n",
       "4                    5.405751         5.405751        5.405751     5.405751   \n",
       "5                    3.875205         4.006568        3.875205     4.006568   \n",
       "\n",
       "        Separation_age  Impulsivity_age  Personality_age  ...  \\\n",
       "dog.id                                                    ...   \n",
       "1            14.181420        14.236174        14.044534  ...   \n",
       "2                  NaN         8.422270         8.685652  ...   \n",
       "3             1.992701         1.992701              NaN  ...   \n",
       "4             5.405751         5.405751              NaN  ...   \n",
       "5             4.006568         4.006568         4.006568  ...   \n",
       "\n",
       "        Vas_8_excessive Vas_9_alwaysplay Vas_10_complicatedtasks  \\\n",
       "dog.id                                                             \n",
       "1                   2.0              3.0                     2.0   \n",
       "2                   2.0              3.0                     1.0   \n",
       "3                   NaN              NaN                     NaN   \n",
       "4                   1.0              2.0                     1.0   \n",
       "5                   3.0              3.0                     2.0   \n",
       "\n",
       "       Vas_11_reacthastily Vas_12_easilydistracted  Vas_13_cannotwait  \\\n",
       "dog.id                                                                  \n",
       "1                      2.0                     3.0                2.0   \n",
       "2                      1.0                     2.0                2.0   \n",
       "3                      NaN                     NaN                NaN   \n",
       "4                      2.0                     2.0                1.0   \n",
       "5                      2.0                     4.0                2.0   \n",
       "\n",
       "        impulsive  impulsiveness_disturbes  inattention_score  \\\n",
       "dog.id                                                          \n",
       "1             0.0                      3.0           0.993593   \n",
       "2             NaN                      2.0          -0.633266   \n",
       "3             1.0                      4.0                NaN   \n",
       "4             1.0                      2.0          -0.528441   \n",
       "5             1.0                      5.0           0.347356   \n",
       "\n",
       "        impulsivity_score  \n",
       "dog.id                     \n",
       "1                0.097521  \n",
       "2                0.904661  \n",
       "3                     NaN  \n",
       "4               -0.822966  \n",
       "5                1.438794  \n",
       "\n",
       "[5 rows x 249 columns]"
      ]
     },
     "metadata": {},
     "output_type": "display_data"
    },
    {
     "name": "stdout",
     "output_type": "stream",
     "text": [
      "Index(['weight_kg', 'ownership_reason', 'obtained_from', 'age_enter_household',\n",
      "       'weaning_age', 'Socialization_men', 'Socialization_women',\n",
      "       'Socialization_children', 'Socialization_dogs', 'Socialization_city',\n",
      "       'Socialization_car', 'Socialization_public.transportation',\n",
      "       'socialization', 'socialization_quantile', 'living_place',\n",
      "       'living_building', 'outdoor_access', 'other_dogs_when_obtained',\n",
      "       'currently_other_dogs', 'daily_exercise', 'leashed_unleashed',\n",
      "       'trains_agility', 'trains_obedience_rally', 'trains_nose_work',\n",
      "       'trains_rescue_utility', 'hobby_frequency_home', 'hobby_frequency_out',\n",
      "       'alone_time', 'life_experience', 'dog_experience', 'dog_breeder',\n",
      "       'animal-related_work', 'Willing_to_learn', 'Playful_dogs',\n",
      "       'Predictable', 'Obedient', 'Boisterous', 'Sensitive_touch', 'Vocal',\n",
      "       'Anxious', 'Independent', 'Lazy', 'Intelligent', 'Reliable',\n",
      "       'Prey_driven_chase', 'Human_dependent', 'Wary', 'Erratic', 'Stubborn',\n",
      "       'Fearful_people', 'Playful_people', 'Playful_alone', 'Curious',\n",
      "       'Fearful_dogs', 'Impulsive', 'Affectionate_people', 'Decisive',\n",
      "       'Persevering', 'Distractible', 'Submissive', 'Cautious', 'Restless',\n",
      "       'Confident', 'Easygoing', 'Dominant', 'Patient',\n",
      "       'Sociable_dogs_samegender', 'Slow', 'Sociable_dogs_oppositegender',\n",
      "       'Calm', 'Provocative', 'Excitable', 'Human_oriented', 'Focused',\n",
      "       'Prey_driven_search', 'Empathic', 'Aggressive_dogs_samegender',\n",
      "       'Greedy', 'Attention_seeking', 'Indifferent', 'Aggressive_people',\n",
      "       'Affectionate_dogs', 'Vigilant', 'Calming', 'Solitary',\n",
      "       'Aggressive_dogs_oppositegender', 'Territorial', 'Flexible',\n",
      "       'Easily_recovered', 'Bold'],\n",
      "      dtype='object')\n"
     ]
    }
   ],
   "source": [
    "dogs = pd.read_csv(\"psy_data.csv\", header=0).set_index(\"dog.id\")\n",
    "display(dogs.head())\n",
    "dog_info = pd.read_csv(\"psy_info.csv\", header=1)\n",
    "print(dogs.columns[10:100])\n"
   ]
  },
  {
   "cell_type": "code",
   "execution_count": 4,
   "metadata": {},
   "outputs": [
    {
     "data": {
      "text/html": [
       "<div>\n",
       "<style scoped>\n",
       "    .dataframe tbody tr th:only-of-type {\n",
       "        vertical-align: middle;\n",
       "    }\n",
       "\n",
       "    .dataframe tbody tr th {\n",
       "        vertical-align: top;\n",
       "    }\n",
       "\n",
       "    .dataframe thead th {\n",
       "        text-align: right;\n",
       "    }\n",
       "</style>\n",
       "<table border=\"1\" class=\"dataframe\">\n",
       "  <thead>\n",
       "    <tr style=\"text-align: right;\">\n",
       "      <th></th>\n",
       "      <th>weight_kg</th>\n",
       "      <th>rounded_weight</th>\n",
       "      <th>Aggressive_dogs_samegender</th>\n",
       "    </tr>\n",
       "    <tr>\n",
       "      <th>dog.id</th>\n",
       "      <th></th>\n",
       "      <th></th>\n",
       "      <th></th>\n",
       "    </tr>\n",
       "  </thead>\n",
       "  <tbody>\n",
       "    <tr>\n",
       "      <th>12089</th>\n",
       "      <td>1.00</td>\n",
       "      <td>1.0</td>\n",
       "      <td>5.0</td>\n",
       "    </tr>\n",
       "    <tr>\n",
       "      <th>2462</th>\n",
       "      <td>1.00</td>\n",
       "      <td>1.0</td>\n",
       "      <td>1.0</td>\n",
       "    </tr>\n",
       "    <tr>\n",
       "      <th>12033</th>\n",
       "      <td>1.60</td>\n",
       "      <td>1.0</td>\n",
       "      <td>4.0</td>\n",
       "    </tr>\n",
       "    <tr>\n",
       "      <th>14246</th>\n",
       "      <td>1.65</td>\n",
       "      <td>1.0</td>\n",
       "      <td>5.0</td>\n",
       "    </tr>\n",
       "    <tr>\n",
       "      <th>5371</th>\n",
       "      <td>1.80</td>\n",
       "      <td>1.0</td>\n",
       "      <td>2.0</td>\n",
       "    </tr>\n",
       "    <tr>\n",
       "      <th>15083</th>\n",
       "      <td>1.80</td>\n",
       "      <td>1.0</td>\n",
       "      <td>NaN</td>\n",
       "    </tr>\n",
       "    <tr>\n",
       "      <th>3323</th>\n",
       "      <td>2.00</td>\n",
       "      <td>2.0</td>\n",
       "      <td>4.0</td>\n",
       "    </tr>\n",
       "    <tr>\n",
       "      <th>6043</th>\n",
       "      <td>2.00</td>\n",
       "      <td>2.0</td>\n",
       "      <td>1.0</td>\n",
       "    </tr>\n",
       "    <tr>\n",
       "      <th>2818</th>\n",
       "      <td>2.00</td>\n",
       "      <td>2.0</td>\n",
       "      <td>1.0</td>\n",
       "    </tr>\n",
       "    <tr>\n",
       "      <th>2079</th>\n",
       "      <td>2.00</td>\n",
       "      <td>2.0</td>\n",
       "      <td>2.0</td>\n",
       "    </tr>\n",
       "    <tr>\n",
       "      <th>14895</th>\n",
       "      <td>2.00</td>\n",
       "      <td>2.0</td>\n",
       "      <td>3.0</td>\n",
       "    </tr>\n",
       "    <tr>\n",
       "      <th>3785</th>\n",
       "      <td>2.00</td>\n",
       "      <td>2.0</td>\n",
       "      <td>2.0</td>\n",
       "    </tr>\n",
       "    <tr>\n",
       "      <th>4927</th>\n",
       "      <td>2.00</td>\n",
       "      <td>2.0</td>\n",
       "      <td>1.0</td>\n",
       "    </tr>\n",
       "    <tr>\n",
       "      <th>4502</th>\n",
       "      <td>2.00</td>\n",
       "      <td>2.0</td>\n",
       "      <td>NaN</td>\n",
       "    </tr>\n",
       "    <tr>\n",
       "      <th>9441</th>\n",
       "      <td>2.00</td>\n",
       "      <td>2.0</td>\n",
       "      <td>NaN</td>\n",
       "    </tr>\n",
       "  </tbody>\n",
       "</table>\n",
       "</div>"
      ],
      "text/plain": [
       "        weight_kg  rounded_weight  Aggressive_dogs_samegender\n",
       "dog.id                                                       \n",
       "12089        1.00             1.0                         5.0\n",
       "2462         1.00             1.0                         1.0\n",
       "12033        1.60             1.0                         4.0\n",
       "14246        1.65             1.0                         5.0\n",
       "5371         1.80             1.0                         2.0\n",
       "15083        1.80             1.0                         NaN\n",
       "3323         2.00             2.0                         4.0\n",
       "6043         2.00             2.0                         1.0\n",
       "2818         2.00             2.0                         1.0\n",
       "2079         2.00             2.0                         2.0\n",
       "14895        2.00             2.0                         3.0\n",
       "3785         2.00             2.0                         2.0\n",
       "4927         2.00             2.0                         1.0\n",
       "4502         2.00             2.0                         NaN\n",
       "9441         2.00             2.0                         NaN"
      ]
     },
     "metadata": {},
     "output_type": "display_data"
    },
    {
     "data": {
      "text/plain": [
       "[<Axes: xlabel='rounded_weight', ylabel='Aggression'>,\n",
       " <Axes: xlabel='rounded_weight', ylabel='Aggression'>,\n",
       " <Axes: xlabel='rounded_weight', ylabel='Aggression'>]"
      ]
     },
     "metadata": {},
     "output_type": "display_data"
    },
    {
     "data": {
      "image/png": "[encoded data removed]",
      "text/plain": [
       "<Figure size 640x480 with 1 Axes>"
      ]
     },
     "metadata": {},
     "output_type": "display_data"
    }
   ],
   "source": [
    "dogs[\"rounded_weight\"] = np.floor(dogs[\"weight_kg\"])\n",
    "display(dogs.sort_values(\"weight_kg\").loc[:,[\"weight_kg\", \"rounded_weight\", \"Aggressive_dogs_samegender\"]].head(15))\n",
    "q1 = dogs[\"rounded_weight\"].quantile(0.25)\n",
    "q3 = dogs[\"rounded_weight\"].quantile(0.75)\n",
    "iqr = q3 - q1\n",
    "lower = q1 - 1.5*iqr\n",
    "upper = q3 + 1.5*iqr\n",
    "graph = []\n",
    "aggression_per_weight_samegender = pd.DataFrame(dogs.query(\"rounded_weight > @lower and rounded_weight < @upper\").groupby(\"rounded_weight\").mean(\"Aggressive_dogs_samegender\")[\"Aggressive_dogs_samegender\"])\n",
    "graph.append(sns.lineplot(data = aggression_per_weight_samegender, x = \"rounded_weight\", y = \"Aggressive_dogs_samegender\", label = \"Aggressive_samegender\"))\n",
    "\n",
    "aggression_per_weight_people = pd.DataFrame(dogs.query(\"rounded_weight > @lower and rounded_weight < @upper\").groupby(\"rounded_weight\").mean(\"Aggressive_people\")[\"Aggressive_people\"])\n",
    "graph.append(sns.lineplot(data = aggression_per_weight_people , x = \"rounded_weight\", y = \"Aggressive_people\", label = \"Aggressive_people\"))\n",
    "\n",
    "aggression_per_weight_oppositegender = pd.DataFrame(dogs.query(\"rounded_weight > @lower and rounded_weight < @upper\").groupby(\"rounded_weight\").mean(\"Aggressive_dogs_oppositegender\")[\"Aggressive_dogs_oppositegender\"])\n",
    "graph.append(sns.lineplot(data = aggression_per_weight_oppositegender , x = \"rounded_weight\", y = \"Aggressive_dogs_oppositegender\", label = \"Aggressive_dogs_oppositegender\"))\n",
    "\n",
    "\n",
    "for graf in graph:\n",
    "    graf.set_ylabel(\"Aggression\")\n",
    "display(graph)"
   ]
  },
  {
   "cell_type": "code",
   "execution_count": 127,
   "metadata": {},
   "outputs": [
    {
     "data": {
      "image/png": "[encoded data removed]",
      "text/plain": [
       "<Figure size 900x300 with 3 Axes>"
      ]
     },
     "metadata": {},
     "output_type": "display_data"
    },
    {
     "data": {
      "image/png": "[encoded data removed]",
      "text/plain": [
       "<Figure size 900x300 with 3 Axes>"
      ]
     },
     "metadata": {},
     "output_type": "display_data"
    },
    {
     "data": {
      "image/png": "[encoded data removed]",
      "text/plain": [
       "<Figure size 900x300 with 3 Axes>"
      ]
     },
     "metadata": {},
     "output_type": "display_data"
    },
    {
     "name": "stderr",
     "output_type": "stream",
     "text": [
      "C:\\Users\\Legion\\AppData\\Local\\Temp\\ipykernel_23404\\1475380158.py:27: FutureWarning:\n",
      "\n",
      "Downcasting behavior in `replace` is deprecated and will be removed in a future version. To retain the old behavior, explicitly call `result.infer_objects(copy=False)`. To opt-in to the future behavior, set `pd.set_option('future.no_silent_downcasting', True)`\n",
      "\n",
      "C:\\Users\\Legion\\AppData\\Local\\Temp\\ipykernel_23404\\1475380158.py:27: FutureWarning:\n",
      "\n",
      "The behavior of Series.replace (and DataFrame.replace) with CategoricalDtype is deprecated. In a future version, replace will only be used for cases that preserve the categories. To change the categories, use ser.cat.rename_categories instead.\n",
      "\n",
      "C:\\Users\\Legion\\AppData\\Local\\Temp\\ipykernel_23404\\1475380158.py:30: UserWarning:\n",
      "\n",
      "set_ticklabels() should only be used with a fixed number of ticks, i.e. after set_ticks() or using a FixedLocator.\n",
      "\n"
     ]
    },
    {
     "data": {
      "application/vnd.plotly.v1+json": {
       "config": {
        "plotlyServerURL": "https://plot.ly"
       },
       "data": [
        {
         "hovertemplate": "Behavior=Anxious<br>Score=%{x}<br>obtained_from=%{y}<extra></extra>",
         "legendgroup": "",
         "marker": {
          "color": "#636efa",
          "pattern": {
           "shape": ""
          }
         },
         "name": "",
         "orientation": "h",
         "showlegend": false,
         "textposition": "auto",
         "type": "bar",
         "x": {
          "bdata": "SKrRR6rR9z+JFYSZiXP7P9evFKj1KwBA",
          "dtype": "f8"
         },
         "xaxis": "x",
         "y": [
          "born_home",
          "breeder",
          "rescue_previous"
         ],
         "yaxis": "y"
        },
        {
         "hovertemplate": "Behavior=Human_oriented<br>Score=%{x}<br>obtained_from=%{y}<extra></extra>",
         "legendgroup": "",
         "marker": {
          "color": "#636efa",
          "pattern": {
           "shape": ""
          }
         },
         "name": "",
         "orientation": "h",
         "showlegend": false,
         "textposition": "auto",
         "type": "bar",
         "x": {
          "bdata": "s2XLli1bDEA5r5Qpz9kMQJ5RY9UJ6g5A",
          "dtype": "f8"
         },
         "xaxis": "x2",
         "y": [
          "born_home",
          "breeder",
          "rescue_previous"
         ],
         "yaxis": "y2"
        },
        {
         "hovertemplate": "Behavior=Sensitive_touch<br>Score=%{x}<br>obtained_from=%{y}<extra></extra>",
         "legendgroup": "",
         "marker": {
          "color": "#636efa",
          "pattern": {
           "shape": ""
          }
         },
         "name": "",
         "orientation": "h",
         "showlegend": false,
         "textposition": "auto",
         "type": "bar",
         "x": {
          "bdata": "NfpINfpI9T81wnJPIyz4P7gzJObtDPk/",
          "dtype": "f8"
         },
         "xaxis": "x3",
         "y": [
          "born_home",
          "breeder",
          "rescue_previous"
         ],
         "yaxis": "y3"
        }
       ],
       "layout": {
        "annotations": [
         {
          "font": {},
          "showarrow": false,
          "text": "Behavior=Anxious",
          "x": 0.15999999999999998,
          "xanchor": "center",
          "xref": "paper",
          "y": 1,
          "yanchor": "bottom",
          "yref": "paper"
         },
         {
          "font": {},
          "showarrow": false,
          "text": "Behavior=Human_oriented",
          "x": 0.49999999999999994,
          "xanchor": "center",
          "xref": "paper",
          "y": 1,
          "yanchor": "bottom",
          "yref": "paper"
         },
         {
          "font": {},
          "showarrow": false,
          "text": "Behavior=Sensitive_touch",
          "x": 0.8399999999999999,
          "xanchor": "center",
          "xref": "paper",
          "y": 1,
          "yanchor": "bottom",
          "yref": "paper"
         }
        ],
        "barmode": "relative",
        "legend": {
         "tracegroupgap": 0
        },
        "margin": {
         "t": 60
        },
        "template": {
         "data": {
          "bar": [
           {
            "error_x": {
             "color": "#2a3f5f"
            },
            "error_y": {
             "color": "#2a3f5f"
            },
            "marker": {
             "line": {
              "color": "#E5ECF6",
              "width": 0.5
             },
             "pattern": {
              "fillmode": "overlay",
              "size": 10,
              "solidity": 0.2
             }
            },
            "type": "bar"
           }
          ],
          "barpolar": [
           {
            "marker": {
             "line": {
              "color": "#E5ECF6",
              "width": 0.5
             },
             "pattern": {
              "fillmode": "overlay",
              "size": 10,
              "solidity": 0.2
             }
            },
            "type": "barpolar"
           }
          ],
          "carpet": [
           {
            "aaxis": {
             "endlinecolor": "#2a3f5f",
             "gridcolor": "white",
             "linecolor": "white",
             "minorgridcolor": "white",
             "startlinecolor": "#2a3f5f"
            },
            "baxis": {
             "endlinecolor": "#2a3f5f",
             "gridcolor": "white",
             "linecolor": "white",
             "minorgridcolor": "white",
             "startlinecolor": "#2a3f5f"
            },
            "type": "carpet"
           }
          ],
          "choropleth": [
           {
            "colorbar": {
             "outlinewidth": 0,
             "ticks": ""
            },
            "type": "choropleth"
           }
          ],
          "contour": [
           {
            "colorbar": {
             "outlinewidth": 0,
             "ticks": ""
            },
            "colorscale": [
             [
              0,
              "#0d0887"
             ],
             [
              0.1111111111111111,
              "#46039f"
             ],
             [
              0.2222222222222222,
              "#7201a8"
             ],
             [
              0.3333333333333333,
              "#9c179e"
             ],
             [
              0.4444444444444444,
              "#bd3786"
             ],
             [
              0.5555555555555556,
              "#d8576b"
             ],
             [
              0.6666666666666666,
              "#ed7953"
             ],
             [
              0.7777777777777778,
              "#fb9f3a"
             ],
             [
              0.8888888888888888,
              "#fdca26"
             ],
             [
              1,
              "#f0f921"
             ]
            ],
            "type": "contour"
           }
          ],
          "contourcarpet": [
           {
            "colorbar": {
             "outlinewidth": 0,
             "ticks": ""
            },
            "type": "contourcarpet"
           }
          ],
          "heatmap": [
           {
            "colorbar": {
             "outlinewidth": 0,
             "ticks": ""
            },
            "colorscale": [
             [
              0,
              "#0d0887"
             ],
             [
              0.1111111111111111,
              "#46039f"
             ],
             [
              0.2222222222222222,
              "#7201a8"
             ],
             [
              0.3333333333333333,
              "#9c179e"
             ],
             [
              0.4444444444444444,
              "#bd3786"
             ],
             [
              0.5555555555555556,
              "#d8576b"
             ],
             [
              0.6666666666666666,
              "#ed7953"
             ],
             [
              0.7777777777777778,
              "#fb9f3a"
             ],
             [
              0.8888888888888888,
              "#fdca26"
             ],
             [
              1,
              "#f0f921"
             ]
            ],
            "type": "heatmap"
           }
          ],
          "histogram": [
           {
            "marker": {
             "pattern": {
              "fillmode": "overlay",
              "size": 10,
              "solidity": 0.2
             }
            },
            "type": "histogram"
           }
          ],
          "histogram2d": [
           {
            "colorbar": {
             "outlinewidth": 0,
             "ticks": ""
            },
            "colorscale": [
             [
              0,
              "#0d0887"
             ],
             [
              0.1111111111111111,
              "#46039f"
             ],
             [
              0.2222222222222222,
              "#7201a8"
             ],
             [
              0.3333333333333333,
              "#9c179e"
             ],
             [
              0.4444444444444444,
              "#bd3786"
             ],
             [
              0.5555555555555556,
              "#d8576b"
             ],
             [
              0.6666666666666666,
              "#ed7953"
             ],
             [
              0.7777777777777778,
              "#fb9f3a"
             ],
             [
              0.8888888888888888,
              "#fdca26"
             ],
             [
              1,
              "#f0f921"
             ]
            ],
            "type": "histogram2d"
           }
          ],
          "histogram2dcontour": [
           {
            "colorbar": {
             "outlinewidth": 0,
             "ticks": ""
            },
            "colorscale": [
             [
              0,
              "#0d0887"
             ],
             [
              0.1111111111111111,
              "#46039f"
             ],
             [
              0.2222222222222222,
              "#7201a8"
             ],
             [
              0.3333333333333333,
              "#9c179e"
             ],
             [
              0.4444444444444444,
              "#bd3786"
             ],
             [
              0.5555555555555556,
              "#d8576b"
             ],
             [
              0.6666666666666666,
              "#ed7953"
             ],
             [
              0.7777777777777778,
              "#fb9f3a"
             ],
             [
              0.8888888888888888,
              "#fdca26"
             ],
             [
              1,
              "#f0f921"
             ]
            ],
            "type": "histogram2dcontour"
           }
          ],
          "mesh3d": [
           {
            "colorbar": {
             "outlinewidth": 0,
             "ticks": ""
            },
            "type": "mesh3d"
           }
          ],
          "parcoords": [
           {
            "line": {
             "colorbar": {
              "outlinewidth": 0,
              "ticks": ""
             }
            },
            "type": "parcoords"
           }
          ],
          "pie": [
           {
            "automargin": true,
            "type": "pie"
           }
          ],
          "scatter": [
           {
            "fillpattern": {
             "fillmode": "overlay",
             "size": 10,
             "solidity": 0.2
            },
            "type": "scatter"
           }
          ],
          "scatter3d": [
           {
            "line": {
             "colorbar": {
              "outlinewidth": 0,
              "ticks": ""
             }
            },
            "marker": {
             "colorbar": {
              "outlinewidth": 0,
              "ticks": ""
             }
            },
            "type": "scatter3d"
           }
          ],
          "scattercarpet": [
           {
            "marker": {
             "colorbar": {
              "outlinewidth": 0,
              "ticks": ""
             }
            },
            "type": "scattercarpet"
           }
          ],
          "scattergeo": [
           {
            "marker": {
             "colorbar": {
              "outlinewidth": 0,
              "ticks": ""
             }
            },
            "type": "scattergeo"
           }
          ],
          "scattergl": [
           {
            "marker": {
             "colorbar": {
              "outlinewidth": 0,
              "ticks": ""
             }
            },
            "type": "scattergl"
           }
          ],
          "scattermap": [
           {
            "marker": {
             "colorbar": {
              "outlinewidth": 0,
              "ticks": ""
             }
            },
            "type": "scattermap"
           }
          ],
          "scattermapbox": [
           {
            "marker": {
             "colorbar": {
              "outlinewidth": 0,
              "ticks": ""
             }
            },
            "type": "scattermapbox"
           }
          ],
          "scatterpolar": [
           {
            "marker": {
             "colorbar": {
              "outlinewidth": 0,
              "ticks": ""
             }
            },
            "type": "scatterpolar"
           }
          ],
          "scatterpolargl": [
           {
            "marker": {
             "colorbar": {
              "outlinewidth": 0,
              "ticks": ""
             }
            },
            "type": "scatterpolargl"
           }
          ],
          "scatterternary": [
           {
            "marker": {
             "colorbar": {
              "outlinewidth": 0,
              "ticks": ""
             }
            },
            "type": "scatterternary"
           }
          ],
          "surface": [
           {
            "colorbar": {
             "outlinewidth": 0,
             "ticks": ""
            },
            "colorscale": [
             [
              0,
              "#0d0887"
             ],
             [
              0.1111111111111111,
              "#46039f"
             ],
             [
              0.2222222222222222,
              "#7201a8"
             ],
             [
              0.3333333333333333,
              "#9c179e"
             ],
             [
              0.4444444444444444,
              "#bd3786"
             ],
             [
              0.5555555555555556,
              "#d8576b"
             ],
             [
              0.6666666666666666,
              "#ed7953"
             ],
             [
              0.7777777777777778,
              "#fb9f3a"
             ],
             [
              0.8888888888888888,
              "#fdca26"
             ],
             [
              1,
              "#f0f921"
             ]
            ],
            "type": "surface"
           }
          ],
          "table": [
           {
            "cells": {
             "fill": {
              "color": "#EBF0F8"
             },
             "line": {
              "color": "white"
             }
            },
            "header": {
             "fill": {
              "color": "#C8D4E3"
             },
             "line": {
              "color": "white"
             }
            },
            "type": "table"
           }
          ]
         },
         "layout": {
          "annotationdefaults": {
           "arrowcolor": "#2a3f5f",
           "arrowhead": 0,
           "arrowwidth": 1
          },
          "autotypenumbers": "strict",
          "coloraxis": {
           "colorbar": {
            "outlinewidth": 0,
            "ticks": ""
           }
          },
          "colorscale": {
           "diverging": [
            [
             0,
             "#8e0152"
            ],
            [
             0.1,
             "#c51b7d"
            ],
            [
             0.2,
             "#de77ae"
            ],
            [
             0.3,
             "#f1b6da"
            ],
            [
             0.4,
             "#fde0ef"
            ],
            [
             0.5,
             "#f7f7f7"
            ],
            [
             0.6,
             "#e6f5d0"
            ],
            [
             0.7,
             "#b8e186"
            ],
            [
             0.8,
             "#7fbc41"
            ],
            [
             0.9,
             "#4d9221"
            ],
            [
             1,
             "#276419"
            ]
           ],
           "sequential": [
            [
             0,
             "#0d0887"
            ],
            [
             0.1111111111111111,
             "#46039f"
            ],
            [
             0.2222222222222222,
             "#7201a8"
            ],
            [
             0.3333333333333333,
             "#9c179e"
            ],
            [
             0.4444444444444444,
             "#bd3786"
            ],
            [
             0.5555555555555556,
             "#d8576b"
            ],
            [
             0.6666666666666666,
             "#ed7953"
            ],
            [
             0.7777777777777778,
             "#fb9f3a"
            ],
            [
             0.8888888888888888,
             "#fdca26"
            ],
            [
             1,
             "#f0f921"
            ]
           ],
           "sequentialminus": [
            [
             0,
             "#0d0887"
            ],
            [
             0.1111111111111111,
             "#46039f"
            ],
            [
             0.2222222222222222,
             "#7201a8"
            ],
            [
             0.3333333333333333,
             "#9c179e"
            ],
            [
             0.4444444444444444,
             "#bd3786"
            ],
            [
             0.5555555555555556,
             "#d8576b"
            ],
            [
             0.6666666666666666,
             "#ed7953"
            ],
            [
             0.7777777777777778,
             "#fb9f3a"
            ],
            [
             0.8888888888888888,
             "#fdca26"
            ],
            [
             1,
             "#f0f921"
            ]
           ]
          },
          "colorway": [
           "#636efa",
           "#EF553B",
           "#00cc96",
           "#ab63fa",
           "#FFA15A",
           "#19d3f3",
           "#FF6692",
           "#B6E880",
           "#FF97FF",
           "#FECB52"
          ],
          "font": {
           "color": "#2a3f5f"
          },
          "geo": {
           "bgcolor": "white",
           "lakecolor": "white",
           "landcolor": "#E5ECF6",
           "showlakes": true,
           "showland": true,
           "subunitcolor": "white"
          },
          "hoverlabel": {
           "align": "left"
          },
          "hovermode": "closest",
          "mapbox": {
           "style": "light"
          },
          "paper_bgcolor": "white",
          "plot_bgcolor": "#E5ECF6",
          "polar": {
           "angularaxis": {
            "gridcolor": "white",
            "linecolor": "white",
            "ticks": ""
           },
           "bgcolor": "#E5ECF6",
           "radialaxis": {
            "gridcolor": "white",
            "linecolor": "white",
            "ticks": ""
           }
          },
          "scene": {
           "xaxis": {
            "backgroundcolor": "#E5ECF6",
            "gridcolor": "white",
            "gridwidth": 2,
            "linecolor": "white",
            "showbackground": true,
            "ticks": "",
            "zerolinecolor": "white"
           },
           "yaxis": {
            "backgroundcolor": "#E5ECF6",
            "gridcolor": "white",
            "gridwidth": 2,
            "linecolor": "white",
            "showbackground": true,
            "ticks": "",
            "zerolinecolor": "white"
           },
           "zaxis": {
            "backgroundcolor": "#E5ECF6",
            "gridcolor": "white",
            "gridwidth": 2,
            "linecolor": "white",
            "showbackground": true,
            "ticks": "",
            "zerolinecolor": "white"
           }
          },
          "shapedefaults": {
           "line": {
            "color": "#2a3f5f"
           }
          },
          "ternary": {
           "aaxis": {
            "gridcolor": "white",
            "linecolor": "white",
            "ticks": ""
           },
           "baxis": {
            "gridcolor": "white",
            "linecolor": "white",
            "ticks": ""
           },
           "bgcolor": "#E5ECF6",
           "caxis": {
            "gridcolor": "white",
            "linecolor": "white",
            "ticks": ""
           }
          },
          "title": {
           "x": 0.05
          },
          "xaxis": {
           "automargin": true,
           "gridcolor": "white",
           "linecolor": "white",
           "ticks": "",
           "title": {
            "standoff": 15
           },
           "zerolinecolor": "white",
           "zerolinewidth": 2
          },
          "yaxis": {
           "automargin": true,
           "gridcolor": "white",
           "linecolor": "white",
           "ticks": "",
           "title": {
            "standoff": 15
           },
           "zerolinecolor": "white",
           "zerolinewidth": 2
          }
         }
        },
        "xaxis": {
         "anchor": "y",
         "domain": [
          0,
          0.31999999999999995
         ],
         "title": {
          "text": "Score"
         }
        },
        "xaxis2": {
         "anchor": "y2",
         "domain": [
          0.33999999999999997,
          0.6599999999999999
         ],
         "matches": "x",
         "title": {
          "text": "Score"
         }
        },
        "xaxis3": {
         "anchor": "y3",
         "domain": [
          0.6799999999999999,
          0.9999999999999999
         ],
         "matches": "x",
         "title": {
          "text": "Score"
         }
        },
        "yaxis": {
         "anchor": "x",
         "domain": [
          0,
          1
         ],
         "title": {
          "text": "obtained_from"
         }
        },
        "yaxis2": {
         "anchor": "x2",
         "domain": [
          0,
          1
         ],
         "matches": "y",
         "showticklabels": false
        },
        "yaxis3": {
         "anchor": "x3",
         "domain": [
          0,
          1
         ],
         "matches": "y",
         "showticklabels": false
        }
       }
      }
     },
     "metadata": {},
     "output_type": "display_data"
    },
    {
     "data": {
      "image/png": "[encoded data removed]",
      "text/plain": [
       "<Figure size 640x480 with 1 Axes>"
      ]
     },
     "metadata": {},
     "output_type": "display_data"
    }
   ],
   "source": [
    "grid = []\n",
    "grid.append(sns.FacetGrid(data=dogs, col='obtained_from', sharey=False))\n",
    "grid[0].map(sns.histplot, \"Sensitive_touch\")\n",
    "\n",
    "grid.append(sns.FacetGrid(data=dogs, col='obtained_from', sharey=False))\n",
    "grid[1].map(sns.histplot, \"Anxious\")\n",
    "\n",
    "grid.append(sns.FacetGrid(data=dogs, col='obtained_from', sharey=False))\n",
    "grid[2].map(sns.histplot, \"Human_oriented\")\n",
    "\n",
    "for gr in grid:\n",
    "    plt.show(gr)\n",
    "\n",
    "dogs_melted = dogs.melt(id_vars=['obtained_from'], \n",
    "                        value_vars=['Sensitive_touch', 'Anxious', 'Human_oriented'],\n",
    "                        var_name='Behavior', \n",
    "                        value_name='Score')\n",
    "\n",
    "priemery = dogs_melted.groupby([\"Behavior\", \"obtained_from\"])[\"Score\"].mean().reset_index()\n",
    "\n",
    "dogs[\"interval\"] = pd.cut(x = dogs[\"dog_aggression_score\"], bins = np.linspace(dogs[\"dog_aggression_score\"].min(), dogs[\"dog_aggression_score\"].max(), 50))\n",
    "priemery2 = dogs.groupby(\"interval\", observed = False)[\"noise_sensitivity_score\"].mean().reset_index()\n",
    "\n",
    "boolseries = dogs.reset_index().groupby(\"interval\", observed= False)[\"dog.id\"].count() < 10\n",
    "\n",
    "axe = sns.barplot(data=priemery2, x = \"interval\", y = \"noise_sensitivity_score\")\n",
    "sns.stripplot(data = dogs.iloc[list(dogs[\"interval\"].replace(boolseries).fillna(False)), :], x = \"interval\", y = \"noise_sensitivity_score\", ax = axe)\n",
    "labels = np.array(np.round(np.linspace(dogs[\"dog_aggression_score\"].min(), dogs[\"dog_aggression_score\"].max(), 50), decimals = 2), dtype = str)\n",
    "labels[1::2] = \"\"\n",
    "axe.set_xticklabels(labels, rotation = 45)\n",
    "\n",
    "px.bar(data_frame= priemery, x = \"Score\", y = \"obtained_from\", facet_col= \"Behavior\", facet_col_wrap=3).show()"
   ]
  }
 ],
 "metadata": {
  "kernelspec": {
   "display_name": "Python 3",
   "language": "python",
   "name": "python3"
  },
  "language_info": {
   "codemirror_mode": {
    "name": "ipython",
    "version": 3
   },
   "file_extension": ".py",
   "mimetype": "text/x-python",
   "name": "python",
   "nbconvert_exporter": "python",
   "pygments_lexer": "ipython3",
   "version": "3.13.2"
  }
 },
 "nbformat": 4,
 "nbformat_minor": 2
}
