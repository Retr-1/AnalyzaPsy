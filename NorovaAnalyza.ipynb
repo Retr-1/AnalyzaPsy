{
 "cells": [
  {
   "cell_type": "code",
   "execution_count": null,
   "metadata": {},
   "outputs": [],
   "source": [
    "import numpy as np\n",
    "import pandas as pd\n",
    "import matplotlib.pyplot as plt\n",
    "import seaborn as sns\n",
    "import plotly.express as px\n",
    "from IPython.display import Markdown"
   ]
  },
  {
   "cell_type": "code",
   "execution_count": null,
   "metadata": {},
   "outputs": [],
   "source": [
    "dogs = pd.read_csv(\"psy_data.csv\", header=0).set_index(\"dog.id\")\n",
    "display(dogs.head())\n",
    "dog_info = pd.read_csv(\"psy_info.csv\", header=1)\n",
    "print(dogs.columns[10:100])\n"
   ]
  },
  {
   "cell_type": "code",
   "execution_count": null,
   "metadata": {},
   "outputs": [],
   "source": [
    "dogs[\"rounded_weight\"] = np.floor(dogs[\"weight_kg\"])\n",
    "display(dogs.sort_values(\"weight_kg\").loc[:,[\"weight_kg\", \"rounded_weight\", \"Aggressive_dogs_samegender\"]].head(15))\n",
    "q1 = dogs[\"rounded_weight\"].quantile(0.25)\n",
    "q3 = dogs[\"rounded_weight\"].quantile(0.75)\n",
    "iqr = q3 - q1\n",
    "lower = q1 - 1.5*iqr\n",
    "upper = q3 + 1.5*iqr\n",
    "\n",
    "figure, axes = plt.subplots(2, 1, figsize = (15, 15), sharey = False)\n",
    "sns.histplot(data = dogs, x = \"weight_kg\", ax = axes[0])\n",
    "\n",
    "aggression_per_weight_samegender = pd.DataFrame(dogs.query(\"rounded_weight > @lower and rounded_weight < @upper\").groupby(\"rounded_weight\").mean(\"Aggressive_dogs_samegender\")[\"Aggressive_dogs_samegender\"])\n",
    "sns.lineplot(data = aggression_per_weight_samegender, x = \"rounded_weight\", y = \"Aggressive_dogs_samegender\", label = \"Aggressive_samegender\", ax = axes[1])\n",
    "\n",
    "aggression_per_weight_people = pd.DataFrame(dogs.query(\"rounded_weight > @lower and rounded_weight < @upper\").groupby(\"rounded_weight\").mean(\"Aggressive_people\")[\"Aggressive_people\"])\n",
    "sns.lineplot(data = aggression_per_weight_people , x = \"rounded_weight\", y = \"Aggressive_people\", label = \"Aggressive_people\", ax = axes[1])\n",
    "\n",
    "aggression_per_weight_oppositegender = pd.DataFrame(dogs.query(\"rounded_weight > @lower and rounded_weight < @upper\").groupby(\"rounded_weight\").mean(\"Aggressive_dogs_oppositegender\")[\"Aggressive_dogs_oppositegender\"])\n",
    "sns.lineplot(data = aggression_per_weight_oppositegender , x = \"rounded_weight\", y = \"Aggressive_dogs_oppositegender\", label = \"Aggressive_dogs_oppositegender\", ax = axes[1])"
   ]
  },
  {
   "cell_type": "code",
   "execution_count": null,
   "metadata": {},
   "outputs": [],
   "source": [
    "grid = []\n",
    "grid.append(sns.FacetGrid(data=dogs, col='obtained_from', sharey=False))\n",
    "grid[0].map(sns.countplot, \"Sensitive_touch\")\n",
    "\n",
    "grid.append(sns.FacetGrid(data=dogs, col='obtained_from', sharey=False))\n",
    "grid[1].map(sns.countplot, \"Anxious\")\n",
    "\n",
    "grid.append(sns.FacetGrid(data=dogs, col='obtained_from', sharey=False))\n",
    "grid[2].map(sns.countplot, \"Human_oriented\")\n",
    "\n",
    "for gr in grid:\n",
    "    plt.show(gr)\n",
    "\n",
    "dogs_melted = dogs.melt(id_vars=['obtained_from'], \n",
    "                        value_vars=['Sensitive_touch', 'Anxious', 'Human_oriented'],\n",
    "                        var_name='Behavior', \n",
    "                        value_name='Score')\n",
    "\n",
    "priemery = dogs_melted.groupby([\"Behavior\", \"obtained_from\"])[\"Score\"].mean().reset_index()\n",
    "\n",
    "priemerydict = {}\n",
    "booldict = {}\n",
    "for x in [\"dog_aggression_score\", \"owner_aggression_score\", \"stranger_aggression_score\", \"barking_score\"]:\n",
    "    dogs[x + \"_interval\"] = pd.cut(x = dogs[x], bins = np.linspace(dogs[x].min(), dogs[x].max(), 50))\n",
    "    priemerydict[x] = dogs.groupby(x + \"_interval\", observed = False)[\"noise_sensitivity_score\"].mean().reset_index()\n",
    "    booldict[x] = dogs.reset_index().groupby(x + \"_interval\", observed= False)[\"dog.id\"].count() < 10\n",
    "\n",
    "figure, axes = plt.subplots(2, 2, figsize = (12, 10))\n",
    "for i, n in enumerate([\"dog_aggression_score\", \"owner_aggression_score\", \"stranger_aggression_score\", \"barking_score\"]):\n",
    "    sns.barplot(data=priemerydict[n], x = n + \"_interval\", y = \"noise_sensitivity_score\", ax = axes[i//2][i%2], color = \"maroon\")\n",
    "    sns.stripplot(data = dogs.iloc[list(dogs[n + \"_interval\"].replace(booldict[n]).fillna(False)), :], x = n + \"_interval\", y = \"noise_sensitivity_score\", ax = axes[i//2][i%2], color = \"goldenrod\")\n",
    "    labels = np.array(np.round(np.linspace(dogs[x].min(), dogs[x].max(), 50), decimals = 2), dtype = str)\n",
    "    labels[1::2] = \"\"\n",
    "    nazov = n.split(\"_\")\n",
    "    if len(nazov) == 3:\n",
    "        axes[i//2][i%2].set_title(f\"Noise sensitivity by {nazov[0]} {nazov[1]} {nazov[2]}\")\n",
    "    else:\n",
    "        axes[i//2][i%2].set_title(f\"Noise sensitivity by {nazov[0]} {nazov[1]}\")\n",
    "    axes[i//2][i%2].set_xticklabels(labels, rotation = 45)\n",
    "    axes[i//2][i%2].set_xlabel(n)\n",
    "\n",
    "figure.subplots_adjust(hspace=0.5)\n",
    "px.bar(data_frame= priemery, x = \"Score\", y = \"obtained_from\", facet_col= \"Behavior\", facet_col_wrap=3).show()"
   ]
  }
 ],
 "metadata": {
  "language_info": {
   "name": "python"
  }
 },
 "nbformat": 4,
 "nbformat_minor": 2
}
