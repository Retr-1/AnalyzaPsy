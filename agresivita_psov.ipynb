{
 "cells": [
  {
   "cell_type": "code",
   "execution_count": 2,
   "id": "b1f98c23",
   "metadata": {},
   "outputs": [],
   "source": [
    "import pandas as pd\n",
    "import seaborn as sns\n",
    "import matplotlib.pyplot as plt\n",
    "import plotly.express as px\n",
    "import plotly.graph_objects as go\n",
    "from IPython.display import Markdown"
   ]
  },
  {
   "cell_type": "code",
   "execution_count": 3,
   "id": "debb2896",
   "metadata": {},
   "outputs": [],
   "source": [
    "# Load data\n",
    "with open('psy_data.csv', 'r', encoding='utf-8') as f:\n",
    "    # dogs = pd.read_excel(f, sheet_name='Dataset', header=0)\n",
    "    dogs = pd.read_csv(f, header=0, index_col=0)\n"
   ]
  },
  {
   "cell_type": "markdown",
   "id": "748d71f0",
   "metadata": {},
   "source": [
    "# Čo spôsobuje agresivitu u psov, respektíve aké sú znaky agresívnych psov ?\n",
    "(Sem píšte všetky možné nápady a ich výsledky. Odporúčám písať obyčajné .py scripty a potom ich len importnete (nie from ... import *) v príslušnej code bunke, alebo píšte kód tak, aby neprepisoval premenne inych, rozhodne nie premennu dogs, mozete pouzit funkcie)"
   ]
  },
  {
   "cell_type": "markdown",
   "id": "86483f24",
   "metadata": {},
   "source": [
    "## Agresivita v závislosti od plemena"
   ]
  },
  {
   "cell_type": "code",
   "execution_count": 4,
   "id": "594cc7ec",
   "metadata": {},
   "outputs": [
    {
     "data": {
      "application/vnd.plotly.v1+json": {
       "config": {
        "plotlyServerURL": "https://plot.ly"
       },
       "data": [
        {
         "hovertemplate": "variable=Aggressive_dogs_samegender<br>value=%{x}<br>breed_group=%{y}<extra></extra>",
         "legendgroup": "Aggressive_dogs_samegender",
         "marker": {
          "color": "#636efa",
          "pattern": {
           "shape": ""
          }
         },
         "name": "Aggressive_dogs_samegender",
         "orientation": "h",
         "showlegend": true,
         "textposition": "auto",
         "type": "bar",
         "x": {
          "bdata": "RO8W16lG9j95dOA935j2P6uqqqqqqvY/O/SbrUO/+T9A2Hg0f7D5P7iyzyE1wfg/R7XlKmlU+z9cj8L1KFz7P5EHrqKdKf0/vHmE6jNt/T8T2LSfLIH9P/rGtAkoRf0/Wblxxegv/T9Xi5swv6v9P0VAfDQhL/w/UFQPGnnn/z9DeQ3lNZT8PwAAAAAAAP8/r66urq6u/j9oL6G9hPb8P7bWWmuttf4/LPnFkl8sAUDBomBRsCgAQHcZU74OSwBAfyLhlObF/z9Ob3rTm14AQDX2MAvIFwFAT3D0BEdPAED0dG6vJYcAQOsGU+SzbgBArbXWWmutAUDGhytaX3wAQM3MzMzMzABAmpmZmZlZAUDSHGmONEcCQHwXDqLHdwFAwLVE7m8tAUC66KKLLroAQMprKK+hPAFAuawYKOGNAkBAbCoNOfcBQC8cRI/vwgFA6IDdHmsZAkDl0CLb+X4CQK/yTHzcdwNAAAAAAADgA0DUmcYNjDoDQA5jtfW3BwZA5DiO4zgOA0AW01lMZzEFQAZbsAVbsAVASW0ltZXUBkA=",
          "dtype": "f8"
         },
         "xaxis": "x",
         "y": [
          "Labrador_Retriever",
          "Golden_Retriever",
          "Other_breed",
          "Bernese_Mountain_Dogs",
          "Shetland_Sheepdog",
          "Scenthounds",
          "Whippet",
          "Collie_Rough",
          "Northern_companion_spitz",
          "Pointers",
          "Schapendoes",
          "European_sighthounds",
          "Retrievers_flushing_dogs",
          "Mastiff_type_dogs",
          "Bichon_type_dogs",
          "Sled_dogs",
          "Other_companion_dogs",
          "Nova_Scotia_Duck_Tolling_Retriever",
          "White_Swiss_Shepherd_Dog",
          "Lagotto_Romagnolo_Romagna_Water_Dog",
          "Miniature_Schnauzer",
          "Finnish_Lapphund",
          "Collie_Smooth",
          "Dachshunds",
          "Poodles",
          "German_spitz_related",
          "Bull_type_terriers",
          "Pinschers_Schnauzers",
          "Brachycephalic_dogs",
          "Teacup_dogs",
          "Hunting_terriers",
          "Spanish_Water_Dog",
          "Border_Collie",
          "Yard_terriers",
          "Welsh_Corgis",
          "Middle_European_utility_dogs",
          "English_herders",
          "Livestock_guardian_dogs",
          "Australian_Shepherd",
          "Northern_hunting_spitz",
          "Primitive_sighthounds",
          "Mixed_breed",
          "Chinese_Crested_Dog",
          "Middle_European_herders",
          "Jack_Russell_Terrier",
          "Japanese_Asian_primitive",
          "Belgian_shepherd_dogs",
          "Lapponian_Herder",
          "Miniature_Pinscher",
          "Parson_type_terriers",
          "German_Shepherd_Dog",
          "Fighting_dogs"
         ],
         "yaxis": "y"
        },
        {
         "hovertemplate": "variable=Aggressive_people<br>value=%{x}<br>breed_group=%{y}<extra></extra>",
         "legendgroup": "Aggressive_people",
         "marker": {
          "color": "#EF553B",
          "pattern": {
           "shape": ""
          }
         },
         "name": "Aggressive_people",
         "orientation": "h",
         "showlegend": true,
         "textposition": "auto",
         "type": "bar",
         "x": {
          "bdata": "dmIndmIn8T+pCcZb2efwP1IxtzojFfM/ztah32wd8j/ti6jW2RfxPycYb2WfQ/I/Egu40x+x8D+gcnYLvxrzP1fRzpRef/E/ua9lssgB8j8jFXOrM1LxP5k2AaWol/E/426+V87c8j/Zz8P0cQ7yP83MzMzMzPM/ep7neZ7n8T+7EGa7EGbzP4gDHn844PE/ZzGdxXQW8z/3EtpLaC/1P51zzjnnnPM/1kdJ+K+B8T+VmEpMJabyP1VVVVVV1fM/Ut/ZqO9s9D9uuOGGG270P9YNpshn3fA//rSFBizp9T9yIepm0LLzPxX5rBtMkfM/a6211lpr8T/GGGOMMcb0P2IndmIndvI/hNpuNX2j8z9eQ3kN5TXyPxKICzUngfQ/c08jLPc09D9xPQrXo3D1P1VVVVVVVfU/v/aQy4qB8j9PTSr699T0P9tfan+p/fU/07z4Ewmn9D8AAAAAADD2P5U1ZU1ZU/I/u6KuqCvq8j8Icx6Xvv31P9HOlF5/cfI/HMdxHMdx+D/xcd8thf70PxphuacRlvU/1aY2talN9T8=",
          "dtype": "f8"
         },
         "xaxis": "x",
         "y": [
          "Labrador_Retriever",
          "Golden_Retriever",
          "Other_breed",
          "Bernese_Mountain_Dogs",
          "Shetland_Sheepdog",
          "Scenthounds",
          "Whippet",
          "Collie_Rough",
          "Northern_companion_spitz",
          "Pointers",
          "Schapendoes",
          "European_sighthounds",
          "Retrievers_flushing_dogs",
          "Mastiff_type_dogs",
          "Bichon_type_dogs",
          "Sled_dogs",
          "Other_companion_dogs",
          "Nova_Scotia_Duck_Tolling_Retriever",
          "White_Swiss_Shepherd_Dog",
          "Lagotto_Romagnolo_Romagna_Water_Dog",
          "Miniature_Schnauzer",
          "Finnish_Lapphund",
          "Collie_Smooth",
          "Dachshunds",
          "Poodles",
          "German_spitz_related",
          "Bull_type_terriers",
          "Pinschers_Schnauzers",
          "Brachycephalic_dogs",
          "Teacup_dogs",
          "Hunting_terriers",
          "Spanish_Water_Dog",
          "Border_Collie",
          "Yard_terriers",
          "Welsh_Corgis",
          "Middle_European_utility_dogs",
          "English_herders",
          "Livestock_guardian_dogs",
          "Australian_Shepherd",
          "Northern_hunting_spitz",
          "Primitive_sighthounds",
          "Mixed_breed",
          "Chinese_Crested_Dog",
          "Middle_European_herders",
          "Jack_Russell_Terrier",
          "Japanese_Asian_primitive",
          "Belgian_shepherd_dogs",
          "Lapponian_Herder",
          "Miniature_Pinscher",
          "Parson_type_terriers",
          "German_Shepherd_Dog",
          "Fighting_dogs"
         ],
         "yaxis": "y"
        },
        {
         "hovertemplate": "variable=Aggressive_dogs_oppositegender<br>value=%{x}<br>breed_group=%{y}<extra></extra>",
         "legendgroup": "Aggressive_dogs_oppositegender",
         "marker": {
          "color": "#00cc96",
          "pattern": {
           "shape": ""
          }
         },
         "name": "Aggressive_dogs_oppositegender",
         "orientation": "h",
         "showlegend": true,
         "textposition": "auto",
         "type": "bar",
         "x": {
          "bdata": "B/utNoam8z9dobmdyqPzP8NB9PguHPQ/1AjLPY2w9D+6VxKpLMj1P9nnkJpgvPU/etOb3vSm9z9VVVVVVVX1Px2b74Yf1fU/3fj31hGU9j+F9hLaS2j3PwTv+ca0Cfg/LMI/TvcA9z8dDMX8U3j3PxbFOOV2f/c/I+/8LU5r9j/T2pN/53L4P1VVVVVVVfg/5ijdvrJ69z8T2ktoL6H3PxZYYIEFFvg/O+NmoUnN9z9GwaJgUbD4P8cKhJF2rPg/BHZ7rGXo+D+dUaWdwif5P8Iz/Q26Xfs/Kz8hzspP+D+315JDXGX6P7nSvQFl4vo/kBB45gay+j+dn0oIyPn5P5q/mAGd+fs/mpmZmZkZ+j+ivIbyGsr5P+0b1r5h7fk/7m8tkftb+z9cj8L1KFz7P0OY7UKY7fo/cSsUt0Jx+z/hehSuR+H6P24nz+B28vw/OmC3x1qG/j8URVEURVH8P5uypqwpa/4/Ly8vLy8v/z8PbX+P3aH9P3+2WBm+Ef0/VVVVVVVV/T97CusprKcAQIb3wnvhvQBAv6Av6Av6AEA=",
          "dtype": "f8"
         },
         "xaxis": "x",
         "y": [
          "Labrador_Retriever",
          "Golden_Retriever",
          "Other_breed",
          "Bernese_Mountain_Dogs",
          "Shetland_Sheepdog",
          "Scenthounds",
          "Whippet",
          "Collie_Rough",
          "Northern_companion_spitz",
          "Pointers",
          "Schapendoes",
          "European_sighthounds",
          "Retrievers_flushing_dogs",
          "Mastiff_type_dogs",
          "Bichon_type_dogs",
          "Sled_dogs",
          "Other_companion_dogs",
          "Nova_Scotia_Duck_Tolling_Retriever",
          "White_Swiss_Shepherd_Dog",
          "Lagotto_Romagnolo_Romagna_Water_Dog",
          "Miniature_Schnauzer",
          "Finnish_Lapphund",
          "Collie_Smooth",
          "Dachshunds",
          "Poodles",
          "German_spitz_related",
          "Bull_type_terriers",
          "Pinschers_Schnauzers",
          "Brachycephalic_dogs",
          "Teacup_dogs",
          "Hunting_terriers",
          "Spanish_Water_Dog",
          "Border_Collie",
          "Yard_terriers",
          "Welsh_Corgis",
          "Middle_European_utility_dogs",
          "English_herders",
          "Livestock_guardian_dogs",
          "Australian_Shepherd",
          "Northern_hunting_spitz",
          "Primitive_sighthounds",
          "Mixed_breed",
          "Chinese_Crested_Dog",
          "Middle_European_herders",
          "Jack_Russell_Terrier",
          "Japanese_Asian_primitive",
          "Belgian_shepherd_dogs",
          "Lapponian_Herder",
          "Miniature_Pinscher",
          "Parson_type_terriers",
          "German_Shepherd_Dog",
          "Fighting_dogs"
         ],
         "yaxis": "y"
        }
       ],
       "layout": {
        "barmode": "relative",
        "legend": {
         "title": {
          "text": "variable"
         },
         "tracegroupgap": 0
        },
        "margin": {
         "t": 60
        },
        "template": {
         "data": {
          "bar": [
           {
            "error_x": {
             "color": "#2a3f5f"
            },
            "error_y": {
             "color": "#2a3f5f"
            },
            "marker": {
             "line": {
              "color": "#E5ECF6",
              "width": 0.5
             },
             "pattern": {
              "fillmode": "overlay",
              "size": 10,
              "solidity": 0.2
             }
            },
            "type": "bar"
           }
          ],
          "barpolar": [
           {
            "marker": {
             "line": {
              "color": "#E5ECF6",
              "width": 0.5
             },
             "pattern": {
              "fillmode": "overlay",
              "size": 10,
              "solidity": 0.2
             }
            },
            "type": "barpolar"
           }
          ],
          "carpet": [
           {
            "aaxis": {
             "endlinecolor": "#2a3f5f",
             "gridcolor": "white",
             "linecolor": "white",
             "minorgridcolor": "white",
             "startlinecolor": "#2a3f5f"
            },
            "baxis": {
             "endlinecolor": "#2a3f5f",
             "gridcolor": "white",
             "linecolor": "white",
             "minorgridcolor": "white",
             "startlinecolor": "#2a3f5f"
            },
            "type": "carpet"
           }
          ],
          "choropleth": [
           {
            "colorbar": {
             "outlinewidth": 0,
             "ticks": ""
            },
            "type": "choropleth"
           }
          ],
          "contour": [
           {
            "colorbar": {
             "outlinewidth": 0,
             "ticks": ""
            },
            "colorscale": [
             [
              0,
              "#0d0887"
             ],
             [
              0.1111111111111111,
              "#46039f"
             ],
             [
              0.2222222222222222,
              "#7201a8"
             ],
             [
              0.3333333333333333,
              "#9c179e"
             ],
             [
              0.4444444444444444,
              "#bd3786"
             ],
             [
              0.5555555555555556,
              "#d8576b"
             ],
             [
              0.6666666666666666,
              "#ed7953"
             ],
             [
              0.7777777777777778,
              "#fb9f3a"
             ],
             [
              0.8888888888888888,
              "#fdca26"
             ],
             [
              1,
              "#f0f921"
             ]
            ],
            "type": "contour"
           }
          ],
          "contourcarpet": [
           {
            "colorbar": {
             "outlinewidth": 0,
             "ticks": ""
            },
            "type": "contourcarpet"
           }
          ],
          "heatmap": [
           {
            "colorbar": {
             "outlinewidth": 0,
             "ticks": ""
            },
            "colorscale": [
             [
              0,
              "#0d0887"
             ],
             [
              0.1111111111111111,
              "#46039f"
             ],
             [
              0.2222222222222222,
              "#7201a8"
             ],
             [
              0.3333333333333333,
              "#9c179e"
             ],
             [
              0.4444444444444444,
              "#bd3786"
             ],
             [
              0.5555555555555556,
              "#d8576b"
             ],
             [
              0.6666666666666666,
              "#ed7953"
             ],
             [
              0.7777777777777778,
              "#fb9f3a"
             ],
             [
              0.8888888888888888,
              "#fdca26"
             ],
             [
              1,
              "#f0f921"
             ]
            ],
            "type": "heatmap"
           }
          ],
          "histogram": [
           {
            "marker": {
             "pattern": {
              "fillmode": "overlay",
              "size": 10,
              "solidity": 0.2
             }
            },
            "type": "histogram"
           }
          ],
          "histogram2d": [
           {
            "colorbar": {
             "outlinewidth": 0,
             "ticks": ""
            },
            "colorscale": [
             [
              0,
              "#0d0887"
             ],
             [
              0.1111111111111111,
              "#46039f"
             ],
             [
              0.2222222222222222,
              "#7201a8"
             ],
             [
              0.3333333333333333,
              "#9c179e"
             ],
             [
              0.4444444444444444,
              "#bd3786"
             ],
             [
              0.5555555555555556,
              "#d8576b"
             ],
             [
              0.6666666666666666,
              "#ed7953"
             ],
             [
              0.7777777777777778,
              "#fb9f3a"
             ],
             [
              0.8888888888888888,
              "#fdca26"
             ],
             [
              1,
              "#f0f921"
             ]
            ],
            "type": "histogram2d"
           }
          ],
          "histogram2dcontour": [
           {
            "colorbar": {
             "outlinewidth": 0,
             "ticks": ""
            },
            "colorscale": [
             [
              0,
              "#0d0887"
             ],
             [
              0.1111111111111111,
              "#46039f"
             ],
             [
              0.2222222222222222,
              "#7201a8"
             ],
             [
              0.3333333333333333,
              "#9c179e"
             ],
             [
              0.4444444444444444,
              "#bd3786"
             ],
             [
              0.5555555555555556,
              "#d8576b"
             ],
             [
              0.6666666666666666,
              "#ed7953"
             ],
             [
              0.7777777777777778,
              "#fb9f3a"
             ],
             [
              0.8888888888888888,
              "#fdca26"
             ],
             [
              1,
              "#f0f921"
             ]
            ],
            "type": "histogram2dcontour"
           }
          ],
          "mesh3d": [
           {
            "colorbar": {
             "outlinewidth": 0,
             "ticks": ""
            },
            "type": "mesh3d"
           }
          ],
          "parcoords": [
           {
            "line": {
             "colorbar": {
              "outlinewidth": 0,
              "ticks": ""
             }
            },
            "type": "parcoords"
           }
          ],
          "pie": [
           {
            "automargin": true,
            "type": "pie"
           }
          ],
          "scatter": [
           {
            "fillpattern": {
             "fillmode": "overlay",
             "size": 10,
             "solidity": 0.2
            },
            "type": "scatter"
           }
          ],
          "scatter3d": [
           {
            "line": {
             "colorbar": {
              "outlinewidth": 0,
              "ticks": ""
             }
            },
            "marker": {
             "colorbar": {
              "outlinewidth": 0,
              "ticks": ""
             }
            },
            "type": "scatter3d"
           }
          ],
          "scattercarpet": [
           {
            "marker": {
             "colorbar": {
              "outlinewidth": 0,
              "ticks": ""
             }
            },
            "type": "scattercarpet"
           }
          ],
          "scattergeo": [
           {
            "marker": {
             "colorbar": {
              "outlinewidth": 0,
              "ticks": ""
             }
            },
            "type": "scattergeo"
           }
          ],
          "scattergl": [
           {
            "marker": {
             "colorbar": {
              "outlinewidth": 0,
              "ticks": ""
             }
            },
            "type": "scattergl"
           }
          ],
          "scattermap": [
           {
            "marker": {
             "colorbar": {
              "outlinewidth": 0,
              "ticks": ""
             }
            },
            "type": "scattermap"
           }
          ],
          "scattermapbox": [
           {
            "marker": {
             "colorbar": {
              "outlinewidth": 0,
              "ticks": ""
             }
            },
            "type": "scattermapbox"
           }
          ],
          "scatterpolar": [
           {
            "marker": {
             "colorbar": {
              "outlinewidth": 0,
              "ticks": ""
             }
            },
            "type": "scatterpolar"
           }
          ],
          "scatterpolargl": [
           {
            "marker": {
             "colorbar": {
              "outlinewidth": 0,
              "ticks": ""
             }
            },
            "type": "scatterpolargl"
           }
          ],
          "scatterternary": [
           {
            "marker": {
             "colorbar": {
              "outlinewidth": 0,
              "ticks": ""
             }
            },
            "type": "scatterternary"
           }
          ],
          "surface": [
           {
            "colorbar": {
             "outlinewidth": 0,
             "ticks": ""
            },
            "colorscale": [
             [
              0,
              "#0d0887"
             ],
             [
              0.1111111111111111,
              "#46039f"
             ],
             [
              0.2222222222222222,
              "#7201a8"
             ],
             [
              0.3333333333333333,
              "#9c179e"
             ],
             [
              0.4444444444444444,
              "#bd3786"
             ],
             [
              0.5555555555555556,
              "#d8576b"
             ],
             [
              0.6666666666666666,
              "#ed7953"
             ],
             [
              0.7777777777777778,
              "#fb9f3a"
             ],
             [
              0.8888888888888888,
              "#fdca26"
             ],
             [
              1,
              "#f0f921"
             ]
            ],
            "type": "surface"
           }
          ],
          "table": [
           {
            "cells": {
             "fill": {
              "color": "#EBF0F8"
             },
             "line": {
              "color": "white"
             }
            },
            "header": {
             "fill": {
              "color": "#C8D4E3"
             },
             "line": {
              "color": "white"
             }
            },
            "type": "table"
           }
          ]
         },
         "layout": {
          "annotationdefaults": {
           "arrowcolor": "#2a3f5f",
           "arrowhead": 0,
           "arrowwidth": 1
          },
          "autotypenumbers": "strict",
          "coloraxis": {
           "colorbar": {
            "outlinewidth": 0,
            "ticks": ""
           }
          },
          "colorscale": {
           "diverging": [
            [
             0,
             "#8e0152"
            ],
            [
             0.1,
             "#c51b7d"
            ],
            [
             0.2,
             "#de77ae"
            ],
            [
             0.3,
             "#f1b6da"
            ],
            [
             0.4,
             "#fde0ef"
            ],
            [
             0.5,
             "#f7f7f7"
            ],
            [
             0.6,
             "#e6f5d0"
            ],
            [
             0.7,
             "#b8e186"
            ],
            [
             0.8,
             "#7fbc41"
            ],
            [
             0.9,
             "#4d9221"
            ],
            [
             1,
             "#276419"
            ]
           ],
           "sequential": [
            [
             0,
             "#0d0887"
            ],
            [
             0.1111111111111111,
             "#46039f"
            ],
            [
             0.2222222222222222,
             "#7201a8"
            ],
            [
             0.3333333333333333,
             "#9c179e"
            ],
            [
             0.4444444444444444,
             "#bd3786"
            ],
            [
             0.5555555555555556,
             "#d8576b"
            ],
            [
             0.6666666666666666,
             "#ed7953"
            ],
            [
             0.7777777777777778,
             "#fb9f3a"
            ],
            [
             0.8888888888888888,
             "#fdca26"
            ],
            [
             1,
             "#f0f921"
            ]
           ],
           "sequentialminus": [
            [
             0,
             "#0d0887"
            ],
            [
             0.1111111111111111,
             "#46039f"
            ],
            [
             0.2222222222222222,
             "#7201a8"
            ],
            [
             0.3333333333333333,
             "#9c179e"
            ],
            [
             0.4444444444444444,
             "#bd3786"
            ],
            [
             0.5555555555555556,
             "#d8576b"
            ],
            [
             0.6666666666666666,
             "#ed7953"
            ],
            [
             0.7777777777777778,
             "#fb9f3a"
            ],
            [
             0.8888888888888888,
             "#fdca26"
            ],
            [
             1,
             "#f0f921"
            ]
           ]
          },
          "colorway": [
           "#636efa",
           "#EF553B",
           "#00cc96",
           "#ab63fa",
           "#FFA15A",
           "#19d3f3",
           "#FF6692",
           "#B6E880",
           "#FF97FF",
           "#FECB52"
          ],
          "font": {
           "color": "#2a3f5f"
          },
          "geo": {
           "bgcolor": "white",
           "lakecolor": "white",
           "landcolor": "#E5ECF6",
           "showlakes": true,
           "showland": true,
           "subunitcolor": "white"
          },
          "hoverlabel": {
           "align": "left"
          },
          "hovermode": "closest",
          "mapbox": {
           "style": "light"
          },
          "paper_bgcolor": "white",
          "plot_bgcolor": "#E5ECF6",
          "polar": {
           "angularaxis": {
            "gridcolor": "white",
            "linecolor": "white",
            "ticks": ""
           },
           "bgcolor": "#E5ECF6",
           "radialaxis": {
            "gridcolor": "white",
            "linecolor": "white",
            "ticks": ""
           }
          },
          "scene": {
           "xaxis": {
            "backgroundcolor": "#E5ECF6",
            "gridcolor": "white",
            "gridwidth": 2,
            "linecolor": "white",
            "showbackground": true,
            "ticks": "",
            "zerolinecolor": "white"
           },
           "yaxis": {
            "backgroundcolor": "#E5ECF6",
            "gridcolor": "white",
            "gridwidth": 2,
            "linecolor": "white",
            "showbackground": true,
            "ticks": "",
            "zerolinecolor": "white"
           },
           "zaxis": {
            "backgroundcolor": "#E5ECF6",
            "gridcolor": "white",
            "gridwidth": 2,
            "linecolor": "white",
            "showbackground": true,
            "ticks": "",
            "zerolinecolor": "white"
           }
          },
          "shapedefaults": {
           "line": {
            "color": "#2a3f5f"
           }
          },
          "ternary": {
           "aaxis": {
            "gridcolor": "white",
            "linecolor": "white",
            "ticks": ""
           },
           "baxis": {
            "gridcolor": "white",
            "linecolor": "white",
            "ticks": ""
           },
           "bgcolor": "#E5ECF6",
           "caxis": {
            "gridcolor": "white",
            "linecolor": "white",
            "ticks": ""
           }
          },
          "title": {
           "x": 0.05
          },
          "xaxis": {
           "automargin": true,
           "gridcolor": "white",
           "linecolor": "white",
           "ticks": "",
           "title": {
            "standoff": 15
           },
           "zerolinecolor": "white",
           "zerolinewidth": 2
          },
          "yaxis": {
           "automargin": true,
           "gridcolor": "white",
           "linecolor": "white",
           "ticks": "",
           "title": {
            "standoff": 15
           },
           "zerolinecolor": "white",
           "zerolinewidth": 2
          }
         }
        },
        "xaxis": {
         "anchor": "y",
         "domain": [
          0,
          1
         ],
         "title": {
          "text": "value"
         }
        },
        "yaxis": {
         "anchor": "x",
         "domain": [
          0,
          1
         ],
         "title": {
          "text": "breed_group"
         }
        }
       }
      }
     },
     "metadata": {},
     "output_type": "display_data"
    }
   ],
   "source": [
    "aggressive_columns = ['Aggressive_dogs_samegender', 'Aggressive_people', 'Aggressive_dogs_oppositegender', 'aggressiveness_dominance_score']\n",
    "\n",
    "means = dogs.groupby('breed_group')[aggressive_columns].mean().reset_index()\n",
    "means['Aggressive_columns_sum'] = means[aggressive_columns[0]] + means[aggressive_columns[1]] + means[aggressive_columns[2]]\n",
    "means.sort_values(by='Aggressive_columns_sum', inplace=True)\n",
    "fig = px.bar(means, y='breed_group', x=aggressive_columns[:-1])\n",
    "\n",
    "fig.show()"
   ]
  },
  {
   "cell_type": "markdown",
   "id": "77f13d5a",
   "metadata": {},
   "source": [
    "Ako sme mohli predpokladať, tak bojové plemená majú najväčšiu agresivitu, zaujímavé je (aspoň pre mňa), že nemecký ovčiak berie 2. miesto"
   ]
  },
  {
   "cell_type": "markdown",
   "id": "8f2fbede",
   "metadata": {},
   "source": [
    "### Porovnanie znakov psov patriacich do plemien Fighting_breeds vs Larador_Retriever. V akých znakoch sa značne odlišujú ?"
   ]
  },
  {
   "cell_type": "markdown",
   "id": "4408f7ab",
   "metadata": {},
   "source": [
    "## Vply socializácie psa na jeho agresivitu\n",
    "(predpoklad: menšia socializácia, väčšia agresivita)"
   ]
  },
  {
   "cell_type": "code",
   "execution_count": 5,
   "id": "93ec6ec9",
   "metadata": {},
   "outputs": [
    {
     "data": {
      "application/vnd.plotly.v1+json": {
       "config": {
        "plotlyServerURL": "https://plot.ly"
       },
       "data": [
        {
         "hovertemplate": "socialization=%{x}<br>aggressiveness_dominance_score=%{y}<extra></extra>",
         "legendgroup": "",
         "line": {
          "color": "#636efa",
          "dash": "solid"
         },
         "marker": {
          "symbol": "circle"
         },
         "mode": "lines",
         "name": "",
         "showlegend": false,
         "type": "scattergl",
         "x": {
          "bdata": "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",
          "dtype": "f8"
         },
         "xaxis": "x",
         "y": {
          "bdata": "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",
          "dtype": "f8"
         },
         "yaxis": "y"
        }
       ],
       "layout": {
        "legend": {
         "tracegroupgap": 0
        },
        "margin": {
         "t": 60
        },
        "template": {
         "data": {
          "bar": [
           {
            "error_x": {
             "color": "#2a3f5f"
            },
            "error_y": {
             "color": "#2a3f5f"
            },
            "marker": {
             "line": {
              "color": "#E5ECF6",
              "width": 0.5
             },
             "pattern": {
              "fillmode": "overlay",
              "size": 10,
              "solidity": 0.2
             }
            },
            "type": "bar"
           }
          ],
          "barpolar": [
           {
            "marker": {
             "line": {
              "color": "#E5ECF6",
              "width": 0.5
             },
             "pattern": {
              "fillmode": "overlay",
              "size": 10,
              "solidity": 0.2
             }
            },
            "type": "barpolar"
           }
          ],
          "carpet": [
           {
            "aaxis": {
             "endlinecolor": "#2a3f5f",
             "gridcolor": "white",
             "linecolor": "white",
             "minorgridcolor": "white",
             "startlinecolor": "#2a3f5f"
            },
            "baxis": {
             "endlinecolor": "#2a3f5f",
             "gridcolor": "white",
             "linecolor": "white",
             "minorgridcolor": "white",
             "startlinecolor": "#2a3f5f"
            },
            "type": "carpet"
           }
          ],
          "choropleth": [
           {
            "colorbar": {
             "outlinewidth": 0,
             "ticks": ""
            },
            "type": "choropleth"
           }
          ],
          "contour": [
           {
            "colorbar": {
             "outlinewidth": 0,
             "ticks": ""
            },
            "colorscale": [
             [
              0,
              "#0d0887"
             ],
             [
              0.1111111111111111,
              "#46039f"
             ],
             [
              0.2222222222222222,
              "#7201a8"
             ],
             [
              0.3333333333333333,
              "#9c179e"
             ],
             [
              0.4444444444444444,
              "#bd3786"
             ],
             [
              0.5555555555555556,
              "#d8576b"
             ],
             [
              0.6666666666666666,
              "#ed7953"
             ],
             [
              0.7777777777777778,
              "#fb9f3a"
             ],
             [
              0.8888888888888888,
              "#fdca26"
             ],
             [
              1,
              "#f0f921"
             ]
            ],
            "type": "contour"
           }
          ],
          "contourcarpet": [
           {
            "colorbar": {
             "outlinewidth": 0,
             "ticks": ""
            },
            "type": "contourcarpet"
           }
          ],
          "heatmap": [
           {
            "colorbar": {
             "outlinewidth": 0,
             "ticks": ""
            },
            "colorscale": [
             [
              0,
              "#0d0887"
             ],
             [
              0.1111111111111111,
              "#46039f"
             ],
             [
              0.2222222222222222,
              "#7201a8"
             ],
             [
              0.3333333333333333,
              "#9c179e"
             ],
             [
              0.4444444444444444,
              "#bd3786"
             ],
             [
              0.5555555555555556,
              "#d8576b"
             ],
             [
              0.6666666666666666,
              "#ed7953"
             ],
             [
              0.7777777777777778,
              "#fb9f3a"
             ],
             [
              0.8888888888888888,
              "#fdca26"
             ],
             [
              1,
              "#f0f921"
             ]
            ],
            "type": "heatmap"
           }
          ],
          "histogram": [
           {
            "marker": {
             "pattern": {
              "fillmode": "overlay",
              "size": 10,
              "solidity": 0.2
             }
            },
            "type": "histogram"
           }
          ],
          "histogram2d": [
           {
            "colorbar": {
             "outlinewidth": 0,
             "ticks": ""
            },
            "colorscale": [
             [
              0,
              "#0d0887"
             ],
             [
              0.1111111111111111,
              "#46039f"
             ],
             [
              0.2222222222222222,
              "#7201a8"
             ],
             [
              0.3333333333333333,
              "#9c179e"
             ],
             [
              0.4444444444444444,
              "#bd3786"
             ],
             [
              0.5555555555555556,
              "#d8576b"
             ],
             [
              0.6666666666666666,
              "#ed7953"
             ],
             [
              0.7777777777777778,
              "#fb9f3a"
             ],
             [
              0.8888888888888888,
              "#fdca26"
             ],
             [
              1,
              "#f0f921"
             ]
            ],
            "type": "histogram2d"
           }
          ],
          "histogram2dcontour": [
           {
            "colorbar": {
             "outlinewidth": 0,
             "ticks": ""
            },
            "colorscale": [
             [
              0,
              "#0d0887"
             ],
             [
              0.1111111111111111,
              "#46039f"
             ],
             [
              0.2222222222222222,
              "#7201a8"
             ],
             [
              0.3333333333333333,
              "#9c179e"
             ],
             [
              0.4444444444444444,
              "#bd3786"
             ],
             [
              0.5555555555555556,
              "#d8576b"
             ],
             [
              0.6666666666666666,
              "#ed7953"
             ],
             [
              0.7777777777777778,
              "#fb9f3a"
             ],
             [
              0.8888888888888888,
              "#fdca26"
             ],
             [
              1,
              "#f0f921"
             ]
            ],
            "type": "histogram2dcontour"
           }
          ],
          "mesh3d": [
           {
            "colorbar": {
             "outlinewidth": 0,
             "ticks": ""
            },
            "type": "mesh3d"
           }
          ],
          "parcoords": [
           {
            "line": {
             "colorbar": {
              "outlinewidth": 0,
              "ticks": ""
             }
            },
            "type": "parcoords"
           }
          ],
          "pie": [
           {
            "automargin": true,
            "type": "pie"
           }
          ],
          "scatter": [
           {
            "fillpattern": {
             "fillmode": "overlay",
             "size": 10,
             "solidity": 0.2
            },
            "type": "scatter"
           }
          ],
          "scatter3d": [
           {
            "line": {
             "colorbar": {
              "outlinewidth": 0,
              "ticks": ""
             }
            },
            "marker": {
             "colorbar": {
              "outlinewidth": 0,
              "ticks": ""
             }
            },
            "type": "scatter3d"
           }
          ],
          "scattercarpet": [
           {
            "marker": {
             "colorbar": {
              "outlinewidth": 0,
              "ticks": ""
             }
            },
            "type": "scattercarpet"
           }
          ],
          "scattergeo": [
           {
            "marker": {
             "colorbar": {
              "outlinewidth": 0,
              "ticks": ""
             }
            },
            "type": "scattergeo"
           }
          ],
          "scattergl": [
           {
            "marker": {
             "colorbar": {
              "outlinewidth": 0,
              "ticks": ""
             }
            },
            "type": "scattergl"
           }
          ],
          "scattermap": [
           {
            "marker": {
             "colorbar": {
              "outlinewidth": 0,
              "ticks": ""
             }
            },
            "type": "scattermap"
           }
          ],
          "scattermapbox": [
           {
            "marker": {
             "colorbar": {
              "outlinewidth": 0,
              "ticks": ""
             }
            },
            "type": "scattermapbox"
           }
          ],
          "scatterpolar": [
           {
            "marker": {
             "colorbar": {
              "outlinewidth": 0,
              "ticks": ""
             }
            },
            "type": "scatterpolar"
           }
          ],
          "scatterpolargl": [
           {
            "marker": {
             "colorbar": {
              "outlinewidth": 0,
              "ticks": ""
             }
            },
            "type": "scatterpolargl"
           }
          ],
          "scatterternary": [
           {
            "marker": {
             "colorbar": {
              "outlinewidth": 0,
              "ticks": ""
             }
            },
            "type": "scatterternary"
           }
          ],
          "surface": [
           {
            "colorbar": {
             "outlinewidth": 0,
             "ticks": ""
            },
            "colorscale": [
             [
              0,
              "#0d0887"
             ],
             [
              0.1111111111111111,
              "#46039f"
             ],
             [
              0.2222222222222222,
              "#7201a8"
             ],
             [
              0.3333333333333333,
              "#9c179e"
             ],
             [
              0.4444444444444444,
              "#bd3786"
             ],
             [
              0.5555555555555556,
              "#d8576b"
             ],
             [
              0.6666666666666666,
              "#ed7953"
             ],
             [
              0.7777777777777778,
              "#fb9f3a"
             ],
             [
              0.8888888888888888,
              "#fdca26"
             ],
             [
              1,
              "#f0f921"
             ]
            ],
            "type": "surface"
           }
          ],
          "table": [
           {
            "cells": {
             "fill": {
              "color": "#EBF0F8"
             },
             "line": {
              "color": "white"
             }
            },
            "header": {
             "fill": {
              "color": "#C8D4E3"
             },
             "line": {
              "color": "white"
             }
            },
            "type": "table"
           }
          ]
         },
         "layout": {
          "annotationdefaults": {
           "arrowcolor": "#2a3f5f",
           "arrowhead": 0,
           "arrowwidth": 1
          },
          "autotypenumbers": "strict",
          "coloraxis": {
           "colorbar": {
            "outlinewidth": 0,
            "ticks": ""
           }
          },
          "colorscale": {
           "diverging": [
            [
             0,
             "#8e0152"
            ],
            [
             0.1,
             "#c51b7d"
            ],
            [
             0.2,
             "#de77ae"
            ],
            [
             0.3,
             "#f1b6da"
            ],
            [
             0.4,
             "#fde0ef"
            ],
            [
             0.5,
             "#f7f7f7"
            ],
            [
             0.6,
             "#e6f5d0"
            ],
            [
             0.7,
             "#b8e186"
            ],
            [
             0.8,
             "#7fbc41"
            ],
            [
             0.9,
             "#4d9221"
            ],
            [
             1,
             "#276419"
            ]
           ],
           "sequential": [
            [
             0,
             "#0d0887"
            ],
            [
             0.1111111111111111,
             "#46039f"
            ],
            [
             0.2222222222222222,
             "#7201a8"
            ],
            [
             0.3333333333333333,
             "#9c179e"
            ],
            [
             0.4444444444444444,
             "#bd3786"
            ],
            [
             0.5555555555555556,
             "#d8576b"
            ],
            [
             0.6666666666666666,
             "#ed7953"
            ],
            [
             0.7777777777777778,
             "#fb9f3a"
            ],
            [
             0.8888888888888888,
             "#fdca26"
            ],
            [
             1,
             "#f0f921"
            ]
           ],
           "sequentialminus": [
            [
             0,
             "#0d0887"
            ],
            [
             0.1111111111111111,
             "#46039f"
            ],
            [
             0.2222222222222222,
             "#7201a8"
            ],
            [
             0.3333333333333333,
             "#9c179e"
            ],
            [
             0.4444444444444444,
             "#bd3786"
            ],
            [
             0.5555555555555556,
             "#d8576b"
            ],
            [
             0.6666666666666666,
             "#ed7953"
            ],
            [
             0.7777777777777778,
             "#fb9f3a"
            ],
            [
             0.8888888888888888,
             "#fdca26"
            ],
            [
             1,
             "#f0f921"
            ]
           ]
          },
          "colorway": [
           "#636efa",
           "#EF553B",
           "#00cc96",
           "#ab63fa",
           "#FFA15A",
           "#19d3f3",
           "#FF6692",
           "#B6E880",
           "#FF97FF",
           "#FECB52"
          ],
          "font": {
           "color": "#2a3f5f"
          },
          "geo": {
           "bgcolor": "white",
           "lakecolor": "white",
           "landcolor": "#E5ECF6",
           "showlakes": true,
           "showland": true,
           "subunitcolor": "white"
          },
          "hoverlabel": {
           "align": "left"
          },
          "hovermode": "closest",
          "mapbox": {
           "style": "light"
          },
          "paper_bgcolor": "white",
          "plot_bgcolor": "#E5ECF6",
          "polar": {
           "angularaxis": {
            "gridcolor": "white",
            "linecolor": "white",
            "ticks": ""
           },
           "bgcolor": "#E5ECF6",
           "radialaxis": {
            "gridcolor": "white",
            "linecolor": "white",
            "ticks": ""
           }
          },
          "scene": {
           "xaxis": {
            "backgroundcolor": "#E5ECF6",
            "gridcolor": "white",
            "gridwidth": 2,
            "linecolor": "white",
            "showbackground": true,
            "ticks": "",
            "zerolinecolor": "white"
           },
           "yaxis": {
            "backgroundcolor": "#E5ECF6",
            "gridcolor": "white",
            "gridwidth": 2,
            "linecolor": "white",
            "showbackground": true,
            "ticks": "",
            "zerolinecolor": "white"
           },
           "zaxis": {
            "backgroundcolor": "#E5ECF6",
            "gridcolor": "white",
            "gridwidth": 2,
            "linecolor": "white",
            "showbackground": true,
            "ticks": "",
            "zerolinecolor": "white"
           }
          },
          "shapedefaults": {
           "line": {
            "color": "#2a3f5f"
           }
          },
          "ternary": {
           "aaxis": {
            "gridcolor": "white",
            "linecolor": "white",
            "ticks": ""
           },
           "baxis": {
            "gridcolor": "white",
            "linecolor": "white",
            "ticks": ""
           },
           "bgcolor": "#E5ECF6",
           "caxis": {
            "gridcolor": "white",
            "linecolor": "white",
            "ticks": ""
           }
          },
          "title": {
           "x": 0.05
          },
          "xaxis": {
           "automargin": true,
           "gridcolor": "white",
           "linecolor": "white",
           "ticks": "",
           "title": {
            "standoff": 15
           },
           "zerolinecolor": "white",
           "zerolinewidth": 2
          },
          "yaxis": {
           "automargin": true,
           "gridcolor": "white",
           "linecolor": "white",
           "ticks": "",
           "title": {
            "standoff": 15
           },
           "zerolinecolor": "white",
           "zerolinewidth": 2
          }
         }
        },
        "xaxis": {
         "anchor": "y",
         "domain": [
          0,
          1
         ],
         "title": {
          "text": "socialization"
         }
        },
        "yaxis": {
         "anchor": "x",
         "domain": [
          0,
          1
         ],
         "title": {
          "text": "aggressiveness_dominance_score"
         }
        }
       }
      }
     },
     "metadata": {},
     "output_type": "display_data"
    }
   ],
   "source": [
    "\n",
    "soc = dogs[['socialization', 'aggressiveness_dominance_score']]\n",
    "# soc['aggressivness'] = dogs[aggressive_columns[0]] + dogs[aggressive_columns[1]] + dogs[aggressive_columns[2]]\n",
    "soc = soc.sort_values(by='socialization').dropna()\n",
    "soc = soc.rolling(30).mean()\n",
    "fig = px.line(data_frame=soc, x='socialization', y='aggressiveness_dominance_score')\n",
    "fig.show()"
   ]
  },
  {
   "cell_type": "markdown",
   "id": "e8ba1faa",
   "metadata": {},
   "source": [
    "Celkom zaujímavo socializácia moc nevplýva na agresivitu."
   ]
  },
  {
   "cell_type": "markdown",
   "id": "af5033ac",
   "metadata": {},
   "source": [
    "## Váha u psov a ich agresivita\n",
    "noro sem to mozes vlepit"
   ]
  },
  {
   "cell_type": "code",
   "execution_count": null,
   "id": "3a063a19",
   "metadata": {},
   "outputs": [],
   "source": []
  },
  {
   "cell_type": "markdown",
   "id": "4a056c83",
   "metadata": {},
   "source": [
    "## Boja sa agresívne psy viac ?"
   ]
  },
  {
   "cell_type": "markdown",
   "id": "14370dc2",
   "metadata": {},
   "source": [
    "### Strach u ludi"
   ]
  },
  {
   "cell_type": "code",
   "execution_count": 6,
   "id": "6bfd1938",
   "metadata": {},
   "outputs": [
    {
     "name": "stderr",
     "output_type": "stream",
     "text": [
      "c:\\Users\\DarkKnight\\.pyenv\\pyenv-win\\versions\\3.12.0\\Lib\\site-packages\\seaborn\\matrix.py:560: UserWarning:\n",
      "\n",
      "Clustering large matrix with scipy. Installing `fastcluster` may give better performance.\n",
      "\n",
      "c:\\Users\\DarkKnight\\.pyenv\\pyenv-win\\versions\\3.12.0\\Lib\\site-packages\\seaborn\\matrix.py:560: UserWarning:\n",
      "\n",
      "Clustering large matrix with scipy. Installing `fastcluster` may give better performance.\n",
      "\n"
     ]
    },
    {
     "data": {
      "text/plain": [
       "<seaborn.matrix.ClusterGrid at 0x1499b8d7fe0>"
      ]
     },
     "execution_count": 6,
     "metadata": {},
     "output_type": "execute_result"
    },
    {
     "data": {
      "image/png": "[encoded data removed]",
      "text/plain": [
       "<Figure size 1000x600 with 4 Axes>"
      ]
     },
     "metadata": {},
     "output_type": "display_data"
    }
   ],
   "source": [
    "STRANGER_PHOBIAS = ['Stranger_withdraw',\n",
    " 'Stranger_bark',\n",
    " 'Stranger_growl',\n",
    " 'Stranger_taillow',\n",
    " 'Stranger_staynear',\n",
    " 'Stranger_notwilling',\n",
    " 'Stranger_enthusiastic',\n",
    " 'Stranger_indifferent',\n",
    " 'Stranger_lowposture',\n",
    " 'Stranger_moveaway',\n",
    " 'Stranger_suspicious']\n",
    "\n",
    "dogs_vs_strangers = dogs[STRANGER_PHOBIAS].dropna().transpose()\n",
    "sns.clustermap(dogs_vs_strangers, xticklabels=False, cmap='YlOrBr', figsize=(10,6))\n"
   ]
  },
  {
   "cell_type": "markdown",
   "id": "caa0b192",
   "metadata": {},
   "source": [
    "1. pes bude pravdepodobne vrcat, ked ma chvost medzi nohami a je skrceny\n",
    "2. stranger moveaway / withdraw / suspicious su velmi podobne, a asi aj preto to tak ludia v dotaznikoch vyplnili\n",
    "3. pes steka, ked je notwilling a suspicious\n",
    "4. pes ak je pes stranger enthusiastic, tak vsetky ostatne su nizke\n",
    "5. ak pes steka na cudzich, tak aj je pravdepodobne, ze bude moveaway, notwilling, suspicious"
   ]
  },
  {
   "cell_type": "markdown",
   "id": "0a090aba",
   "metadata": {},
   "source": [
    "## Je väčšia pravdepodobnosť, že pes je agresívnejší, ak nie je od chovateľa ?"
   ]
  },
  {
   "cell_type": "code",
   "execution_count": 7,
   "id": "62596b41",
   "metadata": {},
   "outputs": [
    {
     "data": {
      "text/markdown": [
       "**Priemerna agresivita:**"
      ],
      "text/plain": [
       "<IPython.core.display.Markdown object>"
      ]
     },
     "metadata": {},
     "output_type": "display_data"
    },
    {
     "data": {
      "text/plain": [
       "obtained_from\n",
       "born_home         -0.099612\n",
       "breeder           -0.009606\n",
       "rescue_previous    0.206838\n",
       "Name: aggressiveness_dominance_score, dtype: float64"
      ]
     },
     "metadata": {},
     "output_type": "display_data"
    },
    {
     "data": {
      "image/png": "[encoded data removed]",
      "text/plain": [
       "<Figure size 640x480 with 1 Axes>"
      ]
     },
     "metadata": {},
     "output_type": "display_data"
    }
   ],
   "source": [
    "# px.bar(dogs.groupby('obtained_from')['aggressivness_score'])\n",
    "sns.boxplot(dogs, x='obtained_from', y='aggressiveness_dominance_score')\n",
    "display(Markdown('**Priemerna agresivita:**'))\n",
    "display(dogs.groupby('obtained_from')['aggressiveness_dominance_score'].mean())"
   ]
  },
  {
   "cell_type": "markdown",
   "id": "78f61675",
   "metadata": {},
   "source": [
    "vyzera, ze zachranene psy su o trosku agresivnejsie."
   ]
  },
  {
   "cell_type": "markdown",
   "id": "e69bf643",
   "metadata": {},
   "source": [
    "### Aku maju agresivitu voci ludom"
   ]
  },
  {
   "cell_type": "code",
   "execution_count": 8,
   "id": "4aa87ef1",
   "metadata": {},
   "outputs": [
    {
     "data": {
      "application/vnd.plotly.v1+json": {
       "config": {
        "plotlyServerURL": "https://plot.ly"
       },
       "data": [
        {
         "coloraxis": "coloraxis",
         "hovertemplate": "obtained_from: %{x}<br>Aggressive_people: %{y}<br>color: %{z}<extra></extra>",
         "name": "0",
         "type": "heatmap",
         "x": [
          "born_home",
          "breeder",
          "rescue_previous"
         ],
         "xaxis": "x",
         "y": {
          "bdata": "AAAAAAAA8D8AAAAAAAAAQAAAAAAAAAhAAAAAAAAAEEAAAAAAAAAUQA==",
          "dtype": "f8"
         },
         "yaxis": "y",
         "z": {
          "bdata": "5YJb5YJb7T/10eIswUfsP/j1ODDNauo/maznmKznqD8345cTUmmyP36WqSz6vbM/EJo3EJo3gD8kJODuwzSNP78eB6ZZTZc/GGdTGGdTmD8DS8iyE+aYPz0OTLOaLrA/E7CIErCIYj+VXTescYh3P78eB6ZZTYc/",
          "dtype": "f8",
          "shape": "5, 3"
         }
        }
       ],
       "layout": {
        "coloraxis": {
         "colorscale": [
          [
           0,
           "#0d0887"
          ],
          [
           0.1111111111111111,
           "#46039f"
          ],
          [
           0.2222222222222222,
           "#7201a8"
          ],
          [
           0.3333333333333333,
           "#9c179e"
          ],
          [
           0.4444444444444444,
           "#bd3786"
          ],
          [
           0.5555555555555556,
           "#d8576b"
          ],
          [
           0.6666666666666666,
           "#ed7953"
          ],
          [
           0.7777777777777778,
           "#fb9f3a"
          ],
          [
           0.8888888888888888,
           "#fdca26"
          ],
          [
           1,
           "#f0f921"
          ]
         ]
        },
        "margin": {
         "t": 60
        },
        "template": {
         "data": {
          "bar": [
           {
            "error_x": {
             "color": "#2a3f5f"
            },
            "error_y": {
             "color": "#2a3f5f"
            },
            "marker": {
             "line": {
              "color": "#E5ECF6",
              "width": 0.5
             },
             "pattern": {
              "fillmode": "overlay",
              "size": 10,
              "solidity": 0.2
             }
            },
            "type": "bar"
           }
          ],
          "barpolar": [
           {
            "marker": {
             "line": {
              "color": "#E5ECF6",
              "width": 0.5
             },
             "pattern": {
              "fillmode": "overlay",
              "size": 10,
              "solidity": 0.2
             }
            },
            "type": "barpolar"
           }
          ],
          "carpet": [
           {
            "aaxis": {
             "endlinecolor": "#2a3f5f",
             "gridcolor": "white",
             "linecolor": "white",
             "minorgridcolor": "white",
             "startlinecolor": "#2a3f5f"
            },
            "baxis": {
             "endlinecolor": "#2a3f5f",
             "gridcolor": "white",
             "linecolor": "white",
             "minorgridcolor": "white",
             "startlinecolor": "#2a3f5f"
            },
            "type": "carpet"
           }
          ],
          "choropleth": [
           {
            "colorbar": {
             "outlinewidth": 0,
             "ticks": ""
            },
            "type": "choropleth"
           }
          ],
          "contour": [
           {
            "colorbar": {
             "outlinewidth": 0,
             "ticks": ""
            },
            "colorscale": [
             [
              0,
              "#0d0887"
             ],
             [
              0.1111111111111111,
              "#46039f"
             ],
             [
              0.2222222222222222,
              "#7201a8"
             ],
             [
              0.3333333333333333,
              "#9c179e"
             ],
             [
              0.4444444444444444,
              "#bd3786"
             ],
             [
              0.5555555555555556,
              "#d8576b"
             ],
             [
              0.6666666666666666,
              "#ed7953"
             ],
             [
              0.7777777777777778,
              "#fb9f3a"
             ],
             [
              0.8888888888888888,
              "#fdca26"
             ],
             [
              1,
              "#f0f921"
             ]
            ],
            "type": "contour"
           }
          ],
          "contourcarpet": [
           {
            "colorbar": {
             "outlinewidth": 0,
             "ticks": ""
            },
            "type": "contourcarpet"
           }
          ],
          "heatmap": [
           {
            "colorbar": {
             "outlinewidth": 0,
             "ticks": ""
            },
            "colorscale": [
             [
              0,
              "#0d0887"
             ],
             [
              0.1111111111111111,
              "#46039f"
             ],
             [
              0.2222222222222222,
              "#7201a8"
             ],
             [
              0.3333333333333333,
              "#9c179e"
             ],
             [
              0.4444444444444444,
              "#bd3786"
             ],
             [
              0.5555555555555556,
              "#d8576b"
             ],
             [
              0.6666666666666666,
              "#ed7953"
             ],
             [
              0.7777777777777778,
              "#fb9f3a"
             ],
             [
              0.8888888888888888,
              "#fdca26"
             ],
             [
              1,
              "#f0f921"
             ]
            ],
            "type": "heatmap"
           }
          ],
          "histogram": [
           {
            "marker": {
             "pattern": {
              "fillmode": "overlay",
              "size": 10,
              "solidity": 0.2
             }
            },
            "type": "histogram"
           }
          ],
          "histogram2d": [
           {
            "colorbar": {
             "outlinewidth": 0,
             "ticks": ""
            },
            "colorscale": [
             [
              0,
              "#0d0887"
             ],
             [
              0.1111111111111111,
              "#46039f"
             ],
             [
              0.2222222222222222,
              "#7201a8"
             ],
             [
              0.3333333333333333,
              "#9c179e"
             ],
             [
              0.4444444444444444,
              "#bd3786"
             ],
             [
              0.5555555555555556,
              "#d8576b"
             ],
             [
              0.6666666666666666,
              "#ed7953"
             ],
             [
              0.7777777777777778,
              "#fb9f3a"
             ],
             [
              0.8888888888888888,
              "#fdca26"
             ],
             [
              1,
              "#f0f921"
             ]
            ],
            "type": "histogram2d"
           }
          ],
          "histogram2dcontour": [
           {
            "colorbar": {
             "outlinewidth": 0,
             "ticks": ""
            },
            "colorscale": [
             [
              0,
              "#0d0887"
             ],
             [
              0.1111111111111111,
              "#46039f"
             ],
             [
              0.2222222222222222,
              "#7201a8"
             ],
             [
              0.3333333333333333,
              "#9c179e"
             ],
             [
              0.4444444444444444,
              "#bd3786"
             ],
             [
              0.5555555555555556,
              "#d8576b"
             ],
             [
              0.6666666666666666,
              "#ed7953"
             ],
             [
              0.7777777777777778,
              "#fb9f3a"
             ],
             [
              0.8888888888888888,
              "#fdca26"
             ],
             [
              1,
              "#f0f921"
             ]
            ],
            "type": "histogram2dcontour"
           }
          ],
          "mesh3d": [
           {
            "colorbar": {
             "outlinewidth": 0,
             "ticks": ""
            },
            "type": "mesh3d"
           }
          ],
          "parcoords": [
           {
            "line": {
             "colorbar": {
              "outlinewidth": 0,
              "ticks": ""
             }
            },
            "type": "parcoords"
           }
          ],
          "pie": [
           {
            "automargin": true,
            "type": "pie"
           }
          ],
          "scatter": [
           {
            "fillpattern": {
             "fillmode": "overlay",
             "size": 10,
             "solidity": 0.2
            },
            "type": "scatter"
           }
          ],
          "scatter3d": [
           {
            "line": {
             "colorbar": {
              "outlinewidth": 0,
              "ticks": ""
             }
            },
            "marker": {
             "colorbar": {
              "outlinewidth": 0,
              "ticks": ""
             }
            },
            "type": "scatter3d"
           }
          ],
          "scattercarpet": [
           {
            "marker": {
             "colorbar": {
              "outlinewidth": 0,
              "ticks": ""
             }
            },
            "type": "scattercarpet"
           }
          ],
          "scattergeo": [
           {
            "marker": {
             "colorbar": {
              "outlinewidth": 0,
              "ticks": ""
             }
            },
            "type": "scattergeo"
           }
          ],
          "scattergl": [
           {
            "marker": {
             "colorbar": {
              "outlinewidth": 0,
              "ticks": ""
             }
            },
            "type": "scattergl"
           }
          ],
          "scattermap": [
           {
            "marker": {
             "colorbar": {
              "outlinewidth": 0,
              "ticks": ""
             }
            },
            "type": "scattermap"
           }
          ],
          "scattermapbox": [
           {
            "marker": {
             "colorbar": {
              "outlinewidth": 0,
              "ticks": ""
             }
            },
            "type": "scattermapbox"
           }
          ],
          "scatterpolar": [
           {
            "marker": {
             "colorbar": {
              "outlinewidth": 0,
              "ticks": ""
             }
            },
            "type": "scatterpolar"
           }
          ],
          "scatterpolargl": [
           {
            "marker": {
             "colorbar": {
              "outlinewidth": 0,
              "ticks": ""
             }
            },
            "type": "scatterpolargl"
           }
          ],
          "scatterternary": [
           {
            "marker": {
             "colorbar": {
              "outlinewidth": 0,
              "ticks": ""
             }
            },
            "type": "scatterternary"
           }
          ],
          "surface": [
           {
            "colorbar": {
             "outlinewidth": 0,
             "ticks": ""
            },
            "colorscale": [
             [
              0,
              "#0d0887"
             ],
             [
              0.1111111111111111,
              "#46039f"
             ],
             [
              0.2222222222222222,
              "#7201a8"
             ],
             [
              0.3333333333333333,
              "#9c179e"
             ],
             [
              0.4444444444444444,
              "#bd3786"
             ],
             [
              0.5555555555555556,
              "#d8576b"
             ],
             [
              0.6666666666666666,
              "#ed7953"
             ],
             [
              0.7777777777777778,
              "#fb9f3a"
             ],
             [
              0.8888888888888888,
              "#fdca26"
             ],
             [
              1,
              "#f0f921"
             ]
            ],
            "type": "surface"
           }
          ],
          "table": [
           {
            "cells": {
             "fill": {
              "color": "#EBF0F8"
             },
             "line": {
              "color": "white"
             }
            },
            "header": {
             "fill": {
              "color": "#C8D4E3"
             },
             "line": {
              "color": "white"
             }
            },
            "type": "table"
           }
          ]
         },
         "layout": {
          "annotationdefaults": {
           "arrowcolor": "#2a3f5f",
           "arrowhead": 0,
           "arrowwidth": 1
          },
          "autotypenumbers": "strict",
          "coloraxis": {
           "colorbar": {
            "outlinewidth": 0,
            "ticks": ""
           }
          },
          "colorscale": {
           "diverging": [
            [
             0,
             "#8e0152"
            ],
            [
             0.1,
             "#c51b7d"
            ],
            [
             0.2,
             "#de77ae"
            ],
            [
             0.3,
             "#f1b6da"
            ],
            [
             0.4,
             "#fde0ef"
            ],
            [
             0.5,
             "#f7f7f7"
            ],
            [
             0.6,
             "#e6f5d0"
            ],
            [
             0.7,
             "#b8e186"
            ],
            [
             0.8,
             "#7fbc41"
            ],
            [
             0.9,
             "#4d9221"
            ],
            [
             1,
             "#276419"
            ]
           ],
           "sequential": [
            [
             0,
             "#0d0887"
            ],
            [
             0.1111111111111111,
             "#46039f"
            ],
            [
             0.2222222222222222,
             "#7201a8"
            ],
            [
             0.3333333333333333,
             "#9c179e"
            ],
            [
             0.4444444444444444,
             "#bd3786"
            ],
            [
             0.5555555555555556,
             "#d8576b"
            ],
            [
             0.6666666666666666,
             "#ed7953"
            ],
            [
             0.7777777777777778,
             "#fb9f3a"
            ],
            [
             0.8888888888888888,
             "#fdca26"
            ],
            [
             1,
             "#f0f921"
            ]
           ],
           "sequentialminus": [
            [
             0,
             "#0d0887"
            ],
            [
             0.1111111111111111,
             "#46039f"
            ],
            [
             0.2222222222222222,
             "#7201a8"
            ],
            [
             0.3333333333333333,
             "#9c179e"
            ],
            [
             0.4444444444444444,
             "#bd3786"
            ],
            [
             0.5555555555555556,
             "#d8576b"
            ],
            [
             0.6666666666666666,
             "#ed7953"
            ],
            [
             0.7777777777777778,
             "#fb9f3a"
            ],
            [
             0.8888888888888888,
             "#fdca26"
            ],
            [
             1,
             "#f0f921"
            ]
           ]
          },
          "colorway": [
           "#636efa",
           "#EF553B",
           "#00cc96",
           "#ab63fa",
           "#FFA15A",
           "#19d3f3",
           "#FF6692",
           "#B6E880",
           "#FF97FF",
           "#FECB52"
          ],
          "font": {
           "color": "#2a3f5f"
          },
          "geo": {
           "bgcolor": "white",
           "lakecolor": "white",
           "landcolor": "#E5ECF6",
           "showlakes": true,
           "showland": true,
           "subunitcolor": "white"
          },
          "hoverlabel": {
           "align": "left"
          },
          "hovermode": "closest",
          "mapbox": {
           "style": "light"
          },
          "paper_bgcolor": "white",
          "plot_bgcolor": "#E5ECF6",
          "polar": {
           "angularaxis": {
            "gridcolor": "white",
            "linecolor": "white",
            "ticks": ""
           },
           "bgcolor": "#E5ECF6",
           "radialaxis": {
            "gridcolor": "white",
            "linecolor": "white",
            "ticks": ""
           }
          },
          "scene": {
           "xaxis": {
            "backgroundcolor": "#E5ECF6",
            "gridcolor": "white",
            "gridwidth": 2,
            "linecolor": "white",
            "showbackground": true,
            "ticks": "",
            "zerolinecolor": "white"
           },
           "yaxis": {
            "backgroundcolor": "#E5ECF6",
            "gridcolor": "white",
            "gridwidth": 2,
            "linecolor": "white",
            "showbackground": true,
            "ticks": "",
            "zerolinecolor": "white"
           },
           "zaxis": {
            "backgroundcolor": "#E5ECF6",
            "gridcolor": "white",
            "gridwidth": 2,
            "linecolor": "white",
            "showbackground": true,
            "ticks": "",
            "zerolinecolor": "white"
           }
          },
          "shapedefaults": {
           "line": {
            "color": "#2a3f5f"
           }
          },
          "ternary": {
           "aaxis": {
            "gridcolor": "white",
            "linecolor": "white",
            "ticks": ""
           },
           "baxis": {
            "gridcolor": "white",
            "linecolor": "white",
            "ticks": ""
           },
           "bgcolor": "#E5ECF6",
           "caxis": {
            "gridcolor": "white",
            "linecolor": "white",
            "ticks": ""
           }
          },
          "title": {
           "x": 0.05
          },
          "xaxis": {
           "automargin": true,
           "gridcolor": "white",
           "linecolor": "white",
           "ticks": "",
           "title": {
            "standoff": 15
           },
           "zerolinecolor": "white",
           "zerolinewidth": 2
          },
          "yaxis": {
           "automargin": true,
           "gridcolor": "white",
           "linecolor": "white",
           "ticks": "",
           "title": {
            "standoff": 15
           },
           "zerolinecolor": "white",
           "zerolinewidth": 2
          }
         }
        },
        "xaxis": {
         "anchor": "y",
         "constrain": "domain",
         "domain": [
          0,
          1
         ],
         "scaleanchor": "y",
         "title": {
          "text": "obtained_from"
         }
        },
        "yaxis": {
         "anchor": "x",
         "autorange": "reversed",
         "constrain": "domain",
         "domain": [
          0,
          1
         ],
         "title": {
          "text": "Aggressive_people"
         }
        }
       }
      }
     },
     "metadata": {},
     "output_type": "display_data"
    }
   ],
   "source": [
    "A = dogs.groupby(['obtained_from', 'Aggressive_people'])['Aggressive_people'].count().rename('count').reset_index()\n",
    "A['count'] = A['count'] / A.groupby('obtained_from')['count'].transform('sum')\n",
    "B = A.pivot(columns='Aggressive_people', values='count', index='obtained_from')\n",
    "C = B.transpose()\n",
    "px.imshow(C).show()"
   ]
  }
 ],
 "metadata": {
  "kernelspec": {
   "display_name": "Python 3",
   "language": "python",
   "name": "python3"
  },
  "language_info": {
   "codemirror_mode": {
    "name": "ipython",
    "version": 3
   },
   "file_extension": ".py",
   "mimetype": "text/x-python",
   "name": "python",
   "nbconvert_exporter": "python",
   "pygments_lexer": "ipython3",
   "version": "3.12.0"
  }
 },
 "nbformat": 4,
 "nbformat_minor": 5
}
