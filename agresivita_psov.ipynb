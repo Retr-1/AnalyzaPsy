{
 "cells": [
  {
   "cell_type": "code",
   "execution_count": 1,
   "id": "b1f98c23",
   "metadata": {},
   "outputs": [],
   "source": [
    "import pandas as pd\n",
    "import seaborn as sns\n",
    "import matplotlib.pyplot as plt\n",
    "import plotly.express as px\n",
    "import plotly.graph_objects as go\n",
    "import scipy.stats"
   ]
  },
  {
   "cell_type": "code",
   "execution_count": 2,
   "id": "debb2896",
   "metadata": {},
   "outputs": [],
   "source": [
    "# Load data\n",
    "with open('data-for-publication.xlsx', 'rb') as f:\n",
    "    dogs = pd.read_excel(f, sheet_name='Dataset', header=0)"
   ]
  },
  {
   "cell_type": "markdown",
   "id": "748d71f0",
   "metadata": {},
   "source": [
    "# Čo spôsobuje agresivitu u psov, respektíve aké sú znaky agresívnych psov ?\n",
    "(Sem píšte všetky možné nápady a ich výsledky. Odporúčám písať obyčajné .py scripty a potom ich len importnete (nie from ... import *) v príslušnej code bunke, alebo píšte kód tak, aby neprepisoval premenne inych, rozhodne nie premennu dogs, mozete pouzit funkcie)"
   ]
  },
  {
   "cell_type": "markdown",
   "id": "86483f24",
   "metadata": {},
   "source": [
    "## Agresivita v závislosti od plemena"
   ]
  },
  {
   "cell_type": "code",
   "execution_count": 3,
   "id": "594cc7ec",
   "metadata": {},
   "outputs": [
    {
     "data": {
      "application/vnd.plotly.v1+json": {
       "config": {
        "plotlyServerURL": "https://plot.ly"
       },
       "data": [
        {
         "hovertemplate": "variable=Aggressive_dogs_samegender<br>value=%{x}<br>breed_group=%{y}<extra></extra>",
         "legendgroup": "Aggressive_dogs_samegender",
         "marker": {
          "color": "#636efa",
          "pattern": {
           "shape": ""
          }
         },
         "name": "Aggressive_dogs_samegender",
         "orientation": "h",
         "showlegend": true,
         "textposition": "auto",
         "type": "bar",
         "x": {
          "bdata": "RO8W16lG9j95dOA935j2P6uqqqqqqvY/O/SbrUO/+T9A2Hg0f7D5P7iyzyE1wfg/R7XlKmlU+z9cj8L1KFz7P5EHrqKdKf0/vHmE6jNt/T8T2LSfLIH9P/rGtAkoRf0/Wblxxegv/T9Xi5swv6v9P0VAfDQhL/w/UFQPGnnn/z9DeQ3lNZT8PwAAAAAAAP8/r66urq6u/j9oL6G9hPb8P7bWWmuttf4/LPnFkl8sAUDBomBRsCgAQHcZU74OSwBAfyLhlObF/z9Ob3rTm14AQDX2MAvIFwFAT3D0BEdPAED0dG6vJYcAQOsGU+SzbgBArbXWWmutAUDGhytaX3wAQM3MzMzMzABAmpmZmZlZAUDSHGmONEcCQHwXDqLHdwFAwLVE7m8tAUC66KKLLroAQMprKK+hPAFAuawYKOGNAkBAbCoNOfcBQC8cRI/vwgFA6IDdHmsZAkDl0CLb+X4CQK/yTHzcdwNAAAAAAADgA0DUmcYNjDoDQA5jtfW3BwZA5DiO4zgOA0AW01lMZzEFQAZbsAVbsAVASW0ltZXUBkA=",
          "dtype": "f8"
         },
         "xaxis": "x",
         "y": [
          "Labrador_Retriever",
          "Golden_Retriever",
          "Other_breed",
          "Bernese_Mountain_Dogs",
          "Shetland_Sheepdog",
          "Scenthounds",
          "Whippet",
          "Collie_Rough",
          "Northern_companion_spitz",
          "Pointers",
          "Schapendoes",
          "European_sighthounds",
          "Retrievers_flushing_dogs",
          "Mastiff_type_dogs",
          "Bichon_type_dogs",
          "Sled_dogs",
          "Other_companion_dogs",
          "Nova_Scotia_Duck_Tolling_Retriever",
          "White_Swiss_Shepherd_Dog",
          "Lagotto_Romagnolo_Romagna_Water_Dog",
          "Miniature_Schnauzer",
          "Finnish_Lapphund",
          "Collie_Smooth",
          "Dachshunds",
          "Poodles",
          "German_spitz_related",
          "Bull_type_terriers",
          "Pinschers_Schnauzers",
          "Brachycephalic_dogs",
          "Teacup_dogs",
          "Hunting_terriers",
          "Spanish_Water_Dog",
          "Border_Collie",
          "Yard_terriers",
          "Welsh_Corgis",
          "Middle_European_utility_dogs",
          "English_herders",
          "Livestock_guardian_dogs",
          "Australian_Shepherd",
          "Northern_hunting_spitz",
          "Primitive_sighthounds",
          "Mixed_breed",
          "Chinese_Crested_Dog",
          "Middle_European_herders",
          "Jack_Russell_Terrier",
          "Japanese_Asian_primitive",
          "Belgian_shepherd_dogs",
          "Lapponian_Herder",
          "Miniature_Pinscher",
          "Parson_type_terriers",
          "German_Shepherd_Dog",
          "Fighting_dogs"
         ],
         "yaxis": "y"
        },
        {
         "hovertemplate": "variable=Aggressive_people<br>value=%{x}<br>breed_group=%{y}<extra></extra>",
         "legendgroup": "Aggressive_people",
         "marker": {
          "color": "#EF553B",
          "pattern": {
           "shape": ""
          }
         },
         "name": "Aggressive_people",
         "orientation": "h",
         "showlegend": true,
         "textposition": "auto",
         "type": "bar",
         "x": {
          "bdata": "dmIndmIn8T+pCcZb2efwP1IxtzojFfM/ztah32wd8j/ti6jW2RfxPycYb2WfQ/I/Egu40x+x8D+gcnYLvxrzP1fRzpRef/E/ua9lssgB8j8jFXOrM1LxP5k2AaWol/E/426+V87c8j/Zz8P0cQ7yP83MzMzMzPM/ep7neZ7n8T+7EGa7EGbzP4gDHn844PE/ZzGdxXQW8z/3EtpLaC/1P51zzjnnnPM/1kdJ+K+B8T+VmEpMJabyP1VVVVVV1fM/Ut/ZqO9s9D9uuOGGG270P9YNpshn3fA//rSFBizp9T9yIepm0LLzPxX5rBtMkfM/a6211lpr8T/GGGOMMcb0P2IndmIndvI/hNpuNX2j8z9eQ3kN5TXyPxKICzUngfQ/c08jLPc09D9xPQrXo3D1P1VVVVVVVfU/v/aQy4qB8j9PTSr699T0P9tfan+p/fU/07z4Ewmn9D8AAAAAADD2P5U1ZU1ZU/I/u6KuqCvq8j8Icx6Xvv31P9HOlF5/cfI/HMdxHMdx+D/xcd8thf70PxphuacRlvU/1aY2talN9T8=",
          "dtype": "f8"
         },
         "xaxis": "x",
         "y": [
          "Labrador_Retriever",
          "Golden_Retriever",
          "Other_breed",
          "Bernese_Mountain_Dogs",
          "Shetland_Sheepdog",
          "Scenthounds",
          "Whippet",
          "Collie_Rough",
          "Northern_companion_spitz",
          "Pointers",
          "Schapendoes",
          "European_sighthounds",
          "Retrievers_flushing_dogs",
          "Mastiff_type_dogs",
          "Bichon_type_dogs",
          "Sled_dogs",
          "Other_companion_dogs",
          "Nova_Scotia_Duck_Tolling_Retriever",
          "White_Swiss_Shepherd_Dog",
          "Lagotto_Romagnolo_Romagna_Water_Dog",
          "Miniature_Schnauzer",
          "Finnish_Lapphund",
          "Collie_Smooth",
          "Dachshunds",
          "Poodles",
          "German_spitz_related",
          "Bull_type_terriers",
          "Pinschers_Schnauzers",
          "Brachycephalic_dogs",
          "Teacup_dogs",
          "Hunting_terriers",
          "Spanish_Water_Dog",
          "Border_Collie",
          "Yard_terriers",
          "Welsh_Corgis",
          "Middle_European_utility_dogs",
          "English_herders",
          "Livestock_guardian_dogs",
          "Australian_Shepherd",
          "Northern_hunting_spitz",
          "Primitive_sighthounds",
          "Mixed_breed",
          "Chinese_Crested_Dog",
          "Middle_European_herders",
          "Jack_Russell_Terrier",
          "Japanese_Asian_primitive",
          "Belgian_shepherd_dogs",
          "Lapponian_Herder",
          "Miniature_Pinscher",
          "Parson_type_terriers",
          "German_Shepherd_Dog",
          "Fighting_dogs"
         ],
         "yaxis": "y"
        },
        {
         "hovertemplate": "variable=Aggressive_dogs_oppositegender<br>value=%{x}<br>breed_group=%{y}<extra></extra>",
         "legendgroup": "Aggressive_dogs_oppositegender",
         "marker": {
          "color": "#00cc96",
          "pattern": {
           "shape": ""
          }
         },
         "name": "Aggressive_dogs_oppositegender",
         "orientation": "h",
         "showlegend": true,
         "textposition": "auto",
         "type": "bar",
         "x": {
          "bdata": "B/utNoam8z9dobmdyqPzP8NB9PguHPQ/1AjLPY2w9D+6VxKpLMj1P9nnkJpgvPU/etOb3vSm9z9VVVVVVVX1Px2b74Yf1fU/3fj31hGU9j+F9hLaS2j3PwTv+ca0Cfg/LMI/TvcA9z8dDMX8U3j3PxbFOOV2f/c/I+/8LU5r9j/T2pN/53L4P1VVVVVVVfg/5ijdvrJ69z8T2ktoL6H3PxZYYIEFFvg/O+NmoUnN9z9GwaJgUbD4P8cKhJF2rPg/BHZ7rGXo+D+dUaWdwif5P8Iz/Q26Xfs/Kz8hzspP+D+315JDXGX6P7nSvQFl4vo/kBB45gay+j+dn0oIyPn5P5q/mAGd+fs/mpmZmZkZ+j+ivIbyGsr5P+0b1r5h7fk/7m8tkftb+z9cj8L1KFz7P0OY7UKY7fo/cSsUt0Jx+z/hehSuR+H6P24nz+B28vw/OmC3x1qG/j8URVEURVH8P5uypqwpa/4/Ly8vLy8v/z8PbX+P3aH9P3+2WBm+Ef0/VVVVVVVV/T97CusprKcAQIb3wnvhvQBAv6Av6Av6AEA=",
          "dtype": "f8"
         },
         "xaxis": "x",
         "y": [
          "Labrador_Retriever",
          "Golden_Retriever",
          "Other_breed",
          "Bernese_Mountain_Dogs",
          "Shetland_Sheepdog",
          "Scenthounds",
          "Whippet",
          "Collie_Rough",
          "Northern_companion_spitz",
          "Pointers",
          "Schapendoes",
          "European_sighthounds",
          "Retrievers_flushing_dogs",
          "Mastiff_type_dogs",
          "Bichon_type_dogs",
          "Sled_dogs",
          "Other_companion_dogs",
          "Nova_Scotia_Duck_Tolling_Retriever",
          "White_Swiss_Shepherd_Dog",
          "Lagotto_Romagnolo_Romagna_Water_Dog",
          "Miniature_Schnauzer",
          "Finnish_Lapphund",
          "Collie_Smooth",
          "Dachshunds",
          "Poodles",
          "German_spitz_related",
          "Bull_type_terriers",
          "Pinschers_Schnauzers",
          "Brachycephalic_dogs",
          "Teacup_dogs",
          "Hunting_terriers",
          "Spanish_Water_Dog",
          "Border_Collie",
          "Yard_terriers",
          "Welsh_Corgis",
          "Middle_European_utility_dogs",
          "English_herders",
          "Livestock_guardian_dogs",
          "Australian_Shepherd",
          "Northern_hunting_spitz",
          "Primitive_sighthounds",
          "Mixed_breed",
          "Chinese_Crested_Dog",
          "Middle_European_herders",
          "Jack_Russell_Terrier",
          "Japanese_Asian_primitive",
          "Belgian_shepherd_dogs",
          "Lapponian_Herder",
          "Miniature_Pinscher",
          "Parson_type_terriers",
          "German_Shepherd_Dog",
          "Fighting_dogs"
         ],
         "yaxis": "y"
        }
       ],
       "layout": {
        "barmode": "relative",
        "legend": {
         "title": {
          "text": "variable"
         },
         "tracegroupgap": 0
        },
        "margin": {
         "t": 60
        },
        "template": {
         "data": {
          "bar": [
           {
            "error_x": {
             "color": "#2a3f5f"
            },
            "error_y": {
             "color": "#2a3f5f"
            },
            "marker": {
             "line": {
              "color": "#E5ECF6",
              "width": 0.5
             },
             "pattern": {
              "fillmode": "overlay",
              "size": 10,
              "solidity": 0.2
             }
            },
            "type": "bar"
           }
          ],
          "barpolar": [
           {
            "marker": {
             "line": {
              "color": "#E5ECF6",
              "width": 0.5
             },
             "pattern": {
              "fillmode": "overlay",
              "size": 10,
              "solidity": 0.2
             }
            },
            "type": "barpolar"
           }
          ],
          "carpet": [
           {
            "aaxis": {
             "endlinecolor": "#2a3f5f",
             "gridcolor": "white",
             "linecolor": "white",
             "minorgridcolor": "white",
             "startlinecolor": "#2a3f5f"
            },
            "baxis": {
             "endlinecolor": "#2a3f5f",
             "gridcolor": "white",
             "linecolor": "white",
             "minorgridcolor": "white",
             "startlinecolor": "#2a3f5f"
            },
            "type": "carpet"
           }
          ],
          "choropleth": [
           {
            "colorbar": {
             "outlinewidth": 0,
             "ticks": ""
            },
            "type": "choropleth"
           }
          ],
          "contour": [
           {
            "colorbar": {
             "outlinewidth": 0,
             "ticks": ""
            },
            "colorscale": [
             [
              0,
              "#0d0887"
             ],
             [
              0.1111111111111111,
              "#46039f"
             ],
             [
              0.2222222222222222,
              "#7201a8"
             ],
             [
              0.3333333333333333,
              "#9c179e"
             ],
             [
              0.4444444444444444,
              "#bd3786"
             ],
             [
              0.5555555555555556,
              "#d8576b"
             ],
             [
              0.6666666666666666,
              "#ed7953"
             ],
             [
              0.7777777777777778,
              "#fb9f3a"
             ],
             [
              0.8888888888888888,
              "#fdca26"
             ],
             [
              1,
              "#f0f921"
             ]
            ],
            "type": "contour"
           }
          ],
          "contourcarpet": [
           {
            "colorbar": {
             "outlinewidth": 0,
             "ticks": ""
            },
            "type": "contourcarpet"
           }
          ],
          "heatmap": [
           {
            "colorbar": {
             "outlinewidth": 0,
             "ticks": ""
            },
            "colorscale": [
             [
              0,
              "#0d0887"
             ],
             [
              0.1111111111111111,
              "#46039f"
             ],
             [
              0.2222222222222222,
              "#7201a8"
             ],
             [
              0.3333333333333333,
              "#9c179e"
             ],
             [
              0.4444444444444444,
              "#bd3786"
             ],
             [
              0.5555555555555556,
              "#d8576b"
             ],
             [
              0.6666666666666666,
              "#ed7953"
             ],
             [
              0.7777777777777778,
              "#fb9f3a"
             ],
             [
              0.8888888888888888,
              "#fdca26"
             ],
             [
              1,
              "#f0f921"
             ]
            ],
            "type": "heatmap"
           }
          ],
          "histogram": [
           {
            "marker": {
             "pattern": {
              "fillmode": "overlay",
              "size": 10,
              "solidity": 0.2
             }
            },
            "type": "histogram"
           }
          ],
          "histogram2d": [
           {
            "colorbar": {
             "outlinewidth": 0,
             "ticks": ""
            },
            "colorscale": [
             [
              0,
              "#0d0887"
             ],
             [
              0.1111111111111111,
              "#46039f"
             ],
             [
              0.2222222222222222,
              "#7201a8"
             ],
             [
              0.3333333333333333,
              "#9c179e"
             ],
             [
              0.4444444444444444,
              "#bd3786"
             ],
             [
              0.5555555555555556,
              "#d8576b"
             ],
             [
              0.6666666666666666,
              "#ed7953"
             ],
             [
              0.7777777777777778,
              "#fb9f3a"
             ],
             [
              0.8888888888888888,
              "#fdca26"
             ],
             [
              1,
              "#f0f921"
             ]
            ],
            "type": "histogram2d"
           }
          ],
          "histogram2dcontour": [
           {
            "colorbar": {
             "outlinewidth": 0,
             "ticks": ""
            },
            "colorscale": [
             [
              0,
              "#0d0887"
             ],
             [
              0.1111111111111111,
              "#46039f"
             ],
             [
              0.2222222222222222,
              "#7201a8"
             ],
             [
              0.3333333333333333,
              "#9c179e"
             ],
             [
              0.4444444444444444,
              "#bd3786"
             ],
             [
              0.5555555555555556,
              "#d8576b"
             ],
             [
              0.6666666666666666,
              "#ed7953"
             ],
             [
              0.7777777777777778,
              "#fb9f3a"
             ],
             [
              0.8888888888888888,
              "#fdca26"
             ],
             [
              1,
              "#f0f921"
             ]
            ],
            "type": "histogram2dcontour"
           }
          ],
          "mesh3d": [
           {
            "colorbar": {
             "outlinewidth": 0,
             "ticks": ""
            },
            "type": "mesh3d"
           }
          ],
          "parcoords": [
           {
            "line": {
             "colorbar": {
              "outlinewidth": 0,
              "ticks": ""
             }
            },
            "type": "parcoords"
           }
          ],
          "pie": [
           {
            "automargin": true,
            "type": "pie"
           }
          ],
          "scatter": [
           {
            "fillpattern": {
             "fillmode": "overlay",
             "size": 10,
             "solidity": 0.2
            },
            "type": "scatter"
           }
          ],
          "scatter3d": [
           {
            "line": {
             "colorbar": {
              "outlinewidth": 0,
              "ticks": ""
             }
            },
            "marker": {
             "colorbar": {
              "outlinewidth": 0,
              "ticks": ""
             }
            },
            "type": "scatter3d"
           }
          ],
          "scattercarpet": [
           {
            "marker": {
             "colorbar": {
              "outlinewidth": 0,
              "ticks": ""
             }
            },
            "type": "scattercarpet"
           }
          ],
          "scattergeo": [
           {
            "marker": {
             "colorbar": {
              "outlinewidth": 0,
              "ticks": ""
             }
            },
            "type": "scattergeo"
           }
          ],
          "scattergl": [
           {
            "marker": {
             "colorbar": {
              "outlinewidth": 0,
              "ticks": ""
             }
            },
            "type": "scattergl"
           }
          ],
          "scattermap": [
           {
            "marker": {
             "colorbar": {
              "outlinewidth": 0,
              "ticks": ""
             }
            },
            "type": "scattermap"
           }
          ],
          "scattermapbox": [
           {
            "marker": {
             "colorbar": {
              "outlinewidth": 0,
              "ticks": ""
             }
            },
            "type": "scattermapbox"
           }
          ],
          "scatterpolar": [
           {
            "marker": {
             "colorbar": {
              "outlinewidth": 0,
              "ticks": ""
             }
            },
            "type": "scatterpolar"
           }
          ],
          "scatterpolargl": [
           {
            "marker": {
             "colorbar": {
              "outlinewidth": 0,
              "ticks": ""
             }
            },
            "type": "scatterpolargl"
           }
          ],
          "scatterternary": [
           {
            "marker": {
             "colorbar": {
              "outlinewidth": 0,
              "ticks": ""
             }
            },
            "type": "scatterternary"
           }
          ],
          "surface": [
           {
            "colorbar": {
             "outlinewidth": 0,
             "ticks": ""
            },
            "colorscale": [
             [
              0,
              "#0d0887"
             ],
             [
              0.1111111111111111,
              "#46039f"
             ],
             [
              0.2222222222222222,
              "#7201a8"
             ],
             [
              0.3333333333333333,
              "#9c179e"
             ],
             [
              0.4444444444444444,
              "#bd3786"
             ],
             [
              0.5555555555555556,
              "#d8576b"
             ],
             [
              0.6666666666666666,
              "#ed7953"
             ],
             [
              0.7777777777777778,
              "#fb9f3a"
             ],
             [
              0.8888888888888888,
              "#fdca26"
             ],
             [
              1,
              "#f0f921"
             ]
            ],
            "type": "surface"
           }
          ],
          "table": [
           {
            "cells": {
             "fill": {
              "color": "#EBF0F8"
             },
             "line": {
              "color": "white"
             }
            },
            "header": {
             "fill": {
              "color": "#C8D4E3"
             },
             "line": {
              "color": "white"
             }
            },
            "type": "table"
           }
          ]
         },
         "layout": {
          "annotationdefaults": {
           "arrowcolor": "#2a3f5f",
           "arrowhead": 0,
           "arrowwidth": 1
          },
          "autotypenumbers": "strict",
          "coloraxis": {
           "colorbar": {
            "outlinewidth": 0,
            "ticks": ""
           }
          },
          "colorscale": {
           "diverging": [
            [
             0,
             "#8e0152"
            ],
            [
             0.1,
             "#c51b7d"
            ],
            [
             0.2,
             "#de77ae"
            ],
            [
             0.3,
             "#f1b6da"
            ],
            [
             0.4,
             "#fde0ef"
            ],
            [
             0.5,
             "#f7f7f7"
            ],
            [
             0.6,
             "#e6f5d0"
            ],
            [
             0.7,
             "#b8e186"
            ],
            [
             0.8,
             "#7fbc41"
            ],
            [
             0.9,
             "#4d9221"
            ],
            [
             1,
             "#276419"
            ]
           ],
           "sequential": [
            [
             0,
             "#0d0887"
            ],
            [
             0.1111111111111111,
             "#46039f"
            ],
            [
             0.2222222222222222,
             "#7201a8"
            ],
            [
             0.3333333333333333,
             "#9c179e"
            ],
            [
             0.4444444444444444,
             "#bd3786"
            ],
            [
             0.5555555555555556,
             "#d8576b"
            ],
            [
             0.6666666666666666,
             "#ed7953"
            ],
            [
             0.7777777777777778,
             "#fb9f3a"
            ],
            [
             0.8888888888888888,
             "#fdca26"
            ],
            [
             1,
             "#f0f921"
            ]
           ],
           "sequentialminus": [
            [
             0,
             "#0d0887"
            ],
            [
             0.1111111111111111,
             "#46039f"
            ],
            [
             0.2222222222222222,
             "#7201a8"
            ],
            [
             0.3333333333333333,
             "#9c179e"
            ],
            [
             0.4444444444444444,
             "#bd3786"
            ],
            [
             0.5555555555555556,
             "#d8576b"
            ],
            [
             0.6666666666666666,
             "#ed7953"
            ],
            [
             0.7777777777777778,
             "#fb9f3a"
            ],
            [
             0.8888888888888888,
             "#fdca26"
            ],
            [
             1,
             "#f0f921"
            ]
           ]
          },
          "colorway": [
           "#636efa",
           "#EF553B",
           "#00cc96",
           "#ab63fa",
           "#FFA15A",
           "#19d3f3",
           "#FF6692",
           "#B6E880",
           "#FF97FF",
           "#FECB52"
          ],
          "font": {
           "color": "#2a3f5f"
          },
          "geo": {
           "bgcolor": "white",
           "lakecolor": "white",
           "landcolor": "#E5ECF6",
           "showlakes": true,
           "showland": true,
           "subunitcolor": "white"
          },
          "hoverlabel": {
           "align": "left"
          },
          "hovermode": "closest",
          "mapbox": {
           "style": "light"
          },
          "paper_bgcolor": "white",
          "plot_bgcolor": "#E5ECF6",
          "polar": {
           "angularaxis": {
            "gridcolor": "white",
            "linecolor": "white",
            "ticks": ""
           },
           "bgcolor": "#E5ECF6",
           "radialaxis": {
            "gridcolor": "white",
            "linecolor": "white",
            "ticks": ""
           }
          },
          "scene": {
           "xaxis": {
            "backgroundcolor": "#E5ECF6",
            "gridcolor": "white",
            "gridwidth": 2,
            "linecolor": "white",
            "showbackground": true,
            "ticks": "",
            "zerolinecolor": "white"
           },
           "yaxis": {
            "backgroundcolor": "#E5ECF6",
            "gridcolor": "white",
            "gridwidth": 2,
            "linecolor": "white",
            "showbackground": true,
            "ticks": "",
            "zerolinecolor": "white"
           },
           "zaxis": {
            "backgroundcolor": "#E5ECF6",
            "gridcolor": "white",
            "gridwidth": 2,
            "linecolor": "white",
            "showbackground": true,
            "ticks": "",
            "zerolinecolor": "white"
           }
          },
          "shapedefaults": {
           "line": {
            "color": "#2a3f5f"
           }
          },
          "ternary": {
           "aaxis": {
            "gridcolor": "white",
            "linecolor": "white",
            "ticks": ""
           },
           "baxis": {
            "gridcolor": "white",
            "linecolor": "white",
            "ticks": ""
           },
           "bgcolor": "#E5ECF6",
           "caxis": {
            "gridcolor": "white",
            "linecolor": "white",
            "ticks": ""
           }
          },
          "title": {
           "x": 0.05
          },
          "xaxis": {
           "automargin": true,
           "gridcolor": "white",
           "linecolor": "white",
           "ticks": "",
           "title": {
            "standoff": 15
           },
           "zerolinecolor": "white",
           "zerolinewidth": 2
          },
          "yaxis": {
           "automargin": true,
           "gridcolor": "white",
           "linecolor": "white",
           "ticks": "",
           "title": {
            "standoff": 15
           },
           "zerolinecolor": "white",
           "zerolinewidth": 2
          }
         }
        },
        "xaxis": {
         "anchor": "y",
         "domain": [
          0,
          1
         ],
         "title": {
          "text": "value"
         }
        },
        "yaxis": {
         "anchor": "x",
         "domain": [
          0,
          1
         ],
         "title": {
          "text": "breed_group"
         }
        }
       }
      }
     },
     "metadata": {},
     "output_type": "display_data"
    }
   ],
   "source": [
    "aggressive_columns = ['Aggressive_dogs_samegender', 'Aggressive_people', 'Aggressive_dogs_oppositegender', 'aggressiveness_dominance_score']\n",
    "\n",
    "means = dogs.groupby('breed_group')[aggressive_columns].mean().reset_index()\n",
    "means['Aggressive_columns_sum'] = means[aggressive_columns[0]] + means[aggressive_columns[1]] + means[aggressive_columns[2]]\n",
    "means.sort_values(by='Aggressive_columns_sum', inplace=True)\n",
    "fig = px.bar(means, y='breed_group', x=aggressive_columns[:-1])\n",
    "\n",
    "fig.show()"
   ]
  },
  {
   "cell_type": "markdown",
   "id": "77f13d5a",
   "metadata": {},
   "source": [
    "Ako sme mohli predpokladať, tak bojové plemená majú najväčšiu agresivitu, zaujímavé je (aspoň pre mňa), že nemecký ovčiak berie 2. miesto"
   ]
  },
  {
   "cell_type": "markdown",
   "id": "8f2fbede",
   "metadata": {},
   "source": [
    "### Porovnanie znakov psov patriacich do plemien Fighting_breeds vs Larador_Retriever. V akých znakoch sa značne odlišujú ?"
   ]
  },
  {
   "cell_type": "markdown",
   "id": "4408f7ab",
   "metadata": {},
   "source": [
    "## Vply socializácie psa na jeho agresivitu\n",
    "(predpoklad: menšia socializácia, väčšia agresivita)"
   ]
  },
  {
   "cell_type": "code",
   "execution_count": 4,
   "id": "93ec6ec9",
   "metadata": {},
   "outputs": [
    {
     "data": {
      "application/vnd.plotly.v1+json": {
       "config": {
        "plotlyServerURL": "https://plot.ly"
       },
       "data": [
        {
         "hovertemplate": "socialization=%{x}<br>aggressiveness_dominance_score=%{y}<extra></extra>",
         "legendgroup": "",
         "line": {
          "color": "#636efa",
          "dash": "solid"
         },
         "marker": {
          "symbol": "circle"
         },
         "mode": "lines",
         "name": "",
         "showlegend": false,
         "type": "scattergl",
         "x": {
          "bdata": "AAAAAAAA+H8AAAAAAAD4fwAAAAAAAPh/AAAAAAAA+H8AAAAAAAD4fwAAAAAAAPh/AAAAAAAA+H8AAAAAAAD4fwAAAAAAAPh/AAAAAAAA+H8AAAAAAAD4fwAAAAAAAPh/AAAAAAAA+H8AAAAAAAD4fwAAAAAAAPh/AAAAAAAA+H8AAAAAAAD4fwAAAAAAAPh/AAAAAAAA+H8AAAAAAAD4fwAAAAAAAPh/AAAAAAAA+H8AAAAAAAD4fwAAAAAAAPh/AAAAAAAA+H8AAAAAAAD4fwAAAAAAAPh/AAAAAAAA+H8AAAAAAAD4f1AL7MWirQrAb8RnunZQCsCu/czcpRAKwDppDgWF3QnAxdRPLWSqCcAEnJeDyoUJwAx6ir3laQnAjl0vVX1LCcAPQdTsFC0JwIzR2MkjDgnA8WwgvsP0CMBWCGiyY9sIwOSZ2B2vwQjAGflL3+KlCMB+lJPTgowIwOIv28cicwjAFvcBeiFZCMBLvigsID8IwH+FT94eJQjAskx2kB0LCMDGQOiOt/UHwAoJe8/y4AfATtENEC7MB8Acq04X/bYHwOuEjx7MoQfADHz+5FqMB8B7LcWdeXkHwO4xLBEhZwfAqzuxRVFTB8BNCGmxZEEHwBM+kaZZLgfA3gByiRgcB8CFuBa/6QgHwCodGzoy9QbAzYEftXrhBsBx5iMww80GwBJsCyuDuwbAC2vAQK6rBsACF9WbUJsGwIYnOHgPiwbAUeoYW854BsAcrfk9jWYGwL55samgVAbAuXhmv8tEBsCydxvV9jQGwK120OohJQbAX0T05HEYBsAREhjfwQsGwMPfO9kR/wXAda1f02HyBcD8kU9VzuMFwH4jnxyy1AXAqfZ0dH7FBcBLuJwFt7YFwOx5xJbvpwXAOh6+aGiZBcDt6+FiuIwFwJ+5BV0IgAXAf3Bdzzt1BcCJcH5zo2oFwJNwnxcLYAXAnnDAu3JVBcBvAzzNaEwFwHdrEGKbQwXAgdPk9s06BcC6m1aToTAFwMTiR6hcJgXA0OJoTMQbBcAJq9rolxEFwIlfNZMqBwXAGSCMptT+BMCq4OK5fvYEwDqhOc0o7gTA9tZAHrblBMBc6HvsvdsEwJWw7YiR0QTAz3hfJWXHBMAxN/o45LwEwDw3G91LsgTA/xA7QLOnBMDu044b/p4EwFAGrWl9lgTAic4eBlGMBMDClpCiJIIEwPteAj/4dwTAMyd028ttBMBs7+V3n2MEwHk214xaWQTAg33IoRVPBMBdb7DQmkMEwGSdbDKMOgTAobh+iegwBMCa6ONasScEwF+WkGPGHgTAI0Q9bNsVBMAtrBEBDg0EwGSVZh1ZBATAZvwCcfD7A8Bt4+5hjvIDwNe5mXNE6QPAQpBEhfrfA8CtZu+WsNYDwBk9mqhmzQPAKh0U9SDEA8CUIVrEYLwDwClvacXUtAPAu2nYC8CsA8DLr6Rr6KQDwFtw+36SnAPA37EOF++SA8Bj8yGvS4kDwHkYC4/8fwPACxN61ed3A8Cc09DokW8DwFXEaKYoZwPA50pUshNdA8AhE8ZO51IDwFmUZ3pnSAPAkBUJpuc9A8D767O3nTQDwGbCXslTKwPAnHGbsl0iA8Cihs+MBxkDwKebA2exDwPA2veflTIGA8BquPao3P0CwPp4TbyG9QLA7YOtkFDtAsDlhmN/m+UCwE1/2QSm3QLA33lIS5HVAsC/6/NoGM0CwIEtx7xKxALAD5t9FWy7AsCcCDRujbICwCp26sauqQLAYXjHakGhAsA3XuM2wJgCwNVPf/tqkALAxuZffGOJAsC3fUD9W4ICwNSJ0bs3ewLAl58xtRd0AsAEMTByIW0CwHKIFvzpZQLA2wDgBSpgAsCcNyN/gVoCwLQs4GfwVALAzeeEHR5PAsDjoinTS0kCwPtdzoh5QwLAE1OLceg9AsBc4lBptzgCwKNxFmGGMwLAm5Wvz0gtAsC+OsnFIycCwLNeYjTmIALAqoL7oqgaAsBruT4cABUCwIkNbAktEALAfF+gNXkLAsAgOpiKKQcCwONEaKkuAwLAMxqGiED/AcCD76NnUvsBwKT8cE749gHA7sVOeQjyAcD2gpyeDewBwLe53xdl5gHAefAikbzgAcDyAGXJE9sBwLM3qEJr1QHA+q3lsvLPAcA/JCMjesoBwFpqH+kUxQHALkWr2ri/AcAWOP+XerkBwDrq0MtnswHAW4MaeA2tAcDFwXh6jqUBwC8A13wPngHAmT41f5CWAcADfZOBEY8BwG2B2VBRhwHAI6AMzHGAAcDavj9HknkBwJ2Nz88ecgHAXlCPDnZqAcDvSv5UYWIBwIBFbZtMWgHAEUDc4TdSAcCiOksoI0oBwDP7oTvNQQHAmUZIEZQ5AcAqB58kPjEBwAFAW6tFKQHAa365rcYhAcApKEQ5VBsBwDyQSDT5FAHAUPhML54OAcCrhlJrQwgBwJN5pigFAgHAVHbRbhv8AMBrMXYkSfYAwIQmMw248ADAEtAp/FHrAMAzo96vtuYAwDTmsS4Z4gDAxII/bY7dAMBvL19D/9kAwBrcfhlw1gDAlsBN93TSAMATpRzVec4AwDkFinaoygDAXmX3F9fGAMA9n2N4BcMAwK8LjZ6CvwDA9vVNSQq8AMBsqF/s/bgAwNVh4zPVtQDAStrco4eyAMC/UtYTOq8AwDQF6LYtrADAqrf5WSGpAMD09Fq/MaYAwCaCp6lQowDA9Qu7Q6OgAMBvEW2hH54AwOcWH/+bmwDAYRzRXBiZAMDaIYO6lJYAwFQnNRgRlADAzCzndY2RAMBGMpnTCY8AwEqDEStbjADAdHA3ulOJAMC8ocjVLoYAwCRjOyYMgwDA0lVDefN/AMAck6TeA30AwGbQBUQUegDAC0to33N3AMCvxcp603QAwHw2Vo3ecQDAIbG4KD5vAMDdicsMMmwAwCbHLHJCaQDAnpLGnH1mAMDp3N8/oGMAwDzN5oNWYADAhP53nzFdAMDMLwm7DFoAwBRhmtbnVgDAW5Ir8sJTAMCjw7wNnlAAwOv0TSl5TQDAMybfRFRKAMB7V3BgL0cAwCY+qGnhQwDA0iTgcpNAAMBeezZHQz0AwNuZHViJOQDA4smyL2M1AMDWVf+O8DAAwGsLNjKMLADA2iS/nYAoAMBT8AX0PSQAwL6KB5n6HwDAAi/gxgscAMAWC2j8sBcAwCvn7zFWEwDAFE7HKRgPAMD7s2KZrgoAwA+Q6s5TBgDAXKxotOwBAMCuIW8k4/v/v6lePUZv9P+/noNr1JDs/7/wqppx4+T/v+nnaJNv3f+/NKhD1szV/79/aB4ZKs7/v8so+VuHxv+/D0OTKdO9/78AZvBvy7T/v/KITbbDq/+/My+3HY2i/7/FwXJzrZj/v5Hp4O0fj/+/Y9pzAaCD/7/G1xtte3f/v0lFol8qbP+/to/MxLFh/79LIoga0lf/v4bK4vQrTv+/w3I9z4VE/79dqzmatzv/v6HF02cDM/+/kugwrvsp/7+gSFtdryH/vyFcg4piGf+/oW+rtxUR/7+VlIAOZQj/v41dHspuAP+/E6bPJZH4/r89Xt+Q2+/+v2QW7/sl5/6/keae+tre/r+9tk75j9b+v5WCDHaDzv6/hqVpvHvF/r8aOCUSnLv+v6vK4Ge8sf6/B6Msn0So/r/ruPQVNp7+v83OvIwnlP6/YGF44keK/r9HBeE64ID+v+2tQyO6dv6/xeJGbTNu/r9NK/jIVWb+v9NzqSR4Xv6/W7xagJpW/r/hBAzcvE7+v2lNvTffRv6/75VukwE//r923h/vIzf+v6Y8cM9/L/6/1w7xFV4o/r/to6TzgCD+v4+FWlOkGP6/ohoOMccQ/r9GoIz1pAn+v0LdWhcxAv6/HB1J+qb6/b/FbcUt3PP9v1Rct/4P7f2/sCdOOyrk/b/zzbei89r9v4Rgc/gT0f2/rBiDY17I/b8yYTS/gMD9v7qp5RqjuP2/fVJHCm+x/b8NtWlBJav9v5wXjHjbpP2/LHqur5Ge/b8V39H1eJj9v0E/+6sek/2/MkpfZxeO/b8jVcMiEIn9vxNgJ94IhP2/BGuLmQF//b/1de9U+nn9v+aAUxDzdP2/14u3y+tv/b/JlhuH5Gr9v7qhf0LdZf2/qqzj/dVg/b/5R+mpplz9v9EteccgWP2/GvAs4MdS/b9hsuD4bk39v/e6Q6U2SP2/w+PiHTxC/b9TRgVV8jv9v/4Ksu6pNf2/2/K5HHsx/b/Q/+4fnS39v4OfxiLIKv2/LkGPmIMn/b+cGWKtDyT9v0NH+rxIIP2/63SSzIEc/b/sjItXgRj9v+2khOKAFP2/7bx9bYAQ/b+PRNUHqAv9vzHMLKLPBv2/01OEPPcB/b9129vWHv38vxljM3FG+Py/C26XLD/z/L/9ePvnN+78v++DX6Mw6fy/4Y7DXink/L8khnkIed78v7Tomz8v2Py/sSVqYbvQ/L+sYjiDR8n8v7WqaWe+v/y/3mJ50gi3/L8HG4k9U678v4vVmbfOpfy/+mxOpCKe/L8zSpNy3pb8v24n2ECaj/y/HLgajVWI/L+jAMzod4D8vwvKCUeUePy/qgAVnzVw/L+BNRjprmf8v8VPsrb6Xvy/C2pMhEZW/L/1mYXWy038v9ojfrM/RPy/vjlGKjE6/L+hTw6hIjD8v4FNNoSpJfy/YUteZzAb/L9BSYZKtxD8vyFHri0+Bvy/scHJ7/P7+7+Rv/HSevH7vy1SpZp65vu/XzwfbFjb+79AOkdP39D7v9TMAqX/xvu/VTqJl667+7/Xpw+KXbD7v8G/qEh4p/u/rNdBB5Oe+7+V79rFrZX7v38HdITIjPu/wq3d65GD+78znNC103n7v4fBJn3cb/u/9AtR4mNl+7+Hngw4hFv7v+DF2g/kUfu/Cn7qei5J+783AfhU0ED7v79JqbDyOPu/RJJaDBUx+7/M2gtoNyn7v1vJ/ThrIvu/6isgcCEc+7/XHuSXrxb7v8cpSFOoEfu/uTSsDqEM+7+qPxDKmQf7v5tKdIWSAvu/jFXYQIv9+r8s3S/bsvj6v2O8TX+48/q/U8exOrHu+r+3hRN0qen6vxxEda2h5Pq/fASwvOPh+r/cxOrLJd/6v27lTtFK3Pq/PI6J7zTZ+r/puTCM3dX6v+zpyapH0vq/4vb+rWnO+r+qu6pOE8v6v6NsT38dx/q/YTF0ggDD+r8CucscKL76v/XDL9ggufq/586Tkxm0+r/a2fdOEq/6v8zkWwoLqvq/vu+/xQOl+r+x+iOB/J/6v6MFiDz1mvq/lRDs9+2V+r+HG1Cz5pD6v3smtG7fi/q/bTEYKtiG+r9fPHzl0IH6v1FH4KDJfPq/Q1JEXMJ3+r82XagXu3L6v9Z7uuRcbvq/JxfAkC1q+r8E/8e+/mX6v+Hmz+zPYfq/aheIvfJd+r/yR0COFVr6v0kYz2hVVvq/YmCHKtBS+r+eJdNtjE/6v4PmLC+HTPq/HTwaYxtK+r8GflmFBkf6vyMG2F8HQ/q/X36BfrA/+r8JtwQn5jz6v2Fse65KOvq/Cw5EJAY3+r8KJj2vBTP6vwk+NjoFL/q/B1YvxQQr+r8GbihQBCf6v6f1f+orIvq/SX3XhFMd+r/pBC8fexj6v4qMhrmiE/q/KxTeU8oO+r/LmzXu8Qn6v2wjjYgZBfq/DavkIkEA+r+uMjy9aPv5v589oHhh9vm/j0gENFrx+b+AU2jvUuz5vzT+Gxei5vm/xGA+Tljg+b9Tw2CFDtr5v+Mlg7zE0/m/c4il83rN+b8C68cqMcf5v5JN6mHnwPm/IbAMmZ26+b/SpslB5LT5v05XRzIVsPm/QWKr7Q2r+b/i6QKINab5vyXhuDGFoPm/F+wc7X2b+b+0gFCTMpf5v56A8MZNkvm/MvuykW6M+b/GdXVcj4b5v7mA2ReIgfm/q4s904B8+b+elqGOeXf5v5ChBUpycvm/gqxpBWtt+b91t83AY2j5v2fCMXxcY/m/Ws2VN1Ve+b9L2PnyTVn5v+1fUY11VPm/kOeoJ51P+b/WbP+yk0r5v7E8Z036Rfm/sFRg2PlB+b8A8GWEyj35v6F3vR7yOPm/Qf8UuRk0+b/jhmxTQS/5v4MOxO1oKvm/JJYbiJAl+b9UnYbC0CD5v3CBlW/pHPm/pS5BHzsZ+b/d2+zOjBX5v8KcRpCHEvm/qV2gUYIP+b+PHvoSfQz5vyl050YRCvm/ZzsE0vYH+b8ath7b2wX5v8wwOeTAA/m/JeavayUB+b/rgyYCMv74vz8h/fUr+/i/NS4y+U33+L8rO2f8b/P4v8O3+g667vi/0OeLnwPq+L/bFx0wTeX4v8wigetF4Pi/MOHiJD7b+L/RaDq/Zdb4v8Jznnpe0fi/tH4CNlfM+L9WBlrQfsf4v6ahX3xPw/i/9jxlKCC/+L/pR8njGLr4v9tSLZ8Rtfi/zl2RWgqw+L+/aPUVA6v4v7JzWdH7pfi/pH69jPSg+L+WiSFI7Zv4vzkReeIUl/i/2ZjQfDyS+L96ICgXZI34vxqof7GLiPi/a0OFXVyE+L9HK42LLYD4vyUTlbn+e/i/W8BAaVB4+L8lhewJ+nT4v2BKOE22cfi/+p8lgUpv+L+T9RK13mz4v4vbodlKa/i/Dg4zgLdp+L+TQMQmJGj4vzGYgqLhZvi/XTxDoJ9l+L+nGQ9MX2T4v0qJbVuHY/i/7PjLaq9i+L+NaCp612H4vy/YiIn/YPi/0UfnmCdg+L/RR+eYJ2D4v9FH55gnYPi/0UfnmCdg+L9D++QWJ2D4vwtmMvLUX/i/CfIBjFJf+L8cFV4Zel74vy84uqahXfi/tg4Usshc+L895W2971v4v3mqEjh+Wfi/0V+Jv+JW+L8rFQBHR1T4v4PKds6rUfi/3X/tVRBP+L81NWTddEz4v4/q2mTZSfi/b3ar92RG+L8XpEMHnkL4vxW8PJKdPvi/FdQ1HZ06+L8T7C6onDb4v2SHNFRtMvi/tCI6AD4u+L8Evj+sDir4v1VZRVjfJfi/pfRKBLAh+L/2j1CwgB34v0YrVlxRGfi/l8ZbCCIV+L/nYWG08hD4vzf9ZmDDDPi/h5hsDJQI+L+3bMYovAP4v5CJ0Oc1//e/M4VY6N/697/B6VP13/b3v5/RWyOx8ve/CwZm04Lu9792OnCDVOr3vy6AL8S+5/e/OYkadlLl979DkgUo5uL3v0+b8Nl54Pe/WqTbiw3e97+QUYc7X9r3vzd/H0uY1ve/r8C+ynDT979fYJbNm9D3vwuZGXbRzfe/IbqcLa/K978ca0Feucb3v8OY2W3ywve/gl3+cNW+979AIiN0uLr3v+Gpeg7gtfe/0bTeydiw97/Cv0KF0av3vwW3+C4hpve/R66u2HCg97+LpWSCwJr3v82cGiwQlfe/EZTQ1V+P978CnzSRWIr3v/WpmExRhfe/57T8B0qA978mK81QqXr3vxQekXg3dfe/AhFVoMVv97/vAxnIU2r3v9323O/hZPe/WTajmXBf97/VdWlD/1n3v/Ikjvy1U/e/EdSytWxN978D3xZxZUj3v/YcjEp2Q/e/knCgqMA+978tkaPo8jn3v84Y+4IaNfe/wCNfPhMw978/rtaZJCv3vzC5OlUdJve/BvsBDt0g97/dPMnGnBv3vzrwZni3Fve/23e+Et8R9798/xWtBg33v8qaG1nXCPe/GjYhBagE979n0SaxeAD3v7dsLF1J/Pa/BQgyCRr49r9Voze16vP2v6M+PWG77/a/89lCDYzr9r/0Cdwr9uf2v/c5dUpg5Pa/+WkOacrg9r/8maeHNN32vxLtnDPG2Pa/s3T0ze3T9r9T/EtoFc/2v6SXURTmyva/9DJXwLbG9r9Fzlxsh8L2vyO2ZJpYvva/Ap5syCm69r/iuIUUE7b2v2npPeU1sva/M67phd+u9r+OY2ANRKz2v3eY6jTBqfa/Y/+Ea82n9r9RZh+i2aX2v9WYsEhGpPa/xXN75dSi9r+1TkaCY6H2v6YpER/yn/a/Xm8ply6e9r/8UresaZz2vzwa1DdPmva/fuHwwjSY9r++qA1OGpb2v3IjKFf/k/a/I2sxQsyR9r/w06VHMI/2v+LeCQMpiva/0dHNKreE9r/AxJFSRX/2v5uU+eyreva/7C//mHx29r88ywRFTXL2v2xDJ8Yvbva/nLtJRxJq9r88Q6HhOWX2v97K+HthYPa/flJQFolb9r8f2qewsFb2v8Bh/0rYUfa/YelW5f9M9r8Bca5/J0j2v6L4BRpPQ/a/Q4BdtHY+9r/kB7VOnjn2v4SPDOnFNPa/Jhdkg+0v9r/GnrsdFSv2v2cmE7g8Jva/QEMdd7Yh9r80wrGYMR32v4Rdt0QCGfa/1Pi88NIU9r8klMKcoxD2vwJ8ysp0DPa/4ZbjFl4I9r+mkJFIsAT2v0ToT8RtA/a/51eu05UC9r+JxwzjvQH2vys3a/LlAPa/zKbJAQ4A9r9vFigRNv/1v98lXSp7/vW/UDWSQ8D99b9QNZJDwP31v1A1kkPA/fW/UDWSQ8D99b9QNZJDwP31v1A1kkPA/fW/UDWSQ8D99b9QNZJDwP31v1A1kkPA/fW/UDWSQ8D99b9QNZJDwP31v1A1kkPA/fW/UDWSQ8D99b9QNZJDwP31v1A1kkPA/fW/UDWSQ8D99b9QNZJDwP31v6C4nmSR/fW/Qij9c7n89b9WS1kB4fv1v2putY4I+/W/fZERHDD69b+QtG2pV/n1v6TXyTZ/+PW/t/olxKb39b/MHYJRzvb1v99A3t719fW/82M6bB319b8Gh5b5RPT1v2biTfa68vW//jc7Kk/w9b+WjShe4+31v52/ksR26/W/meRnWwPo9b8EvTpwj+T1v3KVDYUb4fW/3m3gmafd9b9LRrOuM9r1v5LW9NIm1vW/4XH6fvfR9b8wDQAryM31v3+oBdeYyfW/zkMLg2nF9b8d3xAvOsH1vw7qdOoyvPW///TYpSu39b/v/zxhJLL1v4+HlPtLrfW/3yKapxyp9b+8CqLV7aT1v5nyqQO/oPW/d9qxMZCc9b9UwrlfYZj1vzGqwY0ylPW/DpLJuwOQ9b/sedHp1Iv1v8lh2Remh/W/pUnhRXeD9b+DMelzSH/1vxThlTLLe/W/bZYMui959b/FS4NBlHb1v7AkfZb5c/W/pQoMu2Vy9b8qPZ1h0nD1v61vLgg/b/W/MqK/rqtt9b+21FBVGGz1v19Pc+wda/W/Ar/R+0Vq9b+jLjALbmn1v0WejhqWaPW/5g3tKb5n9b+JfUs55mb1v4l9SznmZvW/iX1LOeZm9b+JfUs55mb1v4l9SznmZvW/iX1LOeZm9b+JfUs55mb1v4l9SznmZvW/iX1LOeZm9b+JfUs55mb1v4l9SznmZvW/iX1LOeZm9b+JfUs55mb1v4l9SznmZvW/iX1LOeZm9b+JfUs55mb1v4l9SznmZvW/iX1LOeZm9b+JfUs55mb1v4l9SznmZvW/iX1LOeZm9b+JfUs55mb1v4l9SznmZvW/iX1LOeZm9b+JfUs55mb1v4l9SznmZvW/iX1LOeZm9b+JfUs55mb1v4l9SznmZvW/iX1LOeZm9b+JfUs55mb1v4l9SznmZvW/iX1LOeZm9b+JfUs55mb1v4l9SznmZvW/iX1LOeZm9b+JfUs55mb1v4l9SznmZvW/iX1LOeZm9b/9MEm35Wb1v2/kRjXlZvW/hAejwgxm9b8u3lUsKmX1v801FKjnY/W/a43SI6Vi9b9baJ3AM2H1v0xDaF3CX/W/Ox4z+lBe9b+hLeF1z1z1v1Wo+360WvW/rl1yBhlY9b/lCh62alT1v444tsWjUPW/j1CvUKNM9b+PaKjbokj1v4+AoWaiRPW/j5ia8aFA9b+QsJN8oTz1v5DIjAehOPW/wkCviIM09b8S3LQ0VDD1v7NjDM97K/W/U+tjaaMm9b/1crsDyyH1v+d9H7/DHPW/2oiDerwX9b/Je0eiShL1v7duC8rYDPW/p2HP8WYH9b/HtLwP2AH1v+Vj4ciO+/S/YaOnch329L9JLxdAtvD0vzw6e/uu6/S/LkXftqfm9L/PzDZRz+H0v3BUjuv23PS/EdzlhR7Y9L88L1pBVtP0vxkXYm8nz/S/UsQNH3nL9L+reYSm3cj0v5OuDs5axvS/JPk3ehHE9L+1Q2EmyMH0v0WOitJ+v/S/1dizfjW99L9nI90q7Lr0v/dtBteiuPS/VlgGjXa29L+XHyMYXLT0v4n67bTqsvS/edW4UXmx9L9nsIPuB7D0vwcIQmrFrvS/pV8A5oKt9L9Hz171qqz0v+o+vQTTq/S/jK4bFPuq9L+JClOvQKr0v4kKU69AqvS/iQpTr0Cq9L+JClOvQKr0v4kKU69AqvS/iQpTr0Cq9L+JClOvQKr0v4kKU69AqvS/+71QLUCq9L9sPj2NJ6r0v96+Ke0OqvS/pSl3yLyp9L+CtyAxkqj0v+odnLXlpvS/QdMSPUqk9L+biInErqH0v/xIxNPwnvS//nhd8lqb9L//qPYQxZf0vwHZjy8vlPS/BAkpTpmQ9L8GOcJsA430v65mWnw8ifS/rX5TBzyF9L/8GVmzDIH0v0q1Xl/dfPS/mlBkC6549L/p62m3fnT0vzeHb2NPcPS/hSJ1DyBs9L/VvXq78Gf0vyRZgGfBY/S/cvSFE5Jf9L/Cj4u/Ylv0vxErkWszV/S/YMaWFwRT9L+uYZzD1E70v/78oW+lSvS/2+SpnXZG9L8L7BTYtkH0vzrzfxL3PPS/EhCK0XA49L/WCTgDwzT0vxArFBmXMfS/Wf30K1ov9L/wUuJf7iz0v4CdCwylKvS/b3jWqDMp9L9eU6FFwif0v00ubOJQJvS/PAk3f98k9L8r5AEcbiP0v3PBzcctIvS/2Wc2diYh9L/uipIDTiD0vwOu7pB1H/S/USYQGUoe9L/yIT7C7xz0v1cx7D1uG/S/MfSXN+wZ9L9ZOlBSOxj0v2WEWkw5FvS/F8xjNwYU9L+wIVFrmhH0v7pTu9EtD/S/woUlOMEM9L/Mt4+eVAr0v+cMVpIPB/S/GoV4E/IC9L9qIH6/wv7zv7u7g2uT+vO/C1eJF2T2879c8o7DNPLzv6yNlG8F7vO//SiaG9bp87/9QJOm1eXzv/1YjDHV4fO//nCFvNTd87/+iH5H1Nnzv/+gd9LT1fO//rhwXdPR87//0Gno0s3zv//oYnPSyfO/jE1egNLF879qNWauo8Hzv5cJwMrLvPO/jIhU7Ea4878thNzs8LPzvwts5BrCr/O/dKDuypOr87+PUexZlKfzv8X+lwnmo/O/Vq5EyGig878AUA0+JJ3zvzkVWYHgmfO/c9qkxJyW878gU+6FWJPzv7qo27nskPO/PttsYFmP879R/sjtgI7zv2QhJXuojfO/eUSBCNCM87+MZ92V94vzv6CKOSMfi/O/s62VsEaK87/G0PE9bonzv9vzTcuViPO/AToG5uSG878qgL4ANIXzvylL1AzSgvO/ggBLlDaA8799JSArw3zzv3lK9cFPefO/c2/KWNx1878a+fI6LXLzv3E6OVwPb/O/yXt/ffFr8793pyYammjzvyXTzbZCZfO/1P50U+th87+CKhzwk17zvzFWw4w8W/O/34FqKeVX87+OrRHGjVTzvz3ZuGI2UfO/6wRg/95N878mfQkeiErzvyGi3rQUR/O/jnqxyaBD87/7UoTeLEDzv2crV/O4PPO/0wMqCEU587+zX2KcmDXzv5FHasppMfO/bi9y+Dot879MF3omDCnzvyn/gVTdJPO/88Mt9YYh87+8iNmVMB7zv63IJ0WLG/O/RB4VeR8Z8787BKSdixfzvzDqMsL3FfO/JtDB5mMU878gzvCeOhPzvxoosCkpEvO/E4JvtBcR87+08c3DPxDzv1ZhLNNnD/O/+dCK4o8O87+bQOnxtw3zvzywRwHgDPO/3h+mEAgM87+AjwQgMAvzvyL/Yi9YCvO/xG7BPoAJ879l3h9OqAjzv0mhUuXsB/O/ubCH/jEH878qwLwXdwbzv5rP8TC8BfO/DN8mSgEF878Ia/bjfgTzvwhr9uN+BPO/CGv2434E878Ia/bjfgTzvwhr9uN+BPO/CGv2434E878Ia/bjfgTzvwhr9uN+BPO/CGv2434E878Ia/bjfgTzvwhr9uN+BPO/CGv2434E878Ia/bjfgTzvwhr9uN+BPO/CGv2434E878Ia/bjfgTzvwhr9uN+BPO/CGv2434E878Ia/bjfgTzvwhr9uN+BPO/CGv2434E878Ia/bjfgTzvwhr9uN+BPO/fB70YX4E87/v0fHffQTzvwP1TW2lA/O/GRiq+swC878uOwaI9AHzv0NeYhUcAfO/V4G+okMA879tpBowa//yv4LHdr2S/vK/l+rSSrr98r+sDS/Y4fzyv8Ewi2UJ/PK/1lPn8jD78r/sdkOAWPryvwCanw2A+fK/Fb37mqf48r8r4Fcoz/fyv0ADtLX29vK/VCYQQx728r9qSWzQRfXyv39syF1t9PK/lI8k65Tz8r8y5+JmUvLyvyLCrQPh8PK/EZ14oG/v8r8AeEM9/u3yv7W9W7U67PK/UqHpynXq8r8EHATUWujyvwkaK/4Q5vK/LrwatKXj8r/EOoecOeHyv7dJlXWl3/K//Nuvb+Ld8r+uVsp4x9vyv2DR5IGs2fK/Ekz/ipHX8r/ExhmUdtXyv3dBNJ1b0/K/KrxOpkDR8r/cNmmvJc/yv6LU30UyzPK/l+EUSVTI8r91yRx3JcTyv1KxJKX2v/K/MJks08e78r8NgTQBmbfyv+toPC9qs/K/bE5DTgqv8r/uM0ptqqryv8cDsgcRpvK/odMZoneh8r/ybh9OSJ3yv/GGGNlHmfK/8p4RZEeV8r/ytgrvRpHyvytktp6YjfK/X4PBbEOJ8r8+a8maFIXyv8vPxKcUgfK/wtz5qjZ98r9KDbJ7WXnyv9M9akx8dfK/C+sV/M1x8r/Ur8Gcd27yv550bT0ha/K/aTkZ3spn8r8x/sR+dGTyv/vCcB8eYfK/xIccwMdd8r+OTMhgcVryv0TuF3TzV/K/yyCpGmBW8r9peGeWHVXyvwfQJRLbU/K/pifkjZhS8r9Ff6IJVlHyv+PWYIUTUPK/3jAgEAJP8r/Xit+a8E3yv3v6PaoYTfK/HWqcuUBM8r++2frIaEvyv2BJWdiQSvK/Arm357hJ8r+kKBb34Ejyv0aYdAYJSPK/B/j9WdlH8r8H+P1Z2Ufyvwf4/VnZR/K/B/j9WdlH8r8H+P1Z2Ufyvwf4/VnZR/K/B/j9WdlH8r8H+P1Z2Ufyvwf4/VnZR/K/B/j9WdlH8r8H+P1Z2Ufyvwf4/VnZR/K/B/j9WdlH8r8H+P1Z2Ufyvwf4/VnZR/K/B/j9WdlH8r8H+P1Z2Ufyvwf4/VnZR/K/B/j9WdlH8r8H+P1Z2Ufyvwf4/VnZR/K/B/j9WdlH8r8H+P1Z2Ufyvwf4/VnZR/K/B/j9WdlH8r8H+P1Z2Ufyvwf4/VnZR/K/B/j9WdlH8r8H+P1Z2Ufyvwf4/VnZR/K/B/j9WdlH8r8H+P1Z2Ufyvwf4/VnZR/K/B/j9WdlH8r+nZ1xpAUfyv7yKuPYoRvK/z60UhFBF8r/i0HAReETyv/XzzJ6fQ/K/ChcpLMdC8r8eOoW57kHyvzBd4UYWQfK/RIA91D1A8r/KVpffZD/yv0/638xzPvK/K4iJNUk98r8ZY1TS1zvyv/AlAMxVOvK/V4x7UKk48r+/8vbU/Dbyvz3w/kz6NPK/X+sFtsYy8r9pwd9JQjDyv3KXud29LfK/fG2TcTkr8r/TIgr5nSjyvzTjRAjgJfK/lKN/FyIj8r/1Y7omZCDyv1Uk9TWmHfK/tOQvRega8r96T5W93Bfyv+YnaNJoFPK/6VcB8dIQ8r9KGDwAFQ7yvzcleZFXC/K/JjK2IpoI8r/Q036YVQXyvwxMKLf+AfK/RsTR1af+8b+BPHv0UPvxvy81EXPh9/G/LU0K/uDz8b+ZgRSusu/xvwTpL3yc6/G/G2bqzr/n8b8dloPtKeTxvzbeO6+k4PG/wIIk5knd8b9KJw0d79nxv7w0aWDq1vG/i0TGshbU8b9yeVDak9Hxv1qu2gERz/G/QeNkKY7M8b/aOFJdIsrxv2qDewnZx/G/+82ktY/F8b+LGM5hRsPxvxxj9w39wPG/ra0gurO+8b/ZTR/9t7zxv12AsKMku/G/TFt7QLO58b87NkbdQbjxvyoREXrQtvG/GezbFl+18b9MMhvPdLTxv+6hed6cs/G/kBHY7cSy8b8ygTb97LHxv2JwqKwtsfG/QUC3T/+w8b9BQLdP/7Dxv0FAt0//sPG/QUC3T/+w8b9BQLdP/7Dxv0FAt0//sPG/QUC3T/+w8b9BQLdP/7Dxv0FAt0//sPG/QUC3T/+w8b9BQLdP/7Dxv0FAt0//sPG/QUC3T/+w8b9BQLdP/7Dxv0FAt0//sPG/QUC3T/+w8b9BQLdP/7Dxv0FAt0//sPG/QUC3T/+w8b9BQLdP/7Dxv0FAt0//sPG/QUC3T/+w8b9BQLdP/7Dxv0FAt0//sPG/QUC3T/+w8b9BQLdP/7Dxv0FAt0//sPG/QUC3T/+w8b9BQLdP/7Dxv0FAt0//sPG/QUC3T/+w8b9BQLdP/7Dxv0FAt0//sPG/QUC3T/+w8b9BQLdP/7Dxv0FAt0//sPG/QUC3T/+w8b9BQLdP/7Dxv0FAt0//sPG/QUC3T/+w8b9BQLdP/7Dxv0FAt0//sPG/QUC3T/+w8b9BQLdP/7Dxv0FAt0//sPG/QUC3T/+w8b9BQLdP/7Dxv0FAt0//sPG/QUC3T/+w8b9BQLdP/7Dxv0FAt0//sPG/QUC3T/+w8b9BQLdP/7Dxv0FAt0//sPG/QUC3T/+w8b9BQLdP/7Dxv0FAt0//sPG/QUC3T/+w8b9BQLdP/7Dxv0FAt0//sPG/QUC3T/+w8b9BQLdP/7Dxv0FAt0//sPG/QUC3T/+w8b9BQLdP/7Dxv0FAt0//sPG/QUC3T/+w8b9BQLdP/7Dxv0FAt0//sPG/QUC3T/+w8b9BQLdP/7Dxv0FAt0//sPG/QUC3T/+w8b+087TN/rDxvyenskv+sPG/zaSxPM2w8b+VD/8Xe7Dxv156TPMosPG/IRqcX3+v8b9XbelJ1a7xv22QRdf8rfG/grOhZCSt8b/RK8Ps+Kvxv+I2f+a1qvG/u/kq4DOp8b8135LExqbxv7DE+qhZpPG/tYI0qWqh8b+8QG6pe57xv8L+p6mMm/G/x7zhqZ2Y8b9v6nm51pTxvxcYEskPkfG/v0Wq2EiN8b9nc0LogYnxvw+h2ve6hfG/DrnTgrqB8b8N0cwNun3xvwzpxZi5efG/CwG/I7l18b8KGbiuuHHxvwkxsTm4bfG/B0mqxLdp8b+TraXRt2Xxvx8Sod63YfG/eSybeOhd8b+v2UYoOlrxv+SG8teLVvG/IP+b9jRT8b/pw0eX3k/xv9K45JS2TPG/vK2Bko5J8b9sTVmVuUbxv8zagobjQ/G/RLPcODZB8b8aaXoAdD/xv+8eGMixPfG/5gSn7B088b/sdv58Vjrxv4ZAHBdtOPG/IQo6sYM28b8bZPk7cjXxvxO+uMZgNPG/DBh4UU8z8b8EcjfcPTLxv/7L9mYsMfG/nztVdlQw8b9Bq7OFfC/xv+MaEpWkLvG/hYpwpMwt8b8n+s6z9Czxv8ppLcMcLPG/34yJUEQr8b/zr+XdayrxvwnTQWuTKfG/Hvad+Loo8b8x5uhnyifxvyTZU5jDJvG/xdSBQWkl8b+1r0ze9yPxv/mOCf1HIvG/sCHEmZcg8b9ntH425x7xv63GTHNPHfG/Etb67s0b8b935ahqTBrxv9rctlJgGPG/bpsQZZkW8b/zzaELBhXxv1MpWQh8E/G/s4QQBfIR8b8sqmUTKhDxvzXcz3m9DfG/jpFGASIL8b/nRr2Ihgjxv0D8MxDrBfG/lz16Mc0C8b8GFk1GWf/wv3TuH1vl+/C/4sbyb3H48L/cd5ege/Twv9UoPNGF8PC/shBE/1bs8L+P+EstKOjwv23gU1v54/C/Sshbicrf8L8p43TVs9vwvyj7bWCz1/C/egqkcgbU8L98Oj2RcNDwvypm5C0ZzfC/Zt6NTMLJ8L+hVjdra8bwv9zO4IkUw/C/GEeKqL2/8L9TvzPHZrzwv5JPfXl6ufC/8g+4iLy28L/24xkM4bPwv+ElWS7MsPC/c9UF7U6t8L/suhSaD6rwv9aTDu90p/C/b+n7Igml8L8JP+lWnaLwv6KU1ooxoPC/PV70JEie8L/BkIXLtJzwv0XDFnIhm/C/yvWnGI6Z8L/CT2ejfJjwv7upJi5rl/C/XRmFPZOW8L9xPOHKupXwv4RfPVjilPC/mIKZ5QmU8L+rpfVyMZPwv7/IUQBZkvC/0uutjYCR8L/mDgobqJDwv/oxZqjPj/C/DVXCNfeO8L8heB7DHo7wvzWbelBGjfC/SL7W3W2M8L9c4TJrlYvwv28Ej/i8ivC/gyfrheSJ8L/yNiCfKYnwv0GijCyQiPC/za1vZiaI8L/LOT8ApIfwv8fFDpohh/C/FDF7J4iG8L9hnOe07oXwv64HVEJVhfC/+3LAz7uE8L9H3ixdIoTwv51UXXJmg/C/JCu3fY2C8L+rARGJtIHwvzLYapTbgPC/ua7EnwKA8L/N0SAtKn/wv01tHrI7fvC/RCRec0l98L9xyB5xB3zwv+7v64+WevC/3cq2LCV58L/OpYHJs3fwv1LYEnAgdvC/fAijB1x08L8wg70QQXLwv+T91xkmcPC/rJtOsDJt8L8gqarzLWrwvwU385YQZ/C/k5vuoxBj8L8gAOqwEF/wv3ka5EpBW/C/6yb6m6pX8L8+NjCu/VPwv5FFZsBQUPC/lXX/3rpM8L+ZpZj9JEnwv5zVMRyPRfC/oAXLOvlB8L+kNWRZYz7wv55aOfDvOvC/aB/lkJk38L8y5JAxQzTwv5+mO8O7MPC/ulc5Urws8L/UCDfhvCjwv0Z4nRekJPC/zQAkACUg8L8cnCms9Rvwvxu0Ijf1F/C/qBgeRPUT8L80fRlR9Q/wvyyKTlQXDPC/fpmEZmoI8L9HXjAHFAXwvw8j3Ke9AfC/iYlXdn/+77+Z7StDpvnvv8VQJ1D+9O+/RQ3Wy73x779noigkK+3vv4o3e3yY6O+/rMzN1AXk778rWwfr0N/vv6vpQAGc2++/Knh6F2fX77+pBrQtMtPvvwz86D/8zu+/cfEdUsbK77/V5lJkkMbvvznch3Zawu+/ndG8iCS+778Bx/Ga7rnvvx3BKMsatu+/3925ADez77+j+ko2U7Dvv9+pxy3Ore+/B/B/SB2s778wNjhjbKrvv1p88H27qO+/gcKomAqn77+rCGGzWaXvv9Ho9pF4o++/9ciMcJeh778cqSJPtp/vv0KJuC3Vne+/gYAUgCCb77/Bd3DSa5jvvwFvzCS3le+/sPQjGLOS77++odcuAZHvv8tOi0VPj++/1/s+XJ2N77/lqPJy64vvv/JVpok5iu+/AANaoIeI778NsA231YbvvzX2xdEkhe+/Xjx+7HOD77+FgjYHw4Hvv6/I7iESgO+/1g6nPGF+778AVV9XsHzvvyebF3L/eu+/UOHPjE557795J4innXfvv4bUO77rde+/fyPW+wlz779qidEIsm/vv1TvzBVabO+/QFXIIgJp77/bfAY9zmTvvwwo4aT2X++/PtO7DB9b778eU1hr1FXvv+rUC+7JT++/nD/5/JJK779OquYLXEXvv67plRGyP++//ZMwNLU6779MPstWuDXvv5voZXm7MO+/6pIAnL4r7785PZu+wSbvv4fnNeHEIe+/1ZHQA8gc77+J/L0SkRfvv4GvPDkXEu+/w125QTsM77/rcjFGXgbvv9z1b0UPAO+/b3/HhmL57r8BCR/ItfLuv5SSdgkJ7O6/JxzOSlzl7r+5pSWMr97uv2bIgdED2O6/KUn374fS7r/6sgs/gs3uv8ocII58yO6/moY03XbD7r+6LgYfTb/uv0a5XU/3u+6/00O1f6G47r+x+Uq5vrXuv6Otyc6bs+6/lWFI5Hix7r+HFcf5Va/uv8z0gximre6/ENRAN/ar7r9Ts/1VRqruv5aSunSWqO6/23F3k+am7r8eUTSyNqXuv2Iw8dCGo+6/pg+u79ah7r+GLhgiYaDuvyEF8Twun+6/ceDLdV2e7r/dVKuyjZ3uv35bxPQvne6/flvE9C+d7r9+W8T0L53uv35bxPQvne6/flvE9C+d7r9+W8T0L53uv35bxPQvne6/flvE9C+d7r9+W8T0L53uv35bxPQvne6/flvE9C+d7r9+W8T0L53uv35bxPQvne6/flvE9C+d7r9+W8T0L53uv35bxPQvne6/flvE9C+d7r9+W8T0L53uv35bxPQvne6/flvE9C+d7r9+W8T0L53uv35bxPQvne6/flvE9C+d7r9+W8T0L53uv35bxPQvne6/flvE9C+d7r9+W8T0L53uv35bxPQvne6/flvE9C+d7r9+W8T0L53uv35bxPQvne6/flvE9C+d7r9+W8T0L53uv35bxPQvne6/flvE9C+d7r9+W8T0L53uv35bxPQvne6/flvE9C+d7r9+W8T0L53uv35bxPQvne6/flvE9C+d7r9+W8T0L53uv35bxPQvne6/flvE9C+d7r9+W8T0L53uv35bxPQvne6/flvE9C+d7r9+W8T0L53uv35bxPQvne6/flvE9C+d7r9+W8T0L53uv35bxPQvne6/flvE9C+d7r9+W8T0L53uv35bxPQvne6/flvE9C+d7r9+W8T0L53uv35bxPQvne6/flvE9C+d7r9+W8T0L53uv35bxPQvne6/flvE9C+d7r9+W8T0L53uv35bxPQvne6/flvE9C+d7r9+W8T0L53uv35bxPQvne6/flvE9C+d7r9+W8T0L53uv35bxPQvne6/flvE9C+d7r9+W8T0L53uv35bxPQvne6/flvE9C+d7r9+W8T0L53uv35bxPQvne6/flvE9C+d7r9+W8T0L53uv35bxPQvne6/flvE9C+d7r9+W8T0L53uv35bxPQvne6/flvE9C+d7r9+W8T0L53uv35bxPQvne6/flvE9C+d7r9+W8T0L53uv35bxPQvne6/flvE9C+d7r/COoETgJvuvwUaPjLQme6/LmD2TB+Y7r9Wpq5nbpbuv37sZoK9lO6/pjIfnQyT7r/PeNe3W5Huv/e+j9Kqj+6/IAVI7fmN7r9HSwAISYzuv3CRuCKYiu6/mddwPeeI7r/CHSlYNofuv+tj4XKFhe6/E6qZjdSD7r878FGoI4Luv2M2CsNygO6/jHzC3cF+7r+0wnr4EH3uv90IMxNge+6/BE/rLa957r8tlaNI/nfuv1XbW2NNdu6/fiEUfpx07r+mZ8yY63Luv86thLM6ce6/9vM8zolv7r8fOvXo2G3uv0mArQMobO6/ccZlHndq7r9VLWEadmruvzqUXBZ1au6/OpRcFnVq7r86lFwWdWruvzqUXBZ1au6/OpRcFnVq7r8f+1cSdGruvwNiUw5zau6/GxP3RW9p7r+iUpYeHGjuv8qYTjlrZu6/tf5JRhNj7r8a9H5Y3V7uv3/ps2qnWu6/yUXkeHBW7r/xWlx9k1Duvxlw1IG2Su6/QIVMhtlE7r9nmsSK/D7uv9KO+a1vN+6/I+opzeEv7r9yRVrsUyjuv6cHhgfFIO6/wNB8IcUY7r/amXM7xRDuv9rJZVHECO6/1/lXZ8MA7r856pxpiPjtv/O5rMUq8O2/r4m8Ic3n7b9qWcx9b9/tvyUp3NkR1+2/4PjrNbTO7b+cyPuRVsbtv1aYC+74ve2/EWgbSpu17b/n0C+qPq3tv745RAripO2/YliwLoid7b+W6CCyfZbtvypyePPQj+2/+duMQsuK7b9QtmeMo4btv0dp5rIpge2/Vs0IEax67b+HeON41HXtv1fi98fOcO2/T5LEMRhq7b8qQ2pbMGPtv8EUU2b4Xe2/Pe0GcE9Y7b+6xbp5plLtvzSeboP9TO2/4yD7xcFG7b++0aDv2T/tv7QbSx3zOO2/wBaZgggx7b9qUZT7Vyntv7qsxBrKIe2/CQj1OTwa7b9aYyVZrhLtv6q+VXggC+2/+hmGl5ID7b9Jdba2BPzsv5nQ5tV29Oy/6isX9ejs7L86h0cUW+Xsv4ridzPN3ey/2T2oUj/W7L/XbZpoPs7sv9adjH49xuy/1M1+lDy+7L/S/XCqO7bsvy9Vv+OMr+y/j5Ru6eKp7L/w0x3vOKTsv7JUkw29nuy/TI9QEfKa7L8DyTRVWJfsv7sCGZm+k+y/p8424paQ7L+VmlQrb43sv5//dnhIiuy/kbP1jSWI7L9VOVu8robsvxu/wOo3hey/ypOC4cSE7L/bKJfEF4Tsv9Ikp6Npg+y/yvRmfJSC7L+KXj1WdIHsv7Ok9XDDf+y/A1JbRP597L9U/8AXOXzsv0azPy0Weuy/N2e+QvN37L8qGz1Y0HXsvxzPu22tc+y/DoM6g4px7L9RYveh2m/sv5RBtMAqbuy/2SBx33ps7L8cAC7+ymrsv1/f6hwbaey/o76nO2tn7L/mnWRau2Xsvyp9IXkLZOy/blzel1ti7L+xO5u2q2Dsv9qBU9H6Xuy/AsgL7Eld7L8rDsQGmVvsv1JUfCHoWey/4S43ItZX7L9RCsviklXsvy/AYBywUuy/m+XVVU9P7L+kSviiKEzsv8dIH/QCSey/6nKWSwRG7L9EA/ehUEPsvzW3dbctQey/AARHFB8/7L/JUBhxED3sv9b9y4deO+y/E61If9k47L9PXMV2VDbsv4wLQm7PM+y/asHXp+ww7L9Jd23hCS7svyYtAxsnK+y/BOOYVEQo7L/imC6OYSXsv8BOxMd+Iuy/nwRaAZwf7L99uu86uRzsv1twhXTWGey/OSYbrvMW7L8W3LDnEBTsv2doIR2vEOy/vMhBTCYN7L8OKWJ7nQnsv4+3m5FoBey/LrnEwwUB7L8yaMiJwfzrvxM4yLi6+Ou/Z5jo5zH167+7+AgXqfHrv/BZAgbv7eu/1I+968Hp6785hfL9i+Xrv556JxBW4eu/A3BcIiDd67+KrDBKldjrv1awIl1f0+u/alzWhFbO679+CIqsTcnrv+GPGA10w+u/5+9KSki867/tT32HHLXrv/Gvr8Twreu/3Hbd/cOm67/HPQs3l5/rv5lxJqspmOu/6cxWypuQ6785KIfpDYnrv4qDtwiAgeu/2t7nJ/J5678rOhhHZHLrvyJYcm5Wa+u/GaIcnG9k678P7MbJiF3rv71uUwxNV+u/sFe0Ry5R679bkmEvIkvrv7zREDV4Reu/HBHAOs4/6799UG9AJDrrv/uORYarNOu/y/hZ1aUv678bo/T3qCrrv2lNjxqsJeu/t/cpPa8g67/mWiVKBxzrv+ePB3ALGOu/dBpfoLUU678BpbbQXxHrvz1UM8jaDuu/NSTzoAUO678v9LJ5MA3rvyfEclJbDOu/P3UWilcL67/z5POoJQrrv4C5vGpTCOu/cW07gDAG679jIbqVDQTrv1XVOKvqAeu/R4m3wMf/6r85PTbWpP3qvxBYsOeA++q/5nIq+Vz56r++jaQKOffqv7BBIyAW9eq/kT+YtAPy6r8Z/hHyo+7qv6C8iy9E6+q/DOIAaePn6r93B3aiguTqv+Qs69sh4eq/UVJgFcHd6r+9d9VOYNrqvyqdSoj/1uq/lcK/wZ7T6r8B6DT7PdDqv1N0pTDczOq/pAAWZnrJ6r/0jIabGMbqv0YZ99C2wuq/l6VnBlW/6r/pMdg787vqvzq+SHGRuOq/hwLaS1+16r83iDE/W7Lqvyk8sFQ4sOq/Nulja4au6r9ElheC1Kzqv1FDy5giq+q/XvB+r3Cp6r+CTtb9uqbqv3ydcDvZo+q/V+3jOMag6r+neVRuZJ3qv9a+DJpcmOq/TEwITLaU6r+81zg8L5HqvypjaSyojeq/YiqFVx6K6r/8ZEJbU4bqv5Wf/16Iguq/edW6RFt+6r9cC3YqLnrqv+JHSlKjdeq/TesZdhdx6r//VQeF4Gvqv8HWfKNkZuq/pIsS7ipg6r+KQKg48Vnqv271PYO3U+q/UqrTzX1N6r8bxmQUQ0fqv+Th9VoIQeq/d2tNnFs66r8K9aTdrjPqv51+/B4CLeq/LwhUYFUm6r/CkauhqB/qv1QbA+P7GOq/56RaJE8S6r9jfQ4upgzqvyX+g0wqB+q/BH4gq98B6r9vwb/R4/zpv/tLFwKO+em/idZuMjj26b91oox7EPPpv2NuqsTo7+m/opfh1sTs6b+BTXcQ4unpv18DDUr/5um/8r2koX7k6b+FeDz5/eHpv3ksuw7b3+m/hXk+KLnd6b9L/6NWQtzpvxsIhnkR2+m/y9xHcJ7a6b95sQlnK9rpvwztxlm32em/niiETEPZ6b9krul6zNfpv3H7bJSq1em/tNops/rT6b/3uebRStLpvzyZo/Ca0Om/gHhgD+vO6b/CVx0uO83pvwY32kyLy+m/ShaXa9vJ6b+O9VOKK8jpv9HUEKl7xum/FLTNx8vE6b9Zk4rmG8Ppv5xyRwVswem/31EEJLy/6b8jMcFCDL7pv2YQfmFcvOm/q+86gKy66b/tzvee/LjpvzGutL1Mt+m/dY1x3Jy16b+5bC777LPpv/xL6xk9sum/PyuoOI2w6b+DCmVX3a7pv8bpIXYtrem/7y/akHyr6b8XdpKry6npv1tVT8obqOm/nzQM6Wum6b/LYiXQv6Xpv7DJIMy+pem/lDAcyL2l6b96lxfEvKXpv1/+EsC7pem/Q2UOvLql6b8pzAm4uaXpvw0zBbS4pem/8pkAsLel6b/WAPyrtqXpv7tn96e1pem/oM7yo7Sl6b+FNe6fs6Xpv2uc6Zuypem/TwPll7Gl6b8zauCTsKXpvxnR24+vpem//TfXi66l6b/intKHraXpv8YFzoOspem/rWzJf6ul6b+R08R7qqXpv3U6wHeppem/W6G7c6il6b8/CLdvp6XpvyRvsmumpem/JG+ya6al6b8kb7JrpqXpvyRvsmumpem/JG+ya6al6b8kb7JrpqXpvyRvsmumpem/JG+ya6al6b8kb7JrpqXpvyRvsmumpem/JG+ya6al6b8kb7JrpqXpvyRvsmumpem/JG+ya6al6b+aGT1hAKXpvw/Ex1ZapOm/hG5STLSj6b/5GN1BDqPpv27DZzdooum/423yLMKh6b9ZGH0iHKHpv87CBxh2oOm/Q22SDdCf6b+5Fx0DKp/pv5KC+uRJnum/pzOeHEad6b+/5EFUQpzpv+cq+m6Rmum/EHGyieCY6b85t2qkL5fpv2H9Ir9+lem/ikPb2c2T6b+yiZP0HJLpv9rPSw9skOm/AhYEKruO6b8rXLxECo3pv1OidF9Zi+m/fOgseqiJ6b+kLuWU94fpv810na9Ghum/9bpVypWE6b/mbtTfcoLpv6D4G/QcgOm/2kF2r2d96b9CTYHzKnvpv9YHGUuqeOm/asKwoil26b9XpziDaXLpv+n4++F7bum/QVJj/+tp6b+pwVIsF2Xpv1ssQDvgX+m/DpctSqla6b/AARtZclXpvw6stXt1UOm/HxCKSJxL6b8vdF4Vw0bpvy9DHv+WQum/lDhTEWE+6b/5LYgjKzrpv7cCiI/SNem/PT9ct0cx6b+A7di/ayvpv8KbVciPJem/BUrS0LMf6b8tX0rV1hnpvx7iiNSHE+m/D2XH0zgN6b8A6AXT6Qbpv/FqRNKaAOm/4u2C0Uv66L8KA/vVbvTov2tCqtvE7ui/7MhffBzp6L/K4tmeoePov3tNx61q3ui/Lri0vDPZ6L+F+LFCPNXovzvMc0py0ei/J5iRk0rO6L8GTifNZ8vov5sIvyTnyOi/LcNWfGbG6L9+T8exBMPov9DbN+eiv+i/BW9zG9C76L87Aq9P/bfov3CV6oMqtOi/xW/FzQKw6L8dSqAX26vovxlFsAfWp+i/YkGwGC+j6L9iouJEWp/ovzIM95NUmui/AnYL406V6L/teCQ2SpDov/R0coq2i+i/+3DA3iKH6L//Buz2XoLovwKdFw+bfei/UcCzS8x46L+F6hqHjHPovzJtp8lQbei/3EGZ+mpn6L9pfYYnhGHov/a4c1SdW+i/hPRggbZV6L8SME6uz0/ov4FsFJu3Sei/uxahgi1D6L9pa7hf/Tvov9bFD7+gNOi/JiFA3hIt6L+6qpcfZibov0s072C5H+i/+rZ7o30Z6L+nOQjmQRPov1W8lCgGDei/fdEMLSkH6L+k5oQxTAHov8z7/DVv++e/4KewXWb2579/fYmJ3PHnv1BKgJKD7ue/Hxd3myrr57/w422k0efnv9pJabF55Oe/xa9kviHh57+ye4IH+t3nv6BHoFDS2ue/Q4ZNdbXX578Bvi+bCdXnv1YyAZ2s0ue/WklSUPXP57+/QTkf/MznvyM6IO4Cyue/KTkg/6vG578UnxsMVMPnvx4EPlktwOe/XfuZq3i9578nSGsIarvnv/v8wt0Vuee/7rBB8/K257/fZMAI0LTnv9EYPx6tsue/w8y9M4qw57+1gDxJZ67nv4ybtlpDrOe/Y7YwbB+q57860ap9+6fnvxHsJI/Xpee/5gafoLOj57++IRmyj6Hnv5zXruusnue/e41EJcqb578GGJxVdJjnv5Oi84Uelee/yTUvukuR57//yGrueI3nvxnDoR6liee/NL3YTtGF579Otw9//YHnv1ccMszWfue/FYZWNxJ857+Op+mKkHnnvwbJfN4Od+e/3uP27+p057/Pl3UFyHLnv8FL9BqlcOe/s/9yMIJu57+ls/FFX2znv875qWCuaue/26Zdd/xo579P6BN06Wbnv47fb8Y0ZOe/zdbLGIBh578Nzidry17nvwUdwqjpW+e//2tc5gdZ57/3uvYjJlbnv/EJkWFEU+e/61grn2JQ57/kp8XcgE3nv9VbRPJdS+e/xw/DBztJ578M738mi0fnv0/OPEXbRee/6qQVYKhE57+De+56dUPnvzrry5lDQue/7lqpuBFB57+kyobX3z/nv1o6ZPatPue/D6pBFXw957/EGR80Sjznv3qJ/FIYO+e/L/nZceY557/kaLeQtDjnv5rYlK+CN+e/T0hyzlA2578EuE/tHjXnv7snLQztM+e/izAPL7wy57/1pO5r7DHnv5RjKFO+Mee/MyJiOpAx579Et3Yd4zDnv4HJ1c4KMOe/qg+O6Vku57/TVUYEqSznv/yb/h74Kue/JOK2OUcp579NKG9Ulifnv3ZuJ2/lJee/nrTfiTQk57/G+pekgyLnv2Tr2rQsIOe/AtwdxdUd57+yYXW40Rrnv2HnzKvNF+e/s3M94WsU5795qjgMZBDnv6pVE3SMC+e/ZCL8QaYG5793zq9pnQHnvzpPJYgh/Oa//M+apqX25r++UBDFKfHmvy2N1rER6+a/h35pNInk5r+N3ptxXd3mv905zJDP1ea/LpX8r0HO5r9+8CzPs8bmv85LXe4lv+a/HqeNDZi35r/8K+MwibDmvxB1tJ7Tqea/Nooso/aj5r9en6SnGZ7mv4a0HKw8mOa/jBRP6RCR5r/2CIQMhInmv0ZktCv2gea/lr/kSmh65r+wiNtkaHLmv1SnR4kOa+a/+cWzrbRj5r9wtgbrBl3mv+emWShZVua/vpCTIwlQ5r8f0EIpX0rmvxSbEvKERea/PuTxmlxA5r8OTgbqVjvmvzDjWELENua/UnirmjEy5r90Df7yni3mv+nm/3yoKea/cgs1cSIm5r9QwcqqPyPmvz6N6PMXIOa/K1kGPfAc5r8ZJSSGyBnmv0+4X7r1Fea/abKW6iES5r+DrM0aTg7mv52mBEt6Cua/nQc3d6UG5r8trPicKwLmv7xQusKx/eW/D7Ha8Sj65b/9fPg6AfflvwXiGoja8+W/D0c91bPw5b9OPpkn/+3lv4419XlK6+W/zSxRzJXo5b8MJK0e4eXlv/eJqCuJ4uW/4e+jODHf5b9NFRly0Nvlv7o6jqtv2OW/acDlnmvV5b8TXtzFYtHlv1tU6pf7zOW/zl+nuYDI5b9ABUKf1cPlv02BtZ/3veW/Wv0ooBm45b/z6HugvbHlv9KBgpbaq+W/F6+Lcpal5b8N+TWgr57lv7t7wuJzmOW/hJdTKTmS5b9Ns+Rv/ovlvxfPdbbDheW//IMLAYp/5b9P9RFS9Xnlv6NmGKNgdOW/VdEFsilv5b8HPPPA8mnlv7qm4M+7ZOW/bBHO3oRf5b8efLvtTVrlv9DmqPwWVeW/g1GWC+BP5b9RVYgeqkrlv3Lq2nYXRuW/lH8tz4RB5b81VQb7+jzlv9Yq3yZxOOW/dgC4Uucz5b8cvvFKYjDlvyQjFJg7LeW/AHOHlSgq5b/eKB3PRSflvyII2u2VJeW/ZeeWDOYj5b8bV3QrtCLlv+Dc2Vk9IeW/QM48oicg5b/vov6YtB/lv513wI9BH+W/TEyChs4e5b/6IER9Wx7lv6f1BXToHeW/VcrHanUd5b8En4lhAh3lv7NzS1iPHOW/YUgNTxwc5b8QHc9FqRvlv77xkDw2G+W/bcZSM8Ma5b8cmxQqUBrlv8pv1iDdGeW/d0SYF2oZ5b8lGVoO9xjlv9TtGwWEGOW/g8Ld+xAY5b8xl5/ynRflv+BrYekqF+W/jkAj4LcW5b89FeXWRBblv+zpps3RFeW/mr5oxF4V5b9Jkyq76xTlv/Vn7LF4FOW/pDyuqAUU5b9TEXCfkhPlv1MRcJ+SE+W/UxFwn5IT5b9TEXCfkhPlv1MRcJ+SE+W/UxFwn5IT5b+20cKLWBPlv488oG14EuW/7hSSjTkR5b9N7YOt+g/lvw4NLiWqDuW/seXRAVgN5b/0xI4gqAvlvzmkSz/4CeW/fIMIXkgI5b+/YsV8mAblvwNCgpvoBOW/RiE/ujgD5b+KAPzYiAHlv83fuPfY/+S/EL91Fin+5L9UnjI1efzkv5d971PJ+uS/3Fyschn55L8fPGmRaffkv2IbJrC59eS/pvrizgn05L/q2Z/tWfLkvy65XAyq8OS/cZgZK/ru5L+0d9ZJSu3kv/lWk2ia6+S/PDZQh+rp5L+AFQ2mOujkv8L0ycSK5uS/BdSG49rk5L/m8vAVZePkv1Fn0FKV4uS/Nm6bUSTi5L8bdWZQs+Hkv500efdT4eS/PjuSOfbg5L8+O5I59uDkvyKijTX14OS/BwmJMfTg5L/sb4Qt8+Dkv9HWfyny4OS/tT17JfHg5L+cpHYh8ODkv4ALch3v4OS/ZXJtGe7g5L9K2WgV7eDkv6Tq7gZG4OS/oAKOOkHf5L+bGi1uPN7kv5YyzKE33eS/MQmlvATc5L9aT13XU9rkv4KVFfKi2OS/q9vNDPLW5L/SIYYnQdXkv/tnPkKQ0+S/I672XN/R5L9M9K53LtDkv3U6Z5J9zuS/nYAfrczM5L/FxtfHG8vkv+4MkOJqyeS/FlNI/bnH5L8/mQAYCcbkv2bfuDJYxOS/jyVxTafC5L+3aylo9sDkv/xK5oZGv+S/PyqjpZa95L9ncFvA5bvkv5C2E9s0uuS/uvzL9YO45L/hQoQQ07bkvwuJPCsiteS/Ms/0RXGz5L9cFa1gwLHkvw+x2oW1sOS/IEbvaAiw5L8z2wNMW6/kv0VwGC+uruS/t0bzKi+u5L+dre4mLq7kv4EU6iItruS/ZnvlHiyu5L9N4uAaK67kvzFJ3BYqruS/FrDXEimu5L8TSrXW+K3kvyv7WA71rOS/4Wo2LcOr5L+W2hNMkarkv0xK8WpfqeS/EdBWmein5L9WFc9uEqbkvzbLZKgvo+S/FIH64Uyg5L8d5hwvJp3kvwuyOnj+meS/7uf1XdGV5L/utrVHpZHkv+yFdTF5jeS/61Q1G02J5L/qI/UEIYXkv2qyLhvsgOS/rWCrIxB75L/TdSMoM3Xkv3xKFVlNb+S/D9RsmqBo5L+hXcTb82HkvzLnGx1HW+S/oUFzfOpT5L/Vo26a60vkv6wMg/qOQ+S/gXWXWjI75L9W3qu61TLkvy5HwBp5KuS/A7DUehwi5L/B5QYT7xnkv2QEczeVEuS/amSldGkL5L9UK9OtPATkvz/yAOcP/eO/j00xBoL1479e6U5+U+7jv5QUT5Ix6OO/zD9Ppg/i47/Xu8KmMdzjv56PdJIm1uO/cUFoPPHQ47+J0spzsMvjv4qy1wTPxeO/ufTdc4q/47/NPa/h1Ljjv17HBiMosuO/ETL0MfGs47/fNeZEu6fjvyt6XiuOouO/BBoeM7Kd479CejAnnJjjv78gCXFik+O/XvbhnNiO4783xBYK8Yrjv3CLMjVnh+O/i1MnIKyD478b+OhFMn/jvxde1DaZeeO/I9pHN7tz478wVrs33W3jvz3SLjj/Z+O/Sk6iOCFi479VyhU5Q1zjv+MFA2ZcVuO/+5ZlnRtR478RwqWYqkvjvyULdwb1ROO/G1UhNA4+478Sn8thJzfjv2kqPKhuMOO/vm3Nk+Up47/N0e/xZyPjv/PmZ/aKHeO/7JnmHBEY47//RZpECBPjvxTyTWz/DeO/RJ0o1CcJ4792SAM8UATjv6fz3aN4/+K/RvUG1hX74r9LpKMWe/bivxANegEE8uK/13VQ7Izt4r+e3ibXFeniv2NH/cGe5OK/R6/67Fjg4r+2Oivd0dzivwIAMOQH2uK/OZNrGDXW4r9TjaJIYdLiv3Qi9aDOzeK/pc3PCPfI4r/yEa90IMTiv72WFLRSv+K/J9qz2la64r+Ug3U9i7XivwIPpi0EsuK/j5n9Xa6u4r8bJFWOWKviv6eurL4CqOK/wajj7i6k4r/BCRYbWqDivwtmRikjnOK/9ciPeY6X4r8ndGrhtpLiv/bdfjCxjeK/x0eTf6uI4r+WsafOpYPiv2cbvB2gfuK/Uh7VcJt54r90syfJCHXiv5ZIeiF2cOK/ud3MeeNr4r/ach/SUGfiv/0Hciq+YuK/Hp3Egite4r9AMhfbmFnivxbMa1FoVeK/9YEBi4VS4r/u0JvIo0/iv+GEGt6ATeK/wyIR5KJL4r+mwAfqxEniv4le/u/mR+K/saS2CjZG4r/a6m4lhUTivwIxJ0DUQuK/K3ffWiNB4r9TvZd1cj/iv30DUJDBPeK/F9ooq4484r/NSQbKXDvivzm+5QaNOuK/AiysARs64r+FUeHk6zniv08f2NzpOeK/MSCxnLg54r+MMTeOETniv+VCvX9qOOK/QFRDccM34r/ijBdL4Tbiv96ktn7cNeK/2bxVstc04r/V1PTl0jPiv+KBqPwgMuK/8C5cE28w4r/92w8qvS7ivwuJw0ALLeK/p3kGUbQq4r9FaklhXSjiv+JajHEGJuK/ESFqOAsj4r+lDb0nBiDiv5PZ2nDeHOK/nD79vbcZ4r+HpPjKXxbiv3IK9NcHE+K/OUHvAgAP4r9p7MlqKArivyttP4msBOK/UoK3jc/+4b96ly+S8vjhv6Gsp5YV8+G/DaHcuYjr4b93lRHd++Phv/8iSwRw3OG/UeSdXxLV4b8slUOJKs7hvwZG6bJCx+G/4faO3FrA4b9zgOYdrrnhv3WYOQCysuG/ebCM4rWr4b97yN/EuaThv2xLHsRqnuG/Xc5cwxuY4b9PUZvCzJHhv0DU2cF9i+G/oBOJx9OF4b8Emxco+n/hvwbh32/yeeG/eVENAY904b+Em8VpNW/hvzYGs3j+aeG/6XCgh8dk4b8S7DrIGl/hv6AnKPUzWeG/UpIVBP1T4b+aiCPWlU/hvxkXXexgS+G/MxGUHI1H4b/wEeSOW0Phv6wSNAEqP+G/JDTHVKg84b8SAOWdgDnhv//LAudYNuG/CTElNDIz4b8RlkeBCzDhvxr7ac7kLOG/ImCMG74p4b8sxa5olybhv2u8CrviI+G/qrNmDS4h4b/qqsJfeR7hvymiHrLEG+G/Z5l6BBAZ4b+mkNZWWxbhv+aHMqmmE+G/JX+O+/EQ4b9iLgvzbA7hv/8eTgMWDOG/ng+RE78J4b+8v+bKCAfhv2xFPr4EBOG/G8uVsQAB4b9xP2ezo/7gv2Pz5ciA/OC/bFgIFlr54L8vFWlOBvbgvw3L/ocj8+C/6BpyhRDw4L/xf5TS6ezgv9mdsITB6eC/IZS+Vlrl4L/z30EzmeHgv3Nue0lk3eC/JdloWC3Y4L/XQ1Zn9tLgv4quQ3a/zeC/PBkxhYjI4L/ugx6UUcPgv6HuC6MavuC/U1n5seO44L8FxObArLPgv7cu1M91ruC/apnB3j6p4L8cBK/tB6Tgv85unPzQnuC/gdmJC5qZ4L8yRHcaY5Tgv+WuZCksj+C/lxlSOPWJ4L/JxCygHYXgv2maBcyTgOC/CnDe9wl84L+qRbcjgHfgv0obkE/2cuC/1D/FQ3Bv4L+kDLxMF2zgv49yt1m/aOC/fD7Vopdl4L+b7ipa4WLgv9vlhqwsYOC/uwTx3rZe4L+bI1sRQV3gv83/Dgo/XOC/zf8OCj9c4L/N/w4KP1zgv83/Dgo/XOC/zf8OCj9c4L/N/w4KP1zgv83/Dgo/XOC/smYKBj5c4L/1RcckjlrgvzklhEPeWOC/Yms8Xi1X4L+KsfR4fFXgv7L3rJPLU+C/2j1lrhpS4L8DhB3JaVDgvyzK1eO4TuC/VBCO/gdN4L98VkYZV0vgv6Sc/jOmSeC/zeK2TvVH4L/1KG9pREbgvx5vJ4STROC/RrXfnuJC4L9UYpO1MEHgv3lCKZRPP+C/bPanqSw94L9dqia/CTvgv09epdTmOOC/QRIk6sM24L8zxqL/oDTgvyV6IRV+MuC/Fy6gKlsw4L8J4h5AOC7gv/uVnVUVLOC/7Ukca/Ip4L/f/ZqAzyfgv9GxGZasJeC/3v6cr4oj4L+M016mFyPgvzuoIJ2kIuC/BBbnlzIi4L/Og62SwCHgv5fxc41OIeC/Yl86iNwg4L8rzQCDaiDgv9mhwnn3H+C/iHaEcIQf4L82S0ZnER/gv+UfCF6eHuC/k/TJVCse4L9CyYtLuB3gv++dTUJFHeC/nnIPOdIc4L9n4NUzYBzgvxkbumYdHOC//YG1Yhwc4L/i6LBeGxzgv8dPrFoaHOC/rLanVhkc4L+nzkaKFBvgv6Pm5b0PGuC/n/6E8QoZ4L+bFiQlBhjgv5Yuw1gBF+C/9Qa1eMIV4L855nGXEhTgv2IsKrJhEuC/inLizLAQ4L+yuJrn/w7gv9v+UgJPDeC/A0ULHZ4L4L8ri8M37Qngv1TRe1I8COC/fBc0bYsG4L+lXeyH2gTgv+g8qaYqA+C/KxxmxXoB4L/f9kXIlf/fv2W1vwU2/N+/7XM5Q9b4379zMrOAdvXfv/zwLL4W8t+/gq+m+7bu378JbiA5V+vfv5Asmnb359+/F+sTtJfk37+fqY3xN+HfvyVoBy/Y3d+/rSaBbHja378Gg7M6INnfv2Df5QjI19+/gwkPz23W37/HulaIydPfv0550MVp0N+/D7ekKn7N378F5+KRdMvfvzNJKgFtyd+/YatxcGXH37+QDbnfXcXfv71vAE9Ww9+/69FHvk7B378ZNI8tR7/fv0aW1pw/vd+/c/gdDDi737+hWmV7MLnfv8+8rOoot9+//h70WSG137/0TjLBF7Pfv2Au7f6zsN+/zA2oPFCu378dmhhy7qrfv24miaeMp9+/v7L53Cqk378RP2oSyaDfv2PL2kdnnd+/s1dLfQWa378F5Luyo5bfv1ZwLOhBk9+/csqTFd6P37+HWLbKGYzfv8M5POtrh9+/nyyGUVyA379/wtqKPHnfv7S2SOuUcd+/tdO7Fytp37/Wm2SxeF/fv/djDUvGVd+/4/ms3BFM37+UEPJG6UHfv0YnN7HAN9+/q/wRz1It378Q0uzs5CLfv3Snxwp3GN+/2XyiKAkO37+b+wA0tQLfv1x6Xz9h996/Hfm9Sg3s3r8UqiVeu+Dev5erEJvD1d6/HK3718vK3r+Bgtb1XcDev8+sxv6jtN6/H9e2B+qo3r9uAacQMJ3ev70rlxl2kd6/DtWscP2E3r8y6Fvzo3fev1f7CnZKat6/s0DDAPNc3r8TUsAD/E/ev04QWpvuQ96/Hu849UQ63r/Ko+6I9THev6a6T2nnKt6/t6irfZsk3r+TQOcPTB7ev2/YIqL8F96/gKJnPK8R3r/OavpWxAvev3IQzOaSBN6/L8X+uqT93b9juWwb/fXdv2J70XNT7t2/r1q7k0Dm3b9x+rrxMt7dvzOauk8l1t2/9Tm6rRfO3b+52bkLCsbdv3t5uWn8vd2/PRm5x+613b92tYYb+a3dv8b8PoRPp92/2kWpbEOg3b/tjhNVN5ndv//XfT0rkt2/3e6sKMqL3b9OfeR+toTdv4INzlRAfd2/TPg3edR03b8W46GdaGzdv9wBx0mcY92/IZDiKW5Z3b8a3ZO9+k7dv0lcTlmJRN2/dtsI9Rc63b+7Ba6l8jDdv/8vU1bNJ92/Qlr4Bqge3b+DBapelBXdv8p8oC7hDN2/RSagBjAE3b8OkhbS1fvcvwwwlqV989y/vLCQsY7r3L+ax/GRgOTcv3feUnJy3dy/VPWzUmTW3L8xDBUzVs/cvxAjdhNIyNy/7TnX8znB3L+PUrhedrrcvzBrmcmys9y/DoLItFGt3L/rmPef8Kbcv5N9HYONoNy/l6tbDNaX3L/G04T0zY/cvzP6+1woiNy/CcbydniB3L/fkemQyHrcv7spJSN5dNy/FVJqgYtv3L++uxks42rcv2UlydY6Zty/D494gZJh3L+2+Ccs6lzcv19i19ZBWNy/CcyGgZlT3L+wNTYs8U7cv/31YekuS9y/SbaNpmxH3L/QdAfkDETcv1czgSGtQNy/4PH6Xk093L9msHSc7Tncv7k85dGLNty/dagQRcYw3L9P8/q3BCrcvyY+5SpDI9y//4jPnYEc3L/VVMa30RXcv6wgvdEhD9y/geyz63EI3L9ZuKoFwgHcvy6EoR8S+9u/27mVQsr227+XJcG1BPHbv1OR7Cg/69u/EP0XnHnl27/MaEMPtN/bv4fUboLu2du/RECa9SjU278ArMVoY87bv70X8dudyNu/eYMcT9jC278170fCEr3bvxCHg1TDttu/6x6/5nOw27/Ftvp4JKrbv6BONgvVo9u/umPlaymd27/ReJTMfZbbv+uNQy3Sj9u/A6PyjSaJ2785l2DufoHbv26Lzk7Xedu/AsmGPdFz2791Wzu0Zm7bv/yUXR+faNu/Dl+iuVFi278fKedTBFzbv/vAIua0Vdu/1lheeGVP278koBbhu0jbv6sZ2FEUQtu/MZOZwmw7278U+5btJjfbv/lilBjhMtu/3MqRQ5su27/AMo9uVSrbv6SajJkPJtu/hwKKxMkh279saofvgx3bv1DShBo+Gdu/MzqCRfgU278Xon9wshDbv93dbHz2DNu/ohlaiDoJ279nVUeUfgXbvy2RNKDCAdu/fR2l1WD+2r/OqRUL//ravwuLmytR9tq/RWwhTKPx2r8s741Ffe3av8QwkPIR6dq/k0mN02jl2r9lLs8sIOLavyZso5E039q/OzZMCTDc2r/KPzANctjav457HRm21Nq/UrcKJfrQ2r+kQ3tamM3av/TP6482ytq/RlxcxdTG2r+W6Mz6csPav+Z0PTARwNq/OQGuZa+82r+JjR6bTbnav6Pnhcjptdq/vkHt9YWy2r/Zm1QjIq/av/L1u1C+q9q/DlAjflqo2r8nqoqr9qTav2OLEMxIoNq/n2yW7Jqb2r8dW06RMZbav5tJBjbIkNq/chX9TxiK2r8ULt66VIPav8vxqTrdfdq/g7V1umV42r90+JthYnPav+1WlVBYbtq/gZRNP1Jo2r/tusSnrGDavxzj7Y+kWNq/bO4fNjtR2r+fY5o9pUnav2bPEAlLQdq/V/VuUDc32r/b9lmNPyzavyshSpaFINq/eUs6n8sU2r/JdSqoEQnavxegGrFX/dm/ZsoKup3x2b+AwvG64eXZv2dYLW/k2Nm/T+5oI+fL2b8l19JpzbzZv/y/PLCzrdm/0aim9pme2b+pkRA9gI/Zv13zW5Cwgdm/3SKe295z2b8aRa6iyGbZvyQFEx1xWNm/llks7FxL2b/xnuR2BT7Zv03knAGuMNm/pylVjFYj2b8Dbw0X/xXZvw4vcpGnB9m//Q8YDEz62L8VCP8MkO7Yv2r+M44249i/v/RoD93X2L+1QRqjac3YvxmYz3K6w9i/UjSdxsS72L/59N0ks7TYv2TbtYftrdi/0cGN6ien2L/vZvsAHaDYv8x9XOEOmdi/zD/BOWWR2L8ANC+avYnYv+DJg9Odgti/4eb2/zN62L/ysDua5nPYvwR7gDSZbdi/FkXFzktn2L8mDwpp/mDYvwKnRfuuWti/E3GKlWFU2L8kO88vFE7Yv9wWPO2tSNi/7eCAh2BC2L9KbTwVajzYv6l46/thNti/PTFMGPQt2L+bt6MshCXYv/+MfkoWG9i/ZGJZaKgQ2L/JNzSGOgbYvy0ND6TM+9e/keLpwV7x17/1t8Tf8ObXv1uNn/2C3Ne/v2J6GxXS17+wwhPvp8TXvwsIzHlQt9e/Zk2EBPmp178P1Kbb5pzXv/no1ejXj9e/wFIBfmSD17+JvCwT8XbXvw0ZJiQ5a9e/cu4AQstg17/Ww9tfXVbXvzuZtn3vS9e/n26Rm4FB178ERGy5EzfXv59LUN+nLNe/O1M0BTwi17/VWhgr0BfXv/yyf3q+Dde/P90kK5kE17+CB8rbc/vWv8OyezNg8ta/z7B7VbLr1r8R4YR/BuXWv5mf/rym4da/IF54+kbe1r+mHPI359rWvy7ba3WH19a/tJnlsifU1r89WF/wx9DWv8MW2S1ozda/S9VSawjK1r8P1wTrpcnWv9mk++Kjyda/onLy2qHJ1r9sQOnSn8nWvzUO4Mqdyda//9vWwpvJ1r/Jqc26mcnWv5N3xLKXyda/XEW7qpXJ1r8lE7Kik8nWv+/gqJqRyda/uq6fko/J1r+DfJaKjcnWv01KjYKLyda/FRiEeonJ1r/f5Xpyh8nWv6qzcWqFyda/c4FoYoPJ1r89T19agcnWvwYdVlJ/yda/0OpMSn3J1r+auENCe8nWv/Zhxy+VyNa/UwtLHa/H1r+wtM4KycbWvw1eUvjixda/agfW5fzE1r/GsFnTFsTWvyNa3cAww9a/gANhrkrC1r8T3+2jZsHWv6a6epmCwNa/tDm5Sty91r8/RYSn7rrWv8pQTwQBuNa/HN2/OZ+01r9taTBvPbHWv771oKTbrda/14+n15ep1r+896QCUqXWv6Bfoi0Moda/g8efWMac1r8y/ZN7fpjWv+AyiJ42lNa/r++atKSO1r8O+0mbnIjWvx/FjjVPgta/MY/TzwF81r9DWRhqtHXWv1UjXQRnb9a/Zu2hnhlp1r93t+Y4zGLWv/alnt1iXda/dZRWgvlX1r/zgg4nkFLWv3JxxssmTda/8V9+cL1H1r9vTjYVVELWv+487rnqPNa/bCumXoE31r/rGV4DGDLWv2oIFqiuLNa/bVMckQcp1r/zEZbOpyXWv3vQDwxIIta/Ow7kcFwf1r/8S7jVcBzWv7yJjDqFGda/srnKoXsX1r/hGxIRdBXWvw9+WYBsE9a/PeCg72QR1r+gdPFmXw/WvwMJQt5ZDda/RhZ0Yp4M1r/51AkWWQzWvx3/Mtz+Cta/QClcoqQJ1r9kU4VoSgjWv4d9ri7wBta/rKfX9JUF1r/P0QC7OwTWv/P7KYHhAta/FiZTR4cB1r87UHwNLQDWv156pdPS/tW/gqTOmXj91b+lzvdfHvzVv8n4ICbE+tW/7SJK7Gn51b8RTXOyD/jVvzR3nHi19tW/V6HFPlv11b97y+4EAfTVv6D1F8um8tW/j0hGXYrw1b9GaWvna+7Vv/+JkHFN7NW/RDvYKqnp1b+H7B/kBOfVvw+rmSGl49W/YDcKV0Pg1b+xw3qM4dzVv0HNXpAj2dW/0NZClGXV1b9f4CaYp9HVv+MfrXxZztW/NKwdsvfK1b8aL4qr0cbVv7JwjFhmwtW/S7KOBfu91b/k85Cyj7nVv59fvCXKs9W/sSkBwHyt1b9X6kEea6bVv1aIwfESntW/UyZBxbqV1b9TQ7TxUI3Vv5TuZUk9hNW/1ZkXoSl71b8VRcn4FXLVv1bwelACadW/Tj0s5I5e1b/UmSX11lLVv1n2HgYfR9W/fa6/tIU61b+iwW43LC3Vv66B07HUHtW/wIyi8h4Q1b9N16y/rwDVvyoLgcw38dS/XZ1uADjh1L+PL1w0ONHUv4RE1pmUwdS/Cqjsz3qx1L9Bypi5G6HUv2GMefymkdS/swFw7kWC1L+UqpPiTnLUv8OUISOdYtS/wPQFT5tS1L+8VOp6mULUv5WKpeDxM9S/GWJHH9Il1L/Pw5JyAhjUv/UVlkh3C9S/53UvHAr+078aZAcb8+/Tv/UYttk54dO/0s1kmIDS07+ughNXx8PTv4s3whUOtdO/sEpxmLSn079GTtidn5vTv99RP6OKj9O/DdH5PhmF079vJ68OanvTv+zQrua4ctO/1Z4hyetq079FLVkf2GPTvyLFlLGIXdO/3jDAJMNX07+bnOuX/VHTv1cIFws4TNO/gyWmrehG07/9g5+c3kHTv3bimIvUPNO/8ECSeso3079FdWKjGjTTv2Cr5EsIMNO/rGsQCUYs079XVLMMjCfTv8Y+CJBvItO/NildE1Md079+Jau1BxfTv8Yh+Ve8ENO/RBCx/FIL07+A8TYdpQbTvwov1qiGAtO/sZiFU9790r9aAjX+NfnSvwFs5KiN9NK/q9WTU+Xv0r9TP0P+POvSv8R26aCS5tK/N66PQ+jh0r+sZCk/LN3SvyAbwzpw2NK/R5Dy6W7T0r+ASD5lUM7Sv95T7UtIyNK/10kNLD7A0r/RPy0MNLjSv8o1TewpsNK/wyttzB+o0r9Q/RmiMZ/Sv7TS9L/DlNK/GajP3VWK0r9+far753/Svx5R05ncddK/viT8N9Fr0r//z62PvWLSv3x5rWcMWtK/+SKtP1tR0r/WOQ4gTUrSv+qCeAhBQ9K/HfjyD6s70r8V7hLwoDPSv3lEyL/xKdK/hTxkaMog0r+SNAARoxfSv6AsnLl7DtK/rCQ4YlQF0r+5HNQKLfzRv/1GebsH89G/P3EebOLp0b+BHNDDzuDRvxYmm0Iz19G/+3DQDd3N0b/NeOkMpMTRv3otn6BUvNG/i/fjOge20b+dwSjVua/Rv66LbW9sqdG/wFWyCR+j0b8+RGqutZ3Rv+Qu9ArMmdG/ixl+Z+KV0b8xBAjE+JHRv9fukSAPjtG/vFaPS8mJ0b9pjINugYXRvxbCd5E5gdG/xPdrtPF80b9yLWDXqXjRv9E4D76hctG/jqQ6Mdxs0b+Dj8DLimfRv9dogiCbZNG/KfXyVTlh0b9ET1qD1V3Rvym3V66PWdG/DB9V2UlV0b/whlIEBFHRv9PuTy++TNG/uVZNWnhI0b+cvkqFMkTRvyvILol0QNG/udESjbY80b9H2/aQ+DjRv9Xk2pQ6NdG/Y+6+mHwx0b/y96Kcvi3Rv4EBh6AAKtG/DwtrpEIm0b9n4kWggiLRv7+5IJzCHtG/F5H7lwIb0b9waNaTQhfRv8c/sY+CE9G/AyE3sNQO0b91NMbYKArRv+ZHVQF9BdG/WFvkKdEA0b9avQ8jr/vQv6tJgFhN+NC/f0lk4jL10L8HCN4f0/HQv47GV11z7tC/TgQswofr0L9FdAkvnujQv3LWUJ6W5tC/oDiYDY/k0L/Omt98h+LQv/z8Jux/4NC/KV9uW3je0L9XwbXKcNzQv4Uj/Tlp2tC/soVEqWHY0L/g54sYWtbQvw5K04dS1NC/O6wa90rS0L9pDmJmQ9DQv5dwqdU7ztC/xdLwRDTM0L8pZ0G8LsrQv4z7kTMpyNC/8Y/iqiPG0L9UJDMiHsTQv7m4g5kYwtC//MW1HV3B0L8+0+ehocDQv4LgGSbmv9C/xe1Lqiq/0L94rOFd5b7QvytrdxGgvtC/3SkNxVq+0L+m9wO9WL7Qv8iiOSoQvdC/7Mxi8LW70L8P94u2W7rQvzMhtXwBudC/V0veQqe30L97dQcJTbbQv56fMM/ytNC/jJdQjZaz0L95j3BLOrLQv71AuASWr9C/y7/2te+s0L+iDCxfR6rQv71mk4zjptC/IsMQs/ai0L8GKw7esJ7Qv7NgAgFpmtC/XMqxq8CV0L8ENGFWGJHQvyKxAwcNi9C/G6cj5wKD0L9xRse0EnrQv5MOcE5gcNC/tNYY6K1m0L/WnsGB+1zQv/dmahtJU9C/4vwJrZRJ0L/PEZ2Xzj/QvzTnd7VgNdC/9mXWwAwq0L+e7PiX+hzQv++V3PkuEdC/PsDMAnUF0L8X1XkXdvPPv7QpWikC3M+/5hkoK4rEz7+qJSIoTqvPv3lRmZBTkc+/s+EiCV13z79qbJMerlzPv3KEtD2PRM+/UEYAM9gpz7+cbF44JQ/Pv2B4WDXp9c6/j38mQL/dzr/Ab/RBR8bOv1/E1FPTrs6/BrE+ViCYzr8+n/MJhYDOv4lmwrGva86/sdeD6tNazr8g9j1IxEvOv11AGXWuPc6/TkNZPugszr9lfXTnGRzOvysq34a7CM6/XDtcNmH1zb+JTvIzKuLNv8fg+MpC0M2/TCD4hifAzb9vtIG7jLPNv5JIC/Dxps2/tdyUJFeazb/ZcB5ZvI3Nv/0EqI0hgc2/i/1D0op0zb+J2rMbuGnNv3qXpvmjX82/bFSZ149Vzb91spIIMEzNv3OPAlJdQc2/Byda1SY5zb9d+J/csi/Nv6vi/jqwJc2/XXjTIC0Yzb8ODqgGqgrNvzqeY4lu/My/8DGDC27tzL9RM3gjkN3Mv98hZcMpzMy/2XRkc8e6zL/HL9oypKjMvwrAK2Y/lcy/mZcY/YqEzL8AOCq03nPMv7xl7HTCZcy/dpOuNaZXzL8xwXD2iUnMv+zuMrdtO8y/pxz1d1EtzL9iSrc4NR/Mvx14efkYEcy/3aMibNkCzL+5bh3O0PPLv/z+bgFs4Mu/xKkkPZDLy7+OVNp4tLbLv1f/j7TYocu/IKpF8PyMy79WuQ08JXjLv5lJX2/AZMu/3NmwoltRy79eMBRSND/Lv+ZtXqqbLcu/DQAze4Mfy78ykgdMaxHLv94p9X8LBMu/AL5+tHD3yr/n4uehm+zKv6QaWQdP48q/YFLKbALayr8nIsXCdtHKvzWfuD23ysq/RBysuPfDyr9TmZ8zOL3Kv2AWk654tsq/b5OGKbmvyr99EHqk+ajKv4yNbR86osq/mgphmnqbyr+nh1QVu5TKv7YESJD7jcq/v4NUWV+Hyr+tYw8zjIHKvzN+czsVgMq/M35zOxWAyr8zfnM7FYDKvzN+czsVgMq/M35zOxWAyr8zfnM7FYDKvzN+czsVgMq/M35zOxWAyr8zfnM7FYDKvzN+czsVgMq/M35zOxWAyr8zfnM7FYDKvzN+czsVgMq/xhlhKxGAyr9atU4bDYDKv+1QPAsJgMq/gewp+wSAyr8UiBfrAIDKv6cjBdv8f8q/EGkdoWB9yr93rjVnxHrKv4krKeIEdMq/K0QKTUFtyr/OXOu3fWbKv3B1zCK6X8q/E46tjfZYyr+2po74MlLKv1m/b2NvS8q//NdQzqtEyr+e8DE56D3Kv0EJE6QkN8q/5CH0DmEwyr+GOtV5nSnKvytTtuTZIsq/zWuXTxYcyr9vhHi6UhXKv6U4RxWLDsq/3OwVcMMHyr8SoeTK+wDKv0lVsyU0+sm/fgmCgGzzyb/adGrG3OrJvzTgUgxN4sm//K9NYsHZyb/Ff0i4NdHJv41PQw6qyMm/VB8+ZB7Ayb86W6dal7TJvyGXEFEQqcm/b4Fvrw2fyb++a84NC5XJv2QeUrcrj8m/dzXocFCJyb+MTH4qdYPJv6BjFOSZfcm/tHqqnb53yb/HkUBX43HJv9uo1hAIbMm/779syixmyb8D1wKEUWDJvxbumD12Wsm/KwUv95pUyb8/HMWwv07Jv1EzW2rkSMm/ZUrxIwlDyb96YYfdLT3Jv/vcL6dWN8m/e1jYcH8xyb/804A6qCvJv3xPKQTRJcm/iswcfxEfyb8t5f3pTRjJv9D93lSKEcm/cxbAv8YKyb/cV0IZ+P/Iv0WZxHIp9ci/r9pGzFrqyL/7r1qFh+LIv0aFbj602si/VAJiufTTyL9if1U0Nc3Iv3H8SK91xsi/f3k8Kra/yL+O9i+l9rjIv5xzIyA3ssi/qvAWm3eryL+3bQoWuKTIv8bq/ZD4nci/1GfxCzmXyL/j5OSGeZDIv/Fh2AG6ici//97LfPqCyL+i96znNnzIv0UQjlJzdci/6Shvva9uyL+LQVAo7GfIvy5aMZMoYci/0HIS/mRayL9zi/NooVPIvxWk1NPdTMi/LLtqjQJHyL+Gf/lr80LIvyeY2tYvPMi/yrC7QWw1yL878gVWLzHIv6VMacFjLMi/EKfMLJgnyL87Ox4cjyHIv8Sy+DMXGsi/48XAO5sSyL+UdHYzGwvIv0YjLCubA8i/wPqCERD4x79U0FZaOOfHv3VaMerN1ce/QAXnJfLAx78LsJxhFqzHv9RaUp06l8e/nwUI2V6Cx79psL0Ug23HvzNbc1CnWMe//gUpjMtDx78zFfHX8y7Hv/2/phMYGse/nxJu14ACx7/WACOL5erGvwzv1z5K08a/5BaB9a63xr9O2hecD5zGv+BUyC2ofsa/BiGDV7xfxr8v7T2B0EDGv069xlyFI8a/bI1PODoGxr/0C857c+rFvwuMl3DEzcW/IgxhZRWxxb95UjzWo5XFv2+1jh6he8W/0XzzdqJhxb+hqGrfp0fFv3DU4UetLcW/ede3wb0Xxb+rMGNlZgTFv3vC/0kZ8MS/l5s3knzexL/VLT4plczEvyNWGU3xucS/fJ5x3I6mxL8ki9ve24/Ev813ReEoecS/dWSv43VixL8eURnmwkvEvzOilfgTNcS/b0sAgyAhxL8WWX0dMQ3Ev79m+rdB+cO/xTqDT1Lpw786cx73ZtnDv4b0n7NDy8O/PiQX2KS+w7/0U478BbLDv24r5eJ6psO/5gI8ye+aw79g2pKvZI/Dv1GXhY1QhcO/ym7cc8V5w79CRjNaOm7Dv+e7itR1YcO/5/VwLaJQw7/pL1eGzj/Dv+lpPd/6LsO/56MjOCcew781JaX0AxDDv1m5LilpA8O/huVBTo/3wr+SWIYkAOzCv5A19m0t4cK/gfLoSxnXwr8jC8q2VdDCv8QjqyGSycK/ZjyMjM7Cwr8HVW33CrzCv6ptTmJHtcK/S4YvzYOuwr8TVioj+KXCv2MpiXinnMK/tPznzVaTwr8F0EYjBorCv+Kk8CnNf8K/W3xHEEJ0wr+E97ftNWjCv8coesOuWsK/n3VolGNLwr/+xbpkUzvCv10WDTVDK8K/yefo7KUcwr8pFygl0gnCvz4JecSm98G/+jY7hYrpwb/C4fDArtTBv4yMpvzSv8G/VDdcOPeqwb+LRiSEH5bBv8BV7M9HgcG/9mS0G3Bswb8sdHxnmFfBv2GDRLPAQsG/l5IM/+gtwb/NodRKERnBvwOxnJY5BMG/OcBk4mHvwL9uzywuitrAv6Te9HmyxcC/2u28xdqwwL/pRWsmy53Av2+atYeAi8C/9u7/6DV5wL98Q0pK62bAv3aWSfqIVcC/aYKJunRFwL+qyq+D4TXAv9JchFTJJ8C/Z9MsKnUbwL9zRnEA5g/Av365tdZWBMC/Q5t+Fnjvv7+iB8t+r96/vzuy8vAIz7+/1FwaY2K/v79RDVvfOr2/v869m1sTu7+/S27c1+u4v7/GHh1UxLa/v0TPXdCctL+/wX+eTHWyv780Ja0C3a6/v6bKu7hEq7+/9y/DC4afv79Klcpex5O/v5r60bEIiL+/BmNvZ3l6v79yywwd6my/v+AzqtJaX7+/TJxHiMtRv7+3BOU9PES/vyRtgvOsNr+/vReqZQYnv79++ay3Vxe/vw2ZomNABr+/nTiYDyn1vr8t2I27EeS+v7x3g2f60r6/TBd5E+PBvr/GhlveSa++vwB6pjYCmb6/5POL8tmEvr/JbXGusXC+v7kcH3ubWb6/qsvMR4VCvr+benoUbyu+v4spKOFYFL6/e9jVrUL9vb9th4N6LOa9v102MUcWz72/TeXeEwC4vb9Hn76mWqK9v0JZnjm1jL2/XlOFLzZ/vb96TWwlt3G9v5dHUxs4ZL2/lz6krolYvb+ZNfVB20y9v5osRtUsQb2/myOXaH41vb+cGuj7zym9v5wROY8hHr2/ccb/ZYoUvb8eROtc+wq9v/wD5PnUAr2/s4wBt7b6vL9qFR90mPK8vyCePDF66ry/1iZa7lvivL+j34qMv9u8v7AUU53R2Ly/vEkbruPVvL/JfuO+9dK8v8l+47710ry/yX7jvvXSvL/JfuO+9dK8v8l+47710ry/yX7jvvXSvL/JfuO+9dK8v8l+47710ry/yX7jvvXSvL/JfuO+9dK8v8l+47710ry/yX7jvvXSvL/JfuO+9dK8v8l+47710ry/yX7jvvXSvL/JfuO+9dK8v8l+47710ry/yX7jvvXSvL/JfuO+9dK8v8l+47710ry/yX7jvvXSvL/JfuO+9dK8v8l+47710ry/yX7jvvXSvL/JfuO+9dK8v8l+47710ry/yX7jvvXSvL/JfuO+9dK8v8l+47710ry/yX7jvvXSvL/JfuO+9dK8v8l+47710ry/yX7jvvXSvL/JfuO+9dK8v8l+47710ry/yX7jvvXSvL/JfuO+9dK8v8l+47710ry/yX7jvvXSvL/JfuO+9dK8v8l+47710ry/yX7jvvXSvL/JfuO+9dK8v8l+47710ry/yX7jvvXSvL/JfuO+9dK8v8l+47710ry/yX7jvvXSvL/JfuO+9dK8v8l+47710ry/yX7jvvXSvL/JfuO+9dK8v8l+47710ry/yX7jvvXSvL/JfuO+9dK8v8l+47710ry/yX7jvvXSvL/JfuO+9dK8v8l+47710ry/yX7jvvXSvL/JfuO+9dK8v8l+47710ry/yX7jvvXSvL/JfuO+9dK8v8l+47710ry/yX7jvvXSvL/JfuO+9dK8v8l+47710ry/yX7jvvXSvL/JfuO+9dK8v8l+47710ry/yX7jvvXSvL/JfuO+9dK8v8l+47710ry/yX7jvvXSvL/JfuO+9dK8v8l+47710ry/yX7jvvXSvL/JfuO+9dK8v8l+47710ry/yX7jvvXSvL/JfuO+9dK8v9uFq71r0by/Q/d09grMvL/RnxkPosa8v2BIvic5wby/8PBiQNC7vL8M60k2Ua68v08cDAzKoLy/kk3O4UKTvL/WfpC3u4W8vxmwUo00eLy/XOEUY61qvL+gEtc4Jl28v+NDmQ6fT7y/JXVb5BdCvL9qph26kDS8v63X348JJ7y/7wiiZYIZvL8zOmQ7+wu8v3ZrJhF0/ru/upzo5uzwu7/9zaq8ZeO7v0D/bJLe1bu/gzAvaFfIu78k1+wStrW7v8Z9qr0Uo7u/mVcRrCSQu79rMXiaNH27vz0L34hEaru/D+VFd1RXu7/zXiszLEO7v7UoG7YXJru/Mo/R/U8Lu7+KvqxlkPC6v+Dth83Q1bq/Nh1jNRG7ur9CziPR4Ka6v4W9BGKejbq/yazl8lt0ur8W0Y6UK1i6v2b1Nzb7O7q/thnh18ofur8EPop5mgO6v1RiMxtq57m/pIbcvDnLub/yqoVeCa+5v9qCBd/gjrm/Ay6tcDFtub+whSu3X0a5v0Tbli6oHLm/LapnQtHwuL9qUyhm6cG4v6b86IkBk7i/Sxdz5rheuL+389xNgi+4vyPQRrVLALi/YHkH2WPRt7+cIsj8e6K3v9fLiCCUc7e/FHVJRKxEt78+foua/Ba3v3kw+yrD87a/kw3VavbQtr8dZ6qpOaq2vyPSSthjgLa/TXRD/QVTtr80QxQRLye2v7+c6U9yALa/Sfa+jrXZtb/GGsy85rW1v0Q/2eoXkrW/wWPmGElutb8/iPNGekq1v72sAHWrJrW/O9ENo9wCtb/fLPawBd+0v+zUB+Amv7S/hmfkV2aftL/nko0jYIS0vy27oIwqa7S/HmpOWRRUtL+7PgwWD0C0v1cTytIJLLS/iT2MflgdtL9e6aPoEgi0v6QRt1Hd7rO/6jnKuqfVs78xYt0jcryzv3aK8Iw8o7O/vLID9gaKs78C2xZf0XCzv0kDKsibV7O/nfkKg4M/s7+Bc/A+WyuzvxET5upDGrO/XkA++cEJs79Q7+vFq/Kyv0CemZKV27K/MU1HX3/Esr8j/PQraa2yvxOrovhSlrK/LJErpTR/sr+0869QJmSyvz1WNPwXSbK/xbi4pwkusr8d2S+tkhGyv4YAb7GR87G/ImEM70rLsb9zfAYkbKOxv/mcqYqifLG/fr1M8dhVsb8E3u9XDy+xv4v+kr5FCLG/FVho/YjhsL/T+AyeaMGwvyIdtj84pbC/cEFf4QeJsL++ZQiD12ywvzTBjASfULC/qRwRhmY0sL8eeJUHLhiwvyenMxLr96+/El48FXq/r7/8FEUYCYevv5pdl1uoTq+/hxQQtZ8br79+b4jqXuuuv/uw0Sseq66/d/Iabd1qrr9DohpujCquvw9SGm876q2/jJNjsPqprb8p3LXzmXGtv8UkCDc5Oa2/YW1aetgArb8RzBBKWcusv54cNxzumKy/JX+7x999rL+u4T9z0WKsvzZExB7DR6y/v6ZIyrQsrL9HCc11phGsv89rUSGY9qu/Wc7VzInbq7/gMFp4e8Crv2mT3iNtpau/8fViz16Kq796WOd6UG+rv7NMtWZSVKu/7kCDUlQ5q78pNVE+Vh6rv2MpHypYA6u/nR3tFVroqr/ZEbsBXM2qvxIGie1dsqq/OQK7Ee2Xqr8NV0Ld3Ieqv1zF+JzMh6q/qTOvXLyHqr+pM69cvIeqv6kzr1y8h6q/qTOvXLyHqr+pM69cvIeqv6kzr1y8h6q/qTOvXLyHqr+pM69cvIeqv6kzr1y8h6q/qTOvXLyHqr+pM69cvIeqv6kzr1y8h6q/qTOvXLyHqr/3oWUcrIeqv49+zMiLgKq/JVszdWt5qr9/VgpjTWaqv9GyYkngTqq/Ig+7L3M3qr90axMWBiCqv8bHa/yYCKq/GSTE4ivxqb9qgBzJvtmpv7zcdK9Rwqm/DjnNleSqqb9flSV8d5Opv7HxfWIKfKm/A07WSJ1kqb9Vqi4vME2pv6YGhxXDNam/+mLf+1Ueqb9Mvzfi6Aapv54bkMh776i/JX4UdG3UqL+u4JgfX7movzZDHctQnqi/vqWhdkKDqL9GCCYiNGiov9Bqqs0lTai/Wc0ueRcyqL/gL7MkCReov2mSN9D6+6e/8fS7e+zgp78r6Yln7sWnvxxvp2YAsqe/DvXEZRKep789XHIjIpanv8HQVKhwkqe/RUU3Lb+Op78TKMqe/YOnvy95E9Areae/TwNRmglkp79wjY5k506nv6qBXFDpM6e/43UqPOsYp78eavgn7f2mv1dexhPv4qa/kVKU//DHpr/LRmLr8qymvwU7MNf0kaa/Pi/+wvZ2pr93I8yu+Fumv7IXmpr6QKa/tQU8wZ0ppr+5893nQBKmv7zhfw7k+qW/wM8hNYfjpb/DvcNbKsylv8WrZYLNtKW/ypkHqXCdpb/Nh6nPE4alv9B1S/a2bqW/02PtHFpXpb/XUY9D/T+lv9s/MWqgKKW/3S3TkEMRpb/hG3W35vmkv5abYB6a4qS/TBtMhU3LpL+3LIf/ELukv9bPC7rkqqS/8Dmc2wilpL8JpCz9LJ+kvwmkLP0sn6S/CaQs/SyfpL8JpCz9LJ+kvwmkLP0sn6S/CaQs/SyfpL8JpCz9LJ+kvwmkLP0sn6S/CaQs/SyfpL8JpCz9LJ+kvwmkLP0sn6S/CaQs/SyfpL8JpCz9LJ+kvwmkLP0sn6S/CaQs/SyfpL8JpCz9LJ+kvwmkLP0sn6S/CaQs/SyfpL8JpCz9LJ+kvwmkLP0sn6S/CaQs/SyfpL9XEuO8HJ+kv6aAmXwMn6S/9e5PPPyepL9CXQb8656kv5HLvLvbnqS/4Dlze8uepL8vqCk7u56kv30W4PqqnqS/awB8bsmbpL98+Kff05Wkv0H+0DDghKS/BgT6gexzpL8beNmS6GKkv8PhZkC6T6S/a0v07Ys8pL8TtYGbXSmkv7weD0kvFqS/RIGT9CD7o7/N4xegEuCjv1VGnEsExaO/LBfXtuWpo78B6BEix46jv3c0MkHXcKO/HOj/HfdKo7/l28qVpiKjv67PlQ1W+qK/d8NghQXSor9aIbwe2aOivzx/F7isdaK/Ht1yUYBHor+yzBcrZBmiv0W8vARI66G/2qth3iu9ob9tmwa4D4+hvwGLq5HzYKG/lXpQa9cyob8pavVEuwShv7xZmh6f1qC/sc1ZRFSroL+CM4lsHYOgv+35cXTUZaC/E6tRJlc+oL/r7XoY6hagv4zvUzn24p+/N3qCc1aXn7836kYfOUOfv4nDygrY4p6/tofNeRaSnr+r/FEFfSeev+WN9ou7tp2/g0IukxpGnb+909IZWdWcvyne3v0+ZJy/k+jq4STzm79QT2kPy4abvw225zxxGpu/yhxmaheumr//7nbQbUeav5ZOdtLLxpm/Lq511ClGmb+Qo6+uJreYv81RBGLDIZi/F6ixP+V6l79i/l4dB9SWv61UDPsoLZa/6Wy8yax9lb8ihWyYMM6Uv12dHGe0HpS/l7XMNThvk7/ctkEOWbiSvxS4qkB685G/LE3lXsA2kb9C4h99BnqQv0/85XtKe4+/L0brmQsEjr9KScq2i4yMv+xokttkFou/U8+AAX+gib8x1GvuSF6Iv4KgFuViKIe/DCab2jvyhb9c8kXRVbyEv87diz1mkoO/93BBePBcgr98SxIg+h2Bv/xLxo8Hvn+/AgFo3xpAfb9btzxATNp6vy44VzFf3Hi/ArlxInLedr+t4qGyCRp1v+soZ94hb3O/787JYCUKcr/0dCzjKKVwv/I1HstYgG6/f3LNR1D7a78Nr3zER3Zpv5rrK0E/8Wa/JijbvTZsZL9kHGPsRSJivxcs5E9WSWC/PalUEOIwXb9N+uCAF89ZvyAVO+hEa1a/8y+VT3IHU7/NK8OmgC1Qv3FcY4UFGky/e8a96HBOR7/07tg80Zw/v7empUQa6Sa/p97Upi1XIT8DsifJuss8P1p6cl/vdUg/uWKlrI3RTz8ZKpRciUhTP9Wi1eJLqFY/kRsXaQ4IWj9NlFjv0GddP4UGzbrJY2A/48Lt/aoTYj9Bfw5BjMNjP587L4Rtc2U//vdPx04jZz9ctHAKMNNoP7pwkU0Rg2o/Fy2ykPIybD916dLT0+JtP9Sl8xa1km8/GTEKLUuhcD9Jj5rOO3lxP3ftKnAsUXI/6QpoPZUMcz9bKKUK/sdzPz24ldXkgnQ/IEiGoMs9dT8C2HZrsvh1P+VnZzaZs3Y/u3JnvTZ6dz/GWULpmPt3P/kIv9x3Kng/tvSbgOoCeT904HgkXdt5PzLMVcjPs3o/77cybEKMez+tow8QtWR8P2uP7LMnPX0/KXvJV5oVfj/lZqb7DO5+P6NSg59/xn8/+WXWIrpPgD+fIut1NLyAP0Xf/8iuKIE/7ZsUHCmVgT+TWClvowGCPzoVPsIdboI/4NFSFZjagj+HjmdoEkeDPy5LfLuMs4M/1QeRDgcghD/H0qO4EbWEP4Xk3GNdSoU/e6/vDWjfhT8q8Vun2JeGP/quwl6FYYc/h4x5UQhDiD9ZzXpNTESJP1lMlUJGdYo/jBk0abaoiz9fFRs0A9+MPzIRAv9PFY4/wO648dL2jj9NzG/kVdiPP+1Uk2vsXJA/tMPu5K3NkD97Mkpebz6RP0Ghpdcwr5E/CRABUfIfkj/PflzKs5CSP5Xtt0N1AZM/9ziAPBZykz9chEg1t+KTP77PEC5YU5Q/IRvZJvnDlD+EZqEfmjSVP0rV/JhbpZU/D0RYEh0Wlj/VsrOL3oaWP5shDwWg95Y/YJBqfmFolz+tErFaWM2XP5RxZLYuMpg/fNAXEgWXmD8JdB52KOqYP4LZJ8utNJk/Hy+JAkhzmT+rRu0qRKmZP2zIFnuh7Zk/gC/WPIEpmj9uas3lnV+aP12lxI66lZo/S+C7N9fLmj85G7Pg8wGbPyZWqokQOJs/FZGhMi1umz8DzJjbSaSbP/IGkIRm2ps/4EGHLYMQnD/PfH7Wn0acP723dX+8fJw/rPJsKNmynD+aLWTR9eicP4ZoW3oSH50/2sblo09VnT8sJXDNjIudPxtgZ3apwZ0/C5teH8b3nT/51VXI4i2eP+kQTXH/Y54/LwyRniOgnj9Cc1BgA9yeP363mS1cOJ8/uvvi+rSUnz/0PyzIDfGfPxjCukqzJqA/NmRfsd9UoD+KDDDdan+gPzmw1/bXlqA/51N/EEWuoD+W9yYqssWgP0SbzkMf3aA/8z52XYz0oD+i4h13+QuhP1GGxZBmI6E//yltqtM6oT+uzRTEQFKhP1xxvN2taaE/CxVk9xqBoT+6uAsRiJihP2dcsyr1r6E/FwBbRGLHoT/FowJez96hP3RHqnc89qE/cFkIUZkNoj9ta2Yq9iSiP2p9xANTPKI/Z48i3a9Toj9joYC2DGuiP2Cz3o9pgqI/MWUWp8KWoj/FU9ss/6aiP8VT2yz/pqI/xVPbLP+moj/FU9ss/6aiP8VT2yz/pqI/xVPbLP+moj/FU9ss/6aiP8VT2yz/pqI/xVPbLP+moj/FU9ss/6aiP8VT2yz/pqI/xVPbLP+moj/FU9ss/6aiP8VT2yz/pqI/xVPbLP+moj/FU9ss/6aiP8VT2yz/pqI/xVPbLP+moj/FU9ss/6aiP8VT2yz/pqI/xVPbLP+moj/FU9ss/6aiP8VT2yz/pqI/xVPbLP+moj/FU9ss/6aiP8VT2yz/pqI/xVPbLP+moj/FU9ss/6aiP8VT2yz/pqI/xVPbLP+moj925SRtD6eiPyl3bq0fp6I/8nBC6MCqoj9s/F9jcq6iP+eHfd4jsqI/YhObWdW1oj+UMAjolsCiP8ZNdXZYy6I/q/wrRSrWoj+Oq+IT/OCiP20hpUke9qI/xyKF+vEOoz+OLrcO8CmjP1M66SLuRKM/GkYbN+xfoz/eUU1L6nqjP6Rdf1/olaM/ammxc+awoz8vdeOH5MujP/WAFZzi5qM/u4xHsOABpD+BmHnE3hykP0Wkq9jcN6Q/DLDd7NpSpD/Ruw8B2W2kP5fHQRXXiKQ/XdNzKdWjpD8j36U9076kP+fq11HR2aQ/rvYJZs/0pD/CcPI5vQ+lP9bq2g2rKqU/0vw45wdCpT8efU2AVFmlP2f9YRmhcKU/sn12su2HpT9GbDs4KpilP9paAL5mqKU/vLd7A5O4pT+dFPdIv8ilP4SqZiebzqU/77S4isXQpT/vtLiKxdClP++0uIrF0KU/77S4isXQpT/vtLiKxdClP++0uIrF0KU/77S4isXQpT/vtLiKxdClP++0uIrF0KU/77S4isXQpT/vtLiKxdClP++0uIrF0KU/77S4isXQpT/vtLiKxdClP++0uIrF0KU/77S4isXQpT/vtLiKxdClP++0uIrF0KU/77S4isXQpT/vtLiKxdClP++0uIrF0KU/77S4isXQpT/vtLiKxdClP++0uIrF0KU/77S4isXQpT/vtLiKxdClP++0uIrF0KU/77S4isXQpT/vtLiKxdClP6FGAsvV0KU/U9hLC+bQpT8EapVL9tClP7f73osG0aU/aY0ozBbRpT8bH3IMJ9GlP82wu0w30aU/f0IFjUfRpT8w1E7NV9GlP+NlmA1o0aU/lffhTXjRpT9GiSuOiNGlP/kadc6Y0aU/q6y+DqnRpT9dPghPudGlPw7QUY/J0aU/wWGbz9nRpT9y8+QP6tGlPySFLlD60aU/1hZ4kArSpT+JqMHQGtKlPzo6CxEr0qU/7ctUUTvSpT+eXZ6RS9KlP1Dv59Fb0qU/AoExEmzSpT+0EntSfNKlP2akxJKM0qU/FzYO05zSpT/Kx1cTrdKlP8rHVxOt0qU/ysdXE63SpT/Kx1cTrdKlP8rHVxOt0qU/ysdXE63SpT/Kx1cTrdKlP8rHVxOt0qU/ysdXE63SpT/Kx1cTrdKlP8rHVxOt0qU/ysdXE63SpT/Kx1cTrdKlP8rHVxOt0qU/ysdXE63SpT/Kx1cTrdKlP8rHVxOt0qU/ysdXE63SpT/Kx1cTrdKlP8rHVxOt0qU/ysdXE63SpT/Kx1cTrdKlP8rHVxOt0qU/ysdXE63SpT/Kx1cTrdKlP8rHVxOt0qU/ysdXE63SpT/Kx1cTrdKlP8rHVxOt0qU/ysdXE63SpT8P3WBp4dylP/OLFziz56U/1zrOBoXypT+76YTVVv2lP03xkEuJEqY/Ev3CX4ctpj+Kmj60lUimP2tbU1zEaqY/Jw7YBgeQpj9eGg2PV7imP5UmQheo4KY/+d3v0wgZpz9blZ2QaVGnPwo/Tm3IlKc/uej+SSfYpz/7FW88qiWoP+/UKG89c6g/45PiodDAqD/ZUpzUYw6pPwAWfKXCYak/KdlbdiG1qT9SnDtHgAiqP3pfGxjfW6o/oiL76D2vqj99dyT6rAKrP1bMTQscVqs/MSF3HIupqz9jg9X0OAGsP7MqKOipYqw/bfUTLzvLrD+UPEBgqCmtPx3qvhh4h60/oambqqT8rT8laXg80XGuP/zP/yad3K4/nzJhc51Brz+PA3l/jaavP3DVZTn/A7A/BPn70TUzsD/a77l75WCwP7DmdyWVjrA/8Yf5tDy0sD9mLiR2+dqwP7ZbTSc3/LA/Bol22HQdsT+N9L9+oDmxPzqX5ATEVbE/5zkJi+dxsT+U3C0RC46xPyd9P8hIp7E/ux1Rf4bAsT9OvmI2xNmxP+FedO0B87E/c/+FpD8Msj8u13I7dSWyP+euX9KqPrI/ooZMaeBXsj+x156c9m6yPzEGd0IrgbI/+6KCvs+Psj9ezsQB1aOyP7uNzfTaurI/zNVwu0LGsj+HpK7lydOyP0Nz7A9R4bI//kEqOtjusj+6EGhkX/yyP5HiO/EVCLM/kOvqXcQTsz+O9JnKch+zP3/IgCYPLrM/0VNEnExDsz/r2V7gdFezP/Aff00abbM/g8CQBFiGsz99esRkm6azP3wG+LJCyLM/epIrAerpsz9R54NvmQu0Pyk83N1ILbQ/AJE0TPhOtD97cJHlwXW0P/VP7n6LnLQ/by9LGFXDtD/qDqixHuq0P2TuBEvoELU/3s1h5LE3tT9Zrb59e161P9KMGxdFhbU/TGx4sA6stT9U9Hlib821P2TotGTP67U/wEqmJh8Ktj9yJv2ETya2PyQCVON/QrY/1d2qQbBetj+HuQGg4Hq2PzmVWP4Ql7Y/4HTh+Ieztj+JVGrz/s+2P23einLA7rY/5HsGx84Jtz8m22Em7ym3P396t1ySSLc/IYhAaaVjtz9efKfMsne3P5WeDkJcirc/zsB1twWdtz8sGrgMp6+3P4tz+mFIwrc/wpVh1/HUtz/G24FEl+q3P1CAxZcbBLg/71QczCEfuD9n8pcgMDq4P9+PE3U+Vbg/Vy2PyUxwuD/PygoeW4u4P0dohnJpprg/wAUCx3fBuD83o30bhty4P69A+W+U97g/Kd50xKISuT+ge/AYsS25PxkZbG2/SLk/kLbnwc1juT8JVGMW3H65P4Hx3mrqmbk/AosoI7K0uT+DJHLbec+5P9ZI7B8J5bk/NaIudar3uT/LOZG/OQW6P1/R8wnJEro/9WhWVFgguj+LALme5y26P8CI5rH1RLo/9RAUxQNcuj8smUHYEXO6Pzvqkwsoiro/cXLBHjahuj/h0styTbK6P8zUsuCFv7o/oqaGbTzLuj+erzXa6ta6P5u45EaZ4ro/l8GTs0fuuj+VykIg9vm6P5HT8YykBbs/jtyg+VIRuz+L5U9mAR27P4fu/tKvKLs/g/etP140uz+AAF2sDEC7P34JDBm7S7s/exK7hWlXuz92G2ryF2O7P3MkGV/Gbrs/cC3Iy3R6uz9tNnc4I4a7P2k/JqXRkbs/ZUjVEYCduz9iUYR+Lqm7P2BaM+vctLs/g5q9N4PAuz+m2keEKcy7PyoqBwhRzrs/rXnGi3jQuz8KkqovqNK7P43habPP1Ls/DzEpN/fWuz/p+U1X/9a7P8LCcncH17s/nIuXlw/Xuz90VLy3F9e7P04d4dcf17s/VigTnpDYuz8U7qFbadq7P9KzMBlC3Ls/kHm/1hreuz9OP06U89+7P5tfzptk5bs/539Oo9Xquz8H/bl6T/O7PzJI86Pm/Ls/FU4MrmUKvD/THErY7Be8P5DrhwJ0Jbw/TbrFLPsyvD8KiQNXgkC8P8ZXQYEJTrw/gyZ/q5BbvD8/9bzVF2m8P/zD+v+edrw/uZI4KiaEvD91YXZUrZG8PzMwtH40n7w/8P7xqLusvD/TBAuzOrq8P8AVVoMqybw/A9NLp0rdvD8DVtCIQ/O8PwTZVGo8Cb0/OmGCfUogvT9x6a+QWDe9P6Zx3aNmTr0/rbf9EAxkvT/+QsGGSXm9P1DOhPyGjr0/oVlIcsSjvT/z5AvoAbm9P7UV3hOnyr0/eUawP0zcvT9nGpeb6Oq9P0wgsKVn+L0/d2vpzv4Bvj/K7f3XjQu+PxxwEuEcFb4/b/Im6qsevj/BdDvzOii+PxT3T/zJMb4/ZnlkBVk7vj+6+3gO6ES+Pwx+jRd3Tr4/XwCiIAZYvj+xgrYplWG+PwMFyzIka74/VYffO7N0vj+pCfREQn6+P/GA1odghr4/5UsOd06Jvj8bUbeoY4q+P1BWYNp4i74/UFZg2niLvj9QVmDaeIu+P1BWYNp4i74/UFZg2niLvj9QVmDaeIu+P1BWYNp4i74/UFZg2niLvj9QVmDaeIu+P1BWYNp4i74/UFZg2niLvj9QVmDaeIu+P1BWYNp4i74/UFZg2niLvj9QVmDaeIu+P1BWYNp4i74/UFZg2niLvj9QVmDaeIu+P1BWYNp4i74/u6KJ+3CPvj8k77IcaZO+P4873D1hl74/Vz/iePqhvj88RfuCea++Px9LFI34vL4/3BlSt3/Kvj+Z6I/hBti+P1W3zQuO5b4/EoYLNhXzvj/PVElgnAC/P4wjh4ojDr8/SfLEtKobvz8FwQLfMSm/P8KPQAm5Nr8/IOmCXlpJvz9ZC+rTA1y/P5AtUUmtbr8/FACVrs2Gvz+X0tgT7p6/PxylHHkOt78/rkUuMEzQvz/cdHau6u6/PwRSX5bEBsA/EmYf1tgWwD8fet8V7SbAPwfXhWrJOMA/xEY0Ny5MwD9FR8K8WGHAPz5E7EJId8A/dZk2BySMwD+s7oDL/6DAPyU7pwwoucA/XZDx0APOwD/bp39ffOLAP9SkqeVr+MA/YD3BW1cOwT/s1djRQiTBP3du8EcuOsE/AwcIvhlQwT+Pnx80BWbBPxs4N6rwe8E/p9BOINyRwT+fzXimy6fBP7okRgj0wcE/gzaRVI/ZwT/g48mQJvHBPz2RAs29CMI/fM0zOigewj+6CWWnkjPCP/lFlhT9SMI/n7CVMA9ewj9RAMeRMnLCP7Kr5n+micI/nVpqbVWgwj+HCe5aBLfCP5lvizPry8I/08IglEnfwj9MhdY74vDCP0xL8OK1AcM/1xJVO6ERwz9k2rmTjCHDP62qQm8rLsM/iha5OsY6wz8RP2JUUUbDPyCCb3ZlUMM/LsV8mHlawz88CIq6jWTDP0pLl9yhbsM/V46k/rV4wz9l0bEgyoLDP3MUv0LejMM/gVfMZPKWwz8jNsd2AqHDP6O6Hq3ZpsM/Iz9247Cswz8OKOApjLLDP/sQSnBnuMM/3xLNDbS9wz82EwX66MPDP40TPeYdysM/4WLSiiDQwz/dhZqGYdTDP1ZrNn7Y1cM/0FDSdU/Xwz9KNm5txtjDPzCAHHVB2sM/j2c7CgXhwz/sTlqfyOfDP0s2eTSM7sM/qR2YyU/1wz8HBbdeE/zDP2Xs1fPWAsQ/xNP0iJoJxD8iuxMeXhDEP4GiMrMhF8Q/34lRSOUdxD8+cXDdqCTEP5xYj3JsK8Q/+z+uBzAyxD/Ei9+s9zjEP47XEFK/P8Q/WSNC94ZGxD8ib3OcTk3EP+u6pEEWVMQ/tAbW5t1axD/5zmSBKmTEP0c5kJutccQ/lqO7tTB/xD9yDzKBy4vEP097qExmmMQ/v4IMCP2kxD8vinDDk7HEPwARtUkdv8Q/lyjZiGzOxD8CUwVARN/EP1dc7Jgn8cQ/q8T+ZIf+xD+DMiqUnwzFP1ygVcO3GsU/NA6B8s8oxT954L4x7DbFPzk5bfUCS8U/bo63ud5fxT+j4wF+unTFP9k4TEKWicU/D46WBnKexT9E4+DKTbPFP3s4K48pyMU/sI11UwXdxT96fq0H3fHFP0Rv5bu0BsY/DmAdcIwbxj/ZUFUkZDDGPxCmn+g/RcY/RvvprBtaxj+Xb8RrbmzGP8YgvUyWe8Y/i3dSwomPxj9Qzuc3faPGPxQlfa1wt8Y/2nsSI2TLxj+e0qeYV9/GP9OLmrrR8cY/QrStI4YCxz/eybgUshHHPyOc9lPOH8c/8XGYkiUtxz87QiFuxDnHP4MSqkljRsc/zuIyJQJTxz+rTqnwnF/HPw00rzc9Zsc/+RwZfhhsxz/lBYPE83HHP9Lu7ArPd8c/vtdWUap9xz+qwMCXhYPHP5WpKt5gicc/gpKUJDyPxz9ve/5qF5XHP1tkaLHymsc/Rk3S982gxz8yNjw+qabHP7K6k3SArMc/Mj/rqleyxz+xw0LhLrjHP0dp33X6vMc/R2nfdfq8xz9Had91+rzHP0dp33X6vMc/R2nfdfq8xz9Had91+rzHP0dp33X6vMc/R2nfdfq8xz9Had91+rzHP0dp33X6vMc/R2nfdfq8xz9Had91+rzHP0dp33X6vMc/R2nfdfq8xz9Had91+rzHP0dp33X6vMc/R2nfdfq8xz+6Z5TE4r3HPytmSRPLvsc/nmT+YbO/xz8QY7Owm8DHP4NhaP+Dwcc/YcQvXnDCxz8acN3RJMXHP9Ibi0XZx8c/jMc4uY3Kxz+8t7AhCs7HP1kMO5qK0cc/aqy+y53Vxz/iSS9Z5trHP9TMO96l4cc/xU9IY2Xoxz+30lToJO/HP6pVYW3k9cc/nNht8qP8xz+OW3p3YwPIP3/ehvwiCsg/cGGTgeIQyD9i5J8GohfIP1RnrIthHsg/Req4ECElyD83bcWV4CvIPyrw0RqgMsg/HHPen185yD8O9uokH0DIP/9496neRsg/8fsDL55NyD9xgFtldVPIP+8Es5tMWcg/b4kK0iNfyD/vDWII+2TIP26SuT7Sasg/gbL+ZKVwyD+7iV12sHTIP/RgvIe7eMg/LTgbmcZ8yD/vyq+1CYDIP0P5McJIg8g/JNy6FfWFyD+dwVYNbIfIP53BVg1sh8g/ncFWDWyHyD+dwVYNbIfIP53BVg1sh8g/ncFWDWyHyD+dwVYNbIfIP53BVg1sh8g/ncFWDWyHyD+dwVYNbIfIP53BVg1sh8g/ncFWDWyHyD+dwVYNbIfIP53BVg1sh8g/ncFWDWyHyD+dwVYNbIfIP53BVg1sh8g/ncFWDWyHyD+dwVYNbIfIP53BVg1sh8g/ncFWDWyHyD+dwVYNbIfIP53BVg1sh8g/ncFWDWyHyD+dwVYNbIfIP53BVg1sh8g/ncFWDWyHyD+dwVYNbIfIP53BVg1sh8g/ncFWDWyHyD+dwVYNbIfIP53BVg1sh8g/ncFWDWyHyD+dwVYNbIfIP53BVg1sh8g/ncFWDWyHyD+dwVYNbIfIP53BVg1sh8g/ncFWDWyHyD+dwVYNbIfIP53BVg1sh8g/ncFWDWyHyD+dwVYNbIfIP53BVg1sh8g/ncFWDWyHyD+dwVYNbIfIP53BVg1sh8g/ncFWDWyHyD+dwVYNbIfIP53BVg1sh8g/ncFWDWyHyD+dwVYNbIfIP53BVg1sh8g/ncFWDWyHyD+dwVYNbIfIP53BVg1sh8g/ncFWDWyHyD+dwVYNbIfIP53BVg1sh8g/ncFWDWyHyD+dwVYNbIfIP53BVg1sh8g/ncFWDWyHyD+dwVYNbIfIP53BVg1sh8g/ncFWDWyHyD+dwVYNbIfIP53BVg1sh8g/ncFWDWyHyD+dwVYNbIfIP53BVg1sh8g/ncFWDWyHyD+dwVYNbIfIP53BVg1sh8g/ncFWDWyHyD+dwVYNbIfIP53BVg1sh8g/ncFWDWyHyD+dwVYNbIfIP53BVg1sh8g/ncFWDWyHyD+dwVYNbIfIP53BVg1sh8g/ncFWDWyHyD+dwVYNbIfIP53BVg1sh8g/ncFWDWyHyD+dwVYNbIfIP53BVg1sh8g/ncFWDWyHyD+dwVYNbIfIP53BVg1sh8g/ncFWDWyHyD+dwVYNbIfIP53BVg1sh8g/ncFWDWyHyD+dwVYNbIfIP53BVg1sh8g/ncFWDWyHyD+dwVYNbIfIP53BVg1sh8g/ncFWDWyHyD+dwVYNbIfIP53BVg1sh8g/ncFWDWyHyD+dwVYNbIfIP53BVg1sh8g/ncFWDWyHyD+dwVYNbIfIP53BVg1sh8g/ncFWDWyHyD+dwVYNbIfIP53BVg1sh8g/ncFWDWyHyD+dwVYNbIfIP53BVg1sh8g/ncFWDWyHyD+dwVYNbIfIP53BVg1sh8g/ncFWDWyHyD+dwVYNbIfIP53BVg1sh8g/ncFWDWyHyD+dwVYNbIfIP53BVg1sh8g/ncFWDWyHyD+dwVYNbIfIP53BVg1sh8g/ncFWDWyHyD+dwVYNbIfIP53BVg1sh8g/ncFWDWyHyD+dwVYNbIfIP53BVg1sh8g/ncFWDWyHyD+dwVYNbIfIP53BVg1sh8g/ncFWDWyHyD+dwVYNbIfIP53BVg1sh8g/ncFWDWyHyD+dwVYNbIfIP53BVg1sh8g/CiZpHXCHyD92instdIfIP+LujT14h8g/T1OgTXyHyD+9t7JdgIfIPykcxW2Eh8g/lYDXfYiHyD8C5emNjIfIP29J/J2Qh8g/260OrpSHyD9HEiG+mIfIP7R2M86ch8g/INtF3qCHyD+NP1jupIfIP/ujav6oh8g/Zwh9Dq2HyD/TbI8esYfIP0DRoS61h8g/rTW0PrmHyD8ZmsZOvYfIP4X+2F7Bh8g/8mLrbsWHyD9fx/1+yYfIP8srEI/Nh8g/N5Ain9GHyD+l9DSv1YfIPxFZR7/Zh8g/fr1Zz92HyD/rIWzf4YfIP1eGfu/lh8g/wuqQ/+mHyD8OMixjmorIP5JQJthVkcg/g9MyXRWYyD9zVj/i1J7IP2TZS2eUpcg/VFxY7FOsyD9F32RxE7PIPzVicfbSucg/JuV9e5LAyD8WaIoAUsfIPwfrloURzsg/+W2jCtHUyD/p8K+PkNvIP9lzvBRQ4sg/yvbImQ/pyD+7edUez+/IP6v84aOO9sg/m3/uKE79yD+NAvutDQTJP32FBzPNCsk/bQgUuIwRyT9diyA9TBjJP08OLcILH8k/P5E5R8slyT8vFEbMiizJPyCXUlFKM8k/ERpf1gk6yT8BnWtbyUDJP/EfeOCIR8k/dj5yVUROyT8ceuN2U1LJP4je9YZXUsk/iN71hldSyT+I3vWGV1LJP/VCCJdbUsk/Yqcap19SyT/OCy23Y1LJPztwP8dnUsk/p9RR12tSyT8UOWTnb1LJP4CddvdzUsk/7QGJB3hSyT9aZpsXfFLJP8bKrSeAUsk/Mi/AN4RSyT+fk9JHiFLJPwz45FeMUsk/eVz3Z5BSyT/kwAl4lFLJP1ElHIiYUsk/v4kumJxSyT8s7kCooFLJP5dSU7ikUsk/BLdlyKhSyT9xG3jYrFLJP95/iuiwUsk/SuSc+LRSyT+2SK8IuVLJPyOtwRi9Usk/0wiwpQ1WyT/8SToq1VrJPyWLxK6cX8k/vDBhQ2hkyT+jG4DtwGvJPx6ijIcVc8k/miiZIWp6yT87B5QzeoTJP5x4I2LNkck/CoI8geGfyT92i1Wg9a3JP+OUbr8JvMk/UZ6H3h3KyT++p6D9MdjJPyuxuRxG5sk/mbrSO1r0yT8FxOtabgLKPwqI7LMeE8o/W5OIcH8myj8lhMAkVzvKP+90+NguUMo/uWUwjQZlyj+DVmhB3nnKP7qrsgW6jso/29+3a6Gkyj/rfehERbvKP2XKDoZt08o/HKSwgCDuyj/SfVJ70wjLP4lX9HWGI8s//Dm68+w6yz/1NuR53FDLP+8zDgDMZss/nibJUfCAyz9RF88/l5nLP3ztcCW1s8s/p8MSC9PNyz+tQcZ4NeXLP/Is5clU+cs/LYB6KrMMzD9m0w+LESDMP6EmpetvM8w/2nk6TM5GzD8Uzc+sLFrMP08gZQ2Lbcw/h3P6bemAzD/Cxo/OR5TMP2RfPfUJpcw/u7BPuBuzzD+XHMaDtr/MP+HsTl9VzMw/Kr3XOvTYzD9zjWAWk+XMP1D51uEt8sw/Q4aSC739zD9GqSLCjwjNP98dvRDeEc0/PQXcpaEYzT+a7Po6ZR/NP/fTGdAoJs0/BBcn8jwwzT95kRKQeEDNP3dXLDdMUc0/U8OiAuddzT/b60sccmnNP+ouWT6Gc80/93FmYJp9zT8FtXOCrofNPxP4gKTCkc0/ITuOxtabzT8wfpvo6qXNPz7BqAr/r80/TAS2LBO6zT9aR8NOJ8TNP9Tu4oA/zs0/T5YCs1fYzT/KPSLlb+LNP0TlQReI7M0/yiTrOWH3zT9OZJRcOgLOP04qrgMOE84/T/DHquEjzj+7GvRhuTTOPydFIBmRRc4/k29M0GhWzj8AmniHQGfOP1GlFEShes4/obCwAAKOzj9fIF/NZqHOPxyQDZrLtM4/KqTN2d/Ezj/PgK+dzM7OP+sRY1gh2M4/B6MWE3bhzj8jNMrNyurOPz/FfYgf9M4/ZvjNwqoBzz+QKx79NQ/PPwqk8ExOH88/gxzDnGYvzz/+lJXsfj/PP6/kxk2iU88/5zkREn5ozz8ej1vWWX3PP6knc0xFk88/NcCKwjCpzz/BWKI4HL/PP07xua4H1c8/z/FHNDLqzz9Q8tW5XP/PP/WDcFVEB9A/wg72TdoO0D9ZZ3I+bhbQP++/7i4CHtA/hhhrH5Yl0D9W8EE3ni3QP7TXYMxhNNA/SPGIaSc70D+m2Kf+6kHQPwTAxpOuSNA/YaflKHJP0D/0Zf/x91bQP7E7WkEdYNA/bRG1kEJp0D8q5w/gZ3LQP5FeUQgVfNA/84TE8KaD0D9TqzfZOIvQPwuv6TaEkdA/xLKblM+X0D+y6Fb6HJ7QPwSzYtdkotA/lPrhglCm0D8kQmEuPKrQP9S18PidrdA/gymAw/+w0D8ynQ+OYbTQP+EQn1jDt9A/kYQuIyW70D8/+L3thr7QP+9rTbjowdA/nt/cgkrF0D+CKmeBbsnQP3l90cHuztA/vBGmTrTU0D/GJiC0BdrQP9E7mhlX39A/ph4Ld6bk0D96AXzU9enQP07k7DFF79A/I8ddj5T00D/D0tO4IfnQPzjHCFwP/NA/rrs9//z+0D8jsHKi6gHRP+4CwWxQBNE/uVUPN7YG0T+EqF0BHAnRP0/7q8uBC9E/Gk76lecN0T+vbj9YSxDRP0OPhBqvEtE/16/J3BIV0T9t0A6fdhfRPwHxU2HaGdE/lhGZIz4c0T8rMt7loR7RP79SI6gFIdE/iqVxcmsj0T8D5/c0yybRP7Jah/8sKtE/Yc4Wyo4t0T8RnbRoMDDRP9cfpXfVM9E/UGErOjU30T/KorH8lDrRP0PkN7/0PdE/vCW+gVRB0T80Z0REtETRP62oygYUSNE/JupQyXNL0T+fK9eL007RPxdtXU4zUtE/ka7jEJNV0T8K8GnT8ljRP4Ix8JVSXNE//HJ2WLJf0T90tPwaEmPRP+31gt1xZtE/ZjcJoNFp0T/feI9iMW3RP1e6FSWRcNE/0fub5/Bz0T9KPSKqUHfRP8N+qGywetE/PMAuLxB+0T+0AbXxb4HRPy5DO7TPhNE/cFK4bi2I0T8Ec/0wkYrRP2NhOevyjNE/wU91pVSP0T/qC6hXtJHRP+oLqFe0kdE/6guoV7SR0T8gPrFftpHRP1Zwume4kdE/jaLDb7qR0T/D1Mx3vJHRP/oG1n++kdE/MDnfh8CR0T9ma+iPwpHRP52d8ZfEkdE/08/6n8aR0T8JAgSoyJHRPz80DbDKkdE/dWYWuMyR0T+smB/AzpHRP+LKKMjQkdE/Gf0x0NKR0T9PLzvY1JHRP4VhRODWkdE/vJNN6NiR0T/xxVbw2pHRPyn4X/jckdE/XippAN+R0T+UXHII4ZHRPzez7hrHktE/Fgi5rQ+U0T/z3Y/naZXRPwXmbynGltE/LZk6gG6Z0T9VTAXXFpzRP37/zy2/ntE/YqVoACOi0T8RGfjKhKXRP8CMh5XmqNE/bwAXYEis0T8ddKYqqq/RP8znNfULs9E/e1vFv2220T8pz1SKz7nRP9ZC5FQxvdE/vOh8J5XA0T+s6hgo+sPRP8mCG/0/yNE/6uZiSubM0T9AfbOfjtHRP89FDf041tE/OghVDj/c0T/b/KUnR+LRP3vx9kBP6NE/aieyppzu0T+TW7uMTPXRP/FC2iEQ/NE/3vlvORwD0j/jA1BZJgvSP33pvG5MEtI/Or8XvnEb0j/a51VHDyXSP0PeisiqLtI/lynVNPo20j/sdB+hST/SP0DAaQ2ZR9I/QiLqOfFP0j9CBXcNW1jSP6SwQchUYtI/BlwMg05s0j9NKBg+RHfSP5P0I/k5gtI/2sAvtC+N0j/5urK1zZnSPxe1NbdrptI//3yvsAez0j/d6CV8or/SP42+NXNcy9I/OcgA8rXW0j+vn8JoDeLSP+1Ee9di7dI/T/BFklz30j98aQdFVAHTP6fiyPdLC9M/hhogXv4U0z8qVClETh7TP5naHHuKJ9M/epGZL34w0z9A9cvbczjTPwZZ/odpQNM/b870ef1F0z/1b/uKB0vTP7WQXMOFUNM/rePGAwZW0z+jNjFEhlvTP5qJm4QGYdM/JNMBicJl0z+ym1vmbGrTP96bd1yHbdM/CpyT0qFw0z9Re25IwHLTP5laSb7edNM/LXuOgEJ30z/qbVz8/XfTP6ZgKni5eNM/Y1P483R50z8gRsZvMHrTP904lOvretM/mitiZ6d70z9WHjDjYnzTP89ftqXCf9M/SaE8aCKD0z/B4sIqgobTP3BWUvXjidM/Hsrhv0WN0z/NPXGKp5DTP3yxAFUJlNM/KiWQH2uX0z/ZmB/qzJrTP4cMr7QuntM/NYA+f5Ch0z/k881J8qTTP1roAu3fp9M/z9w3kM2q0z9E0Wwzu63TP7rFodaosNM/NoYb8vaz0z8yOxUJnrfTPy7wDiBFu9M/KqUIN+y+0z8lWgJOk8LTP1dBBW08xtM/PeedP6DJ0z/e2+5YqM/TP3/QP3Kw1dM/IMWQi7jb0z/AueGkwOHTP2GuMr7I59M/A6OD19Dt0z+jl9Tw2PPTP4k9bcM899M/beMFlqD60z9SiZ5oBP7TPwH9LTNmAdQ/sHC9/ccE1D9g5EzIKQjUPw9Y3JKLC9Q/vstrXe0O1D9tP/snTxLUPx2zivKwFdQ/zCYavRIZ1D97mqmHdBzUPysOOVLWH9Q/2oHIHDgj1D8kYQdwnyjUPzLD0vRiLtQ/PiWeeSY01D/LkukCkTnUP1cANYz7PtQ/422AFWZE1D+FYtEubkrUP3/0j8K8UNQ/eYZOVgtX1D/yx6IjGFvUP66bsjwkYNQ/8i+Hyell1D/f5hzh9WzUP8ydsvgBdNQ/t1RIEA571D/aPecvHILUP/0mhk8qidQ/k38CQL6Q1D9T1FDo0ZnUP+/+dco/pNQ/iymbrK2u1D8lVMCOG7nUP8F+5XCJw9Q/XakKU/fN1D/50y81ZdjUP5P+VBfT4tQ/Lyl6+UDt1D/LU5/brvfUP2V+xL0cAtU/y3bgl4gM1T+UA03p7hTVP5sNLQn5HNU/nUvIsKIk1T+eiWNYTCzVP+CJKpvhNtU/IIrx3XZB1T9MA7OQbkvVP+qs/cAdVdU/h1ZI8cxe1T/pAUWhGWjVPwcbhgVncNU/n3MC9vp31T+Oqb1bSH7VP33feMGVhNU/axU0J+OK1T8kGeaELpHVP90cmOJ5l9U/IbFsbz+d1T88SW9EhaHVP3wLm99wpNU/vM3Gelyn1T/8j/IVSKrVPzxSHrEzrdU/exRKTB+w1T+71nXnCrPVP/uYoYL2tdU/O1vNHeK41T96Hfm4zbvVP7rfJFS5vtU/+qFQ76TB1T86ZHyKkMTVP3omqCV8x9U/uejTwGfK1T/5qv9bU83VP/mq/1tTzdU/+ar/W1PN1T/5qv9bU83VP/mq/1tTzdU/+ar/W1PN1T/5qv9bU83VP/mq/1tTzdU/+ar/W1PN1T/5qv9bU83VP/mq/1tTzdU/+ar/W1PN1T/5qv9bU83VP/mq/1tTzdU/+ar/W1PN1T/5qv9bU83VP/mq/1tTzdU/+ar/W1PN1T/5qv9bU83VP/mq/1tTzdU/+ar/W1PN1T/5qv9bU83VP/mq/1tTzdU/+ar/W1PN1T/5qv9bU83VP/mq/1tTzdU/+ar/W1PN1T/5qv9bU83VP/mq/1tTzdU/+ar/W1PN1T/5qv9bU83VP/mq/1tTzdU/+ar/W1PN1T/5qv9bU83VP/mq/1tTzdU/+ar/W1PN1T/5qv9bU83VP/mq/1tTzdU/+ar/W1PN1T/5qv9bU83VP/mq/1tTzdU/+ar/W1PN1T/5qv9bU83VP/mq/1tTzdU/+ar/W1PN1T/5qv9bU83VP/mq/1tTzdU/+ar/W1PN1T/5qv9bU83VP/mq/1tTzdU/+ar/W1PN1T/5qv9bU83VP/mq/1tTzdU/+ar/W1PN1T/5qv9bU83VP/mq/1tTzdU/+ar/W1PN1T/5qv9bU83VP/mq/1tTzdU/+ar/W1PN1T/5qv9bU83VP/mq/1tTzdU/+ar/W1PN1T/5qv9bU83VP/mq/1tTzdU/+ar/W1PN1T/5qv9bU83VP/mq/1tTzdU/+ar/W1PN1T/5qv9bU83VP/mq/1tTzdU/+ar/W1PN1T/5qv9bU83VP/mq/1tTzdU/+ar/W1PN1T/5qv9bU83VP/mq/1tTzdU/L90IZFXN1T9kDxJsV83VP5tBG3RZzdU/0HMkfFvN1T8Fpi2EXc3VPzvYNoxfzdU/cApAlGHN1T+nPEmcY83VP91uUqRlzdU/EqFbrGfN1T9H02S0ac3VP34FbrxrzdU/szd3xG3N1T8i6drz483VP5KaPiNaztU/AUyiUtDO1T96jSgVMNLVP/LOrteP1dU/axA1mu/Y1T/iUbtcT9zVP5HFSiex39U/QDna8RLj1T/vrGm8dObVP50g+YbW6dU/S5SIUTjt1T/7BxgcmvDVP6l7p+b789U/V+82sV331T8FY8Z7v/rVP7TWVUYh/tU/LRjcCIEB1j+mWWLL4ATWPx+b6I1ACNY/mdxuUKAL1j8RHvUSAA/WP4tfe9VfEtY/A6EBmL8V1j984odaHxnWP/QjDh1/HNY/bmWU394f1j/mphqiPiPWP1/ooGSeJtY/2SknJ/4p1j8X7FLC6SzWP1aufl3VL9Y/lXCq+MAy1j/NorMAwzLWPwLVvAjFMtY/OQfGEMcy1j9vOc8YyTLWP285zxjJMtY/bznPGMky1j9vOc8YyTLWP285zxjJMtY/bznPGMky1j9vOc8YyTLWP285zxjJMtY/bznPGMky1j9vOc8YyTLWP285zxjJMtY/bznPGMky1j9vOc8YyTLWP285zxjJMtY/bznPGMky1j9vOc8YyTLWP285zxjJMtY/bznPGMky1j9vOc8YyTLWP285zxjJMtY/bznPGMky1j9vOc8YyTLWP285zxjJMtY/bznPGMky1j9vOc8YyTLWP285zxjJMtY/bznPGMky1j9vOc8YyTLWP285zxjJMtY/bznPGMky1j9vOc8YyTLWP285zxjJMtY/bznPGMky1j9vOc8YyTLWP285zxjJMtY/bznPGMky1j9vOc8YyTLWP285zxjJMtY/bznPGMky1j9vOc8YyTLWP285zxjJMtY/bznPGMky1j9vOc8YyTLWP285zxjJMtY/bznPGMky1j9vOc8YyTLWP285zxjJMtY/bznPGMky1j9vOc8YyTLWP285zxjJMtY/bznPGMky1j9vOc8YyTLWP285zxjJMtY/bznPGMky1j9vOc8YyTLWP285zxjJMtY/bznPGMky1j9vOc8YyTLWP285zxjJMtY/bznPGMky1j9vOc8YyTLWP285zxjJMtY/bznPGMky1j9vOc8YyTLWP285zxjJMtY/bznPGMky1j9vOc8YyTLWP285zxjJMtY/bznPGMky1j9vOc8YyTLWP285zxjJMtY/bznPGMky1j9vOc8YyTLWP6Vr2CDLMtY/3J3hKM0y1j8S0OowzzLWP0cC9DjRMtY/fzT9QNMy1j+0ZgZJ1TLWP+yYD1HXMtY/IcsYWdky1j9X/SFh2zLWP44vK2ndMtY/xGE0cd8y1j/6kz154TLWPzHGRoHjMtY/Z/hPieUy1j+eKlmR5zLWPw7cvMBdM9Y/H+ScAro01j+0BOLEHTfWP0klJ4eBOdY/3kVsSeU71j9yZrELST7WPwaH9s2sQNY/tfqFmA5E1j9lbhVjcEfWPxTipC3SStY/w1U0+DNO1j9yycPClVHWPyI9U433VNY/0bDiV1lY1j+AJHIiu1vWP/pl+OQaX9Y/cqd+p3pi1j/r6ARq2mXWP2Qqiyw6adY/3WsR75ls1j9WrZex+W/WP87uHXRZc9Y/RzCkNrl21j/BcSr5GHrWP2/lucN6fdY/RhV8QDyD1j9Vd0fF/4jWPw17+SJLj9Y/AX35APmV1j+2AYYQA53WPzMHuPiYo9Y/DrZtzkip1j9lTL4j8a3WP/IUGIGbstY/hi5AHmG51j+NOCA+a8HWP5RCAF51ydY/gfmVdYHQ1j9tsCuNjdfWP1lnwaSZ3tY/HkzOAk7n1j9/95i9R/HWP+GiY3hB+9Y/fc2IWq8F1z8Z+K08HRDXP7Qi0x6LGtc/hX8BCfsk1z+MsyonLTDXP/8Lx09DPNc/HAZKUeFI1z86AM1Sf1XXPxXtHdDYYtc/79luTTJw1z/Kxr/Ki33XP2+BB0Djitc/638cA9uV1z8wTCi+0KDXP8x2TaA+q9c/K6MkAkq11z/JTG8y+b7XP2b2uWKoyNc/A6AEk1fS1z+hSU/DBtzXPwrBkOuz5dc/aucD1EXt1z9ZHb85k/PXP0dTep/g+dc/NIk1BS4A2D8jv/BqewbYPxL1q9DIDNg/Kf3v720R2D+hPnayzRTYPxqA/HQtGNg/V0IoEBkb2D+XBFSrBB7YP9XGf0bwINg/FYmr4dsj2D8hdNxIBSbYP9TlhLqWKNg/2rctrHAr2D/eidadSi7YP9AKmOzwMNg/w4tZO5cz2D9x/+gF+TbYPyBzeNBaOtg/0OYHm7w92D9/WpdlHkHYP2QAMDiCRNg/S6bICuZH2D/RR88b8EzYP1fp1Sz6Udg/34rcPQRX2D9mLONODlzYP+3N6V8YYdg/q6H5eCRm2D9ndQmSMGvYPyRJGas8cNg/plphBqZ12D+mPe7ZD37YP9xShLV7htg/E2gakeeO2D9JfbBsU5fYP4CSRki/n9g/tafcIyuo2D+U3zOK3bHYP3poWTCrvdg/J791znbJ2D8MSJt0RNXYP9sl1gXG39g/rgEqPnfp2D+B3X12KPPYP6oX69VR/Ng/0lFYNXsF2T9EZTyRSQ7ZPyOdk/f7F9k/AdXqXa4h2T8WP0vMYivZP/R2ojIVNdk/0675mMc+2T8CtatwUUjZP6Be9qAAUtk/eQaPURJc2T9ktgdEgGfZP9FaADJHc9k/5car1hSB2T+k1D1Uao/ZP2Piz9G/ndk/XrIpDbir2T/asD7Qr7bZPyB9Soulwdk/nHtfTp3M2T8ZenQRldfZP5R4idSM4tk/EXeel4Tt2T/kUvLPNffZP/q8Uj7qANo/XGgd+eMK2j+J4d6r2xTaP7RaoF7THto/4NNhEcso2j8NTSPEwjLaPznG5Ha6PNo/ZD+mKbJG2j+M7CJkSVDaP0R1LJT8WNo//v01xK9h2j+BVDbsYGraPz0qkTuGc9o/LzL1kq182j+k320L3YTaP6zpTSvnjNo/d/Xfyo6U2j8v+ZEo2praP2cIxIrMoNo/wR06Lrak2j9wkcn4F6jaP1U3Yst7q9o/TIrMC/yw2j9D3TZMfLbaP4ZxC9lBvNo/lNPWXQXC2j+iNaLiyMfaP6+XbWeMzdo/vfk47E/T2j/LWwRxE9naP5De9H+43No/CiB7Qhjg2j+BYQEFeOPaP/uih8fX5to/dOQNijfq2j/sJZRMl+3aP2VnGg/38No/36ig0Vb02j9W6iaUtvfaP9ArrVYW+9o/Sm0zGXb+2j/Brrnb1QHbPwJx5XbBBNs/DAEICqsH2z+gIU3MDgrbPzRCko5yDNs/ymLXUNYO2z9egxwTOhHbP/KjYdWdE9s/h8SmlwEW2z8c5etZZRjbP3vTJxTHGts/yRSSYAwb2z8VVvysURvbPxVW/KxRG9s/FVb8rFEb2z8VVvysURvbPxVW/KxRG9s/FVb8rFEb2z8VVvysURvbPxVW/KxRG9s/FVb8rFEb2z8VVvysURvbPxVW/KxRG9s/FVb8rFEb2z8VVvysURvbPxVW/KxRG9s/FVb8rFEb2z8VVvysURvbPxVW/KxRG9s/FVb8rFEb2z8VVvysURvbPxVW/KxRG9s/FVb8rFEb2z8VVvysURvbPxVW/KxRG9s/FVb8rFEb2z8VVvysURvbPxVW/KxRG9s/FVb8rFEb2z8VVvysURvbPxVW/KxRG9s/FVb8rFEb2z8VVvysURvbPxVW/KxRG9s/FVb8rFEb2z8VVvysURvbPxVW/KxRG9s/FVb8rFEb2z8VVvysURvbPxVW/KxRG9s/FVb8rFEb2z8VVvysURvbPxVW/KxRG9s/FVb8rFEb2z8VVvysURvbPxVW/KxRG9s/FVb8rFEb2z8VVvysURvbPxVW/KxRG9s/FVb8rFEb2z8VVvysURvbPxVW/KxRG9s/FVb8rFEb2z8VVvysURvbPxVW/KxRG9s/FVb8rFEb2z8VVvysURvbPxVW/KxRG9s/FVb8rFEb2z8VVvysURvbPxVW/KxRG9s/FVb8rFEb2z8VVvysURvbPxVW/KxRG9s/FVb8rFEb2z8VVvysURvbPxVW/KxRG9s/FVb8rFEb2z8VVvysURvbPxVW/KxRG9s/FVb8rFEb2z8VVvysURvbPxVW/KxRG9s/FVb8rFEb2z8VVvysURvbPxVW/KxRG9s/FVb8rFEb2z8VVvysURvbPxVW/KxRG9s/FVb8rFEb2z8VVvysURvbPxVW/KxRG9s/TIgFtVMb2z+Bug69VRvbP7nsF8VXG9s/7h4hzVkb2z8kUSrVWxvbP1uDM91dG9s/kbU85V8b2z/H50XtYRvbP/4ZT/VjG9s/NExY/WUb2z9qfmEFaBvbP6Z8r4XKG9s/4Xr9BS0c2z+9UNQ/hx3bP8YgltiQH9s/7tNgLzki2z9mFefxmCXbPxaJdrz6KNs/xPwFh1ws2z9ycJVRvi/bPyHkJBwgM9s/0Fe05oE22z9+y0Ox4znbPy0/03tFPds/3LJiRqdA2z+LJvIQCUTbPzmagdtqR9s/5w0RpsxK2z+WgaBwLk7bP0T1LzuQUds/vTa2/e9U2z81eDzAT1jbP625woKvW9s/JvtIRQ9f2z/UbtgPcWLbP4PiZ9rSZds/MVb3pDRp2z/gyYZvlmzbP489Fjr4b9s/PbGlBFpz2z/sJDXPu3bbP5XMfyG9eds/P3TKc7582z9HRIwMyH7bPyMaY0YigNs/4Qwxwt2A2z9NcUPS4YDbP4KjTNrjgNs/udVV4uWA2z/wB1/q54DbPyY6aPLpgNs/XGxx+uuA2z+SnnoC7oDbP8rQgwrwgNs/OwHbklSB2z8TL1LZ/ILbPwWwEyijhds/LmPefkuI2z+kVxMiOYvbP4r9q/Scjts/b6NExwCS2z9USd2ZZJXbPzvvdWzImNs/H5UOPyyc2z/PCJ4Jjp/bP+ugoN7To9s/DQXoK3qo2z9ddOU0gq3bP67j4j2Ksts/RTxfLh662z/dlNsessHbP3PtVw9Gyds/dNDk4q/R2z+7nPCdpdzbPzZA94xd6Ns/jbnUtW/12z/kMrLegQLcPzysjweUD9w/F5nghO0c3D/yhTECRyrcP85ygn+gN9w/qV/T/PlE3D+ETCR6U1LcP+OVwztvYdw/PxMehSpw3D80U7kKgn7cPxBACojbi9w/tPpR/TKZ3D8MdC8mRabcP/Q7qR/hstw/ETYsIX+/3D8wMK8iHczcP00qMiS72Nw/bCS1JVnl3D+JHjgn9/HcPzr0Rx6x/dw/H31txH4J3T8iPEf7LxXdPyX7IDLhIN0/4tB7gQYq3T+fptbQKzPdP1x8MSBRPN0/r8d7jKBE3T+9KUcRZErdP5W0F2JlT90/kmkReQxT3T+PHguQs1bdP43TBKdaWt0/BRWLabpd3T9+VhEsGmHdP/aXl+55ZN0/cNkdsdln3T/pGqRzOWvdPxIy5fnYbN0/BRcdeHZu3T/3O/T7M2/dP+tgy3/xb90/3YWiA69w3T/PqnmHbHHdPy/0wxUOc90/qTVK2G123T8hd9CazXndP5u4Vl0tfd0/SSzmJ4+A3T/5n3Xy8IPdP6kTBb1Sh90/HQg6YECK3T9FuwS36IzdP21uzw2Rj90/lSGaZDmS3T++1GS74ZTdP+WHLxKKl90/Djv6aDKa3T827sS/2pzdP16hjxaDn90/hlRabSui3T+vByXE06TdP9W67xp8p90//m26cSSq3T8mIYXIzKzdP07UTx91r90/docadh2y3T+fOuXMxbTdP5G7phtst90/Cv0s3su63T+6cLyoLb7dP0ldLYDZwt0/sx91kd/I3T9VFMaq587dP4rko7kL1N0/b4o8jG/X3T9UMNVe09rdP5fEqeuY4N0/pSZ1cFzm3T/pukn9IezdPy1PHorn8d0/dq83jw343T8sNMSeF//dPxnrWbYjBt4/BKLvzS8N3j/D9j12QxbePynvWVCvIN4/wxl/Mh0r3j9fRKQUizXeP/tuyfb4P94/lZnu2GZK3j/NL8ND2lbePwXGl65NY94/PFxsGcFv3j9z8kCENHzeP07fkQGOid4/KczifueW3j8CuTP8QKTeP96lhHmasd4/MtIQgzq+3j9PzJOE2MreP45NNXks1t4/7/j/Mybg3j8bcsHmHereP0XrgpkV9N4/cWRETA3+3j+d3QX/BAjfP2poi/eaD98/N/MQ8DAX3z/NS43gxB7fP2SkCdFYJt8/9TBBSYwt3z8bmQW32zPfPwnPwBwpOt8/9wR8gnZA3z8TnX5XvETfP4mRs/qpR98/yVPflZVK3z8GFgsxgU3fP0bYNsxsUN8/hZpiZ1hT3z8p8d55PlTfP8xHW4wkVd8/b57XngpW3z8S9VOx8FbfPxL1U7HwVt8/EvVTsfBW3z8S9VOx8FbfPxL1U7HwVt8/EvVTsfBW3z8S9VOx8FbfPxL1U7HwVt8/EvVTsfBW3z8S9VOx8FbfPxL1U7HwVt8/EvVTsfBW3z8S9VOx8FbfPxL1U7HwVt8/EvVTsfBW3z8S9VOx8FbfPxL1U7HwVt8/EvVTsfBW3z8S9VOx8FbfPxL1U7HwVt8/EvVTsfBW3z8S9VOx8FbfPxL1U7HwVt8/EvVTsfBW3z8S9VOx8FbfPxL1U7HwVt8/EvVTsfBW3z8S9VOx8FbfPxL1U7HwVt8/EvVTsfBW3z8S9VOx8FbfPxL1U7HwVt8/EvVTsfBW3z8S9VOx8FbfPxL1U7HwVt8/EvVTsfBW3z8S9VOx8FbfPxL1U7HwVt8/EvVTsfBW3z8S9VOx8FbfPxL1U7HwVt8/EvVTsfBW3z8S9VOx8FbfPxL1U7HwVt8/EvVTsfBW3z8S9VOx8FbfPxL1U7HwVt8/EvVTsfBW3z+CprfgZlffP/JXGxDdV98/Ygl/P1NY3z/SuuJuyVjfP0v8aDEpXN8/wz3v84hf3z89f3W26GLfP7XA+3hIZt8/LwKCO6hp3z+nQwj+B23fPyGFjsBncN8/msYUg8dz3z8SCJtFJ3ffP4xJIQiHet8/A4unyuZ93z99zC2NRoHfP/UNtE+mhN8/b086EgaI3z/nkMDUZYvfP2HSRpfFjt8/2hPNWSWS3z9SVVMchZXfP8yW2d7kmN8/RNhfoUSc3z++GeZjpJ/fPzVbbCYEo98/5c778GWm3z+UQou7x6nfP0O2GoYprd8/8ymqUIuw3z8x7NXrdrPfP3GuAYditt8/sHAtIk653z/wMlm9ObzfPyZlYsU7vN8/XZdrzT283z+SyXTVP7zfP8n7fd1BvN8//y2H5UO83z81YJDtRbzfP2ySmfVHvN8/ocSi/Um83z/X9qsFTLzfPw4ptQ1OvN8/RVu+FVC83z98jccdUrzfP7G/0CVUvN8/5/HZLVa83z8eJOM1WLzfP1RW7D1avN8/i4j1RVy83z/Buv5NXrzfP/bsB1ZgvN8/LR8RXmK83z9jURpmZLzfP5qDI25mvN8/moMjbma83z+agyNuZrzfP5qDI25mvN8/moMjbma83z+agyNuZrzfP5qDI25mvN8/moMjbma83z+agyNuZrzfP5qDI25mvN8/moMjbma83z+agyNuZrzfP5qDI25mvN8/moMjbma83z+agyNuZrzfP5qDI25mvN8/moMjbma83z+agyNuZrzfP5qDI25mvN8/moMjbma83z+agyNuZrzfP5qDI25mvN8/moMjbma83z+agyNuZrzfP5qDI25mvN8/moMjbma83z+agyNuZrzfP5qDI25mvN8/moMjbma83z+agyNuZrzfP5qDI25mvN8/moMjbma83z+agyNuZrzfP5qDI25mvN8/moMjbma83z+agyNuZrzfP5qDI25mvN8/moMjbma83z+agyNuZrzfP5qDI25mvN8/moMjbma83z+agyNuZrzfP5qDI25mvN8/moMjbma83z+agyNuZrzfP5qDI25mvN8/moMjbma83z+agyNuZrzfP5qDI25mvN8/moMjbma83z+agyNuZrzfP5qDI25mvN8/moMjbma83z/RtSx2aLzfPwboNX5qvN8/PRo/hmy83z/ROoRI0L7fP2ZbyQo0wd8/35xPzZPE3z9Z3tWP88ffP9EfXFJTy98/gJPrHLXO3z8vB3vnFtLfP956CrJ41d8/ju6ZfNrY3z89YilHPNzfP+zVuBGe398/m0lI3P/i3z9KvdemYebfP/owZ3HD6d8/qqT2OyXt3z9ZGIYGh/DfPweMFdHo898/tv+km0r33z9lczRmrPrfPxXnwzAO/t8/Yq2p/bcA4D86Z/HiaALgPxEhOcgZBOA/6dqArcoF4D/BlMiSewfgP5hOEHgsCeA/bwhYXd0K4D8sKZs+jQzgP+lJ3h89DuA/pWohAe0P4D8zlEYFbBDgP7+9awnrEOA/21ZwDewQ4D/273QR7RDgPxGJeRXuEOA/EYl5Fe4Q4D8RiXkV7hDgPxGJeRXuEOA/EYl5Fe4Q4D8RiXkV7hDgPxGJeRXuEOA/EYl5Fe4Q4D8RiXkV7hDgPxGJeRXuEOA/EYl5Fe4Q4D8RiXkV7hDgPxGJeRXuEOA/EYl5Fe4Q4D8RiXkV7hDgPxGJeRXuEOA/EYl5Fe4Q4D8RiXkV7hDgPxGJeRXuEOA/EYl5Fe4Q4D8RiXkV7hDgPxGJeRXuEOA/EYl5Fe4Q4D8sIn4Z7xDgP0e7gh3wEOA/4iaAN1ER4D9R4/A99hHgP9q52XQEE+A/CbH3UTUU4D84qBUvZhXgP2efMwyXFuA/lpZR6ccX4D/FjW/G+BjgPxAekqcqGuA/Wq60iFwb4D+lPtdpjhzgPw3OIIvxHeA/LK+2WGcf4D9qj3NmDiHgP0FJu0u/IuA/GQMDMXAk4D/vvEoWISbgP47ezTz2J+A/LQBRY8sp4D/LIdSJoCvgP49yV5IlLuA/UsPamqow4D8xrWKnMDPgP1P3zG0TNuA/rTmTdZg54D8kFV6BHj3gP5rwKI2kQOA/EMzzmCpE4D/2Yy+rVUjgP3XV9ZSKTOA/dXTDaF9Q4D+hwh1Q8FPgP7P2/wYYV+A/0pT0Gh5b4D/wMukuJF/gPw/R3UIqY+A/TVBoJKZo4D+Lz/IFIm7gP661eOOcc+A/0Zv+wBd54D/0gYSekn7gP/lo4zvcg+A/R/71LBOJ4D92lOHdGI7gPw1RQrcUk+A/ow2jkBCY4D85ygNqDJ3gPwcfKQLkoeA/1nNOmrum4D+lyHMyk6vgP0/umOi6r+A/+RO+nuKz4D+HoN5QCbjgP9PMHEnTu+A/5QD///q+4D/cm9yyIcLgP9M2umVIxeA/y9GXGG/I4D83FwDB78rgPwqD3ZFmzeA/3O66Yt3P4D+uWpgzVNLgP5xfegjM1OA/19kU2kLW4D8SVK+rudfgP+5ViFrf2uA/q3bLO4/c4D9nlw4dP97gPyO4Uf7u3+A/39iU357h4D+3ktzET+PgP49MJKoA5eA/ZgZsj7Hm4D8+wLN0YujgPxZ6+1kT6uA/7TNDP8Tr4D/F7Yokde3gP5yn0gkm7+A/dGEa79bw4D9MG2LUh/LgPyPVqbk49OA/+47xnun14D/TSDmEmvfgP6oCgWlL+eA/grzITvz64D9ZdhA0rfzgPzEwWBle/uA/Ceqf/g4A4T/go+fjvwHhP7ddL8lwA+E/jxd3riEF4T8BPbytMwfhP0mzdJmJCeE/8WrznQ0M4T+ZInKikQ7hP50K026WD+E/QXrAqaUQ4T8Ag7LotRHhP2Ws2c3oEuE/y9UAsxsU4T+ij0iYzBXhP3pJkH19F+E/UQPYYi4Z4T/6ulZnshvhP6Jy1Ws2HuE/SypUcLog4T8Oe9d4PyPhP9LLWoHEJeE/lRzeiUko4T9ZbWGSzirhPxy+5JpTLeE/4A5oo9gv4T+jX+urXTLhP4JJc7jjNOE/RwAZ/Zg34T/Hcd/mzTvhP2J8qtQDQOE//YZ1wjlE4T+XkUCwb0jhPzOcC56lTOE/zabWi9tQ4T/ORaRfsFThP976+UJAWOE/jW6JDaJb4T884hjYA1/hP+6dh/01YuE/ANJptF1l4T/3bEdnhGjhP0fn73OIa+E/mWGYgIxu4T9bshuJEXHhPx8Dn5GWc+E//ewmnhx24T8L2XeLz3fhPxfFyHiCeeE/Jxc8omV74T8e0KrHR33hP24c3m5Xf+E/MW1hd9yB4T/g4PBBPoXhP49UgAygiOE/PsgP1wGM4T9Bzf/mBpDhP0TS7/YLlOE/ZFJTmFaZ4T/MF5aUIZ3hP88chqQmoeE/0iF2tCul4T8xTJ2ItanhP4JgPE2EruE/0PVOPruz4T/y29QbNrnhPxXCWvmwvuE/Oqjg1ivE4T9wjE+QZsrhP6Zwvkmh0OE/s6Wg7x/X4T/A2oKVnt3hPy5RK1RL5OE/m8fTEvjq4T8JPnzRpPHhP3a0JJBR+OE/yZHISv3+4T8bb2wFqQXiP25MEMBUDOI/vsORPtAS4j8NOxO9SxniPwEf0LmZH+I/g/48VXIl4j8Zu50ubiriP693/gdqL+I/RTRf4WU04j+GX191vjjiP67xWgUWPeI/zzvFy/g/4j/xhS+S20LiP1z350CDReI/xWig7ypI4j/UtCHaTUriP/EWK9QrTOI/EfjAoaFN4j9ciOOC007iP6YYBmQFUOI/8KgoRTdR4j8nO2JKqVHiP17Nm08bUuI/vw5iaElS4j8gUCiBd1LiPyBQKIF3UuI/IFAogXdS4j8gUCiBd1LiPyBQKIF3UuI/IFAogXdS4j8gUCiBd1LiPyBQKIF3UuI/IFAogXdS4j8gUCiBd1LiPyBQKIF3UuI/IFAogXdS4j8gUCiBd1LiPyBQKIF3UuI/IFAogXdS4j8gUCiBd1LiPyBQKIF3UuI/IFAogXdS4j8gUCiBd1LiPyBQKIF3UuI/IFAogXdS4j8gUCiBd1LiPyBQKIF3UuI/IFAogXdS4j8gUCiBd1LiPyBQKIF3UuI/IFAogXdS4j8gUCiBd1LiPyBQKIF3UuI/IFAogXdS4j8gUCiBd1LiPyBQKIF3UuI/IFAogXdS4j8gUCiBd1LiPyBQKIF3UuI/IFAogXdS4j8gUCiBd1LiPyBQKIF3UuI/IFAogXdS4j8gUCiBd1LiPyBQKIF3UuI/IFAogXdS4j8gUCiBd1LiPyBQKIF3UuI/IFAogXdS4j8gUCiBd1LiPyBQKIF3UuI/IFAogXdS4j8gUCiBd1LiPyBQKIF3UuI/IFAogXdS4j8gUCiBd1LiPyBQKIF3UuI/IFAogXdS4j8gUCiBd1LiPyBQKIF3UuI/IFAogXdS4j8gUCiBd1LiPyBQKIF3UuI/IFAogXdS4j8gUCiBd1LiPyBQKIF3UuI/IFAogXdS4j8gUCiBd1LiPyBQKIF3UuI/IFAogXdS4j8gUCiBd1LiPyBQKIF3UuI/IFAogXdS4j8gUCiBd1LiPyBQKIF3UuI/IFAogXdS4j8gUCiBd1LiPyBQKIF3UuI/IFAogXdS4j8gUCiBd1LiPyBQKIF3UuI/IFAogXdS4j876SyFeFLiP1aCMYl5UuI/cRs2jXpS4j+NtDqRe1LiP6dNP5V8UuI/wuZDmX1S4j97v/WwuFLiPwfpGrU3U+I/wwleludU4j+AKqF3l1biPzxL5FhHWOI/92snOvdZ4j+0jGobp1viP4xGsgBYXeI/YgD65Qhf4j86ukHLuWDiPxF0ibBqYuI/6S3RlRtk4j/A5xh7zGXiP5ehYGB9Z+I/b1uoRS5p4j9FFfAq32riPx3PNxCQbOI/9Ih/9UBu4j/MQsfa8W/iP6P8DsCiceI/e7ZWpVNz4j9RcJ6KBHXiPykq5m+1duI/AOQtVWZ44j+9BHE2FnriP3kltBfGe+I/NUb3+HV94j/wZjraJX/iP62HfbvVgOI/aqjAnIWC4j+JiVZq+4PiP9MZeUstheI/77J9Ty6F4j8KTIJTL4XiPyTlhlcwheI/QH6LWzGF4j9bF5BfMoXiP1sXkF8yheI/WxeQXzKF4j9bF5BfMoXiP1sXkF8yheI/WxeQXzKF4j9bF5BfMoXiP1sXkF8yheI/WxeQXzKF4j9bF5BfMoXiP1sXkF8yheI/WxeQXzKF4j9bF5BfMoXiP1sXkF8yheI/WxeQXzKF4j9bF5BfMoXiP1sXkF8yheI/WxeQXzKF4j9bF5BfMoXiP1sXkF8yheI/WxeQXzKF4j9bF5BfMoXiP1sXkF8yheI/WxeQXzKF4j9bF5BfMoXiP1sXkF8yheI/WxeQXzKF4j9bF5BfMoXiP1sXkF8yheI/WxeQXzKF4j9bF5BfMoXiP1sXkF8yheI/WxeQXzKF4j9bF5BfMoXiP1sXkF8yheI/WxeQXzKF4j9bF5BfMoXiP1sXkF8yheI/WxeQXzKF4j9bF5BfMoXiP1sXkF8yheI/WxeQXzKF4j9bF5BfMoXiP1sXkF8yheI/WxeQXzKF4j9bF5BfMoXiP1sXkF8yheI/WxeQXzKF4j9bF5BfMoXiP1sXkF8yheI/WxeQXzKF4j9bF5BfMoXiP1sXkF8yheI/WxeQXzKF4j9bF5BfMoXiP1sXkF8yheI/WxeQXzKF4j9bF5BfMoXiP1sXkF8yheI/WxeQXzKF4j9bF5BfMoXiP1sXkF8yheI/WxeQXzKF4j9bF5BfMoXiP1sXkF8yheI/WxeQXzKF4j9bF5BfMoXiP1sXkF8yheI/WxeQXzKF4j9bF5BfMoXiP1sXkF8yheI/WxeQXzKF4j9bF5BfMoXiP1sXkF8yheI/WxeQXzKF4j9bF5BfMoXiP1sXkF8yheI/WxeQXzKF4j9bF5BfMoXiP3awlGMzheI/kUmZZzSF4j+t4p1rNYXiP8d7om82heI/4hSnczeF4j/+rat3OIXiPxpHsHs5heI/NOC0fzqF4j9PebmDO4XiP2sSvoc8heI/havCiz2F4j+gRMePPoXiP7zdy5M/heI/13bQl0CF4j8sCDHd44XiP4rPXAPGhuI/ch65y8mH4j8GeB73HYniP1/x3wjGiuI/N6sn7naM4j8PZW/TJ47iP+Yet7jYj+I/vtj+nYmR4j+VkkaDOpPiP21MjmjrlOI/RQbWTZyW4j8dwB0zTZjiP/R5ZRj+meI/zDOt/a6b4j+j7fTiX53iP3ynPMgQn+I/U2GErcGg4j8qG8yScqLiPwLVE3gjpOI/2o5bXdSl4j+xSKNChafiP4kC6yc2qeI/YLwyDeeq4j/9w0s+4K3iP9fFJO0FseI/tMf9myu04j+sYttOUrfiPwaloVbXuuI/hhZoQAy/4j/Oj9LonsLiPz4dzFqUxuI/o2OCg8fK4j8y8KI17s7iPxf2awXC0uI/sgA38/fW4j+9NWcq0tviP26LzAfP4OI/H+Ex5cvl4j/QNpfCyOriPx7MqbP/7+I/3B0tq9v14j+zCLWmuPviP8OFdqcHAuM/z7pYTYYI4z+VEMxlEA/jP0HNOnqZFeM/k6reNEUc4z/mh4Lv8CLjPzllJqqcKeM/i0LKZEgw4z/dH24f9DbjPzD9EdqfPeM/gtq1lEtE4z8QaogDr0njP1//mvTlTuM/rJSt5RxU4z/fkLvSUlnjP67l4GoqXuM/VwsGIVJi4z8BMSvXeWbjP3kM9uL/aeM/b6fTlSZt4z+R8T1cCXDjP5miox7rcuM/bA6B72F14z/OT/l2NHfjP4twPFjkeOM/R5F/OZR64z8DssIaRHzjPyOTWOi5feM/07d9r4p+4z9pQ55yWn/jP8Y8hTC4f+M/KX5LSeZ/4z/PnoDvCIDjP3a/tZUrgOM/dr+1lSuA4z92v7WVK4DjP3a/tZUrgOM/dr+1lSuA4z92v7WVK4DjP3a/tZUrgOM/dr+1lSuA4z92v7WVK4DjP5BYupksgOM/rPG+nS2A4z/GisOhLoDjP+EjyKUvgOM/hxJCtNaA4z8A06LbKYLjP3mTAwN9g+M/8lNkKtCE4z9rFMVRI4bjP+PUJXl2h+M/dy6LpMqI4z8MiPDPHorjP6DhVftyi+M/d5ud4CON4z9PVeXF1I7jPyYPLauFkOM//ch0kDaS4z/Vgrx155PjP6w8BFuYleM/no9QREqX4z+R4pwt/JjjP4M16RaumuM/dYg1AGCc4z96ngsyWZ7jP8oYtD5doeM/G5NcS2Gk4z9rDQVYZafjP7yHrWRpquM/DAJWcW2t4z93FQOCcrDjP8mPq452s+M/GgpUm3q24z+rfrwlq7njP1ryS/AMveM/7szWtm3A4z8QF0F9UMPjPzJhq0MzxuM/U6sVChbJ4z919X/Q+MvjP5c/6pbbzuM/8oGwnmDS4z9SrNdy6tbjPy8XhRp92+M/yiFQCLPf4z9lLBv26OPjPxvQ6ucf6OM/0XO62Vbs4z/AD+YMMPHjP8tEFkQK9uM/u+BBd+P64z+qfG2qvP/jP2bO8KGYBeQ/JCB0mXQL5D/Qrm1ICRHkPzDZlByTFeQ/jgO88Bwa5D/uLePEph7kP01YCpkwI+Q/rYIxbbon5D8MrVhBRCzkPz+pZi56MeQ/jD55H7E25D+Z2cuSuzvkP4d198WUQOQ/BlWy8shE5D8qOzjQQ0rkP00hvq2+T+Q/cAdEizlV5D+T7clotFrkP7bTT0YvYOQ/hCh13gZl5D9PlTmq2WjkP5vBd6KjbOQ/5u21mm1w5D9Ns/iWOHTkP5nfNo8CeOQ/5At1h8x75D/2P1c+9H7kP+/aNPEaguQ/5XUSpEGF5D/dEPBWaIjkPwX2dUWMiuQ/L9v7M7CM5D9ZwIEi1I7kP4GlBxH4kOQ/q4qN/xuT5D/TbxPuP5XkP/1Umdxjl+Q/Jjofy4eZ5D80hqC1qpvkP28AO4chneQ/j+HQVJee5D+vwmYiDaDkP8+j/O+CoeQ/74SSvfii5D8KHpfB+aLkPyS3m8X6ouQ/QFCgyfui5D9b6aTN/KLkP3aCqdH9ouQ/khuu1f6i5D+ttLLZ/6LkP8lNt90Ao+Q/4+a74QGj5D/j5rvhAaPkP+Pmu+EBo+Q/3EugucCj5D/FmvyBxKTkP8mCXU7JpeQ/haOgL3mn5D9CxOMQKankP/7kJvLYquQ/uwVq04is5D93Jq20OK7kPzRH8JXor+Q/8Gczd5ix5D+tiHZYSLPkP2qpuTn4tOQ/QWMBH6m25D8XHUkEWrjkP+/WkOkKuuQ/x5DYzru75D+fSiC0bL3kP3YEaJkdv+Q/Tr6vfs7A5D8lePdjf8LkP/4xP0kwxOQ/1euGLuHF5D+tpc4TksfkP4NfFvlCyeQ/Wxle3vPK5D8y06XDpMzkPwuN7ahVzuQ/4kY1jgbQ5D+6AH1zt9HkP5G6xFho0+Q/cA8oZlrU5D9fehODB9XkPzJM+puz1eQ/TeX+n7TV5D9nfgOktdXkP4MXCKi21eQ/n7AMrLfV5D+6SRGwuNXkP9TiFbS51eQ/8HsauLrV5D8LFR+8u9XkPyauI8C81eQ/Jq4jwLzV5D8mriPAvNXkPyauI8C81eQ/Jq4jwLzV5D8mriPAvNXkPyauI8C81eQ/Jq4jwLzV5D8mriPAvNXkPyauI8C81eQ/Jq4jwLzV5D8mriPAvNXkPyauI8C81eQ/Jq4jwLzV5D8mriPAvNXkPyauI8C81eQ/Jq4jwLzV5D8mriPAvNXkPyauI8C81eQ/Jq4jwLzV5D8mriPAvNXkPyauI8C81eQ/Jq4jwLzV5D8mriPAvNXkPyauI8C81eQ/82N7hL/W5D8jW5lh8NfkP1JStz4h2eQ/gknVG1La5D+xQPP4gtvkP+A3Edaz3OQ/Dy8vs+Td5D8+Jk2QFd/kP24da21G4OQ/nRSJSnfh5D/NC6cnqOLkP/sCxQTZ4+Q/K/ri4Qnl5D9a8QC/OubkP4noHpxr5+Q/ud88eZzo5D/m1lpWzenkPxbOeDP+6uQ/YV6bFDDs5D+r7r31Ye3kPxEY5dqU7uQ/T/ih6Dvw5D8KGeXJ6/HkP8Y5KKub8+Q/g1prjEv15D9bFLNx/PbkPzLO+lat+OQ/CYhCPF765D/gQYohD/zkP7f70QbA/eQ/wf/BJ27+5D99IAUJHgDlP1TaTO7OAeU/LJSU038D5T8f5+C8MQXlP2bLjeuGB+U/hGmC/4wL5T8uXewdORDlP3Eq4RPvFOU/QH8GrMYZ5T8s01KEzx7lPxknn1zYI+U/VqYpPlQp5T+VJbQf0C7lP9OkPgFMNOU/ESTJ4sc55T9Po1PEQz/lP40i3qW/ROU/sAhkgzpK5T/T7ulgtU/lP9s7azovVeU/C9JW6zRa5T+8J7zIMV/lP219IaYuZOU/HtOGgytp5T+zj+dcJ27lP040qQIodOU/oBFNvdN65T/z7vB3f4HlP0XMlDIriOU/l6k47daO5T/WKMPOUpTlP/oOSazNmeU/N47TjUmf5T9bdFlrxKTlPynJfgOcqeU/IGRctsKs5T+NqcReQ6/lP18Voi+6seU/pvlOXg+05T/P3tRMM7blP/nDWjtXuOU/0H2iIAi65T+pN+oFubvlPzfK4wKlveU/mtmg8vu/5T+8Iwu53sLlP95tdX/BxeU/jOEESiPJ5T88VZQUhczlP+rII9/mz+U/mTyzqUjT5T9JsEJ0qtblP+O6DWLg2uU/fsXYTxbf5T8a0KM9TOPlP/NS8Bja5uU/FZ1a37zp5T8258Sln+zlP1kxL2yC7+U/bGURI6ry5T9QC6r1DfblPxlEjsqX+eU/s05ZuM395T9OWSSmAwLmP+pj75M5BuY/g266gW8K5j8eeYVvpQ7mP7mDUF3bEuY/U44bSxEX5j/vmOY4RxvmP4qjsSZ9H+Y/JK58FLMj5j+/uEcC6SfmP9uCjBwWLOY/SjHJvQMw5j9yZbmvuDTmP5qZqaFtOeY/NaR0j6M95j/Qrj992UHmP2y5CmsPRuY/BsTVWEVK5j+hzqBGe07mP1BCMBHdUeY//7W/2z5V5j+uKU+moFjmPxo9/LalW+Y/hVCpx6pe5j/xY1bYr2HmP113A+m0ZOY/16A4CXVn5j+AWLcN+WnmP0V96g9XbOY/HTcy9Qdu5j/08HnauG/mP8yqwb9pceY/pGQJpRpz5j8iP4Yw7nTmP/1e8FHPduY/8hdfd7F45j/sGF9mCHzmP5uM7jBqf+Y/+7YVBfSD5j/nCmLd/IjmP+FuRIYAjuY/pVvjpR2T5j/M7d41dZfmPxB/AQb+m+Y/b6ko2oeg5j8FZomzg6XmP5si6ox/quY/Md9KZnuv5j/Hm6s/d7TmP11YDBlzueY/8xRt8m6+5j+J0c3LasPmPx+OLqVmyOY/tUqPfmLN5j9LB/BXXtLmP+HDUDFa1+Y/d4CxClbc5j8NPRLkUeHmP6P5cr1N5uY/OrbTlknr5j/PcjRwRfDmP2UvlUlB9eY//Ov1Ij365j/qhyFWFv/mP37eX/PhA+c/9puZjKwI5z9qEUJcAgznPykUW1BND+c/NmDcOnAR5z+2gjghFBPnP/L80vKKFOc/PY3107wV5z+st1odYRbnP/7imCbUFuc/NXXSK0YX5z81ddIrRhfnPzV10itGF+c/NXXSK0YX5z81ddIrRhfnPzV10itGF+c/NXXSK0YX5z81ddIrRhfnPzV10itGF+c/NXXSK0YX5z81ddIrRhfnPzV10itGF+c/NXXSK0YX5z81ddIrRhfnPzV10itGF+c/NXXSK0YX5z81ddIrRhfnPzV10itGF+c/NXXSK0YX5z81ddIrRhfnPzV10itGF+c/NXXSK0YX5z81ddIrRhfnP1N0+Wt3F+c/77Omf7EX5z+M81OT6xfnP5DbtF/wGOc/TPz3QKAa5z8JHTsiUBznP8Q9fgMAHuc/gF7B5K8f5z89fwTGXyHnP/qfR6cPI+c/tcCKiL8k5z9y4c1pbybnPy4CEUsfKOc/6iJULM8p5z+mQ5cNfyvnP2Jk2u4uLec/HoUd0N4u5z/bpWCxjjDnP5bGo5I+Muc/b4Drd+8z5z9FOjNdoDXnPx30ekJRN+c/9K3CJwI55z/MZwoNszrnP6IhUvJjPOc/e9uZ1xQ+5z9RleG8xT/nPylPKaJ2Qec/AAlxhydD5z/Xwrhs2ETnP5B92RFYRuc/zPdz485H5z8Gcg61RUnnP9pD9c3xSec/9Nz50fJJ5z8Qdv7V80nnPysPA9r0Sec/RqgH3vVJ5z9hQQzi9knnP3zaEOb3Sec/lnMV6vhJ5z+yDBru+UnnP82lHvL6Sec/6T4j9vtJ5z8D2Cf6/EnnPx9xLP79Sec/OgoxAv9J5z9VozUGAErnP3A8OgoBSuc/cDw6CgFK5z9wPDoKAUrnP3A8OgoBSuc/cDw6CgFK5z9wPDoKAUrnP3A8OgoBSuc/cDw6CgFK5z9wPDoKAUrnP3A8OgoBSuc/cDw6CgFK5z9wPDoKAUrnP3A8OgoBSuc/cDw6CgFK5z9wPDoKAUrnP3A8OgoBSuc/cDw6CgFK5z9wPDoKAUrnP3A8OgoBSuc/cDw6CgFK5z9wPDoKAUrnP3A8OgoBSuc/cDw6CgFK5z9wPDoKAUrnP3A8OgoBSuc/cDw6CgFK5z+M1T4OAkrnP6ZuQxIDSuc/wgdIFgRK5z/DbWpSNErnP0/D31zaSuc/NxI8Jd5L5z/1Mn8Gjk3nP7FTwuc9T+c/bnQFye1Q5z9FLk2unlLnPx3olJNPVOc/9KHceABW5z/MWyResVfnP6MVbENiWec/fM+zKBNb5z9SifsNxFznPytDQ/N0Xuc/Av2K2CVg5z/attK91mHnP7FwGqOHY+c/iSpiiDhl5z9g5Klt6WbnPzme8VKaaOc/D1g5OEtq5z/nEYEd/GvnP7/LyAKtbec/loUQ6F1v5z9uP1jNDnHnP0X5n7K/cuc/HbPnl3B05z/a0yp5IHbnP5X0bVrQd+c/UxWxO4B55z8padbkAHvnP3TNqL8LfOc/YziU3Lh85z990ZjguXznP5lqneS6fOc/tAOi6Lt85z+0A6Lou3znP7QDoui7fOc/tAOi6Lt85z+0A6Lou3znP7QDoui7fOc/tAOi6Lt85z+0A6Lou3znP7QDoui7fOc/tAOi6Lt85z+0A6Lou3znP7QDoui7fOc/tAOi6Lt85z+0A6Lou3znP7QDoui7fOc/tAOi6Lt85z+0A6Lou3znP7QDoui7fOc/tAOi6Lt85z+0A6Lou3znP7QDoui7fOc/tAOi6Lt85z+0A6Lou3znP7QDoui7fOc/tAOi6Lt85z+0A6Lou3znP7QDoui7fOc/tAOi6Lt85z+0A6Lou3znP7QDoui7fOc/tAOi6Lt85z+0A6Lou3znP7QDoui7fOc/tAOi6Lt85z+0A6Lou3znP7QDoui7fOc/tAOi6Lt85z+0A6Lou3znP7QDoui7fOc/tAOi6Lt85z+0A6Lou3znP7QDoui7fOc/tAOi6Lt85z+0A6Lou3znP7QDoui7fOc/tAOi6Lt85z+0A6Lou3znP7QDoui7fOc/tAOi6Lt85z+0A6Lou3znP7QDoui7fOc/tAOi6Lt85z+0A6Lou3znP7QDoui7fOc/tAOi6Lt85z/PnKbsvHznP+s1q/C9fOc/Bc+v9L585z8haLT4v3znPzwBufzAfOc/V5q9AMJ85z+sKx5GZX3nP4LlZSsWf+c/W5+tEMeA5z8yWfX1d4LnPwoTPdsohOc/4cyEwNmF5z+5hsyliofnP5FAFIs7iec/afpbcOyK5z8/tKNVnYznPxWaO0F1juc/1aLf7imR5z+MQ/0jJJTnP4Pe2tZKl+c/zwoZzxSb5z/QO1nlQJ/nP0+tH891o+c/PklLAk+o5z9fya6jma3nPze0Np92s+c/qnhJcl255z+2rSsY3L/nPyMk1NaIxuc/kZp8lTXN5z/idyBQ4dPnPzRVxAqN2uc/hjJoxTjh5z/ZDwyA5OfnPyvtrzqQ7uc/fspT9Tv15z+Wr5tuRfvnPy1s/EdBAOg/wihdIT0F6D9X5b36OAroP+2hHtQ0D+g/g15/rTAU6D8ZG+CGLBnoP67XQGAoHug/Q5ShOSQj6D/aUAITICjoP3LhEub0LOg/H08X9+ww6D/wvaaEoDToP4IydpQnOOg/5aoHfes76D+VHpdHTT/oP/3j2UMYQ+g/9H639j5G6D+6NV079EjoPwviwN9zS+g/3U2esOpN6D8VSayuyU/oP+4C9JN6Ueg/xbw7eStT6D+ddoNe3FToP3Qwy0ONVug/TeoSKT5Y6D8kpFoO71noP/xdovOfW+g/0xfq2FBd6D+q0TG+AV/oP4KLeaOyYOg/WkXBiGNi6D8x/whuFGToPwm5UFPFZeg/4XKYOHZn6D+5LOAdJ2noP6t/LAfZaug/ntJ48Ips6D8A4jXg4W7oP+CfbeZAceg/MRoW80R06D9n+7n7R3foP/vVRMKoeug/aRutail96D/UYBUTqn/oPwoURLa4geg/W2B3XciD6D+trKoE2IXoP7nES/ixh+g/YXzK/DWK6D8kzU0Fu4zoP+qD80lwj+g/hY6+N6aT6D8gmYkl3JfoP7yjVBMSnOg/Vq4fAUig6D8PuBEvr6ToP8fBA10Wqeg/oKyLWPOu6D95lxNU0LToP1GCm0+tuug/Km0jS4rA6D8d8a9KaMboP5C1wh1PzOg/AXrV8DXS6D92pAoATdjoPyNheRTW3ug/6rbsLGDl6D/zbEL/RuzoP5sNIr8m8+g/0fGQeGH56D8H1v8xnP/oPxZTwTLrBek/JdCCMzoM6T80TUQ0iRLpP0PKBTXYGOk/N67CMSYf6T8rkn8udCXpPyBK7CSbK+k/Xsl2Bhcx6T+Cr/zjkTbpP1oIEp0XPOk/uTI5caFA6T8KR9g1cEXpP1lbd/o+Suk/YEjI1khP6T9lLyd0klTpP2wWhhHcWek/URxP4a9d6T83Ihixg2HpPxwo4YBXZek/AS6qUCtp6T/Nmm4c/mzpPxfHrBTIcOk/ZPPqDJJ06T+tuQbJK3jpP6NU5HtSe+k/gFa9Knh+6T+qO0MZnIDpP9IgyQfAguk//AVP9uOE6T8l69TkB4fpPxk+Ic65iOk/C5Ftt2uK6T/947mgHYzpP/A2BorPjek/4olSc4GP6T/V3J5cM5HpP8kv60Xlkuk/vII3L5eU6T+u1YMYSZbpP+pPHuq/l+k/x6SB97GY6T+1D20UX5npP6R6WDEMmuk/S8kCPSOb6T80GF8FJ5zpPx1nu80qnek/Z/fdrlye6T+xhwCQjp/pP/wXI3HAoOk/RqhFUvKh6T+QOGgzJKPpP9vIihRWpOk/JFmt9Yel6T9v6c/WuabpP7t58rfrp+k/BAoVmR2p6T9Pmjd6T6rpP5kqWluBq+k/5SCfeOOs6T+iQeJZk67pP15iJTtDsOk/GoNoHPOx6T/Wo6v9orPpP5PE7t5Stek/T+UxwAK36T8LBnWhsrjpP8YmuIJiuuk/g0f7YxK86T8/aD5Fwr3pPxUihipzv+k/7tvNDyTB6T/FlRX11MLpP51PXdqFxOk/nrgx0/LF6T9BKB8OAsfpP3sjLQzhyOk/Ut108ZHK6T8ql7zWQszpPwFRBLzzzek/2gpMoaTP6T+xxJOGVdHpP4l+22sG0+k/YDgjUbfU6T838mo2aNbpPxES1VdJ2Ok/BstDfSva6T8yFuynf9zpP2n3j7CC3+k/nHIRfVXi6T96XJmJ2+TpP5ymA1C+5+k/vvBtFqHq6T/gOtjcg+3pPxweR6dn8Ok/tygSlZ306T9TM92C0/jpP+49qHAJ/ek/o+F3YkAB6j8Bpnz6mQXqP0Y3n8oiCuo/pWHGnqwO6j/3PmpZWBXqP0ocDhQEHOo/Ao60tE4i6j/VmF9ZmijqPxMY6joWLuo/UZd0HJIz6j9H77AVSTnqP9D+Xdj2P+o/yp4rmyJH6j/EPvldTk7qP7/exiB6Veo/1BeZ56Zc6j/qUGuu02PqP/0jGznQauo/9F3Gv8tx6j9QcTVbtnjqPxzhxNfAf+o/5lBUVMuG6j+ZJ9/M1I3qPwWeh4uBlOo/cxQwSi6b6j/hitgI26HqP08BgceHqOo/63nyZmGu6j+FHrQMYrTqPyDDdbJiuuo/n84yVGLA6j9lJKZs7MbqPykU90hGzeo/0mpDIZ/T6j+JDhMT1tfqPz6y4gQN3Oo/N7aUsKDg6j8WIUJYM+XqP21MUCcZ6+o/xHde9v7w6j9jyrqtqfbqP3Flpptd++o/DHBxiZP/6j+mejx3yQPrP0GFB2X/B+s/wvbNTjQM6z9dAZk8ahDrP/cLZCqgFOs/kxYvGNYY6z+TtfzrqhzrP//IqfyvH+s/bNxWDbUi6z/X7wMeuiXrP0IDsS6/KOs/rhZeP8Qr6z8aKgtQyS7rP2qks1zNMes/LvU2ZVI06z/zGWpnsDbrP/YeWne1Ous/emTQWsM+6z8n2F8lJULrP9dL7++GRes/LeCzYAtJ6z9f3MFNQU7rP3snLAN7VOs/RPwr75xa6z8qMzXVnGLrP5ep3ZNJaes/BSCGUvZv6z9yli4Ro3brP98M189Pfes/TYN/jvyD6z+7+SdNqYrrPydw0AtWkes/lOZ4ygKY6z/nwxyFrp7rPzmhwD9apes/i35k+gWs6z/eWwi1sbLrP0vSsHNeues/t0hZMgvA6z8kvwHxt8brP5M1qq9kzes/AKxSbhHU6z9tIvssvtrrP9uYo+tq4es/Rw9Mqhfo6z+1hfRoxO7rP+Ub4BnK8+s/lXFF98b46z8sLqbQwv3rP8HqBqq+Auw/sIYy3ZcH7D/DuhSUvwrsP+2fmoLjDOw/JJuogMIO7D9ANK2Eww7sP1vNsYjEDuw/dma2jMUO7D+S/7qQxg7sP62Yv5THDuw/xzHEmMgO7D/iysicyQ7sP/9jzaDKDuw/Gv3RpMsO7D80ltaozA7sP1Av26zNDuw/a8jfsM4O7D9vsEB90w/sP1n/nEXXEOw/Qk75DdsR7D/jdQfuGRPsP5+WSs/JFOw/W7eNsHkW7D8X2NCRKRjsP9T4E3PZGew/kRlXVIkb7D9NOpo1OR3sPyT04RrqHuw//K0pAJsg7D/UZ3HlSyLsP6whucr8I+w/g9sAsK0l7D9blUiVXifsPzJPkHoPKew/CgnYX8Aq7D/iwh9FcSzsP7p8ZyoiLuw/kDavD9Mv7D9p8Pb0gzHsP0CqPto0M+w/F2SGv+U07D/wHc6kljbsP8bXFYpHOOw/npFdb/g57D91S6VUqTvsP04F7TlaPew/Jb80Hws/7D8TKiA8uD/sPwKVC1llQOw/8P/2dRJB7D8mkjB7hEHsP0IrNX+FQew/XsQ5g4ZB7D95XT6Hh0HsP5T2QouIQew/r49Hj4lB7D/KKEyTikHsP8ooTJOKQew/yihMk4pB7D/KKEyTikHsP8ooTJOKQew/yihMk4pB7D/KKEyTikHsP8ooTJOKQew/yihMk4pB7D/KKEyTikHsP8ooTJOKQew/yihMk4pB7D/KKEyTikHsP8ooTJOKQew/yihMk4pB7D/KKEyTikHsP8ooTJOKQew/yihMk4pB7D/KKEyTikHsP8ooTJOKQew/yihMk4pB7D/KKEyTikHsP8ooTJOKQew/yihMk4pB7D/KKEyTikHsP8ooTJOKQew/yihMk4pB7D/KKEyTikHsP8ooTJOKQew/yihMk4pB7D/KKEyTikHsP8ooTJOKQew/yihMk4pB7D/KKEyTikHsP8ooTJOKQew/yihMk4pB7D/KKEyTikHsP8ooTJOKQew/yihMk4pB7D/KKEyTikHsP8ooTJOKQew/yihMk4pB7D/KKEyTikHsP8ooTJOKQew/yihMk4pB7D/KKEyTikHsP8ooTJOKQew/yihMk4pB7D/KKEyTikHsP8ooTJOKQew/yihMk4pB7D/KKEyTikHsP8ooTJOKQew/yihMk4pB7D/KKEyTikHsP8ooTJOKQew/Zmj5psRB7D+pliDJpULsP3ZMeI2oQ+w/RQLQUatE7D9J6jAesEXsP2nLxuslR+w/iqxcuZtI7D/GjBnHQkrsPwRt1tTpS+w/Qk2T4pBN7D+ALVDwN0/sPzxOk9HnUOw/+W7WspdS7D/QKB6YSFTsP6fiZX35Vew/f5ytYqpX7D9XVvVHW1nsPy4QPS0MW+w/BcqEEr1c7D/eg8z3bV7sP7Q9FN0eYOw/jfdbws9h7D9ksaOngGPsPztr64wxZew/EyUzcuJm7D/r3npXk2jsP8OYwjxEauw/mlIKIvVr7D9xDFIHpm3sP0rGmexWb+w/hEA0vs1w7D8azFSBnXHsPyPQRKJLcuw/LNQ0w/ly7D8AphvcpXPsP7zGXr1Vdew/d+ehngV37D8xosJDhXjsP+3CBSU1euw/aew6RfV87D+KNqUL2H/sPy1Aif6xguw/0Elt8YuF7D+14agDt4nsP7YS6Rnjjew/NoSvAxiS7D/LQBDdE5fsP2H9cLYPnOw/97nRjwuh7D+NdjJpB6bsPyMzk0IDq+w/t+/zG/+v7D9OrFT1+rTsP+Rotc72uew/eiUWqPK+7D8P4naB7sPsP2G/Gjyayuw/s5y+9kXR7D8GemKx8dfsP1dXBmyd3uw/qzSqJknl7D/8EU7h9OvsP0/v8Zug8uw/vGWaWk357D8p3EIZ+v/sP5IKWg4yBe0/+zhxA2oK7T9JzoP0oA/tP5T9c6mnFO0/ICRyH54Y7T8GKjvvcRztP+svBL9FIO0/0DXNjhkk7T9ZFDo7mybtP8RZouMbKe0/sl6EuJMr7T+LGMydRC3tP31rGIf2Lu0/PnS8NKsx7T/+fGDiXzTtP7+FBJAUN+0/EACtnBg67T9helWpHD3tP7H0/bUgQO0/Am+mwiRD7T+y4jWNhkbtP6Q1gnY4SO0/l4jOX+pJ7T+K2xpJnEvtP30uZzJOTe0/b4GzGwBP7T9i1P8EslDtP1QnTO5jUu0/LeGT0xRU7T8Em9u4xVXtP9xUI552V+0/sw5rgydZ7T+LyLJo2FrtP2KC+k2JXO0/OjxCMzpe7T8R9okY61/tP7qtCB1vYu0/CyixKXNl7T9bolk2d2jtPwoW6QDZa+0/iYev6g1w7T8jknrYQ3TtP6MDQcJ4eO0/VyXSI9t77T8n4GeJPn/tP/aa/e6hgu0/NuSO9bWF7T8l5FCAm4ntPxbkEguBje0/dQ463wqS7T8QGQXNQJbtP6sj0Lp2mu0/RS6bqKye7T/+N43WE6PtP7uJEM7vqO0/eduTxcuu7T9RxhvBqLTtP8OKLpSPuu0/cy/+dB3C7T9aZgdbHcrtP0CdEEEd0u0/JtQZJx3a7T8NCyMNHeLtP/NBLPMc6u0/2ng12Rzy7T8Bqv48SfrtPwEyLcx5Au4/VvcxUyoK7j+uvDba2hHuP6aIVKMtGe4/MJgBZtsf7j+dDqokiCbuPwuFUuM0Le4/zCzEZL4z7j+pzWrnuDruP4VuEWqzQe4/Yg+47K1I7j+P+S3r1k7uP7vjo+n/VO4/eaO0noRa7j+biTp8/1/uP9kIxV17Ze4/FohPP/dq7j83CLPgQXDuPyL23Hwade4/UYzILSB67j9lia/aJH/uP+GsC7AfhO4/HvCqd3OH7j8loRA6VYruP0fregA4je4/aTXlxhqQ7j+Lf0+N/ZLuP63JuVPgle4/XD1JHkKZ7j/Kthhrd5zuP+wAgzFan+4/Dkvt9zyi7j8DZz7Xy6XuPxIclLpbqe4/wY8jhb2s7j9xA7NPH7DuPx93QhqBs+4/d1Pm5dW27j+anVCsuLnuP7znunKbvO4/3TElOX6/7j//e4//YMLuPyHG+cVDxe4/QhBkjCbI7j9kWs5SCcvuP4akOBnsze4/Bxb/AiHS7j+Gh8XsVdbuP/1ikPjb2e4/LZaZ7zTd7j/WiQMO4eHuP952VOrq5u4/5WOlxvTr7j/sUPai/vDuP9mkQnsH9u4/4JGTVxH77j+5fBtT7gDvP0lAVWYGB+8/8/qeG8IM7z/M5SYXnxLvPwllsfgaGO8/G7Yi80Ie7z9zzrHYvyPvP7JNPLo7Ke8/b5+/sRcv7z8d27qZODXvP8wWtoFZO+8/elKxaXpB7z+Fh5MP+UfvP/L9O86lTu8/YXTkjFJV7z/O6oxL/1vvP0BJltawY+8/J4CfvLBr7z8rts/i4XPvPzq0tn49fO8/BCRG+0eD7z+m5EhklorvPzeK8QTzke8/gghMvYqZ7z+KWH9TQaDvPzKvyyuapu8/9Z4cCPSs7z+5jm3kTbPvP0o0FoWquu8/F9IaZ6nC7z+tS3MB38nvP4zsGYTZ0O8/wmyLYLHX7z/LvL72Z97vPxJTuOL65O8/hRfLteHq7z/5292IyPDvP/YnIf7Q9u8/VvEVpi//7z9iaMmupAPwPxnYh4qxB/A/0UdGZr4L8D9nhxPlnA/wP02mfVdkE/A/3I3kKVIX8D+R8O0K8RvwP9MryQcOIPA/2nok1wMk8D9TSmwG4SfwPzlp1nioK/A/++N3X5Ev8D9Ttt9PWDPwPwGnqT0FN/A/Uquan5Q68D+J5u7+6j3wP78hQ15BQfA/aRCVO5dE8D8S/+YY7UfwP9QSDZTBSvA/692CbERN8D81PDNZwk/wP6Ax99awUvA/uqOuM85V8D9jYmgS7FjwP+l8WWUrXPA/H7itxIFf8D/Jpv+h12LwP6xROa4cZvA/n9QdlgZo8D+TVwJ+8GnwPxQn6efaa/A/lPbPUcVt8D+GebQ5r2/wP3j8mCGZcfA/wbaAqVxz8D/j9cUib3TwP3foCBqBdfA/C9tLEZN28D+fzY4IpXfwPzPA0f+2ePA/XQrbAKd58D+GVOQBl3rwP/99ivZve/A/eacw60h88D/y0NbfIX3wP2v6fNT6ffA/5CMjydN+8D9eTcm9rH/wP9d2b7KFgPA/UKAVp16B8D/JybubN4LwPyFcTv+fgvA/ynHtg9mC8D/lOoqGEoPwPyKo7xQqg/A/r/TxliqD8D98qvAjW4PwP/HRHgjdg/A/ZflM7F6E8D/aIHvQ4ITwP8H7pjJihfA/qdbSlOOF8D+Rsf72ZIbwP+9BoOc8h/A/TdJB2BSI8D+rYuPI7IjwPwnzhLnEifA/Z4MmqpyK8D/FE8iadIvwPyOkaYtMjPA/gjQLfCSN8D/fxKxs/I3wPz5VTl3UjvA/nOXvTayP8D/6dZE+hJDwP1cGMy9ckfA/tpbUHzSS8D8UJ3YQDJPwP3K3FwHkk/A/0Ee58buU8D+9JF1klJXwP6kBAddslvA/ld6kSUWX8D+Cu0i8HZjwP26Y7C72mPA/W3WQoc6Z8D8G6TcJd5rwPwvrrxnOmvA/EO0nKiWb8D8U7586fJvwPxnxF0vTm/A/HvOPWyqc8D8i9QdsgZzwP7FBCu6BnPA/P44McIKc8D/N2g7ygpzwP1wnEXSDnPA/6nMT9oOc8D94wBV4hJzwPwcNGPqEnPA/lVkafIWc8D8jphz+hZzwP7LyHoCGnPA/QD8hAoec8D/OiyOEh5zwP13YJQaInPA/I4NgC9uc8D+Xqo7vXJ3wP7XnW1gYnvA/1Vc63+ue8D8y6NvPw5/wP5F4fcCboPA/1TDtNwii8D8Z6VyvdKPwPwy1ejiKpfA/rv2LoM6n8D9QRp0IE6rwP/OOrnBXrPA/lde/2Juu8D/8gdKkB7HwP4mnh38ktPA/MpbZXHq38D/chCs60LrwP4ZzfRcmvvA/vK7RdnzB8D/y6SXW0sTwPyklejUpyPA/X2DOlH/L8D+VmyL01c7wP8vWdlMs0vA/JKneQ/PV8D98e0Y0utnwPxBHPITo3fA/pRIy1Bbi8D/HKiqmRebwP+pCInh06vA/1fzhxlDu8D8SOq42/vHwP6Vh2yFy9fA/Nlb37s348D/73U3QJPzwP8BlpLF7//A/nsUsDD4C8T8KcrfoAAXxP/5ozDZtB/E/ZRPfAtkJ8T/MvfHORAzxPzNoBJuwDvE/nhSPd3MR8T9EXxjwDhTxP8Uu/1n5FfE/KjVJwaoX8T+Q31uNFhrxP8lB5fYJHfE/dFds3vwf8T8gbfPF7yLxP1nPfC/jJfE/k2QXt+4o8T9e6nwltSzxPypw4pN7MPE/oMv5XNYz8T8WJxEmMTfxP1CJmo8kOvE/Fzgmexg98T/hvYvp3kDxPzmQ89mlRPE/kWJbymxI8T+AMFIpzEzxP27+SIgrUfE/VcF7X61V8T89hK42L1rxPyRH4Q2xXvE/Z/bscFBj8T8dWfZR72fxP7cmZLJ0bPE/McTgtctw8T+qYV25InXxPyL/2bx5efE/lprer3l98T/xEA8F+4HxP02HP1p8hvE/NUpyMf6K8T8cadyjxY7xP7wc0voFkvE/81cmWlyV8T8qk3q5spjxPyZj4ZpInPE/vPvFzF6g8T9L8OGZuqPxP9zk/WYWp/E/n2xUSG2q8T+aUuOsFq7xP0S1ZfDusfE/Y8vlsca18T/vvYluy7jxP3ywLSvQu/E/BqPR59S+8T+m4pbYksHxP4VCHzNVxPE/a61rFfXG8T/fZLp5lcnxP1McCd41zPE/bOd+trjO8T+EsvSOO9HxP4C0zWSF0/E/fLamOs/V8T8HqUr309jxP5XO/9Hw2/E/IvS0rA3f8T9Wi0CnqeHxP4kizKFF5PE/L21VGuHm8T+iJKR+genxPxeAu0fc7PE/h9OHqDnw8T+HFx/wUfTxPzJ6oTMq+PE/9wH4FIH78T8vPUx01/7xPywNs1VtAvI/wtiopZsG8j8gRmZydwryP882MGAkDvI/fSf6TdER8j+5ZMa9fhXyP2ZVkKsrGfI/2/CUnisd8j+kQ+nu2SDyPy52etWDJPI/MF6BSoQo8j9SdnkcsyzyP3WOce7hMPI/l6ZpwBA18j+7vmGSPznyP93WWWRuPfI/OU2Kue9B8j8D0+8ntkXyP80lRHhkSfI/IsWaShNN8j9HBMgm31DyP4oMkgXkVPI/yxRc5OhY8j/tLFS2F13yP+9HbEkwYfI/9JNO+UVl8j/+hhn2I2nyPwl65PIBbfI/vtzt06Bx8j8BjPk2QHbyP+lOLA7CevI/1RPX9Zp/8j/B2IHdc4TyP62dLMVMifI/mWLXrCWO8j9sAq72f5PyP0CihEDamPI/3OMiB+Kd8j9FxZfXBqPyP6+mDKgrqPI/hIapCgyt8j/k/lFw5LHyP0N3+tW8tvI/ou+iO5W78j8BaEuhbcDyP2Hg8wZGxfI/h/pj6cvJ8j+vFNTLUc7yP9YuRK7X0vI/cvyxDl3X8j+w3UbjxNvyP9P1PrXz3/I/g1o5CSPk8j+EQkB+I+jyPxU3XEt/6/I/FHuaW8Xu8j+AJyU4iPHyP+vTrxRL9PI/9++YADb28j+3KHx1UPjyPyfeUsmZ+vI/h+IkIPT78j/p5vZ2Tv3yP0rryM2o/vI/q++aJAMA8z+XzD6X2wDzP4Op4gm0AfM/b4aGfIwC8z91LMfxnQPzP33SB2evBPM/oMSqu64F8z+LoU4uhwbzP3V+8qBfB/M/YVuWEzgI8z9MODqGEAnzPzYV3vjoCfM/IvKBa8EK8z8NzyXemQvzP/eryVByDPM/4ohtw0oN8z9CjT8apQ7zPzqNoN+XEPM/3NWxR9wS8z8La8UxIRXzP+XI1XuMF/M/w3GXd3oa8z9Rl0xSlx3zP2wJBK+0IPM/FvhVjAok8z+AfateMCfzP9Dd01sFKvM/kvH51tks8z9VeVC4MDDzPxkBp5mHM/M/OXXWBvw28z/lZaD0qDrzP5JWauJVPvM/sfoxTgJC8z/nNYatWEXzP6293I6vSPM/ckUzcAZM8z82zYlRXU/zP/xU4DK0UvM/wNw2FAtW8z9vZu5hgFnzP2tMfcYpXfM/ZzIMK9Ng8z+/BHQbmmTzP2tn9l5yaPM/Fcp4okps8z/aUc+DoW/zP32TDIW2cvM/5z+XYXl18z/Gnx+8O3jzP/o2q7bXevM/KoOF//B88z9w/aZuLn/zP0z/JuaBgfM/JC2fMbWD8z8aJLR/IYbzPz5j4VvtifM/Y6IOOLmN8z8V7R5OG5HzP8c3L2R9lPM/rIYx1XyY8z/uAiwaBJ3zPzKyN32jofM/d2FD4EKm8z+8EE9D4qrzP3FzWCSBr/M/KdZhBSC08z/fOGvmvrjzP7njBbj2vfM//zbaf1DD8z9aiE3bi8jzP21/YTDqzfM/TCx0EnnT8z+xyco9/NjzP60/eiLE3vM/qbUpB4zk8z8W39ZpU+rzP9P9SEMX8PM/7QiUqPj18z9ZpPlg6/vzP8Q/XxneAfQ/MNvE0dAH9D/Wy++EcA30P1foua35EvQ/T1zxgWoY9D8qB4xToh30P9VpDpd6IfQ/94EGaakl9D+MGuuavyn0PyCzz8zVLfQ/JVvpFzEx9D/NpXKQzDP0P6obI26iNvQ/Ng7HKqc59D9tSRuK/Tz0PzLRcWtUQPQ/NHmLtq9D9D9WkYOI3kf0P1Vh6ml0S/Q/ddUZ1+hO9D+VSUlEXVL0P7G7AKF6VfQ/kGiEVyJZ9D+POOs4uFz0PxlVVJxOYPQ/o3G9/+Rj9D+LkCdyrGf0P8MphLRxa/Q/xKpo9S9v9D//5zRl3XL0P89vEuT6dvQ/n/fvYhh79D/7y89jNn/0P5SZPcS7g/Q/vLOtpkGI9D/kzR2Jx4z0P0JGxu6fkfQ/Kgn5xSGW9D/7BAerwZr0P+bJsZKan/Q/JR93zYSk9D/XJzqGbqn0PyFym8UirvQ/uz8JJqiy9D82Ecll3Lb0P+tAwShju/Q/cnUr5VbB9D/aObcad8b0P1768HDoy/Q/VG4oRVnR9D/aLmKbytb0P13vm/E73PQ/rKvj7A/h9D+LWPbOnub0P/RPkyLX6/Q/65My+A/x9D/gB2rMgPb0P2TIoyLy+/Q/xbR87kwB9T+ZVFM4pwb1P6dJ73yuC/U/QYuNQ7YQ9T9PgCmIvRX1PyB8N21dGvU/YytD0Pwe9T/Co+s11SP1P+q9WxhbKPU/EdjL+uAs9T9PuWDPSDH1P3LRWKF3NfU/JzRighY69T/elmtjtT71P8RZnjo3Q/U/rBzREblH9T8HkwFnOkz1P5te97ZoUPU/HgW4oyVT9T8w+HoS41X1PyTvj2BPWPU/Guakrrta9T+CkLd6J131P2DwP9XpX/U/42Pvo45i9T/V5tOLeGT1P8dpuHNiZvU/LaCa2Uto9T82pOMxzGn1P5o2/TL7avU//MgWNCps9T/upzK3WW31P6AKVDU/b/U/7o85LFpx9T+QpTl2hnP1P9wD6mIEdvU/unmaQNp49T99Jq4bd3v1Pz/TwfYTfvU/zPh20TCB9T/nai4uToT1Pz89lh4ViPU/YLHFi4mL9T+AJfX4/Y71P6GZJGZykvU/T1pWVeeV9T+LlyLFlJn1P8nU7jRCnfU/eTnpiHGh9T+cUeFaoKX1P79p2SzPqfU/4YHR/v2t9T8EmsnQLLL1P7H8SxQFtvU/XV/OV9259T+WDlMdtr31P0dzTXHlwfU/N0FE0ETG9T9CNGgE9cr1P9lzjrqlz/U/i3xRc4/U9T8MJes1ltn1P4n2qnXK3fU/UCLKu9vh9T/Cvc6u2+X1P3ZJ/gyo6fU/WwFGSy3t9T8H8g852vD1P7M+avme9PU/gpM2WqT49T/BmwA5qfz1P8RDGoQEAPY/prtCcjED9j9wDpfC3wb2PyU+j4VmC/Y/j2XE19YQ9j9hBZshMRb2PzOlcWuLG/Y/E1KETRoh9j9dp9Alyyb2P6b8HP57LPY/gJ5rWC0y9j/uO0khdzj2P13ZJurAPvY/zHYEswpF9j+ux9/5U0v2PxljRbJGUfY/Q5WuXwlX9j9Uouo3e1z2P9piJI7sYfY/QlrB4SRn9j9OZYWpP2z2P84jR+9ZcfY/2xjjM2F29j/qDX94aHv2Pw3KP69RgPY/bELoFCqF9j8Dgg7L2on2PxMbGj3KjvY/HA4+cXqT9j+zTWQnK5j2P0uNit3bnPY/zDUkoOKh9j9kA5IAaKb2P9eelvNnqvY/tnJPtKyt9j9JZ2uBCLH2P92OmGx8tPY/7oFb2zm39j+6FHZEbrr2P728j4/JvfY/wWSp2iTB9j8tREXV/8P2P7dgrjiWx/Y/ZlF4JkPL9j9OWroV9872P/++tGkm0/Y/sCOvvVXX9j+9dIKdotv2PxztKgN74PY/fGXTaFPl9j+KWm+tWur2P5lPC/Jh7/Y/qUSnNmn09j+3OUN7cPn2P8Yu3793/vY/1iN7BH8D9z/lGBdJhgj3P3xYPf82Dfc/o3Kt4bwR9z89QBtCQhb3P9YNiaLHGvc/hnKD9vYe9z83131KJiP3PyKRPZkCJ/c/lyxCjAIr9z9isqf6yC73PywF/Ep3Mvc/9FdQmyU29z8mrxV9Ozn3P+s2bF6SPPc/fV6ZSQZA9z9Gse2ZtEP3PxcPBnJAR/c/b+FtYgdL9z+Om11Rx073P+L5lNsLUvc/OVjMZVBV9z8xyipkd1j3P9kUtNwSW/c/ZvEvFgRe9z/X6GukSWH3P6ZwSSNnZfc/dPgmooRp9z/ScM8HXW73Py/pd201c/c/jWEg0w149z/r2cg45nz3P0lScZ6+gfc/MBWkdUCG9z8X2NZMwor3P/6aCSREj/c/5l08+8WT9z/OIG/SR5j3P7XjoanJnPc/ZEic/fig9z/jTG1bRaX3Pwpn3T3Lqfc/GVx5gtKu9z+ZBBNF2bP3P09nHCZ4uPc/NypP/fm89z/pjklRKcH3P3SrsrS/xPc/48tt9wTI9z8HC5vT0Mv3P4Da4gKuz/c/96kqMovT9z9weXJhaNf3P+dIupBF2/c/eYYP/8ze9z93LLE50eH3P2wjxoc95Pc/ol4a55Pn9z9JqaNfL+r3P39AL1rL7Pc/Zh+sou3v9z/5E8hvSfP3P4079Vq99vc/H2MiRjH69z8/11Gzpf33P2BLgSAaAfg/g2N58kgF+D+le3HEdwn4P8eTaZamDfg/66thaNUR+D8/JIMw5xX4P7cm3H3cGfg/8WOo7Ykd+D8toXRdNyH4PzWUP1oVJfg/yl81qkMp+D/rdy18ci34Pw2QJU6hMfg/cxOSO1c2+D92CKfilzr4PydtoTbHPvg/huVJnJ9D+D9fh5j2UEn4Pzcp51ACT/g/EMs1q7NU+D+X6Xfkk1r4P3o6UyvdYPg/qpPx4jxm+D/Z7I+anGv4PyJC3HJNcfg/uk83/Xd2+D8/Q4JxAXz4P8wdLaMGg/g/WfjX1AuK+D9ZhoCEEJH4P1kUKTQVmPg/x7EG/V6e+D81T+TFqKT4P6XswY7yqvg/FIqfVzyx+D+CJ30ghrf4PyQlhN+yvfg/Hg3sGabD+D8W9VNUmcn4P0EnvQFcz/g/UjT52c3U+D8z4Qu8XNr4Py9Xu6Ak4Pg/WRX052Tl+D8VHj4+Fev4P9EmiJTF8Pg/3xsk2cz1+D9z5xkp+/n4PwezD3kp/vg/nH4FyVcC+T+AzQc6Vwb5P7YIXJmtCfk/XvetdgMN+T8G5v9TWRD5P5PYoxBeE/k/IctHzWIW+T8Vwlwbzxj5PwGfAI6nGfk/73ukAIAa+T/bWEhzWBv5P1WC7mcxHPk/uRQIaWAd+T/iUVxv4h75PwuPsHVkIPk/40j4WhUi+T+9AkBAxiP5P5W8hyV3Jfk/bnbPCign+T9GMBfw2Cj5PyDqXtWJKvk/hfCoPDss+T+OChoYzy35P5lXnBF7L/k/5DgS260x+T8t8/licTP5P63C4MxbNfk/ipTIRXc3+T8w31G+Ejr5P9cp2zauPPk/DcFmMUo/+T/PpPSt5kH5P2/kuZ6kRPk/NZNFiphH+T+nioEY3kr5PzqyrgNSTvk/XMqm1YBS+T9/4p6nr1b5P6L6lnneWvk/xBKPSw1f+T/nKocdPGP5P3z2fG1qZ/k/Jln/sEJr+T8NEUfvx275P/PIji1Ncvk/KgTjjKN1+T9gPzfs+Xj5P5Z6i0tQfPk/te66uMR/+T9i34SmcYP5Pw7QTpQeh/k/9B5RBR6L+T/bbVN2HY/5P6PAp8bLkvk/LH8IR/OV+T9/Br+FN5n5P5t4duJUnPk/WugsMEGf+T9P30F+raH5P0PWVswZpPk/IzbfJtym+T9zX42Csan5P6zBFuykrPk/vbTZWmKv+T80hCGKP7P5P6ofJn0/t/k/W6tV2wu7+T8qMzNaKb/5P/e6ENlGw/k/xULuV2TH+T8iF85Ygsv5P3/rrVmgz/k/3b+NWr7T+T85lG1b3Nf5P5VoTVz62/k/9OD1wdLg+T9TWZ4nq+X5P7PRRo2D6vk/KhEU5T3v+T8S1Ea8v/P5P/yWeZNB+Pk/Hq9xZXD8+T9Ax2k3nwD6P2TfYQnOBPo/hvdZ2/wI+j/7kl7O/Az6P28uY8H8EPo/P7ZAQBoV+j+eLuml8hn6P/6mkQvLHvo/c7bGZE0j+j/qr9M6vCf6P5sUzo7rK/o/TXnI4how+j/tuI3T2DL6P+CvoiFFNfo/nsFQjMI3+j8FbGNYLjr6Pz6nt7eEPfo/duILF9tA+j8f0V30MET6PySsiF2kR/o/Dy/OCoFL+j+H/hU6Xk/6PxzKC4qMU/o/PT479wBX+j+7QgxVTVv6PzlH3bKZX/o/tkuuEOZj+j/EQEpV7Wj6P9I15pn0bfo/4CqC3vty+j/uHx4jA3j6P/sUumcKffo/llZYLhKC+j8zmPb0GYf6P8/ZlLshjPo/EC9a9guR+j/Bk1RKO5X6P8+I8I5Cmvo/3X2M00mf+j+DbreG6aT6Pylf4jmJqvo/zk8N7Siw+j90QDigyLX6P6d9ZdVou/o/8tKxrRnB+j92k+sDi8b6P2eM2SdBy/o/lOV336DQ+j+OhKZ4aNb6P0dwBzQU3Po/7qKXIbDi+j9mGcd9I+r6P8GTSLlF8fo/H7KSWSL5+j8fQDsJJwD7Px7O47grB/s/H1yMaDAO+z+P+WkxehT7P/+WR/rDGvs/cDQlww0h+z/g0QKMVyf7P1Fv4FShLfs/M8C7m+oz+z8UEZfiMzr7P4SudKt9QPs/8ktSdMdG+z9h6S89EU37P3P2axWDUvs/9rala/RX+z/ie1BTzVz7P0b2cMn8Yfs/OvCk30Rn+z+CRfG39Wz7P0BOOw6mcvs/TkPXUq13+z9cOHOXtHz7P7uwG/2Mgfs/3sgTz7uF+z81m3u/gon7P3A02AFIjfs/2d7qzbOP+z/i+FupR5H7P+0SzYTbkvs/ZTxzebST+z/fZRlujZT7P1mPv2Jmlfs/0bhlVz+W+z9L4gtMGJf7P8QLskDxl/s/s+rNwyCZ+z+LpBWp0Zr7P++qXxCDnPs/UrGpdzSe+z+3t/Pe5Z/7Pzm662boofs/PpUW0Ful+z89ZX2x8aj7Pzo15JKHrPs/X3QRb1Ow+z8v/O7tcLT7P9pecTFJuPs/9UHg1Ai8+z+7yTa2X7/7P39RjZe2wvs/RNnjeA3G+z8JYTpaZMn7Pz+cjrm6zPs/0cO7pC7Q+z9/tIWS29P7Py2lT4CI1/s/wnBF0Lbb+z9WPDsg5d/7P+sHMXAT5Ps/f9MmwEHo+z+i6x6ScOz7P8QDF2Sf8Ps/5xsPNs70+z8KNAcI/fj7P6MBdWiC/fs/jMSnPwQC/D+NrK60BAb8PwJIs6cECvw/lxOp9zIO/D+6K6HJYRL8PzL76Pg+Fvw/J/L9RqsY/D8j9NYc9Rr8P5erJYGVHfw/WRvczoEg/D9vQuJ5HCP8PwY1DdTnJvw/nSc4LrMq/D/CZmUKfy78P5HuQomcMvw/owoU2EA3/D9eb5XJNjz8PxnUFrssQfw/d0y/IAVG/D9K7JVqX0v8Px2MbLS5UPw/B1EXnJJV/D/zFcKDa1r8P+DabGtEX/w/zJ8XUx1k/D8qGMC49Wj8P4eQaB7Obfw/5AgRhKZy/D9qyUraF3j8P3bUDqIyffw/hMmq5jmC/D+SvkYrQYf8P5+z4m9IjPw/jHiNVyGR/D/r8DW9+ZX8P0pp3iLSmvw/qeGGiKqf/D+UpjFwg6T8P46Omap2qvw/Ek/TAOiv/D9AWL35qrX8P05NWT6yuvw/6473BLq//D+izEPsEsX8P7HB3zAayvw/DBNTjFXP/D++GxZFP9T8P3Ak2f0o2fw/fhl1QjDe/D9fxockv+P8P0BzmgZO6fw/dLDHO+7u/D+p7fRwjvT8P9wqIqYu+vw/EGhP287//D9DpXwQbwX9PwYvrMcPC/0/AQHsfu8Q/T/UippFNhb9Pwu9ipC/HP0/fFpoWQkj/T/W1OmUKyr9Px8sD0MmMv0/3U7SAos6/T/0NjlEcEP9P5sPa2wQTf0/QuiclLBW/T9cdMw6UGD9P/Enyf9+aP0/htvFxK1w/T9yRhLninj9P6tpbbvhf/0/VEDGDTiH/T9Vzm69PI79P1RcF21Blf0/xPn0NYub/T81l9L+1KH9P6U0sMceqP0/u+W0BEuu/T9t7ne9NLP9PwrU3uj2uP0/Uykrwae+/T+efneZWMT9P+nTw3EJyv0/wXUSzLrP/T+aF2EmbNX9P+Nsrf4c2/0/9Xnp1o7g/T8HhyWvAOb9P7frHwMw6v0/ZlAaV1/u/T8s2HA4tvH9PwODI6c09P0/ZWI4BEn2/T9ufKnf3Pf9P+elT9S1+P0/YM/1yI75/T/a+Ju9Z/r9P1MiQrJA+/0/K9yJl/H8/T8CltF8ov79P9lPGWJTAP4/sQlhRwQC/j8VEKuutQP+P3wW9RVnBf4/4hw/fRgH/j9GI4nkyQj+P60p00t7Cv4/EjAdsywM/j93Nmca3g3+P/JfDQ+3Dv4/bomzA5AP/j/nsln4aBD+P2Lc/+xBEf4/rUlFUPIS/j/baijUtBT+P4K1sUxQF/4/E93eN8Qa/j829dYJ8x7+P1oNz9shI/4/ZgJrICko/j909wZlMC3+PxE5pSs4Mv4/B63c/6g3/j//IBTUGT3+P/aUS6iKQv4/7giDfPtH/j/n2sIz203+P7UIQu38VP4/JqYftkZb/j8kkP8AkWH+P7efM2EFaf4/S69nwXlw/j/LPwj5gHn+P0vQqDCIgv4/tz3t2meM/j8kqzGFR5b+PycUBZ6/oP4/K33Ytjer/j8v5qvPr7X+P8CbgWoowP4/jrEHmUrL/j+2jDFJ7db+P91nW/mP4v4/prLjuFrt/j95JnLK6/j+P2FhJc5eBP8/YL80X/kO/z+e5O+mYBn/Py+axUHZI/8/13L3aXkt/z9+SymSGTf/P5XXWDi5QP8/G8YBUy9K/z82sDncPVT/P1GacWVMXv8/bYSp7lpo/z+FENmU+nH/P1eNy7pYev8/Kgq+4LaC/z9vOq6EFIv/P1ul+qbxkv8/Mu3qO6eb/z+NZ2x3yaL/P+nh7bLrqf8/V3/LezWw/z+SYjkm57b/PxFPEfkzv/8/ISy0sjvI/z8xCVdsQ9H/P7OZ96NK2v8/+cnnR6ji/z/kNDRqher/P9GfgIxi8v8/vgrNrj/6/z/UuoxoDgEAQAJ4TYafBABALzUOpDAIAEB0lhPzfQsAQI+vi5jCDgBAqsgDPgcSAEDG4XvjSxUAQOH684iQGABAmclibbUbAECFGooajh4AQLiRsghnIQBA7Ajb9j8kAEAfgAPlGCcAQAvRKpLxKQBA9yFSP8osAEDkcnnsoi8AQLKTyM8mMgBAOY4Wcqo0AEDBiGQULjcAQLBLUwAnOgBAaRrC5Es9AEDnqDoZfUAAQEEtnPXxQgBAUjmYXglFAEBiRZTHIEcAQHNRkDA4SQBAhF2MmU9LAECUaYgCZ00AQBoScnKNTwBAoQzAFBFSAECyGLx9KFQAQMMkuOY/VgBA1TC0T1dYAEAtY7H5bloAQIaVrqOGXABA3serTZ5eAEA2+qj3tWAAQI8spqHNYgBAFyf0Q1FlAECeIULm1GcAQCUckIhYagBArBbeKtxsAEAzESzNX28AQC3LRzcYcgBAn3O12jx1AEAQHCN+YXgAQPay4lryewBA07CpNVaAAECxrnAQuoQAQCbklqGoiABA0g09OmuMAEC+MbUExpAAQKkDyZzDlABAlNXcNMGYAEB/p/DMvpwAQPPyZRwbogBAZj7ba3enAEDbiVC706wAQNo42AMhsgBAoxNDUV23AEBt7q2embwAQDbJGOzVwQBAAKSDORLHAECCWO1FTswAQAQNV1KK0QBAh8HAXsbWAEAKdiprAtwAQNNQlbg+4QBAmysABnvmAECrLGyUt+sAQHUH1+Hz8ABAPuJBLzD2AEAIvax8bPsAQF7YSQJ0AAFAgyuWjw8FAUCBiLml/wkBQAn3ioKDDgFANMqaXoITAUCnFRCu3hgBQBthhf06HgFAjqz6TJcjAUAVG8wpGygBQFVjnMWeLAFAlatsYSIxAUDV8zz9pTUBQI3Cq+HKOAFARJEaxu87AUD8X4mqFD8BQLMu+I45QgFAn38fPBJFAUCL0Ebp6kcBQHUhbpbDSgFAYXKVQ5xNAUBNw7zwdFABQDkU5J1NUwFAmlNdhJJWAUD8ktZq11kBQBasThAcXQFAA/11vfRfAUCnJ5wpzWIBQE1SwpWlZQFAjZqSMSlqAUDO4mLNrG4BQA4rM2kwcwFAB00CxLN3AUCgU0zPTnwBQDdaltrpgAFAB81J8MqDAUCPx5eSToYBQF3o5nXSiAFAWtGGUcKLAUASoPU1544BQEFdtlN4kgFAbxp3cQmWAUCe1zePmpkBQEGDSuaXnQFAC161M9SiAUDUOCCBEKgBQJ8Ti85MrQFA3dxHVfWyAUAcpgTcnbgBQFtvwWJGvgFAmzh+6e7DAUDaATtwl8kBQBnL9/Y/zwFAKcxjhXzUAUA5zc8TudkBQHeWjJph3wFAtl9JIQrlAUA9TwfpsuoBQMM+xbBb8AFAjRkw/pf1AUBW9JpL1PoBQB/PBZkQAAJA6qlw5kwFAkA8lon6HAoCQJCCog7tDgJA4267Ir0TAkA3W9Q2jRgCQEMh7AldHQJAIh+z5MAhAkBEN6u27yUCQGZPo4geKgJAiWebWk0uAkCrf5MsfDICQFapOcU+NgJA3qOHZ8I4AkCsxNZKRjsCQKmtdiY2PgJAMKjEyLlAAkC3ohJrPUMCQECdYA3BRQJAxpeur0RIAkDE9NHFNE0CQMJR9dskUgJAeYgXsRRXAkAvvzmGBFwCQLYtC2OIYAJAPpzcPwxlAkB+5Kzbj2kCQL4sfXcTbgJAMXjyxm9zAkCkw2cWzHgCQBcP3WUofgJAi1pStYSDAkD+pccE4YgCQHDxPFQ9jgJAWisE3QWUAkBzOeynb5oCQI5H1HLZoAJAp1W8PUOnAkA2UvZBGa4CQOx9iDwutgJAoqkaN0O+AkBZ1awxWMYCQITvkGXZzgJArwl1mVrXAkCT/VeM298CQEcp6obw5wJA/VR8gQXwAkCygA58GvgCQGasoHYvAANAHdgycUQIA0DRj0ExWQ4DQKx2qOesFQNAhl0PngAdA0BgRHZUVCQDQDsr3QqoKwNAFBJEwfsyA0Dv+Kp3TzoDQMrfES6jQQNAkbp8e99GA0DRgzkCiEwDQBBN9ogwUgNAThazD9lXA0CO32+WgV0DQBTPLV4qYwNAU5jq5NJoA0BhjYYp2m0DQOVwdKdNcwNAe9ThyNh8A0CcSf2w94UDQCChbmlrjQNAo/jfId+UA0ApUFHaUpwDQDe5cFlaowNA7eQCVG+rA0CjEJVOhLMDQGpII7KwvQNAMICxFd3HA0D2tz95CdIDQL3vzdw13ANA+RWuec7mA0DATTzd+vADQP1zHHqT+wNAOZr8FiwGBEB2wNyzxBAEQLLmvFBdGwRAZfvuJmImBEAZECH9ZjEEQBFLVBRsPARAC4aHK3FHBEBDCYve+VYEQH6MjpGCZgRAtw+SRAt2BECpYQTcuIgEQFONdTJmmwRA4PyR+b6vBEBubK7AF8QEQITteE4E2ARAiu7DONnnBECP7w4jrvcEQNEWOqobEgVA",
          "dtype": "f8"
         },
         "xaxis": "x",
         "y": {
          "bdata": "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",
          "dtype": "f8"
         },
         "yaxis": "y"
        }
       ],
       "layout": {
        "legend": {
         "tracegroupgap": 0
        },
        "margin": {
         "t": 60
        },
        "template": {
         "data": {
          "bar": [
           {
            "error_x": {
             "color": "#2a3f5f"
            },
            "error_y": {
             "color": "#2a3f5f"
            },
            "marker": {
             "line": {
              "color": "#E5ECF6",
              "width": 0.5
             },
             "pattern": {
              "fillmode": "overlay",
              "size": 10,
              "solidity": 0.2
             }
            },
            "type": "bar"
           }
          ],
          "barpolar": [
           {
            "marker": {
             "line": {
              "color": "#E5ECF6",
              "width": 0.5
             },
             "pattern": {
              "fillmode": "overlay",
              "size": 10,
              "solidity": 0.2
             }
            },
            "type": "barpolar"
           }
          ],
          "carpet": [
           {
            "aaxis": {
             "endlinecolor": "#2a3f5f",
             "gridcolor": "white",
             "linecolor": "white",
             "minorgridcolor": "white",
             "startlinecolor": "#2a3f5f"
            },
            "baxis": {
             "endlinecolor": "#2a3f5f",
             "gridcolor": "white",
             "linecolor": "white",
             "minorgridcolor": "white",
             "startlinecolor": "#2a3f5f"
            },
            "type": "carpet"
           }
          ],
          "choropleth": [
           {
            "colorbar": {
             "outlinewidth": 0,
             "ticks": ""
            },
            "type": "choropleth"
           }
          ],
          "contour": [
           {
            "colorbar": {
             "outlinewidth": 0,
             "ticks": ""
            },
            "colorscale": [
             [
              0,
              "#0d0887"
             ],
             [
              0.1111111111111111,
              "#46039f"
             ],
             [
              0.2222222222222222,
              "#7201a8"
             ],
             [
              0.3333333333333333,
              "#9c179e"
             ],
             [
              0.4444444444444444,
              "#bd3786"
             ],
             [
              0.5555555555555556,
              "#d8576b"
             ],
             [
              0.6666666666666666,
              "#ed7953"
             ],
             [
              0.7777777777777778,
              "#fb9f3a"
             ],
             [
              0.8888888888888888,
              "#fdca26"
             ],
             [
              1,
              "#f0f921"
             ]
            ],
            "type": "contour"
           }
          ],
          "contourcarpet": [
           {
            "colorbar": {
             "outlinewidth": 0,
             "ticks": ""
            },
            "type": "contourcarpet"
           }
          ],
          "heatmap": [
           {
            "colorbar": {
             "outlinewidth": 0,
             "ticks": ""
            },
            "colorscale": [
             [
              0,
              "#0d0887"
             ],
             [
              0.1111111111111111,
              "#46039f"
             ],
             [
              0.2222222222222222,
              "#7201a8"
             ],
             [
              0.3333333333333333,
              "#9c179e"
             ],
             [
              0.4444444444444444,
              "#bd3786"
             ],
             [
              0.5555555555555556,
              "#d8576b"
             ],
             [
              0.6666666666666666,
              "#ed7953"
             ],
             [
              0.7777777777777778,
              "#fb9f3a"
             ],
             [
              0.8888888888888888,
              "#fdca26"
             ],
             [
              1,
              "#f0f921"
             ]
            ],
            "type": "heatmap"
           }
          ],
          "histogram": [
           {
            "marker": {
             "pattern": {
              "fillmode": "overlay",
              "size": 10,
              "solidity": 0.2
             }
            },
            "type": "histogram"
           }
          ],
          "histogram2d": [
           {
            "colorbar": {
             "outlinewidth": 0,
             "ticks": ""
            },
            "colorscale": [
             [
              0,
              "#0d0887"
             ],
             [
              0.1111111111111111,
              "#46039f"
             ],
             [
              0.2222222222222222,
              "#7201a8"
             ],
             [
              0.3333333333333333,
              "#9c179e"
             ],
             [
              0.4444444444444444,
              "#bd3786"
             ],
             [
              0.5555555555555556,
              "#d8576b"
             ],
             [
              0.6666666666666666,
              "#ed7953"
             ],
             [
              0.7777777777777778,
              "#fb9f3a"
             ],
             [
              0.8888888888888888,
              "#fdca26"
             ],
             [
              1,
              "#f0f921"
             ]
            ],
            "type": "histogram2d"
           }
          ],
          "histogram2dcontour": [
           {
            "colorbar": {
             "outlinewidth": 0,
             "ticks": ""
            },
            "colorscale": [
             [
              0,
              "#0d0887"
             ],
             [
              0.1111111111111111,
              "#46039f"
             ],
             [
              0.2222222222222222,
              "#7201a8"
             ],
             [
              0.3333333333333333,
              "#9c179e"
             ],
             [
              0.4444444444444444,
              "#bd3786"
             ],
             [
              0.5555555555555556,
              "#d8576b"
             ],
             [
              0.6666666666666666,
              "#ed7953"
             ],
             [
              0.7777777777777778,
              "#fb9f3a"
             ],
             [
              0.8888888888888888,
              "#fdca26"
             ],
             [
              1,
              "#f0f921"
             ]
            ],
            "type": "histogram2dcontour"
           }
          ],
          "mesh3d": [
           {
            "colorbar": {
             "outlinewidth": 0,
             "ticks": ""
            },
            "type": "mesh3d"
           }
          ],
          "parcoords": [
           {
            "line": {
             "colorbar": {
              "outlinewidth": 0,
              "ticks": ""
             }
            },
            "type": "parcoords"
           }
          ],
          "pie": [
           {
            "automargin": true,
            "type": "pie"
           }
          ],
          "scatter": [
           {
            "fillpattern": {
             "fillmode": "overlay",
             "size": 10,
             "solidity": 0.2
            },
            "type": "scatter"
           }
          ],
          "scatter3d": [
           {
            "line": {
             "colorbar": {
              "outlinewidth": 0,
              "ticks": ""
             }
            },
            "marker": {
             "colorbar": {
              "outlinewidth": 0,
              "ticks": ""
             }
            },
            "type": "scatter3d"
           }
          ],
          "scattercarpet": [
           {
            "marker": {
             "colorbar": {
              "outlinewidth": 0,
              "ticks": ""
             }
            },
            "type": "scattercarpet"
           }
          ],
          "scattergeo": [
           {
            "marker": {
             "colorbar": {
              "outlinewidth": 0,
              "ticks": ""
             }
            },
            "type": "scattergeo"
           }
          ],
          "scattergl": [
           {
            "marker": {
             "colorbar": {
              "outlinewidth": 0,
              "ticks": ""
             }
            },
            "type": "scattergl"
           }
          ],
          "scattermap": [
           {
            "marker": {
             "colorbar": {
              "outlinewidth": 0,
              "ticks": ""
             }
            },
            "type": "scattermap"
           }
          ],
          "scattermapbox": [
           {
            "marker": {
             "colorbar": {
              "outlinewidth": 0,
              "ticks": ""
             }
            },
            "type": "scattermapbox"
           }
          ],
          "scatterpolar": [
           {
            "marker": {
             "colorbar": {
              "outlinewidth": 0,
              "ticks": ""
             }
            },
            "type": "scatterpolar"
           }
          ],
          "scatterpolargl": [
           {
            "marker": {
             "colorbar": {
              "outlinewidth": 0,
              "ticks": ""
             }
            },
            "type": "scatterpolargl"
           }
          ],
          "scatterternary": [
           {
            "marker": {
             "colorbar": {
              "outlinewidth": 0,
              "ticks": ""
             }
            },
            "type": "scatterternary"
           }
          ],
          "surface": [
           {
            "colorbar": {
             "outlinewidth": 0,
             "ticks": ""
            },
            "colorscale": [
             [
              0,
              "#0d0887"
             ],
             [
              0.1111111111111111,
              "#46039f"
             ],
             [
              0.2222222222222222,
              "#7201a8"
             ],
             [
              0.3333333333333333,
              "#9c179e"
             ],
             [
              0.4444444444444444,
              "#bd3786"
             ],
             [
              0.5555555555555556,
              "#d8576b"
             ],
             [
              0.6666666666666666,
              "#ed7953"
             ],
             [
              0.7777777777777778,
              "#fb9f3a"
             ],
             [
              0.8888888888888888,
              "#fdca26"
             ],
             [
              1,
              "#f0f921"
             ]
            ],
            "type": "surface"
           }
          ],
          "table": [
           {
            "cells": {
             "fill": {
              "color": "#EBF0F8"
             },
             "line": {
              "color": "white"
             }
            },
            "header": {
             "fill": {
              "color": "#C8D4E3"
             },
             "line": {
              "color": "white"
             }
            },
            "type": "table"
           }
          ]
         },
         "layout": {
          "annotationdefaults": {
           "arrowcolor": "#2a3f5f",
           "arrowhead": 0,
           "arrowwidth": 1
          },
          "autotypenumbers": "strict",
          "coloraxis": {
           "colorbar": {
            "outlinewidth": 0,
            "ticks": ""
           }
          },
          "colorscale": {
           "diverging": [
            [
             0,
             "#8e0152"
            ],
            [
             0.1,
             "#c51b7d"
            ],
            [
             0.2,
             "#de77ae"
            ],
            [
             0.3,
             "#f1b6da"
            ],
            [
             0.4,
             "#fde0ef"
            ],
            [
             0.5,
             "#f7f7f7"
            ],
            [
             0.6,
             "#e6f5d0"
            ],
            [
             0.7,
             "#b8e186"
            ],
            [
             0.8,
             "#7fbc41"
            ],
            [
             0.9,
             "#4d9221"
            ],
            [
             1,
             "#276419"
            ]
           ],
           "sequential": [
            [
             0,
             "#0d0887"
            ],
            [
             0.1111111111111111,
             "#46039f"
            ],
            [
             0.2222222222222222,
             "#7201a8"
            ],
            [
             0.3333333333333333,
             "#9c179e"
            ],
            [
             0.4444444444444444,
             "#bd3786"
            ],
            [
             0.5555555555555556,
             "#d8576b"
            ],
            [
             0.6666666666666666,
             "#ed7953"
            ],
            [
             0.7777777777777778,
             "#fb9f3a"
            ],
            [
             0.8888888888888888,
             "#fdca26"
            ],
            [
             1,
             "#f0f921"
            ]
           ],
           "sequentialminus": [
            [
             0,
             "#0d0887"
            ],
            [
             0.1111111111111111,
             "#46039f"
            ],
            [
             0.2222222222222222,
             "#7201a8"
            ],
            [
             0.3333333333333333,
             "#9c179e"
            ],
            [
             0.4444444444444444,
             "#bd3786"
            ],
            [
             0.5555555555555556,
             "#d8576b"
            ],
            [
             0.6666666666666666,
             "#ed7953"
            ],
            [
             0.7777777777777778,
             "#fb9f3a"
            ],
            [
             0.8888888888888888,
             "#fdca26"
            ],
            [
             1,
             "#f0f921"
            ]
           ]
          },
          "colorway": [
           "#636efa",
           "#EF553B",
           "#00cc96",
           "#ab63fa",
           "#FFA15A",
           "#19d3f3",
           "#FF6692",
           "#B6E880",
           "#FF97FF",
           "#FECB52"
          ],
          "font": {
           "color": "#2a3f5f"
          },
          "geo": {
           "bgcolor": "white",
           "lakecolor": "white",
           "landcolor": "#E5ECF6",
           "showlakes": true,
           "showland": true,
           "subunitcolor": "white"
          },
          "hoverlabel": {
           "align": "left"
          },
          "hovermode": "closest",
          "mapbox": {
           "style": "light"
          },
          "paper_bgcolor": "white",
          "plot_bgcolor": "#E5ECF6",
          "polar": {
           "angularaxis": {
            "gridcolor": "white",
            "linecolor": "white",
            "ticks": ""
           },
           "bgcolor": "#E5ECF6",
           "radialaxis": {
            "gridcolor": "white",
            "linecolor": "white",
            "ticks": ""
           }
          },
          "scene": {
           "xaxis": {
            "backgroundcolor": "#E5ECF6",
            "gridcolor": "white",
            "gridwidth": 2,
            "linecolor": "white",
            "showbackground": true,
            "ticks": "",
            "zerolinecolor": "white"
           },
           "yaxis": {
            "backgroundcolor": "#E5ECF6",
            "gridcolor": "white",
            "gridwidth": 2,
            "linecolor": "white",
            "showbackground": true,
            "ticks": "",
            "zerolinecolor": "white"
           },
           "zaxis": {
            "backgroundcolor": "#E5ECF6",
            "gridcolor": "white",
            "gridwidth": 2,
            "linecolor": "white",
            "showbackground": true,
            "ticks": "",
            "zerolinecolor": "white"
           }
          },
          "shapedefaults": {
           "line": {
            "color": "#2a3f5f"
           }
          },
          "ternary": {
           "aaxis": {
            "gridcolor": "white",
            "linecolor": "white",
            "ticks": ""
           },
           "baxis": {
            "gridcolor": "white",
            "linecolor": "white",
            "ticks": ""
           },
           "bgcolor": "#E5ECF6",
           "caxis": {
            "gridcolor": "white",
            "linecolor": "white",
            "ticks": ""
           }
          },
          "title": {
           "x": 0.05
          },
          "xaxis": {
           "automargin": true,
           "gridcolor": "white",
           "linecolor": "white",
           "ticks": "",
           "title": {
            "standoff": 15
           },
           "zerolinecolor": "white",
           "zerolinewidth": 2
          },
          "yaxis": {
           "automargin": true,
           "gridcolor": "white",
           "linecolor": "white",
           "ticks": "",
           "title": {
            "standoff": 15
           },
           "zerolinecolor": "white",
           "zerolinewidth": 2
          }
         }
        },
        "xaxis": {
         "anchor": "y",
         "domain": [
          0,
          1
         ],
         "title": {
          "text": "socialization"
         }
        },
        "yaxis": {
         "anchor": "x",
         "domain": [
          0,
          1
         ],
         "title": {
          "text": "aggressiveness_dominance_score"
         }
        }
       }
      }
     },
     "metadata": {},
     "output_type": "display_data"
    }
   ],
   "source": [
    "\n",
    "soc = dogs[['socialization', 'aggressiveness_dominance_score']]\n",
    "# soc['aggressivness'] = dogs[aggressive_columns[0]] + dogs[aggressive_columns[1]] + dogs[aggressive_columns[2]]\n",
    "soc = soc.sort_values(by='socialization').dropna()\n",
    "soc = soc.rolling(30).mean()\n",
    "fig = px.line(data_frame=soc, x='socialization', y='aggressiveness_dominance_score')\n",
    "fig.show()"
   ]
  },
  {
   "cell_type": "markdown",
   "id": "e8ba1faa",
   "metadata": {},
   "source": [
    "Celkom zaujímavo socializácia moc nevplýva na agresivitu."
   ]
  },
  {
   "cell_type": "markdown",
   "id": "af5033ac",
   "metadata": {},
   "source": [
    "## Váha u psov a ich agresivita\n",
    "noro sem to mozes vlepit"
   ]
  },
  {
   "cell_type": "code",
   "execution_count": null,
   "id": "3a063a19",
   "metadata": {},
   "outputs": [],
   "source": []
  },
  {
   "cell_type": "markdown",
   "id": "4a056c83",
   "metadata": {},
   "source": [
    "## Strach u agresivnych psov"
   ]
  },
  {
   "cell_type": "markdown",
   "id": "9bb27f13",
   "metadata": {},
   "source": [
    "### Strach z ludi"
   ]
  },
  {
   "cell_type": "code",
   "execution_count": null,
   "id": "d6d6abf0",
   "metadata": {},
   "outputs": [],
   "source": []
  },
  {
   "cell_type": "markdown",
   "id": "0a090aba",
   "metadata": {},
   "source": [
    "## Je väčšia pravdepodobnosť, že pes je agresívnejší, ak nie je od chovateľa ?"
   ]
  },
  {
   "cell_type": "code",
   "execution_count": 15,
   "id": "62596b41",
   "metadata": {},
   "outputs": [
    {
     "name": "stderr",
     "output_type": "stream",
     "text": [
      "c:\\Users\\darkk\\.pyenv\\pyenv-win\\versions\\3.13.0\\Lib\\site-packages\\seaborn\\matrix.py:560: UserWarning:\n",
      "\n",
      "Clustering large matrix with scipy. Installing `fastcluster` may give better performance.\n",
      "\n",
      "c:\\Users\\darkk\\.pyenv\\pyenv-win\\versions\\3.13.0\\Lib\\site-packages\\seaborn\\matrix.py:560: UserWarning:\n",
      "\n",
      "Clustering large matrix with scipy. Installing `fastcluster` may give better performance.\n",
      "\n"
     ]
    },
    {
     "data": {
      "text/plain": [
       "<seaborn.matrix.ClusterGrid at 0x1f537a289e0>"
      ]
     },
     "execution_count": 15,
     "metadata": {},
     "output_type": "execute_result"
    },
    {
     "data": {
      "image/png": "[encoded data removed]",
      "text/plain": [
       "<Figure size 1000x600 with 4 Axes>"
      ]
     },
     "metadata": {},
     "output_type": "display_data"
    }
   ],
   "source": [
    "STRANGER_PHOBIAS = ['Stranger_withdraw',\n",
    " 'Stranger_bark',\n",
    " 'Stranger_growl',\n",
    " 'Stranger_taillow',\n",
    " 'Stranger_staynear',\n",
    " 'Stranger_notwilling',\n",
    " 'Stranger_enthusiastic',\n",
    " 'Stranger_indifferent',\n",
    " 'Stranger_lowposture',\n",
    " 'Stranger_moveaway',\n",
    " 'Stranger_suspicious']\n",
    "\n",
    "dogs_vs_strangers = dogs[STRANGER_PHOBIAS].dropna().transpose()\n",
    "sns.clustermap(dogs_vs_strangers, xticklabels=False, cmap='YlOrBr', figsize=(10,6))\n"
   ]
  },
  {
   "cell_type": "markdown",
   "id": "46b8f8de",
   "metadata": {},
   "source": [
    "1. pes bude pravdepodobne vrcat, ked ma chvost medzi nohami a je skrceny\n",
    "2. stranger moveaway / withdraw / suspicious su velmi podobne, a asi aj preto to tak ludia v dotaznikoch vyplnili\n",
    "3. pes steka, ked je notwilling a suspicious"
   ]
  }
 ],
 "metadata": {
  "kernelspec": {
   "display_name": "3.13.0",
   "language": "python",
   "name": "python3"
  },
  "language_info": {
   "codemirror_mode": {
    "name": "ipython",
    "version": 3
   },
   "file_extension": ".py",
   "mimetype": "text/x-python",
   "name": "python",
   "nbconvert_exporter": "python",
   "pygments_lexer": "ipython3",
   "version": "3.13.0"
  }
 },
 "nbformat": 4,
 "nbformat_minor": 5
}
