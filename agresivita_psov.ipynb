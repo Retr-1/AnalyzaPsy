{
 "cells": [
  {
   "cell_type": "code",
   "execution_count": 1,
   "id": "b1f98c23",
   "metadata": {},
   "outputs": [],
   "source": [
    "import pandas as pd\n",
    "import seaborn as sns\n",
    "import matplotlib.pyplot as plt\n",
    "import plotly.express as px\n",
    "import plotly.graph_objects as go"
   ]
  },
  {
   "cell_type": "code",
   "execution_count": 2,
   "id": "debb2896",
   "metadata": {},
   "outputs": [],
   "source": [
    "# Load data\n",
    "with open('data-for-publication.xlsx', 'rb') as f:\n",
    "    dogs = pd.read_excel(f, sheet_name='Dataset', header=0)"
   ]
  },
  {
   "cell_type": "markdown",
   "id": "748d71f0",
   "metadata": {},
   "source": [
    "# Čo spôsobuje agresivitu u psov, respektíve aké sú znaky agresívnych psov ?\n",
    "(sem píšte všetky možné nápady a ich výsledky)"
   ]
  },
  {
   "cell_type": "markdown",
   "id": "86483f24",
   "metadata": {},
   "source": [
    "## Agresivita v závislosti od plemena"
   ]
  },
  {
   "cell_type": "code",
   "execution_count": 7,
   "id": "594cc7ec",
   "metadata": {},
   "outputs": [
    {
     "data": {
      "application/vnd.plotly.v1+json": {
       "config": {
        "plotlyServerURL": "https://plot.ly"
       },
       "data": [
        {
         "hovertemplate": "variable=Aggressive_dogs_samegender<br>value=%{x}<br>breed_group=%{y}<extra></extra>",
         "legendgroup": "Aggressive_dogs_samegender",
         "marker": {
          "color": "#636efa",
          "pattern": {
           "shape": ""
          }
         },
         "name": "Aggressive_dogs_samegender",
         "orientation": "h",
         "showlegend": true,
         "textposition": "auto",
         "type": "bar",
         "x": {
          "bdata": "RO8W16lG9j95dOA935j2P6uqqqqqqvY/O/SbrUO/+T9A2Hg0f7D5P7iyzyE1wfg/R7XlKmlU+z9cj8L1KFz7P5EHrqKdKf0/vHmE6jNt/T8T2LSfLIH9P/rGtAkoRf0/Wblxxegv/T9Xi5swv6v9P0VAfDQhL/w/UFQPGnnn/z9DeQ3lNZT8PwAAAAAAAP8/r66urq6u/j9oL6G9hPb8P7bWWmuttf4/LPnFkl8sAUDBomBRsCgAQHcZU74OSwBAfyLhlObF/z9Ob3rTm14AQDX2MAvIFwFAT3D0BEdPAED0dG6vJYcAQOsGU+SzbgBArbXWWmutAUDGhytaX3wAQM3MzMzMzABAmpmZmZlZAUDSHGmONEcCQHwXDqLHdwFAwLVE7m8tAUC66KKLLroAQMprKK+hPAFAuawYKOGNAkBAbCoNOfcBQC8cRI/vwgFA6IDdHmsZAkDl0CLb+X4CQK/yTHzcdwNAAAAAAADgA0DUmcYNjDoDQA5jtfW3BwZA5DiO4zgOA0AW01lMZzEFQAZbsAVbsAVASW0ltZXUBkA=",
          "dtype": "f8"
         },
         "xaxis": "x",
         "y": [
          "Labrador_Retriever",
          "Golden_Retriever",
          "Other_breed",
          "Bernese_Mountain_Dogs",
          "Shetland_Sheepdog",
          "Scenthounds",
          "Whippet",
          "Collie_Rough",
          "Northern_companion_spitz",
          "Pointers",
          "Schapendoes",
          "European_sighthounds",
          "Retrievers_flushing_dogs",
          "Mastiff_type_dogs",
          "Bichon_type_dogs",
          "Sled_dogs",
          "Other_companion_dogs",
          "Nova_Scotia_Duck_Tolling_Retriever",
          "White_Swiss_Shepherd_Dog",
          "Lagotto_Romagnolo_Romagna_Water_Dog",
          "Miniature_Schnauzer",
          "Finnish_Lapphund",
          "Collie_Smooth",
          "Dachshunds",
          "Poodles",
          "German_spitz_related",
          "Bull_type_terriers",
          "Pinschers_Schnauzers",
          "Brachycephalic_dogs",
          "Teacup_dogs",
          "Hunting_terriers",
          "Spanish_Water_Dog",
          "Border_Collie",
          "Yard_terriers",
          "Welsh_Corgis",
          "Middle_European_utility_dogs",
          "English_herders",
          "Livestock_guardian_dogs",
          "Australian_Shepherd",
          "Northern_hunting_spitz",
          "Primitive_sighthounds",
          "Mixed_breed",
          "Chinese_Crested_Dog",
          "Middle_European_herders",
          "Jack_Russell_Terrier",
          "Japanese_Asian_primitive",
          "Belgian_shepherd_dogs",
          "Lapponian_Herder",
          "Miniature_Pinscher",
          "Parson_type_terriers",
          "German_Shepherd_Dog",
          "Fighting_dogs"
         ],
         "yaxis": "y"
        },
        {
         "hovertemplate": "variable=Aggressive_people<br>value=%{x}<br>breed_group=%{y}<extra></extra>",
         "legendgroup": "Aggressive_people",
         "marker": {
          "color": "#EF553B",
          "pattern": {
           "shape": ""
          }
         },
         "name": "Aggressive_people",
         "orientation": "h",
         "showlegend": true,
         "textposition": "auto",
         "type": "bar",
         "x": {
          "bdata": "dmIndmIn8T+pCcZb2efwP1IxtzojFfM/ztah32wd8j/ti6jW2RfxPycYb2WfQ/I/Egu40x+x8D+gcnYLvxrzP1fRzpRef/E/ua9lssgB8j8jFXOrM1LxP5k2AaWol/E/426+V87c8j/Zz8P0cQ7yP83MzMzMzPM/ep7neZ7n8T+7EGa7EGbzP4gDHn844PE/ZzGdxXQW8z/3EtpLaC/1P51zzjnnnPM/1kdJ+K+B8T+VmEpMJabyP1VVVVVV1fM/Ut/ZqO9s9D9uuOGGG270P9YNpshn3fA//rSFBizp9T9yIepm0LLzPxX5rBtMkfM/a6211lpr8T/GGGOMMcb0P2IndmIndvI/hNpuNX2j8z9eQ3kN5TXyPxKICzUngfQ/c08jLPc09D9xPQrXo3D1P1VVVVVVVfU/v/aQy4qB8j9PTSr699T0P9tfan+p/fU/07z4Ewmn9D8AAAAAADD2P5U1ZU1ZU/I/u6KuqCvq8j8Icx6Xvv31P9HOlF5/cfI/HMdxHMdx+D/xcd8thf70PxphuacRlvU/1aY2talN9T8=",
          "dtype": "f8"
         },
         "xaxis": "x",
         "y": [
          "Labrador_Retriever",
          "Golden_Retriever",
          "Other_breed",
          "Bernese_Mountain_Dogs",
          "Shetland_Sheepdog",
          "Scenthounds",
          "Whippet",
          "Collie_Rough",
          "Northern_companion_spitz",
          "Pointers",
          "Schapendoes",
          "European_sighthounds",
          "Retrievers_flushing_dogs",
          "Mastiff_type_dogs",
          "Bichon_type_dogs",
          "Sled_dogs",
          "Other_companion_dogs",
          "Nova_Scotia_Duck_Tolling_Retriever",
          "White_Swiss_Shepherd_Dog",
          "Lagotto_Romagnolo_Romagna_Water_Dog",
          "Miniature_Schnauzer",
          "Finnish_Lapphund",
          "Collie_Smooth",
          "Dachshunds",
          "Poodles",
          "German_spitz_related",
          "Bull_type_terriers",
          "Pinschers_Schnauzers",
          "Brachycephalic_dogs",
          "Teacup_dogs",
          "Hunting_terriers",
          "Spanish_Water_Dog",
          "Border_Collie",
          "Yard_terriers",
          "Welsh_Corgis",
          "Middle_European_utility_dogs",
          "English_herders",
          "Livestock_guardian_dogs",
          "Australian_Shepherd",
          "Northern_hunting_spitz",
          "Primitive_sighthounds",
          "Mixed_breed",
          "Chinese_Crested_Dog",
          "Middle_European_herders",
          "Jack_Russell_Terrier",
          "Japanese_Asian_primitive",
          "Belgian_shepherd_dogs",
          "Lapponian_Herder",
          "Miniature_Pinscher",
          "Parson_type_terriers",
          "German_Shepherd_Dog",
          "Fighting_dogs"
         ],
         "yaxis": "y"
        },
        {
         "hovertemplate": "variable=Aggressive_dogs_oppositegender<br>value=%{x}<br>breed_group=%{y}<extra></extra>",
         "legendgroup": "Aggressive_dogs_oppositegender",
         "marker": {
          "color": "#00cc96",
          "pattern": {
           "shape": ""
          }
         },
         "name": "Aggressive_dogs_oppositegender",
         "orientation": "h",
         "showlegend": true,
         "textposition": "auto",
         "type": "bar",
         "x": {
          "bdata": "B/utNoam8z9dobmdyqPzP8NB9PguHPQ/1AjLPY2w9D+6VxKpLMj1P9nnkJpgvPU/etOb3vSm9z9VVVVVVVX1Px2b74Yf1fU/3fj31hGU9j+F9hLaS2j3PwTv+ca0Cfg/LMI/TvcA9z8dDMX8U3j3PxbFOOV2f/c/I+/8LU5r9j/T2pN/53L4P1VVVVVVVfg/5ijdvrJ69z8T2ktoL6H3PxZYYIEFFvg/O+NmoUnN9z9GwaJgUbD4P8cKhJF2rPg/BHZ7rGXo+D+dUaWdwif5P8Iz/Q26Xfs/Kz8hzspP+D+315JDXGX6P7nSvQFl4vo/kBB45gay+j+dn0oIyPn5P5q/mAGd+fs/mpmZmZkZ+j+ivIbyGsr5P+0b1r5h7fk/7m8tkftb+z9cj8L1KFz7P0OY7UKY7fo/cSsUt0Jx+z/hehSuR+H6P24nz+B28vw/OmC3x1qG/j8URVEURVH8P5uypqwpa/4/Ly8vLy8v/z8PbX+P3aH9P3+2WBm+Ef0/VVVVVVVV/T97CusprKcAQIb3wnvhvQBAv6Av6Av6AEA=",
          "dtype": "f8"
         },
         "xaxis": "x",
         "y": [
          "Labrador_Retriever",
          "Golden_Retriever",
          "Other_breed",
          "Bernese_Mountain_Dogs",
          "Shetland_Sheepdog",
          "Scenthounds",
          "Whippet",
          "Collie_Rough",
          "Northern_companion_spitz",
          "Pointers",
          "Schapendoes",
          "European_sighthounds",
          "Retrievers_flushing_dogs",
          "Mastiff_type_dogs",
          "Bichon_type_dogs",
          "Sled_dogs",
          "Other_companion_dogs",
          "Nova_Scotia_Duck_Tolling_Retriever",
          "White_Swiss_Shepherd_Dog",
          "Lagotto_Romagnolo_Romagna_Water_Dog",
          "Miniature_Schnauzer",
          "Finnish_Lapphund",
          "Collie_Smooth",
          "Dachshunds",
          "Poodles",
          "German_spitz_related",
          "Bull_type_terriers",
          "Pinschers_Schnauzers",
          "Brachycephalic_dogs",
          "Teacup_dogs",
          "Hunting_terriers",
          "Spanish_Water_Dog",
          "Border_Collie",
          "Yard_terriers",
          "Welsh_Corgis",
          "Middle_European_utility_dogs",
          "English_herders",
          "Livestock_guardian_dogs",
          "Australian_Shepherd",
          "Northern_hunting_spitz",
          "Primitive_sighthounds",
          "Mixed_breed",
          "Chinese_Crested_Dog",
          "Middle_European_herders",
          "Jack_Russell_Terrier",
          "Japanese_Asian_primitive",
          "Belgian_shepherd_dogs",
          "Lapponian_Herder",
          "Miniature_Pinscher",
          "Parson_type_terriers",
          "German_Shepherd_Dog",
          "Fighting_dogs"
         ],
         "yaxis": "y"
        }
       ],
       "layout": {
        "barmode": "relative",
        "legend": {
         "title": {
          "text": "variable"
         },
         "tracegroupgap": 0
        },
        "margin": {
         "t": 60
        },
        "template": {
         "data": {
          "bar": [
           {
            "error_x": {
             "color": "#2a3f5f"
            },
            "error_y": {
             "color": "#2a3f5f"
            },
            "marker": {
             "line": {
              "color": "#E5ECF6",
              "width": 0.5
             },
             "pattern": {
              "fillmode": "overlay",
              "size": 10,
              "solidity": 0.2
             }
            },
            "type": "bar"
           }
          ],
          "barpolar": [
           {
            "marker": {
             "line": {
              "color": "#E5ECF6",
              "width": 0.5
             },
             "pattern": {
              "fillmode": "overlay",
              "size": 10,
              "solidity": 0.2
             }
            },
            "type": "barpolar"
           }
          ],
          "carpet": [
           {
            "aaxis": {
             "endlinecolor": "#2a3f5f",
             "gridcolor": "white",
             "linecolor": "white",
             "minorgridcolor": "white",
             "startlinecolor": "#2a3f5f"
            },
            "baxis": {
             "endlinecolor": "#2a3f5f",
             "gridcolor": "white",
             "linecolor": "white",
             "minorgridcolor": "white",
             "startlinecolor": "#2a3f5f"
            },
            "type": "carpet"
           }
          ],
          "choropleth": [
           {
            "colorbar": {
             "outlinewidth": 0,
             "ticks": ""
            },
            "type": "choropleth"
           }
          ],
          "contour": [
           {
            "colorbar": {
             "outlinewidth": 0,
             "ticks": ""
            },
            "colorscale": [
             [
              0,
              "#0d0887"
             ],
             [
              0.1111111111111111,
              "#46039f"
             ],
             [
              0.2222222222222222,
              "#7201a8"
             ],
             [
              0.3333333333333333,
              "#9c179e"
             ],
             [
              0.4444444444444444,
              "#bd3786"
             ],
             [
              0.5555555555555556,
              "#d8576b"
             ],
             [
              0.6666666666666666,
              "#ed7953"
             ],
             [
              0.7777777777777778,
              "#fb9f3a"
             ],
             [
              0.8888888888888888,
              "#fdca26"
             ],
             [
              1,
              "#f0f921"
             ]
            ],
            "type": "contour"
           }
          ],
          "contourcarpet": [
           {
            "colorbar": {
             "outlinewidth": 0,
             "ticks": ""
            },
            "type": "contourcarpet"
           }
          ],
          "heatmap": [
           {
            "colorbar": {
             "outlinewidth": 0,
             "ticks": ""
            },
            "colorscale": [
             [
              0,
              "#0d0887"
             ],
             [
              0.1111111111111111,
              "#46039f"
             ],
             [
              0.2222222222222222,
              "#7201a8"
             ],
             [
              0.3333333333333333,
              "#9c179e"
             ],
             [
              0.4444444444444444,
              "#bd3786"
             ],
             [
              0.5555555555555556,
              "#d8576b"
             ],
             [
              0.6666666666666666,
              "#ed7953"
             ],
             [
              0.7777777777777778,
              "#fb9f3a"
             ],
             [
              0.8888888888888888,
              "#fdca26"
             ],
             [
              1,
              "#f0f921"
             ]
            ],
            "type": "heatmap"
           }
          ],
          "histogram": [
           {
            "marker": {
             "pattern": {
              "fillmode": "overlay",
              "size": 10,
              "solidity": 0.2
             }
            },
            "type": "histogram"
           }
          ],
          "histogram2d": [
           {
            "colorbar": {
             "outlinewidth": 0,
             "ticks": ""
            },
            "colorscale": [
             [
              0,
              "#0d0887"
             ],
             [
              0.1111111111111111,
              "#46039f"
             ],
             [
              0.2222222222222222,
              "#7201a8"
             ],
             [
              0.3333333333333333,
              "#9c179e"
             ],
             [
              0.4444444444444444,
              "#bd3786"
             ],
             [
              0.5555555555555556,
              "#d8576b"
             ],
             [
              0.6666666666666666,
              "#ed7953"
             ],
             [
              0.7777777777777778,
              "#fb9f3a"
             ],
             [
              0.8888888888888888,
              "#fdca26"
             ],
             [
              1,
              "#f0f921"
             ]
            ],
            "type": "histogram2d"
           }
          ],
          "histogram2dcontour": [
           {
            "colorbar": {
             "outlinewidth": 0,
             "ticks": ""
            },
            "colorscale": [
             [
              0,
              "#0d0887"
             ],
             [
              0.1111111111111111,
              "#46039f"
             ],
             [
              0.2222222222222222,
              "#7201a8"
             ],
             [
              0.3333333333333333,
              "#9c179e"
             ],
             [
              0.4444444444444444,
              "#bd3786"
             ],
             [
              0.5555555555555556,
              "#d8576b"
             ],
             [
              0.6666666666666666,
              "#ed7953"
             ],
             [
              0.7777777777777778,
              "#fb9f3a"
             ],
             [
              0.8888888888888888,
              "#fdca26"
             ],
             [
              1,
              "#f0f921"
             ]
            ],
            "type": "histogram2dcontour"
           }
          ],
          "mesh3d": [
           {
            "colorbar": {
             "outlinewidth": 0,
             "ticks": ""
            },
            "type": "mesh3d"
           }
          ],
          "parcoords": [
           {
            "line": {
             "colorbar": {
              "outlinewidth": 0,
              "ticks": ""
             }
            },
            "type": "parcoords"
           }
          ],
          "pie": [
           {
            "automargin": true,
            "type": "pie"
           }
          ],
          "scatter": [
           {
            "fillpattern": {
             "fillmode": "overlay",
             "size": 10,
             "solidity": 0.2
            },
            "type": "scatter"
           }
          ],
          "scatter3d": [
           {
            "line": {
             "colorbar": {
              "outlinewidth": 0,
              "ticks": ""
             }
            },
            "marker": {
             "colorbar": {
              "outlinewidth": 0,
              "ticks": ""
             }
            },
            "type": "scatter3d"
           }
          ],
          "scattercarpet": [
           {
            "marker": {
             "colorbar": {
              "outlinewidth": 0,
              "ticks": ""
             }
            },
            "type": "scattercarpet"
           }
          ],
          "scattergeo": [
           {
            "marker": {
             "colorbar": {
              "outlinewidth": 0,
              "ticks": ""
             }
            },
            "type": "scattergeo"
           }
          ],
          "scattergl": [
           {
            "marker": {
             "colorbar": {
              "outlinewidth": 0,
              "ticks": ""
             }
            },
            "type": "scattergl"
           }
          ],
          "scattermap": [
           {
            "marker": {
             "colorbar": {
              "outlinewidth": 0,
              "ticks": ""
             }
            },
            "type": "scattermap"
           }
          ],
          "scattermapbox": [
           {
            "marker": {
             "colorbar": {
              "outlinewidth": 0,
              "ticks": ""
             }
            },
            "type": "scattermapbox"
           }
          ],
          "scatterpolar": [
           {
            "marker": {
             "colorbar": {
              "outlinewidth": 0,
              "ticks": ""
             }
            },
            "type": "scatterpolar"
           }
          ],
          "scatterpolargl": [
           {
            "marker": {
             "colorbar": {
              "outlinewidth": 0,
              "ticks": ""
             }
            },
            "type": "scatterpolargl"
           }
          ],
          "scatterternary": [
           {
            "marker": {
             "colorbar": {
              "outlinewidth": 0,
              "ticks": ""
             }
            },
            "type": "scatterternary"
           }
          ],
          "surface": [
           {
            "colorbar": {
             "outlinewidth": 0,
             "ticks": ""
            },
            "colorscale": [
             [
              0,
              "#0d0887"
             ],
             [
              0.1111111111111111,
              "#46039f"
             ],
             [
              0.2222222222222222,
              "#7201a8"
             ],
             [
              0.3333333333333333,
              "#9c179e"
             ],
             [
              0.4444444444444444,
              "#bd3786"
             ],
             [
              0.5555555555555556,
              "#d8576b"
             ],
             [
              0.6666666666666666,
              "#ed7953"
             ],
             [
              0.7777777777777778,
              "#fb9f3a"
             ],
             [
              0.8888888888888888,
              "#fdca26"
             ],
             [
              1,
              "#f0f921"
             ]
            ],
            "type": "surface"
           }
          ],
          "table": [
           {
            "cells": {
             "fill": {
              "color": "#EBF0F8"
             },
             "line": {
              "color": "white"
             }
            },
            "header": {
             "fill": {
              "color": "#C8D4E3"
             },
             "line": {
              "color": "white"
             }
            },
            "type": "table"
           }
          ]
         },
         "layout": {
          "annotationdefaults": {
           "arrowcolor": "#2a3f5f",
           "arrowhead": 0,
           "arrowwidth": 1
          },
          "autotypenumbers": "strict",
          "coloraxis": {
           "colorbar": {
            "outlinewidth": 0,
            "ticks": ""
           }
          },
          "colorscale": {
           "diverging": [
            [
             0,
             "#8e0152"
            ],
            [
             0.1,
             "#c51b7d"
            ],
            [
             0.2,
             "#de77ae"
            ],
            [
             0.3,
             "#f1b6da"
            ],
            [
             0.4,
             "#fde0ef"
            ],
            [
             0.5,
             "#f7f7f7"
            ],
            [
             0.6,
             "#e6f5d0"
            ],
            [
             0.7,
             "#b8e186"
            ],
            [
             0.8,
             "#7fbc41"
            ],
            [
             0.9,
             "#4d9221"
            ],
            [
             1,
             "#276419"
            ]
           ],
           "sequential": [
            [
             0,
             "#0d0887"
            ],
            [
             0.1111111111111111,
             "#46039f"
            ],
            [
             0.2222222222222222,
             "#7201a8"
            ],
            [
             0.3333333333333333,
             "#9c179e"
            ],
            [
             0.4444444444444444,
             "#bd3786"
            ],
            [
             0.5555555555555556,
             "#d8576b"
            ],
            [
             0.6666666666666666,
             "#ed7953"
            ],
            [
             0.7777777777777778,
             "#fb9f3a"
            ],
            [
             0.8888888888888888,
             "#fdca26"
            ],
            [
             1,
             "#f0f921"
            ]
           ],
           "sequentialminus": [
            [
             0,
             "#0d0887"
            ],
            [
             0.1111111111111111,
             "#46039f"
            ],
            [
             0.2222222222222222,
             "#7201a8"
            ],
            [
             0.3333333333333333,
             "#9c179e"
            ],
            [
             0.4444444444444444,
             "#bd3786"
            ],
            [
             0.5555555555555556,
             "#d8576b"
            ],
            [
             0.6666666666666666,
             "#ed7953"
            ],
            [
             0.7777777777777778,
             "#fb9f3a"
            ],
            [
             0.8888888888888888,
             "#fdca26"
            ],
            [
             1,
             "#f0f921"
            ]
           ]
          },
          "colorway": [
           "#636efa",
           "#EF553B",
           "#00cc96",
           "#ab63fa",
           "#FFA15A",
           "#19d3f3",
           "#FF6692",
           "#B6E880",
           "#FF97FF",
           "#FECB52"
          ],
          "font": {
           "color": "#2a3f5f"
          },
          "geo": {
           "bgcolor": "white",
           "lakecolor": "white",
           "landcolor": "#E5ECF6",
           "showlakes": true,
           "showland": true,
           "subunitcolor": "white"
          },
          "hoverlabel": {
           "align": "left"
          },
          "hovermode": "closest",
          "mapbox": {
           "style": "light"
          },
          "paper_bgcolor": "white",
          "plot_bgcolor": "#E5ECF6",
          "polar": {
           "angularaxis": {
            "gridcolor": "white",
            "linecolor": "white",
            "ticks": ""
           },
           "bgcolor": "#E5ECF6",
           "radialaxis": {
            "gridcolor": "white",
            "linecolor": "white",
            "ticks": ""
           }
          },
          "scene": {
           "xaxis": {
            "backgroundcolor": "#E5ECF6",
            "gridcolor": "white",
            "gridwidth": 2,
            "linecolor": "white",
            "showbackground": true,
            "ticks": "",
            "zerolinecolor": "white"
           },
           "yaxis": {
            "backgroundcolor": "#E5ECF6",
            "gridcolor": "white",
            "gridwidth": 2,
            "linecolor": "white",
            "showbackground": true,
            "ticks": "",
            "zerolinecolor": "white"
           },
           "zaxis": {
            "backgroundcolor": "#E5ECF6",
            "gridcolor": "white",
            "gridwidth": 2,
            "linecolor": "white",
            "showbackground": true,
            "ticks": "",
            "zerolinecolor": "white"
           }
          },
          "shapedefaults": {
           "line": {
            "color": "#2a3f5f"
           }
          },
          "ternary": {
           "aaxis": {
            "gridcolor": "white",
            "linecolor": "white",
            "ticks": ""
           },
           "baxis": {
            "gridcolor": "white",
            "linecolor": "white",
            "ticks": ""
           },
           "bgcolor": "#E5ECF6",
           "caxis": {
            "gridcolor": "white",
            "linecolor": "white",
            "ticks": ""
           }
          },
          "title": {
           "x": 0.05
          },
          "xaxis": {
           "automargin": true,
           "gridcolor": "white",
           "linecolor": "white",
           "ticks": "",
           "title": {
            "standoff": 15
           },
           "zerolinecolor": "white",
           "zerolinewidth": 2
          },
          "yaxis": {
           "automargin": true,
           "gridcolor": "white",
           "linecolor": "white",
           "ticks": "",
           "title": {
            "standoff": 15
           },
           "zerolinecolor": "white",
           "zerolinewidth": 2
          }
         }
        },
        "xaxis": {
         "anchor": "y",
         "domain": [
          0,
          1
         ],
         "title": {
          "text": "value"
         }
        },
        "yaxis": {
         "anchor": "x",
         "domain": [
          0,
          1
         ],
         "title": {
          "text": "breed_group"
         }
        }
       }
      }
     },
     "metadata": {},
     "output_type": "display_data"
    }
   ],
   "source": [
    "aggressive_columns = ['Aggressive_dogs_samegender', 'Aggressive_people', 'Aggressive_dogs_oppositegender', 'aggressiveness_dominance_score']\n",
    "\n",
    "means = dogs.groupby('breed_group')[aggressive_columns].mean().reset_index()\n",
    "means['Aggressive_columns_sum'] = means[aggressive_columns[0]] + means[aggressive_columns[1]] + means[aggressive_columns[2]]\n",
    "means.sort_values(by='Aggressive_columns_sum', inplace=True)\n",
    "fig = px.bar(means, y='breed_group', x=aggressive_columns[:-1])\n",
    "\n",
    "fig.show()"
   ]
  },
  {
   "cell_type": "markdown",
   "id": "77f13d5a",
   "metadata": {},
   "source": [
    "Ako sme mohli predpokladať, tak bojové plemená majú najväčšiu agresivitu, zaujímavé je (aspoň pre mňa), že nemecký ovčiak berie 2. miesto"
   ]
  },
  {
   "cell_type": "markdown",
   "id": "8f2fbede",
   "metadata": {},
   "source": [
    "### Porovnanie znakov psov patriacich do plemien Fighting_breeds vs Larador_Retriever. V akých znakoch sa značne odlišujú ?"
   ]
  },
  {
   "cell_type": "markdown",
   "id": "4408f7ab",
   "metadata": {},
   "source": [
    "## Vply socializácie psa na jeho agresivitu\n",
    "(predpoklad: menšia socializácia, väčšia agresivita)"
   ]
  },
  {
   "cell_type": "code",
   "execution_count": null,
   "id": "93ec6ec9",
   "metadata": {},
   "outputs": [],
   "source": []
  },
  {
   "cell_type": "markdown",
   "id": "af5033ac",
   "metadata": {},
   "source": [
    "## Váha u psov a ich agresivita\n",
    "noro sem to mozes vlepit"
   ]
  },
  {
   "cell_type": "code",
   "execution_count": null,
   "id": "3a063a19",
   "metadata": {},
   "outputs": [],
   "source": []
  }
 ],
 "metadata": {
  "kernelspec": {
   "display_name": "Python 3",
   "language": "python",
   "name": "python3"
  },
  "language_info": {
   "codemirror_mode": {
    "name": "ipython",
    "version": 3
   },
   "file_extension": ".py",
   "mimetype": "text/x-python",
   "name": "python",
   "nbconvert_exporter": "python",
   "pygments_lexer": "ipython3",
   "version": "3.12.0"
  }
 },
 "nbformat": 4,
 "nbformat_minor": 5
}
