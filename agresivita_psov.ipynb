{
 "cells": [
  {
   "cell_type": "code",
   "execution_count": null,
   "id": "b1f98c23",
   "metadata": {},
   "outputs": [],
   "source": [
    "import pandas as pd\n",
    "import seaborn as sns\n",
    "import matplotlib.pyplot as plt\n",
    "import plotly.express as px\n",
    "import plotly.graph_objects as go\n",
    "from IPython.display import Markdown\n",
    "import numpy as np"
   ]
  },
  {
   "cell_type": "code",
   "execution_count": null,
   "id": "debb2896",
   "metadata": {},
   "outputs": [],
   "source": [
    "# Load data\n",
    "with open('psy_data.csv', 'r', encoding='utf-8') as f:\n",
    "    # dogs = pd.read_excel(f, sheet_name='Dataset', header=0)\n",
    "    dogs = pd.read_csv(f, header=0, index_col=0)\n"
   ]
  },
  {
   "cell_type": "code",
   "execution_count": null,
   "id": "ede76751",
   "metadata": {},
   "outputs": [],
   "source": [
    "with open('./datasets/Dog Breads Around The World.csv', 'r') as f:\n",
    "    breeds_around_world = pd.read_csv(f)"
   ]
  },
  {
   "cell_type": "markdown",
   "id": "748d71f0",
   "metadata": {},
   "source": [
    "# Čo spôsobuje agresivitu u psov, respektíve aké sú znaky agresívnych psov ?\n",
    "(Sem píšte všetky možné nápady a ich výsledky. Odporúčám písať obyčajné .py scripty a potom ich len importnete (nie from ... import *) v príslušnej code bunke, alebo píšte kód tak, aby neprepisoval premenne inych, rozhodne nie premennu dogs, mozete pouzit funkcie)"
   ]
  },
  {
   "cell_type": "markdown",
   "id": "86483f24",
   "metadata": {},
   "source": [
    "## Agresivita v závislosti od plemena"
   ]
  },
  {
   "cell_type": "code",
   "execution_count": null,
   "id": "594cc7ec",
   "metadata": {},
   "outputs": [],
   "source": [
    "aggressive_columns = ['Aggressive_dogs_samegender', 'Aggressive_people', 'Aggressive_dogs_oppositegender', 'aggressiveness_dominance_score']\n",
    "\n",
    "means = dogs.groupby('breed_group')[aggressive_columns].mean().reset_index()\n",
    "means['Aggressive_columns_sum'] = means[aggressive_columns[0]] + means[aggressive_columns[1]] + means[aggressive_columns[2]]\n",
    "means.sort_values(by='Aggressive_columns_sum', inplace=True)\n",
    "fig = px.bar(means, y='breed_group', x=aggressive_columns[:-1])\n",
    "\n",
    "fig.show()"
   ]
  },
  {
   "cell_type": "markdown",
   "id": "77f13d5a",
   "metadata": {},
   "source": [
    "Ako sme mohli predpokladať, tak bojové plemená majú najväčšiu agresivitu, zaujímavé je (aspoň pre mňa), že nemecký ovčiak berie 2. miesto"
   ]
  },
  {
   "cell_type": "markdown",
   "id": "8f2fbede",
   "metadata": {},
   "source": [
    "### Porovnanie znakov psov patriacich do plemien Fighting_breeds vs Larador_Retriever. V akých znakoch sa značne odlišujú ?"
   ]
  },
  {
   "cell_type": "markdown",
   "id": "4408f7ab",
   "metadata": {},
   "source": [
    "## Vply socializácie psa na jeho agresivitu\n",
    "(predpoklad: menšia socializácia, väčšia agresivita)"
   ]
  },
  {
   "cell_type": "code",
   "execution_count": null,
   "id": "93ec6ec9",
   "metadata": {},
   "outputs": [],
   "source": [
    "\n",
    "soc = dogs[['socialization', 'aggressiveness_dominance_score']]\n",
    "# soc['aggressivness'] = dogs[aggressive_columns[0]] + dogs[aggressive_columns[1]] + dogs[aggressive_columns[2]]\n",
    "soc = soc.sort_values(by='socialization').dropna()\n",
    "soc = soc.rolling(200).mean()\n",
    "fig = px.line(data_frame=soc, x='socialization', y='aggressiveness_dominance_score')\n",
    "fig.show()"
   ]
  },
  {
   "cell_type": "markdown",
   "id": "e8ba1faa",
   "metadata": {},
   "source": [
    "So zvysujucou socializaciou trochu klesa agresivita."
   ]
  },
  {
   "cell_type": "markdown",
   "id": "9101cf5e",
   "metadata": {},
   "source": [
    "### Agresivita voci ludom"
   ]
  },
  {
   "cell_type": "markdown",
   "id": "d1860d97",
   "metadata": {},
   "source": [
    "#### Pri socializacii\n",
    "* ludmi\n",
    "* detmi\n",
    "* v meste\n",
    "* verejnou dopravou\n",
    "* psom"
   ]
  },
  {
   "cell_type": "markdown",
   "id": "5bebe6fd",
   "metadata": {},
   "source": [
    "##### Socializacia dietatom pri malom veku\n",
    "Hypoteza: zla skusenost v malom veku pri socializacii dietatom zanecha zlu skusenost"
   ]
  },
  {
   "cell_type": "code",
   "execution_count": null,
   "id": "9c0c3712",
   "metadata": {},
   "outputs": [],
   "source": [
    "# fig, axe = plt.subplots(2,2, figsize=(15,10))\n",
    "# for i,x in enumerate(['Socialization_people', 'Socialization_dogs', 'Socialization_city', 'Socialization_public.transportation']):\n",
    "#     ax = sns.boxplot(A, x=x, y='stranger_aggression_score', ax=axe[i//2,i%2])\n",
    "#     ax.set_title(x)\n",
    "#     ax.set_xlabel(\"\")"
   ]
  },
  {
   "cell_type": "code",
   "execution_count": null,
   "id": "b9bf44e9",
   "metadata": {},
   "outputs": [],
   "source": [
    "A = dogs.copy()\n",
    "A['Socialization_people'] = (dogs[['Socialization_men', 'Socialization_women', 'Socialization_children']].sum(axis=1) / 3).apply('round')\n",
    "# A['Socialization_urban'] = (dogs[['Socialization_city', 'Socialization_public.transportation']].sum(axis=1) / 2).apply('round')\n",
    "# A['Socialization_public.transportation']\n",
    "fig, axe = plt.subplots(2,2, figsize=(15,10))\n",
    "for i,x in enumerate(['Socialization_people', 'Socialization_dogs', 'Socialization_city', 'Socialization_public.transportation']):\n",
    "    ax = sns.boxplot(A, x=x, y='stranger_aggression_score', ax=axe[i//2,i%2])\n",
    "    ax.set_title(x)\n",
    "    ax.set_xlabel(\"\")"
   ]
  },
  {
   "cell_type": "markdown",
   "id": "dcfcaced",
   "metadata": {},
   "source": [
    "### Agresivita voci psom"
   ]
  },
  {
   "cell_type": "code",
   "execution_count": null,
   "id": "cc0ba871",
   "metadata": {},
   "outputs": [],
   "source": [
    "A = dogs.copy()\n",
    "A['Socialization_people'] = (dogs[['Socialization_men', 'Socialization_women', 'Socialization_children']].sum(axis=1) / 3).apply('round')\n",
    "A['Socialization_urban'] = (dogs[['Socialization_city', 'Socialization_public.transportation']].sum(axis=1) / 2).apply('round')\n",
    "\n",
    "fig, axe = plt.subplots(2,2, figsize=(15,10))\n",
    "for i,x in enumerate(['Socialization_people', 'Socialization_children', 'Socialization_dogs', 'Socialization_urban']):\n",
    "    ax = sns.boxplot(A, x=x, y='dog_aggression_score', ax=axe[i//2,i%2])\n",
    "    ax.set_title(x)\n",
    "    ax.set_xlabel(\"\")"
   ]
  },
  {
   "cell_type": "markdown",
   "id": "af5033ac",
   "metadata": {},
   "source": [
    "## Váha u psov a ich agresivita\n",
    "noro sem to mozes vlepit"
   ]
  },
  {
   "cell_type": "code",
   "execution_count": null,
   "id": "3a063a19",
   "metadata": {},
   "outputs": [],
   "source": []
  },
  {
   "cell_type": "markdown",
   "id": "4a056c83",
   "metadata": {},
   "source": [
    "## Boja sa agresívne psy viac ?"
   ]
  },
  {
   "cell_type": "markdown",
   "id": "14370dc2",
   "metadata": {},
   "source": [
    "### Strach od ludi"
   ]
  },
  {
   "cell_type": "code",
   "execution_count": null,
   "id": "6bfd1938",
   "metadata": {},
   "outputs": [],
   "source": [
    "STRANGER_PHOBIAS = ['Stranger_withdraw',\n",
    " 'Stranger_bark',\n",
    " 'Stranger_growl',\n",
    " 'Stranger_taillow',\n",
    " 'Stranger_staynear',\n",
    " 'Stranger_notwilling',\n",
    " 'Stranger_enthusiastic',\n",
    " 'Stranger_indifferent',\n",
    " 'Stranger_lowposture',\n",
    " 'Stranger_moveaway',\n",
    " 'Stranger_suspicious']\n",
    "\n",
    "dogs_vs_strangers = dogs[STRANGER_PHOBIAS].dropna().transpose()\n",
    "sns.clustermap(dogs_vs_strangers, xticklabels=False, cmap='YlOrBr', figsize=(10,6))\n"
   ]
  },
  {
   "cell_type": "markdown",
   "id": "caa0b192",
   "metadata": {},
   "source": [
    "1. pes bude pravdepodobne vrcat, ked ma chvost medzi nohami a je skrceny\n",
    "2. stranger moveaway / withdraw / suspicious su velmi podobne, a asi aj preto to tak ludia v dotaznikoch vyplnili\n",
    "3. pes steka, ked je notwilling a suspicious\n",
    "4. pes ak je pes stranger enthusiastic, tak vsetky ostatne su nizke\n",
    "5. ak pes steka na cudzich, tak aj je pravdepodobne, ze bude moveaway, notwilling, suspicious"
   ]
  },
  {
   "cell_type": "markdown",
   "id": "77588738",
   "metadata": {},
   "source": [
    "### Fear Stranger"
   ]
  },
  {
   "cell_type": "code",
   "execution_count": null,
   "id": "3f62cbfa",
   "metadata": {},
   "outputs": [],
   "source": [
    "display(dogs.groupby('fear_stranger')['stranger_aggression_score'].describe())\n",
    "display(Markdown('**Ak sa pes boji cudzich ludi, tak je vacsia sanca, ze je agresivnejsi**'))"
   ]
  },
  {
   "cell_type": "code",
   "execution_count": null,
   "id": "e6a7dcf7",
   "metadata": {},
   "outputs": [],
   "source": [
    "px.scatter(dogs, x='fearfulness_score', y='stranger_aggression_score').show()\n",
    "\n",
    "A = pd.concat([dogs, pd.cut(dogs['fearfulness_score'], np.linspace(-2, 5, 50)).rename('interval')], axis=1)\n",
    "\n",
    "B = A.groupby('interval')['stranger_aggression_score'].mean()\n",
    "axe = sns.barplot(B)\n",
    "\n",
    "C = pd.concat([A, A.groupby('interval')['stranger_aggression_score'].transform('count').rename('CCC')], axis=1)\n",
    "axe = sns.stripplot(C.loc[C['CCC'] < 10], x='interval', y='stranger_aggression_score', color='red', ax=axe)\n",
    "axe.set_xticklabels('')\n",
    "axe.set_xlabel('fearfulness_score')\n",
    "pass"
   ]
  },
  {
   "cell_type": "markdown",
   "id": "0a090aba",
   "metadata": {},
   "source": [
    "## Je väčšia pravdepodobnosť, že pes je agresívnejší, ak nie je od chovateľa ?"
   ]
  },
  {
   "cell_type": "code",
   "execution_count": null,
   "id": "62596b41",
   "metadata": {},
   "outputs": [],
   "source": [
    "# px.bar(dogs.groupby('obtained_from')['aggressivness_score'])\n",
    "sns.boxplot(dogs, x='obtained_from', y='aggressiveness_dominance_score')\n",
    "display(Markdown('**Priemerna agresivita:**'))\n",
    "display(dogs.groupby('obtained_from')['aggressiveness_dominance_score'].mean())"
   ]
  },
  {
   "cell_type": "markdown",
   "id": "78f61675",
   "metadata": {},
   "source": [
    "vyzera, ze zachranene psy su o trosku agresivnejsie."
   ]
  },
  {
   "cell_type": "markdown",
   "id": "e69bf643",
   "metadata": {},
   "source": [
    "### Aku maju agresivitu voci ludom"
   ]
  },
  {
   "cell_type": "code",
   "execution_count": null,
   "id": "4aa87ef1",
   "metadata": {},
   "outputs": [],
   "source": [
    "A = dogs.groupby(['obtained_from', 'Aggressive_people'])['Aggressive_people'].count().rename('count').reset_index()\n",
    "A['count'] = A['count'] / A.groupby('obtained_from')['count'].transform('sum') * 100\n",
    "B = A.pivot(columns='Aggressive_people', values='count', index='obtained_from')\n",
    "C = B.transpose()\n",
    "px.imshow(C).show()"
   ]
  },
  {
   "cell_type": "markdown",
   "id": "077892a8",
   "metadata": {},
   "source": [
    "Zaujimave je, ze takmer nikto nehlasoval za agresivitu 3, vzdy to je bud 1, 2 alebo 4 "
   ]
  },
  {
   "cell_type": "markdown",
   "id": "641e8c0b",
   "metadata": {},
   "source": [
    "## Vplyv casu osamote "
   ]
  },
  {
   "cell_type": "code",
   "execution_count": null,
   "id": "c84c7854",
   "metadata": {},
   "outputs": [],
   "source": [
    "display(dogs.groupby('alone_time')['stranger_aggression_score'].describe())\n",
    "display(Markdown('**Rozdiely v aggression score su velmi male a tak asi nezavisi cas osamote od agresivity**'))"
   ]
  },
  {
   "cell_type": "markdown",
   "id": "7d72b39e",
   "metadata": {},
   "source": [
    "## Separation anxiety vs strangers aggresivity score"
   ]
  },
  {
   "cell_type": "code",
   "execution_count": null,
   "id": "eba1135d",
   "metadata": {},
   "outputs": [],
   "source": [
    "px.scatter(dogs, x='separation_behavior_score', y='stranger_aggression_score').show()\n",
    "\n",
    "A = pd.concat([dogs, pd.cut(dogs['separation_behavior_score'], np.linspace(-2, 5, 50)).rename('interval')], axis=1)\n",
    "\n",
    "B = A.groupby('interval')['stranger_aggression_score'].mean()\n",
    "axe = sns.barplot(B)\n",
    "\n",
    "C = pd.concat([A, A.groupby('interval')['stranger_aggression_score'].transform('count').rename('CCC')], axis=1)\n",
    "axe = sns.stripplot(C.loc[C['CCC'] < 10], x='interval', y='stranger_aggression_score', color='red', ax=axe)\n",
    "axe.set_xticklabels('')\n",
    "pass"
   ]
  },
  {
   "cell_type": "markdown",
   "id": "903baf4f",
   "metadata": {},
   "source": [
    "Vyzera, ze sepration anxiety neovplyvnuje agresivitu psov, preto ju viacej z hladiska agresivity nebudem analyzovat."
   ]
  },
  {
   "cell_type": "markdown",
   "id": "4c66faa9",
   "metadata": {},
   "source": [
    "## Impulsivity/Inattetion vs Stranger aggression"
   ]
  },
  {
   "cell_type": "markdown",
   "id": "7b875a96",
   "metadata": {},
   "source": [
    "### Impulsivity"
   ]
  },
  {
   "cell_type": "code",
   "execution_count": null,
   "id": "beec6f4d",
   "metadata": {},
   "outputs": [],
   "source": [
    "# display(dogs.groupby('impulsivity_score')['stranger_aggression_score'].mean())\n",
    "px.scatter(dogs, x='impulsivity_score', y='stranger_aggression_score').show()\n",
    "\n",
    "A = pd.concat([dogs, pd.cut(dogs['impulsivity_score'], np.linspace(-2, 5, 50)).rename('interval')], axis=1)\n",
    "\n",
    "B = A.groupby('interval')['stranger_aggression_score'].mean()\n",
    "axe = sns.barplot(B)\n",
    "\n",
    "C = pd.concat([A, A.groupby('interval')['stranger_aggression_score'].transform('count').rename('CCC')], axis=1)\n",
    "axe = sns.stripplot(C.loc[C['CCC'] < 10], x='interval', y='stranger_aggression_score', color='red', ax=axe)\n",
    "axe.set_xticklabels('')\n",
    "pass"
   ]
  },
  {
   "cell_type": "markdown",
   "id": "a40fbc2a",
   "metadata": {},
   "source": [
    "### Innatetion"
   ]
  },
  {
   "cell_type": "code",
   "execution_count": null,
   "id": "3ba82437",
   "metadata": {},
   "outputs": [],
   "source": [
    "px.scatter(dogs, x='inattention_score', y='stranger_aggression_score').show()\n",
    "\n",
    "A = pd.concat([dogs, pd.cut(dogs['inattention_score'], np.linspace(-2, 5, 50)).rename('interval')], axis=1)\n",
    "\n",
    "B = A.groupby('interval')['stranger_aggression_score'].mean()\n",
    "axe = sns.barplot(B)\n",
    "\n",
    "C = pd.concat([A, A.groupby('interval')['stranger_aggression_score'].transform('count').rename('CCC')], axis=1)\n",
    "axe = sns.stripplot(C.loc[C['CCC'] < 10], x='interval', y='stranger_aggression_score', color='red', ax=axe)\n",
    "axe.set_xticklabels('')\n",
    "pass"
   ]
  },
  {
   "cell_type": "markdown",
   "id": "cf2d5f07",
   "metadata": {},
   "source": [
    "Nevyzera, ze by inattetion, impulsivity ma vplyv na agresiu voci ludom."
   ]
  },
  {
   "cell_type": "markdown",
   "id": "0b09a255",
   "metadata": {},
   "source": [
    "# Agresivita psa v zavislosti od chovatela"
   ]
  },
  {
   "cell_type": "code",
   "execution_count": null,
   "id": "6bc95b94",
   "metadata": {},
   "outputs": [],
   "source": [
    "display(dogs.groupby('dog_breeder')['stranger_aggression_score'].mean())\n",
    "display(Markdown('**Cize ludia, co chovaju psov maju skore s mensiou agresivitou**'))"
   ]
  },
  {
   "cell_type": "code",
   "execution_count": null,
   "id": "92d91be9",
   "metadata": {},
   "outputs": [],
   "source": [
    "A = dogs.groupby(['dog_breeder','dog_experience'])['stranger_aggression_score'].mean().reset_index()\n",
    "A['dog_experience'] = pd.Categorical(A['dog_experience'], ['first_dog','second_dog','3-5th_dog','over_5th_dog'],ordered=True)\n",
    "A = A.sort_values(by='dog_experience')\n",
    "# display(A)\n",
    "# display(dogs['stranger_aggression_score'].describe())\n",
    "\n",
    "fig = px.bar(A, x='dog_experience', y='stranger_aggression_score', color='dog_breeder', barmode='group')\n",
    "fig.show()\n",
    "\n",
    "fig = px.bar(A, x='dog_experience', y='stranger_aggression_score', color='dog_breeder', barmode='group', title='Aggression score v plnom rozsahu')\n",
    "fig.update_yaxes(range=[dogs['stranger_aggression_score'].min(), dogs['stranger_aggression_score'].max()])\n",
    "fig.show()"
   ]
  },
  {
   "cell_type": "markdown",
   "id": "76b1b4a3",
   "metadata": {},
   "source": [
    "Cim viacej psov chovatel mal, tak tym ma nizsiu aggresion score, zaroven, ak je majitel chovatel, tak mava nizsiu aggression score (zaujimavo okrem prveho psa). *Napriek tomu tie rozdielu su velmi male a mozno aj zanedbatelne*."
   ]
  },
  {
   "cell_type": "markdown",
   "id": "a1a40d11",
   "metadata": {},
   "source": [
    "# Prepojenie medzi agresivitou a personality"
   ]
  },
  {
   "cell_type": "code",
   "execution_count": null,
   "id": "87529ce6",
   "metadata": {},
   "outputs": [],
   "source": []
  },
  {
   "cell_type": "markdown",
   "id": "abc4d908",
   "metadata": {},
   "source": [
    "# Prepojenie medzi stranger aggression score a aggresion stranges\n",
    "Idealne by malo byt linearne"
   ]
  },
  {
   "cell_type": "code",
   "execution_count": null,
   "id": "4a4aaf1a",
   "metadata": {},
   "outputs": [],
   "source": [
    "# dogs['aggression_strangers'] = dogs['aggression_strangers'].astype('category')\n",
    "# px.scatter(dogs, y='stranger_aggression_score', x='aggression_strangers').show()\n",
    "# display(dogs)\n",
    "# grid = sns.catplot(y=\"aggression_strangers\", x=\"stranger_aggression_score\", data=dogs.sample(100), size=3)\n",
    "df = dogs.copy()\n",
    "# px.scatter(y=\"aggression_strangers\", x=\"stranger_aggression_score\", data_frame=dogs).show()\n",
    "df['interval'] = pd.cut(dogs['stranger_aggression_score'], np.linspace(-1.5, 8, 50))\n",
    "df2 = df.groupby('interval')['aggression_strangers'].mean().reset_index()\n",
    "axes = sns.barplot(df2, x='interval', y='aggression_strangers')\n",
    "axes.set_title('aggression_strangers vs stranger_aggression_score')"
   ]
  },
  {
   "cell_type": "markdown",
   "id": "8476c177",
   "metadata": {},
   "source": [
    "# Rozdiel medzi agresivitou k cudzim ludom a agresivitou k majitelom"
   ]
  },
  {
   "cell_type": "markdown",
   "id": "d4a391d8",
   "metadata": {},
   "source": [
    "# Dog Breeds Around The World"
   ]
  },
  {
   "cell_type": "code",
   "execution_count": null,
   "id": "3d79fc9a",
   "metadata": {},
   "outputs": [],
   "source": [
    "breeds1 = breeds_around_world['Name'].str.lower().replace(regex=r' +',value='_')\n",
    "breeds2 = dogs['breed_group'].str.lower()\n",
    "common_breeds = set(breeds1).intersection(set(breeds2))\n",
    "display(Markdown(\"**Spolocne plemena v `breeds around world` a `data-for-publication` datasetoch:**\"))\n",
    "print(common_breeds)\n",
    "\n",
    "breeds_around_world['normalized_breed_group'] = breeds1\n",
    "dogs['normalized_breed_group'] = breeds2\n"
   ]
  },
  {
   "cell_type": "markdown",
   "id": "2ce17d6c",
   "metadata": {},
   "source": [
    "## Friendly rating a Aggression score v spolocnych plemenach"
   ]
  },
  {
   "cell_type": "code",
   "execution_count": null,
   "id": "5cc953c3",
   "metadata": {},
   "outputs": [],
   "source": [
    "A = breeds_around_world.query('normalized_breed_group in @common_breeds')\n",
    "B = dogs.query('normalized_breed_group in @common_breeds')\n",
    "Ag = A.groupby('normalized_breed_group')['Friendly Rating (1-10)'].mean()\n",
    "Bg = B.groupby('normalized_breed_group')['stranger_aggression_score'].mean()\n",
    "C = pd.DataFrame([Ag, Bg]).transpose()\n",
    "sns.barplot(C, x='Friendly Rating (1-10)', y='stranger_aggression_score')\n",
    "display(C)\n"
   ]
  },
  {
   "cell_type": "code",
   "execution_count": null,
   "id": "ea02d9b3",
   "metadata": {},
   "outputs": [],
   "source": [
    "A = breeds_around_world.query('normalized_breed_group in @common_breeds')\n",
    "B = dogs.query('normalized_breed_group in @common_breeds')\n",
    "Ag = A[['normalized_breed_group','Friendly Rating (1-10)']]\n",
    "C = pd.merge(B, Ag, on='normalized_breed_group')\n",
    "sns.boxplot(C, x='Friendly Rating (1-10)', y='stranger_aggression_score')"
   ]
  }
 ],
 "metadata": {
  "language_info": {
   "name": "python"
  }
 },
 "nbformat": 4,
 "nbformat_minor": 5
}
