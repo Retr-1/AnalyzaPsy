{
 "cells": [
  {
   "cell_type": "markdown",
   "metadata": {
    "id": "f1bWqPqBkans"
   },
   "source": [
    "rozdelenie psov na tie, ktore maju podla svojich majitelov separation anxiety a tych co ju nemaju"
   ]
  },
  {
   "cell_type": "code",
   "execution_count": null,
   "metadata": {},
   "outputs": [],
   "source": [
    "import numpy as np\n",
    "import pandas as pd\n",
    "import matplotlib.pyplot as plt\n",
    "import seaborn as sns\n",
    "import plotly.express as px\n",
    "from IPython.display import Markdown\n",
    "\n",
    "\n",
    "dogs = pd.read_csv(\"psy_data.csv\", header=0).set_index(\"dog.id\")\n",
    "subset = dogs.loc[:, ['Separation_age', 'Leaving_pant', 'Leaving_vocalization', \"Leaving_salivate\", \"Leaving_restless\", \"Alone_destroy\", \"Alone_urinate\", \"Alone_vocalize\", \"Alone_pant\", \"separation_anxiety\", \"separation_behavior_score\",\"breed_group\"]]\n",
    "sns.countplot(data=subset, x=\"separation_anxiety\", hue=\"separation_anxiety\", legend = False)\n",
    "plt.title(\"Count of Separation Anxiety Cases\")\n",
    "plt.xlabel(\"Separation Anxiety\")\n",
    "plt.ylabel(\"Count\")\n"
   ]
  },
  {
   "cell_type": "markdown",
   "metadata": {
    "id": "3_JCTSDwkrfm"
   },
   "source": [
    "rozdelenie psov na tie, ktore maju podla snadpriemernu nameranu separation anxiety a tych co ju maju podpriemernu"
   ]
  },
  {
   "cell_type": "code",
   "execution_count": null,
   "metadata": {},
   "outputs": [],
   "source": [
    "mean = subset[\"separation_behavior_score\"].mean()\n",
    "subset[\"anxious\"] = [\"anxious\" if i>mean else \"not anxious\" for i in subset[\"separation_behavior_score\"]]\n",
    "sns.countplot(data=subset ,x=\"anxious\",hue = \"anxious\")\n",
    "plt.title(\"Count of Separation Anxiety Cases\")\n",
    "plt.xlabel(\"Separation Anxiety\")\n",
    "plt.ylabel(\"Count\")"
   ]
  },
  {
   "cell_type": "markdown",
   "metadata": {
    "id": "LXj-ZxV0faon"
   },
   "source": [
    "rozdelenie na psov co podla svojich majitelov nemaju spearation anxiety, ale podla nameranych hodnot ju maju nadpriemernu a tych co podla svojich majitelov maju sep anx, ale podla nameranych hodnot ju maju podpriemernu"
   ]
  },
  {
   "cell_type": "code",
   "execution_count": null,
   "metadata": {},
   "outputs": [],
   "source": [
    "print(sum([len(subset.query(\"separation_anxiety == 0 and separation_behavior_score>=@mean\")) + len(subset.query(\"separation_anxiety == 1 and separation_behavior_score<=@mean\"))]))\n",
    "print(len(subset.query(\"separation_anxiety == 0 or separation_anxiety == 1\")))\n",
    "sns.countplot(data=subset.query(\"separation_anxiety == 0 and separation_behavior_score>=@mean\"), x=\"separation_anxiety\")\n",
    "sns.countplot(data=subset.query(\"separation_anxiety == 1 and separation_behavior_score<=@mean\"), x=\"separation_anxiety\")\n",
    "\n",
    "plt.title(\"Count of Separation Anxiety Cases\")\n",
    "plt.xlabel(\"Separation Anxiety\")\n",
    "plt.ylabel(\"Count\")\n"
   ]
  },
  {
   "cell_type": "markdown",
   "metadata": {
    "id": "o-XPu9IelZI_"
   },
   "source": [
    "Pocet hodnot priznakov sep. anx."
   ]
  },
  {
   "cell_type": "code",
   "execution_count": null,
   "metadata": {},
   "outputs": [],
   "source": [
    "columns = ['Leaving_pant', 'Leaving_vocalization', 'Leaving_salivate', 'Leaving_restless',\n",
    "           'Alone_destroy', 'Alone_urinate', 'Alone_vocalize', 'Alone_pant']\n",
    "\n",
    "fig, axes = plt.subplots(2, 4, figsize=(20, 10))\n",
    "axes = axes.flatten()\n",
    "\n",
    "for i, col in enumerate(columns):\n",
    "    sns.countplot(x=col, data=subset, ax=axes[i])\n",
    "    axes[i].set_title(col)\n",
    "    axes[i].set_xlabel(\"Value\")\n",
    "    axes[i].set_ylabel(\"Count\")\n",
    "\n",
    "plt.tight_layout()\n",
    "plt.show()\n",
    "\n"
   ]
  },
  {
   "cell_type": "markdown",
   "metadata": {
    "id": "EMqWTzlqlj6g"
   },
   "source": [
    "priemery priznakv sep anx, je viditelne ze najcastejsie priznamky su Leaving_restless a alone_vocalize rovnako ako vo vrchnom grafe"
   ]
  },
  {
   "cell_type": "code",
   "execution_count": null,
   "metadata": {},
   "outputs": [],
   "source": [
    "mean_values, symptoms = zip(*sorted([(subset[i].mean(),i) for i in columns], key=lambda x: x[0])[::-1])\n",
    "plt.figure(figsize=(14, 5))\n",
    "plt.bar(symptoms, mean_values)\n",
    "plt.xlabel('Symptoms of separation anxiety')\n",
    "plt.ylabel('Means')\n",
    "plt.title('Means of symptoms of separation anxiety')\n",
    "plt.grid(axis='y')\n",
    "plt.grid(False)\n",
    "plt.show()"
   ]
  },
  {
   "cell_type": "code",
   "execution_count": null,
   "metadata": {},
   "outputs": [],
   "source": [
    "fig = px.scatter(\n",
    "    subset,\n",
    "    x=\"Separation_age\",\n",
    "    y=\"separation_behavior_score\",\n",
    "    color=\"breed_group\",\n",
    "    hover_data=[\"breed_group\"],\n",
    "    title=\"Separation Age vs Behavior Score by Breed Group\"\n",
    ")\n",
    "\n",
    "fig.update_layout(\n",
    "    xaxis_title=\"Separation Age\",\n",
    "    yaxis_title=\"Separation Behavior Score\",\n",
    "    legend_title=\"Breed Group\"\n",
    ")\n",
    "\n",
    "fig.show()"
   ]
  }
 ],
 "metadata": {
  "language_info": {
   "name": "python"
  }
 },
 "nbformat": 4,
 "nbformat_minor": 0
}
