{
 "cells": [
  {
   "cell_type": "code",
   "execution_count": null,
   "metadata": {},
   "outputs": [],
   "source": [
    "import pandas as pd\n",
    "import seaborn as sns\n",
    "import matplotlib.pyplot as plt\n",
    "import plotly.express as px\n",
    "import plotly\n"
   ]
  },
  {
   "cell_type": "code",
   "execution_count": null,
   "metadata": {},
   "outputs": [],
   "source": [
    "import kagglehub\n",
    "\n",
    "# Download latest version\n",
    "path = kagglehub.dataset_download(\"marshuu/dog-breeds\")\n",
    "\n",
    "print(\"Path to dataset files:\", path)\n",
    "dogs_by_state = pd.read_csv(path + '\\dog_breeds.csv')"
   ]
  },
  {
   "cell_type": "code",
   "execution_count": null,
   "metadata": {},
   "outputs": [],
   "source": [
    "display(dogs_by_state.head())"
   ]
  },
  {
   "cell_type": "code",
   "execution_count": null,
   "metadata": {},
   "outputs": [],
   "source": [
    "fig = px.choropleth(data_frame=dogs_by_state,\n",
    "                    locations='Country of Origin',\n",
    "                    locationmode='country names', # tells Plotly to use full country names\n",
    "                    color='Breed',             # value to be mapped with color\n",
    "                    color_continuous_scale='Viridis',  # color theme\n",
    "                    title='Choropleth Map by Country')\n",
    "\n",
    "fig.show()\n"
   ]
  },
  {
   "cell_type": "code",
   "execution_count": null,
   "metadata": {},
   "outputs": [],
   "source": [
    "data_psy_complet = pd.read_excel('data-for-publication.xlsx', sheet_name='Dataset')\n",
    "data_psy_information = pd.read_excel('data-for-publication.xlsx', sheet_name='Information')"
   ]
  },
  {
   "cell_type": "code",
   "execution_count": null,
   "metadata": {},
   "outputs": [],
   "source": [
    "\n",
    "print(data_psy_complet.columns)"
   ]
  },
  {
   "cell_type": "code",
   "execution_count": null,
   "metadata": {},
   "outputs": [],
   "source": [
    "\n",
    "sterilized = data_psy_complet.query(\"sterilization_status == 'sterilized'\")\n",
    "not_sterilized = data_psy_complet.query(\"sterilization_status == 'intact'\")\n",
    "print('Impulsion of sterilized dogs')\n",
    "print(sterilized['impulsive'].mean())\n",
    "print(sterilized['Impulsivity_age'].mean())\n",
    "print('Impulsion of intact dogs')\n",
    "print(not_sterilized['impulsive'].mean())\n",
    "print(not_sterilized['Impulsivity_age'].mean())\n",
    "print()\n",
    "print('Dominance of sterilized dogs')\n",
    "print(sterilized['Dominant'].mean())\n",
    "print('Dominance of intact dogs')\n",
    "print(not_sterilized['Dominant'].mean())\n",
    "print()\n",
    "print('Patience of sterilized dogs')\n",
    "print(sterilized['Patient'].mean())\n",
    "print('Patience of intact dogs')\n",
    "print(not_sterilized['Patient'].mean())\n",
    "print()\n",
    "print('Patience of sterilized dogs')\n",
    "print(sterilized['Patient'].mean())\n",
    "print('Patience of intact dogs')\n",
    "print(not_sterilized['Patient'].mean())\n",
    "print(not_sterilized['Patient'].mean())\n"
   ]
  },
  {
   "cell_type": "code",
   "execution_count": null,
   "metadata": {},
   "outputs": [],
   "source": [
    "max = 0\n",
    "atribut = ''\n",
    "nove_data_psy = data_psy_complet.drop('dog.id', axis=1)\n",
    "nove_data_psy.drop('Separation_age', axis=1, inplace=True)\n",
    "numeric_cols = nove_data_psy.select_dtypes(include='number').columns\n",
    "for i in numeric_cols:\n",
    "\n",
    "    x = not_sterilized[str(i)].mean()\n",
    "    y = sterilized[str(i)].mean()\n",
    "    if abs(x - y) > max:\n",
    "        max = abs(x - y)\n",
    "        atribut = i\n"
   ]
  },
  {
   "cell_type": "code",
   "execution_count": null,
   "metadata": {},
   "outputs": [],
   "source": [
    "print(atribut)\n",
    "print(max)"
   ]
  },
  {
   "cell_type": "code",
   "execution_count": null,
   "metadata": {},
   "outputs": [],
   "source": [
    "data_psy_breeder = data_psy_complet.query(\"obtained_from == 'breeder'\")\n",
    "data_psy_not_breeder = data_psy_complet.query(\"obtained_from != 'breeder'\")\n",
    "print(data_psy_complet['Impulsivity_age'].mean())\n",
    "old_dogs = data_psy_complet.query(\"Impulsivity_age > 5.21\")\n",
    "print(old_dogs[\"impulsive\"].mean())\n",
    "young_dogs = data_psy_complet.query(\"Impulsivity_age < 5.21\")\n",
    "print(young_dogs[\"impulsive\"].mean())\n",
    "\n",
    "print('====================')\n",
    "print('form breeder')\n",
    "print('====================')\n",
    "\n",
    "print(data_psy_breeder['Impulsivity_age'].mean())\n",
    "old_dogs_breeder = data_psy_breeder.query(\"Impulsivity_age > 5.21\")\n",
    "print(old_dogs_breeder[\"impulsive\"].mean())\n",
    "young_dogs_breeder = data_psy_breeder.query(\"Impulsivity_age < 5.21\")\n",
    "print(young_dogs_breeder[\"impulsive\"].mean())\n",
    "\n",
    "print('====================')\n",
    "print('not form breeder')\n",
    "print('====================')\n",
    "\n",
    "print(data_psy_not_breeder['Impulsivity_age'].mean())\n",
    "old_dogs_not_breeder = data_psy_not_breeder.query(\"Impulsivity_age > 5.21\")\n",
    "print(old_dogs_not_breeder[\"impulsive\"].mean())\n",
    "young_dogs_not_breeder = data_psy_not_breeder.query(\"Impulsivity_age < 5.21\")\n",
    "print(young_dogs_not_breeder[\"impulsive\"].mean())\n"
   ]
  },
  {
   "cell_type": "markdown",
   "metadata": {},
   "source": [
    "Working with information dataset to extract values rated on the scale of 1 to 5"
   ]
  },
  {
   "cell_type": "code",
   "execution_count": null,
   "metadata": {},
   "outputs": [],
   "source": [
    "data_psy_information['SECTION'] = data_psy_information['SECTION'].fillna(method='ffill')\n",
    "target_text = \"\"\"1 = Never\n",
    "2 = Rarely\n",
    "3 = Sometimes\n",
    "4 = Often\n",
    "5 = Always or almost always\"\"\"\n",
    "info_rated = data_psy_information[data_psy_information['COLUMN VALUES'] == target_text]\n",
    "print(info_rated.head())"
   ]
  },
  {
   "cell_type": "code",
   "execution_count": null,
   "metadata": {},
   "outputs": [],
   "source": [
    "max = 0\n",
    "max_sterilized = 0\n",
    "max_intact = 0\n",
    "max_column = ''\n",
    "ranked_data = pd.DataFrame([{\n",
    "    'Attribute': [],\n",
    "    'Absolute difference': [],\n",
    "    'Sterilized mean': [],\n",
    "    'Intact mean': [],\n",
    "    'Bigger value is': []\n",
    "}])\n",
    "\n",
    "for i in info_rated['COLUMN NAME']:\n",
    "    ster = sterilized[i].mean()\n",
    "    not_ster = not_sterilized[i].mean()\n",
    "    if ster > not_ster:\n",
    "        bigger_value = 'sterilized'\n",
    "    else:\n",
    "        bigger_value = 'intact'\n",
    "    ranked_data.loc[len(ranked_data)] = [i, abs(ster - not_ster), ster, not_ster, bigger_value]\n",
    "    if abs(ster - not_ster) > max:\n",
    "        max = abs(ster - not_ster)\n",
    "        max_sterilized = ster\n",
    "        max_intact = not_ster\n",
    "        max_column = i\n",
    "\n",
    "print('Column:', max_column)\n",
    "print('absolute difference:', max)\n",
    "print('sterilized rating:', max_sterilized)\n",
    "print('intact rating:', max_intact)\n",
    "ranked_data = ranked_data.drop(index=0)\n"
   ]
  },
  {
   "cell_type": "markdown",
   "metadata": {},
   "source": [
    "Sort values by biggest to smallest"
   ]
  },
  {
   "cell_type": "code",
   "execution_count": null,
   "metadata": {},
   "outputs": [],
   "source": [
    "ranked_data = ranked_data.sort_values(by='Absolute difference', ascending=False)\n",
    "print(ranked_data.head())"
   ]
  },
  {
   "cell_type": "markdown",
   "metadata": {},
   "source": [
    "Make different tables for sterilized and intact"
   ]
  },
  {
   "cell_type": "code",
   "execution_count": null,
   "metadata": {},
   "outputs": [],
   "source": [
    "ranked_sterilized = ranked_data[ranked_data['Bigger value is'] == 'sterilized']\n",
    "ranked_intact = ranked_data[ranked_data['Bigger value is'] == 'intact']"
   ]
  },
  {
   "cell_type": "code",
   "execution_count": null,
   "metadata": {},
   "outputs": [],
   "source": [
    "intact_barplot = sns.barplot(data = ranked_intact[:5], x='Attribute', y='Absolute difference')\n",
    "sterilized_barplot = sns.barplot(data = ranked_sterilized[:5], x='Attribute', y='Absolute difference')\n",
    "plt.xticks(rotation=45, fontsize=7)\n",
    "plt.title(\"Most differing attributes by sterilization status\")\n",
    "plt.xlabel(\"\")"
   ]
  },
  {
   "cell_type": "code",
   "execution_count": null,
   "metadata": {},
   "outputs": [],
   "source": [
    "all_barplot = sns.barplot(data = ranked_data, x='Attribute', y='Absolute difference', hue='Bigger value is')\n",
    "all_barplot.tick_params(axis='x', which='both', bottom=False, labelbottom=False)\n",
    "plt.title(\"Biggest trait differences - All\")\n"
   ]
  },
  {
   "cell_type": "markdown",
   "metadata": {},
   "source": [
    "Grafy pre sterilizáciu konkrétne u samíc"
   ]
  },
  {
   "cell_type": "code",
   "execution_count": null,
   "metadata": {},
   "outputs": [],
   "source": [
    "data_samice = data_psy_complet[data_psy_complet['sex'] == 'female']\n",
    "data_samce = data_psy_complet[data_psy_complet['sex'] == 'male']\n",
    "\n",
    "data_ster_samice = data_samice[data_samice['sterilization_status'] == 'sterilized']\n",
    "data_notster_samice = data_samice[data_samice['sterilization_status'] == 'intact']\n",
    "data_ster_samce = data_samce[data_samce['sterilization_status'] == 'sterilized']\n",
    "data_notster_samce = data_samce[data_samce['sterilization_status'] == 'intact']\n"
   ]
  },
  {
   "cell_type": "code",
   "execution_count": null,
   "metadata": {},
   "outputs": [],
   "source": [
    "max = 0\n",
    "max_sterilized = 0\n",
    "max_intact = 0\n",
    "max_column = ''\n",
    "ranked_data_samice = pd.DataFrame([{\n",
    "    'Attribute': [],\n",
    "    'Absolute difference': [],\n",
    "    'Sterilized mean': [],\n",
    "    'Intact mean': [],\n",
    "    'Bigger value is': []\n",
    "}])\n",
    "\n",
    "for i in info_rated['COLUMN NAME']:\n",
    "    ster = data_ster_samice[i].mean()\n",
    "    not_ster = data_notster_samice[i].mean()\n",
    "    if ster > not_ster:\n",
    "        bigger_value = 'sterilized'\n",
    "    else:\n",
    "        bigger_value = 'intact'\n",
    "    ranked_data_samice.loc[len(ranked_data_samice)] = [i, abs(ster - not_ster), ster, not_ster, bigger_value]\n",
    "    if abs(ster - not_ster) > max:\n",
    "        max = abs(ster - not_ster)\n",
    "        max_sterilized = ster\n",
    "        max_intact = not_ster\n",
    "        max_column = i\n",
    "ranked_data_samice = ranked_data_samice.drop(index=0).sort_values(by='Absolute difference', ascending=False)"
   ]
  },
  {
   "cell_type": "code",
   "execution_count": null,
   "metadata": {},
   "outputs": [],
   "source": [
    "max = 0\n",
    "max_sterilized = 0\n",
    "max_intact = 0\n",
    "max_column = ''\n",
    "ranked_data_samce = pd.DataFrame([{\n",
    "    'Attribute': [],\n",
    "    'Absolute difference': [],\n",
    "    'Sterilized mean': [],\n",
    "    'Intact mean': [],\n",
    "    'Bigger value is': []\n",
    "}])\n",
    "\n",
    "for i in info_rated['COLUMN NAME']:\n",
    "    ster = data_ster_samce[i].mean()\n",
    "    not_ster = data_notster_samce[i].mean()\n",
    "    if ster > not_ster:\n",
    "        bigger_value = 'sterilized'\n",
    "    else:\n",
    "        bigger_value = 'intact'\n",
    "    ranked_data_samce.loc[len(ranked_data_samce)] = [i, abs(ster - not_ster), ster, not_ster, bigger_value]\n",
    "    if abs(ster - not_ster) > max:\n",
    "        max = abs(ster - not_ster)\n",
    "        max_sterilized = ster\n",
    "        max_intact = not_ster\n",
    "        max_column = i\n",
    "ranked_data_samce = ranked_data_samce.drop(index=0).sort_values(by='Absolute difference', ascending=False)"
   ]
  },
  {
   "cell_type": "code",
   "execution_count": null,
   "metadata": {},
   "outputs": [],
   "source": [
    "all_samice = sns.barplot(data = ranked_data_samice, x='Attribute', y='Absolute difference', hue='Bigger value is')\n",
    "all_samice.tick_params(axis='x', which='both', bottom=False, labelbottom=False)\n",
    "plt.title(\"Biggest trait differences - Female\")\n"
   ]
  },
  {
   "cell_type": "code",
   "execution_count": null,
   "metadata": {},
   "outputs": [],
   "source": [
    "all_samce = sns.barplot(data = ranked_data_samce, x='Attribute', y='Absolute difference', hue='Bigger value is')\n",
    "all_samce.tick_params(axis='x', which='both', bottom=False, labelbottom=False)\n",
    "plt.title(\"Biggest trait differences - Male\")"
   ]
  },
  {
   "cell_type": "code",
   "execution_count": null,
   "metadata": {},
   "outputs": [],
   "source": [
    "intact_barplot_samice = sns.barplot(data = ranked_data_samice[ranked_data_samice['Bigger value is'] == 'intact'][:5], x='Attribute', y='Absolute difference')\n",
    "sterilized_barplot_samice = sns.barplot(data = ranked_data_samice[ranked_data_samice['Bigger value is'] == 'sterilized'][:5], x='Attribute', y='Absolute difference')\n",
    "plt.xticks(rotation=45, fontsize=7)\n",
    "plt.title(\"Most differing attributes by sterilization status\")\n",
    "plt.xlabel(\"\")"
   ]
  },
  {
   "cell_type": "code",
   "execution_count": null,
   "metadata": {},
   "outputs": [],
   "source": [
    "intact_barplot_samce = sns.barplot(data = ranked_data_samce[ranked_data_samce['Bigger value is'] == 'intact'][:5], x='Attribute', y='Absolute difference')\n",
    "sterilized_barplot_samce = sns.barplot(data = ranked_data_samce[ranked_data_samce['Bigger value is'] == 'sterilized'][:5], x='Attribute', y='Absolute difference')\n",
    "plt.xticks(rotation=45, fontsize=7)\n",
    "plt.title(\"Most differing attributes by sterilization status\")\n",
    "plt.xlabel(\"\")"
   ]
  },
  {
   "cell_type": "code",
   "execution_count": null,
   "metadata": {},
   "outputs": [],
   "source": [
    "rozdiely = pd.DataFrame([{\n",
    "    'Attribut': [], \n",
    "    'rozdiel': [],\n",
    "    'in_favor_of': []\n",
    "}])\n",
    "for i in ranked_data_samice['Attribute']:\n",
    "    muz = ranked_data_samce[ranked_data_samce['Attribute'] == i]['Absolute difference'].values[0]\n",
    "    fen = ranked_data_samice[ranked_data_samice['Attribute'] == i]['Absolute difference'].values[0]\n",
    "    if muz > fen:\n",
    "        naj = 'male'\n",
    "    else:\n",
    "        naj = 'female'\n",
    "    rozdiely.loc[len(rozdiely)] = [i, abs(muz - fen), naj]\n",
    "\n",
    "rozdiely = rozdiely.drop(index=0).sort_values(by='rozdiel', ascending=False)\n"
   ]
  },
  {
   "cell_type": "code",
   "execution_count": null,
   "metadata": {},
   "outputs": [],
   "source": [
    "\n",
    "graf_rozdiel = sns.barplot(data = sorted_rozdiely[:15], x='Attribut', y='rozdiel', hue='in_favor_of')\n",
    "plt.xticks(rotation=45, fontsize=7)"
   ]
  }
 ],
 "metadata": {
  "language_info": {
   "name": "python"
  }
 },
 "nbformat": 4,
 "nbformat_minor": 2
}
