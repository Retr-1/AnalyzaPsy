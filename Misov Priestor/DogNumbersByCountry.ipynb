{
 "cells": [
  {
   "cell_type": "code",
   "execution_count": null,
   "id": "544585a2",
   "metadata": {},
   "outputs": [],
   "source": [
    "import pandas as pd\n",
    "import seaborn as sns\n",
    "import matplotlib.pyplot as plt\n",
    "import plotly.express as px\n",
    "import plotly\n",
    "import geopandas as gpd\n",
    "import geodatasets"
   ]
  },
  {
   "cell_type": "code",
   "execution_count": null,
   "id": "7e1370ac",
   "metadata": {},
   "outputs": [],
   "source": [
    "data = pd.read_csv(r\"data\\Dog Population by Country.csv\")\n",
    "population_data = pd.read_csv(r\"data\\World Population by country 2024.csv\")\n",
    "#data_link = https://worldostats.com/country-stats/dog-population-by-country/\n",
    "#popul_link = https://www.kaggle.com/datasets/dataanalyst001/world-population-by-country-2024\n",
    "\n",
    "#DROP OUTLIERS\n",
    "data = data[data[\"Country\"] != 'Montenegro']\n",
    "new_row = pd.DataFrame([{\"Country\": \"Australia\", \"Estimated Dog Population\": \"6000000\"}])\n",
    "data = pd.concat([data, new_row], ignore_index=True)\n",
    "\n",
    "\n",
    "data['Estimated Dog Population'] = pd.to_numeric(\n",
    "    data['Estimated Dog Population'].str.replace(',', ''),  # remove commas\n",
    "    errors='coerce'  # turn invalid values into NaN\n",
    ")\n",
    "country_name_fixes = {\n",
    "    \"Swaziland\": \"Eswatini\",\n",
    "    \"Iran\": \"Iran, Islamic Republic of\",\n",
    "    \"Democratic Republic of Congo\": \"Democratic Republic of the Congo\",\n",
    "    \"Tanzania\": \"United Republic of Tanzania\",\n",
    "    \"South Korea\": \"Korea, Republic of\",\n",
    "    \"Vietnam\": \"Viet Nam\",\n",
    "    \"Ivory Coast\": \"Côte d'Ivoire\",\n",
    "    \"Kosovo\": \"Kosovo\",\n",
    "    \"Turkey\": \"Türkiye\",\n",
    "    \"United States of America\": \"United States\",\n",
    "    \"Czech Republic\": \"Czechia\",\n",
    "    \"United States\": \"United States of America\"\n",
    "}\n",
    "\n",
    "\n",
    "\n",
    "data['Country'] = data['Country'].replace(country_name_fixes)\n",
    "population_data['Country'] = population_data['Country'].replace(country_name_fixes)\n",
    "data[\"Estimated Dog Population\"]\n",
    "full_table = data.merge(population_data, on='Country', how='left')\n",
    "full_table['Dog Population per Capita'] = full_table['Estimated Dog Population'] / full_table['Population 2024']\n",
    "#print(full_table.head())\n",
    "#print(data.head())\n",
    "#print(population_data)\n",
    "#print(data.shape)"
   ]
  },
  {
   "cell_type": "code",
   "execution_count": null,
   "id": "67d62638",
   "metadata": {},
   "outputs": [],
   "source": [
    "world = gpd.read_file(\"data/ne_110m_admin_0_countries/ne_110m_admin_0_countries.shp\")\n",
    "merged = world.merge(data, how='left', left_on='NAME', right_on='Country')\n",
    "merged_per_capita = world.merge(full_table, how='left', left_on='NAME', right_on='Country')\n",
    "#print(merged.head())"
   ]
  },
  {
   "cell_type": "code",
   "execution_count": null,
   "id": "582758f9",
   "metadata": {},
   "outputs": [],
   "source": [
    "fig, ax = plt.subplots(figsize=(15, 6))\n",
    "merged.plot(\n",
    "    column='Estimated Dog Population',\n",
    "    ax=ax,\n",
    "    legend=True,\n",
    "    cmap='OrRd',\n",
    "    missing_kwds={\"color\": \"lightgrey\", \"label\": \"No data\"}\n",
    ")\n",
    "print(merged.shape)\n",
    "\n",
    "plt.title(\"Estimated Dog Population by Country\")\n",
    "plt.axis('off')\n",
    "plt.show()"
   ]
  },
  {
   "cell_type": "code",
   "execution_count": null,
   "id": "c406f2dd",
   "metadata": {},
   "outputs": [],
   "source": [
    "fig, ax = plt.subplots(figsize=(15, 6))\n",
    "merged_per_capita.plot(\n",
    "    column='Dog Population per Capita',\n",
    "    ax=ax,\n",
    "    legend=True,\n",
    "    cmap='OrRd',\n",
    "    missing_kwds={\"color\": \"lightgrey\", \"label\": \"No data\"}\n",
    ")\n",
    "plt.title(\"Dog Population per Capita\")\n",
    "plt.axis('off')\n",
    "plt.show()"
   ]
  },
  {
   "cell_type": "code",
   "execution_count": null,
   "id": "67ed3142",
   "metadata": {},
   "outputs": [],
   "source": [
    "import pycountry\n",
    "\n",
    "valid_countries = [country.name for country in pycountry.countries]\n",
    "invalid_countries = set(data['Country'].unique()) - set(valid_countries)\n",
    "\n",
    "print(\"Countries not recognized by the map:\", invalid_countries)"
   ]
  },
  {
   "cell_type": "code",
   "execution_count": null,
   "id": "f371ebc5",
   "metadata": {},
   "outputs": [],
   "source": [
    "sorted_by_capita = full_table.sort_values(by='Dog Population per Capita', ascending=False).loc[:,['Country', 'Dog Population per Capita']]"
   ]
  }
 ],
 "metadata": {
  "language_info": {
   "name": "python"
  }
 },
 "nbformat": 4,
 "nbformat_minor": 5
}
