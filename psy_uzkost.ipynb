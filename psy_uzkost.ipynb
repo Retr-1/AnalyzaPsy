{
 "cells": [
  {
   "cell_type": "markdown",
   "metadata": {},
   "source": [
    "Importy"
   ]
  },
  {
   "cell_type": "code",
   "execution_count": null,
   "metadata": {},
   "outputs": [],
   "source": [
    "import numpy as np\n",
    "import pandas as pd\n",
    "import matplotlib.pyplot as plt\n",
    "import seaborn as sns\n",
    "import plotly.express as px\n",
    "from IPython.display import Markdown"
   ]
  },
  {
   "cell_type": "markdown",
   "metadata": {},
   "source": [
    "nacitanie dat a pomocne funkcie"
   ]
  },
  {
   "cell_type": "code",
   "execution_count": null,
   "metadata": {},
   "outputs": [],
   "source": [
    "#nacitanie suboru\n",
    "dogs = pd.read_csv(\"psy_data.csv\", header=0).set_index(\"dog.id\")\n",
    "\n",
    "def get_subset(values):\n",
    "    return dogs.loc[:, values ]\n",
    "\n",
    "def get_mean():\n",
    "    return dogs[\"separation_behavior_score\"].mean()"
   ]
  },
  {
   "cell_type": "markdown",
   "metadata": {
    "id": "f1bWqPqBkans"
   },
   "source": [
    "rozdelenie psov na tie, ktore maju podla svojich majitelov separation anxiety a tych co ju nemaju"
   ]
  },
  {
   "cell_type": "code",
   "execution_count": null,
   "metadata": {},
   "outputs": [],
   "source": [
    "def graph_sep_anx1():\n",
    "    subset = get_subset([\"separation_anxiety\", \"separation_behavior_score\"])\n",
    "    sns.countplot(data=subset, x=\"separation_anxiety\", hue=\"separation_anxiety\", legend = False)\n",
    "    plt.title(\"Count of Separation Anxiety Cases based on owners answers\")\n",
    "    plt.xlabel(\"\")\n",
    "    plt.xticks([0.0, 1.0], [\"Not anxious\", \"Anxious\"])\n",
    "    plt.ylabel(\"Count\")\n",
    "#10927\n",
    "#9373\n",
    "#1554\n",
    "\n",
    "graph_sep_anx1()"
   ]
  },
  {
   "cell_type": "markdown",
   "metadata": {
    "id": "3_JCTSDwkrfm"
   },
   "source": [
    "rozdelenie psov na tie, ktore maju podla snadpriemernu nameranu separation anxiety a tych co ju maju podpriemernu"
   ]
  },
  {
   "cell_type": "code",
   "execution_count": null,
   "metadata": {},
   "outputs": [],
   "source": [
    "def graph_sep_anx2():\n",
    "    mean = get_mean()\n",
    "    subset = get_subset([\"separation_anxiety\", \"separation_behavior_score\"])\n",
    "    print(len(subset))\n",
    "\n",
    "\n",
    "    temp = []\n",
    "    for i in subset[\"separation_behavior_score\"]:\n",
    "        if i<= mean:\n",
    "            temp.append(0.0)\n",
    "        elif i> mean:\n",
    "            temp.append(1.0)\n",
    "        else:\n",
    "            temp.append(None)\n",
    "\n",
    "\n",
    "    subset[\"anxious\"] = temp\n",
    "    print(len(subset.query(\"anxious == 1.0\")))\n",
    "    print(len(subset.query(\"anxious == 0.0\")))\n",
    "\n",
    "    sns.countplot(data=subset ,x=\"anxious\",hue = \"anxious\")\n",
    "    plt.title(\"Count of Separation Anxiety Cases Based on Average Measured Score\")\n",
    "\n",
    "    plt.xlabel(\"\")\n",
    "    plt.xticks([0.0, 1.0], [\"Less Anxious Than Average\", \"More Anxious Than Average\"])\n",
    "    plt.ylabel(\"Count\")\n",
    "    plt.legend().remove()\n",
    "graph_sep_anx2()"
   ]
  },
  {
   "cell_type": "markdown",
   "metadata": {
    "id": "LXj-ZxV0faon"
   },
   "source": [
    "rozdelenie na psov co podla svojich majitelov nemaju spearation anxiety, ale podla nameranych hodnot ju maju nadpriemernu a tych co podla svojich majitelov maju sep anx, ale podla nameranych hodnot ju maju podpriemernu"
   ]
  },
  {
   "cell_type": "code",
   "execution_count": null,
   "metadata": {},
   "outputs": [],
   "source": [
    "def graph_sep_anx3():\n",
    "    mean = get_mean()\n",
    "    subset = get_subset([\"separation_anxiety\", \"separation_behavior_score\"])\n",
    "    sns.countplot(data=subset.query(\"separation_anxiety == 0 and separation_behavior_score>=@mean\"), x=\"separation_anxiety\")\n",
    "    sns.countplot(data=subset.query(\"separation_anxiety == 1 and separation_behavior_score<=@mean\"), x=\"separation_anxiety\")\n",
    "\n",
    "    plt.title(\"Owner Responses Compared to Average Separation Anxiety Level\")\n",
    "    plt.xlabel(\"\")\n",
    "    plt.xticks([0.0, 1.0], [\"More Anxious Than Average\\n(Not Anxious — Owner)\", \"Less Anxious Than Average\\n(Anxious — Owner)\"])\n",
    "    plt.ylabel(\"Count\")\n",
    "graph_sep_anx3()"
   ]
  },
  {
   "cell_type": "markdown",
   "metadata": {
    "id": "o-XPu9IelZI_"
   },
   "source": [
    "Pocet hodnot priznakov sep. anx."
   ]
  },
  {
   "cell_type": "code",
   "execution_count": null,
   "metadata": {},
   "outputs": [],
   "source": [
    "def graph_sep_anx4():\n",
    "    mean = get_mean()\n",
    "    columns = ['Leaving_pant', 'Leaving_vocalization', 'Leaving_salivate', 'Leaving_restless', 'Alone_destroy', 'Alone_urinate', 'Alone_vocalize', 'Alone_pant']\n",
    "    subset = get_subset([\"separation_anxiety\", \"separation_behavior_score\"]+columns)\n",
    "\n",
    "\n",
    "    fig, axes = plt.subplots(2, 4, figsize=(18, 10))\n",
    "    axes = axes.flatten()\n",
    "\n",
    "    for i, col in enumerate(columns):\n",
    "        \n",
    "        sns.countplot(x=col, data=subset, ax=axes[i],hue = col, palette = sns.dark_palette(\"#69d\", reverse=True, as_cmap=True))\n",
    "        axes[i].set_title(col.replace(\"_\", \" \"))\n",
    "        axes[i].set_xlabel(\"\")\n",
    "        axes[i].set_ylabel(\"Count\")\n",
    "\n",
    "        tick_labels = {0.0: \"Never\", 1.0: \"Rarely\", 2.0: \"Sometimes\", 3.0: \"Often\", 4.0: \"Very often\"}\n",
    "        axes[i].set_xticks(list(tick_labels.keys()))\n",
    "        axes[i].set_xticklabels(list(tick_labels.values()), rotation=15, ha='right')\n",
    "        axes[i].legend().remove()\n",
    "    plt.tight_layout()\n",
    "    plt.show()\n",
    "graph_sep_anx4()\n"
   ]
  },
  {
   "cell_type": "markdown",
   "metadata": {
    "id": "EMqWTzlqlj6g"
   },
   "source": [
    "priemery priznakv sep anx, je viditelne ze najcastejsie priznamky su Leaving_restless a alone_vocalize rovnako ako vo vrchnom grafe"
   ]
  },
  {
   "cell_type": "code",
   "execution_count": null,
   "metadata": {},
   "outputs": [],
   "source": [
    "def graph_sep_anx5():\n",
    "    mean = get_mean()\n",
    "    columns = ['Leaving_pant', 'Leaving_vocalization', 'Leaving_salivate', 'Leaving_restless', 'Alone_destroy', 'Alone_urinate', 'Alone_vocalize', 'Alone_pant']\n",
    "    subset = get_subset([\"separation_anxiety\", \"separation_behavior_score\"]+columns)\n",
    "\n",
    "    mean_values, symptoms = zip(*sorted([(subset[i].mean(),i.replace(\"_\", \" \")) for i in columns], key=lambda x: x[0])[::-1])\n",
    "    plt.figure(figsize=(10, 6))\n",
    "    palette = sns.dark_palette(\"#69d\", reverse=True, n_colors=len(mean_values))\n",
    "\n",
    "    plt.bar(symptoms, mean_values, color = palette)\n",
    "\n",
    "    plt.xticks(rotation=15, ha='right')\n",
    "    plt.xlabel('Symptoms of separation anxiety')\n",
    "\n",
    "    ticks = plt.yticks()[0]   \n",
    "    plt.yticks(ticks[::2])  \n",
    "    plt.ylabel('Means')\n",
    "\n",
    "    plt.title('Means of symptoms of separation anxiety')\n",
    "\n",
    "graph_sep_anx5()"
   ]
  },
  {
   "cell_type": "code",
   "execution_count": null,
   "metadata": {},
   "outputs": [],
   "source": [
    "#neplanujem pouzit\n",
    "def graph_sep_anx10():\n",
    "    mean = get_mean()\n",
    "    subset = get_subset([\"separation_anxiety\", \"separation_behavior_score\", \"Separation_age\", \"breed_group\"])\n",
    "\n",
    "    fig = px.scatter(\n",
    "        subset,\n",
    "        x=\"Separation_age\",\n",
    "        y=\"separation_behavior_score\",\n",
    "        color=\"breed_group\",\n",
    "        hover_data=[\"breed_group\"],\n",
    "        title=\"Separation Age vs Behavior Score by Breed Group\"\n",
    "    )\n",
    "\n",
    "    fig.update_layout(\n",
    "        xaxis_title=\"Separation Age\",\n",
    "        yaxis_title=\"Separation Behavior Score\",\n",
    "        legend_title=\"Breed Group\"\n",
    "    )\n",
    "    fig.show()\n",
    "    \n",
    "graph_sep_anx10()\n"
   ]
  },
  {
   "cell_type": "markdown",
   "metadata": {
    "id": "0FtztglzxDdC"
   },
   "source": [
    "Zistujeme najuskostlivejsie plemeno psa\n"
   ]
  },
  {
   "cell_type": "code",
   "execution_count": null,
   "metadata": {},
   "outputs": [],
   "source": [
    "def graph_sep_anx6():\n",
    "    mean = get_mean()\n",
    "    subset = get_subset([\"separation_behavior_score\",  \"breed_group\"])\n",
    "\n",
    "    a = subset.groupby(\"breed_group\")[\"separation_behavior_score\"].mean().sort_values(ascending=False)\n",
    "    print(a[10:])\n",
    "    plt.figure(figsize=(14, 8))\n",
    "\n",
    "    palette = sns.dark_palette(\"#69d\", n_colors=len(a))[::-1]\n",
    "    bars = plt.bar(a.index, a.values, color = palette)\n",
    "\n",
    "    plt.axhline(y=mean, color='red', linestyle='-', linewidth=1)\n",
    "    plt.text(len(a) - 0.5, mean + 0.01, 'mean', color='red', fontsize=8)\n",
    "    plt.xticks([i for i in a.index], [i.replace(\"_\", \" \") for i in a.index],rotation=40, ha='right',fontsize = 8)\n",
    "    plt.title('Average Separation Behavior Score by Breed Group')\n",
    "    plt.ylabel('Mean Separation Score')\n",
    "    plt.xlabel('Breed Group')\n",
    "\n",
    "    plt.show()\n",
    "\n",
    "graph_sep_anx6()"
   ]
  },
  {
   "cell_type": "markdown",
   "metadata": {},
   "source": [
    "background informations"
   ]
  },
  {
   "cell_type": "code",
   "execution_count": null,
   "metadata": {},
   "outputs": [],
   "source": [
    "\n",
    "def graph_sep_anx7():\n",
    "    mean = get_mean()\n",
    "    subset = get_subset([\"separation_behavior_score\",\"obtained_from\",\"alone_time\"])\n",
    "\n",
    "    fig, axes = plt.subplots(1, 2, figsize=(12, 4))\n",
    "\n",
    "    #alone time\n",
    "    alone = subset.groupby(\"alone_time\")[\"separation_behavior_score\"].mean().sort_values(ascending=False)\n",
    "    palette = sns.dark_palette(\"#69d\", n_colors=len(alone))[::-1]\n",
    "\n",
    "    axes[0].bar(alone.index, alone.values, color = palette )\n",
    "\n",
    "    axes[0].set_title('Average Separation Behavior Score by Time Alone')\n",
    "    axes[0].set_ylabel('Average Separation Score')\n",
    "    axes[0].set_xlabel('Time Alone')\n",
    "    axes[0].set_xticks(range(len(alone)))\n",
    "    axes[0].set_xticklabels([i.replace(\"_\", \" \") for i in alone.index], rotation=40, ha='right')\n",
    "\n",
    "    #obtained_from\n",
    "\n",
    "    obtained = subset.groupby(\"obtained_from\")[\"separation_behavior_score\"].mean().sort_values(ascending=False)\n",
    "    palette = sns.dark_palette(\"#69d\", n_colors=len(obtained))[::-1]\n",
    "\n",
    "    axes[1].bar(obtained.index, obtained.values, color = palette, )\n",
    "    axes[1].set_title('Average Separation Behavior Score by Method of Acquisition')\n",
    "    axes[1].set_ylabel('Average Separation Behavior Score')\n",
    "    axes[1].set_xlabel('Method of Acquisition')\n",
    "    axes[1].set_xticks(range(len(obtained)))\n",
    "    axes[1].set_xticklabels([i.replace(\"_\", \" \") for i in obtained.index], ha='right')\n",
    "\n",
    "\n",
    "graph_sep_anx7()\n",
    "\n"
   ]
  }
 ],
 "metadata": {
  "language_info": {
   "name": "python"
  }
 },
 "nbformat": 4,
 "nbformat_minor": 0
}
