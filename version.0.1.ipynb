{
 "cells": [
  {
   "cell_type": "markdown",
   "metadata": {},
   "source": [
    "Projekt Vizualizácia\n",
    "---\n",
    "\n",
    "Téma: Psy\n",
    "\n",
    "Skupina Číslo: 10\n",
    "Skupina Názov: Gormiti\n",
    "\n",
    "Členovia: Adam Mjartan, Martin Bakus, Norbert Riebesam, Timotej Vida, Michal Salčík\n",
    "\n",
    "Použité Datasety (linky):\n",
    "\n",
    "- Hlavný Dataset: https://figshare.com/ndownloader/files/27715521\n",
    "- Geografické Dáta: https://worldostats.com/country-stats/dog-population-by-country/\n",
    "\n",
    "\n",
    "\n",
    "Dodatočné Zdroje:\n",
    "\n"
   ]
  },
  {
   "cell_type": "markdown",
   "metadata": {},
   "source": [
    "Import Použitých Knižníc"
   ]
  },
  {
   "cell_type": "code",
   "execution_count": null,
   "metadata": {},
   "outputs": [],
   "source": [
    "import pandas as pd\n",
    "import seaborn as sns\n",
    "import matplotlib.pyplot as plt\n",
    "import plotly.express as px\n",
    "import plotly\n",
    "import geopandas as gpd\n",
    "import numpy as np"
   ]
  },
  {
   "cell_type": "markdown",
   "metadata": {},
   "source": [
    "Načítanie Použitých Datasetov"
   ]
  },
  {
   "cell_type": "code",
   "execution_count": null,
   "metadata": {},
   "outputs": [],
   "source": [
    "main_data = pd.read_excel(r'https://figshare.com/ndownloader/files/27715521', sheet_name='Dataset')\n",
    "main_data_information = pd.read_excel(r'https://figshare.com/ndownloader/files/27715521', sheet_name='Information')\n",
    "population_data = pd.read_csv(r\"https://raw.githubusercontent.com/P3rfectS/Data/refs/heads/main/World%20Population%20by%20country%202024.csv\")\n",
    "#geografical_data = pd.read_csv(r\"https://raw.githubusercontent.com/P3rfectS/Data/refs/heads/main/Dog%20Population%20by%20Country.csv\")\n",
    "geografical_data = pd.read_csv(\"Misov Priestor/data/Dog Population by Country.csv\")\n",
    "world_geography = gpd.read_file(r\"https://github.com/P3rfectS/Data/raw/refs/heads/main/ne_110m_admin_0_countries/ne_110m_admin_0_countries.shp\")"
   ]
  },
  {
   "cell_type": "markdown",
   "metadata": {},
   "source": [
    "Príprava Vizuálnych Podkladov\n",
    "---"
   ]
  },
  {
   "cell_type": "markdown",
   "metadata": {},
   "source": [
    "Príprava: Geografické Dáta\n",
    "---\n",
    "\n",
    "#1 transofmácia, čistenie a doplnenie datasetu"
   ]
  },
  {
   "cell_type": "code",
   "execution_count": null,
   "metadata": {},
   "outputs": [],
   "source": [
    "#Odstránenie chybných dát\n",
    "geografical_data = geografical_data[geografical_data[\"Country\"] != 'Montenegro']\n",
    "\n",
    "#Doplnenie chýbajúcich dát (tvorba dočasného df)\n",
    "#new_row = pd.DataFrame([{\"Country\": \"Australia\", \"Estimated Dog Population\": \"6000000\"}])\n",
    "\n",
    "#Pripojenie ku pôvodnému datasetu\n",
    "#geografical_data = pd.concat([geografical_data, new_row], ignore_index=True)\n",
    "\n",
    "\n",
    "#Zmena tipu dát na numerické\n",
    "geografical_data['Estimated Dog Population'] = pd.to_numeric(\n",
    "    geografical_data['Estimated Dog Population'].str.replace(',', ''),\n",
    "    errors='coerce'\n",
    ")\n",
    "\n",
    "#Úprava názvov štátov v datasete aby zodpovedali názvom ktoré používa funkcia\n",
    "country_name_fixes = {\n",
    "    \"Swaziland\": \"Eswatini\",\n",
    "    \"Democratic Republic of Congo\": \"DR Congo\",\n",
    "    \"Kosovo\": \"Kosovo\",\n",
    "    \"United States of America\": \"United States\",\n",
    "    \"Czech Republic\": \"Czechia\",\n",
    "    \"United States\": \"United States of America\",\n",
    "    \"Bosnia and Herzegovina\": \"Bosnia and Herz.\"\n",
    "}\n",
    "geografical_data['Country'] = geografical_data['Country'].replace(country_name_fixes)\n",
    "population_data['Country'] = population_data['Country'].replace(country_name_fixes)"
   ]
  },
  {
   "cell_type": "markdown",
   "metadata": {},
   "source": [
    "#2 Tvorba zjednotených tabuľiek"
   ]
  },
  {
   "cell_type": "code",
   "execution_count": null,
   "metadata": {},
   "outputs": [],
   "source": [
    "#Tvorba zjednotenej tabulky\n",
    "full_table = geografical_data.merge(population_data, on='Country', how='left')\n",
    "full_table['Dog Population per Capita'] = full_table['Estimated Dog Population'] / full_table['Population 2024']\n",
    "#Tvorba tabuliek pre vizualizácie\n",
    "merged = world_geography.merge(geografical_data, how='left', left_on='NAME', right_on='Country')\n",
    "merged[\"Estimated Dog Population log\"] = np.log10(merged[\"Estimated Dog Population\"])\n",
    "merged_per_capita = world_geography.merge(full_table, how='left', left_on='NAME', right_on='Country')"
   ]
  },
  {
   "cell_type": "markdown",
   "metadata": {},
   "source": [
    "#3 Tvorba jednotlivých vizualizácií"
   ]
  },
  {
   "cell_type": "code",
   "execution_count": null,
   "metadata": {},
   "outputs": [],
   "source": [
    "#Funkcia pre vytvorenie geografickej vizualizácie psej populácie v rôznych krajinách sveta\n",
    "def geo_vytvor_populacia_psov():\n",
    "    fig, ax = plt.subplots(figsize=(15, 6))\n",
    "    mapa = merged.plot(\n",
    "        column='Estimated Dog Population log',\n",
    "        ax=ax,\n",
    "        legend=True,\n",
    "        cmap='OrRd',\n",
    "        missing_kwds={\"color\": \"lightgrey\", \"label\": \"No data\"}\n",
    "    )\n",
    "    cbar = mapa.get_figure().get_axes()[-1]\n",
    "    tick_values = cbar.get_yticks()\n",
    "    cbar.set_yticklabels([f\"10^{val:,}\" for val in tick_values])\n",
    "\n",
    "    plt.title(\"Estimated Dog Population by Country (log10)\")\n",
    "    plt.axis('off')\n",
    "    plt.show()\n",
    "\n",
    "#Funkcia pre vytvorenie geografickej vizualizácie populácie psov na jedného obyvateľa v rôznych krajinách sveta\n",
    "def geo_vytvor_psy_na_hlavu():\n",
    "    fig, ax = plt.subplots(figsize=(15, 6))\n",
    "    merged_per_capita.plot(\n",
    "    column='Dog Population per Capita',\n",
    "    ax=ax,\n",
    "    legend=True,\n",
    "    cmap='OrRd',\n",
    "    missing_kwds={\"color\": \"lightgrey\", \"label\": \"No data\"}\n",
    "    )\n",
    "    plt.title(\"Dog Population per Capita\")\n",
    "    plt.axis('off')\n",
    "    plt.show()\n",
    "\n",
    "geo_vytvor_populacia_psov()\n",
    "geo_vytvor_psy_na_hlavu()\n",
    "#HUSTOTA NA KM4"
   ]
  },
  {
   "cell_type": "markdown",
   "metadata": {},
   "source": [
    "Príprava: Predstavenie Datasetu // Dataset Bias\n",
    "---"
   ]
  }
 ],
 "metadata": {
  "language_info": {
   "name": "python"
  }
 },
 "nbformat": 4,
 "nbformat_minor": 2
}
