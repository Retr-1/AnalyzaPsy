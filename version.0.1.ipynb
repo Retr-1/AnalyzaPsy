{
 "cells": [
  {
   "cell_type": "markdown",
   "metadata": {},
   "source": [
    "Projekt Vizualizácia\n",
    "---\n",
    "\n",
    "Téma: Psy\n",
    "\n",
    "Skupina Číslo: 10\n",
    "Skupina Názov: Gormiti\n",
    "\n",
    "Členovia: Adam Mjartan, Martin Bakus, Norbert Riebesam, Timotej Vida, Michal Salčík\n",
    "\n",
    "Použité Datasety (linky):\n",
    "\n",
    "- Hlavný Dataset: https://figshare.com/ndownloader/files/27715521\n",
    "- Geografické Dáta: https://worldostats.com/country-stats/dog-population-by-country/\n",
    "- Populačné  Dáta: https://www.kaggle.com/datasets/dataanalyst001/world-population-by-country-2024\n",
    "\n",
    "\n",
    "Dodatočné Zdroje:\n",
    "\n"
   ]
  },
  {
   "cell_type": "markdown",
   "metadata": {},
   "source": [
    "Import Použitých Knižníc"
   ]
  },
  {
   "cell_type": "code",
   "execution_count": null,
   "metadata": {},
   "outputs": [],
   "source": [
    "import pandas as pd\n",
    "import seaborn as sns\n",
    "import matplotlib.pyplot as plt\n",
    "import plotly.express as px\n",
    "import plotly\n",
    "import geopandas as gpd\n",
    "import plotly.graph_objects as go\n",
    "import numpy as np\n",
    "from IPython.display import Markdown\n",
    "from matplotlib.patches import Patch"
   ]
  },
  {
   "cell_type": "markdown",
   "metadata": {},
   "source": [
    "Načítanie Použitých Datasetov"
   ]
  },
  {
   "cell_type": "code",
   "execution_count": null,
   "metadata": {},
   "outputs": [],
   "source": [
    "# main_data = pd.read_excel(r'https://figshare.com/ndownloader/files/27715521', sheet_name='Dataset')\n",
    "# dogs = main_data\n",
    "# main_data_information = pd.read_excel(r'https://figshare.com/ndownloader/files/27715521', sheet_name='Information')\n",
    "\n",
    "main_data = pd.read_csv(\"https://raw.githubusercontent.com/Retr-1/AnalyzaPsy/refs/heads/master/psy_data.csv\", header=0)\n",
    "dogs = main_data\n",
    "main_data_information = pd.read_csv(\"https://raw.githubusercontent.com/Retr-1/AnalyzaPsy/refs/heads/master/psy_info.csv\", header=0)\n",
    "\n",
    "population_data = pd.read_csv(r\"https://raw.githubusercontent.com/P3rfectS/Data/refs/heads/main/World%20Population%20by%20country%202024.csv\")\n",
    "#geografical_data = pd.read_csv(r\"https://raw.githubusercontent.com/P3rfectS/Data/refs/heads/main/Dog%20Population%20by%20Country.csv\")\n",
    "geografical_data = pd.read_csv(\"https://raw.githubusercontent.com/Retr-1/AnalyzaPsy/a83cd851e4664a59dcd5c589cee2720b9aec8b59/Misov%20Priestor/data/Dog%20Population%20by%20Country.csv\")\n",
    "world_geography = gpd.read_file(r\"https://github.com/P3rfectS/Data/raw/refs/heads/main/ne_110m_admin_0_countries/ne_110m_admin_0_countries.shp\")"
   ]
  },
  {
   "cell_type": "markdown",
   "metadata": {},
   "source": [
    "Príprava Vizuálnych Podkladov\n",
    "---"
   ]
  },
  {
   "cell_type": "markdown",
   "metadata": {},
   "source": [
    "Príprava: Geografické Dáta\n",
    "---\n",
    "\n",
    "#1 transofmácia, čistenie a doplnenie datasetu"
   ]
  },
  {
   "cell_type": "code",
   "execution_count": null,
   "metadata": {},
   "outputs": [],
   "source": [
    "#Odstránenie chybných dát\n",
    "geografical_data = geografical_data[geografical_data[\"Country\"] != 'Montenegro']\n",
    "\n",
    "#Doplnenie chýbajúcich dát (tvorba dočasného df)\n",
    "#new_row = pd.DataFrame([{\"Country\": \"Australia\", \"Estimated Dog Population\": \"6000000\"}])\n",
    "\n",
    "#Pripojenie ku pôvodnému datasetu\n",
    "#geografical_data = pd.concat([geografical_data, new_row], ignore_index=True)\n",
    "\n",
    "\n",
    "#Zmena typu dát na numerické\n",
    "geografical_data['Estimated Dog Population'] = pd.to_numeric(\n",
    "    geografical_data['Estimated Dog Population'].str.replace(',', ''),\n",
    "    errors='coerce'\n",
    ")\n",
    "\n",
    "#Úprava názvov štátov v datasete aby zodpovedali názvom ktoré používa funkcia\n",
    "country_name_fixes = {\n",
    "    \"Swaziland\": \"Eswatini\",\n",
    "    \"Democratic Republic of Congo\": \"DR Congo\",\n",
    "    \"Kosovo\": \"Kosovo\",\n",
    "    \"United States of America\": \"United States\",\n",
    "    \"Czech Republic\": \"Czechia\",\n",
    "    \"United States\": \"United States of America\",\n",
    "    \"Bosnia and Herzegovina\": \"Bosnia and Herz.\"\n",
    "}\n",
    "geografical_data['Country'] = geografical_data['Country'].replace(country_name_fixes)\n",
    "population_data['Country'] = population_data['Country'].replace(country_name_fixes)"
   ]
  },
  {
   "cell_type": "markdown",
   "metadata": {},
   "source": [
    "#2 Tvorba zjednotených tabuľiek"
   ]
  },
  {
   "cell_type": "code",
   "execution_count": null,
   "metadata": {},
   "outputs": [],
   "source": [
    "#Tvorba zjednotenej tabulky\n",
    "full_table = geografical_data.merge(population_data, on='Country', how='left')\n",
    "full_table['Dog Population per Capita'] = full_table['Estimated Dog Population'] / full_table['Population 2024']\n",
    "full_table[\"Area\"] = pd.to_numeric(full_table['Area (km2)'].str.replace(r'K', 'e3', regex=True).str.replace(r'M', 'e6', regex=True))\n",
    "full_table[\"Dog Population Density\"] = full_table[\"Estimated Dog Population\"] / full_table[\"Area\"]\n",
    "#Tvorba tabuliek pre vizualizácie\n",
    "merged = world_geography.merge(geografical_data, how='left', left_on='NAME', right_on='Country')\n",
    "merged[\"Estimated Dog Population log\"] = np.log10(merged[\"Estimated Dog Population\"])\n",
    "merged_per_capita = world_geography.merge(full_table, how='left', left_on='NAME', right_on='Country')\n",
    "merged_per_capita[\"Dog Population Density log\"] = np.log10(merged_per_capita[\"Dog Population Density\"])"
   ]
  },
  {
   "cell_type": "markdown",
   "metadata": {},
   "source": [
    "#3 Tvorba jednotlivých vizualizácií"
   ]
  },
  {
   "cell_type": "code",
   "execution_count": null,
   "metadata": {},
   "outputs": [],
   "source": [
    "#Funkcia pre vytvorenie geografickej vizualizácie psej populácie v rôznych krajinách sveta\n",
    "def geo_vytvor_populacia_psov():\n",
    "    fig, ax = plt.subplots(figsize=(15, 6))\n",
    "    mapa = merged.plot(\n",
    "        column='Estimated Dog Population log',\n",
    "        ax=ax,\n",
    "        legend=True,\n",
    "        cmap='OrRd',\n",
    "        missing_kwds={\"color\": \"lightgrey\", \"label\": \"No data\"}\n",
    "    )\n",
    "    cbar = mapa.get_figure().get_axes()[-1]\n",
    "    tick_values = cbar.get_yticks()\n",
    "    cbar.set_yticklabels([f\"10^{val:,}\" for val in tick_values])\n",
    "\n",
    "    plt.title(\"Estimated Dog Population by Country (log10)\")\n",
    "    plt.axis('off')\n",
    "    plt.show()\n",
    "\n",
    "#Funkcia pre vytvorenie geografickej vizualizácie populácie psov na jedného obyvateľa v rôznych krajinách sveta\n",
    "def geo_vytvor_psy_na_hlavu():\n",
    "    fig, ax = plt.subplots(figsize=(15, 6))\n",
    "    merged_per_capita.plot(\n",
    "    column='Dog Population per Capita',\n",
    "    ax=ax,\n",
    "    legend=True,\n",
    "    cmap='OrRd',\n",
    "    missing_kwds={\"color\": \"lightgrey\", \"label\": \"No data\"}\n",
    "    )\n",
    "    plt.title(\"Dog Population per Capita\")\n",
    "    plt.axis('off')\n",
    "    plt.show()\n",
    "\n",
    "def geo_vytvor_hustotu_psov():\n",
    "    fig, ax = plt.subplots(figsize=(15, 6))\n",
    "    mapa = merged_per_capita.plot(\n",
    "    column='Dog Population Density log',\n",
    "    ax=ax,\n",
    "    legend=True,\n",
    "    cmap='OrRd',\n",
    "    missing_kwds={\"color\": \"lightgrey\", \"label\": \"No data\"}\n",
    "    )\n",
    "\n",
    "    cbar = mapa.get_figure().get_axes()[-1]\n",
    "    tick_values = cbar.get_yticks()\n",
    "    cbar.set_yticklabels([f\"10^{val:,}\" for val in tick_values])\n",
    "\n",
    "    plt.title(\"Dog population density (per km^2, log10)\")\n",
    "    plt.axis('off')\n",
    "    plt.show()\n",
    "\n",
    "    \n",
    "geo_vytvor_populacia_psov()\n",
    "geo_vytvor_psy_na_hlavu()\n",
    "geo_vytvor_hustotu_psov()\n",
    "#HUSTOTA NA KM4"
   ]
  },
  {
   "cell_type": "markdown",
   "metadata": {},
   "source": [
    "Práca s pôvodnými dátami\n",
    "---"
   ]
  },
  {
   "cell_type": "code",
   "execution_count": null,
   "metadata": {},
   "outputs": [],
   "source": [
    "sns.histplot(data = main_data, x = \"daily_exercise\")\n",
    "figure, axes = plt.subplots(2,2, figsize = (12,10))\n",
    "for i, n in enumerate([\"barking_score\",\"stranger_aggression_score\",\"owner_aggression_score\",\"dog_aggression_score\"]):\n",
    "    sns.violinplot(data = main_data, x = \"impulsive\", y = n, ax = axes[i//2][i%2], color = \"orange\")\n",
    "    axes[i//2][i%2].set_title(\"How impulsivity influences \" + n.replace(\"_\", \" \").title())\n",
    "\n",
    "empathic_table = main_data[main_data['Empathic'].notna()].copy(deep = True)\n",
    "empathic_means = pd.DataFrame(empathic_table.groupby(\"breed_group\")[\"Empathic\"].mean())\n",
    "empathic_means = empathic_means.sort_values(\"Empathic\")\n",
    "fig = px.bar(empathic_means, y = empathic_means.index, x='Empathic', title = \"Empathic by dog breed\")\n",
    "fig.update_layout(\n",
    "    yaxis=dict(tickmode='linear'),  # Force all ticks to show\n",
    "    width=1200,\n",
    "    height=800,\n",
    "    bargap=0.05\n",
    ")\n",
    "fig.show()\n",
    "\n",
    "figure2, axes2 = plt.subplots(3,1, figsize = (6,15))\n",
    "sns.violinplot(data = main_data, x = \"aggression_strangers\", y = \"stranger_aggression_score\", ax = axes2[0], color = \"skyblue\")\n",
    "sns.violinplot(data = main_data, x = \"aggression_owner\", y = \"owner_aggression_score\", ax = axes2[1], color = \"skyblue\")\n",
    "sns.violinplot(data = main_data, x = \"aggression_dogs\", y = \"dog_aggression_score\", ax = axes2[2], color = \"skyblue\")\n",
    "for i in range(3):\n",
    "    axes2[i%3].set_title(\"How accurate are the owners answers compared to the calculated score\")\n",
    "figure2.subplots_adjust(hspace=0.4)"
   ]
  },
  {
   "cell_type": "code",
   "execution_count": null,
   "metadata": {},
   "outputs": [],
   "source": [
    "figure, axes = plt.subplots(2, 2, figsize = (12, 10))\n",
    "\n",
    "axes[0][0].hist2d(main_data[\"human_sociability_score\"].dropna(), main_data[\"dog_sociability_score\"].dropna(), bins = 20)\n",
    "axes[0][0].set_title(\"Dog sociability (relation between sociability to humans and dogs)\")\n",
    "axes[0][0].set_xlabel(\"Human sociability score\")\n",
    "axes[0][0].set_ylabel(\"Dog sociabilty score\")\n",
    "\n",
    "axes[0][1].hist2d(main_data[\"insecurity_score\"].dropna(), main_data[\"aggressiveness_dominance_score\"].dropna(), bins = 20)\n",
    "axes[0][1].set_title(\"Relation between insecurity and aggressiveness of dogs)\")\n",
    "axes[0][1].set_xlabel(\"Insecurity score\")\n",
    "axes[0][1].set_ylabel(\"Aggressiveness dominance score\")\n",
    "\n",
    "axes[1][0].hist2d(main_data[\"human_sociability_score\"].dropna(), main_data[\"aggressiveness_dominance_score\"].dropna(), bins = 20)\n",
    "axes[1][0].set_title(\"Relation between sociability to humans and aggressiveness)\")\n",
    "axes[1][0].set_xlabel(\"Human sociability score\")\n",
    "axes[1][0].set_ylabel(\"Aggressiveness dominance score\")\n",
    "\n",
    "axes[1][1].hist2d(main_data[\"activity_playfulness_score\"].dropna(), main_data[\"dog_sociability_score\"].dropna(), bins = 20)\n",
    "axes[1][1].set_title(\"Relation between playfulness and dog sociability)\")\n",
    "axes[1][1].set_xlabel(\"Activity playfulness score\")\n",
    "axes[1][1].set_ylabel(\"Dog sociability score\")\n",
    "figure.subplots_adjust(wspace=0.4)\n",
    "\n",
    "\n",
    "\n",
    "figure2, axes2 = plt.subplots(2,2, figsize = (12, 10))\n",
    "sns.kdeplot(x = main_data[\"human_sociability_score\"].dropna(), y = main_data[\"dog_sociability_score\"].dropna(), ax = axes2[0][0], fill = True)\n",
    "axes2[0][0].set_title(\"Dog sociability (relation between sociability to humans and dogs)\")\n",
    "axes2[0][0].set_xlabel(\"Human sociability score\")\n",
    "axes2[0][0].set_ylabel(\"Dog sociabilty score\")\n",
    "\n",
    "sns.kdeplot(x = main_data[\"insecurity_score\"].dropna(), y = main_data[\"aggressiveness_dominance_score\"].dropna(), ax = axes2[0][1], fill = True)\n",
    "axes2[0][1].set_title(\"Relation between insecurity and aggressiveness of dogs)\")\n",
    "axes2[0][1].set_xlabel(\"Insecurity score\")\n",
    "axes2[0][1].set_ylabel(\"Aggressiveness dominance score\")\n",
    "\n",
    "sns.kdeplot(x = main_data[\"human_sociability_score\"].dropna(), y = main_data[\"aggressiveness_dominance_score\"].dropna(), ax = axes2[1][0], fill = True)\n",
    "axes2[1][0].set_title(\"Relation between sociability to humans and aggressiveness)\")\n",
    "axes2[1][0].set_xlabel(\"Human sociability score\")\n",
    "axes2[1][0].set_ylabel(\"Aggressiveness dominance score\")\n",
    "\n",
    "sns.kdeplot(x = main_data[\"activity_playfulness_score\"].dropna(), y = main_data[\"dog_sociability_score\"].dropna(), ax = axes2[1][1], fill = True)\n",
    "axes2[1][1].set_title(\"Relation between playfulness and dog sociability)\")\n",
    "axes2[1][1].set_xlabel(\"Activity playfulness score\")\n",
    "axes2[1][1].set_ylabel(\"Dog sociability score\")\n",
    "figure.subplots_adjust(hspace=0.4)\n",
    "plt.show()"
   ]
  },
  {
   "cell_type": "code",
   "execution_count": null,
   "metadata": {},
   "outputs": [],
   "source": [
    "\n",
    "figure, axes = plt.subplots(2,3, figsize = (18,15))\n",
    "for i, n in enumerate([\"metal_grid\", \"shiny_floor\", \"open_stairs\", \"closed_stairs\", \"moving_surface\", \"slippery_floor\"]):\n",
    "    sns.barplot(data = main_data, x = \"fear_surfaces\", y = n, ax = axes[i//3][i%3], color = \"slateblue\")\n",
    "    axes[i//3][i%3].set_ylim(bottom = 1)\n",
    "    axes[i//3][i%3].set_title(n.replace(\"_\", \" \").title() + \" by answer for fear surfaces\")"
   ]
  },
  {
   "cell_type": "markdown",
   "metadata": {},
   "source": [
    "Príprava: Predstavenie Datasetu // Dataset Bias\n",
    "---"
   ]
  },
  {
   "cell_type": "code",
   "execution_count": null,
   "metadata": {},
   "outputs": [],
   "source": [
    "fig = px.bar(dogs['breed_group'].value_counts().reset_index(), y='breed_group', x='count', title='Pocty jednotlivych plemien v datach', width=1000, height=700, )\n",
    "fig.update_layout(\n",
    "    yaxis=dict(tickmode='linear'),  # Force all ticks to show\n",
    "    width=1200,\n",
    "    height=800,\n",
    "    bargap=0.05\n",
    ")\n",
    "fig.show()"
   ]
  },
  {
   "cell_type": "code",
   "execution_count": null,
   "metadata": {},
   "outputs": [],
   "source": [
    "df = dogs.groupby(by=['sterilization_status','sex'])['dog.id'].count()#.rename(columns={'dog.id':'count'})#.reset_index().set_index(['sex', 'sterilization_status'])\n",
    "\n",
    "fig = go.Figure(data=[\n",
    "    go.Bar(name='sterlized', x=['male', 'female'], y=[df['sterilized', 'male'], df['sterilized', 'female']]),\n",
    "    go.Bar(name='intact', x=['male', 'female'], y=[df['intact', 'male'], df['intact', 'female']])\n",
    "])\n",
    "fig.update_layout(barmode='stack', width=700, title='Number of male and female sterilized/intact dogs')\n",
    "fig.show()"
   ]
  },
  {
   "cell_type": "code",
   "execution_count": null,
   "metadata": {},
   "outputs": [],
   "source": [
    "# fig = go.Figure()\n",
    "# fig.add_trace(go.Histogram(x=dogs.query('sex == \"male\"')['weight_kg'], name='Male', hovertext=dogs.query('sex == \"male\"')['dog.id']))\n",
    "# fig.add_trace(go.Histogram(x=dogs.query('sex == \"female\"')['weight_kg'], name='Female',  hovertext=dogs.query('sex == \"female\"')['dog.id']))\n",
    "\n",
    "# # Overlay both histograms\n",
    "# fig.update_layout(barmode='overlay', xaxis_title='Weight in KG', title='Weight Histogram by gender')\n",
    "# # Reduce opacity to see both histograms\n",
    "# fig.update_traces(opacity=0.75)\n",
    "# fig.show()\n",
    "sns.histplot(dogs, x='weight_kg', hue='sex', common_norm=False, stat='probability',hue_order=['female', 'male'], palette=['C3', 'C0'],)\n",
    "plt.xlabel('Weight [kg]')\n",
    "pass"
   ]
  },
  {
   "cell_type": "code",
   "execution_count": null,
   "metadata": {},
   "outputs": [],
   "source": [
    "categories = ['Noise.sensitivity_age',\n",
    "'Fearfulness_age',\n",
    "'Aggression_age',\n",
    "'Surface_age',\n",
    "'Separation_age',\n",
    "'Impulsivity_age',\n",
    "'Personality_age']\n",
    "\n",
    "ages_melt = dogs[categories + ['dog.id']].melt(id_vars='dog.id')\n",
    "\n",
    "sns.kdeplot(data=ages_melt, x='value', hue='variable')\n",
    "plt.title('KDE plot of ages at which the forms were answered')\n",
    "pass"
   ]
  },
  {
   "cell_type": "code",
   "execution_count": null,
   "metadata": {},
   "outputs": [],
   "source": [
    "categories = ['Noise.sensitivity_age',\n",
    "'Fearfulness_age',\n",
    "'Aggression_age',\n",
    "'Surface_age',\n",
    "'Separation_age',\n",
    "'Impulsivity_age',\n",
    "'Personality_age']\n",
    "A = dogs[categories]\n",
    "B = A[(A.nunique(axis=1) == 1)]\n",
    "# display(Markdown('<h2>Vsetky riadky, ktore nemaju ani jednu hodnotu NaN a maju rozdielne veky vyplnenia formularov</h2>'))\n",
    "display(Markdown(f'<h2>{B.shape[0]} záznamov má všetky dotazníky vyplnené v rovnakom veku, alebo nevyplnené</h2>'))\n",
    "display(B)\n"
   ]
  },
  {
   "cell_type": "code",
   "execution_count": null,
   "metadata": {},
   "outputs": [],
   "source": [
    "A = dogs[categories]\n",
    "# B = pd.Series([1,1]) / pd.Series([0, 0]) - pd.Series([1,1]) / pd.Series([0,0]) # Creates NaN series\n",
    "A = A[A.nunique(axis=1) > 1]\n",
    "A['delta'] = A.max(axis=1) - A.min(axis=1)\n",
    "A = A.sort_values(by='delta', ascending=False)\n",
    "A['mean_age'] = A[categories].mean(axis=1)\n",
    "display(Markdown('<h2>V niektorych pripadoch su rozdiely az 1 az 2 roky, co by mohlo sposobit mensie vychylky v konzistentnosti dat'))\n",
    "display(A.head(10))\n",
    "B = A.iloc[1:, ]\n",
    "# sns.stripplot(A['delta'], alpha=0.3)\n",
    "# plt.ylim([0,2.5])\n",
    "sns.displot(B['delta'], kind='ecdf')\n",
    "plt.xlabel('Rozdiel medzi min a max vekom')\n",
    "plt.grid(visible=True, which='both', linestyle='--', alpha=0.7)\n",
    "plt.title(\"ECDF rozdielov vekov, v ktorých boli vyplnené formuláre\")\n",
    "plt.xticks(np.linspace(start=0, stop=2, num=9).round(2))\n",
    "plt.yticks(np.linspace(start=0, stop=1, num=9).round(2))\n",
    "# sns.displot(B['delta'], kind='ecdf')\n",
    "\n",
    "plt.subplots()\n",
    "sns.scatterplot(B, x='mean_age', y='delta', alpha=0.3)\n",
    "plt.title(\"Rozdiel vo vekoch psa\")\n",
    "\n",
    "display(Markdown(f'<h2>Počet psov, ktoré majú rozdiel väčší ako 1 a vek menší ako 2 roky = {B.query('delta > 1 and mean_age < 2').shape[0]}'))\n",
    "pass"
   ]
  },
  {
   "cell_type": "code",
   "execution_count": null,
   "metadata": {},
   "outputs": [],
   "source": [
    "features = \"\"\"\n",
    "Willing_to_learn\n",
    "Playful_dogs\n",
    "Playful_people\n",
    "Obedient\n",
    "Anxious\n",
    "Lazy\n",
    "Intelligent\n",
    "Reliable\n",
    "Human_dependent\n",
    "Erratic\n",
    "Stubborn\n",
    "Fearful_people\n",
    "Fearful_dogs\n",
    "Curious\n",
    "Impulsive\n",
    "Affectionate_people\n",
    "Persevering\n",
    "Distractible\n",
    "Submissive\n",
    "Cautious\n",
    "Dominant\n",
    "Patient\n",
    "Sociable_dogs_samegender\n",
    "Sociable_dogs_oppositegender\n",
    "Human_oriented\n",
    "Prey_driven_search\n",
    "Empathic\n",
    "Aggressive_dogs_samegender\n",
    "Greedy\n",
    "Attention_seeking\n",
    "Indifferent\n",
    "Aggressive_people\n",
    "Affectionate_dogs\n",
    "\"\"\"\n",
    "features = features.split()\n",
    "A = dogs[features].dropna().transpose()\n",
    "sns.clustermap(A, xticklabels=False, cmap='YlOrBr', figsize=(15,10))"
   ]
  },
  {
   "cell_type": "code",
   "execution_count": null,
   "metadata": {},
   "outputs": [],
   "source": [
    "B = A.transpose().query(\"Aggressive_people >= 4\").transpose()\n",
    "display(Markdown(\"<h1>Dogs with Aggressive_people >= 4</h1>\"))\n",
    "print('Dog count:', B.shape[1])\n",
    "sns.clustermap(B, xticklabels=False, cmap='YlOrBr', figsize=(15,10))"
   ]
  },
  {
   "cell_type": "code",
   "execution_count": null,
   "metadata": {},
   "outputs": [],
   "source": [
    "CORR = dogs[features + ['stranger_aggression_score']].corr(method='spearman')\n",
    "COLS = CORR.columns.to_list()\n",
    "CORR = CORR.reset_index().melt(id_vars='index', value_vars=COLS)\n",
    "CORR.columns = ['A', 'B', 'coef']\n",
    "CORR['size'] = CORR['coef'].abs()\n",
    "CORR = CORR.query('coef < 1')\n",
    "CORR = CORR.sort_values(by=['A','B'], ascending=[True, False])\n",
    "\n",
    "fig = px.scatter(CORR, x='A', y='B', size='size', color='coef', width=1200, height=1200, color_continuous_scale=px.colors.diverging.RdBu[::-1], range_color=[-1,1], hover_data={'A':True,'B':True,'coef':True,'size':False}, size_max=25)\n",
    "fig.update_layout(\n",
    "    plot_bgcolor='rgba(0,0,0,0)',   # Transparent plot background\n",
    "    paper_bgcolor='rgba(30,30,30,255)',  # Transparent overall background\n",
    "    xaxis=dict(showgrid=False, gridcolor='rgba(222, 222, 222, 1)', layer=\"below traces\", autorange='reversed'),     # Hide x gridlines\n",
    "    yaxis=dict(showgrid=False, gridcolor='rgba(222, 222, 222, 0.3)', layer=\"below traces\"),\n",
    "    font=dict(color=\"white\"),\n",
    "    xaxis_title='',\n",
    "    yaxis_title='',\n",
    ")\n",
    "fig.show()"
   ]
  },
  {
   "cell_type": "markdown",
   "metadata": {},
   "source": [
    "Zaujímave korelácie:\n",
    "---\n",
    "* Anxious a Human dependend\n",
    "* Playful dogs a Human oriented\n",
    "* Sociable dogs a Submissive\n",
    "* Sociable dogs opposite gender a Dominant"
   ]
  },
  {
   "cell_type": "markdown",
   "metadata": {},
   "source": [
    "# Chovatelia"
   ]
  },
  {
   "cell_type": "code",
   "execution_count": null,
   "metadata": {},
   "outputs": [],
   "source": [
    "A = dogs[['dog_breeder', 'leashed_unleashed']].value_counts().reset_index()\n",
    "A['leashed_unleashed'] = pd.Categorical(A['leashed_unleashed'], ordered=True, categories=['unleashed', 'partly_leashed', 'leashed'])\n",
    "A = A.sort_values(by='leashed_unleashed')\n",
    "A['total'] = A.groupby('dog_breeder')['count'].transform('sum')\n",
    "A['percentage'] = A['count'] / A['total']\n",
    "fig = px.bar(A, x='leashed_unleashed', y='percentage', color='dog_breeder', barmode='group', title='Leash usage amongst dog owners')\n",
    "fig.update_layout(\n",
    "    xaxis_title='',\n",
    ")\n",
    "fig.show()\n"
   ]
  },
  {
   "cell_type": "code",
   "execution_count": null,
   "metadata": {},
   "outputs": [],
   "source": [
    "sns.violinplot(dogs, x='dog_breeder', y='Obedient', hue='dog_breeder')\n",
    "plt.title('Obedience of their dog according to dog owners')"
   ]
  },
  {
   "cell_type": "code",
   "execution_count": null,
   "metadata": {},
   "outputs": [],
   "source": [
    "sns.violinplot(dogs, x='dog_breeder', y='stranger_aggression_score', hue='dog_breeder')\n",
    "plt.title('Stranger aggression amongst dog owners')"
   ]
  },
  {
   "cell_type": "markdown",
   "metadata": {},
   "source": [
    "Zistili sme\n",
    "---\n",
    "* Chovatelia posov pouzivaju menej voditko a su si istejsi, ze ich pes viac poslucha\n",
    "* V stranger_aggression_score nebol prejaveny rozdiel, cize nie je mensia sanca, ze pes zautoci na cudzieho cloveka, a tym, ze chovatel nepouziva voditko, tak to moze byt nebezpecnejsie"
   ]
  },
  {
   "cell_type": "markdown",
   "metadata": {},
   "source": [
    "# Agresivita psov"
   ]
  },
  {
   "cell_type": "code",
   "execution_count": null,
   "metadata": {},
   "outputs": [],
   "source": [
    "aggressive_columns = ['Aggressive_dogs_samegender', 'Aggressive_people', 'Aggressive_dogs_oppositegender', 'aggressiveness_dominance_score']\n",
    "\n",
    "means = dogs.groupby('breed_group')[aggressive_columns].mean().reset_index()\n",
    "means['Aggressive_columns_sum'] = means[aggressive_columns[0]] + means[aggressive_columns[1]] + means[aggressive_columns[2]]\n",
    "means.sort_values(by='Aggressive_columns_sum', inplace=True)\n",
    "fig = px.bar(means, y='breed_group', x=aggressive_columns[:-1], title='Dog aggression by breed')\n",
    "fig.update_layout(\n",
    "    xaxis_title='aggression',\n",
    "    yaxis=dict(tickmode='linear'),  # Force all ticks to show\n",
    "    width=1500,\n",
    "    height=800,\n",
    ")\n",
    "fig.show()"
   ]
  },
  {
   "cell_type": "code",
   "execution_count": null,
   "metadata": {},
   "outputs": [],
   "source": [
    "STRANGER_PHOBIAS = ['Stranger_withdraw',\n",
    " 'Stranger_bark',\n",
    " 'Stranger_growl',\n",
    " 'Stranger_taillow',\n",
    " 'Stranger_staynear',\n",
    " 'Stranger_notwilling',\n",
    " 'Stranger_enthusiastic',\n",
    " 'Stranger_indifferent',\n",
    " 'Stranger_lowposture',\n",
    " 'Stranger_moveaway',\n",
    " 'Stranger_suspicious']\n",
    "\n",
    "dogs_vs_strangers = dogs[STRANGER_PHOBIAS].dropna().transpose()\n",
    "sns.clustermap(dogs_vs_strangers, xticklabels=False, cmap='YlOrBr', figsize=(10,6))"
   ]
  },
  {
   "cell_type": "code",
   "execution_count": null,
   "metadata": {},
   "outputs": [],
   "source": [
    "\n",
    "soc = dogs[['socialization', 'stranger_aggression_score']]\n",
    "# soc['aggressivness'] = dogs[aggressive_columns[0]] + dogs[aggressive_columns[1]] + dogs[aggressive_columns[2]]\n",
    "soc = soc.sort_values(by='socialization').dropna()\n",
    "soc = soc.rolling(200).mean()\n",
    "fig = px.line(data_frame=soc, x='socialization', y='stranger_aggression_score', title='Influence of socialization on stranger aggression', width=1500)\n",
    "fig.show()"
   ]
  },
  {
   "cell_type": "code",
   "execution_count": null,
   "metadata": {},
   "outputs": [],
   "source": [
    "display(dogs['stranger_aggression_score'].describe())"
   ]
  },
  {
   "cell_type": "code",
   "execution_count": null,
   "metadata": {},
   "outputs": [],
   "source": [
    "A = dogs.copy()\n",
    "A['Socialization_people'] = (dogs[['Socialization_men', 'Socialization_women', 'Socialization_children']].sum(axis=1) / 3).apply('round')\n",
    "# A['Socialization_urban'] = (dogs[['Socialization_city', 'Socialization_public.transportation']].sum(axis=1) / 2).apply('round')\n",
    "# A['Socialization_public.transportation']\n",
    "fig, axe = plt.subplots(2,2, figsize=(15,10))\n",
    "for i,x in enumerate(['Socialization_people', 'Socialization_dogs', 'Socialization_city', 'Socialization_public.transportation']):\n",
    "    ax = sns.boxplot(A, x=x, y='stranger_aggression_score', ax=axe[i//2,i%2])\n",
    "    ax.set_title(x)\n",
    "    ax.set_xlabel(\"\")\n",
    "display(Markdown('**Preco je v socializacii ludmi taky skok ?**'))\n",
    "print(f'Počet záznamov so socializáciou 1: {A.query('Socialization_people == 1').shape[0]}')"
   ]
  },
  {
   "cell_type": "code",
   "execution_count": null,
   "metadata": {},
   "outputs": [],
   "source": [
    "px.scatter(dogs, x='fearfulness_score', y='stranger_aggression_score').show()\n",
    "\n",
    "A = pd.concat([dogs, pd.cut(dogs['fearfulness_score'], np.linspace(-2, 5, 50)).rename('interval')], axis=1)\n",
    "\n",
    "B = A.groupby('interval')['stranger_aggression_score'].mean()\n",
    "axe = sns.barplot(B)\n",
    "\n",
    "C = pd.concat([A, A.groupby('interval')['stranger_aggression_score'].transform('count').rename('CCC')], axis=1)\n",
    "axe = sns.stripplot(C.loc[C['CCC'] < 10], x='interval', y='stranger_aggression_score', color='red', ax=axe)\n",
    "axe.set_xticklabels('')\n",
    "axe.set_xlabel('fearfulness_score')\n",
    "pass"
   ]
  },
  {
   "cell_type": "code",
   "execution_count": null,
   "metadata": {},
   "outputs": [],
   "source": [
    "x = 'stranger_aggression_score'\n",
    "y = 'owner_aggression_score'\n",
    "px.scatter(dogs, x=x, y=y).show()\n",
    "A = dogs.copy()\n",
    "A['interval'] = pd.cut(A['stranger_aggression_score'], np.linspace(-1.5, 8.2, 50))\n",
    "ax = sns.pointplot(A.groupby('interval')['owner_aggression_score'].mean(), markersize=3)\n",
    "ax.set_xlabel('stranger_aggression_score')\n",
    "ax.set_xticklabels('')\n",
    "pass"
   ]
  },
  {
   "cell_type": "markdown",
   "metadata": {},
   "source": [
    "Prečo je na začiatku spád ?\n",
    "---\n",
    "Hypotéza:  Pes sa hanbi pred cudzimi - na majitelov si dovolia, lebo vedia, ze im nic nespravia, ale od cudzich nevedia co maju cakat."
   ]
  },
  {
   "cell_type": "code",
   "execution_count": null,
   "metadata": {},
   "outputs": [],
   "source": [
    "x = 'stranger_aggression_score'\n",
    "y = 'owner_aggression_score'\n",
    "px.scatter(dogs, x=x, y=y, color='Food_growl')"
   ]
  },
  {
   "cell_type": "code",
   "execution_count": null,
   "metadata": {},
   "outputs": [],
   "source": [
    "def simpleline(x, y):\n",
    "    return sns.lineplot(dogs.groupby(x)[y].mean(), label=x, marker='o')\n",
    "\n",
    "CORR = dogs[features + ['stranger_aggression_score']].corr(method='spearman')\n",
    "COLS = CORR.columns.to_list()\n",
    "CORR = CORR.reset_index().melt(id_vars='index', value_vars=COLS)\n",
    "CORR.columns = ['A', 'B', 'coef']\n",
    "CORR['size'] = CORR['coef'].abs()\n",
    "CORR = CORR.query('coef < 1')\n",
    "\n",
    "F = CORR.query('A == \"stranger_aggression_score\" and coef >= 0.2')['B'].to_list()\n",
    "F.remove('Aggressive_people')\n",
    "for i,x in enumerate(F):\n",
    "    simpleline(x, 'stranger_aggression_score')\n",
    "plt.legend()\n",
    "plt.xlabel('')\n",
    "plt.ylabel('Stranger Aggression')\n",
    "plt.xticks(range(1,6))"
   ]
  },
  {
   "cell_type": "code",
   "execution_count": null,
   "metadata": {},
   "outputs": [],
   "source": [
    "F = CORR.query('A == \"stranger_aggression_score\" and coef <= -0.2')['B'].to_list()\n",
    "for i,x in enumerate(F):\n",
    "    simpleline(x, 'stranger_aggression_score')\n",
    "plt.legend()\n",
    "plt.ylabel('Stranger Aggression')\n",
    "plt.xlabel('')\n",
    "plt.xticks(range(1,6))"
   ]
  },
  {
   "cell_type": "code",
   "execution_count": null,
   "metadata": {},
   "outputs": [],
   "source": [
    "females = dogs.query('sex == \"female\"')\n",
    "males = dogs.query('sex == \"male\"')\n",
    "\n",
    "# display(dogs.loc[:, ['Aggression_age', 'stranger_aggression_score']])\n",
    "fig, axes = plt.subplots(1,2, sharex=True, sharey=True, figsize=(10,6))\n",
    "# sns.scatterplot(females, x='Aggression_age', y='stranger_aggression_score', c='darkred', alpha=0.2, ax=axes[0])\n",
    "sns.regplot(males, x='Aggression_age', y='stranger_aggression_score', color='darkblue', ax=axes[0], line_kws=dict(color='lightblue'), scatter_kws={'alpha':0.2}, order=2)\n",
    "sns.regplot(females, x='Aggression_age', y='stranger_aggression_score', color='darkred', ax=axes[1], line_kws=dict(color='#ff7566'), scatter_kws={'alpha':0.2}, order=2)\n",
    "axes[0].set_title('Males')\n",
    "axes[1].set_title('Females')"
   ]
  },
  {
   "cell_type": "markdown",
   "metadata": {},
   "source": [
    "# Outlayers"
   ]
  },
  {
   "cell_type": "markdown",
   "metadata": {},
   "source": [
    "## Pes, ktorý sa dožil 100 rokov"
   ]
  },
  {
   "cell_type": "code",
   "execution_count": null,
   "metadata": {},
   "outputs": [],
   "source": [
    "categories = ['Noise.sensitivity_age',\n",
    "'Fearfulness_age',\n",
    "'Aggression_age',\n",
    "'Surface_age',\n",
    "'Separation_age',\n",
    "'Impulsivity_age',\n",
    "'Personality_age']\n",
    "ages = dogs[categories]\n",
    "# display(ages.describe())\n",
    "display(dogs.query('Surface_age > 100'))#.transpose().rename(columns={15370: 'Pes, ktorý sa dožil 100 rokov'}))"
   ]
  },
  {
   "cell_type": "markdown",
   "metadata": {},
   "source": [
    "## Pes s vahou >100kg"
   ]
  },
  {
   "cell_type": "code",
   "execution_count": null,
   "metadata": {},
   "outputs": [],
   "source": [
    "display(dogs.query('weight_kg > 100'))"
   ]
  },
  {
   "cell_type": "code",
   "execution_count": null,
   "metadata": {},
   "outputs": [],
   "source": [
    "A = dogs.set_index('dog.id').query('Aggressive_people >= 4 and Affectionate_people >= 4')[['Aggressive_people', 'Affectionate_people']]\n",
    "n = A.shape[0]\n",
    "display(Markdown(f'<h2>{n} ľudí vyplnilo, že ich pes je 4 a viac agresívny voči ľuďom a zároveň 4 a viac prítulný k ľudom</h2>'))"
   ]
  },
  {
   "cell_type": "markdown",
   "metadata": {},
   "source": [
    "# Separačná úzkosť"
   ]
  },
  {
   "cell_type": "code",
   "execution_count": null,
   "metadata": {},
   "outputs": [],
   "source": [
    "def get_subset(values):\n",
    "    return dogs.loc[:, values ]\n",
    "\n",
    "def get_mean():\n",
    "    return dogs[\"separation_behavior_score\"].mean()"
   ]
  },
  {
   "cell_type": "markdown",
   "metadata": {},
   "source": [
    "## Rozdelenie na úzkostlivé a neúzkostlivé"
   ]
  },
  {
   "cell_type": "markdown",
   "metadata": {},
   "source": [
    "### Rozdelenie psov podľa podľa odpovedí majitela ohladom separačnej úzkostlivosti."
   ]
  },
  {
   "cell_type": "code",
   "execution_count": null,
   "metadata": {},
   "outputs": [],
   "source": [
    "def graph_sep_anx1():\n",
    "    subset = get_subset([\"separation_anxiety\", \"separation_behavior_score\"])\n",
    "    sns.countplot(data=subset, x=\"separation_anxiety\", hue=\"separation_anxiety\", legend = False)\n",
    "    plt.title(\"Count of Separation Anxiety Cases based on owners answers\")\n",
    "    plt.xlabel(\"\")\n",
    "    plt.xticks([0.0, 1.0], [\"Not anxious\", \"Anxious\"])\n",
    "    plt.ylabel(\"Count\")\n",
    "\n",
    "graph_sep_anx1()"
   ]
  },
  {
   "cell_type": "markdown",
   "metadata": {},
   "source": [
    "### Rozdelenie na nadpriemerne a podpriemerne úzkostlivé"
   ]
  },
  {
   "cell_type": "code",
   "execution_count": null,
   "metadata": {},
   "outputs": [],
   "source": [
    "def graph_sep_anx2():\n",
    "    mean = get_mean()\n",
    "    subset = get_subset([\"separation_anxiety\", \"separation_behavior_score\"])\n",
    "\n",
    "\n",
    "    temp = []\n",
    "    for i in subset[\"separation_behavior_score\"]:\n",
    "        if i<= mean:\n",
    "            temp.append(0.0)\n",
    "        elif i> mean:\n",
    "            temp.append(1.0)\n",
    "        else:\n",
    "            temp.append(None)\n",
    "\n",
    "\n",
    "    subset[\"anxious\"] = temp\n",
    "\n",
    "    sns.countplot(data=subset ,x=\"anxious\",hue = \"anxious\")\n",
    "    plt.title(\"Count of Separation Anxiety Cases Based on Average Measured Score\")\n",
    "\n",
    "    plt.xlabel(\"\")\n",
    "    plt.xticks([0.0, 1.0], [\"Less Anxious Than Average\", \"More Anxious Than Average\"])\n",
    "    plt.ylabel(\"Count\")\n",
    "    plt.legend().remove()\n",
    "graph_sep_anx2()"
   ]
  },
  {
   "cell_type": "markdown",
   "metadata": {},
   "source": [
    "### Rozdelenie na neúzkostlivé podľa majitela, ale nadpriemerne úzkostlivé a úzkostlivé podla majiteľa ale podpriemerne úzkostlivé."
   ]
  },
  {
   "cell_type": "code",
   "execution_count": null,
   "metadata": {},
   "outputs": [],
   "source": [
    "def graph_sep_anx3():\n",
    "    fig, axes = plt.subplots(1, 2, figsize=(16, 6))\n",
    "    mean = get_mean()\n",
    "    subset = get_subset([\"separation_anxiety\", \"separation_behavior_score\"])\n",
    "    sns.countplot(data=subset.query(\"separation_anxiety == 0 and separation_behavior_score>=@mean\"), x=\"separation_anxiety\",ax=axes[0])\n",
    "    sns.countplot(data=subset.query(\"separation_anxiety == 1 and separation_behavior_score<=@mean\"), x=\"separation_anxiety\",ax=axes[0])\n",
    "\n",
    "    axes[0].set_xlabel(\"\")\n",
    "    axes[0].set_xticks([0.0, 1.0], [\"More Anxious Than Average\\n(Not Anxious — Owner)\", \"Less Anxious Than Average\\n(Anxious — Owner)\"])\n",
    "    axes[0].set_ylabel(\"Count\")\n",
    "    ######\n",
    "\n",
    "    sns.countplot(data=subset.query(\"separation_anxiety==0\"), x=\"separation_anxiety\", color = \"#69d\",ax=axes[1])\n",
    "    sns.countplot(data=subset.query(\"separation_anxiety == 0 and separation_behavior_score>@mean\"), x=\"separation_anxiety\",color = \"orange\",ax=axes[1])\n",
    "\n",
    "    sns.countplot(data=subset.query(\"separation_anxiety==1\"), x=\"separation_anxiety\",color = \"orange\",ax=axes[1])\n",
    "    sns.countplot(data=subset.query(\"separation_anxiety == 1 and separation_behavior_score<=@mean\"), x=\"separation_anxiety\",color = \"#69d\",ax=axes[1])\n",
    "\n",
    "    axes[1].set_xlabel(\"\")\n",
    "    axes[1].set_xticks([0.0, 1.0], [\"Not Anxious (Owner)\",\"Anxious (Owner)\" ])\n",
    "    axes[1].set_ylabel(\"Count\")\n",
    "\n",
    "    #pomoc od chatgpt\n",
    "    custom_legend = [\n",
    "        Patch(facecolor=\"orange\", label='More Anxious Than Average'),\n",
    "        Patch(facecolor=\"#69d\", label='Less Anxious Than Average')\n",
    "    ]\n",
    "    axes[1].legend(handles=custom_legend, title=\"Legend\", loc='upper right')\n",
    "    #koniec pomoci od chatgpt\n",
    "    plt.suptitle(\"Owner Responses Compared to Average Separation Anxiety Level\")\n",
    "\n",
    "graph_sep_anx3()"
   ]
  },
  {
   "cell_type": "markdown",
   "metadata": {},
   "source": [
    "## Hľadanie najčastejšieho a najmenej častého príznaku separačnej úzkostlivosti"
   ]
  },
  {
   "cell_type": "markdown",
   "metadata": {},
   "source": [
    "### Početnosť nazbieraných hodnôt"
   ]
  },
  {
   "cell_type": "code",
   "execution_count": null,
   "metadata": {},
   "outputs": [],
   "source": [
    "def graph_sep_anx4():\n",
    "    mean = get_mean()\n",
    "    columns = ['Leaving_pant', 'Leaving_vocalization', 'Leaving_salivate', 'Leaving_restless', 'Alone_destroy', 'Alone_urinate', 'Alone_vocalize', 'Alone_pant']\n",
    "    subset = get_subset([\"separation_anxiety\", \"separation_behavior_score\"]+columns)\n",
    "\n",
    "\n",
    "    fig, axes = plt.subplots(2, 4, figsize=(18, 10))\n",
    "    axes = axes.flatten()\n",
    "\n",
    "    for i, col in enumerate(columns):\n",
    "        \n",
    "        sns.countplot(x=col, data=subset, ax=axes[i],hue = col, palette = sns.dark_palette(\"#69d\", reverse=True, as_cmap=True))\n",
    "        axes[i].set_title(col.replace(\"_\", \" \"))\n",
    "        axes[i].set_xlabel(\"\")\n",
    "        axes[i].set_ylabel(\"Count\")\n",
    "\n",
    "        tick_labels = {0.0: \"Never\", 1.0: \"Rarely\", 2.0: \"Sometimes\", 3.0: \"Often\", 4.0: \"Very often\"}\n",
    "        axes[i].set_xticks(list(tick_labels.keys()))\n",
    "        axes[i].set_xticklabels(list(tick_labels.values()), rotation=15, ha='right')\n",
    "        axes[i].legend().remove()\n",
    "    plt.tight_layout()\n",
    "    plt.show()\n",
    "graph_sep_anx4()"
   ]
  },
  {
   "cell_type": "markdown",
   "metadata": {},
   "source": [
    "### Priemery nazbieraných hodnôt"
   ]
  },
  {
   "cell_type": "code",
   "execution_count": null,
   "metadata": {},
   "outputs": [],
   "source": [
    "def graph_sep_anx5():\n",
    "    mean = get_mean()\n",
    "    columns = ['Leaving_pant', 'Leaving_vocalization', 'Leaving_salivate', 'Leaving_restless', 'Alone_destroy', 'Alone_urinate', 'Alone_vocalize', 'Alone_pant']\n",
    "    subset = get_subset([\"separation_anxiety\", \"separation_behavior_score\"]+columns)\n",
    "\n",
    "    mean_values, symptoms = zip(*sorted([(subset[i].mean(),i.replace(\"_\", \" \")) for i in columns], key=lambda x: x[0])[::-1])\n",
    "    plt.figure(figsize=(10, 6))\n",
    "    palette = sns.dark_palette(\"#69d\", reverse=True, n_colors=len(mean_values))\n",
    "\n",
    "    plt.bar(symptoms, mean_values, color = palette)\n",
    "\n",
    "    plt.xticks(rotation=15, ha='right')\n",
    "    plt.xlabel('Symptoms of separation anxiety')\n",
    "\n",
    "    ticks = plt.yticks()[0]   \n",
    "    plt.yticks(ticks[::2])  \n",
    "    plt.ylabel('Means')\n",
    "\n",
    "    plt.title('Means of symptoms of separation anxiety')\n",
    "\n",
    "graph_sep_anx5()"
   ]
  },
  {
   "cell_type": "markdown",
   "metadata": {},
   "source": [
    "## Zisťujeme najúzkostlivejšiu skupinu plemien psov"
   ]
  },
  {
   "cell_type": "code",
   "execution_count": null,
   "metadata": {},
   "outputs": [],
   "source": [
    "def graph_sep_anx6():\n",
    "    mean = get_mean()\n",
    "    subset = get_subset([\"separation_behavior_score\",  \"breed_group\"])\n",
    "\n",
    "    a = subset.groupby(\"breed_group\")[\"separation_behavior_score\"].mean().sort_values(ascending=False)\n",
    "    plt.figure(figsize=(14, 8))\n",
    "\n",
    "    palette = sns.dark_palette(\"#69d\", n_colors=len(a))[::-1]\n",
    "    bars = plt.bar(a.index, a.values, color = palette)\n",
    "\n",
    "    plt.axhline(y=mean, color='red', linestyle='-', linewidth=1)\n",
    "    plt.text(len(a) - 0.5, mean + 0.01, 'mean', color='red', fontsize=8)\n",
    "    plt.xticks([i for i in a.index], [i.replace(\"_\", \" \") for i in a.index],rotation=40, ha='right',fontsize = 8)\n",
    "    plt.title('Average Separation Behavior Score by Breed Group')\n",
    "    plt.ylabel('Mean Separation Score')\n",
    "    plt.xlabel('Breed Group')\n",
    "\n",
    "    plt.show()\n",
    "\n",
    "graph_sep_anx6()"
   ]
  },
  {
   "cell_type": "markdown",
   "metadata": {},
   "source": [
    "## Separačná úzkosť vzhľadom na niektoré informácie o pôvode psov."
   ]
  },
  {
   "cell_type": "code",
   "execution_count": null,
   "metadata": {},
   "outputs": [],
   "source": [
    "def graph_sep_anx7():\n",
    "    mean = get_mean()\n",
    "    subset = get_subset([\"separation_behavior_score\",\"obtained_from\",\"alone_time\"])\n",
    "\n",
    "    fig, axes = plt.subplots(1, 2, figsize=(12, 4))\n",
    "\n",
    "    #alone time\n",
    "    alone = subset.groupby(\"alone_time\")[\"separation_behavior_score\"].mean().sort_values(ascending=False)\n",
    "    palette = sns.dark_palette(\"#69d\", n_colors=len(alone))[::-1]\n",
    "\n",
    "    axes[0].bar(alone.index, alone.values, color = palette )\n",
    "\n",
    "    axes[0].set_title('Average Separation Behavior Score by Time Alone')\n",
    "    axes[0].set_ylabel('Average Separation Score')\n",
    "    axes[0].set_xlabel('Time Alone')\n",
    "    axes[0].set_xticks(range(len(alone)))\n",
    "    axes[0].set_xticklabels([i.replace(\"_\", \" \") for i in alone.index], rotation=40, ha='right')\n",
    "\n",
    "    #obtained_from\n",
    "\n",
    "    obtained = subset.groupby(\"obtained_from\")[\"separation_behavior_score\"].mean().sort_values(ascending=False)\n",
    "    palette = sns.dark_palette(\"#69d\", n_colors=len(obtained))[::-1]\n",
    "\n",
    "    axes[1].bar(obtained.index, obtained.values, color = palette, )\n",
    "    axes[1].set_title('Average Separation Behavior Score by Method of Acquisition')\n",
    "    axes[1].set_ylabel('Average Separation Behavior Score')\n",
    "    axes[1].set_xlabel('Method of Acquisition')\n",
    "    axes[1].set_xticks(range(len(obtained)))\n",
    "    axes[1].set_xticklabels([i.replace(\"_\", \" \") for i in obtained.index], ha='right')\n",
    "\n",
    "\n",
    "graph_sep_anx7()"
   ]
  },
  {
   "cell_type": "markdown",
   "metadata": {},
   "source": [
    "Uskostlivosť vzhľadom na vek"
   ]
  },
  {
   "cell_type": "code",
   "execution_count": null,
   "metadata": {},
   "outputs": [],
   "source": [
    "def graph_sep_anx10():\n",
    "    plt.figure(figsize=(10, 6))\n",
    "    mean = get_mean()\n",
    "    subset = get_subset([\"separation_behavior_score\", \"Separation_age\"])\n",
    "\n",
    "    sns.scatterplot(\n",
    "        subset,\n",
    "        x=\"Separation_age\",\n",
    "        y=\"separation_behavior_score\",\n",
    "    )\n",
    "\n",
    "    plt.xlabel(\"Age Of Separation\")\n",
    "    plt.ylabel(\"Separation Behavior Score\")\n",
    "    plt.title(\"Separation Behavior Score By Separation Age\")\n",
    "    plt.axhline(y=mean, color='red', linestyle='-', linewidth=1)\n",
    "    plt.text(max(subset[\"Separation_age\"]) - 0.1, mean + 0.01, 'mean', color='red', fontsize=10)\n",
    "    plt.show()\n",
    "\n",
    "graph_sep_anx10()"
   ]
  },
  {
   "cell_type": "markdown",
   "metadata": {},
   "source": [
    "# Načítanie dát znova za účelom nemixovania spracovávaní datasetu"
   ]
  },
  {
   "cell_type": "code",
   "execution_count": null,
   "metadata": {},
   "outputs": [],
   "source": [
    "dogs = pd.read_csv(\"https://raw.githubusercontent.com/Retr-1/AnalyzaPsy/refs/heads/master/psy_data.csv\", header=0).set_index(\"dog.id\")\n",
    "dog_info = pd.read_csv(\"https://raw.githubusercontent.com/Retr-1/AnalyzaPsy/refs/heads/master/psy_info.csv\", header=0)\n",
    "casti = ['Demographic information', 'Environment and background', 'Personality', \n",
    "     'Noise sensitivity', 'Fearfulness', 'Aggression', \n",
    "     'Fear of surfaces and heights', 'Separation anxiety', 'Impulsivity/ inattention']\n",
    "zoz = []\n",
    "for i in dog_info['SECTION']:\n",
    "    if i in casti:\n",
    "        slovo = i\n",
    "    zoz.append(slovo)\n",
    "dog_info['SECTION'] = pd.Series(zoz)\n",
    "dog_info = dog_info.set_index('SECTION').drop('Unnamed: 0', axis=1)"
   ]
  },
  {
   "cell_type": "markdown",
   "metadata": {},
   "source": [
    "## Tuto budu zoznamy jednotlivych casti, a urobene casti tabulky podla kategorie\n"
   ]
  },
  {
   "cell_type": "code",
   "execution_count": null,
   "metadata": {},
   "outputs": [],
   "source": [
    "spojite_vsetky = dog_info[dog_info['COLUMN VALUES'].str.contains('continuous', na=False)]\n",
    "spojite = list(spojite_vsetky.query('SECTION != \"Demographic information\"')['COLUMN NAME'])\n",
    "spojite_set = set(spojite)\n",
    "\n",
    "\n",
    "dogs_male = dogs.query(\"sex=='male'\")\n",
    "dogs_female = dogs.query(\"sex=='female'\")\n",
    "\n",
    "dogs_demographic = dogs.transpose().iloc[0:11].transpose()\n",
    "dogs_environment = dogs.transpose().iloc[11:42].transpose()\n",
    "dogs_personality = dogs.transpose().iloc[42:112].transpose()\n",
    "dogs_noise_sensitivity = dogs.transpose().iloc[112:154].transpose()\n",
    "dogs_fearfullness = dogs.transpose().iloc[154:189].transpose()\n",
    "dogs_aggression = dogs.transpose().iloc[189:214].transpose()\n",
    "dogs_fear_surfaces = dogs.transpose().iloc[214:222].transpose()\n",
    "dogs_separation_anxiety = dogs.transpose().iloc[222:232].transpose()\n",
    "dogs_inattention = dogs.transpose().iloc[232:250].transpose()\n",
    "\n",
    "\n",
    "demographic = list(dogs_demographic.columns)\n",
    "environment = list(dogs_environment.columns)\n",
    "personality = list(dogs_personality.columns)\n",
    "noise_sensitivity = list(dogs_noise_sensitivity.columns)\n",
    "fearfullness = list(dogs_fearfullness.columns)\n",
    "aggression = list(dogs_aggression.columns)\n",
    "fear_surfaces = list(dogs_fear_surfaces.columns)\n",
    "separation_anxiety = list(dogs_separation_anxiety.columns)\n",
    "inattention = list(dogs_inattention.columns)\n",
    "\n",
    "demographic_continuous = list(spojite_set & set(demographic))\n",
    "environment_continuous = list(spojite_set & set(environment))\n",
    "personality_continuous = list(spojite_set & set(personality))\n",
    "noise_sensitivity_continuous = list(spojite_set & set(noise_sensitivity))\n",
    "fearfullness_continuous = list(spojite_set & set(fearfullness))\n",
    "aggression_continuous = list(spojite_set & set(aggression))\n",
    "fear_surfaces_continuous = list(spojite_set & set(fear_surfaces))\n",
    "separation_anxiety_continuous = list(spojite_set & set(separation_anxiety))\n",
    "inattention_continuous = list(spojite_set & set(inattention))\n",
    "\n",
    "demographic_discrete = list(set(demographic) - spojite_set)\n",
    "environment_discrete = list(set(environment) - spojite_set)\n",
    "personality_discrete = list(set(personality) - spojite_set)\n",
    "noise_sensitivity_discrete = list(set(noise_sensitivity) - spojite_set)\n",
    "fearfullness_discrete = list(set(fearfullness) - spojite_set)\n",
    "aggression_discrete = list(set(aggression) - spojite_set)\n",
    "fear_surfaces_discrete = list(set(fear_surfaces) - spojite_set)\n",
    "separation_anxiety_discrete = list(set(separation_anxiety) - spojite_set)\n",
    "inattention_discrete = list(set(inattention) - spojite_set)\n",
    "\n",
    "nespojite = environment_discrete+personality_discrete+noise_sensitivity_discrete+fearfullness_discrete+aggression_discrete+fear_surfaces_discrete+separation_anxiety_discrete+inattention_discrete\n",
    "nespojite = list(set(nespojite)-set(environment))"
   ]
  },
  {
   "cell_type": "markdown",
   "metadata": {},
   "source": [
    "# Explorativna analyza"
   ]
  },
  {
   "cell_type": "code",
   "execution_count": null,
   "metadata": {},
   "outputs": [],
   "source": [
    "breeds = list(dogs['breed_group'].unique())\n",
    "breed_count = len(breeds)\n",
    "male_count = len(dogs.query(\"sex=='male'\"))\n",
    "female_count = len(dogs.query(\"sex=='female'\"))\n",
    "\n",
    "# print('plemena:', breeds)\n",
    "print('mnozstvo samcov:', male_count)\n",
    "print('mnozstvo samic:', female_count)\n",
    "print('nozstvo plemien:', breed_count)\n",
    "\n",
    "\n",
    "figure, axes = plt.subplots(1, 1, figsize=(13, 10))\n",
    "sns.violinplot(data=dogs[spojite], orient='h', ax=axes)\n",
    "axes.set_title('Distribution of continuous scores')\n"
   ]
  },
  {
   "cell_type": "markdown",
   "metadata": {},
   "source": [
    "## Agresivita\n",
    "#### samce vs samice"
   ]
  },
  {
   "cell_type": "code",
   "execution_count": null,
   "metadata": {},
   "outputs": [],
   "source": [
    "\n",
    "figure, axes = plt.subplots(1, 1, figsize=(6, 5), sharey=True)\n",
    "\n",
    "# popisy = {\n",
    "#     'Aggressive_dogs_samegender': 'Voči psom rovnakého pohlavia',\n",
    "#     'Aggressive_dogs_oppositegender': 'Voči psom opačného pohlavia',\n",
    "#     'Aggressive_people': 'Voči ľuďom',\n",
    "#     'aggressiveness_dominance_score': 'Dominancia / Agresivita',\n",
    "#     'stranger_aggression_score': 'Agresivita voči cudzim',\n",
    "#     'owner_aggression_score': 'Agresivita voči majiteľovi',\n",
    "#     'dog_aggression_score': 'Agresivita voči psom',\n",
    "#     'barking_score': 'Brechanie'\n",
    "# }\n",
    "\n",
    "# First plot\n",
    "agresivita_gender = dogs.groupby('sex')[['Aggressive_dogs_samegender', 'Aggressive_dogs_oppositegender', 'Aggressive_people']].mean().reset_index().melt(id_vars='sex')\n",
    "agresivita_gender['variable'] = agresivita_gender['variable']#.replace(popisy)\n",
    "\n",
    "sns.barplot(agresivita_gender, y='variable', x='value', hue='sex', palette={'male':'blue', 'female':'violet'}, ax=axes, orient='h')\n",
    "\n",
    "axes.set_title('Average Aggression', fontsize=14)\n",
    "axes.set_xlabel('Value', fontsize=12)\n",
    "axes.set_ylabel('', fontsize=12)\n",
    "axes.legend(title='Sex')\n",
    "plt.tight_layout()\n",
    "plt.show()\n",
    "\n",
    "# Second plot\n",
    "figure, axes = plt.subplots(1, 1)\n",
    "plt.xticks(ha='right') \n",
    "agresivita_gender = dogs.groupby('sex')[['aggressiveness_dominance_score', 'stranger_aggression_score', 'owner_aggression_score', 'dog_aggression_score', 'barking_score']].mean().reset_index().melt(id_vars='sex')\n",
    "agresivita_gender['variable'] = agresivita_gender['variable']#.replace(popisy)\n",
    "\n",
    "sns.barplot(agresivita_gender, x='variable', y='value', hue='sex', palette={'male':'blue', 'female':'violet'})\n",
    "axes.tick_params(axis='x', rotation=25)\n",
    "\n",
    "axes.set_title('Average Aggression and Barking', fontsize=14)\n",
    "axes.set_ylabel('Value', fontsize=12)\n",
    "axes.set_xlabel('', fontsize=12)\n",
    "axes.set_ylim(-0.25, 0.25)\n",
    "axes.legend(title='Sex')\n",
    "plt.tight_layout()\n",
    "plt.show()\n"
   ]
  },
  {
   "cell_type": "markdown",
   "metadata": {},
   "source": [
    "# Kastracia\n",
    "zistovanie najrozdielnejsich vlastnosti v ramci kastracie"
   ]
  },
  {
   "cell_type": "code",
   "execution_count": null,
   "metadata": {},
   "outputs": [],
   "source": [
    "print('pocet sterilizovanych:', len([x for x in dogs['sterilization_status'] if x == \"intact\"]))\n",
    "\n",
    "pocet = 10\n",
    "\n",
    "kastracia_male = dogs.query('sex==\"male\"').groupby(\"sterilization_status\").mean(numeric_only=True).transpose().iloc[8:]\n",
    "kastracia_male.columns.name = None\n",
    "kastracia_male[\"personality_trait\"] = kastracia_male.index\n",
    "\n",
    "kastracia_rozdiely_male_nespojite = kastracia_male.loc[nespojite, :].copy(deep=True)\n",
    "kastracia_rozdiely_male_nespojite[\"diff\"] = abs(kastracia_rozdiely_male_nespojite[\"sterilized\"] - kastracia_rozdiely_male_nespojite[\"intact\"])\n",
    "kastracia_rozdiely_male_nespojite[\"graf_diff\"] = (kastracia_rozdiely_male_nespojite[\"sterilized\"] - kastracia_rozdiely_male_nespojite[\"intact\"])\n",
    "kastracia_rozdiely_male_nespojite[\"positive\"] = (kastracia_rozdiely_male_nespojite[\"graf_diff\"]>0)\n",
    "kastracia_rozdiely_male_nespojite = kastracia_rozdiely_male_nespojite.sort_values(\"graf_diff\", key=abs, ascending=False).head(pocet)\n",
    "\n",
    "index_male_nespojite = list(kastracia_rozdiely_male_nespojite.sort_values('diff', ascending=False).head(pocet).index)\n",
    "\n",
    "\n",
    "kastracia_rozdiely_male_spojite = kastracia_male.loc[spojite, :].copy(deep=True)\n",
    "kastracia_rozdiely_male_spojite[\"diff\"] = abs(kastracia_rozdiely_male_spojite[\"sterilized\"] - kastracia_rozdiely_male_spojite[\"intact\"])\n",
    "kastracia_rozdiely_male_spojite[\"graf_diff\"] = (kastracia_rozdiely_male_spojite[\"sterilized\"] - kastracia_rozdiely_male_spojite[\"intact\"])\n",
    "kastracia_rozdiely_male_spojite[\"positive\"] = (kastracia_rozdiely_male_spojite[\"graf_diff\"]>0)\n",
    "kastracia_rozdiely_male_spojite = kastracia_rozdiely_male_spojite.sort_values(\"graf_diff\", key=abs, ascending=False).head(pocet)\n",
    "\n",
    "index_male_spojite= list(kastracia_rozdiely_male_spojite.sort_values('diff', ascending=False).head(pocet).index)\n",
    "\n",
    "###################################################################################################################################\n",
    "\n",
    "kastracia_female = dogs.query('sex==\"female\"').groupby(\"sterilization_status\").mean(numeric_only=True).transpose().iloc[8:]\n",
    "kastracia_female.columns.name = None\n",
    "kastracia_female[\"personality_trait\"] = kastracia_female.index\n",
    "\n",
    "kastracia_rozdiely_female_nespojite = kastracia_female.loc[nespojite, :].copy(deep=True)\n",
    "kastracia_rozdiely_female_nespojite[\"diff\"] = abs(kastracia_rozdiely_female_nespojite[\"sterilized\"] - kastracia_rozdiely_female_nespojite[\"intact\"])\n",
    "kastracia_rozdiely_female_nespojite[\"graf_diff\"] = (kastracia_rozdiely_female_nespojite[\"sterilized\"] - kastracia_rozdiely_female_nespojite[\"intact\"])\n",
    "kastracia_rozdiely_female_nespojite[\"positive\"] = (kastracia_rozdiely_female_nespojite[\"graf_diff\"]>0)\n",
    "kastracia_rozdiely_female_nespojite = kastracia_rozdiely_female_nespojite.sort_values(\"graf_diff\", key=abs, ascending=False).head(pocet)\n",
    "index_female_nespojite = list(kastracia_rozdiely_female_nespojite.sort_values('diff', ascending=False).head(pocet).index)\n",
    "\n",
    "\n",
    "kastracia_rozdiely_female_spojite = kastracia_female.loc[spojite, :].copy(deep=True)\n",
    "kastracia_rozdiely_female_spojite[\"diff\"] = abs(kastracia_rozdiely_female_spojite[\"sterilized\"] - kastracia_rozdiely_female_spojite[\"intact\"])\n",
    "kastracia_rozdiely_female_spojite[\"graf_diff\"] = (kastracia_rozdiely_female_spojite[\"sterilized\"] - kastracia_rozdiely_female_spojite[\"intact\"])\n",
    "kastracia_rozdiely_female_spojite[\"positive\"] = (kastracia_rozdiely_female_spojite[\"graf_diff\"]>0)\n",
    "kastracia_rozdiely_female_spojite = kastracia_rozdiely_female_spojite.sort_values(\"graf_diff\", key=abs, ascending=False).head(pocet)\n",
    "index_female_spojite= list(kastracia_rozdiely_female_spojite.sort_values('diff', ascending=False).head(pocet).index)\n"
   ]
  },
  {
   "cell_type": "markdown",
   "metadata": {},
   "source": [
    "## Kastracia pokracovanie - Grafy\n",
    "vygrafovanie zistenych vlastnosti"
   ]
  },
  {
   "cell_type": "code",
   "execution_count": null,
   "metadata": {},
   "outputs": [],
   "source": [
    "\n",
    "dogs_melted_male_spojite = kastracia_male.loc[index_male_spojite, :].melt(id_vars=[\"personality_trait\"], var_name='sterilization_status').set_index(\"personality_trait\")\n",
    "dogs_melted_female_spojite = kastracia_female.loc[index_female_spojite, :].melt(id_vars=[\"personality_trait\"], var_name='sterilization_status').set_index(\"personality_trait\")\n",
    "\n",
    "palette = {'intact': 'dodgerblue', 'sterilized': 'tomato'}\n",
    "\n",
    "figure, axes = plt.subplots(1, 2, figsize=(18, 6), sharey=True)\n",
    "\n",
    "sns.barplot(\n",
    "    data=dogs_melted_male_spojite, x=dogs_melted_male_spojite.index, y=\"value\", hue=\"sterilization_status\",\n",
    "    ax=axes[0], palette=palette, dodge=0.6, width=0.4, edgecolor='black', linewidth=0.5\n",
    ")\n",
    "axes[0].set_xticklabels(axes[0].get_xticklabels(), ha='right')\n",
    "axes[0].tick_params(axis='x', rotation=30)\n",
    "axes[0].set_title(\"Male\")\n",
    "axes[0].set_xlabel('')\n",
    "\n",
    "sns.barplot(\n",
    "    data=dogs_melted_female_spojite, x=dogs_melted_female_spojite.index, y=\"value\", hue=\"sterilization_status\",\n",
    "    ax=axes[1], palette=palette, dodge=0.6, width=0.4, edgecolor='black', linewidth=0.5\n",
    ")\n",
    "axes[1].set_xticklabels(axes[1].get_xticklabels(), ha='right')\n",
    "axes[1].tick_params(axis='x', rotation=30)\n",
    "axes[1].set_title(\"Female\")\n",
    "axes[1].set_xlabel('')\n",
    "\n",
    "plt.suptitle(\"Traits with the Greatest Variance by Sterilization Status – Continuous\", fontsize=16)\n",
    "plt.tight_layout()\n",
    "plt.show()\n",
    "\n",
    "\n",
    "###########################################\n",
    "\n",
    "dogs_melted_male_nespojite = kastracia_male.loc[index_male_nespojite, :].melt(id_vars=[\"personality_trait\"], var_name='sterilization_status').set_index(\"personality_trait\")\n",
    "dogs_melted_female_nespojite = kastracia_female.loc[index_female_nespojite, :].melt(id_vars=[\"personality_trait\"], var_name='sterilization_status').set_index(\"personality_trait\")\n",
    "\n",
    "figure, axes = plt.subplots(1, 2, figsize=(18, 6), sharey=True)\n",
    "for ax in axes:\n",
    "    ax.axhline(0, color='gray', linestyle='--', linewidth=1)\n",
    "\n",
    "sns.barplot(data=dogs_melted_male_nespojite, x=dogs_melted_male_nespojite.index, y=\"value\", hue=\"sterilization_status\", ax=axes[0], palette=palette, dodge=0.6, width=0.5, edgecolor='black', linewidth=0.5)\n",
    "plt.xticks(ha='right') \n",
    "axes[0].tick_params(axis='x', rotation=30)\n",
    "axes[0].set_xticklabels(axes[0].get_xticklabels(), ha='right')\n",
    "axes[0].set_xlabel('')\n",
    "axes[0].set_title(\"Male\")\n",
    "sns.barplot(data=dogs_melted_female_nespojite, x=dogs_melted_female_nespojite.index, y=\"value\", hue=\"sterilization_status\", ax=axes[1], palette=palette, dodge=0.6, width=0.5, edgecolor='black', linewidth=0.5)\n",
    "axes[1].set_xticklabels(axes[1].get_xticklabels(), ha='right')\n",
    "axes[1].tick_params(axis='x', rotation=30)\n",
    "axes[1].set_xlabel('')\n",
    "axes[1].set_title(\"Female\")\n",
    "plt.suptitle(\"Traits with the Greatest Variance by Sterilization Status - discrete\")\n"
   ]
  },
  {
   "cell_type": "markdown",
   "metadata": {},
   "source": [
    "#  Kastracia Rozdiely"
   ]
  },
  {
   "cell_type": "code",
   "execution_count": null,
   "metadata": {},
   "outputs": [],
   "source": [
    "# display(kastracia_rozdiely_male_spojite)\n",
    "palette = {False: 'green', True: 'red'}\n",
    "\n",
    "figure, axes = plt.subplots(2, 2, figsize=(12, 12), sharey=True)\n",
    "\n",
    "sns.barplot(data=kastracia_rozdiely_male_nespojite, x=kastracia_rozdiely_male_nespojite.index, y=\"diff\", hue='positive', ax=axes[0][0], palette=palette)\n",
    "axes[0][0].set_title(\"Males – Categorical Variables\")\n",
    "\n",
    "sns.barplot(data=kastracia_rozdiely_female_nespojite, x=kastracia_rozdiely_female_nespojite.index, y=\"diff\", hue='positive', ax=axes[0][1], palette=palette)\n",
    "axes[0][1].set_title(\"Females – Categorical Variables\")\n",
    "\n",
    "sns.barplot(data=kastracia_rozdiely_male_spojite, x=kastracia_rozdiely_male_spojite.index, y=\"diff\", hue='positive', ax=axes[1][0], palette=palette)\n",
    "axes[1][0].set_title(\"Males – Continuous Variables\")\n",
    "\n",
    "sns.barplot(data=kastracia_rozdiely_female_spojite, x=kastracia_rozdiely_female_spojite.index, y=\"diff\", hue='positive', ax=axes[1][1], palette=palette)\n",
    "axes[1][1].set_title(\"Females – Continuous Variables\")\n",
    "\n",
    "handles, labels = axes[0][0].get_legend_handles_labels()\n",
    "for ax in axes.flat:\n",
    "    ax.set_xlabel(\"\")\n",
    "    ax.set_ylabel(\"difference\")\n",
    "    ax.legend(handles, ['Intact', 'Sterilized'], title='Which group scores higher')\n",
    "    ax.tick_params(axis='x', labelrotation=30)\n",
    "    ax.set_xticklabels(ax.get_xticklabels(), ha='right')\n",
    "\n",
    "plt.suptitle(\"Difference\")\n",
    "plt.tight_layout()\n",
    "plt.show()\n",
    "\n"
   ]
  },
  {
   "cell_type": "markdown",
   "metadata": {},
   "source": [
    "## Kastracia dalsia\n",
    "planujem urobit ze zoberiem spojite premenne z jednotlivych casti dotaznika\n",
    "a porovnam s ktorou suvisi kastrovanie najviac (nemam nicim podlozene, ale pride mi ze pri jednotlivych otazkach to moze byt aj trochu nahodne)"
   ]
  },
  {
   "cell_type": "code",
   "execution_count": null,
   "metadata": {},
   "outputs": [],
   "source": [
    "# dogs_melted_spojite_male = kastracia_male.loc[spojite, :].melt(id_vars=[\"personality_trait\"], var_name='sterilization_status').set_index(\"personality_trait\")\n",
    "# dogs_melted_spojite_female = kastracia_female.loc[spojite, :].melt(id_vars=[\"personality_trait\"], var_name='sterilization_status').set_index(\"personality_trait\")\n",
    "\n",
    "# palette = {'intact': 'green', 'sterilized': 'red'}\n",
    "\n",
    "# figure, axes = plt.subplots(1, 2, figsize=(14, 7))\n",
    "# sns.barplot(data=dogs_melted_spojite_male, y=dogs_melted_spojite_male.index, x=\"value\", hue=\"sterilization_status\", ax=axes[0], orient='h', palette=palette)\n",
    "# # axes[0].tick_params(axis='y', rotation=30)\n",
    "# axes[0].set_title(\"male\")\n",
    "# # axes[0].set_xticklabels(axes[0].get_xticklabels(), ha='right')\n",
    "# sns.barplot(data=dogs_melted_spojite_female, y=dogs_melted_spojite_female.index, x=\"value\", hue=\"sterilization_status\", ax=axes[1], orient='h', palette=palette)\n",
    "# # axes[1].tick_params(axis='y', rotation=30)\n",
    "# axes[1].set_title(\"female\")\n",
    "# # axes[1].set_xticklabels(axes[1].get_xticklabels(), ha='right')"
   ]
  },
  {
   "cell_type": "markdown",
   "metadata": {},
   "source": [
    "## Kastracia a agresivita\n",
    "porovnam podobnym bargrafom agresivitu"
   ]
  },
  {
   "cell_type": "code",
   "execution_count": null,
   "metadata": {},
   "outputs": [],
   "source": [
    "dogs_melted_aggression_male = kastracia_male.loc[aggression_discrete, :].melt(id_vars=[\"personality_trait\"], var_name='sterilization_status').set_index(\"personality_trait\")\n",
    "dogs_melted_aggression_female = kastracia_female.loc[aggression_discrete, :].melt(id_vars=[\"personality_trait\"], var_name='sterilization_status').set_index(\"personality_trait\")\n",
    "\n",
    "# palette = {'intact': 'blue', 'sterilized': 'red'}\n",
    "\n",
    "\n",
    "figure, axes = plt.subplots(1, 2, figsize=(9, 8), sharey=True)\n",
    "sns.barplot(data=dogs_melted_aggression_male, y=dogs_melted_aggression_male.index, x=\"value\", hue=\"sterilization_status\", ax=axes[0], orient='h', width=0.6)\n",
    "# axes[0].tick_params(axis='x', rotation=30)\n",
    "axes[0].set_title(\"male\")\n",
    "axes[0].set_ylabel(\"\")\n",
    "sns.barplot(data=dogs_melted_aggression_female, y=dogs_melted_aggression_female.index, x=\"value\", hue=\"sterilization_status\", ax=axes[1], orient='h', width=0.6)\n",
    "# axes[1].tick_params(axis='x', rotation=30)\n",
    "axes[1].set_title(\"female\")\n",
    "\n",
    "plt.suptitle(\"Difference in Aggresion traits with Sterilization\")\n"
   ]
  },
  {
   "cell_type": "markdown",
   "metadata": {},
   "source": [
    "### Tuto je agresivita psov\n",
    "##### ku psom, majitelom a cudzncom\n",
    "podla veku "
   ]
  },
  {
   "cell_type": "code",
   "execution_count": null,
   "metadata": {},
   "outputs": [],
   "source": [
    "psy1 = dogs.copy(deep=True)\n",
    "psy1[\"Aggression_age\"] = psy1[\"Aggression_age\"].round(1)\n",
    "\n",
    "psy1 = psy1.groupby(\"Aggression_age\")[aggression_continuous].mean()\n",
    "\n",
    "fig, axes = plt.subplots(1, 1, figsize=(6, 4))\n",
    "sns.histplot(data=dogs, x=\"Aggression_age\", ax=axes, binwidth=0.1)\n",
    "axes.set_title(\"Histogram of Questionnaire Age\", fontsize=13)\n",
    "axes.set_xlabel(\"Age (years)\", fontsize=12)\n",
    "axes.set_ylabel(\"Number of Dogs\", fontsize=12)\n",
    "plt.tight_layout()\n",
    "plt.show()\n",
    "\n",
    "fig, axes = plt.subplots(1, 3, figsize=(16, 5), sharey=True)\n",
    "\n",
    "sns.scatterplot(x=psy1.index, y=psy1[\"stranger_aggression_score\"], ax=axes[0])\n",
    "axes[0].set_title(\"Toward Strangers\")\n",
    "axes[0].set_xlabel(\"Age (years)\")\n",
    "axes[0].set_ylabel(\"Aggression\")\n",
    "\n",
    "sns.scatterplot(x=psy1.index, y=psy1[\"owner_aggression_score\"], ax=axes[1])\n",
    "axes[1].set_title(\"Toward Owner\")\n",
    "axes[1].set_xlabel(\"Age (years)\")\n",
    "\n",
    "sns.scatterplot(x=psy1.index, y=psy1[\"dog_aggression_score\"], ax=axes[2])\n",
    "axes[2].set_title(\"Toward Other Dogs\")\n",
    "axes[2].set_xlabel(\"Age (years)\")\n",
    "\n",
    "plt.suptitle(\"Types of Aggression by Dog Age\", fontsize=14)\n",
    "plt.tight_layout()\n",
    "plt.show()\n",
    "\n"
   ]
  },
  {
   "cell_type": "markdown",
   "metadata": {},
   "source": [
    "### Teraz spravim podobne impulzivitu a nepozornost\n",
    "nasiel som jemnu zavislost, impulzivita stupa a vrcholi okolo 1 roka, potom pomaly klesa, nepozornost je na tom velmi podobne\n",
    "\n"
   ]
  },
  {
   "cell_type": "code",
   "execution_count": null,
   "metadata": {},
   "outputs": [],
   "source": [
    "psy2 = dogs.copy(deep=True)\n",
    "psy2[\"Impulsivity_age\"] = psy2[\"Impulsivity_age\"].round(1)\n",
    "psy2 = psy2.groupby(\"Impulsivity_age\")[inattention_continuous].mean()\n",
    "\n",
    "ax = sns.histplot(data=dogs, x=\"Impulsivity_age\", binwidth=0.1)\n",
    "ax.set_title(\"Histogram of Questionnaire Age for Impulsivity\")\n",
    "ax.set_xlabel(\"Age (years)\")\n",
    "ax.set_ylabel(\"Number of Dogs\")\n",
    "\n",
    "fig, axes = plt.subplots(1, 2, figsize=(16, 5), sharey=True)\n",
    "\n",
    "sns.scatterplot(x=psy2.index, y=psy2[\"inattention_score\"], ax=axes[0])\n",
    "sns.regplot(x=psy2.index, y=\"inattention_score\", data=psy2, ax=axes[0], scatter=True, line_kws={\"color\": \"red\"})\n",
    "axes[0].set_title(\"Inattention\")\n",
    "axes[0].set_xlabel(\"Age (years)\")\n",
    "axes[0].set_ylabel(\"Score\")\n",
    "\n",
    "sns.scatterplot(x=psy2.index, y=psy2[\"impulsivity_score\"], ax=axes[1])\n",
    "sns.regplot(x=psy2.index, y=\"impulsivity_score\", data=psy2, ax=axes[1], scatter=True, line_kws={\"color\": \"red\"})\n",
    "axes[1].set_title(\"Impulsivity\")\n",
    "axes[1].set_xlabel(\"Age (years)\")\n",
    "axes[1].set_ylabel(\"Score\")\n",
    "\n",
    "plt.suptitle(\"Inattention and Impulsivity by Dog Age\", fontsize=14)\n",
    "plt.tight_layout()\n",
    "plt.show()\n"
   ]
  },
  {
   "cell_type": "markdown",
   "metadata": {},
   "source": [
    "### Teraz spravim podobne strach\n",
    "pri strachu ale nevidim ziadnu suvislost\n",
    "\n",
    "\n"
   ]
  },
  {
   "cell_type": "code",
   "execution_count": null,
   "metadata": {},
   "outputs": [],
   "source": [
    "psy3 = dogs.copy(deep=True)\n",
    "psy3[\"Fearfulness_age\"] = psy3[\"Fearfulness_age\"].round(1)\n",
    "psy3 = psy3.groupby(\"Fearfulness_age\")[fearfullness_continuous].mean()\n",
    "\n",
    "# Histogram of age at the time of filling out the fearfulness questionnaire\n",
    "ax = sns.histplot(data=dogs, x=\"Fearfulness_age\")\n",
    "ax.set_title(\"Histogram of Questionnaire Age for Fearfulness\")\n",
    "ax.set_xlabel(\"Age (years)\")\n",
    "ax.set_ylabel(\"Number of Dogs\")\n",
    "\n",
    "# Scatter plot of fearfulness score by age\n",
    "figure, axes = plt.subplots(1, 1, figsize=(6, 4), sharey=True)\n",
    "sns.scatterplot(x=psy3.index, y=\"fearfulness_score\", data=psy3, ax=axes)\n",
    "\n",
    "axes.set_title(\"Fearfulness by Age\")\n",
    "axes.set_xlabel(\"Age (years)\")\n",
    "axes.set_ylabel(\"Fearfulness Score\")\n",
    "\n",
    "plt.tight_layout()\n",
    "plt.show()\n",
    "\n"
   ]
  },
  {
   "cell_type": "markdown",
   "metadata": {},
   "source": [
    "### Priemerne hmotnosti jednotlivych plemien barplot\n"
   ]
  },
  {
   "cell_type": "code",
   "execution_count": null,
   "metadata": {},
   "outputs": [],
   "source": [
    "\n",
    "psy_hmostnost_max = pd.DataFrame(dogs.groupby('breed_group')['weight_kg'].mean().sort_values()).head()\n",
    "psy_hmostnost_min = pd.DataFrame(dogs.groupby('breed_group')['weight_kg'].mean().sort_values()).tail()\n",
    "\n",
    "figure, axes = plt.subplots(1, 2, figsize=(8, 3), sharey=True)\n",
    "sns.barplot(data=psy_hmostnost_max, x=psy_hmostnost_max.index, y='weight_kg', ax=axes[0])\n",
    "axes[0].tick_params(axis='x', rotation=45)\n",
    "sns.barplot(data=psy_hmostnost_min, x=psy_hmostnost_min.index, y='weight_kg', ax=axes[1])\n",
    "axes[1].tick_params(axis='x', rotation=45)\n",
    "\n",
    "\n",
    "pocty_psov = pd.DataFrame(dogs.groupby(\"breed_group\").count().sort_values(by=\"sex\"))\n",
    "# figure, axes1 = plt.subplots(1, 1)\n",
    "# display(pocty_psov)\n",
    "# sns.histplot(data=pocty_psov, ax=axes1)"
   ]
  },
  {
   "cell_type": "markdown",
   "metadata": {},
   "source": [
    "### Teraz Spravim Agresivitu vs Strach"
   ]
  },
  {
   "cell_type": "code",
   "execution_count": null,
   "metadata": {},
   "outputs": [],
   "source": [
    "psy4 = dogs.copy(deep=True)\n",
    "psy4[\"fearfulness_score\"] = psy4[\"fearfulness_score\"].round(1)\n",
    "psy4 = psy4.groupby(\"fearfulness_score\")[aggression_continuous].mean()\n",
    "\n",
    "# Histogram of fearfulness score\n",
    "fig, ax = plt.subplots(1, 1, figsize=(6, 4))\n",
    "sns.histplot(data=dogs, x=\"fearfulness_score\", ax=ax, binwidth=0.1)\n",
    "ax.set_title(\"Histogram of Fearfulness Scores\")\n",
    "ax.set_xlabel(\"Fearfulness Score\")\n",
    "ax.set_ylabel(\"Number of Dogs\")\n",
    "plt.tight_layout()\n",
    "plt.show()\n",
    "\n",
    "# Scatter plots: aggression vs. fear\n",
    "fig, axes = plt.subplots(2, 2, figsize=(13, 9), sharey=True)\n",
    "\n",
    "sns.scatterplot(x=psy4.index, y=psy4[\"stranger_aggression_score\"], ax=axes[0][0])\n",
    "axes[0][0].set_title(\"Stranger Aggression\")\n",
    "axes[0][0].set_xlabel(\"Fearfulness Score\")\n",
    "axes[0][0].set_ylabel(\"Aggression\")\n",
    "\n",
    "sns.scatterplot(x=psy4.index, y=psy4[\"owner_aggression_score\"], ax=axes[0][1])\n",
    "axes[0][1].set_title(\"Owner Aggression\")\n",
    "axes[0][1].set_xlabel(\"Fearfulness Score\")\n",
    "axes[0][1].set_ylabel(\"Aggression\")\n",
    "\n",
    "sns.scatterplot(x=psy4.index, y=psy4[\"dog_aggression_score\"], ax=axes[1][0])\n",
    "axes[1][0].set_title(\"Dog Aggression\")\n",
    "axes[1][0].set_xlabel(\"Fearfulness Score\")\n",
    "axes[1][0].set_ylabel(\"Aggression\")\n",
    "\n",
    "sns.scatterplot(x=psy4.index, y=psy4[\"barking_score\"], ax=axes[1][1])\n",
    "axes[1][1].set_title(\"Barking\")\n",
    "axes[1][1].set_xlabel(\"Fearfulness Score\")\n",
    "axes[1][1].set_ylabel(\"Score\")\n",
    "\n",
    "plt.suptitle(\"Relationship Between Fearfulness and Aggression/Barking\", fontsize=14)\n",
    "plt.tight_layout()\n",
    "plt.show()\n"
   ]
  },
  {
   "cell_type": "markdown",
   "metadata": {},
   "source": [
    "### Citlivost na Hluk vs Agresivita"
   ]
  },
  {
   "cell_type": "code",
   "execution_count": null,
   "metadata": {},
   "outputs": [],
   "source": [
    "psy5 = dogs.copy(deep=True)\n",
    "psy5[\"noise_sensitivity_score\"] = psy5[\"noise_sensitivity_score\"].round(1)\n",
    "psy5 = psy5.groupby(\"noise_sensitivity_score\")[aggression_continuous].mean()\n",
    "\n",
    "# Histogram citlivosti na hluk\n",
    "fig, ax = plt.subplots(1, 1, figsize=(6, 4))\n",
    "sns.histplot(data=dogs, x=\"noise_sensitivity_score\", binwidth=0.1, ax=ax)\n",
    "ax.set_title(\"Histogram citlivosti na hluk\")\n",
    "ax.set_xlabel(\"Skóre citlivosti na hluk\")\n",
    "ax.set_ylabel(\"Počet psov\")\n",
    "plt.tight_layout()\n",
    "plt.show()\n",
    "\n",
    "# Scatter ploty agresivity vs. citlivosť na hluk\n",
    "fig, axes = plt.subplots(2, 2, figsize=(13, 9), sharey=False)\n",
    "\n",
    "sns.scatterplot(x=psy5.index, y=psy5[\"stranger_aggression_score\"], ax=axes[0][0])\n",
    "axes[0][0].set_title(\"Agresia voči cudzincom podľa citlivosti na hluk\")\n",
    "axes[0][0].set_xlabel(\"Skóre citlivosti na hluk\")\n",
    "axes[0][0].set_ylabel(\"Agresia\")\n",
    "\n",
    "sns.scatterplot(x=psy5.index, y=psy5[\"owner_aggression_score\"], ax=axes[0][1])\n",
    "axes[0][1].set_title(\"Agresia voči majiteľovi podľa citlivosti na hluk\")\n",
    "axes[0][1].set_xlabel(\"Skóre citlivosti na hluk\")\n",
    "axes[0][1].set_ylabel(\"Agresia\")\n",
    "\n",
    "sns.scatterplot(x=psy5.index, y=psy5[\"dog_aggression_score\"], ax=axes[1][0])\n",
    "axes[1][0].set_title(\"Agresia voči psom podľa citlivosti na hluk\")\n",
    "axes[1][0].set_xlabel(\"Skóre citlivosti na hluk\")\n",
    "axes[1][0].set_ylabel(\"Agresia\")\n",
    "# axes[1][0].set_ylim(-1, 3)\n",
    "\n",
    "sns.scatterplot(x=psy5.index, y=psy5[\"barking_score\"], ax=axes[1][1])\n",
    "axes[1][1].set_title(\"Štekot podľa citlivosti na hluk\")\n",
    "axes[1][1].set_xlabel(\"Skóre citlivosti na hluk\")\n",
    "axes[1][1].set_ylabel(\"Štekot\")\n",
    "\n",
    "plt.suptitle(\"Vzťah medzi citlivosťou na hluk a agresivitou/štekaním\", fontsize=14)\n",
    "plt.tight_layout()\n",
    "plt.show()"
   ]
  },
  {
   "cell_type": "markdown",
   "metadata": {},
   "source": [
    "### Teraz strach vs citlivost na hluk"
   ]
  },
  {
   "cell_type": "code",
   "execution_count": null,
   "metadata": {},
   "outputs": [],
   "source": [
    "psy6 = dogs.copy(deep=True)\n",
    "psy6[\"noise_sensitivity_score\"] = psy6[\"noise_sensitivity_score\"].round(1)\n",
    "\n",
    "psy6 = psy6.groupby(\"noise_sensitivity_score\")[[\"fearfulness_score\"]].mean()\n",
    "\n",
    "# Histogram of noise sensitivity\n",
    "fig, ax = plt.subplots(1, 1, figsize=(6, 4))\n",
    "sns.histplot(data=dogs, x=\"noise_sensitivity_score\", binwidth=0.1, ax=ax)\n",
    "ax.set_title(\"Histogram of Noise Sensitivity\")\n",
    "ax.set_xlabel(\"Noise Sensitivity Score\")\n",
    "ax.set_ylabel(\"Number of Dogs\")\n",
    "plt.tight_layout()\n",
    "plt.show()\n",
    "\n",
    "# Scatter plot: Fearfulness vs. Noise Sensitivity\n",
    "fig, ax = plt.subplots(1, 1, figsize=(6, 4))\n",
    "sns.scatterplot(x=psy6.index, y=psy6[\"fearfulness_score\"], ax=ax)\n",
    "ax.set_title(\"Fearfulness vs. Noise Sensitivity\")\n",
    "ax.set_xlabel(\"Noise Sensitivity Score\")\n",
    "ax.set_ylabel(\"Fearfulness Score\")\n"
   ]
  },
  {
   "cell_type": "markdown",
   "metadata": {},
   "source": [
    "# Environment"
   ]
  },
  {
   "cell_type": "code",
   "execution_count": null,
   "metadata": {},
   "outputs": [],
   "source": [
    "\n",
    "order=['under_1_hour', '1-2_hours', '2-3_hours', 'over_3_hours']\n",
    "\n",
    "psy7 = dogs.copy(deep=True)\n",
    "psy7 = psy7.groupby(\"daily_exercise\").agg('mean', numeric_only=True)[personality]\n",
    "psy7 = psy7.loc[order, :]\n",
    "# display(psy7)\n",
    "\n",
    "figure, ax = plt.subplots(1, 1, figsize=(6, 4), sharey=True)\n",
    "sns.countplot(data=dogs, x=\"daily_exercise\", ax=ax, order=order)\n",
    "ax.tick_params(axis='x', rotation=25)\n",
    "\n",
    "# daily_exercise\n",
    "zaujimave = ['Fearful_dogs', 'Playful_alone', 'Playful_people', 'Playful_dogs', 'Anxious', 'Lazy', 'Intelligent', 'Sociable_dogs_samegender']\n",
    "dlzka = 6\n",
    "figure, axes = plt.subplots(2, 4, figsize=(16, 7), sharex=True)\n",
    "plt.xticks(ha='right') \n",
    "for i in range(8):\n",
    "       sns.barplot(x=psy7.index, y=psy7[zaujimave[i]], ax=axes[i//4][i%4])\n",
    "       # axes[i//4][i%4].set_ylim(0, 5)\n",
    "       axes[i//4][i%4].tick_params(rotation=30)\n",
    "\n",
    "\n",
    "plt.suptitle(\"Positive effect of daily exercise\")\n"
   ]
  }
 ],
 "metadata": {
  "language_info": {
   "name": "python"
  }
 },
 "nbformat": 4,
 "nbformat_minor": 2
}
