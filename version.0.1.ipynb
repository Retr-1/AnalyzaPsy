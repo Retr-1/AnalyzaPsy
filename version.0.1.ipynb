{
 "cells": [
  {
   "cell_type": "markdown",
   "metadata": {},
   "source": [
    "Projekt Vizualizácia\n",
    "---\n",
    "\n",
    "Téma: Psy\n",
    "\n",
    "Skupina Číslo: 10\n",
    "Skupina Názov: Gormiti\n",
    "\n",
    "Členovia: Adam Mjartan, Martin Bakus, Norbert Riebesam, Timotej Vida, Michal Salčík\n",
    "\n",
    "Použité Datasety (linky):\n",
    "\n",
    "- Hlavný Dataset: https://figshare.com/ndownloader/files/27715521\n",
    "- Geografické Dáta: https://worldostats.com/country-stats/dog-population-by-country/\n",
    "- Populačné  Dáta: https://www.kaggle.com/datasets/dataanalyst001/world-population-by-country-2024\n",
    "\n",
    "\n",
    "Dodatočné Zdroje:\n",
    "\n"
   ]
  },
  {
   "cell_type": "markdown",
   "metadata": {},
   "source": [
    "Import Použitých Knižníc"
   ]
  },
  {
   "cell_type": "code",
   "execution_count": null,
   "metadata": {},
   "outputs": [],
   "source": [
    "import pandas as pd\n",
    "import seaborn as sns\n",
    "import matplotlib.pyplot as plt\n",
    "import plotly.express as px\n",
    "import plotly\n",
    "import geopandas as gpd\n",
    "import plotly.graph_objects as go\n",
    "import numpy as np\n",
    "from IPython.display import Markdown"
   ]
  },
  {
   "cell_type": "markdown",
   "metadata": {},
   "source": [
    "Načítanie Použitých Datasetov"
   ]
  },
  {
   "cell_type": "code",
   "execution_count": null,
   "metadata": {},
   "outputs": [],
   "source": [
    "main_data = pd.read_excel(r'https://figshare.com/ndownloader/files/27715521', sheet_name='Dataset')\n",
    "dogs = main_data\n",
    "main_data_information = pd.read_excel(r'https://figshare.com/ndownloader/files/27715521', sheet_name='Information')\n",
    "population_data = pd.read_csv(r\"https://raw.githubusercontent.com/P3rfectS/Data/refs/heads/main/World%20Population%20by%20country%202024.csv\")\n",
    "#geografical_data = pd.read_csv(r\"https://raw.githubusercontent.com/P3rfectS/Data/refs/heads/main/Dog%20Population%20by%20Country.csv\")\n",
    "geografical_data = pd.read_csv(\"Misov Priestor/data/Dog Population by Country.csv\")\n",
    "world_geography = gpd.read_file(r\"https://github.com/P3rfectS/Data/raw/refs/heads/main/ne_110m_admin_0_countries/ne_110m_admin_0_countries.shp\")"
   ]
  },
  {
   "cell_type": "markdown",
   "metadata": {},
   "source": [
    "Príprava Vizuálnych Podkladov\n",
    "---"
   ]
  },
  {
   "cell_type": "markdown",
   "metadata": {},
   "source": [
    "Príprava: Geografické Dáta\n",
    "---\n",
    "\n",
    "#1 transofmácia, čistenie a doplnenie datasetu"
   ]
  },
  {
   "cell_type": "code",
   "execution_count": null,
   "metadata": {},
   "outputs": [],
   "source": [
    "#Odstránenie chybných dát\n",
    "geografical_data = geografical_data[geografical_data[\"Country\"] != 'Montenegro']\n",
    "\n",
    "#Doplnenie chýbajúcich dát (tvorba dočasného df)\n",
    "#new_row = pd.DataFrame([{\"Country\": \"Australia\", \"Estimated Dog Population\": \"6000000\"}])\n",
    "\n",
    "#Pripojenie ku pôvodnému datasetu\n",
    "#geografical_data = pd.concat([geografical_data, new_row], ignore_index=True)\n",
    "\n",
    "\n",
    "#Zmena tipu dát na numerické\n",
    "geografical_data['Estimated Dog Population'] = pd.to_numeric(\n",
    "    geografical_data['Estimated Dog Population'].str.replace(',', ''),\n",
    "    errors='coerce'\n",
    ")\n",
    "\n",
    "#Úprava názvov štátov v datasete aby zodpovedali názvom ktoré používa funkcia\n",
    "country_name_fixes = {\n",
    "    \"Swaziland\": \"Eswatini\",\n",
    "    \"Democratic Republic of Congo\": \"DR Congo\",\n",
    "    \"Kosovo\": \"Kosovo\",\n",
    "    \"United States of America\": \"United States\",\n",
    "    \"Czech Republic\": \"Czechia\",\n",
    "    \"United States\": \"United States of America\",\n",
    "    \"Bosnia and Herzegovina\": \"Bosnia and Herz.\"\n",
    "}\n",
    "geografical_data['Country'] = geografical_data['Country'].replace(country_name_fixes)\n",
    "population_data['Country'] = population_data['Country'].replace(country_name_fixes)"
   ]
  },
  {
   "cell_type": "markdown",
   "metadata": {},
   "source": [
    "#2 Tvorba zjednotených tabuľiek"
   ]
  },
  {
   "cell_type": "code",
   "execution_count": null,
   "metadata": {},
   "outputs": [],
   "source": [
    "#Tvorba zjednotenej tabulky\n",
    "full_table = geografical_data.merge(population_data, on='Country', how='left')\n",
    "full_table['Dog Population per Capita'] = full_table['Estimated Dog Population'] / full_table['Population 2024']\n",
    "full_table[\"Area\"] = pd.to_numeric(full_table['Area (km2)'].str.replace(r'K', 'e3', regex=True).str.replace(r'M', 'e6', regex=True))\n",
    "full_table[\"Dog Population Density\"] = full_table[\"Estimated Dog Population\"] / full_table[\"Area\"]\n",
    "#Tvorba tabuliek pre vizualizácie\n",
    "merged = world_geography.merge(geografical_data, how='left', left_on='NAME', right_on='Country')\n",
    "merged[\"Estimated Dog Population log\"] = np.log10(merged[\"Estimated Dog Population\"])\n",
    "merged_per_capita = world_geography.merge(full_table, how='left', left_on='NAME', right_on='Country')\n",
    "merged_per_capita[\"Dog Population Density log\"] = np.log10(merged_per_capita[\"Dog Population Density\"])"
   ]
  },
  {
   "cell_type": "markdown",
   "metadata": {},
   "source": [
    "#3 Tvorba jednotlivých vizualizácií"
   ]
  },
  {
   "cell_type": "code",
   "execution_count": null,
   "metadata": {},
   "outputs": [],
   "source": [
    "#Funkcia pre vytvorenie geografickej vizualizácie psej populácie v rôznych krajinách sveta\n",
    "def geo_vytvor_populacia_psov():\n",
    "    fig, ax = plt.subplots(figsize=(15, 6))\n",
    "    mapa = merged.plot(\n",
    "        column='Estimated Dog Population log',\n",
    "        ax=ax,\n",
    "        legend=True,\n",
    "        cmap='OrRd',\n",
    "        missing_kwds={\"color\": \"lightgrey\", \"label\": \"No data\"}\n",
    "    )\n",
    "    cbar = mapa.get_figure().get_axes()[-1]\n",
    "    tick_values = cbar.get_yticks()\n",
    "    cbar.set_yticklabels([f\"10^{val:,}\" for val in tick_values])\n",
    "\n",
    "    plt.title(\"Estimated Dog Population by Country (log10)\")\n",
    "    plt.axis('off')\n",
    "    plt.show()\n",
    "\n",
    "#Funkcia pre vytvorenie geografickej vizualizácie populácie psov na jedného obyvateľa v rôznych krajinách sveta\n",
    "def geo_vytvor_psy_na_hlavu():\n",
    "    fig, ax = plt.subplots(figsize=(15, 6))\n",
    "    merged_per_capita.plot(\n",
    "    column='Dog Population per Capita',\n",
    "    ax=ax,\n",
    "    legend=True,\n",
    "    cmap='OrRd',\n",
    "    missing_kwds={\"color\": \"lightgrey\", \"label\": \"No data\"}\n",
    "    )\n",
    "    plt.title(\"Dog Population per Capita\")\n",
    "    plt.axis('off')\n",
    "    plt.show()\n",
    "\n",
    "def geo_vytvor_hustotu_psov():\n",
    "    fig, ax = plt.subplots(figsize=(15, 6))\n",
    "    mapa = merged_per_capita.plot(\n",
    "    column='Dog Population Density log',\n",
    "    ax=ax,\n",
    "    legend=True,\n",
    "    cmap='OrRd',\n",
    "    missing_kwds={\"color\": \"lightgrey\", \"label\": \"No data\"}\n",
    "    )\n",
    "\n",
    "    cbar = mapa.get_figure().get_axes()[-1]\n",
    "    tick_values = cbar.get_yticks()\n",
    "    cbar.set_yticklabels([f\"10^{val:,}\" for val in tick_values])\n",
    "\n",
    "    plt.title(\"Dog population density (per km^2, log10)\")\n",
    "    plt.axis('off')\n",
    "    plt.show()\n",
    "\n",
    "    \n",
    "geo_vytvor_populacia_psov()\n",
    "geo_vytvor_psy_na_hlavu()\n",
    "geo_vytvor_hustotu_psov()\n",
    "#HUSTOTA NA KM4"
   ]
  },
  {
   "cell_type": "markdown",
   "metadata": {},
   "source": [
    "Práca s pôvodnými dátami\n",
    "---"
   ]
  },
  {
   "cell_type": "code",
   "execution_count": null,
   "metadata": {},
   "outputs": [],
   "source": [
    "sns.histplot(data = main_data, x = \"daily_exercise\")\n",
    "figure, axes = plt.subplots(2,2, figsize = (12,10))\n",
    "sns.violinplot(data = main_data, x = \"impulsive\", y = \"barking_score\", ax = axes[0][0], color = \"orange\")\n",
    "sns.violinplot(data = main_data, x = \"impulsive\", y = \"stranger_aggression_score\", ax = axes[0][1], color = \"orange\")\n",
    "sns.violinplot(data = main_data, x = \"impulsive\", y = \"owner_aggression_score\", ax = axes[1][0], color = \"orange\")\n",
    "sns.violinplot(data = main_data, x = \"impulsive\", y = \"dog_aggression_score\", ax = axes[1][1], color = \"orange\")\n",
    "\n",
    "empathic_table = main_data[main_data['Empathic'].notna()].copy(deep = True)\n",
    "empathic_means = pd.DataFrame(empathic_table.groupby(\"breed_group\")[\"Empathic\"].mean())\n",
    "empathic_means = empathic_means.sort_values(\"Empathic\")\n",
    "fig = px.bar(empathic_means, y = empathic_means.index, x='Empathic')\n",
    "fig.update_layout(\n",
    "    yaxis=dict(tickmode='linear'),  # Force all ticks to show\n",
    "    width=1200,\n",
    "    height=800,\n",
    "    bargap=0.05\n",
    ")\n",
    "fig.show()\n",
    "\n",
    "figure2, axes2 = plt.subplots(1,3, figsize = (18,5))\n",
    "sns.violinplot(data = main_data, x = \"aggression_strangers\", y = \"stranger_aggression_score\", ax = axes2[0], color = \"lightblue\")\n",
    "sns.violinplot(data = main_data, x = \"aggression_owner\", y = \"owner_aggression_score\", ax = axes2[1], color = \"lightblue\")\n",
    "sns.violinplot(data = main_data, x = \"aggression_dogs\", y = \"dog_aggression_score\", ax = axes2[2], color = \"lightblue\")"
   ]
  },
  {
   "cell_type": "code",
   "execution_count": null,
   "metadata": {},
   "outputs": [],
   "source": [
    "figure, axes = plt.subplots(2, 2, figsize = (12, 10))\n",
    "\n",
    "axes[0][0].hist2d(main_data[\"human_sociability_score\"].dropna(), main_data[\"dog_sociability_score\"].dropna(), bins = 20)\n",
    "axes[0][0].set_title(\"Dog sociability (relation between sociability to humans and dogs)\")\n",
    "axes[0][0].set_xlabel(\"Human sociability score\")\n",
    "axes[0][0].set_ylabel(\"Dog sociabilty score\")\n",
    "\n",
    "axes[0][1].hist2d(main_data[\"insecurity_score\"].dropna(), main_data[\"aggressiveness_dominance_score\"].dropna(), bins = 20)\n",
    "axes[0][1].set_title(\"Relation between insecurity and aggressiveness of dogs)\")\n",
    "axes[0][1].set_xlabel(\"Insecurity score\")\n",
    "axes[0][1].set_ylabel(\"Aggressiveness dominance score\")\n",
    "\n",
    "axes[1][0].hist2d(main_data[\"human_sociability_score\"].dropna(), main_data[\"aggressiveness_dominance_score\"].dropna(), bins = 20)\n",
    "axes[1][0].set_title(\"Relation between sociability to humans and aggressiveness)\")\n",
    "axes[1][0].set_xlabel(\"Human sociability score\")\n",
    "axes[1][0].set_ylabel(\"Aggressiveness dominance score\")\n",
    "\n",
    "axes[1][1].hist2d(main_data[\"activity_playfulness_score\"].dropna(), main_data[\"dog_sociability_score\"].dropna(), bins = 20)\n",
    "axes[1][1].set_title(\"Relation between playfulness and dog sociability)\")\n",
    "axes[1][1].set_xlabel(\"Activity playfulness score\")\n",
    "axes[1][1].set_ylabel(\"Dog sociability score\")\n",
    "\n",
    "\n",
    "\n",
    "\n",
    "figure2, axes2 = plt.subplots(2,2, figsize = (12, 10))\n",
    "sns.kdeplot(x = main_data[\"human_sociability_score\"].dropna(), y = main_data[\"dog_sociability_score\"].dropna(), ax = axes2[0][0], fill = True)\n",
    "axes2[0][0].set_title(\"Dog sociability (relation between sociability to humans and dogs)\")\n",
    "axes2[0][0].set_xlabel(\"Human sociability score\")\n",
    "axes2[0][0].set_ylabel(\"Dog sociabilty score\")\n",
    "\n",
    "sns.kdeplot(x = main_data[\"insecurity_score\"].dropna(), y = main_data[\"aggressiveness_dominance_score\"].dropna(), ax = axes2[0][1], fill = True)\n",
    "axes2[0][1].set_title(\"Relation between insecurity and aggressiveness of dogs)\")\n",
    "axes2[0][1].set_xlabel(\"Insecurity score\")\n",
    "axes2[0][1].set_ylabel(\"Aggressiveness dominance score\")\n",
    "\n",
    "sns.kdeplot(x = main_data[\"human_sociability_score\"].dropna(), y = main_data[\"aggressiveness_dominance_score\"].dropna(), ax = axes2[1][0], fill = True)\n",
    "axes2[1][0].set_title(\"Relation between sociability to humans and aggressiveness)\")\n",
    "axes2[1][0].set_xlabel(\"Human sociability score\")\n",
    "axes2[1][0].set_ylabel(\"Aggressiveness dominance score\")\n",
    "\n",
    "sns.kdeplot(x = main_data[\"activity_playfulness_score\"].dropna(), y = main_data[\"dog_sociability_score\"].dropna(), ax = axes2[1][1], fill = True)\n",
    "axes2[1][1].set_title(\"Relation between playfulness and dog sociability)\")\n",
    "axes2[1][1].set_xlabel(\"Activity playfulness score\")\n",
    "axes2[1][1].set_ylabel(\"Dog sociability score\")\n",
    "plt.show()"
   ]
  },
  {
   "cell_type": "markdown",
   "metadata": {},
   "source": [
    "Príprava: Predstavenie Datasetu // Dataset Bias\n",
    "---"
   ]
  },
  {
   "cell_type": "code",
   "execution_count": null,
   "metadata": {},
   "outputs": [],
   "source": [
    "fig = px.bar(dogs['breed_group'].value_counts().reset_index(), y='breed_group', x='count', title='Pocty jednotlivych plemien v datach', width=1000, height=700, )\n",
    "fig.update_layout(\n",
    "    yaxis=dict(tickmode='linear'),  # Force all ticks to show\n",
    "    width=1200,\n",
    "    height=800,\n",
    "    bargap=0.05\n",
    ")\n",
    "fig.show()"
   ]
  },
  {
   "cell_type": "code",
   "execution_count": null,
   "metadata": {},
   "outputs": [],
   "source": [
    "df = dogs.groupby(by=['sterilization_status','sex'])['dog.id'].count()#.rename(columns={'dog.id':'count'})#.reset_index().set_index(['sex', 'sterilization_status'])\n",
    "\n",
    "fig = go.Figure(data=[\n",
    "    go.Bar(name='sterlized', x=['male', 'female'], y=[df['sterilized', 'male'], df['sterilized', 'female']]),\n",
    "    go.Bar(name='intact', x=['male', 'female'], y=[df['intact', 'male'], df['intact', 'female']])\n",
    "])\n",
    "fig.update_layout(barmode='stack', width=700, title='Number of male and female sterilized/intact dogs')\n",
    "fig.show()"
   ]
  },
  {
   "cell_type": "code",
   "execution_count": null,
   "metadata": {},
   "outputs": [],
   "source": [
    "# fig = go.Figure()\n",
    "# fig.add_trace(go.Histogram(x=dogs.query('sex == \"male\"')['weight_kg'], name='Male', hovertext=dogs.query('sex == \"male\"')['dog.id']))\n",
    "# fig.add_trace(go.Histogram(x=dogs.query('sex == \"female\"')['weight_kg'], name='Female',  hovertext=dogs.query('sex == \"female\"')['dog.id']))\n",
    "\n",
    "# # Overlay both histograms\n",
    "# fig.update_layout(barmode='overlay', xaxis_title='Weight in KG', title='Weight Histogram by gender')\n",
    "# # Reduce opacity to see both histograms\n",
    "# fig.update_traces(opacity=0.75)\n",
    "# fig.show()\n",
    "sns.histplot(dogs, x='weight_kg', hue='sex', common_norm=False, stat='probability',hue_order=['female', 'male'], palette=['C3', 'C0'],)\n",
    "plt.xlabel('Weight [kg]')\n",
    "pass"
   ]
  },
  {
   "cell_type": "code",
   "execution_count": null,
   "metadata": {},
   "outputs": [],
   "source": [
    "categories = ['Noise.sensitivity_age',\n",
    "'Fearfulness_age',\n",
    "'Aggression_age',\n",
    "'Surface_age',\n",
    "'Separation_age',\n",
    "'Impulsivity_age',\n",
    "'Personality_age']\n",
    "\n",
    "ages_melt = dogs[categories + ['dog.id']].melt(id_vars='dog.id')\n",
    "\n",
    "sns.kdeplot(data=ages_melt, x='value', hue='variable')\n",
    "plt.title('KDE plot of ages at which the forms were answered')\n",
    "pass"
   ]
  },
  {
   "cell_type": "code",
   "execution_count": null,
   "metadata": {},
   "outputs": [],
   "source": [
    "categories = ['Noise.sensitivity_age',\n",
    "'Fearfulness_age',\n",
    "'Aggression_age',\n",
    "'Surface_age',\n",
    "'Separation_age',\n",
    "'Impulsivity_age',\n",
    "'Personality_age']\n",
    "A = dogs[categories]\n",
    "B = A[(A.nunique(axis=1) == 1)]\n",
    "# display(Markdown('<h2>Vsetky riadky, ktore nemaju ani jednu hodnotu NaN a maju rozdielne veky vyplnenia formularov</h2>'))\n",
    "display(Markdown(f'<h2>{B.shape[0]} záznamov má všetky dotazníky vyplnené v rovnakom veku, alebo nevyplnené</h2>'))\n",
    "display(B)\n"
   ]
  },
  {
   "cell_type": "code",
   "execution_count": null,
   "metadata": {},
   "outputs": [],
   "source": [
    "A = dogs[categories]\n",
    "# B = pd.Series([1,1]) / pd.Series([0, 0]) - pd.Series([1,1]) / pd.Series([0,0]) # Creates NaN series\n",
    "A = A[A.nunique(axis=1) > 1]\n",
    "A['delta'] = A.max(axis=1) - A.min(axis=1)\n",
    "A = A.sort_values(by='delta', ascending=False)\n",
    "A['mean_age'] = A[categories].mean(axis=1)\n",
    "display(Markdown('<h2>V niektorych pripadoch su rozdiely az 1 az 2 roky, co by mohlo sposobit mensie vychylky v konzistentnosti dat'))\n",
    "display(A.head(10))\n",
    "B = A.iloc[1:, ]\n",
    "# sns.stripplot(A['delta'], alpha=0.3)\n",
    "# plt.ylim([0,2.5])\n",
    "sns.displot(B['delta'], kind='ecdf')\n",
    "plt.xlabel('Rozdiel medzi min a max vekom')\n",
    "plt.grid(visible=True, which='both', linestyle='--', alpha=0.7)\n",
    "plt.title(\"ECDF rozdielov vekov, v ktorých boli vyplnené formuláre\")\n",
    "plt.xticks(np.linspace(start=0, stop=2, num=9).round(2))\n",
    "plt.yticks(np.linspace(start=0, stop=1, num=9).round(2))\n",
    "# sns.displot(B['delta'], kind='ecdf')\n",
    "\n",
    "plt.subplots()\n",
    "sns.scatterplot(B, x='mean_age', y='delta', alpha=0.3)\n",
    "plt.title(\"Rozdiel vo vekoch psa\")\n",
    "\n",
    "display(Markdown(f'<h2>Počet psov, ktoré majú rozdiel väčší ako 1 a vek menší ako 2 roky = {B.query('delta > 1 and mean_age < 2').shape[0]}'))\n",
    "pass"
   ]
  },
  {
   "cell_type": "code",
   "execution_count": null,
   "metadata": {},
   "outputs": [],
   "source": [
    "features = \"\"\"\n",
    "Willing_to_learn\n",
    "Playful_dogs\n",
    "Playful_people\n",
    "Obedient\n",
    "Anxious\n",
    "Lazy\n",
    "Intelligent\n",
    "Reliable\n",
    "Human_dependent\n",
    "Erratic\n",
    "Stubborn\n",
    "Fearful_people\n",
    "Fearful_dogs\n",
    "Curious\n",
    "Impulsive\n",
    "Affectionate_people\n",
    "Persevering\n",
    "Distractible\n",
    "Submissive\n",
    "Cautious\n",
    "Dominant\n",
    "Patient\n",
    "Sociable_dogs_samegender\n",
    "Sociable_dogs_oppositegender\n",
    "Human_oriented\n",
    "Prey_driven_search\n",
    "Empathic\n",
    "Aggressive_dogs_samegender\n",
    "Greedy\n",
    "Attention_seeking\n",
    "Indifferent\n",
    "Aggressive_people\n",
    "Affectionate_dogs\n",
    "\"\"\"\n",
    "features = features.split()\n",
    "A = dogs[features].dropna().transpose()\n",
    "sns.clustermap(A, xticklabels=False, cmap='YlOrBr', figsize=(15,10))"
   ]
  },
  {
   "cell_type": "code",
   "execution_count": null,
   "metadata": {},
   "outputs": [],
   "source": [
    "# B = A.transpose().query(\"Aggressive_people >= 4\").transpose()\n",
    "# display(Markdown(\"<h1>Dogs with Aggressive_people >= 4</h1>\"))\n",
    "# print('Dog count:', B.shape[1])\n",
    "# sns.clustermap(B, xticklabels=False, cmap='YlOrBr', figsize=(15,10))"
   ]
  },
  {
   "cell_type": "code",
   "execution_count": null,
   "metadata": {},
   "outputs": [],
   "source": [
    "CORR = dogs[features + ['stranger_aggression_score']].corr(method='spearman')\n",
    "COLS = CORR.columns.to_list()\n",
    "CORR = CORR.reset_index().melt(id_vars='index', value_vars=COLS)\n",
    "CORR.columns = ['A', 'B', 'coef']\n",
    "CORR['size'] = CORR['coef'].abs()\n",
    "CORR = CORR.query('coef < 1')\n",
    "\n",
    "fig = px.scatter(CORR, x='A', y='B', size='size', color='coef', width=1200, height=1200, color_continuous_scale=px.colors.diverging.RdBu[::-1], range_color=[-1,1], hover_data={'A':True,'B':True,'coef':True,'size':False}, size_max=25)\n",
    "fig.update_layout(\n",
    "    plot_bgcolor='rgba(0,0,0,0)',   # Transparent plot background\n",
    "    paper_bgcolor='rgba(30,30,30,255)',  # Transparent overall background\n",
    "    xaxis=dict(showgrid=False, gridcolor='rgba(222, 222, 222, 1)', layer=\"below traces\"),     # Hide x gridlines\n",
    "    yaxis=dict(showgrid=False, gridcolor='rgba(222, 222, 222, 0.3)', layer=\"below traces\"),\n",
    "    font=dict(color=\"white\"),\n",
    "    xaxis_title='',\n",
    "    yaxis_title='',\n",
    ")\n",
    "fig.show()"
   ]
  },
  {
   "cell_type": "markdown",
   "metadata": {},
   "source": [
    "Zaujímave korelácie:\n",
    "---\n",
    "* Anxious a Human dependend\n",
    "* Playful dogs a Human oriented\n",
    "* Sociable dogs a Submissive\n",
    "* Sociable dogs opposite gender a Dominant"
   ]
  },
  {
   "cell_type": "markdown",
   "metadata": {},
   "source": [
    "# Chovatelia"
   ]
  },
  {
   "cell_type": "code",
   "execution_count": null,
   "metadata": {},
   "outputs": [],
   "source": [
    "A = dogs[['dog_breeder', 'leashed_unleashed']].value_counts().reset_index()\n",
    "A['leashed_unleashed'] = pd.Categorical(A['leashed_unleashed'], ordered=True, categories=['unleashed', 'partly_leashed', 'leashed'])\n",
    "A = A.sort_values(by='leashed_unleashed')\n",
    "A['total'] = A.groupby('dog_breeder')['count'].transform('sum')\n",
    "A['percentage'] = A['count'] / A['total']\n",
    "fig = px.bar(A, x='leashed_unleashed', y='percentage', color='dog_breeder', barmode='group', title='Leash usage amongst dog owners')\n",
    "fig.update_layout(\n",
    "    xaxis_title='',\n",
    ")\n",
    "fig.show()\n"
   ]
  },
  {
   "cell_type": "code",
   "execution_count": null,
   "metadata": {},
   "outputs": [],
   "source": [
    "sns.violinplot(dogs, x='dog_breeder', y='Obedient', hue='dog_breeder')\n",
    "plt.title('Obedience of their dog according to dog owners')"
   ]
  },
  {
   "cell_type": "code",
   "execution_count": null,
   "metadata": {},
   "outputs": [],
   "source": [
    "sns.violinplot(dogs, x='dog_breeder', y='stranger_aggression_score', hue='dog_breeder')\n",
    "plt.title('Stranger aggression amongst dog owners')"
   ]
  },
  {
   "cell_type": "markdown",
   "metadata": {},
   "source": [
    "Zistili sme\n",
    "---\n",
    "* Chovatelia posov pouzivaju menej voditko a su si istejsi, ze ich pes viac poslucha\n",
    "* V stranger_aggression_score nebol prejaveny rozdiel, cize nie je mensia sanca, ze pes zautoci na cudzieho cloveka, a tym, ze chovatel nepouziva voditko, tak to moze byt nebezpecnejsie"
   ]
  },
  {
   "cell_type": "markdown",
   "metadata": {},
   "source": [
    "# Agresivita psov"
   ]
  },
  {
   "cell_type": "code",
   "execution_count": null,
   "metadata": {},
   "outputs": [],
   "source": [
    "aggressive_columns = ['Aggressive_dogs_samegender', 'Aggressive_people', 'Aggressive_dogs_oppositegender', 'aggressiveness_dominance_score']\n",
    "\n",
    "means = dogs.groupby('breed_group')[aggressive_columns].mean().reset_index()\n",
    "means['Aggressive_columns_sum'] = means[aggressive_columns[0]] + means[aggressive_columns[1]] + means[aggressive_columns[2]]\n",
    "means.sort_values(by='Aggressive_columns_sum', inplace=True)\n",
    "fig = px.bar(means, y='breed_group', x=aggressive_columns[:-1], title='Dog aggression by breed')\n",
    "fig.update_layout(\n",
    "    xaxis_title='aggression',\n",
    "    yaxis=dict(tickmode='linear'),  # Force all ticks to show\n",
    "    width=1500,\n",
    "    height=800,\n",
    ")\n",
    "fig.show()"
   ]
  },
  {
   "cell_type": "code",
   "execution_count": null,
   "metadata": {},
   "outputs": [],
   "source": [
    "STRANGER_PHOBIAS = ['Stranger_withdraw',\n",
    " 'Stranger_bark',\n",
    " 'Stranger_growl',\n",
    " 'Stranger_taillow',\n",
    " 'Stranger_staynear',\n",
    " 'Stranger_notwilling',\n",
    " 'Stranger_enthusiastic',\n",
    " 'Stranger_indifferent',\n",
    " 'Stranger_lowposture',\n",
    " 'Stranger_moveaway',\n",
    " 'Stranger_suspicious']\n",
    "\n",
    "dogs_vs_strangers = dogs[STRANGER_PHOBIAS].dropna().transpose()\n",
    "sns.clustermap(dogs_vs_strangers, xticklabels=False, cmap='YlOrBr', figsize=(10,6))"
   ]
  },
  {
   "cell_type": "code",
   "execution_count": null,
   "metadata": {},
   "outputs": [],
   "source": [
    "\n",
    "soc = dogs[['socialization', 'aggressiveness_dominance_score']]\n",
    "# soc['aggressivness'] = dogs[aggressive_columns[0]] + dogs[aggressive_columns[1]] + dogs[aggressive_columns[2]]\n",
    "soc = soc.sort_values(by='socialization').dropna()\n",
    "soc = soc.rolling(200).mean()\n",
    "fig = px.line(data_frame=soc, x='socialization', y='aggressiveness_dominance_score', title='Influence of socialization on stranger aggression')\n",
    "fig.show()"
   ]
  },
  {
   "cell_type": "code",
   "execution_count": null,
   "metadata": {},
   "outputs": [],
   "source": [
    "A = dogs.copy()\n",
    "A['Socialization_people'] = (dogs[['Socialization_men', 'Socialization_women', 'Socialization_children']].sum(axis=1) / 3).apply('round')\n",
    "# A['Socialization_urban'] = (dogs[['Socialization_city', 'Socialization_public.transportation']].sum(axis=1) / 2).apply('round')\n",
    "# A['Socialization_public.transportation']\n",
    "fig, axe = plt.subplots(2,2, figsize=(15,10))\n",
    "for i,x in enumerate(['Socialization_people', 'Socialization_dogs', 'Socialization_city', 'Socialization_public.transportation']):\n",
    "    ax = sns.boxplot(A, x=x, y='stranger_aggression_score', ax=axe[i//2,i%2])\n",
    "    ax.set_title(x)\n",
    "    ax.set_xlabel(\"\")\n",
    "display(Markdown('**Preco je v socializacii ludmi taky skok ?**'))\n",
    "print(f'Počet záznamov so socializáciou 1: {A.query('Socialization_people == 1').shape[0]}')"
   ]
  },
  {
   "cell_type": "code",
   "execution_count": null,
   "metadata": {},
   "outputs": [],
   "source": [
    "px.scatter(dogs, x='fearfulness_score', y='stranger_aggression_score').show()\n",
    "\n",
    "A = pd.concat([dogs, pd.cut(dogs['fearfulness_score'], np.linspace(-2, 5, 50)).rename('interval')], axis=1)\n",
    "\n",
    "B = A.groupby('interval')['stranger_aggression_score'].mean()\n",
    "axe = sns.barplot(B)\n",
    "\n",
    "C = pd.concat([A, A.groupby('interval')['stranger_aggression_score'].transform('count').rename('CCC')], axis=1)\n",
    "axe = sns.stripplot(C.loc[C['CCC'] < 10], x='interval', y='stranger_aggression_score', color='red', ax=axe)\n",
    "axe.set_xticklabels('')\n",
    "axe.set_xlabel('fearfulness_score')\n",
    "pass"
   ]
  },
  {
   "cell_type": "code",
   "execution_count": null,
   "metadata": {},
   "outputs": [],
   "source": [
    "x = 'stranger_aggression_score'\n",
    "y = 'owner_aggression_score'\n",
    "px.scatter(dogs, x=x, y=y).show()\n",
    "A = dogs.copy()\n",
    "A['interval'] = pd.cut(A['stranger_aggression_score'], np.linspace(-1.5, 8.2, 50))\n",
    "ax = sns.pointplot(A.groupby('interval')['owner_aggression_score'].mean(), markersize=3)\n",
    "ax.set_xlabel('stranger_aggression_score')\n",
    "ax.set_xticklabels('')\n",
    "pass"
   ]
  },
  {
   "cell_type": "markdown",
   "metadata": {},
   "source": [
    "Prečo je na začiatku spád ?\n",
    "---\n",
    "Hypotéza:  Pes sa hanbi pred cudzimi - na majitelov si dovolia, lebo vedia, ze im nic nespravia, ale od cudzich nevedia co maju cakat."
   ]
  },
  {
   "cell_type": "code",
   "execution_count": null,
   "metadata": {},
   "outputs": [],
   "source": [
    "x = 'stranger_aggression_score'\n",
    "y = 'owner_aggression_score'\n",
    "px.scatter(dogs, x=x, y=y, color='Food_growl')"
   ]
  },
  {
   "cell_type": "code",
   "execution_count": null,
   "metadata": {},
   "outputs": [],
   "source": [
    "def simpleline(x, y):\n",
    "    return sns.lineplot(dogs.groupby(x)[y].mean(), label=x)\n",
    "\n",
    "CORR = dogs[features + ['stranger_aggression_score']].corr(method='spearman')\n",
    "COLS = CORR.columns.to_list()\n",
    "CORR = CORR.reset_index().melt(id_vars='index', value_vars=COLS)\n",
    "CORR.columns = ['A', 'B', 'coef']\n",
    "CORR['size'] = CORR['coef'].abs()\n",
    "CORR = CORR.query('coef < 1')\n",
    "\n",
    "F = CORR.query('A == \"stranger_aggression_score\" and coef >= 0.2')['B'].to_list()\n",
    "F.remove('Aggressive_people')\n",
    "for i,x in enumerate(F):\n",
    "    simpleline(x, 'stranger_aggression_score')\n",
    "plt.legend()\n",
    "plt.xlabel('')\n",
    "plt.ylabel('Stranger Aggression')"
   ]
  },
  {
   "cell_type": "code",
   "execution_count": null,
   "metadata": {},
   "outputs": [],
   "source": [
    "F = CORR.query('A == \"stranger_aggression_score\" and coef <= -0.2')['B'].to_list()\n",
    "for i,x in enumerate(F):\n",
    "    simpleline(x, 'stranger_aggression_score')\n",
    "plt.legend()\n",
    "plt.ylabel('Stranger Aggression')\n",
    "plt.xlabel('')"
   ]
  },
  {
   "cell_type": "code",
   "execution_count": null,
   "metadata": {},
   "outputs": [],
   "source": [
    "females = dogs.query('sex == \"female\"')\n",
    "males = dogs.query('sex == \"male\"')\n",
    "\n",
    "# display(dogs.loc[:, ['Aggression_age', 'stranger_aggression_score']])\n",
    "fig, axes = plt.subplots(1,2, sharex=True, sharey=True, figsize=(10,6))\n",
    "# sns.scatterplot(females, x='Aggression_age', y='stranger_aggression_score', c='darkred', alpha=0.2, ax=axes[0])\n",
    "sns.regplot(males, x='Aggression_age', y='stranger_aggression_score', color='darkblue', ax=axes[0], line_kws=dict(color='lightblue'), scatter_kws={'alpha':0.2}, order=2)\n",
    "sns.regplot(females, x='Aggression_age', y='stranger_aggression_score', color='darkred', ax=axes[1], line_kws=dict(color='#ff7566'), scatter_kws={'alpha':0.2}, order=2)\n",
    "axes[0].set_title('Males')\n",
    "axes[1].set_title('Females')"
   ]
  },
  {
   "cell_type": "markdown",
   "metadata": {},
   "source": [
    "# Outlayers"
   ]
  },
  {
   "cell_type": "markdown",
   "metadata": {},
   "source": [
    "## Pes, ktorý sa dožil 100 rokov"
   ]
  },
  {
   "cell_type": "code",
   "execution_count": null,
   "metadata": {},
   "outputs": [],
   "source": [
    "categories = ['Noise.sensitivity_age',\n",
    "'Fearfulness_age',\n",
    "'Aggression_age',\n",
    "'Surface_age',\n",
    "'Separation_age',\n",
    "'Impulsivity_age',\n",
    "'Personality_age']\n",
    "ages = dogs[categories]\n",
    "# display(ages.describe())\n",
    "display(dogs.query('Surface_age > 100'))#.transpose().rename(columns={15370: 'Pes, ktorý sa dožil 100 rokov'}))"
   ]
  },
  {
   "cell_type": "markdown",
   "metadata": {},
   "source": [
    "## Pes s vahou >100kg"
   ]
  },
  {
   "cell_type": "code",
   "execution_count": null,
   "metadata": {},
   "outputs": [],
   "source": [
    "display(dogs.query('weight_kg > 100'))"
   ]
  },
  {
   "cell_type": "code",
   "execution_count": null,
   "metadata": {},
   "outputs": [],
   "source": [
    "A = dogs.set_index('dog.id').query('Aggressive_people >= 4 and Affectionate_people >= 4')[['Aggressive_people', 'Affectionate_people']]\n",
    "n = A.shape[0]\n",
    "display(Markdown(f'<h2>{n} ľudí vyplnilo, že ich pes je 4 a viac agresívny voči ľuďom a zároveň 4 a viac prítulný k ľudom</h2>'))"
   ]
  }
 ],
 "metadata": {
  "language_info": {
   "name": "python"
  }
 },
 "nbformat": 4,
 "nbformat_minor": 2
}
