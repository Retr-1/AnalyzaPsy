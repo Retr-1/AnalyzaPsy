{
 "cells": [
  {
   "cell_type": "markdown",
   "metadata": {},
   "source": [
    "Projekt Vizualizácia\n",
    "---\n",
    "\n",
    "Téma: Psy\n",
    "\n",
    "Skupina Číslo: 10\n",
    "Skupina Názov: Gormiti\n",
    "\n",
    "Členovia: Adam Mjartan, Martin Bakus, Norbert Riebesam, Timotej Vida, Michal Salčík\n",
    "\n",
    "Použité Datasety (linky):\n",
    "\n",
    "- Hlavný Dataset: https://figshare.com/ndownloader/files/27715521\n",
    "- Geografické Dáta: https://worldostats.com/country-stats/dog-population-by-country/\n",
    "- Populačné  Dáta: https://www.kaggle.com/datasets/dataanalyst001/world-population-by-country-2024\n",
    "\n",
    "\n",
    "Dodatočné Zdroje:\n",
    "\n"
   ]
  },
  {
   "cell_type": "markdown",
   "metadata": {},
   "source": [
    "Import Použitých Knižníc"
   ]
  },
  {
   "cell_type": "code",
   "execution_count": null,
   "metadata": {},
   "outputs": [],
   "source": [
    "import pandas as pd\n",
    "import seaborn as sns\n",
    "import matplotlib.pyplot as plt\n",
    "import plotly.express as px\n",
    "import plotly\n",
    "import geopandas as gpd\n",
    "import plotly.graph_objects as go\n",
    "import numpy as np\n",
    "from IPython.display import Markdown"
   ]
  },
  {
   "cell_type": "markdown",
   "metadata": {},
   "source": [
    "Načítanie Použitých Datasetov"
   ]
  },
  {
   "cell_type": "code",
   "execution_count": null,
   "metadata": {},
   "outputs": [],
   "source": [
    "main_data = pd.read_excel(r'https://figshare.com/ndownloader/files/27715521', sheet_name='Dataset')\n",
    "dogs = main_data\n",
    "main_data_information = pd.read_excel(r'https://figshare.com/ndownloader/files/27715521', sheet_name='Information')\n",
    "population_data = pd.read_csv(r\"https://raw.githubusercontent.com/P3rfectS/Data/refs/heads/main/World%20Population%20by%20country%202024.csv\")\n",
    "#geografical_data = pd.read_csv(r\"https://raw.githubusercontent.com/P3rfectS/Data/refs/heads/main/Dog%20Population%20by%20Country.csv\")\n",
    "geografical_data = pd.read_csv(\"Misov Priestor/data/Dog Population by Country.csv\")\n",
    "world_geography = gpd.read_file(r\"https://github.com/P3rfectS/Data/raw/refs/heads/main/ne_110m_admin_0_countries/ne_110m_admin_0_countries.shp\")"
   ]
  },
  {
   "cell_type": "markdown",
   "metadata": {},
   "source": [
    "Príprava Vizuálnych Podkladov\n",
    "---"
   ]
  },
  {
   "cell_type": "markdown",
   "metadata": {},
   "source": [
    "Príprava: Geografické Dáta\n",
    "---\n",
    "\n",
    "#1 transofmácia, čistenie a doplnenie datasetu"
   ]
  },
  {
   "cell_type": "code",
   "execution_count": null,
   "metadata": {},
   "outputs": [],
   "source": [
    "#Odstránenie chybných dát\n",
    "geografical_data = geografical_data[geografical_data[\"Country\"] != 'Montenegro']\n",
    "\n",
    "#Doplnenie chýbajúcich dát (tvorba dočasného df)\n",
    "#new_row = pd.DataFrame([{\"Country\": \"Australia\", \"Estimated Dog Population\": \"6000000\"}])\n",
    "\n",
    "#Pripojenie ku pôvodnému datasetu\n",
    "#geografical_data = pd.concat([geografical_data, new_row], ignore_index=True)\n",
    "\n",
    "\n",
    "#Zmena tipu dát na numerické\n",
    "geografical_data['Estimated Dog Population'] = pd.to_numeric(\n",
    "    geografical_data['Estimated Dog Population'].str.replace(',', ''),\n",
    "    errors='coerce'\n",
    ")\n",
    "\n",
    "#Úprava názvov štátov v datasete aby zodpovedali názvom ktoré používa funkcia\n",
    "country_name_fixes = {\n",
    "    \"Swaziland\": \"Eswatini\",\n",
    "    \"Democratic Republic of Congo\": \"DR Congo\",\n",
    "    \"Kosovo\": \"Kosovo\",\n",
    "    \"United States of America\": \"United States\",\n",
    "    \"Czech Republic\": \"Czechia\",\n",
    "    \"United States\": \"United States of America\",\n",
    "    \"Bosnia and Herzegovina\": \"Bosnia and Herz.\"\n",
    "}\n",
    "geografical_data['Country'] = geografical_data['Country'].replace(country_name_fixes)\n",
    "population_data['Country'] = population_data['Country'].replace(country_name_fixes)"
   ]
  },
  {
   "cell_type": "markdown",
   "metadata": {},
   "source": [
    "#2 Tvorba zjednotených tabuľiek"
   ]
  },
  {
   "cell_type": "code",
   "execution_count": null,
   "metadata": {},
   "outputs": [],
   "source": [
    "#Tvorba zjednotenej tabulky\n",
    "full_table = geografical_data.merge(population_data, on='Country', how='left')\n",
    "full_table['Dog Population per Capita'] = full_table['Estimated Dog Population'] / full_table['Population 2024']\n",
    "full_table[\"Area\"] = pd.to_numeric(full_table['Area (km2)'].str.replace(r'K', 'e3', regex=True).str.replace(r'M', 'e6', regex=True))\n",
    "full_table[\"Dog Population Density\"] = full_table[\"Estimated Dog Population\"] / full_table[\"Area\"]\n",
    "#Tvorba tabuliek pre vizualizácie\n",
    "merged = world_geography.merge(geografical_data, how='left', left_on='NAME', right_on='Country')\n",
    "merged[\"Estimated Dog Population log\"] = np.log10(merged[\"Estimated Dog Population\"])\n",
    "merged_per_capita = world_geography.merge(full_table, how='left', left_on='NAME', right_on='Country')\n",
    "merged_per_capita[\"Dog Population Density log\"] = np.log10(merged_per_capita[\"Dog Population Density\"])"
   ]
  },
  {
   "cell_type": "markdown",
   "metadata": {},
   "source": [
    "#3 Tvorba jednotlivých vizualizácií"
   ]
  },
  {
   "cell_type": "code",
   "execution_count": null,
   "metadata": {},
   "outputs": [],
   "source": [
    "#Funkcia pre vytvorenie geografickej vizualizácie psej populácie v rôznych krajinách sveta\n",
    "def geo_vytvor_populacia_psov():\n",
    "    fig, ax = plt.subplots(figsize=(15, 6))\n",
    "    mapa = merged.plot(\n",
    "        column='Estimated Dog Population log',\n",
    "        ax=ax,\n",
    "        legend=True,\n",
    "        cmap='OrRd',\n",
    "        missing_kwds={\"color\": \"lightgrey\", \"label\": \"No data\"}\n",
    "    )\n",
    "    cbar = mapa.get_figure().get_axes()[-1]\n",
    "    tick_values = cbar.get_yticks()\n",
    "    cbar.set_yticklabels([f\"10^{val:,}\" for val in tick_values])\n",
    "\n",
    "    plt.title(\"Estimated Dog Population by Country (log10)\")\n",
    "    plt.axis('off')\n",
    "    plt.show()\n",
    "\n",
    "#Funkcia pre vytvorenie geografickej vizualizácie populácie psov na jedného obyvateľa v rôznych krajinách sveta\n",
    "def geo_vytvor_psy_na_hlavu():\n",
    "    fig, ax = plt.subplots(figsize=(15, 6))\n",
    "    merged_per_capita.plot(\n",
    "    column='Dog Population per Capita',\n",
    "    ax=ax,\n",
    "    legend=True,\n",
    "    cmap='OrRd',\n",
    "    missing_kwds={\"color\": \"lightgrey\", \"label\": \"No data\"}\n",
    "    )\n",
    "    plt.title(\"Dog Population per Capita\")\n",
    "    plt.axis('off')\n",
    "    plt.show()\n",
    "\n",
    "def geo_vytvor_hustotu_psov():\n",
    "    fig, ax = plt.subplots(figsize=(15, 6))\n",
    "    mapa = merged_per_capita.plot(\n",
    "    column='Dog Population Density log',\n",
    "    ax=ax,\n",
    "    legend=True,\n",
    "    cmap='OrRd',\n",
    "    missing_kwds={\"color\": \"lightgrey\", \"label\": \"No data\"}\n",
    "    )\n",
    "\n",
    "    cbar = mapa.get_figure().get_axes()[-1]\n",
    "    tick_values = cbar.get_yticks()\n",
    "    cbar.set_yticklabels([f\"10^{val:,}\" for val in tick_values])\n",
    "\n",
    "    plt.title(\"Dog population density (per km^2, log10)\")\n",
    "    plt.axis('off')\n",
    "    plt.show()\n",
    "\n",
    "    \n",
    "geo_vytvor_populacia_psov()\n",
    "geo_vytvor_psy_na_hlavu()\n",
    "geo_vytvor_hustotu_psov()\n",
    "#HUSTOTA NA KM4"
   ]
  },
  {
   "cell_type": "markdown",
   "metadata": {},
   "source": [
    "Práca s pôvodnými dátami\n",
    "---"
   ]
  },
  {
   "cell_type": "code",
   "execution_count": null,
   "metadata": {},
   "outputs": [],
   "source": [
    "sns.histplot(data = main_data, x = \"daily_exercise\")\n",
    "figure, axes = plt.subplots(2,2, figsize = (12,10))\n",
    "sns.violinplot(data = main_data, x = \"impulsive\", y = \"barking_score\", ax = axes[0][0], color = \"orange\")\n",
    "sns.violinplot(data = main_data, x = \"impulsive\", y = \"stranger_aggression_score\", ax = axes[0][1], color = \"orange\")\n",
    "sns.violinplot(data = main_data, x = \"impulsive\", y = \"owner_aggression_score\", ax = axes[1][0], color = \"orange\")\n",
    "sns.violinplot(data = main_data, x = \"impulsive\", y = \"dog_aggression_score\", ax = axes[1][1], color = \"orange\")\n",
    "\n",
    "empathic_table = main_data[main_data['Empathic'].notna()].copy(deep = True)\n",
    "empathic_means = pd.DataFrame(empathic_table.groupby(\"breed_group\")[\"Empathic\"].mean())\n",
    "empathic_means = empathic_means.sort_values(\"Empathic\")\n",
    "fig = px.bar(empathic_means, y = empathic_means.index, x='Empathic')\n",
    "fig.update_layout(\n",
    "    yaxis=dict(tickmode='linear'),  # Force all ticks to show\n",
    "    width=1200,\n",
    "    height=800,\n",
    "    bargap=0.05\n",
    ")\n",
    "fig.show()\n",
    "\n",
    "figure2, axes2 = plt.subplots(1,3, figsize = (18,5))\n",
    "sns.violinplot(data = main_data, x = \"aggression_strangers\", y = \"stranger_aggression_score\", ax = axes2[0], color = \"lightblue\")\n",
    "sns.violinplot(data = main_data, x = \"aggression_owner\", y = \"owner_aggression_score\", ax = axes2[1], color = \"lightblue\")\n",
    "sns.violinplot(data = main_data, x = \"aggression_dogs\", y = \"dog_aggression_score\", ax = axes2[2], color = \"lightblue\")"
   ]
  },
  {
   "cell_type": "code",
   "execution_count": null,
   "metadata": {},
   "outputs": [],
   "source": [
    "figure, axes = plt.subplots(2, 2, figsize = (12, 10))\n",
    "\n",
    "axes[0][0].hist2d(main_data[\"human_sociability_score\"].dropna(), main_data[\"dog_sociability_score\"].dropna(), bins = 20)\n",
    "axes[0][0].set_title(\"Dog sociability (relation between sociability to humans and dogs)\")\n",
    "axes[0][0].set_xlabel(\"Human sociability score\")\n",
    "axes[0][0].set_ylabel(\"Dog sociabilty score\")\n",
    "\n",
    "axes[0][1].hist2d(main_data[\"insecurity_score\"].dropna(), main_data[\"aggressiveness_dominance_score\"].dropna(), bins = 20)\n",
    "axes[0][1].set_title(\"Relation between insecurity and aggressiveness of dogs)\")\n",
    "axes[0][1].set_xlabel(\"Insecurity score\")\n",
    "axes[0][1].set_ylabel(\"Aggressiveness dominance score\")\n",
    "\n",
    "axes[1][0].hist2d(main_data[\"human_sociability_score\"].dropna(), main_data[\"aggressiveness_dominance_score\"].dropna(), bins = 20)\n",
    "axes[1][0].set_title(\"Relation between sociability to humans and aggressiveness)\")\n",
    "axes[1][0].set_xlabel(\"Human sociability score\")\n",
    "axes[1][0].set_ylabel(\"Aggressiveness dominance score\")\n",
    "\n",
    "axes[1][1].hist2d(main_data[\"activity_playfulness_score\"].dropna(), main_data[\"dog_sociability_score\"].dropna(), bins = 20)\n",
    "axes[1][1].set_title(\"Relation between playfulness and dog sociability)\")\n",
    "axes[1][1].set_xlabel(\"Activity playfulness score\")\n",
    "axes[1][1].set_ylabel(\"Dog sociability score\")\n",
    "\n",
    "\n",
    "\n",
    "\n",
    "figure2, axes2 = plt.subplots(2,2, figsize = (12, 10))\n",
    "sns.kdeplot(x = main_data[\"human_sociability_score\"].dropna(), y = main_data[\"dog_sociability_score\"].dropna(), ax = axes2[0][0], fill = True)\n",
    "axes2[0][0].set_title(\"Dog sociability (relation between sociability to humans and dogs)\")\n",
    "axes2[0][0].set_xlabel(\"Human sociability score\")\n",
    "axes2[0][0].set_ylabel(\"Dog sociabilty score\")\n",
    "\n",
    "sns.kdeplot(x = main_data[\"insecurity_score\"].dropna(), y = main_data[\"aggressiveness_dominance_score\"].dropna(), ax = axes2[0][1], fill = True)\n",
    "axes2[0][1].set_title(\"Relation between insecurity and aggressiveness of dogs)\")\n",
    "axes2[0][1].set_xlabel(\"Insecurity score\")\n",
    "axes2[0][1].set_ylabel(\"Aggressiveness dominance score\")\n",
    "\n",
    "sns.kdeplot(x = main_data[\"human_sociability_score\"].dropna(), y = main_data[\"aggressiveness_dominance_score\"].dropna(), ax = axes2[1][0], fill = True)\n",
    "axes2[1][0].set_title(\"Relation between sociability to humans and aggressiveness)\")\n",
    "axes2[1][0].set_xlabel(\"Human sociability score\")\n",
    "axes2[1][0].set_ylabel(\"Aggressiveness dominance score\")\n",
    "\n",
    "sns.kdeplot(x = main_data[\"activity_playfulness_score\"].dropna(), y = main_data[\"dog_sociability_score\"].dropna(), ax = axes2[1][1], fill = True)\n",
    "axes2[1][1].set_title(\"Relation between playfulness and dog sociability)\")\n",
    "axes2[1][1].set_xlabel(\"Activity playfulness score\")\n",
    "axes2[1][1].set_ylabel(\"Dog sociability score\")\n",
    "plt.show()"
   ]
  },
  {
   "cell_type": "markdown",
   "metadata": {},
   "source": [
    "Príprava: Predstavenie Datasetu // Dataset Bias\n",
    "---"
   ]
  },
  {
   "cell_type": "code",
   "execution_count": null,
   "metadata": {},
   "outputs": [],
   "source": [
    "fig = px.bar(dogs['breed_group'].value_counts().reset_index(), y='breed_group', x='count', title='Pocty jednotlivych plemien v datach', width=1000, height=700, )\n",
    "fig.update_layout(\n",
    "    yaxis=dict(tickmode='linear'),  # Force all ticks to show\n",
    "    width=1200,\n",
    "    height=800,\n",
    "    bargap=0.05\n",
    ")\n",
    "fig.show()"
   ]
  },
  {
   "cell_type": "code",
   "execution_count": null,
   "metadata": {},
   "outputs": [],
   "source": [
    "df = dogs.groupby(by=['sterilization_status','sex'])['dog.id'].count()#.rename(columns={'dog.id':'count'})#.reset_index().set_index(['sex', 'sterilization_status'])\n",
    "\n",
    "fig = go.Figure(data=[\n",
    "    go.Bar(name='sterlized', x=['male', 'female'], y=[df['sterilized', 'male'], df['sterilized', 'female']]),\n",
    "    go.Bar(name='intact', x=['male', 'female'], y=[df['intact', 'male'], df['intact', 'female']])\n",
    "])\n",
    "fig.update_layout(barmode='stack', width=700, title='Number of male and female sterilized/intact dogs')\n",
    "fig.show()"
   ]
  },
  {
   "cell_type": "code",
   "execution_count": null,
   "metadata": {},
   "outputs": [],
   "source": [
    "fig = go.Figure()\n",
    "fig.add_trace(go.Histogram(x=dogs.query('sex == \"male\"')['weight_kg'], name='Male', hovertext=dogs.query('sex == \"male\"')['dog.id']))\n",
    "fig.add_trace(go.Histogram(x=dogs.query('sex == \"female\"')['weight_kg'], name='Female',  hovertext=dogs.query('sex == \"female\"')['dog.id']))\n",
    "\n",
    "# Overlay both histograms\n",
    "fig.update_layout(barmode='overlay', xaxis_title='Weight in KG', title='Weight Histogram by gender')\n",
    "# Reduce opacity to see both histograms\n",
    "fig.update_traces(opacity=0.75)\n",
    "fig.show()"
   ]
  },
  {
   "cell_type": "code",
   "execution_count": null,
   "metadata": {},
   "outputs": [],
   "source": [
    "categories = ['Noise.sensitivity_age',\n",
    "'Fearfulness_age',\n",
    "'Aggression_age',\n",
    "'Surface_age',\n",
    "'Separation_age',\n",
    "'Impulsivity_age',\n",
    "'Personality_age']\n",
    "\n",
    "ages_melt = dogs[categories + ['dog.id']].melt(id_vars='dog.id')\n",
    "\n",
    "sns.kdeplot(data=ages_melt, x='value', hue='variable')\n",
    "plt.title('KDE plot of ages at which the forms were answered')\n",
    "pass"
   ]
  },
  {
   "cell_type": "code",
   "execution_count": null,
   "metadata": {},
   "outputs": [],
   "source": [
    "categories = ['Noise.sensitivity_age',\n",
    "'Fearfulness_age',\n",
    "'Aggression_age',\n",
    "'Surface_age',\n",
    "'Separation_age',\n",
    "'Impulsivity_age',\n",
    "'Personality_age']\n",
    "A = dogs[categories].dropna().round()\n",
    "B = A[~(A.nunique(axis=1) == 1)]\n",
    "display(Markdown('<h2>Vsetky riadky, ktore nemaju ani jednu hodnotu NaN a maju rozdielne veky vyplnenia formularov</h2>'))\n",
    "display(B)\n"
   ]
  },
  {
   "cell_type": "markdown",
   "metadata": {},
   "source": [
    "# Chovatelia"
   ]
  },
  {
   "cell_type": "code",
   "execution_count": null,
   "metadata": {},
   "outputs": [],
   "source": [
    "A = dogs[['dog_breeder', 'leashed_unleashed']].value_counts().reset_index()\n",
    "A['leashed_unleashed'] = pd.Categorical(A['leashed_unleashed'], ordered=True, categories=['unleashed', 'partly_leashed', 'leashed'])\n",
    "A = A.sort_values(by='leashed_unleashed')\n",
    "A['total'] = A.groupby('dog_breeder')['count'].transform('sum')\n",
    "A['percentage'] = A['count'] / A['total']\n",
    "fig = px.bar(A, x='leashed_unleashed', y='percentage', color='dog_breeder', barmode='group', title='Leash usage amongst dog owners')\n",
    "fig.update_layout(\n",
    "    xaxis_title='',\n",
    ")\n",
    "fig.show()\n"
   ]
  },
  {
   "cell_type": "code",
   "execution_count": null,
   "metadata": {},
   "outputs": [],
   "source": [
    "sns.violinplot(dogs, x='dog_breeder', y='stranger_aggression_score', hue='dog_breeder')\n",
    "plt.title('Stranger aggression amongst dog owners')"
   ]
  },
  {
   "cell_type": "code",
   "execution_count": null,
   "metadata": {},
   "outputs": [],
   "source": [
    "sns.violinplot(dogs, x='dog_breeder', y='Obedient', hue='dog_breeder')\n",
    "plt.title('Obedience of their dog according to dog owners')"
   ]
  },
  {
   "cell_type": "markdown",
   "metadata": {},
   "source": [
    "Zistili sme\n",
    "---\n",
    "* Chovatelia posov pouzivaju menej voditko a su si istejsi, ze ich pes viac poslucha\n",
    "* V stranger_aggression_score nebol prejaveny rozdiel, cize nie je mensia sanca, ze pes zautoci na cudzieho cloveka, a tym, ze chovatel nepouziva voditko, tak to moze byt nebezpecnejsie"
   ]
  },
  {
   "cell_type": "markdown",
   "metadata": {},
   "source": [
    "# Agresivita psov"
   ]
  },
  {
   "cell_type": "code",
   "execution_count": null,
   "metadata": {},
   "outputs": [],
   "source": [
    "aggressive_columns = ['Aggressive_dogs_samegender', 'Aggressive_people', 'Aggressive_dogs_oppositegender', 'aggressiveness_dominance_score']\n",
    "\n",
    "means = dogs.groupby('breed_group')[aggressive_columns].mean().reset_index()\n",
    "means['Aggressive_columns_sum'] = means[aggressive_columns[0]] + means[aggressive_columns[1]] + means[aggressive_columns[2]]\n",
    "means.sort_values(by='Aggressive_columns_sum', inplace=True)\n",
    "fig = px.bar(means, y='breed_group', x=aggressive_columns[:-1])\n",
    "fig.update_layout(\n",
    "    xaxis_title='aggression'\n",
    ")\n",
    "fig.show()"
   ]
  },
  {
   "cell_type": "markdown",
   "metadata": {},
   "source": [
    "# Outlayers"
   ]
  },
  {
   "cell_type": "markdown",
   "metadata": {},
   "source": [
    "## Pes, ktorý sa dožil 100 rokov"
   ]
  },
  {
   "cell_type": "code",
   "execution_count": null,
   "metadata": {},
   "outputs": [],
   "source": [
    "categories = ['Noise.sensitivity_age',\n",
    "'Fearfulness_age',\n",
    "'Aggression_age',\n",
    "'Surface_age',\n",
    "'Separation_age',\n",
    "'Impulsivity_age',\n",
    "'Personality_age']\n",
    "ages = dogs[categories]\n",
    "# display(ages.describe())\n",
    "display(dogs.query('Surface_age > 100'))#.transpose().rename(columns={15370: 'Pes, ktorý sa dožil 100 rokov'}))"
   ]
  }
 ],
 "metadata": {
  "language_info": {
   "name": "python"
  }
 },
 "nbformat": 4,
 "nbformat_minor": 2
}
