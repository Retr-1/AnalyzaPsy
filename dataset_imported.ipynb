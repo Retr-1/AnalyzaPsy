{
 "cells": [
  {
   "cell_type": "code",
   "execution_count": 2,
   "metadata": {},
   "outputs": [],
   "source": [
    "import pandas as pd"
   ]
  },
  {
   "cell_type": "code",
   "execution_count": 6,
   "metadata": {},
   "outputs": [],
   "source": [
    "data_psy_complet = pd.read_excel('data-for-publication.xlsx', sheet_name='Dataset')"
   ]
  },
  {
   "cell_type": "code",
   "execution_count": 7,
   "metadata": {},
   "outputs": [
    {
     "name": "stdout",
     "output_type": "stream",
     "text": [
      "       dog.id           breed_group     sex sterilization_status  \\\n",
      "0           1  Jack_Russell_Terrier  female           sterilized   \n",
      "1           2  Jack_Russell_Terrier  female               intact   \n",
      "2           3  Pinschers_Schnauzers    male               intact   \n",
      "3           4  Pinschers_Schnauzers    male           sterilized   \n",
      "4           5   German_Shepherd_Dog    male           sterilized   \n",
      "...       ...                   ...     ...                  ...   \n",
      "15366   15367    Labrador_Retriever    male           sterilized   \n",
      "15367   15368    Labrador_Retriever    male               intact   \n",
      "15368   15369              Pointers  female               intact   \n",
      "15369   15370      Hunting_terriers    male               intact   \n",
      "15370   15371           Teacup_dogs    male               intact   \n",
      "\n",
      "       Noise.sensitivity_age  Fearfulness_age  Aggression_age  Surface_age  \\\n",
      "0                  14.241650        14.181420       14.236174    14.233437   \n",
      "1                   8.693866         8.359294        8.693866     8.353818   \n",
      "2                   1.992701         1.992701        1.992701     1.992701   \n",
      "3                   5.405751         5.405751        5.405751     5.405751   \n",
      "4                   3.875205         4.006568        3.875205     4.006568   \n",
      "...                      ...              ...             ...          ...   \n",
      "15366               4.515599         4.515599        4.515599     4.515599   \n",
      "15367                    NaN              NaN             NaN          NaN   \n",
      "15368               5.315693              NaN        5.315693     5.315693   \n",
      "15369               1.447332         1.447332        1.447332     1.447332   \n",
      "15370              18.088980        18.088980       18.088980   100.969900   \n",
      "\n",
      "       Separation_age  Impulsivity_age  ...  Vas_8_excessive  \\\n",
      "0           14.181420        14.236174  ...              2.0   \n",
      "1                 NaN         8.422270  ...              2.0   \n",
      "2            1.992701         1.992701  ...              NaN   \n",
      "3            5.405751         5.405751  ...              1.0   \n",
      "4            4.006568         4.006568  ...              3.0   \n",
      "...               ...              ...  ...              ...   \n",
      "15366        4.515599         4.515599  ...              3.0   \n",
      "15367             NaN              NaN  ...              NaN   \n",
      "15368        5.315693              NaN  ...              NaN   \n",
      "15369        1.447332         1.447332  ...              1.0   \n",
      "15370       18.088980        18.088980  ...              1.0   \n",
      "\n",
      "       Vas_9_alwaysplay Vas_10_complicatedtasks Vas_11_reacthastily  \\\n",
      "0                   3.0                     2.0                 2.0   \n",
      "1                   3.0                     1.0                 1.0   \n",
      "2                   NaN                     NaN                 NaN   \n",
      "3                   2.0                     1.0                 2.0   \n",
      "4                   3.0                     2.0                 2.0   \n",
      "...                 ...                     ...                 ...   \n",
      "15366               3.0                     1.0                 2.0   \n",
      "15367               NaN                     NaN                 NaN   \n",
      "15368               NaN                     NaN                 NaN   \n",
      "15369               3.0                     2.0                 2.0   \n",
      "15370               1.0                     1.0                 1.0   \n",
      "\n",
      "      Vas_12_easilydistracted Vas_13_cannotwait  impulsive  \\\n",
      "0                         3.0               2.0        0.0   \n",
      "1                         2.0               2.0        NaN   \n",
      "2                         NaN               NaN        1.0   \n",
      "3                         2.0               1.0        1.0   \n",
      "4                         4.0               2.0        1.0   \n",
      "...                       ...               ...        ...   \n",
      "15366                     2.0               2.0        0.0   \n",
      "15367                     NaN               NaN        NaN   \n",
      "15368                     NaN               NaN        NaN   \n",
      "15369                     3.0               1.0        0.0   \n",
      "15370                     2.0               2.0        0.0   \n",
      "\n",
      "       impulsiveness_disturbes  inattention_score  impulsivity_score  \n",
      "0                          3.0           0.993593           0.097521  \n",
      "1                          2.0          -0.633266           0.904661  \n",
      "2                          4.0                NaN                NaN  \n",
      "3                          2.0          -0.528441          -0.822966  \n",
      "4                          5.0           0.347356           1.438794  \n",
      "...                        ...                ...                ...  \n",
      "15366                      4.0           0.002578           1.165461  \n",
      "15367                      NaN                NaN                NaN  \n",
      "15368                      NaN                NaN                NaN  \n",
      "15369                      1.0          -0.076717          -0.764367  \n",
      "15370                      1.0          -0.419320          -0.664030  \n",
      "\n",
      "[15371 rows x 250 columns]\n"
     ]
    }
   ],
   "source": [
    "print(data_psy_complet)"
   ]
  }
 ],
 "metadata": {
  "kernelspec": {
   "display_name": "Python 3",
   "language": "python",
   "name": "python3"
  },
  "language_info": {
   "codemirror_mode": {
    "name": "ipython",
    "version": 3
   },
   "file_extension": ".py",
   "mimetype": "text/x-python",
   "name": "python",
   "nbconvert_exporter": "python",
   "pygments_lexer": "ipython3",
   "version": "3.12.4"
  }
 },
 "nbformat": 4,
 "nbformat_minor": 2
}
