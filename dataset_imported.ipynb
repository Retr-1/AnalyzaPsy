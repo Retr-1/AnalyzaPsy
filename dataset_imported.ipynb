{
 "cells": [
  {
   "cell_type": "code",
   "execution_count": 66,
   "metadata": {},
   "outputs": [],
   "source": [
    "import pandas as pd\n",
    "import seaborn as sns\n",
    "import matplotlib.pyplot as plt\n",
    "import plotly"
   ]
  },
  {
   "cell_type": "code",
   "execution_count": null,
   "metadata": {},
   "outputs": [],
   "source": []
  },
  {
   "cell_type": "code",
   "execution_count": 67,
   "metadata": {},
   "outputs": [],
   "source": [
    "data_psy_complet = pd.read_excel('data-for-publication.xlsx', sheet_name='Dataset')\n",
    "data_psy_information = pd.read_excel('data-for-publication.xlsx', sheet_name='Information')"
   ]
  },
  {
   "cell_type": "code",
   "execution_count": 68,
   "metadata": {},
   "outputs": [
    {
     "name": "stdout",
     "output_type": "stream",
     "text": [
      "Index(['dog.id', 'breed_group', 'sex', 'sterilization_status',\n",
      "       'Noise.sensitivity_age', 'Fearfulness_age', 'Aggression_age',\n",
      "       'Surface_age', 'Separation_age', 'Impulsivity_age',\n",
      "       ...\n",
      "       'Vas_8_excessive', 'Vas_9_alwaysplay', 'Vas_10_complicatedtasks',\n",
      "       'Vas_11_reacthastily', 'Vas_12_easilydistracted', 'Vas_13_cannotwait',\n",
      "       'impulsive', 'impulsiveness_disturbes', 'inattention_score',\n",
      "       'impulsivity_score'],\n",
      "      dtype='object', length=250)\n"
     ]
    }
   ],
   "source": [
    "\n",
    "print(data_psy_complet.columns)"
   ]
  },
  {
   "cell_type": "code",
   "execution_count": 69,
   "metadata": {},
   "outputs": [
    {
     "name": "stdout",
     "output_type": "stream",
     "text": [
      "Impulsion of sterilized dogs\n",
      "0.21521562245728235\n",
      "7.38575131120885\n",
      "Impulsion of intact dogs\n",
      "0.1970991970991971\n",
      "4.525206507153724\n",
      "\n",
      "Dominance of sterilized dogs\n",
      "2.532295462073534\n",
      "Dominance of intact dogs\n",
      "2.267448979591837\n",
      "\n",
      "Patience of sterilized dogs\n",
      "3.2327500825354902\n",
      "Patience of intact dogs\n",
      "3.2975257102128093\n",
      "\n",
      "Patience of sterilized dogs\n",
      "3.2327500825354902\n",
      "Patience of intact dogs\n",
      "3.2975257102128093\n",
      "3.2975257102128093\n"
     ]
    }
   ],
   "source": [
    "\n",
    "sterilized = data_psy_complet.query(\"sterilization_status == 'sterilized'\")\n",
    "not_sterilized = data_psy_complet.query(\"sterilization_status == 'intact'\")\n",
    "print('Impulsion of sterilized dogs')\n",
    "print(sterilized['impulsive'].mean())\n",
    "print(sterilized['Impulsivity_age'].mean())\n",
    "print('Impulsion of intact dogs')\n",
    "print(not_sterilized['impulsive'].mean())\n",
    "print(not_sterilized['Impulsivity_age'].mean())\n",
    "print()\n",
    "print('Dominance of sterilized dogs')\n",
    "print(sterilized['Dominant'].mean())\n",
    "print('Dominance of intact dogs')\n",
    "print(not_sterilized['Dominant'].mean())\n",
    "print()\n",
    "print('Patience of sterilized dogs')\n",
    "print(sterilized['Patient'].mean())\n",
    "print('Patience of intact dogs')\n",
    "print(not_sterilized['Patient'].mean())\n",
    "print()\n",
    "print('Patience of sterilized dogs')\n",
    "print(sterilized['Patient'].mean())\n",
    "print('Patience of intact dogs')\n",
    "print(not_sterilized['Patient'].mean())\n",
    "print(not_sterilized['Patient'].mean())\n"
   ]
  },
  {
   "cell_type": "code",
   "execution_count": 70,
   "metadata": {},
   "outputs": [],
   "source": [
    "max = 0\n",
    "atribut = ''\n",
    "nove_data_psy = data_psy_complet.drop('dog.id', axis=1)\n",
    "nove_data_psy.drop('Separation_age', axis=1, inplace=True)\n",
    "numeric_cols = nove_data_psy.select_dtypes(include='number').columns\n",
    "for i in numeric_cols:\n",
    "\n",
    "    x = not_sterilized[str(i)].mean()\n",
    "    y = sterilized[str(i)].mean()\n",
    "    if abs(x - y) > max:\n",
    "        max = abs(x - y)\n",
    "        atribut = i\n"
   ]
  },
  {
   "cell_type": "code",
   "execution_count": 71,
   "metadata": {},
   "outputs": [
    {
     "name": "stdout",
     "output_type": "stream",
     "text": [
      "Noise.sensitivity_age\n",
      "2.877174418998094\n"
     ]
    }
   ],
   "source": [
    "print(atribut)\n",
    "print(max)"
   ]
  },
  {
   "cell_type": "code",
   "execution_count": 72,
   "metadata": {},
   "outputs": [
    {
     "name": "stdout",
     "output_type": "stream",
     "text": [
      "5.210481631792988\n",
      "0.15717740162673116\n",
      "0.23725803587284675\n",
      "====================\n",
      "form breeder\n",
      "====================\n",
      "5.100211060204247\n",
      "0.1539292465568458\n",
      "0.23687474162877223\n",
      "====================\n",
      "not form breeder\n",
      "====================\n",
      "5.774309670945424\n",
      "0.17139479905437352\n",
      "0.23959646910466584\n"
     ]
    }
   ],
   "source": [
    "data_psy_breeder = data_psy_complet.query(\"obtained_from == 'breeder'\")\n",
    "data_psy_not_breeder = data_psy_complet.query(\"obtained_from != 'breeder'\")\n",
    "print(data_psy_complet['Impulsivity_age'].mean())\n",
    "old_dogs = data_psy_complet.query(\"Impulsivity_age > 5.21\")\n",
    "print(old_dogs[\"impulsive\"].mean())\n",
    "young_dogs = data_psy_complet.query(\"Impulsivity_age < 5.21\")\n",
    "print(young_dogs[\"impulsive\"].mean())\n",
    "\n",
    "print('====================')\n",
    "print('form breeder')\n",
    "print('====================')\n",
    "\n",
    "print(data_psy_breeder['Impulsivity_age'].mean())\n",
    "old_dogs_breeder = data_psy_breeder.query(\"Impulsivity_age > 5.21\")\n",
    "print(old_dogs_breeder[\"impulsive\"].mean())\n",
    "young_dogs_breeder = data_psy_breeder.query(\"Impulsivity_age < 5.21\")\n",
    "print(young_dogs_breeder[\"impulsive\"].mean())\n",
    "\n",
    "print('====================')\n",
    "print('not form breeder')\n",
    "print('====================')\n",
    "\n",
    "print(data_psy_not_breeder['Impulsivity_age'].mean())\n",
    "old_dogs_not_breeder = data_psy_not_breeder.query(\"Impulsivity_age > 5.21\")\n",
    "print(old_dogs_not_breeder[\"impulsive\"].mean())\n",
    "young_dogs_not_breeder = data_psy_not_breeder.query(\"Impulsivity_age < 5.21\")\n",
    "print(young_dogs_not_breeder[\"impulsive\"].mean())\n"
   ]
  },
  {
   "cell_type": "markdown",
   "metadata": {},
   "source": [
    "Working with information dataset to extract values rated on the scale of 1 to 5"
   ]
  },
  {
   "cell_type": "code",
   "execution_count": 73,
   "metadata": {},
   "outputs": [
    {
     "name": "stdout",
     "output_type": "stream",
     "text": [
      "               SECTION      COLUMN NAME  \\\n",
      "113  Noise sensitivity   Thunder_escape   \n",
      "114  Noise sensitivity     Thunder_pant   \n",
      "115  Noise sensitivity     Thunder_hide   \n",
      "116  Noise sensitivity  Thunder_tremble   \n",
      "117  Noise sensitivity     Thunder_pace   \n",
      "\n",
      "                   COLUMN DESCRIPTION/ SURVEY QUESTION  \\\n",
      "113             When hearing thunder... My dog escapes   \n",
      "114                When hearing thunder… My dog pants    \n",
      "115  When hearing thunder… My dog hides (e.g. under...   \n",
      "116             When hearing thunder… My dog trembles    \n",
      "117                When hearing thunder… My dog paces    \n",
      "\n",
      "                                         COLUMN VALUES  \n",
      "113  1 = Never\\n2 = Rarely\\n3 = Sometimes\\n4 = Ofte...  \n",
      "114  1 = Never\\n2 = Rarely\\n3 = Sometimes\\n4 = Ofte...  \n",
      "115  1 = Never\\n2 = Rarely\\n3 = Sometimes\\n4 = Ofte...  \n",
      "116  1 = Never\\n2 = Rarely\\n3 = Sometimes\\n4 = Ofte...  \n",
      "117  1 = Never\\n2 = Rarely\\n3 = Sometimes\\n4 = Ofte...  \n"
     ]
    },
    {
     "name": "stderr",
     "output_type": "stream",
     "text": [
      "C:\\Users\\micha\\AppData\\Local\\Temp\\ipykernel_17860\\3092914543.py:1: FutureWarning: Series.fillna with 'method' is deprecated and will raise in a future version. Use obj.ffill() or obj.bfill() instead.\n",
      "  data_psy_information['SECTION'] = data_psy_information['SECTION'].fillna(method='ffill')\n"
     ]
    }
   ],
   "source": [
    "data_psy_information['SECTION'] = data_psy_information['SECTION'].fillna(method='ffill')\n",
    "target_text = \"\"\"1 = Never\n",
    "2 = Rarely\n",
    "3 = Sometimes\n",
    "4 = Often\n",
    "5 = Always or almost always\"\"\"\n",
    "info_rated = data_psy_information[data_psy_information['COLUMN VALUES'] == target_text]\n",
    "print(info_rated.head())"
   ]
  },
  {
   "cell_type": "code",
   "execution_count": 74,
   "metadata": {},
   "outputs": [
    {
     "name": "stdout",
     "output_type": "stream",
     "text": [
      "Column: Dog_enthusiastic\n",
      "absolute difference: 0.42428438785846767\n",
      "sterilized rating: 3.5691171297924726\n",
      "intact rating: 3.9934015176509403\n"
     ]
    }
   ],
   "source": [
    "max = 0\n",
    "max_sterilized = 0\n",
    "max_intact = 0\n",
    "max_column = ''\n",
    "ranked_data = pd.DataFrame([{\n",
    "    'Attribute': [],\n",
    "    'Absolute difference': [],\n",
    "    'Sterilized mean': [],\n",
    "    'Intact mean': [],\n",
    "    'Bigger value is': []\n",
    "}])\n",
    "\n",
    "for i in info_rated['COLUMN NAME']:\n",
    "    ster = sterilized[i].mean()\n",
    "    not_ster = not_sterilized[i].mean()\n",
    "    if ster > not_ster:\n",
    "        bigger_value = 'sterilized'\n",
    "    else:\n",
    "        bigger_value = 'intact'\n",
    "    ranked_data.loc[len(ranked_data)] = [i, abs(ster - not_ster), ster, not_ster, bigger_value]\n",
    "    if abs(ster - not_ster) > max:\n",
    "        max = abs(ster - not_ster)\n",
    "        max_sterilized = ster\n",
    "        max_intact = not_ster\n",
    "        max_column = i\n",
    "\n",
    "print('Column:', max_column)\n",
    "print('absolute difference:', max)\n",
    "print('sterilized rating:', max_sterilized)\n",
    "print('intact rating:', max_intact)\n",
    "ranked_data = ranked_data.drop(index=0)\n"
   ]
  },
  {
   "cell_type": "markdown",
   "metadata": {},
   "source": [
    "Sort values by biggest to smallest"
   ]
  },
  {
   "cell_type": "code",
   "execution_count": 75,
   "metadata": {},
   "outputs": [
    {
     "name": "stdout",
     "output_type": "stream",
     "text": [
      "           Attribute Absolute difference Sterilized mean Intact mean  \\\n",
      "54  Dog_enthusiastic            0.424284        3.569117    3.993402   \n",
      "26   Firework_notice            0.377436        3.561546    3.938983   \n",
      "19  Firework_taillow            0.376359        1.973093    1.596734   \n",
      "38      Other_notice            0.334141        3.357991    3.692132   \n",
      "15     Firework_pant            0.329754        1.823529    1.493775   \n",
      "\n",
      "   Bigger value is  \n",
      "54          intact  \n",
      "26          intact  \n",
      "19      sterilized  \n",
      "38          intact  \n",
      "15      sterilized  \n"
     ]
    }
   ],
   "source": [
    "ranked_data = ranked_data.sort_values(by='Absolute difference', ascending=False)\n",
    "print(ranked_data.head())"
   ]
  },
  {
   "cell_type": "markdown",
   "metadata": {},
   "source": [
    "Make different tables for sterilized and intact"
   ]
  },
  {
   "cell_type": "code",
   "execution_count": 76,
   "metadata": {},
   "outputs": [],
   "source": [
    "ranked_sterilized = ranked_data[ranked_data['Bigger value is'] == 'sterilized']\n",
    "ranked_intact = ranked_data[ranked_data['Bigger value is'] == 'intact']"
   ]
  },
  {
   "cell_type": "code",
   "execution_count": 80,
   "metadata": {},
   "outputs": [
    {
     "data": {
      "text/plain": [
       "Text(0.5, 0, '')"
      ]
     },
     "execution_count": 80,
     "metadata": {},
     "output_type": "execute_result"
    },
    {
     "data": {
      "image/png": "[encoded data removed]",
      "text/plain": [
       "<Figure size 640x480 with 1 Axes>"
      ]
     },
     "metadata": {},
     "output_type": "display_data"
    }
   ],
   "source": [
    "sterilized_barplot = sns.barplot(data = ranked_sterilized[:5], x='Attribute', y='Absolute difference')\n",
    "plt.xticks(rotation=45, fontsize=7)\n",
    "intact_barplot = sns.barplot(data = ranked_intact[:5], x='Attribute', y='Absolute difference')\n",
    "plt.title(\"Most differing attributes by sterilization status\")\n",
    "plt.xlabel(\"\")"
   ]
  },
  {
   "cell_type": "code",
   "execution_count": null,
   "metadata": {},
   "outputs": [],
   "source": []
  }
 ],
 "metadata": {
  "kernelspec": {
   "display_name": "Python 3",
   "language": "python",
   "name": "python3"
  },
  "language_info": {
   "codemirror_mode": {
    "name": "ipython",
    "version": 3
   },
   "file_extension": ".py",
   "mimetype": "text/x-python",
   "name": "python",
   "nbconvert_exporter": "python",
   "pygments_lexer": "ipython3",
   "version": "3.12.4"
  }
 },
 "nbformat": 4,
 "nbformat_minor": 2
}
