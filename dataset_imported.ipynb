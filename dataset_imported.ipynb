{
 "cells": [
  {
   "cell_type": "code",
   "execution_count": 6,
   "metadata": {},
   "outputs": [],
   "source": [
    "import pandas as pd\n",
    "import seaborn as sns\n",
    "import matplotlib as pt\n",
    "import plotly"
   ]
  },
  {
   "cell_type": "code",
   "execution_count": null,
   "metadata": {},
   "outputs": [],
   "source": []
  },
  {
   "cell_type": "code",
   "execution_count": 30,
   "metadata": {},
   "outputs": [],
   "source": [
    "data_psy_complet = pd.read_excel('data-for-publication.xlsx', sheet_name='Dataset')\n",
    "data_psy_information = pd.read_excel('data-for-publication.xlsx', sheet_name='Information')"
   ]
  },
  {
   "cell_type": "code",
   "execution_count": 36,
   "metadata": {},
   "outputs": [
    {
     "name": "stdout",
     "output_type": "stream",
     "text": [
      "Index(['dog.id', 'breed_group', 'sex', 'sterilization_status',\n",
      "       'Noise.sensitivity_age', 'Fearfulness_age', 'Aggression_age',\n",
      "       'Surface_age', 'Separation_age', 'Impulsivity_age',\n",
      "       ...\n",
      "       'Vas_8_excessive', 'Vas_9_alwaysplay', 'Vas_10_complicatedtasks',\n",
      "       'Vas_11_reacthastily', 'Vas_12_easilydistracted', 'Vas_13_cannotwait',\n",
      "       'impulsive', 'impulsiveness_disturbes', 'inattention_score',\n",
      "       'impulsivity_score'],\n",
      "      dtype='object', length=250)\n"
     ]
    }
   ],
   "source": [
    "\n",
    "print(data_psy_complet.columns)"
   ]
  },
  {
   "cell_type": "code",
   "execution_count": 37,
   "metadata": {},
   "outputs": [
    {
     "name": "stdout",
     "output_type": "stream",
     "text": [
      "Impulsion of sterilized dogs\n",
      "0.21521562245728235\n",
      "7.38575131120885\n",
      "Impulsion of intact dogs\n",
      "0.1970991970991971\n",
      "4.525206507153724\n",
      "\n",
      "Dominance of sterilized dogs\n",
      "2.532295462073534\n",
      "Dominance of intact dogs\n",
      "2.267448979591837\n",
      "\n",
      "Patience of sterilized dogs\n",
      "3.2327500825354902\n",
      "Patience of intact dogs\n",
      "3.2975257102128093\n",
      "\n",
      "Patience of sterilized dogs\n",
      "3.2327500825354902\n",
      "Patience of intact dogs\n",
      "3.2975257102128093\n",
      "3.2975257102128093\n"
     ]
    }
   ],
   "source": [
    "\n",
    "sterilized = data_psy_complet.query(\"sterilization_status == 'sterilized'\")\n",
    "not_sterilized = data_psy_complet.query(\"sterilization_status == 'intact'\")\n",
    "print('Impulsion of sterilized dogs')\n",
    "print(sterilized['impulsive'].mean())\n",
    "print(sterilized['Impulsivity_age'].mean())\n",
    "print('Impulsion of intact dogs')\n",
    "print(not_sterilized['impulsive'].mean())\n",
    "print(not_sterilized['Impulsivity_age'].mean())\n",
    "print()\n",
    "print('Dominance of sterilized dogs')\n",
    "print(sterilized['Dominant'].mean())\n",
    "print('Dominance of intact dogs')\n",
    "print(not_sterilized['Dominant'].mean())\n",
    "print()\n",
    "print('Patience of sterilized dogs')\n",
    "print(sterilized['Patient'].mean())\n",
    "print('Patience of intact dogs')\n",
    "print(not_sterilized['Patient'].mean())\n",
    "print()\n",
    "print('Patience of sterilized dogs')\n",
    "print(sterilized['Patient'].mean())\n",
    "print('Patience of intact dogs')\n",
    "print(not_sterilized['Patient'].mean())\n",
    "print(not_sterilized['Patient'].mean())\n"
   ]
  },
  {
   "cell_type": "code",
   "execution_count": null,
   "metadata": {},
   "outputs": [],
   "source": [
    "max = 0\n",
    "atribut = ''\n",
    "nove_data_psy = data_psy_complet.drop('dog.id', axis=1)\n",
    "nove_data_psy.drop('Separation_age', axis=1, inplace=True)\n",
    "numeric_cols = nove_data_psy.select_dtypes(include='number').columns\n",
    "for i in numeric_cols:\n",
    "\n",
    "    x = not_sterilized[str(i)].mean()\n",
    "    y = sterilized[str(i)].mean()\n",
    "    if abs(x - y) > max:\n",
    "        max = abs(x - y)\n",
    "        atribut = i\n"
   ]
  },
  {
   "cell_type": "code",
   "execution_count": 58,
   "metadata": {},
   "outputs": [
    {
     "name": "stdout",
     "output_type": "stream",
     "text": [
      "Noise.sensitivity_age\n",
      "2.877174418998094\n"
     ]
    }
   ],
   "source": [
    "print(atribut)\n",
    "print(max)"
   ]
  },
  {
   "cell_type": "code",
   "execution_count": 59,
   "metadata": {},
   "outputs": [
    {
     "name": "stdout",
     "output_type": "stream",
     "text": [
      "5.210481631792988\n",
      "0.15717740162673116\n",
      "0.23725803587284675\n",
      "====================\n",
      "form breeder\n",
      "====================\n",
      "5.100211060204247\n",
      "0.1539292465568458\n",
      "0.23687474162877223\n",
      "====================\n",
      "not form breeder\n",
      "====================\n",
      "5.774309670945424\n",
      "0.17139479905437352\n",
      "0.23959646910466584\n"
     ]
    }
   ],
   "source": [
    "data_psy_breeder = data_psy_complet.query(\"obtained_from == 'breeder'\")\n",
    "data_psy_not_breeder = data_psy_complet.query(\"obtained_from != 'breeder'\")\n",
    "print(data_psy_complet['Impulsivity_age'].mean())\n",
    "old_dogs = data_psy_complet.query(\"Impulsivity_age > 5.21\")\n",
    "print(old_dogs[\"impulsive\"].mean())\n",
    "young_dogs = data_psy_complet.query(\"Impulsivity_age < 5.21\")\n",
    "print(young_dogs[\"impulsive\"].mean())\n",
    "\n",
    "print('====================')\n",
    "print('form breeder')\n",
    "print('====================')\n",
    "\n",
    "print(data_psy_breeder['Impulsivity_age'].mean())\n",
    "old_dogs_breeder = data_psy_breeder.query(\"Impulsivity_age > 5.21\")\n",
    "print(old_dogs_breeder[\"impulsive\"].mean())\n",
    "young_dogs_breeder = data_psy_breeder.query(\"Impulsivity_age < 5.21\")\n",
    "print(young_dogs_breeder[\"impulsive\"].mean())\n",
    "\n",
    "print('====================')\n",
    "print('not form breeder')\n",
    "print('====================')\n",
    "\n",
    "print(data_psy_not_breeder['Impulsivity_age'].mean())\n",
    "old_dogs_not_breeder = data_psy_not_breeder.query(\"Impulsivity_age > 5.21\")\n",
    "print(old_dogs_not_breeder[\"impulsive\"].mean())\n",
    "young_dogs_not_breeder = data_psy_not_breeder.query(\"Impulsivity_age < 5.21\")\n",
    "print(young_dogs_not_breeder[\"impulsive\"].mean())\n"
   ]
  },
  {
   "cell_type": "code",
   "execution_count": null,
   "metadata": {},
   "outputs": [],
   "source": []
  }
 ],
 "metadata": {
  "kernelspec": {
   "display_name": "Python 3",
   "language": "python",
   "name": "python3"
  },
  "language_info": {
   "codemirror_mode": {
    "name": "ipython",
    "version": 3
   },
   "file_extension": ".py",
   "mimetype": "text/x-python",
   "name": "python",
   "nbconvert_exporter": "python",
   "pygments_lexer": "ipython3",
   "version": "3.12.4"
  }
 },
 "nbformat": 4,
 "nbformat_minor": 2
}
