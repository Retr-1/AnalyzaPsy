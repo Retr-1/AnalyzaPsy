{
 "cells": [
  {
   "cell_type": "markdown",
   "metadata": {},
   "source": [
    "# Tuto spisem, co vsetko mam\n",
    "- Explorativna analyza\n",
    "- Agresivita samce samice, ale celkom dobre\n",
    "- Kastracia\n",
    "- Kastracia pokracovanie\n",
    "- Kastracia pokracovanie\n",
    "- Agresivita psov vs vek (este doplnit brechanie treba)\n",
    "- Impulzivita a Nepozornost vs vek\n",
    "- Strach vs vek\n",
    "- Najtazsie a najlahsie plemena (mohol by som skusit spravit nejaku zavislost na agresivite v zavislosti od velkosti plemena)\n",
    "- Agresivita vs Strach - zaujimave\n",
    "- Agresivita vs citlivost na hluk\n",
    "- Strach vs citlivost na hluk\n",
    "\n",
    "### Napady\n",
    "- "
   ]
  },
  {
   "cell_type": "markdown",
   "metadata": {},
   "source": [
    "# Napady na hypotezy\n",
    "- v suvislosti oddelenia od matky, bude psom najprv stupat a potom klesat, nebojacnost a veselost (vitalita)\n",
    "### Najprv zistenia\n",
    "- Samci su agresivnejsi k vlastnemmu pohlaviu, a samice k opacnemu, ale iba o trochu, samci su agresivnejsi k ludom\n"
   ]
  },
  {
   "cell_type": "code",
   "execution_count": null,
   "metadata": {},
   "outputs": [],
   "source": [
    "import numpy as np\n",
    "import pandas as pd\n",
    "import matplotlib.pyplot as plt\n",
    "import seaborn as sns\n",
    "import plotly.express as px\n",
    "from IPython.display import Markdown\n",
    "# from google.colab import files\n",
    "# uploaded = files.upload()\n",
    "\n",
    "### Prikazy na stiahnutie z excelu a ulozenie do csv kvoli nacitavaniu\n",
    "# dog_info = pd.read_excel(\"data-for-publication.xlsx\", sheet_name=\"Information\", header=0)\n",
    "# dog_info.to_csv(\"psy_info.csv\")\n",
    "# files.download(\"psy_info.csv\")"
   ]
  },
  {
   "cell_type": "markdown",
   "metadata": {},
   "source": [
    "## Stiahnem data a ulozim ich v csv a vyrobim dataframe dogs a dogs info"
   ]
  },
  {
   "cell_type": "code",
   "execution_count": null,
   "metadata": {},
   "outputs": [],
   "source": [
    "dogs = pd.read_csv(\"psy_data.csv\", header=0).set_index(\"dog.id\")\n",
    "dog_info = pd.read_csv(\"psy_info.csv\", header=0)\n",
    "casti = ['Demographic information', 'Environment and background', 'Personality', \n",
    "     'Noise sensitivity', 'Fearfulness', 'Aggression', \n",
    "     'Fear of surfaces and heights', 'Separation anxiety', 'Impulsivity/ inattention']\n",
    "zoz = []\n",
    "for i in dog_info['SECTION']:\n",
    "    if i in casti:\n",
    "        slovo = i\n",
    "    zoz.append(slovo)\n",
    "dog_info['SECTION'] = pd.Series(zoz)\n",
    "dog_info = dog_info.set_index('SECTION').drop('Unnamed: 0', axis=1)\n"
   ]
  },
  {
   "cell_type": "markdown",
   "metadata": {},
   "source": [
    "## Tuto budu zoznamy jednotlivych casti, a urobene casti tabulky podla kategorie\n"
   ]
  },
  {
   "cell_type": "code",
   "execution_count": null,
   "metadata": {},
   "outputs": [],
   "source": [
    "spojite_vsetky = dog_info[dog_info['COLUMN VALUES'].str.contains('continuous', na=False)]\n",
    "spojite = list(spojite_vsetky.query('SECTION != \"Demographic information\"')['COLUMN NAME'])\n",
    "spojite_set = set(spojite)\n",
    "\n",
    "dogs_male = dogs.query(\"sex=='male'\")\n",
    "dogs_female = dogs.query(\"sex=='female'\")\n",
    "\n",
    "dogs_demographic = dogs.transpose().iloc[0:11].transpose()\n",
    "dogs_environment = dogs.transpose().iloc[11:42].transpose()\n",
    "dogs_personality = dogs.transpose().iloc[42:112].transpose()\n",
    "dogs_noise_sensitivity = dogs.transpose().iloc[112:154].transpose()\n",
    "dogs_fearfullness = dogs.transpose().iloc[154:189].transpose()\n",
    "dogs_aggression = dogs.transpose().iloc[189:214].transpose()\n",
    "dogs_fear_surfaces = dogs.transpose().iloc[214:222].transpose()\n",
    "dogs_separation_anxiety = dogs.transpose().iloc[222:232].transpose()\n",
    "dogs_inattention = dogs.transpose().iloc[232:250].transpose()\n",
    "\n",
    "\n",
    "demographic = list(dogs_demographic.columns)\n",
    "environment = list(dogs_environment.columns)\n",
    "personality = list(dogs_personality.columns)\n",
    "noise_sensitivity = list(dogs_noise_sensitivity.columns)\n",
    "fearfullness = list(dogs_fearfullness.columns)\n",
    "aggression = list(dogs_aggression.columns)\n",
    "fear_surfaces = list(dogs_fear_surfaces.columns)\n",
    "separation_anxiety = list(dogs_separation_anxiety.columns)\n",
    "inattention = list(dogs_inattention.columns)\n",
    "\n",
    "demographic_continuous = list(spojite_set & set(demographic))\n",
    "environment_continuous = list(spojite_set & set(environment))\n",
    "personality_continuous = list(spojite_set & set(personality))\n",
    "noise_sensitivity_continuous = list(spojite_set & set(noise_sensitivity))\n",
    "fearfullness_continuous = list(spojite_set & set(fearfullness))\n",
    "aggression_continuous = list(spojite_set & set(aggression))\n",
    "fear_surfaces_continuous = list(spojite_set & set(fear_surfaces))\n",
    "separation_anxiety_continuous = list(spojite_set & set(separation_anxiety))\n",
    "inattention_continuous = list(spojite_set & set(inattention))\n",
    "\n",
    "demographic_discrete = list(set(demographic) - spojite_set)\n",
    "environment_discrete = list(set(environment) - spojite_set)\n",
    "personality_discrete = list(set(personality) - spojite_set)\n",
    "noise_sensitivity_discrete = list(set(noise_sensitivity) - spojite_set)\n",
    "fearfullness_discrete = list(set(fearfullness) - spojite_set)\n",
    "aggression_discrete = list(set(aggression) - spojite_set)\n",
    "fear_surfaces_discrete = list(set(fear_surfaces) - spojite_set)\n",
    "separation_anxiety_discrete = list(set(separation_anxiety) - spojite_set)\n",
    "inattention_discrete = list(set(inattention) - spojite_set)\n"
   ]
  },
  {
   "cell_type": "markdown",
   "metadata": {},
   "source": [
    "# Explorativna analyza"
   ]
  },
  {
   "cell_type": "code",
   "execution_count": null,
   "metadata": {},
   "outputs": [],
   "source": [
    "breeds = list(dogs['breed_group'].unique())\n",
    "breed_count = len(breeds)\n",
    "male_count = len(dogs.query(\"sex=='male'\"))\n",
    "female_count = len(dogs.query(\"sex=='female'\"))\n",
    "\n",
    "# print('plemena:', breeds)\n",
    "print('mnozstvo samcov:', male_count)\n",
    "print('mnozstvo samic:', female_count)\n",
    "print('nozstvo plemien:', breed_count)\n",
    "\n",
    "\n",
    "figure, axes = plt.subplots(1, 1, figsize=(13, 10))\n",
    "sns.violinplot(data=dogs[spojite], orient='h', ax=axes)\n",
    "\n",
    "figure, axes1 = plt.subplots(1, 1, figsize=(13, 10))\n",
    "sns.violinplot(data=dogs[aggression], orient='h', ax=axes1)\n"
   ]
  },
  {
   "cell_type": "markdown",
   "metadata": {},
   "source": [
    "## Agresivita\n",
    "#### samce vs samice"
   ]
  },
  {
   "cell_type": "code",
   "execution_count": null,
   "metadata": {},
   "outputs": [],
   "source": [
    "\n",
    "figure, axes = plt.subplots(1, 2, figsize=(10, 5), sharey=True)\n",
    "agresivita_gender = dogs.groupby('sex')[['Aggressive_dogs_samegender', 'Aggressive_dogs_oppositegender', 'Aggressive_people']].mean().reset_index().melt(id_vars='sex')\n",
    "agresivita_gender_median = dogs.groupby('sex')[['Aggressive_dogs_samegender', 'Aggressive_dogs_oppositegender', 'Aggressive_people']].median().reset_index().melt(id_vars='sex')\n",
    "# display(agresivita_gender)\n",
    "sns.barplot(agresivita_gender, y='variable', x='value', hue='sex', palette={'male':'blue', 'female':'violet'}, ax=axes[0], orient='h')\n",
    "\n",
    "figure, axes = plt.subplots(1, 1)\n",
    "plt.xticks(ha='right') \n",
    "agresivita_gender = dogs.groupby('sex')[['aggressiveness_dominance_score', 'stranger_aggression_score', 'owner_aggression_score', 'dog_aggression_score', 'barking_score']].mean().reset_index().melt(id_vars='sex')\n",
    "# display(agresivita_gender)\n",
    "sns.barplot(agresivita_gender, x='variable', y='value', hue='sex', palette={'male':'blue', 'female':'violet'})\n",
    "axes.tick_params(axis='x', rotation=25)\n",
    "\n",
    "\n"
   ]
  },
  {
   "cell_type": "code",
   "execution_count": null,
   "metadata": {},
   "outputs": [],
   "source": [
    "\n",
    "figure, axes = plt.subplots(1, 2, figsize=(10, 5), sharey=True)\n",
    "agresivita_gender = dogs.groupby('sex')[['Aggressive_dogs_samegender', 'Aggressive_dogs_oppositegender', 'Aggressive_people']].median().reset_index().melt(id_vars='sex')\n",
    "# display(agresivita_gender)\n",
    "sns.barplot(agresivita_gender, y='variable', x='value', hue='sex', palette={'male':'blue', 'female':'violet'}, ax=axes[0], orient='h')\n",
    "# sns.violinplot(data=dogs[['Aggressive_dogs_samegender', 'Aggressive_dogs_oppositegender', 'Aggressive_people']], ax=axes[1], orient='h')\n",
    "\n",
    "\n",
    "figure, axes = plt.subplots(1, 1)\n",
    "agresivita_gender = dogs.groupby('sex')[['aggressiveness_dominance_score', 'stranger_aggression_score', 'owner_aggression_score', 'dog_aggression_score', 'barking_score']].mean().reset_index().melt(id_vars='sex')\n",
    "# display(agresivita_gender)\n",
    "sns.barplot(agresivita_gender, x='variable', y='value', hue='sex', palette={'male':'blue', 'female':'violet'})\n",
    "axes.tick_params(axis='x', rotation=25)\n",
    "\n",
    "\n"
   ]
  },
  {
   "cell_type": "markdown",
   "metadata": {},
   "source": [
    "# Kastracia\n",
    "zistovanie najrozdielnejsich vlastnosti v ramci kastracie"
   ]
  },
  {
   "cell_type": "code",
   "execution_count": null,
   "metadata": {},
   "outputs": [],
   "source": [
    "pocet = 10\n",
    "pripocet = 1\n",
    "\n",
    "kastracia_male = dogs.query('sex==\"male\"').groupby(\"sterilization_status\").mean(numeric_only=True).transpose().iloc[8:]\n",
    "kastracia_male.columns.name = None\n",
    "kastracia_male[\"personality_trait\"] = kastracia_male.index\n",
    "\n",
    "kastracia_rozdiely_male = kastracia_male.copy(deep=True)\n",
    "kastracia_rozdiely_male[\"diff\"] = abs(kastracia_rozdiely_male[\"intact\"] - kastracia_rozdiely_male[\"sterilized\"])\n",
    "kastracia_rozdiely_male[\"relative_diff\"] = abs((kastracia_rozdiely_male[\"intact\"] - kastracia_rozdiely_male[\"sterilized\"])/(abs(kastracia_rozdiely_male[\"intact\"])+abs(kastracia_rozdiely_male[\"sterilized\"])+pripocet))\n",
    "# kastracia_rozdiely_male[\"relative_diff\"] = abs((kastracia_rozdiely_male[\"intact\"] - kastracia_rozdiely_male[\"sterilized\"])/(kastracia_rozdiely_male[\"intact\"]))\n",
    "# toto bol povodny vypocet relativnej zmeny, ale zmenil som o trochu na ten nadnim\n",
    "\n",
    "index_male_diff = list(kastracia_rozdiely_male.sort_values('diff', ascending=False).head(pocet).index)\n",
    "index_male_rel_diff = list(kastracia_rozdiely_male.sort_values('relative_diff', ascending=False).head(pocet).index)\n",
    "\n",
    "###############################################################################################################################\n",
    "\n",
    "kastracia_female = dogs.query('sex==\"female\"').groupby(\"sterilization_status\").mean(numeric_only=True).transpose().iloc[8:]\n",
    "kastracia_female.columns.name = None\n",
    "kastracia_female[\"personality_trait\"] = kastracia_female.index\n",
    "\n",
    "kastracia_rozdiely_female = kastracia_female.copy(deep=True)\n",
    "kastracia_rozdiely_female[\"diff\"] = abs(kastracia_rozdiely_female[\"intact\"] - kastracia_rozdiely_female[\"sterilized\"])\n",
    "kastracia_rozdiely_female[\"relative_diff\"] = abs((kastracia_rozdiely_female[\"intact\"] - kastracia_rozdiely_female[\"sterilized\"])/(abs(kastracia_rozdiely_female[\"intact\"])+abs(kastracia_rozdiely_female[\"sterilized\"])+pripocet))\n",
    "# kastracia_rozdiely_female[\"relative_diff\"] = abs((kastracia_rozdiely_female[\"intact\"] - kastracia_rozdiely_female[\"sterilized\"])/kastracia_rozdiely_female[\"intact\"])\n",
    "# zmenil som vypocet na odkomentovany\n",
    "\n",
    "index_female_diff = list(kastracia_rozdiely_female.sort_values('diff', ascending=False).head(pocet).index)\n",
    "index_female_rel_diff = list(kastracia_rozdiely_female.sort_values('relative_diff', ascending=False).head(pocet).index)\n"
   ]
  },
  {
   "cell_type": "markdown",
   "metadata": {},
   "source": [
    "## Kastracia pokracovanie - Grafy\n",
    "vygrafovanie zistenych vlastnosti"
   ]
  },
  {
   "cell_type": "code",
   "execution_count": null,
   "metadata": {},
   "outputs": [],
   "source": [
    "dogs_melted_male_diff = kastracia_male.loc[index_male_diff, :].melt(id_vars=[\"personality_trait\"], var_name='sterilization_status').set_index(\"personality_trait\")\n",
    "dogs_melted_female_diff = kastracia_female.loc[index_female_diff, :].melt(id_vars=[\"personality_trait\"], var_name='sterilization_status').set_index(\"personality_trait\")\n",
    "\n",
    "figure, axes = plt.subplots(1, 2, figsize=(21, 7), sharey=True)\n",
    "sns.barplot(data=dogs_melted_male_diff, x=dogs_melted_male_diff.index, y=\"value\", hue=\"sterilization_status\", ax=axes[0])\n",
    "axes[0].tick_params(axis='x', rotation=30)\n",
    "axes[0].set_title(\"male\")\n",
    "sns.barplot(data=dogs_melted_female_diff, x=dogs_melted_female_diff.index, y=\"value\", hue=\"sterilization_status\", ax=axes[1])\n",
    "axes[1].tick_params(axis='x', rotation=30)\n",
    "axes[1].set_title(\"female\")\n",
    "\n",
    "###########################################\n",
    "\n",
    "dogs_melted_male_rel_diff = kastracia_male.loc[index_male_rel_diff, :].melt(id_vars=[\"personality_trait\"], var_name='sterilization_status').set_index(\"personality_trait\")\n",
    "dogs_melted_female_rel_diff = kastracia_female.loc[index_female_rel_diff, :].melt(id_vars=[\"personality_trait\"], var_name='sterilization_status').set_index(\"personality_trait\")\n",
    "\n",
    "figure, axes = plt.subplots(1, 2, figsize=(21, 7), sharey=True)\n",
    "sns.barplot(data=dogs_melted_male_rel_diff, x=dogs_melted_male_rel_diff.index, y=\"value\", hue=\"sterilization_status\", ax=axes[0])\n",
    "axes[0].tick_params(axis='x', rotation=30)\n",
    "axes[0].set_title(\"male\")\n",
    "sns.barplot(data=dogs_melted_female_rel_diff, x=dogs_melted_female_rel_diff.index, y=\"value\", hue=\"sterilization_status\", ax=axes[1])\n",
    "axes[1].tick_params(axis='x', rotation=30)\n",
    "axes[1].set_title(\"female\")"
   ]
  },
  {
   "cell_type": "markdown",
   "metadata": {},
   "source": [
    "## Kastracia dalsia\n",
    "planujem urobit ze zoberiem spojite premenne z jednotlivych casti dotaznika\n",
    "a porovnam s ktorou suvisi kastrovanie najviac (nemam nicim podlozene, ale pride mi ze pri jednotlivych otazkach to moze byt aj trochu nahodne)"
   ]
  },
  {
   "cell_type": "code",
   "execution_count": null,
   "metadata": {},
   "outputs": [],
   "source": [
    "dogs_melted_spojite_male = kastracia_male.loc[spojite, :].melt(id_vars=[\"personality_trait\"], var_name='sterilization_status').set_index(\"personality_trait\")\n",
    "dogs_melted_spojite_female = kastracia_female.loc[spojite, :].melt(id_vars=[\"personality_trait\"], var_name='sterilization_status').set_index(\"personality_trait\")\n",
    "\n",
    "\n",
    "figure, axes = plt.subplots(2, 1, figsize=(14, 15))\n",
    "sns.barplot(data=dogs_melted_spojite_male, x=dogs_melted_spojite_male.index, y=\"value\", hue=\"sterilization_status\", ax=axes[0])\n",
    "axes[0].tick_params(axis='x', rotation=30)\n",
    "axes[0].set_title(\"male\")\n",
    "sns.barplot(data=dogs_melted_spojite_female, x=dogs_melted_spojite_female.index, y=\"value\", hue=\"sterilization_status\", ax=axes[1])\n",
    "axes[1].tick_params(axis='x', rotation=30)\n",
    "axes[1].set_title(\"female\")"
   ]
  },
  {
   "cell_type": "markdown",
   "metadata": {},
   "source": [
    "## Kastracia a agresivita\n",
    "porovnam podobnym bargrafom agresivitu"
   ]
  },
  {
   "cell_type": "code",
   "execution_count": null,
   "metadata": {},
   "outputs": [],
   "source": [
    "dogs_melted_aggression_male = kastracia_male.loc[aggression_discrete, :].melt(id_vars=[\"personality_trait\"], var_name='sterilization_status').set_index(\"personality_trait\")\n",
    "dogs_melted_aggression_female = kastracia_female.loc[aggression_discrete, :].melt(id_vars=[\"personality_trait\"], var_name='sterilization_status').set_index(\"personality_trait\")\n",
    "\n",
    "figure, axes = plt.subplots(1, 2, figsize=(9, 8), sharey=True)\n",
    "sns.barplot(data=dogs_melted_aggression_male, y=dogs_melted_aggression_male.index, x=\"value\", hue=\"sterilization_status\", ax=axes[0], orient='h')\n",
    "# axes[0].tick_params(axis='x', rotation=30)\n",
    "axes[0].set_title(\"male\")\n",
    "sns.barplot(data=dogs_melted_aggression_female, y=dogs_melted_aggression_female.index, x=\"value\", hue=\"sterilization_status\", ax=axes[1], orient='h')\n",
    "# axes[1].tick_params(axis='x', rotation=30)\n",
    "axes[1].set_title(\"female\")\n"
   ]
  },
  {
   "cell_type": "markdown",
   "metadata": {},
   "source": [
    "## Kastracia dalsia\n"
   ]
  },
  {
   "cell_type": "code",
   "execution_count": null,
   "metadata": {},
   "outputs": [],
   "source": [
    "dogs_melted_personality_male = kastracia_male.loc[personality_continuous, :].melt(id_vars=[\"personality_trait\"], var_name='sterilization_status').set_index(\"personality_trait\")\n",
    "dogs_melted_personality_female = kastracia_female.loc[personality_continuous, :].melt(id_vars=[\"personality_trait\"], var_name='sterilization_status').set_index(\"personality_trait\")\n",
    "\n",
    "figure, axes = plt.subplots(1, 2, figsize=(9, 4), sharey=True)\n",
    "sns.barplot(data=dogs_melted_personality_male, y=dogs_melted_personality_male.index, x=\"value\", hue=\"sterilization_status\", ax=axes[0], orient='h')\n",
    "# axes[0].tick_params(axis='x', rotation=30)\n",
    "axes[0].set_title(\"male\")\n",
    "sns.barplot(data=dogs_melted_personality_female, y=dogs_melted_personality_female.index, x=\"value\", hue=\"sterilization_status\", ax=axes[1], orient='h')\n",
    "# axes[1].tick_params(axis='x', rotation=30)\n",
    "axes[1].set_title(\"female\")\n",
    "\n",
    "figure, axes1 = plt.subplots(1, 2, figsize=(9, 4), sharey=True)\n",
    "\n",
    "sns.violinplot(dogs.query('sex==\"male\"')[personality_continuous], ax=axes1[0], orient='h')\n",
    "sns.violinplot(dogs.query('sex==\"female\"')[personality_continuous], ax=axes1[1], orient='h')\n"
   ]
  },
  {
   "cell_type": "markdown",
   "metadata": {},
   "source": [
    "### Tuto je agresivita psov\n",
    "##### ku psom, majitelom a cudzncom\n",
    "podla veku "
   ]
  },
  {
   "cell_type": "code",
   "execution_count": null,
   "metadata": {},
   "outputs": [],
   "source": [
    "psy1 = dogs.copy(deep=True)\n",
    "psy1[\"Aggression_age\"] = psy1[\"Aggression_age\"].round(1)\n",
    "psy1 = psy1.groupby(\"Aggression_age\")[aggression_continuous].mean()\n",
    "\n",
    "ax = sns.histplot(data=dogs, x=\"Aggression_age\")\n",
    "\n",
    "\n",
    "figure, axes = plt.subplots(1, 3, figsize=(16, 5), sharey=True)\n",
    "sns.scatterplot(x=psy1.index, y=psy1[\"stranger_aggression_score\"], ax=axes[0])\n",
    "axes[0].set_title(\"Stranger Aggression Age\")\n",
    "axes[0].set_xlabel(\"Age\")\n",
    "axes[0].set_ylabel(\"Aggression Score\")\n",
    "\n",
    "# Scatterplot 2\n",
    "sns.scatterplot(x=psy1.index, y=psy1[\"owner_aggression_score\"], ax=axes[1])\n",
    "axes[1].set_title(\"Owner Aggression and Age\")\n",
    "axes[1].set_xlabel(\"Age\")\n",
    "\n",
    "# Scatterplot 3\n",
    "sns.scatterplot(x=psy1.index, y=psy1[\"dog_aggression_score\"], ax=axes[2])\n",
    "axes[2].set_title(\"Dog Aggression and Age\")\n",
    "axes[2].set_xlabel(\"Age\")\n",
    "\n",
    "plt.tight_layout()\n",
    "plt.show()\n"
   ]
  },
  {
   "cell_type": "markdown",
   "metadata": {},
   "source": [
    "### Teraz spravim podobne impulzivitu a nepozornost\n",
    "nasiel som jemnu zavislost, impulzivita stupa a vrcholi okolo 1 roka, potom pomaly klesa, nepozornost je na tom velmi podobne\n",
    "\n"
   ]
  },
  {
   "cell_type": "code",
   "execution_count": null,
   "metadata": {},
   "outputs": [],
   "source": [
    "psy2 = dogs.copy(deep=True)\n",
    "psy2[\"Impulsivity_age\"] = psy2[\"Impulsivity_age\"].round(1)\n",
    "psy2 = psy2.groupby(\"Impulsivity_age\")[inattention_continuous].mean()\n",
    "\n",
    "\n",
    "ax = sns.histplot(data=dogs, x=\"Impulsivity_age\")\n",
    "\n",
    "figure, axes = plt.subplots(1, 2, figsize=(16, 5), sharey=True)\n",
    "sns.scatterplot(x=psy2.index, y=psy2[\"inattention_score\"], ax=axes[0])\n",
    "axes[0].set_title(\"Inattention vs Age\")\n",
    "axes[0].set_xlabel(\"Age\")\n",
    "axes[0].set_ylabel(\"Inattention score\")\n",
    "\n",
    "# Scatterplot 2\n",
    "sns.scatterplot(x=psy2.index, y=psy2[\"impulsivity_score\"], ax=axes[1])\n",
    "axes[1].set_title(\"Impulsivity vs Age\")\n",
    "axes[1].set_xlabel(\"Age\")\n",
    "axes[1].set_ylabel(\"Impulsivity Score\")\n",
    "\n",
    "plt.tight_layout()\n",
    "plt.show()"
   ]
  },
  {
   "cell_type": "markdown",
   "metadata": {},
   "source": [
    "### Teraz spravim podobne strach\n",
    "pri strachu ale nevidim ziadnu suvislost\n",
    "\n",
    "\n"
   ]
  },
  {
   "cell_type": "code",
   "execution_count": null,
   "metadata": {},
   "outputs": [],
   "source": [
    "psy3 = dogs.copy(deep=True)\n",
    "psy3[\"Fearfulness_age\"] = psy3[\"Fearfulness_age\"].round(1)\n",
    "f = psy3.groupby(\"Fearfulness_age\")[\"fearfulness_score\"].mean()\n",
    "f = pd.DataFrame(f)\n",
    "ax = sns.histplot(data=psy3, x=\"Fearfulness_age\")\n",
    "\n",
    "figure, axes = plt.subplots(1, 1, figsize=(6, 4), sharey=True)\n",
    "sns.scatterplot(x=f.index, y=f[\"fearfulness_score\"], ax=axes)\n",
    "\n",
    "plt.tight_layout()\n",
    "plt.show()\n",
    "\n"
   ]
  },
  {
   "cell_type": "markdown",
   "metadata": {},
   "source": [
    "### Priemerne hmotnosti jednotlivych plemien barplot\n"
   ]
  },
  {
   "cell_type": "code",
   "execution_count": null,
   "metadata": {},
   "outputs": [],
   "source": [
    "\n",
    "psy_hmostnost_max = pd.DataFrame(dogs.groupby('breed_group')['weight_kg'].mean().sort_values()).head()\n",
    "psy_hmostnost_min = pd.DataFrame(dogs.groupby('breed_group')['weight_kg'].mean().sort_values()).tail()\n",
    "\n",
    "figure, axes = plt.subplots(1, 2, figsize=(8, 3), sharey=True)\n",
    "sns.barplot(data=psy_hmostnost_max, x=psy_hmostnost_max.index, y='weight_kg', ax=axes[0])\n",
    "axes[0].tick_params(axis='x', rotation=45)\n",
    "sns.barplot(data=psy_hmostnost_min, x=psy_hmostnost_min.index, y='weight_kg', ax=axes[1])\n",
    "axes[1].tick_params(axis='x', rotation=45)\n",
    "\n",
    "\n",
    "pocty_psov = pd.DataFrame(dogs.groupby(\"breed_group\").count().sort_values(by=\"sex\"))\n",
    "# figure, axes1 = plt.subplots(1, 1)\n",
    "# display(pocty_psov)\n",
    "# sns.histplot(data=pocty_psov, ax=axes1)"
   ]
  },
  {
   "cell_type": "markdown",
   "metadata": {},
   "source": [
    "### Teraz Spravim Agresivitu vs Strach"
   ]
  },
  {
   "cell_type": "code",
   "execution_count": null,
   "metadata": {},
   "outputs": [],
   "source": [
    "\n",
    "psy4 = dogs.copy(deep=True)\n",
    "psy4[\"fearfulness_score\"] = psy4[\"fearfulness_score\"].round(1)\n",
    "\n",
    "psy4 = psy4.groupby(\"fearfulness_score\")[aggression_continuous].mean()\n",
    "\n",
    "figure, ax = plt.subplots(1, 1, figsize=(6, 4), sharey=True)\n",
    "ax = sns.histplot(data=dogs, x=\"fearfulness_score\")\n",
    "\n",
    "figure, axes = plt.subplots(2, 2, figsize=(13, 9), sharey=True)\n",
    "sns.scatterplot(x=psy4.index, y=psy4[\"stranger_aggression_score\"], ax=axes[0][0])\n",
    "axes[0][0].set_title(\"Stranger Agression Fearfulness\")\n",
    "\n",
    "sns.scatterplot(x=psy4.index, y=psy4[\"owner_aggression_score\"], ax=axes[0][1])\n",
    "axes[0][1].set_title(\"Owner Agression Fearfulness\")\n",
    "\n",
    "sns.scatterplot(x=psy4.index, y=psy4[\"dog_aggression_score\"], ax=axes[1][0])\n",
    "axes[1][0].set_title(\"Dog Agression Fearfulness\")\n",
    "\n",
    "sns.scatterplot(x=psy4.index, y=psy4[\"barking_score\"], ax=axes[1][1])\n",
    "axes[1][1].set_title(\"Barking Fearfulness\")\n",
    "\n"
   ]
  },
  {
   "cell_type": "markdown",
   "metadata": {},
   "source": [
    "### Citlivost na Hluk vs Agresivita"
   ]
  },
  {
   "cell_type": "code",
   "execution_count": null,
   "metadata": {},
   "outputs": [],
   "source": [
    "psy5 = dogs.copy(deep=True)\n",
    "psy5[\"noise_sensitivity_score\"] = psy5[\"noise_sensitivity_score\"].round(1)\n",
    "\n",
    "psy5 = psy5.groupby(\"noise_sensitivity_score\")[aggression_continuous].mean()\n",
    "psy5 = pd.DataFrame(psy5)\n",
    "\n",
    "figure, ax = plt.subplots(1, 1, figsize=(6, 4), sharey=True)\n",
    "ax = sns.histplot(data=dogs, x=\"noise_sensitivity_score\")\n",
    "\n",
    "figure, axes = plt.subplots(2, 2, figsize=(13, 9), sharey=True)\n",
    "sns.scatterplot(x=psy5.index, y=psy5[\"stranger_aggression_score\"], ax=axes[0][0])\n",
    "axes[0][0].set_title(\"Stranger Agression vs noise sensitivity\")\n",
    "\n",
    "sns.scatterplot(x=psy5.index, y=psy5[\"owner_aggression_score\"], ax=axes[0][1])\n",
    "axes[0][1].set_title(\"Owner Agression vs noise sensitivity\")\n",
    "\n",
    "sns.scatterplot(x=psy5.index, y=psy5[\"dog_aggression_score\"], ax=axes[1][0])\n",
    "axes[1][0].set_title(\"Dog Agression vs noise sensitivity\")\n",
    "\n",
    "sns.scatterplot(x=psy5.index, y=psy5[\"barking_score\"], ax=axes[1][1])\n",
    "axes[1][1].set_title(\"Barking vs noise sensitivity\")"
   ]
  },
  {
   "cell_type": "markdown",
   "metadata": {},
   "source": [
    "### Teraz strach vs citlivost na hluk"
   ]
  },
  {
   "cell_type": "code",
   "execution_count": null,
   "metadata": {},
   "outputs": [],
   "source": [
    "psy6 = dogs.copy(deep=True)\n",
    "psy6[\"noise_sensitivity_score\"] = psy6[\"noise_sensitivity_score\"].round(1)\n",
    "\n",
    "psy6 = psy6.groupby(\"noise_sensitivity_score\")[[\"fearfulness_score\"]].mean()\n",
    "\n",
    "figure, ax = plt.subplots(1, 1, figsize=(6, 4), sharey=True)\n",
    "ax = sns.histplot(data=dogs, x=\"noise_sensitivity_score\")\n",
    "\n",
    "figure, axes = plt.subplots(1, 1, figsize=(6, 4), sharey=True)\n",
    "sns.scatterplot(x=psy6.index, y=psy6[\"fearfulness_score\"], ax=axes)\n",
    "axes.set_title(\"Fearfulness vs noise sensitivity\")\n",
    "\n",
    "\n",
    "### Este dokoncit tretiu agresivitu"
   ]
  },
  {
   "cell_type": "markdown",
   "metadata": {},
   "source": [
    "## Fearfullnes vs noise sensitivity\n",
    "#### samci vs samice"
   ]
  },
  {
   "cell_type": "code",
   "execution_count": null,
   "metadata": {},
   "outputs": [],
   "source": [
    "sns.barplot()"
   ]
  },
  {
   "cell_type": "markdown",
   "metadata": {},
   "source": [
    "# Environment"
   ]
  },
  {
   "cell_type": "code",
   "execution_count": null,
   "metadata": {},
   "outputs": [],
   "source": [
    "# ['ownership_reason', 'obtained_from', 'age_enter_household', 'weaning_age', 'Socialization_men', \n",
    "#  'Socialization_women', 'Socialization_children', 'Socialization_dogs', 'Socialization_city', \n",
    "#  'Socialization_car', 'Socialization_public.transportation', 'socialization', 'socialization_quantile', \n",
    "#  'living_place', 'living_building', 'outdoor_access', 'other_dogs_when_obtained', 'currently_other_dogs', \n",
    "#  'daily_exercise', 'leashed_unleashed', 'trains_agility', 'trains_obedience_rally', 'trains_nose_work', \n",
    "#  'trains_rescue_utility', 'hobby_frequency_home', 'hobby_frequency_out', 'alone_time', 'life_experience', \n",
    "#  'dog_experience', 'dog_breeder', 'animal-related_work']\n",
    "\n",
    "# ['Willing_to_learn', 'Playful_dogs', 'Predictable', 'Obedient', 'Boisterous', 'Sensitive_touch', \n",
    "#  'Vocal', 'Anxious', 'Independent', 'Lazy', 'Intelligent', 'Reliable', 'Prey_driven_chase', \n",
    "#  'Human_dependent', 'Wary', 'Erratic', 'Stubborn', 'Fearful_people', 'Playful_people', 'Playful_alone', \n",
    "#  'Curious', 'Fearful_dogs', 'Impulsive', 'Affectionate_people', 'Decisive', 'Persevering', 'Distractible', \n",
    "#  'Submissive', 'Cautious', 'Restless', 'Confident', 'Easygoing', 'Dominant', 'Patient', 'Sociable_dogs_samegender', \n",
    "#  'Slow', 'Sociable_dogs_oppositegender', 'Calm', 'Provocative', 'Excitable', 'Human_oriented', 'Focused', 'Prey_driven_search', \n",
    "#  'Empathic', 'Aggressive_dogs_samegender', 'Greedy', 'Attention_seeking', 'Indifferent', 'Aggressive_people', \n",
    "#  'Affectionate_dogs', 'Vigilant', 'Calming', 'Solitary', 'Aggressive_dogs_oppositegender', 'Territorial', 'Flexible', \n",
    "#  'Easily_recovered', 'Bold', 'Active', 'Energetic', 'Insecure', 'Attentive', 'Sociable_people', 'insecurity_score', \n",
    "#  'training_focus_score', 'activity_playfulness_score', 'aggressiveness_dominance_score', \n",
    "#  'human_sociability_score', 'dog_sociability_score', 'perseverance_score']\n",
    "\n",
    "order=['under_7_weeks', '7_weeks', '8_weeks', '9_weeks', 'over_9_weeks', 'still_with_dam',\n",
    "       'unknown']\n",
    "\n",
    "order=['under_1_hour', '1-2_hours', '2-3_hours', 'over_3_hours']\n",
    "\n",
    "psy7 = dogs.copy(deep=True)\n",
    "psy7 = psy7.groupby(\"daily_exercise\").agg('mean', numeric_only=True)[personality]\n",
    "psy7 = psy7.loc[order, :]\n",
    "# display(psy7)\n",
    "\n",
    "figure, ax = plt.subplots(1, 1, figsize=(6, 4), sharey=True)\n",
    "sns.countplot(data=dogs, x=\"daily_exercise\", ax=ax)\n",
    "ax.tick_params(axis='x', rotation=25)\n",
    "\n",
    "o=6\n",
    "figure, axes = plt.subplots(len(personality)//7, 1, figsize=(5, 33))\n",
    "for i in range(len(o*personality)//7, (o+1)*len(personality)//7):\n",
    "       sns.barplot(y=psy7.index, x=psy7[personality[(i)]], ax=axes[i%10])\n",
    "\n",
    "\n",
    "# daily exercise: \n",
    "# curious, fearful_dogs, decisive, perservering, cautious, playful, obedient, anxious, lazy, \n",
    "# intelligent, playful_alone, dominant, sociable_dogs_samegender, human_oriented, focused, Affectionate_people, Energetic, \n",
    "# +vsetky spojite vyzeraju zaujimavo\n",
    "# \n",
    "# \n",
    "# \n",
    "# \n",
    "# \n",
    "# \n",
    "# \n",
    "\n",
    "\n"
   ]
  }
 ],
 "metadata": {
  "language_info": {
   "name": "python"
  }
 },
 "nbformat": 4,
 "nbformat_minor": 2
}
