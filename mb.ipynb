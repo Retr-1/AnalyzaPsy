{
 "cells": [
  {
   "cell_type": "code",
   "execution_count": 2,
   "id": "608fec34",
   "metadata": {},
   "outputs": [],
   "source": [
    "import pandas as pd\n",
    "import seaborn as sns\n",
    "import matplotlib.pyplot as plt\n",
    "import plotly.express as px\n",
    "import plotly.graph_objects as go\n",
    "\n"
   ]
  },
  {
   "cell_type": "code",
   "execution_count": 3,
   "id": "f7ab677b",
   "metadata": {},
   "outputs": [
    {
     "data": {
      "text/html": [
       "<div>\n",
       "<style scoped>\n",
       "    .dataframe tbody tr th:only-of-type {\n",
       "        vertical-align: middle;\n",
       "    }\n",
       "\n",
       "    .dataframe tbody tr th {\n",
       "        vertical-align: top;\n",
       "    }\n",
       "\n",
       "    .dataframe thead th {\n",
       "        text-align: right;\n",
       "    }\n",
       "</style>\n",
       "<table border=\"1\" class=\"dataframe\">\n",
       "  <thead>\n",
       "    <tr style=\"text-align: right;\">\n",
       "      <th></th>\n",
       "      <th>dog.id</th>\n",
       "      <th>breed_group</th>\n",
       "      <th>sex</th>\n",
       "      <th>sterilization_status</th>\n",
       "      <th>Noise.sensitivity_age</th>\n",
       "      <th>Fearfulness_age</th>\n",
       "      <th>Aggression_age</th>\n",
       "      <th>Surface_age</th>\n",
       "      <th>Separation_age</th>\n",
       "      <th>Impulsivity_age</th>\n",
       "      <th>...</th>\n",
       "      <th>Vas_8_excessive</th>\n",
       "      <th>Vas_9_alwaysplay</th>\n",
       "      <th>Vas_10_complicatedtasks</th>\n",
       "      <th>Vas_11_reacthastily</th>\n",
       "      <th>Vas_12_easilydistracted</th>\n",
       "      <th>Vas_13_cannotwait</th>\n",
       "      <th>impulsive</th>\n",
       "      <th>impulsiveness_disturbes</th>\n",
       "      <th>inattention_score</th>\n",
       "      <th>impulsivity_score</th>\n",
       "    </tr>\n",
       "  </thead>\n",
       "  <tbody>\n",
       "    <tr>\n",
       "      <th>0</th>\n",
       "      <td>1</td>\n",
       "      <td>Jack_Russell_Terrier</td>\n",
       "      <td>female</td>\n",
       "      <td>sterilized</td>\n",
       "      <td>14.241650</td>\n",
       "      <td>14.181420</td>\n",
       "      <td>14.236174</td>\n",
       "      <td>14.233437</td>\n",
       "      <td>14.181420</td>\n",
       "      <td>14.236174</td>\n",
       "      <td>...</td>\n",
       "      <td>2.0</td>\n",
       "      <td>3.0</td>\n",
       "      <td>2.0</td>\n",
       "      <td>2.0</td>\n",
       "      <td>3.0</td>\n",
       "      <td>2.0</td>\n",
       "      <td>0.0</td>\n",
       "      <td>3.0</td>\n",
       "      <td>0.993593</td>\n",
       "      <td>0.097521</td>\n",
       "    </tr>\n",
       "    <tr>\n",
       "      <th>1</th>\n",
       "      <td>2</td>\n",
       "      <td>Jack_Russell_Terrier</td>\n",
       "      <td>female</td>\n",
       "      <td>intact</td>\n",
       "      <td>8.693866</td>\n",
       "      <td>8.359294</td>\n",
       "      <td>8.693866</td>\n",
       "      <td>8.353818</td>\n",
       "      <td>NaN</td>\n",
       "      <td>8.422270</td>\n",
       "      <td>...</td>\n",
       "      <td>2.0</td>\n",
       "      <td>3.0</td>\n",
       "      <td>1.0</td>\n",
       "      <td>1.0</td>\n",
       "      <td>2.0</td>\n",
       "      <td>2.0</td>\n",
       "      <td>NaN</td>\n",
       "      <td>2.0</td>\n",
       "      <td>-0.633266</td>\n",
       "      <td>0.904661</td>\n",
       "    </tr>\n",
       "    <tr>\n",
       "      <th>2</th>\n",
       "      <td>3</td>\n",
       "      <td>Pinschers_Schnauzers</td>\n",
       "      <td>male</td>\n",
       "      <td>intact</td>\n",
       "      <td>1.992701</td>\n",
       "      <td>1.992701</td>\n",
       "      <td>1.992701</td>\n",
       "      <td>1.992701</td>\n",
       "      <td>1.992701</td>\n",
       "      <td>1.992701</td>\n",
       "      <td>...</td>\n",
       "      <td>NaN</td>\n",
       "      <td>NaN</td>\n",
       "      <td>NaN</td>\n",
       "      <td>NaN</td>\n",
       "      <td>NaN</td>\n",
       "      <td>NaN</td>\n",
       "      <td>1.0</td>\n",
       "      <td>4.0</td>\n",
       "      <td>NaN</td>\n",
       "      <td>NaN</td>\n",
       "    </tr>\n",
       "    <tr>\n",
       "      <th>3</th>\n",
       "      <td>4</td>\n",
       "      <td>Pinschers_Schnauzers</td>\n",
       "      <td>male</td>\n",
       "      <td>sterilized</td>\n",
       "      <td>5.405751</td>\n",
       "      <td>5.405751</td>\n",
       "      <td>5.405751</td>\n",
       "      <td>5.405751</td>\n",
       "      <td>5.405751</td>\n",
       "      <td>5.405751</td>\n",
       "      <td>...</td>\n",
       "      <td>1.0</td>\n",
       "      <td>2.0</td>\n",
       "      <td>1.0</td>\n",
       "      <td>2.0</td>\n",
       "      <td>2.0</td>\n",
       "      <td>1.0</td>\n",
       "      <td>1.0</td>\n",
       "      <td>2.0</td>\n",
       "      <td>-0.528441</td>\n",
       "      <td>-0.822966</td>\n",
       "    </tr>\n",
       "    <tr>\n",
       "      <th>4</th>\n",
       "      <td>5</td>\n",
       "      <td>German_Shepherd_Dog</td>\n",
       "      <td>male</td>\n",
       "      <td>sterilized</td>\n",
       "      <td>3.875205</td>\n",
       "      <td>4.006568</td>\n",
       "      <td>3.875205</td>\n",
       "      <td>4.006568</td>\n",
       "      <td>4.006568</td>\n",
       "      <td>4.006568</td>\n",
       "      <td>...</td>\n",
       "      <td>3.0</td>\n",
       "      <td>3.0</td>\n",
       "      <td>2.0</td>\n",
       "      <td>2.0</td>\n",
       "      <td>4.0</td>\n",
       "      <td>2.0</td>\n",
       "      <td>1.0</td>\n",
       "      <td>5.0</td>\n",
       "      <td>0.347356</td>\n",
       "      <td>1.438794</td>\n",
       "    </tr>\n",
       "    <tr>\n",
       "      <th>...</th>\n",
       "      <td>...</td>\n",
       "      <td>...</td>\n",
       "      <td>...</td>\n",
       "      <td>...</td>\n",
       "      <td>...</td>\n",
       "      <td>...</td>\n",
       "      <td>...</td>\n",
       "      <td>...</td>\n",
       "      <td>...</td>\n",
       "      <td>...</td>\n",
       "      <td>...</td>\n",
       "      <td>...</td>\n",
       "      <td>...</td>\n",
       "      <td>...</td>\n",
       "      <td>...</td>\n",
       "      <td>...</td>\n",
       "      <td>...</td>\n",
       "      <td>...</td>\n",
       "      <td>...</td>\n",
       "      <td>...</td>\n",
       "      <td>...</td>\n",
       "    </tr>\n",
       "    <tr>\n",
       "      <th>15366</th>\n",
       "      <td>15367</td>\n",
       "      <td>Labrador_Retriever</td>\n",
       "      <td>male</td>\n",
       "      <td>sterilized</td>\n",
       "      <td>4.515599</td>\n",
       "      <td>4.515599</td>\n",
       "      <td>4.515599</td>\n",
       "      <td>4.515599</td>\n",
       "      <td>4.515599</td>\n",
       "      <td>4.515599</td>\n",
       "      <td>...</td>\n",
       "      <td>3.0</td>\n",
       "      <td>3.0</td>\n",
       "      <td>1.0</td>\n",
       "      <td>2.0</td>\n",
       "      <td>2.0</td>\n",
       "      <td>2.0</td>\n",
       "      <td>0.0</td>\n",
       "      <td>4.0</td>\n",
       "      <td>0.002578</td>\n",
       "      <td>1.165461</td>\n",
       "    </tr>\n",
       "    <tr>\n",
       "      <th>15367</th>\n",
       "      <td>15368</td>\n",
       "      <td>Labrador_Retriever</td>\n",
       "      <td>male</td>\n",
       "      <td>intact</td>\n",
       "      <td>NaN</td>\n",
       "      <td>NaN</td>\n",
       "      <td>NaN</td>\n",
       "      <td>NaN</td>\n",
       "      <td>NaN</td>\n",
       "      <td>NaN</td>\n",
       "      <td>...</td>\n",
       "      <td>NaN</td>\n",
       "      <td>NaN</td>\n",
       "      <td>NaN</td>\n",
       "      <td>NaN</td>\n",
       "      <td>NaN</td>\n",
       "      <td>NaN</td>\n",
       "      <td>NaN</td>\n",
       "      <td>NaN</td>\n",
       "      <td>NaN</td>\n",
       "      <td>NaN</td>\n",
       "    </tr>\n",
       "    <tr>\n",
       "      <th>15368</th>\n",
       "      <td>15369</td>\n",
       "      <td>Pointers</td>\n",
       "      <td>female</td>\n",
       "      <td>intact</td>\n",
       "      <td>5.315693</td>\n",
       "      <td>NaN</td>\n",
       "      <td>5.315693</td>\n",
       "      <td>5.315693</td>\n",
       "      <td>5.315693</td>\n",
       "      <td>NaN</td>\n",
       "      <td>...</td>\n",
       "      <td>NaN</td>\n",
       "      <td>NaN</td>\n",
       "      <td>NaN</td>\n",
       "      <td>NaN</td>\n",
       "      <td>NaN</td>\n",
       "      <td>NaN</td>\n",
       "      <td>NaN</td>\n",
       "      <td>NaN</td>\n",
       "      <td>NaN</td>\n",
       "      <td>NaN</td>\n",
       "    </tr>\n",
       "    <tr>\n",
       "      <th>15369</th>\n",
       "      <td>15370</td>\n",
       "      <td>Hunting_terriers</td>\n",
       "      <td>male</td>\n",
       "      <td>intact</td>\n",
       "      <td>1.447332</td>\n",
       "      <td>1.447332</td>\n",
       "      <td>1.447332</td>\n",
       "      <td>1.447332</td>\n",
       "      <td>1.447332</td>\n",
       "      <td>1.447332</td>\n",
       "      <td>...</td>\n",
       "      <td>1.0</td>\n",
       "      <td>3.0</td>\n",
       "      <td>2.0</td>\n",
       "      <td>2.0</td>\n",
       "      <td>3.0</td>\n",
       "      <td>1.0</td>\n",
       "      <td>0.0</td>\n",
       "      <td>1.0</td>\n",
       "      <td>-0.076717</td>\n",
       "      <td>-0.764367</td>\n",
       "    </tr>\n",
       "    <tr>\n",
       "      <th>15370</th>\n",
       "      <td>15371</td>\n",
       "      <td>Teacup_dogs</td>\n",
       "      <td>male</td>\n",
       "      <td>intact</td>\n",
       "      <td>18.088980</td>\n",
       "      <td>18.088980</td>\n",
       "      <td>18.088980</td>\n",
       "      <td>100.969900</td>\n",
       "      <td>18.088980</td>\n",
       "      <td>18.088980</td>\n",
       "      <td>...</td>\n",
       "      <td>1.0</td>\n",
       "      <td>1.0</td>\n",
       "      <td>1.0</td>\n",
       "      <td>1.0</td>\n",
       "      <td>2.0</td>\n",
       "      <td>2.0</td>\n",
       "      <td>0.0</td>\n",
       "      <td>1.0</td>\n",
       "      <td>-0.419320</td>\n",
       "      <td>-0.664030</td>\n",
       "    </tr>\n",
       "  </tbody>\n",
       "</table>\n",
       "<p>15371 rows × 250 columns</p>\n",
       "</div>"
      ],
      "text/plain": [
       "       dog.id           breed_group     sex sterilization_status  \\\n",
       "0           1  Jack_Russell_Terrier  female           sterilized   \n",
       "1           2  Jack_Russell_Terrier  female               intact   \n",
       "2           3  Pinschers_Schnauzers    male               intact   \n",
       "3           4  Pinschers_Schnauzers    male           sterilized   \n",
       "4           5   German_Shepherd_Dog    male           sterilized   \n",
       "...       ...                   ...     ...                  ...   \n",
       "15366   15367    Labrador_Retriever    male           sterilized   \n",
       "15367   15368    Labrador_Retriever    male               intact   \n",
       "15368   15369              Pointers  female               intact   \n",
       "15369   15370      Hunting_terriers    male               intact   \n",
       "15370   15371           Teacup_dogs    male               intact   \n",
       "\n",
       "       Noise.sensitivity_age  Fearfulness_age  Aggression_age  Surface_age  \\\n",
       "0                  14.241650        14.181420       14.236174    14.233437   \n",
       "1                   8.693866         8.359294        8.693866     8.353818   \n",
       "2                   1.992701         1.992701        1.992701     1.992701   \n",
       "3                   5.405751         5.405751        5.405751     5.405751   \n",
       "4                   3.875205         4.006568        3.875205     4.006568   \n",
       "...                      ...              ...             ...          ...   \n",
       "15366               4.515599         4.515599        4.515599     4.515599   \n",
       "15367                    NaN              NaN             NaN          NaN   \n",
       "15368               5.315693              NaN        5.315693     5.315693   \n",
       "15369               1.447332         1.447332        1.447332     1.447332   \n",
       "15370              18.088980        18.088980       18.088980   100.969900   \n",
       "\n",
       "       Separation_age  Impulsivity_age  ...  Vas_8_excessive  \\\n",
       "0           14.181420        14.236174  ...              2.0   \n",
       "1                 NaN         8.422270  ...              2.0   \n",
       "2            1.992701         1.992701  ...              NaN   \n",
       "3            5.405751         5.405751  ...              1.0   \n",
       "4            4.006568         4.006568  ...              3.0   \n",
       "...               ...              ...  ...              ...   \n",
       "15366        4.515599         4.515599  ...              3.0   \n",
       "15367             NaN              NaN  ...              NaN   \n",
       "15368        5.315693              NaN  ...              NaN   \n",
       "15369        1.447332         1.447332  ...              1.0   \n",
       "15370       18.088980        18.088980  ...              1.0   \n",
       "\n",
       "       Vas_9_alwaysplay Vas_10_complicatedtasks Vas_11_reacthastily  \\\n",
       "0                   3.0                     2.0                 2.0   \n",
       "1                   3.0                     1.0                 1.0   \n",
       "2                   NaN                     NaN                 NaN   \n",
       "3                   2.0                     1.0                 2.0   \n",
       "4                   3.0                     2.0                 2.0   \n",
       "...                 ...                     ...                 ...   \n",
       "15366               3.0                     1.0                 2.0   \n",
       "15367               NaN                     NaN                 NaN   \n",
       "15368               NaN                     NaN                 NaN   \n",
       "15369               3.0                     2.0                 2.0   \n",
       "15370               1.0                     1.0                 1.0   \n",
       "\n",
       "      Vas_12_easilydistracted Vas_13_cannotwait  impulsive  \\\n",
       "0                         3.0               2.0        0.0   \n",
       "1                         2.0               2.0        NaN   \n",
       "2                         NaN               NaN        1.0   \n",
       "3                         2.0               1.0        1.0   \n",
       "4                         4.0               2.0        1.0   \n",
       "...                       ...               ...        ...   \n",
       "15366                     2.0               2.0        0.0   \n",
       "15367                     NaN               NaN        NaN   \n",
       "15368                     NaN               NaN        NaN   \n",
       "15369                     3.0               1.0        0.0   \n",
       "15370                     2.0               2.0        0.0   \n",
       "\n",
       "       impulsiveness_disturbes  inattention_score  impulsivity_score  \n",
       "0                          3.0           0.993593           0.097521  \n",
       "1                          2.0          -0.633266           0.904661  \n",
       "2                          4.0                NaN                NaN  \n",
       "3                          2.0          -0.528441          -0.822966  \n",
       "4                          5.0           0.347356           1.438794  \n",
       "...                        ...                ...                ...  \n",
       "15366                      4.0           0.002578           1.165461  \n",
       "15367                      NaN                NaN                NaN  \n",
       "15368                      NaN                NaN                NaN  \n",
       "15369                      1.0          -0.076717          -0.764367  \n",
       "15370                      1.0          -0.419320          -0.664030  \n",
       "\n",
       "[15371 rows x 250 columns]"
      ]
     },
     "metadata": {},
     "output_type": "display_data"
    }
   ],
   "source": [
    "# Load data\n",
    "with open('data-for-publication.xlsx', 'rb') as f:\n",
    "    dogs = pd.read_excel(f, sheet_name='Dataset', header=0)\n",
    "display(dogs)"
   ]
  },
  {
   "cell_type": "code",
   "execution_count": 4,
   "id": "14fbaf6b",
   "metadata": {},
   "outputs": [
    {
     "data": {
      "application/vnd.plotly.v1+json": {
       "config": {
        "plotlyServerURL": "https://plot.ly"
       },
       "data": [
        {
         "hovertemplate": "count=%{x}<br>breed_group=%{y}<extra></extra>",
         "legendgroup": "",
         "marker": {
          "color": "#636efa",
          "pattern": {
           "shape": ""
          }
         },
         "name": "",
         "orientation": "h",
         "showlegend": false,
         "textposition": "auto",
         "type": "bar",
         "x": {
          "bdata": "dwJsAiQCHgIdAhYC/wG8AbsBmAGEAX8BdwFzAW4BYwFfATQBJwEjARoBFgESAQgBAgH7APkA8wDnAOcA4gDhAOAA2gDZANkA1gDPAMwAygDFALcAtwC2ALUAsQCtAKoAggCAAH0AegA=",
          "dtype": "i2"
         },
         "xaxis": "x",
         "y": [
          "Finnish_Lapphund",
          "Retrievers_flushing_dogs",
          "Border_Collie",
          "German_Shepherd_Dog",
          "Mixed_breed",
          "Middle_European_utility_dogs",
          "Labrador_Retriever",
          "German_spitz_related",
          "Hunting_terriers",
          "Primitive_sighthounds",
          "Yard_terriers",
          "Shetland_Sheepdog",
          "Mastiff_type_dogs",
          "Other_companion_dogs",
          "Australian_Shepherd",
          "Pointers",
          "Poodles",
          "Middle_European_herders",
          "Japanese_Asian_primitive",
          "Spanish_Water_Dog",
          "Bichon_type_dogs",
          "Belgian_shepherd_dogs",
          "European_sighthounds",
          "English_herders",
          "Brachycephalic_dogs",
          "Lagotto_Romagnolo_Romagna_Water_Dog",
          "Bull_type_terriers",
          "Golden_Retriever",
          "Collie_Rough",
          "Northern_companion_spitz",
          "Lapponian_Herder",
          "Miniature_Schnauzer",
          "Dachshunds",
          "Fighting_dogs",
          "Whippet",
          "Sled_dogs",
          "Bernese_Mountain_Dogs",
          "Jack_Russell_Terrier",
          "Northern_hunting_spitz",
          "Parson_type_terriers",
          "White_Swiss_Shepherd_Dog",
          "Miniature_Pinscher",
          "Welsh_Corgis",
          "Pinschers_Schnauzers",
          "Chinese_Crested_Dog",
          "Teacup_dogs",
          "Collie_Smooth",
          "Nova_Scotia_Duck_Tolling_Retriever",
          "Schapendoes",
          "Livestock_guardian_dogs",
          "Scenthounds",
          "Other_breed"
         ],
         "yaxis": "y"
        }
       ],
       "layout": {
        "barmode": "relative",
        "height": 600,
        "legend": {
         "tracegroupgap": 0
        },
        "template": {
         "data": {
          "bar": [
           {
            "error_x": {
             "color": "#2a3f5f"
            },
            "error_y": {
             "color": "#2a3f5f"
            },
            "marker": {
             "line": {
              "color": "#E5ECF6",
              "width": 0.5
             },
             "pattern": {
              "fillmode": "overlay",
              "size": 10,
              "solidity": 0.2
             }
            },
            "type": "bar"
           }
          ],
          "barpolar": [
           {
            "marker": {
             "line": {
              "color": "#E5ECF6",
              "width": 0.5
             },
             "pattern": {
              "fillmode": "overlay",
              "size": 10,
              "solidity": 0.2
             }
            },
            "type": "barpolar"
           }
          ],
          "carpet": [
           {
            "aaxis": {
             "endlinecolor": "#2a3f5f",
             "gridcolor": "white",
             "linecolor": "white",
             "minorgridcolor": "white",
             "startlinecolor": "#2a3f5f"
            },
            "baxis": {
             "endlinecolor": "#2a3f5f",
             "gridcolor": "white",
             "linecolor": "white",
             "minorgridcolor": "white",
             "startlinecolor": "#2a3f5f"
            },
            "type": "carpet"
           }
          ],
          "choropleth": [
           {
            "colorbar": {
             "outlinewidth": 0,
             "ticks": ""
            },
            "type": "choropleth"
           }
          ],
          "contour": [
           {
            "colorbar": {
             "outlinewidth": 0,
             "ticks": ""
            },
            "colorscale": [
             [
              0,
              "#0d0887"
             ],
             [
              0.1111111111111111,
              "#46039f"
             ],
             [
              0.2222222222222222,
              "#7201a8"
             ],
             [
              0.3333333333333333,
              "#9c179e"
             ],
             [
              0.4444444444444444,
              "#bd3786"
             ],
             [
              0.5555555555555556,
              "#d8576b"
             ],
             [
              0.6666666666666666,
              "#ed7953"
             ],
             [
              0.7777777777777778,
              "#fb9f3a"
             ],
             [
              0.8888888888888888,
              "#fdca26"
             ],
             [
              1,
              "#f0f921"
             ]
            ],
            "type": "contour"
           }
          ],
          "contourcarpet": [
           {
            "colorbar": {
             "outlinewidth": 0,
             "ticks": ""
            },
            "type": "contourcarpet"
           }
          ],
          "heatmap": [
           {
            "colorbar": {
             "outlinewidth": 0,
             "ticks": ""
            },
            "colorscale": [
             [
              0,
              "#0d0887"
             ],
             [
              0.1111111111111111,
              "#46039f"
             ],
             [
              0.2222222222222222,
              "#7201a8"
             ],
             [
              0.3333333333333333,
              "#9c179e"
             ],
             [
              0.4444444444444444,
              "#bd3786"
             ],
             [
              0.5555555555555556,
              "#d8576b"
             ],
             [
              0.6666666666666666,
              "#ed7953"
             ],
             [
              0.7777777777777778,
              "#fb9f3a"
             ],
             [
              0.8888888888888888,
              "#fdca26"
             ],
             [
              1,
              "#f0f921"
             ]
            ],
            "type": "heatmap"
           }
          ],
          "histogram": [
           {
            "marker": {
             "pattern": {
              "fillmode": "overlay",
              "size": 10,
              "solidity": 0.2
             }
            },
            "type": "histogram"
           }
          ],
          "histogram2d": [
           {
            "colorbar": {
             "outlinewidth": 0,
             "ticks": ""
            },
            "colorscale": [
             [
              0,
              "#0d0887"
             ],
             [
              0.1111111111111111,
              "#46039f"
             ],
             [
              0.2222222222222222,
              "#7201a8"
             ],
             [
              0.3333333333333333,
              "#9c179e"
             ],
             [
              0.4444444444444444,
              "#bd3786"
             ],
             [
              0.5555555555555556,
              "#d8576b"
             ],
             [
              0.6666666666666666,
              "#ed7953"
             ],
             [
              0.7777777777777778,
              "#fb9f3a"
             ],
             [
              0.8888888888888888,
              "#fdca26"
             ],
             [
              1,
              "#f0f921"
             ]
            ],
            "type": "histogram2d"
           }
          ],
          "histogram2dcontour": [
           {
            "colorbar": {
             "outlinewidth": 0,
             "ticks": ""
            },
            "colorscale": [
             [
              0,
              "#0d0887"
             ],
             [
              0.1111111111111111,
              "#46039f"
             ],
             [
              0.2222222222222222,
              "#7201a8"
             ],
             [
              0.3333333333333333,
              "#9c179e"
             ],
             [
              0.4444444444444444,
              "#bd3786"
             ],
             [
              0.5555555555555556,
              "#d8576b"
             ],
             [
              0.6666666666666666,
              "#ed7953"
             ],
             [
              0.7777777777777778,
              "#fb9f3a"
             ],
             [
              0.8888888888888888,
              "#fdca26"
             ],
             [
              1,
              "#f0f921"
             ]
            ],
            "type": "histogram2dcontour"
           }
          ],
          "mesh3d": [
           {
            "colorbar": {
             "outlinewidth": 0,
             "ticks": ""
            },
            "type": "mesh3d"
           }
          ],
          "parcoords": [
           {
            "line": {
             "colorbar": {
              "outlinewidth": 0,
              "ticks": ""
             }
            },
            "type": "parcoords"
           }
          ],
          "pie": [
           {
            "automargin": true,
            "type": "pie"
           }
          ],
          "scatter": [
           {
            "fillpattern": {
             "fillmode": "overlay",
             "size": 10,
             "solidity": 0.2
            },
            "type": "scatter"
           }
          ],
          "scatter3d": [
           {
            "line": {
             "colorbar": {
              "outlinewidth": 0,
              "ticks": ""
             }
            },
            "marker": {
             "colorbar": {
              "outlinewidth": 0,
              "ticks": ""
             }
            },
            "type": "scatter3d"
           }
          ],
          "scattercarpet": [
           {
            "marker": {
             "colorbar": {
              "outlinewidth": 0,
              "ticks": ""
             }
            },
            "type": "scattercarpet"
           }
          ],
          "scattergeo": [
           {
            "marker": {
             "colorbar": {
              "outlinewidth": 0,
              "ticks": ""
             }
            },
            "type": "scattergeo"
           }
          ],
          "scattergl": [
           {
            "marker": {
             "colorbar": {
              "outlinewidth": 0,
              "ticks": ""
             }
            },
            "type": "scattergl"
           }
          ],
          "scattermap": [
           {
            "marker": {
             "colorbar": {
              "outlinewidth": 0,
              "ticks": ""
             }
            },
            "type": "scattermap"
           }
          ],
          "scattermapbox": [
           {
            "marker": {
             "colorbar": {
              "outlinewidth": 0,
              "ticks": ""
             }
            },
            "type": "scattermapbox"
           }
          ],
          "scatterpolar": [
           {
            "marker": {
             "colorbar": {
              "outlinewidth": 0,
              "ticks": ""
             }
            },
            "type": "scatterpolar"
           }
          ],
          "scatterpolargl": [
           {
            "marker": {
             "colorbar": {
              "outlinewidth": 0,
              "ticks": ""
             }
            },
            "type": "scatterpolargl"
           }
          ],
          "scatterternary": [
           {
            "marker": {
             "colorbar": {
              "outlinewidth": 0,
              "ticks": ""
             }
            },
            "type": "scatterternary"
           }
          ],
          "surface": [
           {
            "colorbar": {
             "outlinewidth": 0,
             "ticks": ""
            },
            "colorscale": [
             [
              0,
              "#0d0887"
             ],
             [
              0.1111111111111111,
              "#46039f"
             ],
             [
              0.2222222222222222,
              "#7201a8"
             ],
             [
              0.3333333333333333,
              "#9c179e"
             ],
             [
              0.4444444444444444,
              "#bd3786"
             ],
             [
              0.5555555555555556,
              "#d8576b"
             ],
             [
              0.6666666666666666,
              "#ed7953"
             ],
             [
              0.7777777777777778,
              "#fb9f3a"
             ],
             [
              0.8888888888888888,
              "#fdca26"
             ],
             [
              1,
              "#f0f921"
             ]
            ],
            "type": "surface"
           }
          ],
          "table": [
           {
            "cells": {
             "fill": {
              "color": "#EBF0F8"
             },
             "line": {
              "color": "white"
             }
            },
            "header": {
             "fill": {
              "color": "#C8D4E3"
             },
             "line": {
              "color": "white"
             }
            },
            "type": "table"
           }
          ]
         },
         "layout": {
          "annotationdefaults": {
           "arrowcolor": "#2a3f5f",
           "arrowhead": 0,
           "arrowwidth": 1
          },
          "autotypenumbers": "strict",
          "coloraxis": {
           "colorbar": {
            "outlinewidth": 0,
            "ticks": ""
           }
          },
          "colorscale": {
           "diverging": [
            [
             0,
             "#8e0152"
            ],
            [
             0.1,
             "#c51b7d"
            ],
            [
             0.2,
             "#de77ae"
            ],
            [
             0.3,
             "#f1b6da"
            ],
            [
             0.4,
             "#fde0ef"
            ],
            [
             0.5,
             "#f7f7f7"
            ],
            [
             0.6,
             "#e6f5d0"
            ],
            [
             0.7,
             "#b8e186"
            ],
            [
             0.8,
             "#7fbc41"
            ],
            [
             0.9,
             "#4d9221"
            ],
            [
             1,
             "#276419"
            ]
           ],
           "sequential": [
            [
             0,
             "#0d0887"
            ],
            [
             0.1111111111111111,
             "#46039f"
            ],
            [
             0.2222222222222222,
             "#7201a8"
            ],
            [
             0.3333333333333333,
             "#9c179e"
            ],
            [
             0.4444444444444444,
             "#bd3786"
            ],
            [
             0.5555555555555556,
             "#d8576b"
            ],
            [
             0.6666666666666666,
             "#ed7953"
            ],
            [
             0.7777777777777778,
             "#fb9f3a"
            ],
            [
             0.8888888888888888,
             "#fdca26"
            ],
            [
             1,
             "#f0f921"
            ]
           ],
           "sequentialminus": [
            [
             0,
             "#0d0887"
            ],
            [
             0.1111111111111111,
             "#46039f"
            ],
            [
             0.2222222222222222,
             "#7201a8"
            ],
            [
             0.3333333333333333,
             "#9c179e"
            ],
            [
             0.4444444444444444,
             "#bd3786"
            ],
            [
             0.5555555555555556,
             "#d8576b"
            ],
            [
             0.6666666666666666,
             "#ed7953"
            ],
            [
             0.7777777777777778,
             "#fb9f3a"
            ],
            [
             0.8888888888888888,
             "#fdca26"
            ],
            [
             1,
             "#f0f921"
            ]
           ]
          },
          "colorway": [
           "#636efa",
           "#EF553B",
           "#00cc96",
           "#ab63fa",
           "#FFA15A",
           "#19d3f3",
           "#FF6692",
           "#B6E880",
           "#FF97FF",
           "#FECB52"
          ],
          "font": {
           "color": "#2a3f5f"
          },
          "geo": {
           "bgcolor": "white",
           "lakecolor": "white",
           "landcolor": "#E5ECF6",
           "showlakes": true,
           "showland": true,
           "subunitcolor": "white"
          },
          "hoverlabel": {
           "align": "left"
          },
          "hovermode": "closest",
          "mapbox": {
           "style": "light"
          },
          "paper_bgcolor": "white",
          "plot_bgcolor": "#E5ECF6",
          "polar": {
           "angularaxis": {
            "gridcolor": "white",
            "linecolor": "white",
            "ticks": ""
           },
           "bgcolor": "#E5ECF6",
           "radialaxis": {
            "gridcolor": "white",
            "linecolor": "white",
            "ticks": ""
           }
          },
          "scene": {
           "xaxis": {
            "backgroundcolor": "#E5ECF6",
            "gridcolor": "white",
            "gridwidth": 2,
            "linecolor": "white",
            "showbackground": true,
            "ticks": "",
            "zerolinecolor": "white"
           },
           "yaxis": {
            "backgroundcolor": "#E5ECF6",
            "gridcolor": "white",
            "gridwidth": 2,
            "linecolor": "white",
            "showbackground": true,
            "ticks": "",
            "zerolinecolor": "white"
           },
           "zaxis": {
            "backgroundcolor": "#E5ECF6",
            "gridcolor": "white",
            "gridwidth": 2,
            "linecolor": "white",
            "showbackground": true,
            "ticks": "",
            "zerolinecolor": "white"
           }
          },
          "shapedefaults": {
           "line": {
            "color": "#2a3f5f"
           }
          },
          "ternary": {
           "aaxis": {
            "gridcolor": "white",
            "linecolor": "white",
            "ticks": ""
           },
           "baxis": {
            "gridcolor": "white",
            "linecolor": "white",
            "ticks": ""
           },
           "bgcolor": "#E5ECF6",
           "caxis": {
            "gridcolor": "white",
            "linecolor": "white",
            "ticks": ""
           }
          },
          "title": {
           "x": 0.05
          },
          "xaxis": {
           "automargin": true,
           "gridcolor": "white",
           "linecolor": "white",
           "ticks": "",
           "title": {
            "standoff": 15
           },
           "zerolinecolor": "white",
           "zerolinewidth": 2
          },
          "yaxis": {
           "automargin": true,
           "gridcolor": "white",
           "linecolor": "white",
           "ticks": "",
           "title": {
            "standoff": 15
           },
           "zerolinecolor": "white",
           "zerolinewidth": 2
          }
         }
        },
        "title": {
         "text": "Pocty jednotlivych plemien v datach"
        },
        "width": 1000,
        "xaxis": {
         "anchor": "y",
         "domain": [
          0,
          1
         ],
         "title": {
          "text": "count"
         }
        },
        "yaxis": {
         "anchor": "x",
         "domain": [
          0,
          1
         ],
         "title": {
          "text": "breed_group"
         }
        }
       }
      }
     },
     "metadata": {},
     "output_type": "display_data"
    }
   ],
   "source": [
    "# for col_name in ['breed_group', 'sex', 'sterilization_status']:\n",
    "# figure, axes = plt.subplots(1,3, figsize=(20,8))\n",
    "# sns.barplot(dogs['breed_group'].value_counts().reset_index(), x='breed_group', y='count', ax=axes[0])\n",
    "fig = px.bar(dogs['breed_group'].value_counts().reset_index(), y='breed_group', x='count', title='Pocty jednotlivych plemien v datach', width=1000, height=600)\n",
    "fig.show()"
   ]
  },
  {
   "cell_type": "code",
   "execution_count": 5,
   "id": "1c503002",
   "metadata": {},
   "outputs": [
    {
     "data": {
      "text/plain": [
       "sterilization_status  sex   \n",
       "intact                female    6020\n",
       "                      male      5738\n",
       "sterilized            female    2114\n",
       "                      male      1499\n",
       "Name: dog.id, dtype: int64"
      ]
     },
     "metadata": {},
     "output_type": "display_data"
    },
    {
     "data": {
      "text/plain": [
       "1499"
      ]
     },
     "metadata": {},
     "output_type": "display_data"
    },
    {
     "data": {
      "application/vnd.plotly.v1+json": {
       "config": {
        "plotlyServerURL": "https://plot.ly"
       },
       "data": [
        {
         "name": "sterlized",
         "type": "bar",
         "x": [
          "male",
          "female"
         ],
         "y": [
          1499,
          2114
         ]
        },
        {
         "name": "intact",
         "type": "bar",
         "x": [
          "male",
          "female"
         ],
         "y": [
          5738,
          6020
         ]
        }
       ],
       "layout": {
        "barmode": "stack",
        "template": {
         "data": {
          "bar": [
           {
            "error_x": {
             "color": "#2a3f5f"
            },
            "error_y": {
             "color": "#2a3f5f"
            },
            "marker": {
             "line": {
              "color": "#E5ECF6",
              "width": 0.5
             },
             "pattern": {
              "fillmode": "overlay",
              "size": 10,
              "solidity": 0.2
             }
            },
            "type": "bar"
           }
          ],
          "barpolar": [
           {
            "marker": {
             "line": {
              "color": "#E5ECF6",
              "width": 0.5
             },
             "pattern": {
              "fillmode": "overlay",
              "size": 10,
              "solidity": 0.2
             }
            },
            "type": "barpolar"
           }
          ],
          "carpet": [
           {
            "aaxis": {
             "endlinecolor": "#2a3f5f",
             "gridcolor": "white",
             "linecolor": "white",
             "minorgridcolor": "white",
             "startlinecolor": "#2a3f5f"
            },
            "baxis": {
             "endlinecolor": "#2a3f5f",
             "gridcolor": "white",
             "linecolor": "white",
             "minorgridcolor": "white",
             "startlinecolor": "#2a3f5f"
            },
            "type": "carpet"
           }
          ],
          "choropleth": [
           {
            "colorbar": {
             "outlinewidth": 0,
             "ticks": ""
            },
            "type": "choropleth"
           }
          ],
          "contour": [
           {
            "colorbar": {
             "outlinewidth": 0,
             "ticks": ""
            },
            "colorscale": [
             [
              0,
              "#0d0887"
             ],
             [
              0.1111111111111111,
              "#46039f"
             ],
             [
              0.2222222222222222,
              "#7201a8"
             ],
             [
              0.3333333333333333,
              "#9c179e"
             ],
             [
              0.4444444444444444,
              "#bd3786"
             ],
             [
              0.5555555555555556,
              "#d8576b"
             ],
             [
              0.6666666666666666,
              "#ed7953"
             ],
             [
              0.7777777777777778,
              "#fb9f3a"
             ],
             [
              0.8888888888888888,
              "#fdca26"
             ],
             [
              1,
              "#f0f921"
             ]
            ],
            "type": "contour"
           }
          ],
          "contourcarpet": [
           {
            "colorbar": {
             "outlinewidth": 0,
             "ticks": ""
            },
            "type": "contourcarpet"
           }
          ],
          "heatmap": [
           {
            "colorbar": {
             "outlinewidth": 0,
             "ticks": ""
            },
            "colorscale": [
             [
              0,
              "#0d0887"
             ],
             [
              0.1111111111111111,
              "#46039f"
             ],
             [
              0.2222222222222222,
              "#7201a8"
             ],
             [
              0.3333333333333333,
              "#9c179e"
             ],
             [
              0.4444444444444444,
              "#bd3786"
             ],
             [
              0.5555555555555556,
              "#d8576b"
             ],
             [
              0.6666666666666666,
              "#ed7953"
             ],
             [
              0.7777777777777778,
              "#fb9f3a"
             ],
             [
              0.8888888888888888,
              "#fdca26"
             ],
             [
              1,
              "#f0f921"
             ]
            ],
            "type": "heatmap"
           }
          ],
          "histogram": [
           {
            "marker": {
             "pattern": {
              "fillmode": "overlay",
              "size": 10,
              "solidity": 0.2
             }
            },
            "type": "histogram"
           }
          ],
          "histogram2d": [
           {
            "colorbar": {
             "outlinewidth": 0,
             "ticks": ""
            },
            "colorscale": [
             [
              0,
              "#0d0887"
             ],
             [
              0.1111111111111111,
              "#46039f"
             ],
             [
              0.2222222222222222,
              "#7201a8"
             ],
             [
              0.3333333333333333,
              "#9c179e"
             ],
             [
              0.4444444444444444,
              "#bd3786"
             ],
             [
              0.5555555555555556,
              "#d8576b"
             ],
             [
              0.6666666666666666,
              "#ed7953"
             ],
             [
              0.7777777777777778,
              "#fb9f3a"
             ],
             [
              0.8888888888888888,
              "#fdca26"
             ],
             [
              1,
              "#f0f921"
             ]
            ],
            "type": "histogram2d"
           }
          ],
          "histogram2dcontour": [
           {
            "colorbar": {
             "outlinewidth": 0,
             "ticks": ""
            },
            "colorscale": [
             [
              0,
              "#0d0887"
             ],
             [
              0.1111111111111111,
              "#46039f"
             ],
             [
              0.2222222222222222,
              "#7201a8"
             ],
             [
              0.3333333333333333,
              "#9c179e"
             ],
             [
              0.4444444444444444,
              "#bd3786"
             ],
             [
              0.5555555555555556,
              "#d8576b"
             ],
             [
              0.6666666666666666,
              "#ed7953"
             ],
             [
              0.7777777777777778,
              "#fb9f3a"
             ],
             [
              0.8888888888888888,
              "#fdca26"
             ],
             [
              1,
              "#f0f921"
             ]
            ],
            "type": "histogram2dcontour"
           }
          ],
          "mesh3d": [
           {
            "colorbar": {
             "outlinewidth": 0,
             "ticks": ""
            },
            "type": "mesh3d"
           }
          ],
          "parcoords": [
           {
            "line": {
             "colorbar": {
              "outlinewidth": 0,
              "ticks": ""
             }
            },
            "type": "parcoords"
           }
          ],
          "pie": [
           {
            "automargin": true,
            "type": "pie"
           }
          ],
          "scatter": [
           {
            "fillpattern": {
             "fillmode": "overlay",
             "size": 10,
             "solidity": 0.2
            },
            "type": "scatter"
           }
          ],
          "scatter3d": [
           {
            "line": {
             "colorbar": {
              "outlinewidth": 0,
              "ticks": ""
             }
            },
            "marker": {
             "colorbar": {
              "outlinewidth": 0,
              "ticks": ""
             }
            },
            "type": "scatter3d"
           }
          ],
          "scattercarpet": [
           {
            "marker": {
             "colorbar": {
              "outlinewidth": 0,
              "ticks": ""
             }
            },
            "type": "scattercarpet"
           }
          ],
          "scattergeo": [
           {
            "marker": {
             "colorbar": {
              "outlinewidth": 0,
              "ticks": ""
             }
            },
            "type": "scattergeo"
           }
          ],
          "scattergl": [
           {
            "marker": {
             "colorbar": {
              "outlinewidth": 0,
              "ticks": ""
             }
            },
            "type": "scattergl"
           }
          ],
          "scattermap": [
           {
            "marker": {
             "colorbar": {
              "outlinewidth": 0,
              "ticks": ""
             }
            },
            "type": "scattermap"
           }
          ],
          "scattermapbox": [
           {
            "marker": {
             "colorbar": {
              "outlinewidth": 0,
              "ticks": ""
             }
            },
            "type": "scattermapbox"
           }
          ],
          "scatterpolar": [
           {
            "marker": {
             "colorbar": {
              "outlinewidth": 0,
              "ticks": ""
             }
            },
            "type": "scatterpolar"
           }
          ],
          "scatterpolargl": [
           {
            "marker": {
             "colorbar": {
              "outlinewidth": 0,
              "ticks": ""
             }
            },
            "type": "scatterpolargl"
           }
          ],
          "scatterternary": [
           {
            "marker": {
             "colorbar": {
              "outlinewidth": 0,
              "ticks": ""
             }
            },
            "type": "scatterternary"
           }
          ],
          "surface": [
           {
            "colorbar": {
             "outlinewidth": 0,
             "ticks": ""
            },
            "colorscale": [
             [
              0,
              "#0d0887"
             ],
             [
              0.1111111111111111,
              "#46039f"
             ],
             [
              0.2222222222222222,
              "#7201a8"
             ],
             [
              0.3333333333333333,
              "#9c179e"
             ],
             [
              0.4444444444444444,
              "#bd3786"
             ],
             [
              0.5555555555555556,
              "#d8576b"
             ],
             [
              0.6666666666666666,
              "#ed7953"
             ],
             [
              0.7777777777777778,
              "#fb9f3a"
             ],
             [
              0.8888888888888888,
              "#fdca26"
             ],
             [
              1,
              "#f0f921"
             ]
            ],
            "type": "surface"
           }
          ],
          "table": [
           {
            "cells": {
             "fill": {
              "color": "#EBF0F8"
             },
             "line": {
              "color": "white"
             }
            },
            "header": {
             "fill": {
              "color": "#C8D4E3"
             },
             "line": {
              "color": "white"
             }
            },
            "type": "table"
           }
          ]
         },
         "layout": {
          "annotationdefaults": {
           "arrowcolor": "#2a3f5f",
           "arrowhead": 0,
           "arrowwidth": 1
          },
          "autotypenumbers": "strict",
          "coloraxis": {
           "colorbar": {
            "outlinewidth": 0,
            "ticks": ""
           }
          },
          "colorscale": {
           "diverging": [
            [
             0,
             "#8e0152"
            ],
            [
             0.1,
             "#c51b7d"
            ],
            [
             0.2,
             "#de77ae"
            ],
            [
             0.3,
             "#f1b6da"
            ],
            [
             0.4,
             "#fde0ef"
            ],
            [
             0.5,
             "#f7f7f7"
            ],
            [
             0.6,
             "#e6f5d0"
            ],
            [
             0.7,
             "#b8e186"
            ],
            [
             0.8,
             "#7fbc41"
            ],
            [
             0.9,
             "#4d9221"
            ],
            [
             1,
             "#276419"
            ]
           ],
           "sequential": [
            [
             0,
             "#0d0887"
            ],
            [
             0.1111111111111111,
             "#46039f"
            ],
            [
             0.2222222222222222,
             "#7201a8"
            ],
            [
             0.3333333333333333,
             "#9c179e"
            ],
            [
             0.4444444444444444,
             "#bd3786"
            ],
            [
             0.5555555555555556,
             "#d8576b"
            ],
            [
             0.6666666666666666,
             "#ed7953"
            ],
            [
             0.7777777777777778,
             "#fb9f3a"
            ],
            [
             0.8888888888888888,
             "#fdca26"
            ],
            [
             1,
             "#f0f921"
            ]
           ],
           "sequentialminus": [
            [
             0,
             "#0d0887"
            ],
            [
             0.1111111111111111,
             "#46039f"
            ],
            [
             0.2222222222222222,
             "#7201a8"
            ],
            [
             0.3333333333333333,
             "#9c179e"
            ],
            [
             0.4444444444444444,
             "#bd3786"
            ],
            [
             0.5555555555555556,
             "#d8576b"
            ],
            [
             0.6666666666666666,
             "#ed7953"
            ],
            [
             0.7777777777777778,
             "#fb9f3a"
            ],
            [
             0.8888888888888888,
             "#fdca26"
            ],
            [
             1,
             "#f0f921"
            ]
           ]
          },
          "colorway": [
           "#636efa",
           "#EF553B",
           "#00cc96",
           "#ab63fa",
           "#FFA15A",
           "#19d3f3",
           "#FF6692",
           "#B6E880",
           "#FF97FF",
           "#FECB52"
          ],
          "font": {
           "color": "#2a3f5f"
          },
          "geo": {
           "bgcolor": "white",
           "lakecolor": "white",
           "landcolor": "#E5ECF6",
           "showlakes": true,
           "showland": true,
           "subunitcolor": "white"
          },
          "hoverlabel": {
           "align": "left"
          },
          "hovermode": "closest",
          "mapbox": {
           "style": "light"
          },
          "paper_bgcolor": "white",
          "plot_bgcolor": "#E5ECF6",
          "polar": {
           "angularaxis": {
            "gridcolor": "white",
            "linecolor": "white",
            "ticks": ""
           },
           "bgcolor": "#E5ECF6",
           "radialaxis": {
            "gridcolor": "white",
            "linecolor": "white",
            "ticks": ""
           }
          },
          "scene": {
           "xaxis": {
            "backgroundcolor": "#E5ECF6",
            "gridcolor": "white",
            "gridwidth": 2,
            "linecolor": "white",
            "showbackground": true,
            "ticks": "",
            "zerolinecolor": "white"
           },
           "yaxis": {
            "backgroundcolor": "#E5ECF6",
            "gridcolor": "white",
            "gridwidth": 2,
            "linecolor": "white",
            "showbackground": true,
            "ticks": "",
            "zerolinecolor": "white"
           },
           "zaxis": {
            "backgroundcolor": "#E5ECF6",
            "gridcolor": "white",
            "gridwidth": 2,
            "linecolor": "white",
            "showbackground": true,
            "ticks": "",
            "zerolinecolor": "white"
           }
          },
          "shapedefaults": {
           "line": {
            "color": "#2a3f5f"
           }
          },
          "ternary": {
           "aaxis": {
            "gridcolor": "white",
            "linecolor": "white",
            "ticks": ""
           },
           "baxis": {
            "gridcolor": "white",
            "linecolor": "white",
            "ticks": ""
           },
           "bgcolor": "#E5ECF6",
           "caxis": {
            "gridcolor": "white",
            "linecolor": "white",
            "ticks": ""
           }
          },
          "title": {
           "x": 0.05
          },
          "xaxis": {
           "automargin": true,
           "gridcolor": "white",
           "linecolor": "white",
           "ticks": "",
           "title": {
            "standoff": 15
           },
           "zerolinecolor": "white",
           "zerolinewidth": 2
          },
          "yaxis": {
           "automargin": true,
           "gridcolor": "white",
           "linecolor": "white",
           "ticks": "",
           "title": {
            "standoff": 15
           },
           "zerolinecolor": "white",
           "zerolinewidth": 2
          }
         }
        },
        "title": {
         "text": "Number of male and female sterilized/intact dogs"
        },
        "width": 700
       }
      }
     },
     "metadata": {},
     "output_type": "display_data"
    }
   ],
   "source": [
    "df = dogs.groupby(by=['sterilization_status','sex'])['dog.id'].count()#.rename(columns={'dog.id':'count'})#.reset_index().set_index(['sex', 'sterilization_status'])\n",
    "display(df)\n",
    "display(df['sterilized', 'male'])\n",
    "\n",
    "fig = go.Figure(data=[\n",
    "    go.Bar(name='sterlized', x=['male', 'female'], y=[df['sterilized', 'male'], df['sterilized', 'female']]),\n",
    "    go.Bar(name='intact', x=['male', 'female'], y=[df['intact', 'male'], df['intact', 'female']])\n",
    "])\n",
    "fig.update_layout(barmode='stack', width=700, title='Number of male and female sterilized/intact dogs')\n",
    "fig.show()\n",
    "\n",
    "# fig = px.bar(dogs['sex'].value_counts().reset_index(), y='sex', x='count', title='Pocty jednotlivych psov podla poh', width=1000, height=600)\n",
    "# fig.show()"
   ]
  },
  {
   "cell_type": "code",
   "execution_count": 6,
   "id": "b4868e7c",
   "metadata": {},
   "outputs": [
    {
     "data": {
      "text/plain": [
       "sex\n",
       "female    18.556165\n",
       "male      22.469875\n",
       "Name: weight_kg, dtype: float64"
      ]
     },
     "metadata": {},
     "output_type": "display_data"
    },
    {
     "data": {
      "text/plain": [
       "<Axes: xlabel='weight_kg', ylabel='Count'>"
      ]
     },
     "execution_count": 6,
     "metadata": {},
     "output_type": "execute_result"
    },
    {
     "data": {
      "image/png": "[encoded data removed]",
      "text/plain": [
       "<Figure size 640x480 with 1 Axes>"
      ]
     },
     "metadata": {},
     "output_type": "display_data"
    }
   ],
   "source": [
    "df = dogs.groupby(by=['sex'])['weight_kg'].mean()\n",
    "display(df)\n",
    "\n",
    "sns.histplot(data=dogs, x='weight_kg', hue='sex', hue_order={'female':'blue', 'male':'blue'})"
   ]
  },
  {
   "cell_type": "code",
   "execution_count": 7,
   "id": "57d06bca",
   "metadata": {},
   "outputs": [
    {
     "data": {
      "application/vnd.plotly.v1+json": {
       "config": {
        "plotlyServerURL": "https://plot.ly"
       },
       "data": [
        {
         "hovertext": {
          "bdata": "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",
          "dtype": "f8"
         },
         "name": "Male",
         "opacity": 0.75,
         "type": "histogram",
         "x": {
          "bdata": "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",
          "dtype": "f8"
         }
        },
        {
         "hovertext": {
          "bdata": "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",
          "dtype": "f8"
         },
         "name": "Female",
         "opacity": 0.75,
         "type": "histogram",
         "x": {
          "bdata": "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",
          "dtype": "f8"
         }
        }
       ],
       "layout": {
        "barmode": "overlay",
        "template": {
         "data": {
          "bar": [
           {
            "error_x": {
             "color": "#2a3f5f"
            },
            "error_y": {
             "color": "#2a3f5f"
            },
            "marker": {
             "line": {
              "color": "#E5ECF6",
              "width": 0.5
             },
             "pattern": {
              "fillmode": "overlay",
              "size": 10,
              "solidity": 0.2
             }
            },
            "type": "bar"
           }
          ],
          "barpolar": [
           {
            "marker": {
             "line": {
              "color": "#E5ECF6",
              "width": 0.5
             },
             "pattern": {
              "fillmode": "overlay",
              "size": 10,
              "solidity": 0.2
             }
            },
            "type": "barpolar"
           }
          ],
          "carpet": [
           {
            "aaxis": {
             "endlinecolor": "#2a3f5f",
             "gridcolor": "white",
             "linecolor": "white",
             "minorgridcolor": "white",
             "startlinecolor": "#2a3f5f"
            },
            "baxis": {
             "endlinecolor": "#2a3f5f",
             "gridcolor": "white",
             "linecolor": "white",
             "minorgridcolor": "white",
             "startlinecolor": "#2a3f5f"
            },
            "type": "carpet"
           }
          ],
          "choropleth": [
           {
            "colorbar": {
             "outlinewidth": 0,
             "ticks": ""
            },
            "type": "choropleth"
           }
          ],
          "contour": [
           {
            "colorbar": {
             "outlinewidth": 0,
             "ticks": ""
            },
            "colorscale": [
             [
              0,
              "#0d0887"
             ],
             [
              0.1111111111111111,
              "#46039f"
             ],
             [
              0.2222222222222222,
              "#7201a8"
             ],
             [
              0.3333333333333333,
              "#9c179e"
             ],
             [
              0.4444444444444444,
              "#bd3786"
             ],
             [
              0.5555555555555556,
              "#d8576b"
             ],
             [
              0.6666666666666666,
              "#ed7953"
             ],
             [
              0.7777777777777778,
              "#fb9f3a"
             ],
             [
              0.8888888888888888,
              "#fdca26"
             ],
             [
              1,
              "#f0f921"
             ]
            ],
            "type": "contour"
           }
          ],
          "contourcarpet": [
           {
            "colorbar": {
             "outlinewidth": 0,
             "ticks": ""
            },
            "type": "contourcarpet"
           }
          ],
          "heatmap": [
           {
            "colorbar": {
             "outlinewidth": 0,
             "ticks": ""
            },
            "colorscale": [
             [
              0,
              "#0d0887"
             ],
             [
              0.1111111111111111,
              "#46039f"
             ],
             [
              0.2222222222222222,
              "#7201a8"
             ],
             [
              0.3333333333333333,
              "#9c179e"
             ],
             [
              0.4444444444444444,
              "#bd3786"
             ],
             [
              0.5555555555555556,
              "#d8576b"
             ],
             [
              0.6666666666666666,
              "#ed7953"
             ],
             [
              0.7777777777777778,
              "#fb9f3a"
             ],
             [
              0.8888888888888888,
              "#fdca26"
             ],
             [
              1,
              "#f0f921"
             ]
            ],
            "type": "heatmap"
           }
          ],
          "histogram": [
           {
            "marker": {
             "pattern": {
              "fillmode": "overlay",
              "size": 10,
              "solidity": 0.2
             }
            },
            "type": "histogram"
           }
          ],
          "histogram2d": [
           {
            "colorbar": {
             "outlinewidth": 0,
             "ticks": ""
            },
            "colorscale": [
             [
              0,
              "#0d0887"
             ],
             [
              0.1111111111111111,
              "#46039f"
             ],
             [
              0.2222222222222222,
              "#7201a8"
             ],
             [
              0.3333333333333333,
              "#9c179e"
             ],
             [
              0.4444444444444444,
              "#bd3786"
             ],
             [
              0.5555555555555556,
              "#d8576b"
             ],
             [
              0.6666666666666666,
              "#ed7953"
             ],
             [
              0.7777777777777778,
              "#fb9f3a"
             ],
             [
              0.8888888888888888,
              "#fdca26"
             ],
             [
              1,
              "#f0f921"
             ]
            ],
            "type": "histogram2d"
           }
          ],
          "histogram2dcontour": [
           {
            "colorbar": {
             "outlinewidth": 0,
             "ticks": ""
            },
            "colorscale": [
             [
              0,
              "#0d0887"
             ],
             [
              0.1111111111111111,
              "#46039f"
             ],
             [
              0.2222222222222222,
              "#7201a8"
             ],
             [
              0.3333333333333333,
              "#9c179e"
             ],
             [
              0.4444444444444444,
              "#bd3786"
             ],
             [
              0.5555555555555556,
              "#d8576b"
             ],
             [
              0.6666666666666666,
              "#ed7953"
             ],
             [
              0.7777777777777778,
              "#fb9f3a"
             ],
             [
              0.8888888888888888,
              "#fdca26"
             ],
             [
              1,
              "#f0f921"
             ]
            ],
            "type": "histogram2dcontour"
           }
          ],
          "mesh3d": [
           {
            "colorbar": {
             "outlinewidth": 0,
             "ticks": ""
            },
            "type": "mesh3d"
           }
          ],
          "parcoords": [
           {
            "line": {
             "colorbar": {
              "outlinewidth": 0,
              "ticks": ""
             }
            },
            "type": "parcoords"
           }
          ],
          "pie": [
           {
            "automargin": true,
            "type": "pie"
           }
          ],
          "scatter": [
           {
            "fillpattern": {
             "fillmode": "overlay",
             "size": 10,
             "solidity": 0.2
            },
            "type": "scatter"
           }
          ],
          "scatter3d": [
           {
            "line": {
             "colorbar": {
              "outlinewidth": 0,
              "ticks": ""
             }
            },
            "marker": {
             "colorbar": {
              "outlinewidth": 0,
              "ticks": ""
             }
            },
            "type": "scatter3d"
           }
          ],
          "scattercarpet": [
           {
            "marker": {
             "colorbar": {
              "outlinewidth": 0,
              "ticks": ""
             }
            },
            "type": "scattercarpet"
           }
          ],
          "scattergeo": [
           {
            "marker": {
             "colorbar": {
              "outlinewidth": 0,
              "ticks": ""
             }
            },
            "type": "scattergeo"
           }
          ],
          "scattergl": [
           {
            "marker": {
             "colorbar": {
              "outlinewidth": 0,
              "ticks": ""
             }
            },
            "type": "scattergl"
           }
          ],
          "scattermap": [
           {
            "marker": {
             "colorbar": {
              "outlinewidth": 0,
              "ticks": ""
             }
            },
            "type": "scattermap"
           }
          ],
          "scattermapbox": [
           {
            "marker": {
             "colorbar": {
              "outlinewidth": 0,
              "ticks": ""
             }
            },
            "type": "scattermapbox"
           }
          ],
          "scatterpolar": [
           {
            "marker": {
             "colorbar": {
              "outlinewidth": 0,
              "ticks": ""
             }
            },
            "type": "scatterpolar"
           }
          ],
          "scatterpolargl": [
           {
            "marker": {
             "colorbar": {
              "outlinewidth": 0,
              "ticks": ""
             }
            },
            "type": "scatterpolargl"
           }
          ],
          "scatterternary": [
           {
            "marker": {
             "colorbar": {
              "outlinewidth": 0,
              "ticks": ""
             }
            },
            "type": "scatterternary"
           }
          ],
          "surface": [
           {
            "colorbar": {
             "outlinewidth": 0,
             "ticks": ""
            },
            "colorscale": [
             [
              0,
              "#0d0887"
             ],
             [
              0.1111111111111111,
              "#46039f"
             ],
             [
              0.2222222222222222,
              "#7201a8"
             ],
             [
              0.3333333333333333,
              "#9c179e"
             ],
             [
              0.4444444444444444,
              "#bd3786"
             ],
             [
              0.5555555555555556,
              "#d8576b"
             ],
             [
              0.6666666666666666,
              "#ed7953"
             ],
             [
              0.7777777777777778,
              "#fb9f3a"
             ],
             [
              0.8888888888888888,
              "#fdca26"
             ],
             [
              1,
              "#f0f921"
             ]
            ],
            "type": "surface"
           }
          ],
          "table": [
           {
            "cells": {
             "fill": {
              "color": "#EBF0F8"
             },
             "line": {
              "color": "white"
             }
            },
            "header": {
             "fill": {
              "color": "#C8D4E3"
             },
             "line": {
              "color": "white"
             }
            },
            "type": "table"
           }
          ]
         },
         "layout": {
          "annotationdefaults": {
           "arrowcolor": "#2a3f5f",
           "arrowhead": 0,
           "arrowwidth": 1
          },
          "autotypenumbers": "strict",
          "coloraxis": {
           "colorbar": {
            "outlinewidth": 0,
            "ticks": ""
           }
          },
          "colorscale": {
           "diverging": [
            [
             0,
             "#8e0152"
            ],
            [
             0.1,
             "#c51b7d"
            ],
            [
             0.2,
             "#de77ae"
            ],
            [
             0.3,
             "#f1b6da"
            ],
            [
             0.4,
             "#fde0ef"
            ],
            [
             0.5,
             "#f7f7f7"
            ],
            [
             0.6,
             "#e6f5d0"
            ],
            [
             0.7,
             "#b8e186"
            ],
            [
             0.8,
             "#7fbc41"
            ],
            [
             0.9,
             "#4d9221"
            ],
            [
             1,
             "#276419"
            ]
           ],
           "sequential": [
            [
             0,
             "#0d0887"
            ],
            [
             0.1111111111111111,
             "#46039f"
            ],
            [
             0.2222222222222222,
             "#7201a8"
            ],
            [
             0.3333333333333333,
             "#9c179e"
            ],
            [
             0.4444444444444444,
             "#bd3786"
            ],
            [
             0.5555555555555556,
             "#d8576b"
            ],
            [
             0.6666666666666666,
             "#ed7953"
            ],
            [
             0.7777777777777778,
             "#fb9f3a"
            ],
            [
             0.8888888888888888,
             "#fdca26"
            ],
            [
             1,
             "#f0f921"
            ]
           ],
           "sequentialminus": [
            [
             0,
             "#0d0887"
            ],
            [
             0.1111111111111111,
             "#46039f"
            ],
            [
             0.2222222222222222,
             "#7201a8"
            ],
            [
             0.3333333333333333,
             "#9c179e"
            ],
            [
             0.4444444444444444,
             "#bd3786"
            ],
            [
             0.5555555555555556,
             "#d8576b"
            ],
            [
             0.6666666666666666,
             "#ed7953"
            ],
            [
             0.7777777777777778,
             "#fb9f3a"
            ],
            [
             0.8888888888888888,
             "#fdca26"
            ],
            [
             1,
             "#f0f921"
            ]
           ]
          },
          "colorway": [
           "#636efa",
           "#EF553B",
           "#00cc96",
           "#ab63fa",
           "#FFA15A",
           "#19d3f3",
           "#FF6692",
           "#B6E880",
           "#FF97FF",
           "#FECB52"
          ],
          "font": {
           "color": "#2a3f5f"
          },
          "geo": {
           "bgcolor": "white",
           "lakecolor": "white",
           "landcolor": "#E5ECF6",
           "showlakes": true,
           "showland": true,
           "subunitcolor": "white"
          },
          "hoverlabel": {
           "align": "left"
          },
          "hovermode": "closest",
          "mapbox": {
           "style": "light"
          },
          "paper_bgcolor": "white",
          "plot_bgcolor": "#E5ECF6",
          "polar": {
           "angularaxis": {
            "gridcolor": "white",
            "linecolor": "white",
            "ticks": ""
           },
           "bgcolor": "#E5ECF6",
           "radialaxis": {
            "gridcolor": "white",
            "linecolor": "white",
            "ticks": ""
           }
          },
          "scene": {
           "xaxis": {
            "backgroundcolor": "#E5ECF6",
            "gridcolor": "white",
            "gridwidth": 2,
            "linecolor": "white",
            "showbackground": true,
            "ticks": "",
            "zerolinecolor": "white"
           },
           "yaxis": {
            "backgroundcolor": "#E5ECF6",
            "gridcolor": "white",
            "gridwidth": 2,
            "linecolor": "white",
            "showbackground": true,
            "ticks": "",
            "zerolinecolor": "white"
           },
           "zaxis": {
            "backgroundcolor": "#E5ECF6",
            "gridcolor": "white",
            "gridwidth": 2,
            "linecolor": "white",
            "showbackground": true,
            "ticks": "",
            "zerolinecolor": "white"
           }
          },
          "shapedefaults": {
           "line": {
            "color": "#2a3f5f"
           }
          },
          "ternary": {
           "aaxis": {
            "gridcolor": "white",
            "linecolor": "white",
            "ticks": ""
           },
           "baxis": {
            "gridcolor": "white",
            "linecolor": "white",
            "ticks": ""
           },
           "bgcolor": "#E5ECF6",
           "caxis": {
            "gridcolor": "white",
            "linecolor": "white",
            "ticks": ""
           }
          },
          "title": {
           "x": 0.05
          },
          "xaxis": {
           "automargin": true,
           "gridcolor": "white",
           "linecolor": "white",
           "ticks": "",
           "title": {
            "standoff": 15
           },
           "zerolinecolor": "white",
           "zerolinewidth": 2
          },
          "yaxis": {
           "automargin": true,
           "gridcolor": "white",
           "linecolor": "white",
           "ticks": "",
           "title": {
            "standoff": 15
           },
           "zerolinecolor": "white",
           "zerolinewidth": 2
          }
         }
        },
        "xaxis": {
         "title": {
          "text": "Weight in KG"
         }
        }
       }
      }
     },
     "metadata": {},
     "output_type": "display_data"
    }
   ],
   "source": [
    "fig = go.Figure()\n",
    "fig.add_trace(go.Histogram(x=dogs.query('sex == \"male\"')['weight_kg'], name='Male', hovertext=dogs.query('sex == \"male\"')['dog.id']))\n",
    "fig.add_trace(go.Histogram(x=dogs.query('sex == \"female\"')['weight_kg'], name='Female',  hovertext=dogs.query('sex == \"female\"')['dog.id']))\n",
    "\n",
    "# Overlay both histograms\n",
    "fig.update_layout(barmode='overlay', xaxis_title='Weight in KG')\n",
    "# Reduce opacity to see both histograms\n",
    "fig.update_traces(opacity=0.75)\n",
    "fig.show()"
   ]
  },
  {
   "cell_type": "code",
   "execution_count": 8,
   "id": "95457fac",
   "metadata": {},
   "outputs": [
    {
     "data": {
      "text/html": [
       "<div>\n",
       "<style scoped>\n",
       "    .dataframe tbody tr th:only-of-type {\n",
       "        vertical-align: middle;\n",
       "    }\n",
       "\n",
       "    .dataframe tbody tr th {\n",
       "        vertical-align: top;\n",
       "    }\n",
       "\n",
       "    .dataframe thead th {\n",
       "        text-align: right;\n",
       "    }\n",
       "</style>\n",
       "<table border=\"1\" class=\"dataframe\">\n",
       "  <thead>\n",
       "    <tr style=\"text-align: right;\">\n",
       "      <th></th>\n",
       "      <th>dog.id</th>\n",
       "      <th>variable</th>\n",
       "      <th>value</th>\n",
       "    </tr>\n",
       "  </thead>\n",
       "  <tbody>\n",
       "    <tr>\n",
       "      <th>0</th>\n",
       "      <td>1</td>\n",
       "      <td>Noise.sensitivity_age</td>\n",
       "      <td>14.241650</td>\n",
       "    </tr>\n",
       "    <tr>\n",
       "      <th>1</th>\n",
       "      <td>2</td>\n",
       "      <td>Noise.sensitivity_age</td>\n",
       "      <td>8.693866</td>\n",
       "    </tr>\n",
       "    <tr>\n",
       "      <th>2</th>\n",
       "      <td>3</td>\n",
       "      <td>Noise.sensitivity_age</td>\n",
       "      <td>1.992701</td>\n",
       "    </tr>\n",
       "    <tr>\n",
       "      <th>3</th>\n",
       "      <td>4</td>\n",
       "      <td>Noise.sensitivity_age</td>\n",
       "      <td>5.405751</td>\n",
       "    </tr>\n",
       "    <tr>\n",
       "      <th>4</th>\n",
       "      <td>5</td>\n",
       "      <td>Noise.sensitivity_age</td>\n",
       "      <td>3.875205</td>\n",
       "    </tr>\n",
       "    <tr>\n",
       "      <th>...</th>\n",
       "      <td>...</td>\n",
       "      <td>...</td>\n",
       "      <td>...</td>\n",
       "    </tr>\n",
       "    <tr>\n",
       "      <th>107592</th>\n",
       "      <td>15367</td>\n",
       "      <td>Personality_age</td>\n",
       "      <td>4.515599</td>\n",
       "    </tr>\n",
       "    <tr>\n",
       "      <th>107593</th>\n",
       "      <td>15368</td>\n",
       "      <td>Personality_age</td>\n",
       "      <td>3.025325</td>\n",
       "    </tr>\n",
       "    <tr>\n",
       "      <th>107594</th>\n",
       "      <td>15369</td>\n",
       "      <td>Personality_age</td>\n",
       "      <td>5.315693</td>\n",
       "    </tr>\n",
       "    <tr>\n",
       "      <th>107595</th>\n",
       "      <td>15370</td>\n",
       "      <td>Personality_age</td>\n",
       "      <td>1.447332</td>\n",
       "    </tr>\n",
       "    <tr>\n",
       "      <th>107596</th>\n",
       "      <td>15371</td>\n",
       "      <td>Personality_age</td>\n",
       "      <td>NaN</td>\n",
       "    </tr>\n",
       "  </tbody>\n",
       "</table>\n",
       "<p>107597 rows × 3 columns</p>\n",
       "</div>"
      ],
      "text/plain": [
       "        dog.id               variable      value\n",
       "0            1  Noise.sensitivity_age  14.241650\n",
       "1            2  Noise.sensitivity_age   8.693866\n",
       "2            3  Noise.sensitivity_age   1.992701\n",
       "3            4  Noise.sensitivity_age   5.405751\n",
       "4            5  Noise.sensitivity_age   3.875205\n",
       "...        ...                    ...        ...\n",
       "107592   15367        Personality_age   4.515599\n",
       "107593   15368        Personality_age   3.025325\n",
       "107594   15369        Personality_age   5.315693\n",
       "107595   15370        Personality_age   1.447332\n",
       "107596   15371        Personality_age        NaN\n",
       "\n",
       "[107597 rows x 3 columns]"
      ]
     },
     "metadata": {},
     "output_type": "display_data"
    },
    {
     "data": {
      "text/plain": [
       "<Axes: xlabel='value', ylabel='Density'>"
      ]
     },
     "execution_count": 8,
     "metadata": {},
     "output_type": "execute_result"
    },
    {
     "data": {
      "image/png": "[encoded data removed]",
      "text/plain": [
       "<Figure size 640x480 with 1 Axes>"
      ]
     },
     "metadata": {},
     "output_type": "display_data"
    }
   ],
   "source": [
    "categories = ['Noise.sensitivity_age',\n",
    "'Fearfulness_age',\n",
    "'Aggression_age',\n",
    "'Surface_age',\n",
    "'Separation_age',\n",
    "'Impulsivity_age',\n",
    "'Personality_age']\n",
    "\n",
    "ages_melt = dogs[categories + ['dog.id']].melt(id_vars='dog.id')\n",
    "display(ages_melt)\n",
    "\n",
    "sns.kdeplot(data=ages_melt, x='value', hue='variable')\n"
   ]
  },
  {
   "cell_type": "code",
   "execution_count": 12,
   "id": "9cb1580c",
   "metadata": {},
   "outputs": [
    {
     "data": {
      "application/vnd.plotly.v1+json": {
       "config": {
        "plotlyServerURL": "https://plot.ly"
       },
       "data": [
        {
         "hovertemplate": "dog.id=1<br>variable=%{x}<br>value=%{y}<extra></extra>",
         "legendgroup": "1",
         "line": {
          "color": "#636efa",
          "dash": "solid"
         },
         "marker": {
          "symbol": "circle"
         },
         "mode": "lines+markers",
         "name": "1",
         "orientation": "v",
         "showlegend": true,
         "type": "scatter",
         "x": [
          "Noise.sensitivity_age",
          "Fearfulness_age",
          "Aggression_age",
          "Surface_age",
          "Separation_age",
          "Impulsivity_age",
          "Personality_age"
         ],
         "xaxis": "x",
         "y": {
          "bdata": "v8J6irl7LECM+wsU41wsQOd/h9zreCxAtsTjBYV3LECM+wsU41wsQOd/h9zreCxAFHEAHs0WLEA=",
          "dtype": "f8"
         },
         "yaxis": "y"
        },
        {
         "hovertemplate": "dog.id=2<br>variable=%{x}<br>value=%{y}<extra></extra>",
         "legendgroup": "2",
         "line": {
          "color": "#EF553B",
          "dash": "solid"
         },
         "marker": {
          "symbol": "circle"
         },
         "mode": "lines+markers",
         "name": "2",
         "orientation": "v",
         "showlegend": true,
         "type": "scatter",
         "x": [
          "Noise.sensitivity_age",
          "Fearfulness_age",
          "Aggression_age",
          "Surface_age",
          "Separation_age",
          "Impulsivity_age",
          "Personality_age"
         ],
         "xaxis": "x",
         "y": {
          "bdata": "kdYYdEJjIUCyy25o9bcgQJHWGHRCYyFAjFtnpCe1IEAAAAAAAAD4f2nszLYz2CBAt7ZGvQ1fIUA=",
          "dtype": "f8"
         },
         "yaxis": "y"
        },
        {
         "hovertemplate": "dog.id=3<br>variable=%{x}<br>value=%{y}<extra></extra>",
         "legendgroup": "3",
         "line": {
          "color": "#00cc96",
          "dash": "solid"
         },
         "marker": {
          "symbol": "circle"
         },
         "mode": "lines+markers",
         "name": "3",
         "orientation": "v",
         "showlegend": true,
         "type": "scatter",
         "x": [
          "Noise.sensitivity_age",
          "Fearfulness_age",
          "Aggression_age",
          "Surface_age",
          "Separation_age",
          "Impulsivity_age",
          "Personality_age"
         ],
         "xaxis": "x",
         "y": {
          "bdata": "kwshKRri/z+TCyEpGuL/P5MLISka4v8/kwshKRri/z+TCyEpGuL/P5MLISka4v8/AAAAAAAA+H8=",
          "dtype": "f8"
         },
         "yaxis": "y"
        },
        {
         "hovertemplate": "dog.id=4<br>variable=%{x}<br>value=%{y}<extra></extra>",
         "legendgroup": "4",
         "line": {
          "color": "#ab63fa",
          "dash": "solid"
         },
         "marker": {
          "symbol": "circle"
         },
         "mode": "lines+markers",
         "name": "4",
         "orientation": "v",
         "showlegend": true,
         "type": "scatter",
         "x": [
          "Noise.sensitivity_age",
          "Fearfulness_age",
          "Aggression_age",
          "Surface_age",
          "Separation_age",
          "Impulsivity_age",
          "Personality_age"
         ],
         "xaxis": "x",
         "y": {
          "bdata": "nB8wI32fFUCcHzAjfZ8VQJwfMCN9nxVAnB8wI32fFUCcHzAjfZ8VQJwfMCN9nxVAAAAAAAAA+H8=",
          "dtype": "f8"
         },
         "yaxis": "y"
        },
        {
         "hovertemplate": "dog.id=5<br>variable=%{x}<br>value=%{y}<extra></extra>",
         "legendgroup": "5",
         "line": {
          "color": "#FFA15A",
          "dash": "solid"
         },
         "marker": {
          "symbol": "circle"
         },
         "mode": "lines+markers",
         "name": "5",
         "orientation": "v",
         "showlegend": true,
         "type": "scatter",
         "x": [
          "Noise.sensitivity_age",
          "Fearfulness_age",
          "Aggression_age",
          "Surface_age",
          "Separation_age",
          "Impulsivity_age",
          "Personality_age"
         ],
         "xaxis": "x",
         "y": {
          "bdata": "RhncnGsAD0Chs67MuQYQQEYZ3JxrAA9AobOuzLkGEEChs67MuQYQQKGzrsy5BhBAobOuzLkGEEA=",
          "dtype": "f8"
         },
         "yaxis": "y"
        },
        {
         "hovertemplate": "dog.id=6<br>variable=%{x}<br>value=%{y}<extra></extra>",
         "legendgroup": "6",
         "line": {
          "color": "#19d3f3",
          "dash": "solid"
         },
         "marker": {
          "symbol": "circle"
         },
         "mode": "lines+markers",
         "name": "6",
         "orientation": "v",
         "showlegend": true,
         "type": "scatter",
         "x": [
          "Noise.sensitivity_age",
          "Fearfulness_age",
          "Aggression_age",
          "Surface_age",
          "Separation_age",
          "Impulsivity_age",
          "Personality_age"
         ],
         "xaxis": "x",
         "y": {
          "bdata": "/NZtoUKF+j/81m2hQoX6Pzgzl6e10fk//NZtoUKF+j+P6y2FChX6P/zWbaFChfo//NZtoUKF+j8=",
          "dtype": "f8"
         },
         "yaxis": "y"
        },
        {
         "hovertemplate": "dog.id=7<br>variable=%{x}<br>value=%{y}<extra></extra>",
         "legendgroup": "7",
         "line": {
          "color": "#FF6692",
          "dash": "solid"
         },
         "marker": {
          "symbol": "circle"
         },
         "mode": "lines+markers",
         "name": "7",
         "orientation": "v",
         "showlegend": true,
         "type": "scatter",
         "x": [
          "Noise.sensitivity_age",
          "Fearfulness_age",
          "Aggression_age",
          "Surface_age",
          "Separation_age",
          "Impulsivity_age",
          "Personality_age"
         ],
         "xaxis": "x",
         "y": {
          "bdata": "boSob1f5JUBuhKhvV/klQG6EqG9X+SVAboSob1f5JUBuhKhvV/klQG6EqG9X+SVAboSob1f5JUA=",
          "dtype": "f8"
         },
         "yaxis": "y"
        },
        {
         "hovertemplate": "dog.id=8<br>variable=%{x}<br>value=%{y}<extra></extra>",
         "legendgroup": "8",
         "line": {
          "color": "#B6E880",
          "dash": "solid"
         },
         "marker": {
          "symbol": "circle"
         },
         "mode": "lines+markers",
         "name": "8",
         "orientation": "v",
         "showlegend": true,
         "type": "scatter",
         "x": [
          "Noise.sensitivity_age",
          "Fearfulness_age",
          "Aggression_age",
          "Surface_age",
          "Separation_age",
          "Impulsivity_age",
          "Personality_age"
         ],
         "xaxis": "x",
         "y": {
          "bdata": "C1wPQBnM4T8LXA9AGczhPzVck1evXu0/Z5sgjM2CAEA1XJNXr17tP8MeYbg9SO0/wx5huD1I7T8=",
          "dtype": "f8"
         },
         "yaxis": "y"
        },
        {
         "hovertemplate": "dog.id=9<br>variable=%{x}<br>value=%{y}<extra></extra>",
         "legendgroup": "9",
         "line": {
          "color": "#FF97FF",
          "dash": "solid"
         },
         "marker": {
          "symbol": "circle"
         },
         "mode": "lines+markers",
         "name": "9",
         "orientation": "v",
         "showlegend": true,
         "type": "scatter",
         "x": [
          "Noise.sensitivity_age",
          "Fearfulness_age",
          "Aggression_age",
          "Surface_age",
          "Separation_age",
          "Impulsivity_age",
          "Personality_age"
         ],
         "xaxis": "x",
         "y": {
          "bdata": "OprU5OqIHkA6mtTk6ogeQDqa1OTqiB5AOprU5OqIHkBgCtyouIseQDqa1OTqiB5AOprU5OqIHkA=",
          "dtype": "f8"
         },
         "yaxis": "y"
        },
        {
         "hovertemplate": "dog.id=10<br>variable=%{x}<br>value=%{y}<extra></extra>",
         "legendgroup": "10",
         "line": {
          "color": "#FECB52",
          "dash": "solid"
         },
         "marker": {
          "symbol": "circle"
         },
         "mode": "lines+markers",
         "name": "10",
         "orientation": "v",
         "showlegend": true,
         "type": "scatter",
         "x": [
          "Noise.sensitivity_age",
          "Fearfulness_age",
          "Aggression_age",
          "Surface_age",
          "Separation_age",
          "Impulsivity_age",
          "Personality_age"
         ],
         "xaxis": "x",
         "y": {
          "bdata": "o76z3QfdHkDILruh1d8eQKO+s90H3R5Ao76z3QfdHkCjvrPdB90eQKO+s90H3R5Ao76z3QfdHkA=",
          "dtype": "f8"
         },
         "yaxis": "y"
        },
        {
         "hovertemplate": "dog.id=11<br>variable=%{x}<br>value=%{y}<extra></extra>",
         "legendgroup": "11",
         "line": {
          "color": "#636efa",
          "dash": "solid"
         },
         "marker": {
          "symbol": "circle"
         },
         "mode": "lines+markers",
         "name": "11",
         "orientation": "v",
         "showlegend": true,
         "type": "scatter",
         "x": [
          "Noise.sensitivity_age",
          "Fearfulness_age",
          "Aggression_age",
          "Surface_age",
          "Separation_age",
          "Impulsivity_age",
          "Personality_age"
         ],
         "xaxis": "x",
         "y": {
          "bdata": "sy2ETmjMIUCzLYROaMwhQLMthE5ozCFAsy2ETmjMIUCzLYROaMwhQLMthE5ozCFAsy2ETmjMIUA=",
          "dtype": "f8"
         },
         "yaxis": "y"
        },
        {
         "hovertemplate": "dog.id=12<br>variable=%{x}<br>value=%{y}<extra></extra>",
         "legendgroup": "12",
         "line": {
          "color": "#EF553B",
          "dash": "solid"
         },
         "marker": {
          "symbol": "circle"
         },
         "mode": "lines+markers",
         "name": "12",
         "orientation": "v",
         "showlegend": true,
         "type": "scatter",
         "x": [
          "Noise.sensitivity_age",
          "Fearfulness_age",
          "Aggression_age",
          "Surface_age",
          "Separation_age",
          "Impulsivity_age",
          "Personality_age"
         ],
         "xaxis": "x",
         "y": {
          "bdata": "B7/pauaJGUAHv+lq5okZQAe/6WrmiRlAB7/pauaJGUAHv+lq5okZQHSX6iC0jBlAdJfqILSMGUA=",
          "dtype": "f8"
         },
         "yaxis": "y"
        },
        {
         "hovertemplate": "dog.id=13<br>variable=%{x}<br>value=%{y}<extra></extra>",
         "legendgroup": "13",
         "line": {
          "color": "#00cc96",
          "dash": "solid"
         },
         "marker": {
          "symbol": "circle"
         },
         "mode": "lines+markers",
         "name": "13",
         "orientation": "v",
         "showlegend": true,
         "type": "scatter",
         "x": [
          "Noise.sensitivity_age",
          "Fearfulness_age",
          "Aggression_age",
          "Surface_age",
          "Separation_age",
          "Impulsivity_age",
          "Personality_age"
         ],
         "xaxis": "x",
         "y": {
          "bdata": "NhrzTMVyHUA2GvNMxXIdQDYa80zFch1ANhrzTMVyHUA2GvNMxXIdQDYa80zFch1ANhrzTMVyHUA=",
          "dtype": "f8"
         },
         "yaxis": "y"
        },
        {
         "hovertemplate": "dog.id=14<br>variable=%{x}<br>value=%{y}<extra></extra>",
         "legendgroup": "14",
         "line": {
          "color": "#ab63fa",
          "dash": "solid"
         },
         "marker": {
          "symbol": "circle"
         },
         "mode": "lines+markers",
         "name": "14",
         "orientation": "v",
         "showlegend": true,
         "type": "scatter",
         "x": [
          "Noise.sensitivity_age",
          "Fearfulness_age",
          "Aggression_age",
          "Surface_age",
          "Separation_age",
          "Impulsivity_age",
          "Personality_age"
         ],
         "xaxis": "x",
         "y": {
          "bdata": "TA08ELwIKEAAAAAAAAD4fwAAAAAAAPh/AAAAAAAA+H8AAAAAAAD4fwAAAAAAAPh/AAAAAAAA+H8=",
          "dtype": "f8"
         },
         "yaxis": "y"
        },
        {
         "hovertemplate": "dog.id=15<br>variable=%{x}<br>value=%{y}<extra></extra>",
         "legendgroup": "15",
         "line": {
          "color": "#FFA15A",
          "dash": "solid"
         },
         "marker": {
          "symbol": "circle"
         },
         "mode": "lines+markers",
         "name": "15",
         "orientation": "v",
         "showlegend": true,
         "type": "scatter",
         "x": [
          "Noise.sensitivity_age",
          "Fearfulness_age",
          "Aggression_age",
          "Surface_age",
          "Separation_age",
          "Impulsivity_age",
          "Personality_age"
         ],
         "xaxis": "x",
         "y": {
          "bdata": "vU/Z2SV2HUC9T9nZJXYdQL1P2dkldh1AvU/Z2SV2HUC9T9nZJXYdQL1P2dkldh1AvU/Z2SV2HUA=",
          "dtype": "f8"
         },
         "yaxis": "y"
        },
        {
         "hovertemplate": "dog.id=16<br>variable=%{x}<br>value=%{y}<extra></extra>",
         "legendgroup": "16",
         "line": {
          "color": "#19d3f3",
          "dash": "solid"
         },
         "marker": {
          "symbol": "circle"
         },
         "mode": "lines+markers",
         "name": "16",
         "orientation": "v",
         "showlegend": true,
         "type": "scatter",
         "x": [
          "Noise.sensitivity_age",
          "Fearfulness_age",
          "Aggression_age",
          "Surface_age",
          "Separation_age",
          "Impulsivity_age",
          "Personality_age"
         ],
         "xaxis": "x",
         "y": {
          "bdata": "VNxYU9AIGEBU3FhT0AgYQFTcWFPQCBhAVNxYU9AIGEBU3FhT0AgYQFTcWFPQCBhAVNxYU9AIGEA=",
          "dtype": "f8"
         },
         "yaxis": "y"
        },
        {
         "hovertemplate": "dog.id=17<br>variable=%{x}<br>value=%{y}<extra></extra>",
         "legendgroup": "17",
         "line": {
          "color": "#FF6692",
          "dash": "solid"
         },
         "marker": {
          "symbol": "circle"
         },
         "mode": "lines+markers",
         "name": "17",
         "orientation": "v",
         "showlegend": true,
         "type": "scatter",
         "x": [
          "Noise.sensitivity_age",
          "Fearfulness_age",
          "Aggression_age",
          "Surface_age",
          "Separation_age",
          "Impulsivity_age",
          "Personality_age"
         ],
         "xaxis": "x",
         "y": {
          "bdata": "zo7QplXAJEDOjtCmVcAkQM6O0KZVwCRAzo7QplXAJEDOjtCmVcAkQC8JYX8jwyRALwlhfyPDJEA=",
          "dtype": "f8"
         },
         "yaxis": "y"
        },
        {
         "hovertemplate": "dog.id=18<br>variable=%{x}<br>value=%{y}<extra></extra>",
         "legendgroup": "18",
         "line": {
          "color": "#B6E880",
          "dash": "solid"
         },
         "marker": {
          "symbol": "circle"
         },
         "mode": "lines+markers",
         "name": "18",
         "orientation": "v",
         "showlegend": true,
         "type": "scatter",
         "x": [
          "Noise.sensitivity_age",
          "Fearfulness_age",
          "Aggression_age",
          "Surface_age",
          "Separation_age",
          "Impulsivity_age",
          "Personality_age"
         ],
         "xaxis": "x",
         "y": {
          "bdata": "KrgTfSK1EkAAAAAAAAD4f3ZqKX5ePxJAAAAAAAAA+H8AAAAAAAD4fwAAAAAAAPh/AAAAAAAA+H8=",
          "dtype": "f8"
         },
         "yaxis": "y"
        },
        {
         "hovertemplate": "dog.id=19<br>variable=%{x}<br>value=%{y}<extra></extra>",
         "legendgroup": "19",
         "line": {
          "color": "#FF97FF",
          "dash": "solid"
         },
         "marker": {
          "symbol": "circle"
         },
         "mode": "lines+markers",
         "name": "19",
         "orientation": "v",
         "showlegend": true,
         "type": "scatter",
         "x": [
          "Noise.sensitivity_age",
          "Fearfulness_age",
          "Aggression_age",
          "Surface_age",
          "Separation_age",
          "Impulsivity_age",
          "Personality_age"
         ],
         "xaxis": "x",
         "y": {
          "bdata": "yNeHvZxBIUDI14e9nEEhQMjXh72cQSFAyNeHvZxBIUDI14e9nEEhQAAAAAAAAPh/yNeHvZxBIUA=",
          "dtype": "f8"
         },
         "yaxis": "y"
        },
        {
         "hovertemplate": "dog.id=20<br>variable=%{x}<br>value=%{y}<extra></extra>",
         "legendgroup": "20",
         "line": {
          "color": "#FECB52",
          "dash": "solid"
         },
         "marker": {
          "symbol": "circle"
         },
         "mode": "lines+markers",
         "name": "20",
         "orientation": "v",
         "showlegend": true,
         "type": "scatter",
         "x": [
          "Noise.sensitivity_age",
          "Fearfulness_age",
          "Aggression_age",
          "Surface_age",
          "Separation_age",
          "Impulsivity_age",
          "Personality_age"
         ],
         "xaxis": "x",
         "y": {
          "bdata": "pj0HkWoKFkCmPQeRagoWQKY9B5FqChZApj0HkWoKFkCmPQeRagoWQKY9B5FqChZA1McRpZwHFkA=",
          "dtype": "f8"
         },
         "yaxis": "y"
        },
        {
         "hovertemplate": "dog.id=21<br>variable=%{x}<br>value=%{y}<extra></extra>",
         "legendgroup": "21",
         "line": {
          "color": "#636efa",
          "dash": "solid"
         },
         "marker": {
          "symbol": "circle"
         },
         "mode": "lines+markers",
         "name": "21",
         "orientation": "v",
         "showlegend": true,
         "type": "scatter",
         "x": [
          "Noise.sensitivity_age",
          "Fearfulness_age",
          "Aggression_age",
          "Surface_age",
          "Separation_age",
          "Impulsivity_age",
          "Personality_age"
         ],
         "xaxis": "x",
         "y": {
          "bdata": "1QuUzYJqFUAAAAAAAAD4fwAAAAAAAPh/AAAAAAAA+H8AAAAAAAD4fwAAAAAAAPh/XELgdtg8D0A=",
          "dtype": "f8"
         },
         "yaxis": "y"
        },
        {
         "hovertemplate": "dog.id=22<br>variable=%{x}<br>value=%{y}<extra></extra>",
         "legendgroup": "22",
         "line": {
          "color": "#EF553B",
          "dash": "solid"
         },
         "marker": {
          "symbol": "circle"
         },
         "mode": "lines+markers",
         "name": "22",
         "orientation": "v",
         "showlegend": true,
         "type": "scatter",
         "x": [
          "Noise.sensitivity_age",
          "Fearfulness_age",
          "Aggression_age",
          "Surface_age",
          "Separation_age",
          "Impulsivity_age",
          "Personality_age"
         ],
         "xaxis": "x",
         "y": {
          "bdata": "EF12ptVyGUAQXXam1XIZQBBddqbVchlAEF12ptVyGUAQXXam1XIZQBBddqbVchlA1Y+rYyVAFUA=",
          "dtype": "f8"
         },
         "yaxis": "y"
        },
        {
         "hovertemplate": "dog.id=23<br>variable=%{x}<br>value=%{y}<extra></extra>",
         "legendgroup": "23",
         "line": {
          "color": "#00cc96",
          "dash": "solid"
         },
         "marker": {
          "symbol": "circle"
         },
         "mode": "lines+markers",
         "name": "23",
         "orientation": "v",
         "showlegend": true,
         "type": "scatter",
         "x": [
          "Noise.sensitivity_age",
          "Fearfulness_age",
          "Aggression_age",
          "Surface_age",
          "Separation_age",
          "Impulsivity_age",
          "Personality_age"
         ],
         "xaxis": "x",
         "y": {
          "bdata": "eHhvD7msIkB4eG8PuawiQAAAAAAAAPh/AAAAAAAA+H8AAAAAAAD4fwAAAAAAAPh/AAAAAAAA+H8=",
          "dtype": "f8"
         },
         "yaxis": "y"
        },
        {
         "hovertemplate": "dog.id=24<br>variable=%{x}<br>value=%{y}<extra></extra>",
         "legendgroup": "24",
         "line": {
          "color": "#ab63fa",
          "dash": "solid"
         },
         "marker": {
          "symbol": "circle"
         },
         "mode": "lines+markers",
         "name": "24",
         "orientation": "v",
         "showlegend": true,
         "type": "scatter",
         "x": [
          "Noise.sensitivity_age",
          "Fearfulness_age",
          "Aggression_age",
          "Surface_age",
          "Separation_age",
          "Impulsivity_age",
          "Personality_age"
         ],
         "xaxis": "x",
         "y": {
          "bdata": "bVCqZp6YBUBtUKpmnpgFQG1QqmaemAVAbVCqZp6YBUBtUKpmnpgFQG1QqmaemAVAAAAAAAAA+H8=",
          "dtype": "f8"
         },
         "yaxis": "y"
        },
        {
         "hovertemplate": "dog.id=25<br>variable=%{x}<br>value=%{y}<extra></extra>",
         "legendgroup": "25",
         "line": {
          "color": "#FFA15A",
          "dash": "solid"
         },
         "marker": {
          "symbol": "circle"
         },
         "mode": "lines+markers",
         "name": "25",
         "orientation": "v",
         "showlegend": true,
         "type": "scatter",
         "x": [
          "Noise.sensitivity_age",
          "Fearfulness_age",
          "Aggression_age",
          "Surface_age",
          "Separation_age",
          "Impulsivity_age",
          "Personality_age"
         ],
         "xaxis": "x",
         "y": {
          "bdata": "WLF0Fb05JEAAAAAAAAD4fwAAAAAAAPh/AAAAAAAA+H8AAAAAAAD4fwAAAAAAAPh/Ze2l33TxJkA=",
          "dtype": "f8"
         },
         "yaxis": "y"
        },
        {
         "hovertemplate": "dog.id=26<br>variable=%{x}<br>value=%{y}<extra></extra>",
         "legendgroup": "26",
         "line": {
          "color": "#19d3f3",
          "dash": "solid"
         },
         "marker": {
          "symbol": "circle"
         },
         "mode": "lines+markers",
         "name": "26",
         "orientation": "v",
         "showlegend": true,
         "type": "scatter",
         "x": [
          "Noise.sensitivity_age",
          "Fearfulness_age",
          "Aggression_age",
          "Surface_age",
          "Separation_age",
          "Impulsivity_age",
          "Personality_age"
         ],
         "xaxis": "x",
         "y": {
          "bdata": "QwSdwqovDkBDBJ3Cqi8OQEMEncKqLw5AQwSdwqovDkBDBJ3Cqi8OQEMEncKqLw5ABuLkmtzhC0A=",
          "dtype": "f8"
         },
         "yaxis": "y"
        },
        {
         "hovertemplate": "dog.id=27<br>variable=%{x}<br>value=%{y}<extra></extra>",
         "legendgroup": "27",
         "line": {
          "color": "#FF6692",
          "dash": "solid"
         },
         "marker": {
          "symbol": "circle"
         },
         "mode": "lines+markers",
         "name": "27",
         "orientation": "v",
         "showlegend": true,
         "type": "scatter",
         "x": [
          "Noise.sensitivity_age",
          "Fearfulness_age",
          "Aggression_age",
          "Surface_age",
          "Separation_age",
          "Impulsivity_age",
          "Personality_age"
         ],
         "xaxis": "x",
         "y": {
          "bdata": "bchl+iphIEBtyGX6KmEgQG3IZfoqYSBAbchl+iphIEBtyGX6KmEgQG3IZfoqYSBALvatwqXWG0A=",
          "dtype": "f8"
         },
         "yaxis": "y"
        },
        {
         "hovertemplate": "dog.id=28<br>variable=%{x}<br>value=%{y}<extra></extra>",
         "legendgroup": "28",
         "line": {
          "color": "#B6E880",
          "dash": "solid"
         },
         "marker": {
          "symbol": "circle"
         },
         "mode": "lines+markers",
         "name": "28",
         "orientation": "v",
         "showlegend": true,
         "type": "scatter",
         "x": [
          "Noise.sensitivity_age",
          "Fearfulness_age",
          "Aggression_age",
          "Surface_age",
          "Separation_age",
          "Impulsivity_age",
          "Personality_age"
         ],
         "xaxis": "x",
         "y": {
          "bdata": "qR47OHDg8D+pHjs4cODwP6keOzhw4PA/qR47OHDg8D+pHjs4cODwP6keOzhw4PA/8P+haDfV8D8=",
          "dtype": "f8"
         },
         "yaxis": "y"
        },
        {
         "hovertemplate": "dog.id=29<br>variable=%{x}<br>value=%{y}<extra></extra>",
         "legendgroup": "29",
         "line": {
          "color": "#FF97FF",
          "dash": "solid"
         },
         "marker": {
          "symbol": "circle"
         },
         "mode": "lines+markers",
         "name": "29",
         "orientation": "v",
         "showlegend": true,
         "type": "scatter",
         "x": [
          "Noise.sensitivity_age",
          "Fearfulness_age",
          "Aggression_age",
          "Surface_age",
          "Separation_age",
          "Impulsivity_age",
          "Personality_age"
         ],
         "xaxis": "x",
         "y": {
          "bdata": "ELzl4FVPF0AQvOXgVU8XQBC85eBVTxdAELzl4FVPF0AAAAAAAAD4fxC85eBVTxdAELzl4FVPF0A=",
          "dtype": "f8"
         },
         "yaxis": "y"
        },
        {
         "hovertemplate": "dog.id=30<br>variable=%{x}<br>value=%{y}<extra></extra>",
         "legendgroup": "30",
         "line": {
          "color": "#FECB52",
          "dash": "solid"
         },
         "marker": {
          "symbol": "circle"
         },
         "mode": "lines+markers",
         "name": "30",
         "orientation": "v",
         "showlegend": true,
         "type": "scatter",
         "x": [
          "Noise.sensitivity_age",
          "Fearfulness_age",
          "Aggression_age",
          "Surface_age",
          "Separation_age",
          "Impulsivity_age",
          "Personality_age"
         ],
         "xaxis": "x",
         "y": {
          "bdata": "GiR6orYBIED5cAjW6lUiQPlwCNbqVSJA+XAI1upVIkAaJHqitgEgQPlwCNbqVSJA+XAI1upVIkA=",
          "dtype": "f8"
         },
         "yaxis": "y"
        },
        {
         "hovertemplate": "dog.id=31<br>variable=%{x}<br>value=%{y}<extra></extra>",
         "legendgroup": "31",
         "line": {
          "color": "#636efa",
          "dash": "solid"
         },
         "marker": {
          "symbol": "circle"
         },
         "mode": "lines+markers",
         "name": "31",
         "orientation": "v",
         "showlegend": true,
         "type": "scatter",
         "x": [
          "Noise.sensitivity_age",
          "Fearfulness_age",
          "Aggression_age",
          "Surface_age",
          "Separation_age",
          "Impulsivity_age",
          "Personality_age"
         ],
         "xaxis": "x",
         "y": {
          "bdata": "AJ32UoDvJ0AAnfZSgO8nQACd9lKA7ydAAJ32UoDvJ0AAnfZSgO8nQACd9lKA7ydAAJ32UoDvJ0A=",
          "dtype": "f8"
         },
         "yaxis": "y"
        },
        {
         "hovertemplate": "dog.id=32<br>variable=%{x}<br>value=%{y}<extra></extra>",
         "legendgroup": "32",
         "line": {
          "color": "#EF553B",
          "dash": "solid"
         },
         "marker": {
          "symbol": "circle"
         },
         "mode": "lines+markers",
         "name": "32",
         "orientation": "v",
         "showlegend": true,
         "type": "scatter",
         "x": [
          "Noise.sensitivity_age",
          "Fearfulness_age",
          "Aggression_age",
          "Surface_age",
          "Separation_age",
          "Impulsivity_age",
          "Personality_age"
         ],
         "xaxis": "x",
         "y": {
          "bdata": "yeXNTveuIUDJ5c1O964hQMnlzU73riFAyeXNTveuIUDJ5c1O964hQMnlzU73riFArcgBHsWxIUA=",
          "dtype": "f8"
         },
         "yaxis": "y"
        },
        {
         "hovertemplate": "dog.id=33<br>variable=%{x}<br>value=%{y}<extra></extra>",
         "legendgroup": "33",
         "line": {
          "color": "#00cc96",
          "dash": "solid"
         },
         "marker": {
          "symbol": "circle"
         },
         "mode": "lines+markers",
         "name": "33",
         "orientation": "v",
         "showlegend": true,
         "type": "scatter",
         "x": [
          "Noise.sensitivity_age",
          "Fearfulness_age",
          "Aggression_age",
          "Surface_age",
          "Separation_age",
          "Impulsivity_age",
          "Personality_age"
         ],
         "xaxis": "x",
         "y": {
          "bdata": "+deAdQ3QCkD514B1DdAKQPnXgHUN0ApA+deAdQ3QCkD514B1DdAKQPnXgHUN0ApA+deAdQ3QCkA=",
          "dtype": "f8"
         },
         "yaxis": "y"
        },
        {
         "hovertemplate": "dog.id=34<br>variable=%{x}<br>value=%{y}<extra></extra>",
         "legendgroup": "34",
         "line": {
          "color": "#ab63fa",
          "dash": "solid"
         },
         "marker": {
          "symbol": "circle"
         },
         "mode": "lines+markers",
         "name": "34",
         "orientation": "v",
         "showlegend": true,
         "type": "scatter",
         "x": [
          "Noise.sensitivity_age",
          "Fearfulness_age",
          "Aggression_age",
          "Surface_age",
          "Separation_age",
          "Impulsivity_age",
          "Personality_age"
         ],
         "xaxis": "x",
         "y": {
          "bdata": "INFxJoc+E0Ag0XEmhz4TQKK/fCS4qBRAINFxJoc+E0Ag0XEmhz4TQCDRcSaHPhNAINFxJoc+E0A=",
          "dtype": "f8"
         },
         "yaxis": "y"
        },
        {
         "hovertemplate": "dog.id=35<br>variable=%{x}<br>value=%{y}<extra></extra>",
         "legendgroup": "35",
         "line": {
          "color": "#FFA15A",
          "dash": "solid"
         },
         "marker": {
          "symbol": "circle"
         },
         "mode": "lines+markers",
         "name": "35",
         "orientation": "v",
         "showlegend": true,
         "type": "scatter",
         "x": [
          "Noise.sensitivity_age",
          "Fearfulness_age",
          "Aggression_age",
          "Surface_age",
          "Separation_age",
          "Impulsivity_age",
          "Personality_age"
         ],
         "xaxis": "x",
         "y": {
          "bdata": "AAAAAAAA+H8AAAAAAAD4f8I/HlphcxhAAAAAAAAA+H/CPx5aYXMYQMI/HlphcxhAwj8eWmFzGEA=",
          "dtype": "f8"
         },
         "yaxis": "y"
        },
        {
         "hovertemplate": "dog.id=36<br>variable=%{x}<br>value=%{y}<extra></extra>",
         "legendgroup": "36",
         "line": {
          "color": "#19d3f3",
          "dash": "solid"
         },
         "marker": {
          "symbol": "circle"
         },
         "mode": "lines+markers",
         "name": "36",
         "orientation": "v",
         "showlegend": true,
         "type": "scatter",
         "x": [
          "Noise.sensitivity_age",
          "Fearfulness_age",
          "Aggression_age",
          "Surface_age",
          "Separation_age",
          "Impulsivity_age",
          "Personality_age"
         ],
         "xaxis": "x",
         "y": {
          "bdata": "Sh6og1c9FUBKHqiDVz0VQAAAAAAAAPh/AAAAAAAA+H8AAAAAAAD4fwAAAAAAAPh/AAAAAAAA+H8=",
          "dtype": "f8"
         },
         "yaxis": "y"
        },
        {
         "hovertemplate": "dog.id=37<br>variable=%{x}<br>value=%{y}<extra></extra>",
         "legendgroup": "37",
         "line": {
          "color": "#FF6692",
          "dash": "solid"
         },
         "marker": {
          "symbol": "circle"
         },
         "mode": "lines+markers",
         "name": "37",
         "orientation": "v",
         "showlegend": true,
         "type": "scatter",
         "x": [
          "Noise.sensitivity_age",
          "Fearfulness_age",
          "Aggression_age",
          "Surface_age",
          "Separation_age",
          "Impulsivity_age",
          "Personality_age"
         ],
         "xaxis": "x",
         "y": {
          "bdata": "BejOfmp5K0AF6M5+ankrQAXozn5qeStABejOfmp5K0AF6M5+ankrQAXozn5qeStABejOfmp5K0A=",
          "dtype": "f8"
         },
         "yaxis": "y"
        },
        {
         "hovertemplate": "dog.id=38<br>variable=%{x}<br>value=%{y}<extra></extra>",
         "legendgroup": "38",
         "line": {
          "color": "#B6E880",
          "dash": "solid"
         },
         "marker": {
          "symbol": "circle"
         },
         "mode": "lines+markers",
         "name": "38",
         "orientation": "v",
         "showlegend": true,
         "type": "scatter",
         "x": [
          "Noise.sensitivity_age",
          "Fearfulness_age",
          "Aggression_age",
          "Surface_age",
          "Separation_age",
          "Impulsivity_age",
          "Personality_age"
         ],
         "xaxis": "x",
         "y": {
          "bdata": "eOs5P3786D946zk/fvzoP3jrOT9+/Og/eOs5P3786D8M18s4C7DpPwzXyzgLsOk/eOs5P3786D8=",
          "dtype": "f8"
         },
         "yaxis": "y"
        },
        {
         "hovertemplate": "dog.id=39<br>variable=%{x}<br>value=%{y}<extra></extra>",
         "legendgroup": "39",
         "line": {
          "color": "#FF97FF",
          "dash": "solid"
         },
         "marker": {
          "symbol": "circle"
         },
         "mode": "lines+markers",
         "name": "39",
         "orientation": "v",
         "showlegend": true,
         "type": "scatter",
         "x": [
          "Noise.sensitivity_age",
          "Fearfulness_age",
          "Aggression_age",
          "Surface_age",
          "Separation_age",
          "Impulsivity_age",
          "Personality_age"
         ],
         "xaxis": "x",
         "y": {
          "bdata": "NJ+1070rIkA0n7XTvSsiQDSftdO9KyJANJ+1070rIkA0n7XTvSsiQDSftdO9KyJANJ+1070rIkA=",
          "dtype": "f8"
         },
         "yaxis": "y"
        },
        {
         "hovertemplate": "dog.id=40<br>variable=%{x}<br>value=%{y}<extra></extra>",
         "legendgroup": "40",
         "line": {
          "color": "#FECB52",
          "dash": "solid"
         },
         "marker": {
          "symbol": "circle"
         },
         "mode": "lines+markers",
         "name": "40",
         "orientation": "v",
         "showlegend": true,
         "type": "scatter",
         "x": [
          "Noise.sensitivity_age",
          "Fearfulness_age",
          "Aggression_age",
          "Surface_age",
          "Separation_age",
          "Impulsivity_age",
          "Personality_age"
         ],
         "xaxis": "x",
         "y": {
          "bdata": "PqkulNdQHkA+qS6U11AeQD6pLpTXUB5APqkulNdQHkA+qS6U11AeQD6pLpTXUB5APqkulNdQHkA=",
          "dtype": "f8"
         },
         "yaxis": "y"
        },
        {
         "hovertemplate": "dog.id=41<br>variable=%{x}<br>value=%{y}<extra></extra>",
         "legendgroup": "41",
         "line": {
          "color": "#636efa",
          "dash": "solid"
         },
         "marker": {
          "symbol": "circle"
         },
         "mode": "lines+markers",
         "name": "41",
         "orientation": "v",
         "showlegend": true,
         "type": "scatter",
         "x": [
          "Noise.sensitivity_age",
          "Fearfulness_age",
          "Aggression_age",
          "Surface_age",
          "Separation_age",
          "Impulsivity_age",
          "Personality_age"
         ],
         "xaxis": "x",
         "y": {
          "bdata": "vJs35ibaB0C8mzfmJtoHQLybN+Ym2gdAvJs35ibaB0C8mzfmJtoHQLybN+Ym2gdAvJs35ibaB0A=",
          "dtype": "f8"
         },
         "yaxis": "y"
        },
        {
         "hovertemplate": "dog.id=42<br>variable=%{x}<br>value=%{y}<extra></extra>",
         "legendgroup": "42",
         "line": {
          "color": "#EF553B",
          "dash": "solid"
         },
         "marker": {
          "symbol": "circle"
         },
         "mode": "lines+markers",
         "name": "42",
         "orientation": "v",
         "showlegend": true,
         "type": "scatter",
         "x": [
          "Noise.sensitivity_age",
          "Fearfulness_age",
          "Aggression_age",
          "Surface_age",
          "Separation_age",
          "Impulsivity_age",
          "Personality_age"
         ],
         "xaxis": "x",
         "y": {
          "bdata": "WJ7kZ1MUDEBYnuRnUxQMQFie5GdTFAxAAAAAAAAA+H8AAAAAAAD4fwAAAAAAAPh/AAAAAAAA+H8=",
          "dtype": "f8"
         },
         "yaxis": "y"
        },
        {
         "hovertemplate": "dog.id=43<br>variable=%{x}<br>value=%{y}<extra></extra>",
         "legendgroup": "43",
         "line": {
          "color": "#00cc96",
          "dash": "solid"
         },
         "marker": {
          "symbol": "circle"
         },
         "mode": "lines+markers",
         "name": "43",
         "orientation": "v",
         "showlegend": true,
         "type": "scatter",
         "x": [
          "Noise.sensitivity_age",
          "Fearfulness_age",
          "Aggression_age",
          "Surface_age",
          "Separation_age",
          "Impulsivity_age",
          "Personality_age"
         ],
         "xaxis": "x",
         "y": {
          "bdata": "qhcomwXVAkCqFyibBdUCQKoXKJsF1QJAqhcomwXVAkCqFyibBdUCQKoXKJsF1QJAAagNR4qGBUA=",
          "dtype": "f8"
         },
         "yaxis": "y"
        },
        {
         "hovertemplate": "dog.id=44<br>variable=%{x}<br>value=%{y}<extra></extra>",
         "legendgroup": "44",
         "line": {
          "color": "#ab63fa",
          "dash": "solid"
         },
         "marker": {
          "symbol": "circle"
         },
         "mode": "lines+markers",
         "name": "44",
         "orientation": "v",
         "showlegend": true,
         "type": "scatter",
         "x": [
          "Noise.sensitivity_age",
          "Fearfulness_age",
          "Aggression_age",
          "Surface_age",
          "Separation_age",
          "Impulsivity_age",
          "Personality_age"
         ],
         "xaxis": "x",
         "y": {
          "bdata": "BgHMkaIhAkAGAcyRoiECQAYBzJGiIQJABgHMkaIhAkAGAcyRoiECQAYBzJGiIQJABgHMkaIhAkA=",
          "dtype": "f8"
         },
         "yaxis": "y"
        },
        {
         "hovertemplate": "dog.id=45<br>variable=%{x}<br>value=%{y}<extra></extra>",
         "legendgroup": "45",
         "line": {
          "color": "#FFA15A",
          "dash": "solid"
         },
         "marker": {
          "symbol": "circle"
         },
         "mode": "lines+markers",
         "name": "45",
         "orientation": "v",
         "showlegend": true,
         "type": "scatter",
         "x": [
          "Noise.sensitivity_age",
          "Fearfulness_age",
          "Aggression_age",
          "Surface_age",
          "Separation_age",
          "Impulsivity_age",
          "Personality_age"
         ],
         "xaxis": "x",
         "y": {
          "bdata": "d6NSlmhbEkB3o1KWaFsSQAAAAAAAAPh/AAAAAAAA+H93o1KWaFsSQAAAAAAAAPh/AAAAAAAA+H8=",
          "dtype": "f8"
         },
         "yaxis": "y"
        },
        {
         "hovertemplate": "dog.id=46<br>variable=%{x}<br>value=%{y}<extra></extra>",
         "legendgroup": "46",
         "line": {
          "color": "#19d3f3",
          "dash": "solid"
         },
         "marker": {
          "symbol": "circle"
         },
         "mode": "lines+markers",
         "name": "46",
         "orientation": "v",
         "showlegend": true,
         "type": "scatter",
         "x": [
          "Noise.sensitivity_age",
          "Fearfulness_age",
          "Aggression_age",
          "Surface_age",
          "Separation_age",
          "Impulsivity_age",
          "Personality_age"
         ],
         "xaxis": "x",
         "y": {
          "bdata": "SgOdG2M/8T9KA50bYz/xP0oDnRtjP/E/SgOdG2M/8T9KA50bYz/xP0oDnRtjP/E/SgOdG2M/8T8=",
          "dtype": "f8"
         },
         "yaxis": "y"
        },
        {
         "hovertemplate": "dog.id=47<br>variable=%{x}<br>value=%{y}<extra></extra>",
         "legendgroup": "47",
         "line": {
          "color": "#FF6692",
          "dash": "solid"
         },
         "marker": {
          "symbol": "circle"
         },
         "mode": "lines+markers",
         "name": "47",
         "orientation": "v",
         "showlegend": true,
         "type": "scatter",
         "x": [
          "Noise.sensitivity_age",
          "Fearfulness_age",
          "Aggression_age",
          "Surface_age",
          "Separation_age",
          "Impulsivity_age",
          "Personality_age"
         ],
         "xaxis": "x",
         "y": {
          "bdata": "0+UyDUGYE0DT5TINQZgTQNPlMg1BmBNA0+UyDUGYE0DT5TINQZgTQNPlMg1BmBNA0+UyDUGYE0A=",
          "dtype": "f8"
         },
         "yaxis": "y"
        },
        {
         "hovertemplate": "dog.id=48<br>variable=%{x}<br>value=%{y}<extra></extra>",
         "legendgroup": "48",
         "line": {
          "color": "#B6E880",
          "dash": "solid"
         },
         "marker": {
          "symbol": "circle"
         },
         "mode": "lines+markers",
         "name": "48",
         "orientation": "v",
         "showlegend": true,
         "type": "scatter",
         "x": [
          "Noise.sensitivity_age",
          "Fearfulness_age",
          "Aggression_age",
          "Surface_age",
          "Separation_age",
          "Impulsivity_age",
          "Personality_age"
         ],
         "xaxis": "x",
         "y": {
          "bdata": "k3XVj48AEECTddWPjwAQQJN11Y+PABBAWzs9LisGEEBbOz0uKwYQQFs7PS4rBhBAk3XVj48AEEA=",
          "dtype": "f8"
         },
         "yaxis": "y"
        },
        {
         "hovertemplate": "dog.id=49<br>variable=%{x}<br>value=%{y}<extra></extra>",
         "legendgroup": "49",
         "line": {
          "color": "#FF97FF",
          "dash": "solid"
         },
         "marker": {
          "symbol": "circle"
         },
         "mode": "lines+markers",
         "name": "49",
         "orientation": "v",
         "showlegend": true,
         "type": "scatter",
         "x": [
          "Noise.sensitivity_age",
          "Fearfulness_age",
          "Aggression_age",
          "Surface_age",
          "Separation_age",
          "Impulsivity_age",
          "Personality_age"
         ],
         "xaxis": "x",
         "y": {
          "bdata": "+hZK5IrUKUD6FkrkitQpQPoWSuSK1ClA+hZK5IrUKUD6FkrkitQpQPoWSuSK1ClA+hZK5IrUKUA=",
          "dtype": "f8"
         },
         "yaxis": "y"
        },
        {
         "hovertemplate": "dog.id=50<br>variable=%{x}<br>value=%{y}<extra></extra>",
         "legendgroup": "50",
         "line": {
          "color": "#FECB52",
          "dash": "solid"
         },
         "marker": {
          "symbol": "circle"
         },
         "mode": "lines+markers",
         "name": "50",
         "orientation": "v",
         "showlegend": true,
         "type": "scatter",
         "x": [
          "Noise.sensitivity_age",
          "Fearfulness_age",
          "Aggression_age",
          "Surface_age",
          "Separation_age",
          "Impulsivity_age",
          "Personality_age"
         ],
         "xaxis": "x",
         "y": {
          "bdata": "yjwG7OlFHUDKPAbs6UUdQMo8BuzpRR1AyjwG7OlFHUDKPAbs6UUdQMo8BuzpRR1ABp4588SsHkA=",
          "dtype": "f8"
         },
         "yaxis": "y"
        },
        {
         "hovertemplate": "dog.id=51<br>variable=%{x}<br>value=%{y}<extra></extra>",
         "legendgroup": "51",
         "line": {
          "color": "#636efa",
          "dash": "solid"
         },
         "marker": {
          "symbol": "circle"
         },
         "mode": "lines+markers",
         "name": "51",
         "orientation": "v",
         "showlegend": true,
         "type": "scatter",
         "x": [
          "Noise.sensitivity_age",
          "Fearfulness_age",
          "Aggression_age",
          "Surface_age",
          "Separation_age",
          "Impulsivity_age",
          "Personality_age"
         ],
         "xaxis": "x",
         "y": {
          "bdata": "TME7dbysKkBMwTt1vKwqQEzBO3W8rCpATME7dbysKkBMwTt1vKwqQEzBO3W8rCpATME7dbysKkA=",
          "dtype": "f8"
         },
         "yaxis": "y"
        },
        {
         "hovertemplate": "dog.id=52<br>variable=%{x}<br>value=%{y}<extra></extra>",
         "legendgroup": "52",
         "line": {
          "color": "#EF553B",
          "dash": "solid"
         },
         "marker": {
          "symbol": "circle"
         },
         "mode": "lines+markers",
         "name": "52",
         "orientation": "v",
         "showlegend": true,
         "type": "scatter",
         "x": [
          "Noise.sensitivity_age",
          "Fearfulness_age",
          "Aggression_age",
          "Surface_age",
          "Separation_age",
          "Impulsivity_age",
          "Personality_age"
         ],
         "xaxis": "x",
         "y": {
          "bdata": "cBgRNILFF0BwGBE0gsUXQHAYETSCxRdAcBgRNILFF0BwGBE0gsUXQHAYETSCxRdAcBgRNILFF0A=",
          "dtype": "f8"
         },
         "yaxis": "y"
        },
        {
         "hovertemplate": "dog.id=53<br>variable=%{x}<br>value=%{y}<extra></extra>",
         "legendgroup": "53",
         "line": {
          "color": "#00cc96",
          "dash": "solid"
         },
         "marker": {
          "symbol": "circle"
         },
         "mode": "lines+markers",
         "name": "53",
         "orientation": "v",
         "showlegend": true,
         "type": "scatter",
         "x": [
          "Noise.sensitivity_age",
          "Fearfulness_age",
          "Aggression_age",
          "Surface_age",
          "Separation_age",
          "Impulsivity_age",
          "Personality_age"
         ],
         "xaxis": "x",
         "y": {
          "bdata": "CQvilJ3uIkDXZ1IzOfQiQB5Xn4IuSyVA12dSMzn0IkDXZ1IzOfQiQNdnUjM59CJA12dSMzn0IkA=",
          "dtype": "f8"
         },
         "yaxis": "y"
        },
        {
         "hovertemplate": "dog.id=54<br>variable=%{x}<br>value=%{y}<extra></extra>",
         "legendgroup": "54",
         "line": {
          "color": "#ab63fa",
          "dash": "solid"
         },
         "marker": {
          "symbol": "circle"
         },
         "mode": "lines+markers",
         "name": "54",
         "orientation": "v",
         "showlegend": true,
         "type": "scatter",
         "x": [
          "Noise.sensitivity_age",
          "Fearfulness_age",
          "Aggression_age",
          "Surface_age",
          "Separation_age",
          "Impulsivity_age",
          "Personality_age"
         ],
         "xaxis": "x",
         "y": {
          "bdata": "LcSrK+1QGUAtxKsr7VAZQAAAAAAAAPh/AAAAAAAA+H8AAAAAAAD4fwAAAAAAAPh/AAAAAAAA+H8=",
          "dtype": "f8"
         },
         "yaxis": "y"
        },
        {
         "hovertemplate": "dog.id=55<br>variable=%{x}<br>value=%{y}<extra></extra>",
         "legendgroup": "55",
         "line": {
          "color": "#FFA15A",
          "dash": "solid"
         },
         "marker": {
          "symbol": "circle"
         },
         "mode": "lines+markers",
         "name": "55",
         "orientation": "v",
         "showlegend": true,
         "type": "scatter",
         "x": [
          "Noise.sensitivity_age",
          "Fearfulness_age",
          "Aggression_age",
          "Surface_age",
          "Separation_age",
          "Impulsivity_age",
          "Personality_age"
         ],
         "xaxis": "x",
         "y": {
          "bdata": "TrbpHsUrIEBOtukexSsgQE626R7FKyBATrbpHsUrIEBOtukexSsgQE626R7FKyBATrbpHsUrIEA=",
          "dtype": "f8"
         },
         "yaxis": "y"
        },
        {
         "hovertemplate": "dog.id=56<br>variable=%{x}<br>value=%{y}<extra></extra>",
         "legendgroup": "56",
         "line": {
          "color": "#19d3f3",
          "dash": "solid"
         },
         "marker": {
          "symbol": "circle"
         },
         "mode": "lines+markers",
         "name": "56",
         "orientation": "v",
         "showlegend": true,
         "type": "scatter",
         "x": [
          "Noise.sensitivity_age",
          "Fearfulness_age",
          "Aggression_age",
          "Surface_age",
          "Separation_age",
          "Impulsivity_age",
          "Personality_age"
         ],
         "xaxis": "x",
         "y": {
          "bdata": "AAAAAAAA+H8AAAAAAAD4fwAAAAAAAPh/AAAAAAAA+H8AAAAAAAD4fwAAAAAAAPh/Ul2GIINgJ0A=",
          "dtype": "f8"
         },
         "yaxis": "y"
        },
        {
         "hovertemplate": "dog.id=57<br>variable=%{x}<br>value=%{y}<extra></extra>",
         "legendgroup": "57",
         "line": {
          "color": "#FF6692",
          "dash": "solid"
         },
         "marker": {
          "symbol": "circle"
         },
         "mode": "lines+markers",
         "name": "57",
         "orientation": "v",
         "showlegend": true,
         "type": "scatter",
         "x": [
          "Noise.sensitivity_age",
          "Fearfulness_age",
          "Aggression_age",
          "Surface_age",
          "Separation_age",
          "Impulsivity_age",
          "Personality_age"
         ],
         "xaxis": "x",
         "y": {
          "bdata": "16nW6PNQGkAAAAAAAAD4fwAAAAAAAPh/AAAAAAAA+H8AAAAAAAD4fwAAAAAAAPh/AAAAAAAA+H8=",
          "dtype": "f8"
         },
         "yaxis": "y"
        },
        {
         "hovertemplate": "dog.id=58<br>variable=%{x}<br>value=%{y}<extra></extra>",
         "legendgroup": "58",
         "line": {
          "color": "#B6E880",
          "dash": "solid"
         },
         "marker": {
          "symbol": "circle"
         },
         "mode": "lines+markers",
         "name": "58",
         "orientation": "v",
         "showlegend": true,
         "type": "scatter",
         "x": [
          "Noise.sensitivity_age",
          "Fearfulness_age",
          "Aggression_age",
          "Surface_age",
          "Separation_age",
          "Impulsivity_age",
          "Personality_age"
         ],
         "xaxis": "x",
         "y": {
          "bdata": "AAAAAAAA+H/7X3tUZtgJQAAAAAAAAPh/AAAAAAAA+H8AAAAAAAD4fwAAAAAAAPh/AAAAAAAA+H8=",
          "dtype": "f8"
         },
         "yaxis": "y"
        },
        {
         "hovertemplate": "dog.id=59<br>variable=%{x}<br>value=%{y}<extra></extra>",
         "legendgroup": "59",
         "line": {
          "color": "#FF97FF",
          "dash": "solid"
         },
         "marker": {
          "symbol": "circle"
         },
         "mode": "lines+markers",
         "name": "59",
         "orientation": "v",
         "showlegend": true,
         "type": "scatter",
         "x": [
          "Noise.sensitivity_age",
          "Fearfulness_age",
          "Aggression_age",
          "Surface_age",
          "Separation_age",
          "Impulsivity_age",
          "Personality_age"
         ],
         "xaxis": "x",
         "y": {
          "bdata": "pgE6zpiaHUCmATrOmJodQKYBOs6Ymh1ApgE6zpiaHUCmATrOmJodQKYBOs6Ymh1ApgE6zpiaHUA=",
          "dtype": "f8"
         },
         "yaxis": "y"
        },
        {
         "hovertemplate": "dog.id=60<br>variable=%{x}<br>value=%{y}<extra></extra>",
         "legendgroup": "60",
         "line": {
          "color": "#FECB52",
          "dash": "solid"
         },
         "marker": {
          "symbol": "circle"
         },
         "mode": "lines+markers",
         "name": "60",
         "orientation": "v",
         "showlegend": true,
         "type": "scatter",
         "x": [
          "Noise.sensitivity_age",
          "Fearfulness_age",
          "Aggression_age",
          "Surface_age",
          "Separation_age",
          "Impulsivity_age",
          "Personality_age"
         ],
         "xaxis": "x",
         "y": {
          "bdata": "AAAAAAAA+H8AAAAAAAD4fwAAAAAAAPh/AAAAAAAA+H8AAAAAAAD4fwAAAAAAAPh/kJDw2RQFB0A=",
          "dtype": "f8"
         },
         "yaxis": "y"
        },
        {
         "hovertemplate": "dog.id=61<br>variable=%{x}<br>value=%{y}<extra></extra>",
         "legendgroup": "61",
         "line": {
          "color": "#636efa",
          "dash": "solid"
         },
         "marker": {
          "symbol": "circle"
         },
         "mode": "lines+markers",
         "name": "61",
         "orientation": "v",
         "showlegend": true,
         "type": "scatter",
         "x": [
          "Noise.sensitivity_age",
          "Fearfulness_age",
          "Aggression_age",
          "Surface_age",
          "Separation_age",
          "Impulsivity_age",
          "Personality_age"
         ],
         "xaxis": "x",
         "y": {
          "bdata": "PJE3K2g/KEBS6AZUSeQnQAAAAAAAAPh/UugGVEnkJ0Byt/MWcsUnQDyRNytoPyhAPJE3K2g/KEA=",
          "dtype": "f8"
         },
         "yaxis": "y"
        },
        {
         "hovertemplate": "dog.id=62<br>variable=%{x}<br>value=%{y}<extra></extra>",
         "legendgroup": "62",
         "line": {
          "color": "#EF553B",
          "dash": "solid"
         },
         "marker": {
          "symbol": "circle"
         },
         "mode": "lines+markers",
         "name": "62",
         "orientation": "v",
         "showlegend": true,
         "type": "scatter",
         "x": [
          "Noise.sensitivity_age",
          "Fearfulness_age",
          "Aggression_age",
          "Surface_age",
          "Separation_age",
          "Impulsivity_age",
          "Personality_age"
         ],
         "xaxis": "x",
         "y": {
          "bdata": "3x8pAbV7JkDcJmBklyAmQAAAAAAAAPh/3CZgZJcgJkC1DauRwAEmQN8fKQG1eyZA3x8pAbV7JkA=",
          "dtype": "f8"
         },
         "yaxis": "y"
        },
        {
         "hovertemplate": "dog.id=63<br>variable=%{x}<br>value=%{y}<extra></extra>",
         "legendgroup": "63",
         "line": {
          "color": "#00cc96",
          "dash": "solid"
         },
         "marker": {
          "symbol": "circle"
         },
         "mode": "lines+markers",
         "name": "63",
         "orientation": "v",
         "showlegend": true,
         "type": "scatter",
         "x": [
          "Noise.sensitivity_age",
          "Fearfulness_age",
          "Aggression_age",
          "Surface_age",
          "Separation_age",
          "Impulsivity_age",
          "Personality_age"
         ],
         "xaxis": "x",
         "y": {
          "bdata": "n2WrBdWeAEDjSh+152T+PwAAAAAAAPh/40oftedk/j9Ljk2IP279P59lqwXVngBAn2WrBdWeAEA=",
          "dtype": "f8"
         },
         "yaxis": "y"
        },
        {
         "hovertemplate": "dog.id=64<br>variable=%{x}<br>value=%{y}<extra></extra>",
         "legendgroup": "64",
         "line": {
          "color": "#ab63fa",
          "dash": "solid"
         },
         "marker": {
          "symbol": "circle"
         },
         "mode": "lines+markers",
         "name": "64",
         "orientation": "v",
         "showlegend": true,
         "type": "scatter",
         "x": [
          "Noise.sensitivity_age",
          "Fearfulness_age",
          "Aggression_age",
          "Surface_age",
          "Separation_age",
          "Impulsivity_age",
          "Personality_age"
         ],
         "xaxis": "x",
         "y": {
          "bdata": "B7/pauaJCUAWOIBOpq8TQAAAAAAAAPh/AAAAAAAA+H8AAAAAAAD4fwAAAAAAAPh/AAAAAAAA+H8=",
          "dtype": "f8"
         },
         "yaxis": "y"
        },
        {
         "hovertemplate": "dog.id=65<br>variable=%{x}<br>value=%{y}<extra></extra>",
         "legendgroup": "65",
         "line": {
          "color": "#FFA15A",
          "dash": "solid"
         },
         "marker": {
          "symbol": "circle"
         },
         "mode": "lines+markers",
         "name": "65",
         "orientation": "v",
         "showlegend": true,
         "type": "scatter",
         "x": [
          "Noise.sensitivity_age",
          "Fearfulness_age",
          "Aggression_age",
          "Surface_age",
          "Separation_age",
          "Impulsivity_age",
          "Personality_age"
         ],
         "xaxis": "x",
         "y": {
          "bdata": "Gb2mSSFhIkAZvaZJIWEiQBm9pkkhYSJAtD/R7vBqIkC0P9Hu8GoiQLQ/0e7waiJAGb2mSSFhIkA=",
          "dtype": "f8"
         },
         "yaxis": "y"
        },
        {
         "hovertemplate": "dog.id=66<br>variable=%{x}<br>value=%{y}<extra></extra>",
         "legendgroup": "66",
         "line": {
          "color": "#19d3f3",
          "dash": "solid"
         },
         "marker": {
          "symbol": "circle"
         },
         "mode": "lines+markers",
         "name": "66",
         "orientation": "v",
         "showlegend": true,
         "type": "scatter",
         "x": [
          "Noise.sensitivity_age",
          "Fearfulness_age",
          "Aggression_age",
          "Surface_age",
          "Separation_age",
          "Impulsivity_age",
          "Personality_age"
         ],
         "xaxis": "x",
         "y": {
          "bdata": "gxRiTP9k8D94pltsFlQFQHimW2wWVAVAeKZbbBZUBUCDFGJM/2TwP3imW2wWVAVAgxRiTP9k8D8=",
          "dtype": "f8"
         },
         "yaxis": "y"
        },
        {
         "hovertemplate": "dog.id=67<br>variable=%{x}<br>value=%{y}<extra></extra>",
         "legendgroup": "67",
         "line": {
          "color": "#FF6692",
          "dash": "solid"
         },
         "marker": {
          "symbol": "circle"
         },
         "mode": "lines+markers",
         "name": "67",
         "orientation": "v",
         "showlegend": true,
         "type": "scatter",
         "x": [
          "Noise.sensitivity_age",
          "Fearfulness_age",
          "Aggression_age",
          "Surface_age",
          "Separation_age",
          "Impulsivity_age",
          "Personality_age"
         ],
         "xaxis": "x",
         "y": {
          "bdata": "AAAAAAAA+H8AAAAAAAD4fwAAAAAAAPh/idhYcNyNJEAAAAAAAAD4fwAAAAAAAPh/AAAAAAAA+H8=",
          "dtype": "f8"
         },
         "yaxis": "y"
        },
        {
         "hovertemplate": "dog.id=68<br>variable=%{x}<br>value=%{y}<extra></extra>",
         "legendgroup": "68",
         "line": {
          "color": "#B6E880",
          "dash": "solid"
         },
         "marker": {
          "symbol": "circle"
         },
         "mode": "lines+markers",
         "name": "68",
         "orientation": "v",
         "showlegend": true,
         "type": "scatter",
         "x": [
          "Noise.sensitivity_age",
          "Fearfulness_age",
          "Aggression_age",
          "Surface_age",
          "Separation_age",
          "Impulsivity_age",
          "Personality_age"
         ],
         "xaxis": "x",
         "y": {
          "bdata": "i9p8qqqq6j+L2nyqqqrqPwAAAAAAAPh/AAAAAAAA+H8AAAAAAAD4fwAAAAAAAPh/AAAAAAAA+H8=",
          "dtype": "f8"
         },
         "yaxis": "y"
        },
        {
         "hovertemplate": "dog.id=69<br>variable=%{x}<br>value=%{y}<extra></extra>",
         "legendgroup": "69",
         "line": {
          "color": "#FF97FF",
          "dash": "solid"
         },
         "marker": {
          "symbol": "circle"
         },
         "mode": "lines+markers",
         "name": "69",
         "orientation": "v",
         "showlegend": true,
         "type": "scatter",
         "x": [
          "Noise.sensitivity_age",
          "Fearfulness_age",
          "Aggression_age",
          "Surface_age",
          "Separation_age",
          "Impulsivity_age",
          "Personality_age"
         ],
         "xaxis": "x",
         "y": {
          "bdata": "lOuR+Yyz8D/qg4PCQlcGQOqDg8JCVwZAGNfFW1E88j8Y18VbUTzyPxjXxVtRPPI/aWaYoKe18T8=",
          "dtype": "f8"
         },
         "yaxis": "y"
        },
        {
         "hovertemplate": "dog.id=70<br>variable=%{x}<br>value=%{y}<extra></extra>",
         "legendgroup": "70",
         "line": {
          "color": "#FECB52",
          "dash": "solid"
         },
         "marker": {
          "symbol": "circle"
         },
         "mode": "lines+markers",
         "name": "70",
         "orientation": "v",
         "showlegend": true,
         "type": "scatter",
         "x": [
          "Noise.sensitivity_age",
          "Fearfulness_age",
          "Aggression_age",
          "Surface_age",
          "Separation_age",
          "Impulsivity_age",
          "Personality_age"
         ],
         "xaxis": "x",
         "y": {
          "bdata": "B0dAuhX0A0CVuBwc3TIPQJW4HBzdMg9AlbgcHN0yD0BiMVf3qWENQJW4HBzdMg9AlbgcHN0yD0A=",
          "dtype": "f8"
         },
         "yaxis": "y"
        },
        {
         "hovertemplate": "dog.id=71<br>variable=%{x}<br>value=%{y}<extra></extra>",
         "legendgroup": "71",
         "line": {
          "color": "#636efa",
          "dash": "solid"
         },
         "marker": {
          "symbol": "circle"
         },
         "mode": "lines+markers",
         "name": "71",
         "orientation": "v",
         "showlegend": true,
         "type": "scatter",
         "x": [
          "Noise.sensitivity_age",
          "Fearfulness_age",
          "Aggression_age",
          "Surface_age",
          "Separation_age",
          "Impulsivity_age",
          "Personality_age"
         ],
         "xaxis": "x",
         "y": {
          "bdata": "yyJe6FsyGUDLIl7oWzIZQMsiXuhbMhlAyyJe6FsyGUDLIl7oWzIZQMsiXuhbMhlACut95WzkE0A=",
          "dtype": "f8"
         },
         "yaxis": "y"
        },
        {
         "hovertemplate": "dog.id=72<br>variable=%{x}<br>value=%{y}<extra></extra>",
         "legendgroup": "72",
         "line": {
          "color": "#EF553B",
          "dash": "solid"
         },
         "marker": {
          "symbol": "circle"
         },
         "mode": "lines+markers",
         "name": "72",
         "orientation": "v",
         "showlegend": true,
         "type": "scatter",
         "x": [
          "Noise.sensitivity_age",
          "Fearfulness_age",
          "Aggression_age",
          "Surface_age",
          "Separation_age",
          "Impulsivity_age",
          "Personality_age"
         ],
         "xaxis": "x",
         "y": {
          "bdata": "/KVmi3tGKkAAAAAAAAD4fwAAAAAAAPh/AAAAAAAA+H8AAAAAAAD4fwAAAAAAAPh/1X4I/Y6DJ0A=",
          "dtype": "f8"
         },
         "yaxis": "y"
        },
        {
         "hovertemplate": "dog.id=73<br>variable=%{x}<br>value=%{y}<extra></extra>",
         "legendgroup": "73",
         "line": {
          "color": "#00cc96",
          "dash": "solid"
         },
         "marker": {
          "symbol": "circle"
         },
         "mode": "lines+markers",
         "name": "73",
         "orientation": "v",
         "showlegend": true,
         "type": "scatter",
         "x": [
          "Noise.sensitivity_age",
          "Fearfulness_age",
          "Aggression_age",
          "Surface_age",
          "Separation_age",
          "Impulsivity_age",
          "Personality_age"
         ],
         "xaxis": "x",
         "y": {
          "bdata": "AAAAAAAA+H8AAAAAAAD4fwAAAAAAAPh/DP6VzdDRHkAAAAAAAAD4fwAAAAAAAPh/DP6VzdDRHkA=",
          "dtype": "f8"
         },
         "yaxis": "y"
        },
        {
         "hovertemplate": "dog.id=74<br>variable=%{x}<br>value=%{y}<extra></extra>",
         "legendgroup": "74",
         "line": {
          "color": "#ab63fa",
          "dash": "solid"
         },
         "marker": {
          "symbol": "circle"
         },
         "mode": "lines+markers",
         "name": "74",
         "orientation": "v",
         "showlegend": true,
         "type": "scatter",
         "x": [
          "Noise.sensitivity_age",
          "Fearfulness_age",
          "Aggression_age",
          "Surface_age",
          "Separation_age",
          "Impulsivity_age",
          "Personality_age"
         ],
         "xaxis": "x",
         "y": {
          "bdata": "AAAAAAAA+H8AAAAAAAD4f0QJsTWGzxVAAAAAAAAA+H8AAAAAAAD4fwAAAAAAAPh/AAAAAAAA+H8=",
          "dtype": "f8"
         },
         "yaxis": "y"
        },
        {
         "hovertemplate": "dog.id=75<br>variable=%{x}<br>value=%{y}<extra></extra>",
         "legendgroup": "75",
         "line": {
          "color": "#FFA15A",
          "dash": "solid"
         },
         "marker": {
          "symbol": "circle"
         },
         "mode": "lines+markers",
         "name": "75",
         "orientation": "v",
         "showlegend": true,
         "type": "scatter",
         "x": [
          "Noise.sensitivity_age",
          "Fearfulness_age",
          "Aggression_age",
          "Surface_age",
          "Separation_age",
          "Impulsivity_age",
          "Personality_age"
         ],
         "xaxis": "x",
         "y": {
          "bdata": "d9ReZekcJ0CjqJYhTFUnQKOoliFMVSdAJq/nzsAWKEAmr+fOwBYoQMrruTOw5SdAJq/nzsAWKEA=",
          "dtype": "f8"
         },
         "yaxis": "y"
        },
        {
         "hovertemplate": "dog.id=76<br>variable=%{x}<br>value=%{y}<extra></extra>",
         "legendgroup": "76",
         "line": {
          "color": "#19d3f3",
          "dash": "solid"
         },
         "marker": {
          "symbol": "circle"
         },
         "mode": "lines+markers",
         "name": "76",
         "orientation": "v",
         "showlegend": true,
         "type": "scatter",
         "x": [
          "Noise.sensitivity_age",
          "Fearfulness_age",
          "Aggression_age",
          "Surface_age",
          "Separation_age",
          "Impulsivity_age",
          "Personality_age"
         ],
         "xaxis": "x",
         "y": {
          "bdata": "F5zi7RhTGkAXnOLtGFMaQBec4u0YUxpAF5zi7RhTGkAXnOLtGFMaQBec4u0YUxpAF5zi7RhTGkA=",
          "dtype": "f8"
         },
         "yaxis": "y"
        },
        {
         "hovertemplate": "dog.id=77<br>variable=%{x}<br>value=%{y}<extra></extra>",
         "legendgroup": "77",
         "line": {
          "color": "#FF6692",
          "dash": "solid"
         },
         "marker": {
          "symbol": "circle"
         },
         "mode": "lines+markers",
         "name": "77",
         "orientation": "v",
         "showlegend": true,
         "type": "scatter",
         "x": [
          "Noise.sensitivity_age",
          "Fearfulness_age",
          "Aggression_age",
          "Surface_age",
          "Separation_age",
          "Impulsivity_age",
          "Personality_age"
         ],
         "xaxis": "x",
         "y": {
          "bdata": "YiXuypH0JkBiJe7KkfQmQGIl7sqR9CZAYiXuypH0JkBiJe7KkfQmQGIl7sqR9CZAAAAAAAAA+H8=",
          "dtype": "f8"
         },
         "yaxis": "y"
        },
        {
         "hovertemplate": "dog.id=78<br>variable=%{x}<br>value=%{y}<extra></extra>",
         "legendgroup": "78",
         "line": {
          "color": "#B6E880",
          "dash": "solid"
         },
         "marker": {
          "symbol": "circle"
         },
         "mode": "lines+markers",
         "name": "78",
         "orientation": "v",
         "showlegend": true,
         "type": "scatter",
         "x": [
          "Noise.sensitivity_age",
          "Fearfulness_age",
          "Aggression_age",
          "Surface_age",
          "Separation_age",
          "Impulsivity_age",
          "Personality_age"
         ],
         "xaxis": "x",
         "y": {
          "bdata": "KpSZk5agGEAqlJmTlqAYQCqUmZOWoBhAKpSZk5agGEAqlJmTlqAYQCqUmZOWoBhAKpSZk5agGEA=",
          "dtype": "f8"
         },
         "yaxis": "y"
        },
        {
         "hovertemplate": "dog.id=79<br>variable=%{x}<br>value=%{y}<extra></extra>",
         "legendgroup": "79",
         "line": {
          "color": "#FF97FF",
          "dash": "solid"
         },
         "marker": {
          "symbol": "circle"
         },
         "mode": "lines+markers",
         "name": "79",
         "orientation": "v",
         "showlegend": true,
         "type": "scatter",
         "x": [
          "Noise.sensitivity_age",
          "Fearfulness_age",
          "Aggression_age",
          "Surface_age",
          "Separation_age",
          "Impulsivity_age",
          "Personality_age"
         ],
         "xaxis": "x",
         "y": {
          "bdata": "XHdEnIZQFkDtWVEvalocQO1ZUS9qWhxA7VlRL2paHEDtWVEvalocQO1ZUS9qWhxAjnQsDQFSHEA=",
          "dtype": "f8"
         },
         "yaxis": "y"
        },
        {
         "hovertemplate": "dog.id=80<br>variable=%{x}<br>value=%{y}<extra></extra>",
         "legendgroup": "80",
         "line": {
          "color": "#FECB52",
          "dash": "solid"
         },
         "marker": {
          "symbol": "circle"
         },
         "mode": "lines+markers",
         "name": "80",
         "orientation": "v",
         "showlegend": true,
         "type": "scatter",
         "x": [
          "Noise.sensitivity_age",
          "Fearfulness_age",
          "Aggression_age",
          "Surface_age",
          "Separation_age",
          "Impulsivity_age",
          "Personality_age"
         ],
         "xaxis": "x",
         "y": {
          "bdata": "SfaE/J68GEBJ9oT8nrwYQEn2hPyevBhASfaE/J68GEBJ9oT8nrwYQEn2hPyevBhASfaE/J68GEA=",
          "dtype": "f8"
         },
         "yaxis": "y"
        },
        {
         "hovertemplate": "dog.id=81<br>variable=%{x}<br>value=%{y}<extra></extra>",
         "legendgroup": "81",
         "line": {
          "color": "#636efa",
          "dash": "solid"
         },
         "marker": {
          "symbol": "circle"
         },
         "mode": "lines+markers",
         "name": "81",
         "orientation": "v",
         "showlegend": true,
         "type": "scatter",
         "x": [
          "Noise.sensitivity_age",
          "Fearfulness_age",
          "Aggression_age",
          "Surface_age",
          "Separation_age",
          "Impulsivity_age",
          "Personality_age"
         ],
         "xaxis": "x",
         "y": {
          "bdata": "fHQ0WIJGKEB8dDRYgkYoQHx0NFiCRihAfHQ0WIJGKEB8dDRYgkYoQHx0NFiCRihAfHQ0WIJGKEA=",
          "dtype": "f8"
         },
         "yaxis": "y"
        },
        {
         "hovertemplate": "dog.id=82<br>variable=%{x}<br>value=%{y}<extra></extra>",
         "legendgroup": "82",
         "line": {
          "color": "#EF553B",
          "dash": "solid"
         },
         "marker": {
          "symbol": "circle"
         },
         "mode": "lines+markers",
         "name": "82",
         "orientation": "v",
         "showlegend": true,
         "type": "scatter",
         "x": [
          "Noise.sensitivity_age",
          "Fearfulness_age",
          "Aggression_age",
          "Surface_age",
          "Separation_age",
          "Impulsivity_age",
          "Personality_age"
         ],
         "xaxis": "x",
         "y": {
          "bdata": "xUWIB6FlHEDFRYgHoWUcQMVFiAehZRxAxUWIB6FlHEDFRYgHoWUcQMVFiAehZRxAxUWIB6FlHEA=",
          "dtype": "f8"
         },
         "yaxis": "y"
        },
        {
         "hovertemplate": "dog.id=83<br>variable=%{x}<br>value=%{y}<extra></extra>",
         "legendgroup": "83",
         "line": {
          "color": "#00cc96",
          "dash": "solid"
         },
         "marker": {
          "symbol": "circle"
         },
         "mode": "lines+markers",
         "name": "83",
         "orientation": "v",
         "showlegend": true,
         "type": "scatter",
         "x": [
          "Noise.sensitivity_age",
          "Fearfulness_age",
          "Aggression_age",
          "Surface_age",
          "Separation_age",
          "Impulsivity_age",
          "Personality_age"
         ],
         "xaxis": "x",
         "y": {
          "bdata": "AAAAAAAA+H8AAAAAAAD4fwAAAAAAAPh/AAAAAAAA+H8AAAAAAAD4fwAAAAAAAPh/te+bDNjTG0A=",
          "dtype": "f8"
         },
         "yaxis": "y"
        },
        {
         "hovertemplate": "dog.id=84<br>variable=%{x}<br>value=%{y}<extra></extra>",
         "legendgroup": "84",
         "line": {
          "color": "#ab63fa",
          "dash": "solid"
         },
         "marker": {
          "symbol": "circle"
         },
         "mode": "lines+markers",
         "name": "84",
         "orientation": "v",
         "showlegend": true,
         "type": "scatter",
         "x": [
          "Noise.sensitivity_age",
          "Fearfulness_age",
          "Aggression_age",
          "Surface_age",
          "Separation_age",
          "Impulsivity_age",
          "Personality_age"
         ],
         "xaxis": "x",
         "y": {
          "bdata": "/YeChu8iE0D9h4KG7yITQP2HgobvIhNA/YeChu8iE0D9h4KG7yITQP2HgobvIhNA/YeChu8iE0A=",
          "dtype": "f8"
         },
         "yaxis": "y"
        },
        {
         "hovertemplate": "dog.id=85<br>variable=%{x}<br>value=%{y}<extra></extra>",
         "legendgroup": "85",
         "line": {
          "color": "#FFA15A",
          "dash": "solid"
         },
         "marker": {
          "symbol": "circle"
         },
         "mode": "lines+markers",
         "name": "85",
         "orientation": "v",
         "showlegend": true,
         "type": "scatter",
         "x": [
          "Noise.sensitivity_age",
          "Fearfulness_age",
          "Aggression_age",
          "Surface_age",
          "Separation_age",
          "Impulsivity_age",
          "Personality_age"
         ],
         "xaxis": "x",
         "y": {
          "bdata": "iqXtBKCkKECKpe0EoKQoQIql7QSgpChAiqXtBKCkKECKpe0EoKQoQIql7QSgpChAiqXtBKCkKEA=",
          "dtype": "f8"
         },
         "yaxis": "y"
        },
        {
         "hovertemplate": "dog.id=86<br>variable=%{x}<br>value=%{y}<extra></extra>",
         "legendgroup": "86",
         "line": {
          "color": "#19d3f3",
          "dash": "solid"
         },
         "marker": {
          "symbol": "circle"
         },
         "mode": "lines+markers",
         "name": "86",
         "orientation": "v",
         "showlegend": true,
         "type": "scatter",
         "x": [
          "Noise.sensitivity_age",
          "Fearfulness_age",
          "Aggression_age",
          "Surface_age",
          "Separation_age",
          "Impulsivity_age",
          "Personality_age"
         ],
         "xaxis": "x",
         "y": {
          "bdata": "xmY4f8JCB0DGZjh/wkIHQMZmOH/CQgdAxmY4f8JCB0DGZjh/wkIHQMZmOH/CQgdAxmY4f8JCB0A=",
          "dtype": "f8"
         },
         "yaxis": "y"
        },
        {
         "hovertemplate": "dog.id=87<br>variable=%{x}<br>value=%{y}<extra></extra>",
         "legendgroup": "87",
         "line": {
          "color": "#FF6692",
          "dash": "solid"
         },
         "marker": {
          "symbol": "circle"
         },
         "mode": "lines+markers",
         "name": "87",
         "orientation": "v",
         "showlegend": true,
         "type": "scatter",
         "x": [
          "Noise.sensitivity_age",
          "Fearfulness_age",
          "Aggression_age",
          "Surface_age",
          "Separation_age",
          "Impulsivity_age",
          "Personality_age"
         ],
         "xaxis": "x",
         "y": {
          "bdata": "AAAAAAAA+H8AAAAAAAD4fwAAAAAAAPh/AAAAAAAA+H8AAAAAAAD4fwAAAAAAAPh/kJA3r6DLJEA=",
          "dtype": "f8"
         },
         "yaxis": "y"
        },
        {
         "hovertemplate": "dog.id=88<br>variable=%{x}<br>value=%{y}<extra></extra>",
         "legendgroup": "88",
         "line": {
          "color": "#B6E880",
          "dash": "solid"
         },
         "marker": {
          "symbol": "circle"
         },
         "mode": "lines+markers",
         "name": "88",
         "orientation": "v",
         "showlegend": true,
         "type": "scatter",
         "x": [
          "Noise.sensitivity_age",
          "Fearfulness_age",
          "Aggression_age",
          "Surface_age",
          "Separation_age",
          "Impulsivity_age",
          "Personality_age"
         ],
         "xaxis": "x",
         "y": {
          "bdata": "PzlMLNfkJkA/OUws1+QmQD85TCzX5CZAPzlMLNfkJkA/OUws1+QmQD85TCzX5CZAAAAAAAAA+H8=",
          "dtype": "f8"
         },
         "yaxis": "y"
        },
        {
         "hovertemplate": "dog.id=89<br>variable=%{x}<br>value=%{y}<extra></extra>",
         "legendgroup": "89",
         "line": {
          "color": "#FF97FF",
          "dash": "solid"
         },
         "marker": {
          "symbol": "circle"
         },
         "mode": "lines+markers",
         "name": "89",
         "orientation": "v",
         "showlegend": true,
         "type": "scatter",
         "x": [
          "Noise.sensitivity_age",
          "Fearfulness_age",
          "Aggression_age",
          "Surface_age",
          "Separation_age",
          "Impulsivity_age",
          "Personality_age"
         ],
         "xaxis": "x",
         "y": {
          "bdata": "TL4WSt/7HkBMvhZK3/seQAAAAAAAAPh/AAAAAAAA+H8AAAAAAAD4fwAAAAAAAPh/TL4WSt/7HkA=",
          "dtype": "f8"
         },
         "yaxis": "y"
        },
        {
         "hovertemplate": "dog.id=90<br>variable=%{x}<br>value=%{y}<extra></extra>",
         "legendgroup": "90",
         "line": {
          "color": "#FECB52",
          "dash": "solid"
         },
         "marker": {
          "symbol": "circle"
         },
         "mode": "lines+markers",
         "name": "90",
         "orientation": "v",
         "showlegend": true,
         "type": "scatter",
         "x": [
          "Noise.sensitivity_age",
          "Fearfulness_age",
          "Aggression_age",
          "Surface_age",
          "Separation_age",
          "Impulsivity_age",
          "Personality_age"
         ],
         "xaxis": "x",
         "y": {
          "bdata": "AAAAAAAA+H8AAAAAAAD4fwAAAAAAAPh/AAAAAAAA+H8AAAAAAAD4fwAAAAAAAPh/alr3yTAyK0A=",
          "dtype": "f8"
         },
         "yaxis": "y"
        },
        {
         "hovertemplate": "dog.id=91<br>variable=%{x}<br>value=%{y}<extra></extra>",
         "legendgroup": "91",
         "line": {
          "color": "#636efa",
          "dash": "solid"
         },
         "marker": {
          "symbol": "circle"
         },
         "mode": "lines+markers",
         "name": "91",
         "orientation": "v",
         "showlegend": true,
         "type": "scatter",
         "x": [
          "Noise.sensitivity_age",
          "Fearfulness_age",
          "Aggression_age",
          "Surface_age",
          "Separation_age",
          "Impulsivity_age",
          "Personality_age"
         ],
         "xaxis": "x",
         "y": {
          "bdata": "SzVY3Y/vI0BLNVjdj+8jQEs1WN2P7yNASzVY3Y/vI0BLNVjdj+8jQEs1WN2P7yNASzVY3Y/vI0A=",
          "dtype": "f8"
         },
         "yaxis": "y"
        },
        {
         "hovertemplate": "dog.id=92<br>variable=%{x}<br>value=%{y}<extra></extra>",
         "legendgroup": "92",
         "line": {
          "color": "#EF553B",
          "dash": "solid"
         },
         "marker": {
          "symbol": "circle"
         },
         "mode": "lines+markers",
         "name": "92",
         "orientation": "v",
         "showlegend": true,
         "type": "scatter",
         "x": [
          "Noise.sensitivity_age",
          "Fearfulness_age",
          "Aggression_age",
          "Surface_age",
          "Separation_age",
          "Impulsivity_age",
          "Personality_age"
         ],
         "xaxis": "x",
         "y": {
          "bdata": "Sc/8g6vuJEBJz/yDq+4kQEnP/IOr7iRASc/8g6vuJEBJz/yDq+4kQEnP/IOr7iRASc/8g6vuJEA=",
          "dtype": "f8"
         },
         "yaxis": "y"
        },
        {
         "hovertemplate": "dog.id=93<br>variable=%{x}<br>value=%{y}<extra></extra>",
         "legendgroup": "93",
         "line": {
          "color": "#00cc96",
          "dash": "solid"
         },
         "marker": {
          "symbol": "circle"
         },
         "mode": "lines+markers",
         "name": "93",
         "orientation": "v",
         "showlegend": true,
         "type": "scatter",
         "x": [
          "Noise.sensitivity_age",
          "Fearfulness_age",
          "Aggression_age",
          "Surface_age",
          "Separation_age",
          "Impulsivity_age",
          "Personality_age"
         ],
         "xaxis": "x",
         "y": {
          "bdata": "kZTbkxObLUCRlNuTE5stQJGU25MTmy1AkZTbkxObLUCRlNuTE5stQJGU25MTmy1AkZTbkxObLUA=",
          "dtype": "f8"
         },
         "yaxis": "y"
        },
        {
         "hovertemplate": "dog.id=94<br>variable=%{x}<br>value=%{y}<extra></extra>",
         "legendgroup": "94",
         "line": {
          "color": "#ab63fa",
          "dash": "solid"
         },
         "marker": {
          "symbol": "circle"
         },
         "mode": "lines+markers",
         "name": "94",
         "orientation": "v",
         "showlegend": true,
         "type": "scatter",
         "x": [
          "Noise.sensitivity_age",
          "Fearfulness_age",
          "Aggression_age",
          "Surface_age",
          "Separation_age",
          "Impulsivity_age",
          "Personality_age"
         ],
         "xaxis": "x",
         "y": {
          "bdata": "mzj2QroVBECbOPZCuhUEQJs49kK6FQRAmzj2QroVBECbOPZCuhUEQJs49kK6FQRAmzj2QroVBEA=",
          "dtype": "f8"
         },
         "yaxis": "y"
        },
        {
         "hovertemplate": "dog.id=95<br>variable=%{x}<br>value=%{y}<extra></extra>",
         "legendgroup": "95",
         "line": {
          "color": "#FFA15A",
          "dash": "solid"
         },
         "marker": {
          "symbol": "circle"
         },
         "mode": "lines+markers",
         "name": "95",
         "orientation": "v",
         "showlegend": true,
         "type": "scatter",
         "x": [
          "Noise.sensitivity_age",
          "Fearfulness_age",
          "Aggression_age",
          "Surface_age",
          "Separation_age",
          "Impulsivity_age",
          "Personality_age"
         ],
         "xaxis": "x",
         "y": {
          "bdata": "qeZqEllBKUCp5moSWUEpQKnmahJZQSlAqeZqEllBKUCp5moSWUEpQKnmahJZQSlAqeZqEllBKUA=",
          "dtype": "f8"
         },
         "yaxis": "y"
        },
        {
         "hovertemplate": "dog.id=96<br>variable=%{x}<br>value=%{y}<extra></extra>",
         "legendgroup": "96",
         "line": {
          "color": "#19d3f3",
          "dash": "solid"
         },
         "marker": {
          "symbol": "circle"
         },
         "mode": "lines+markers",
         "name": "96",
         "orientation": "v",
         "showlegend": true,
         "type": "scatter",
         "x": [
          "Noise.sensitivity_age",
          "Fearfulness_age",
          "Aggression_age",
          "Surface_age",
          "Separation_age",
          "Impulsivity_age",
          "Personality_age"
         ],
         "xaxis": "x",
         "y": {
          "bdata": "J0E7hEq6F0AnQTuESroXQCdBO4RKuhdAJ0E7hEq6F0AnQTuESroXQCdBO4RKuhdAJ0E7hEq6F0A=",
          "dtype": "f8"
         },
         "yaxis": "y"
        },
        {
         "hovertemplate": "dog.id=97<br>variable=%{x}<br>value=%{y}<extra></extra>",
         "legendgroup": "97",
         "line": {
          "color": "#FF6692",
          "dash": "solid"
         },
         "marker": {
          "symbol": "circle"
         },
         "mode": "lines+markers",
         "name": "97",
         "orientation": "v",
         "showlegend": true,
         "type": "scatter",
         "x": [
          "Noise.sensitivity_age",
          "Fearfulness_age",
          "Aggression_age",
          "Surface_age",
          "Separation_age",
          "Impulsivity_age",
          "Personality_age"
         ],
         "xaxis": "x",
         "y": {
          "bdata": "n7aKIeCA8D+ftooh4IDwP5+2iiHggPA/n7aKIeCA8D+ftooh4IDwP5+2iiHggPA/n7aKIeCA8D8=",
          "dtype": "f8"
         },
         "yaxis": "y"
        },
        {
         "hovertemplate": "dog.id=98<br>variable=%{x}<br>value=%{y}<extra></extra>",
         "legendgroup": "98",
         "line": {
          "color": "#B6E880",
          "dash": "solid"
         },
         "marker": {
          "symbol": "circle"
         },
         "mode": "lines+markers",
         "name": "98",
         "orientation": "v",
         "showlegend": true,
         "type": "scatter",
         "x": [
          "Noise.sensitivity_age",
          "Fearfulness_age",
          "Aggression_age",
          "Surface_age",
          "Separation_age",
          "Impulsivity_age",
          "Personality_age"
         ],
         "xaxis": "x",
         "y": {
          "bdata": "/xc6PKWtJUAAAAAAAAD4fwAAAAAAAPh/AAAAAAAA+H8AAAAAAAD4fwAAAAAAAPh//xc6PKWtJUA=",
          "dtype": "f8"
         },
         "yaxis": "y"
        },
        {
         "hovertemplate": "dog.id=99<br>variable=%{x}<br>value=%{y}<extra></extra>",
         "legendgroup": "99",
         "line": {
          "color": "#FF97FF",
          "dash": "solid"
         },
         "marker": {
          "symbol": "circle"
         },
         "mode": "lines+markers",
         "name": "99",
         "orientation": "v",
         "showlegend": true,
         "type": "scatter",
         "x": [
          "Noise.sensitivity_age",
          "Fearfulness_age",
          "Aggression_age",
          "Surface_age",
          "Separation_age",
          "Impulsivity_age",
          "Personality_age"
         ],
         "xaxis": "x",
         "y": {
          "bdata": "bQTBZxSWH0BtBMFnFJYfQG0EwWcUlh9AbQTBZxSWH0BtBMFnFJYfQG0EwWcUlh9AbQTBZxSWH0A=",
          "dtype": "f8"
         },
         "yaxis": "y"
        }
       ],
       "layout": {
        "legend": {
         "title": {
          "text": "dog.id"
         },
         "tracegroupgap": 0
        },
        "margin": {
         "t": 60
        },
        "template": {
         "data": {
          "bar": [
           {
            "error_x": {
             "color": "#2a3f5f"
            },
            "error_y": {
             "color": "#2a3f5f"
            },
            "marker": {
             "line": {
              "color": "#E5ECF6",
              "width": 0.5
             },
             "pattern": {
              "fillmode": "overlay",
              "size": 10,
              "solidity": 0.2
             }
            },
            "type": "bar"
           }
          ],
          "barpolar": [
           {
            "marker": {
             "line": {
              "color": "#E5ECF6",
              "width": 0.5
             },
             "pattern": {
              "fillmode": "overlay",
              "size": 10,
              "solidity": 0.2
             }
            },
            "type": "barpolar"
           }
          ],
          "carpet": [
           {
            "aaxis": {
             "endlinecolor": "#2a3f5f",
             "gridcolor": "white",
             "linecolor": "white",
             "minorgridcolor": "white",
             "startlinecolor": "#2a3f5f"
            },
            "baxis": {
             "endlinecolor": "#2a3f5f",
             "gridcolor": "white",
             "linecolor": "white",
             "minorgridcolor": "white",
             "startlinecolor": "#2a3f5f"
            },
            "type": "carpet"
           }
          ],
          "choropleth": [
           {
            "colorbar": {
             "outlinewidth": 0,
             "ticks": ""
            },
            "type": "choropleth"
           }
          ],
          "contour": [
           {
            "colorbar": {
             "outlinewidth": 0,
             "ticks": ""
            },
            "colorscale": [
             [
              0,
              "#0d0887"
             ],
             [
              0.1111111111111111,
              "#46039f"
             ],
             [
              0.2222222222222222,
              "#7201a8"
             ],
             [
              0.3333333333333333,
              "#9c179e"
             ],
             [
              0.4444444444444444,
              "#bd3786"
             ],
             [
              0.5555555555555556,
              "#d8576b"
             ],
             [
              0.6666666666666666,
              "#ed7953"
             ],
             [
              0.7777777777777778,
              "#fb9f3a"
             ],
             [
              0.8888888888888888,
              "#fdca26"
             ],
             [
              1,
              "#f0f921"
             ]
            ],
            "type": "contour"
           }
          ],
          "contourcarpet": [
           {
            "colorbar": {
             "outlinewidth": 0,
             "ticks": ""
            },
            "type": "contourcarpet"
           }
          ],
          "heatmap": [
           {
            "colorbar": {
             "outlinewidth": 0,
             "ticks": ""
            },
            "colorscale": [
             [
              0,
              "#0d0887"
             ],
             [
              0.1111111111111111,
              "#46039f"
             ],
             [
              0.2222222222222222,
              "#7201a8"
             ],
             [
              0.3333333333333333,
              "#9c179e"
             ],
             [
              0.4444444444444444,
              "#bd3786"
             ],
             [
              0.5555555555555556,
              "#d8576b"
             ],
             [
              0.6666666666666666,
              "#ed7953"
             ],
             [
              0.7777777777777778,
              "#fb9f3a"
             ],
             [
              0.8888888888888888,
              "#fdca26"
             ],
             [
              1,
              "#f0f921"
             ]
            ],
            "type": "heatmap"
           }
          ],
          "histogram": [
           {
            "marker": {
             "pattern": {
              "fillmode": "overlay",
              "size": 10,
              "solidity": 0.2
             }
            },
            "type": "histogram"
           }
          ],
          "histogram2d": [
           {
            "colorbar": {
             "outlinewidth": 0,
             "ticks": ""
            },
            "colorscale": [
             [
              0,
              "#0d0887"
             ],
             [
              0.1111111111111111,
              "#46039f"
             ],
             [
              0.2222222222222222,
              "#7201a8"
             ],
             [
              0.3333333333333333,
              "#9c179e"
             ],
             [
              0.4444444444444444,
              "#bd3786"
             ],
             [
              0.5555555555555556,
              "#d8576b"
             ],
             [
              0.6666666666666666,
              "#ed7953"
             ],
             [
              0.7777777777777778,
              "#fb9f3a"
             ],
             [
              0.8888888888888888,
              "#fdca26"
             ],
             [
              1,
              "#f0f921"
             ]
            ],
            "type": "histogram2d"
           }
          ],
          "histogram2dcontour": [
           {
            "colorbar": {
             "outlinewidth": 0,
             "ticks": ""
            },
            "colorscale": [
             [
              0,
              "#0d0887"
             ],
             [
              0.1111111111111111,
              "#46039f"
             ],
             [
              0.2222222222222222,
              "#7201a8"
             ],
             [
              0.3333333333333333,
              "#9c179e"
             ],
             [
              0.4444444444444444,
              "#bd3786"
             ],
             [
              0.5555555555555556,
              "#d8576b"
             ],
             [
              0.6666666666666666,
              "#ed7953"
             ],
             [
              0.7777777777777778,
              "#fb9f3a"
             ],
             [
              0.8888888888888888,
              "#fdca26"
             ],
             [
              1,
              "#f0f921"
             ]
            ],
            "type": "histogram2dcontour"
           }
          ],
          "mesh3d": [
           {
            "colorbar": {
             "outlinewidth": 0,
             "ticks": ""
            },
            "type": "mesh3d"
           }
          ],
          "parcoords": [
           {
            "line": {
             "colorbar": {
              "outlinewidth": 0,
              "ticks": ""
             }
            },
            "type": "parcoords"
           }
          ],
          "pie": [
           {
            "automargin": true,
            "type": "pie"
           }
          ],
          "scatter": [
           {
            "fillpattern": {
             "fillmode": "overlay",
             "size": 10,
             "solidity": 0.2
            },
            "type": "scatter"
           }
          ],
          "scatter3d": [
           {
            "line": {
             "colorbar": {
              "outlinewidth": 0,
              "ticks": ""
             }
            },
            "marker": {
             "colorbar": {
              "outlinewidth": 0,
              "ticks": ""
             }
            },
            "type": "scatter3d"
           }
          ],
          "scattercarpet": [
           {
            "marker": {
             "colorbar": {
              "outlinewidth": 0,
              "ticks": ""
             }
            },
            "type": "scattercarpet"
           }
          ],
          "scattergeo": [
           {
            "marker": {
             "colorbar": {
              "outlinewidth": 0,
              "ticks": ""
             }
            },
            "type": "scattergeo"
           }
          ],
          "scattergl": [
           {
            "marker": {
             "colorbar": {
              "outlinewidth": 0,
              "ticks": ""
             }
            },
            "type": "scattergl"
           }
          ],
          "scattermap": [
           {
            "marker": {
             "colorbar": {
              "outlinewidth": 0,
              "ticks": ""
             }
            },
            "type": "scattermap"
           }
          ],
          "scattermapbox": [
           {
            "marker": {
             "colorbar": {
              "outlinewidth": 0,
              "ticks": ""
             }
            },
            "type": "scattermapbox"
           }
          ],
          "scatterpolar": [
           {
            "marker": {
             "colorbar": {
              "outlinewidth": 0,
              "ticks": ""
             }
            },
            "type": "scatterpolar"
           }
          ],
          "scatterpolargl": [
           {
            "marker": {
             "colorbar": {
              "outlinewidth": 0,
              "ticks": ""
             }
            },
            "type": "scatterpolargl"
           }
          ],
          "scatterternary": [
           {
            "marker": {
             "colorbar": {
              "outlinewidth": 0,
              "ticks": ""
             }
            },
            "type": "scatterternary"
           }
          ],
          "surface": [
           {
            "colorbar": {
             "outlinewidth": 0,
             "ticks": ""
            },
            "colorscale": [
             [
              0,
              "#0d0887"
             ],
             [
              0.1111111111111111,
              "#46039f"
             ],
             [
              0.2222222222222222,
              "#7201a8"
             ],
             [
              0.3333333333333333,
              "#9c179e"
             ],
             [
              0.4444444444444444,
              "#bd3786"
             ],
             [
              0.5555555555555556,
              "#d8576b"
             ],
             [
              0.6666666666666666,
              "#ed7953"
             ],
             [
              0.7777777777777778,
              "#fb9f3a"
             ],
             [
              0.8888888888888888,
              "#fdca26"
             ],
             [
              1,
              "#f0f921"
             ]
            ],
            "type": "surface"
           }
          ],
          "table": [
           {
            "cells": {
             "fill": {
              "color": "#EBF0F8"
             },
             "line": {
              "color": "white"
             }
            },
            "header": {
             "fill": {
              "color": "#C8D4E3"
             },
             "line": {
              "color": "white"
             }
            },
            "type": "table"
           }
          ]
         },
         "layout": {
          "annotationdefaults": {
           "arrowcolor": "#2a3f5f",
           "arrowhead": 0,
           "arrowwidth": 1
          },
          "autotypenumbers": "strict",
          "coloraxis": {
           "colorbar": {
            "outlinewidth": 0,
            "ticks": ""
           }
          },
          "colorscale": {
           "diverging": [
            [
             0,
             "#8e0152"
            ],
            [
             0.1,
             "#c51b7d"
            ],
            [
             0.2,
             "#de77ae"
            ],
            [
             0.3,
             "#f1b6da"
            ],
            [
             0.4,
             "#fde0ef"
            ],
            [
             0.5,
             "#f7f7f7"
            ],
            [
             0.6,
             "#e6f5d0"
            ],
            [
             0.7,
             "#b8e186"
            ],
            [
             0.8,
             "#7fbc41"
            ],
            [
             0.9,
             "#4d9221"
            ],
            [
             1,
             "#276419"
            ]
           ],
           "sequential": [
            [
             0,
             "#0d0887"
            ],
            [
             0.1111111111111111,
             "#46039f"
            ],
            [
             0.2222222222222222,
             "#7201a8"
            ],
            [
             0.3333333333333333,
             "#9c179e"
            ],
            [
             0.4444444444444444,
             "#bd3786"
            ],
            [
             0.5555555555555556,
             "#d8576b"
            ],
            [
             0.6666666666666666,
             "#ed7953"
            ],
            [
             0.7777777777777778,
             "#fb9f3a"
            ],
            [
             0.8888888888888888,
             "#fdca26"
            ],
            [
             1,
             "#f0f921"
            ]
           ],
           "sequentialminus": [
            [
             0,
             "#0d0887"
            ],
            [
             0.1111111111111111,
             "#46039f"
            ],
            [
             0.2222222222222222,
             "#7201a8"
            ],
            [
             0.3333333333333333,
             "#9c179e"
            ],
            [
             0.4444444444444444,
             "#bd3786"
            ],
            [
             0.5555555555555556,
             "#d8576b"
            ],
            [
             0.6666666666666666,
             "#ed7953"
            ],
            [
             0.7777777777777778,
             "#fb9f3a"
            ],
            [
             0.8888888888888888,
             "#fdca26"
            ],
            [
             1,
             "#f0f921"
            ]
           ]
          },
          "colorway": [
           "#636efa",
           "#EF553B",
           "#00cc96",
           "#ab63fa",
           "#FFA15A",
           "#19d3f3",
           "#FF6692",
           "#B6E880",
           "#FF97FF",
           "#FECB52"
          ],
          "font": {
           "color": "#2a3f5f"
          },
          "geo": {
           "bgcolor": "white",
           "lakecolor": "white",
           "landcolor": "#E5ECF6",
           "showlakes": true,
           "showland": true,
           "subunitcolor": "white"
          },
          "hoverlabel": {
           "align": "left"
          },
          "hovermode": "closest",
          "mapbox": {
           "style": "light"
          },
          "paper_bgcolor": "white",
          "plot_bgcolor": "#E5ECF6",
          "polar": {
           "angularaxis": {
            "gridcolor": "white",
            "linecolor": "white",
            "ticks": ""
           },
           "bgcolor": "#E5ECF6",
           "radialaxis": {
            "gridcolor": "white",
            "linecolor": "white",
            "ticks": ""
           }
          },
          "scene": {
           "xaxis": {
            "backgroundcolor": "#E5ECF6",
            "gridcolor": "white",
            "gridwidth": 2,
            "linecolor": "white",
            "showbackground": true,
            "ticks": "",
            "zerolinecolor": "white"
           },
           "yaxis": {
            "backgroundcolor": "#E5ECF6",
            "gridcolor": "white",
            "gridwidth": 2,
            "linecolor": "white",
            "showbackground": true,
            "ticks": "",
            "zerolinecolor": "white"
           },
           "zaxis": {
            "backgroundcolor": "#E5ECF6",
            "gridcolor": "white",
            "gridwidth": 2,
            "linecolor": "white",
            "showbackground": true,
            "ticks": "",
            "zerolinecolor": "white"
           }
          },
          "shapedefaults": {
           "line": {
            "color": "#2a3f5f"
           }
          },
          "ternary": {
           "aaxis": {
            "gridcolor": "white",
            "linecolor": "white",
            "ticks": ""
           },
           "baxis": {
            "gridcolor": "white",
            "linecolor": "white",
            "ticks": ""
           },
           "bgcolor": "#E5ECF6",
           "caxis": {
            "gridcolor": "white",
            "linecolor": "white",
            "ticks": ""
           }
          },
          "title": {
           "x": 0.05
          },
          "xaxis": {
           "automargin": true,
           "gridcolor": "white",
           "linecolor": "white",
           "ticks": "",
           "title": {
            "standoff": 15
           },
           "zerolinecolor": "white",
           "zerolinewidth": 2
          },
          "yaxis": {
           "automargin": true,
           "gridcolor": "white",
           "linecolor": "white",
           "ticks": "",
           "title": {
            "standoff": 15
           },
           "zerolinecolor": "white",
           "zerolinewidth": 2
          }
         }
        },
        "xaxis": {
         "anchor": "y",
         "domain": [
          0,
          1
         ],
         "title": {
          "text": "variable"
         }
        },
        "yaxis": {
         "anchor": "x",
         "domain": [
          0,
          1
         ],
         "title": {
          "text": "value"
         }
        }
       }
      }
     },
     "metadata": {},
     "output_type": "display_data"
    }
   ],
   "source": [
    "fig = px.line(ages_melt[ages_melt['dog.id'] < 100], x='variable', y='value', color='dog.id', markers=True)\n",
    "fig.show()"
   ]
  },
  {
   "cell_type": "code",
   "execution_count": null,
   "id": "5bc24810",
   "metadata": {},
   "outputs": [
    {
     "data": {
      "text/html": [
       "<div>\n",
       "<style scoped>\n",
       "    .dataframe tbody tr th:only-of-type {\n",
       "        vertical-align: middle;\n",
       "    }\n",
       "\n",
       "    .dataframe tbody tr th {\n",
       "        vertical-align: top;\n",
       "    }\n",
       "\n",
       "    .dataframe thead th {\n",
       "        text-align: right;\n",
       "    }\n",
       "</style>\n",
       "<table border=\"1\" class=\"dataframe\">\n",
       "  <thead>\n",
       "    <tr style=\"text-align: right;\">\n",
       "      <th></th>\n",
       "      <th>Noise.sensitivity_age</th>\n",
       "      <th>Fearfulness_age</th>\n",
       "      <th>Aggression_age</th>\n",
       "      <th>Surface_age</th>\n",
       "      <th>Separation_age</th>\n",
       "      <th>Impulsivity_age</th>\n",
       "      <th>Personality_age</th>\n",
       "      <th>dog.id</th>\n",
       "    </tr>\n",
       "  </thead>\n",
       "  <tbody>\n",
       "    <tr>\n",
       "      <th>count</th>\n",
       "      <td>13123.000000</td>\n",
       "      <td>12161.000000</td>\n",
       "      <td>11713.000000</td>\n",
       "      <td>11129.000000</td>\n",
       "      <td>11185.000000</td>\n",
       "      <td>10753.000000</td>\n",
       "      <td>12875.000000</td>\n",
       "      <td>15371.000000</td>\n",
       "    </tr>\n",
       "    <tr>\n",
       "      <th>mean</th>\n",
       "      <td>5.246486</td>\n",
       "      <td>5.230036</td>\n",
       "      <td>5.242948</td>\n",
       "      <td>5.266785</td>\n",
       "      <td>5.243517</td>\n",
       "      <td>5.210482</td>\n",
       "      <td>5.141402</td>\n",
       "      <td>7686.000000</td>\n",
       "    </tr>\n",
       "    <tr>\n",
       "      <th>std</th>\n",
       "      <td>3.450814</td>\n",
       "      <td>3.442324</td>\n",
       "      <td>3.439122</td>\n",
       "      <td>3.539961</td>\n",
       "      <td>3.428296</td>\n",
       "      <td>3.402024</td>\n",
       "      <td>3.449621</td>\n",
       "      <td>4437.369829</td>\n",
       "    </tr>\n",
       "    <tr>\n",
       "      <th>min</th>\n",
       "      <td>0.161644</td>\n",
       "      <td>0.178082</td>\n",
       "      <td>0.178082</td>\n",
       "      <td>0.178082</td>\n",
       "      <td>0.191781</td>\n",
       "      <td>0.191781</td>\n",
       "      <td>0.164384</td>\n",
       "      <td>1.000000</td>\n",
       "    </tr>\n",
       "    <tr>\n",
       "      <th>25%</th>\n",
       "      <td>2.343600</td>\n",
       "      <td>2.332649</td>\n",
       "      <td>2.362226</td>\n",
       "      <td>2.384124</td>\n",
       "      <td>2.364964</td>\n",
       "      <td>2.364964</td>\n",
       "      <td>2.219891</td>\n",
       "      <td>3843.500000</td>\n",
       "    </tr>\n",
       "    <tr>\n",
       "      <th>50%</th>\n",
       "      <td>4.619595</td>\n",
       "      <td>4.605696</td>\n",
       "      <td>4.605696</td>\n",
       "      <td>4.641716</td>\n",
       "      <td>4.613910</td>\n",
       "      <td>4.567360</td>\n",
       "      <td>4.471931</td>\n",
       "      <td>7686.000000</td>\n",
       "    </tr>\n",
       "    <tr>\n",
       "      <th>75%</th>\n",
       "      <td>7.685732</td>\n",
       "      <td>7.661089</td>\n",
       "      <td>7.672445</td>\n",
       "      <td>7.677517</td>\n",
       "      <td>7.675182</td>\n",
       "      <td>7.606328</td>\n",
       "      <td>7.578659</td>\n",
       "      <td>11528.500000</td>\n",
       "    </tr>\n",
       "    <tr>\n",
       "      <th>max</th>\n",
       "      <td>18.088980</td>\n",
       "      <td>18.088980</td>\n",
       "      <td>18.088980</td>\n",
       "      <td>100.969900</td>\n",
       "      <td>18.088980</td>\n",
       "      <td>18.088980</td>\n",
       "      <td>17.126690</td>\n",
       "      <td>15371.000000</td>\n",
       "    </tr>\n",
       "  </tbody>\n",
       "</table>\n",
       "</div>"
      ],
      "text/plain": [
       "       Noise.sensitivity_age  Fearfulness_age  Aggression_age   Surface_age  \\\n",
       "count           13123.000000     12161.000000    11713.000000  11129.000000   \n",
       "mean                5.246486         5.230036        5.242948      5.266785   \n",
       "std                 3.450814         3.442324        3.439122      3.539961   \n",
       "min                 0.161644         0.178082        0.178082      0.178082   \n",
       "25%                 2.343600         2.332649        2.362226      2.384124   \n",
       "50%                 4.619595         4.605696        4.605696      4.641716   \n",
       "75%                 7.685732         7.661089        7.672445      7.677517   \n",
       "max                18.088980        18.088980       18.088980    100.969900   \n",
       "\n",
       "       Separation_age  Impulsivity_age  Personality_age        dog.id  \n",
       "count    11185.000000     10753.000000     12875.000000  15371.000000  \n",
       "mean         5.243517         5.210482         5.141402   7686.000000  \n",
       "std          3.428296         3.402024         3.449621   4437.369829  \n",
       "min          0.191781         0.191781         0.164384      1.000000  \n",
       "25%          2.364964         2.364964         2.219891   3843.500000  \n",
       "50%          4.613910         4.567360         4.471931   7686.000000  \n",
       "75%          7.675182         7.606328         7.578659  11528.500000  \n",
       "max         18.088980        18.088980        17.126690  15371.000000  "
      ]
     },
     "metadata": {},
     "output_type": "display_data"
    },
    {
     "data": {
      "text/html": [
       "<div>\n",
       "<style scoped>\n",
       "    .dataframe tbody tr th:only-of-type {\n",
       "        vertical-align: middle;\n",
       "    }\n",
       "\n",
       "    .dataframe tbody tr th {\n",
       "        vertical-align: top;\n",
       "    }\n",
       "\n",
       "    .dataframe thead th {\n",
       "        text-align: right;\n",
       "    }\n",
       "</style>\n",
       "<table border=\"1\" class=\"dataframe\">\n",
       "  <thead>\n",
       "    <tr style=\"text-align: right;\">\n",
       "      <th></th>\n",
       "      <th>dog.id</th>\n",
       "      <th>breed_group</th>\n",
       "      <th>sex</th>\n",
       "      <th>sterilization_status</th>\n",
       "      <th>Noise.sensitivity_age</th>\n",
       "      <th>Fearfulness_age</th>\n",
       "      <th>Aggression_age</th>\n",
       "      <th>Surface_age</th>\n",
       "      <th>Separation_age</th>\n",
       "      <th>Impulsivity_age</th>\n",
       "      <th>...</th>\n",
       "      <th>Vas_8_excessive</th>\n",
       "      <th>Vas_9_alwaysplay</th>\n",
       "      <th>Vas_10_complicatedtasks</th>\n",
       "      <th>Vas_11_reacthastily</th>\n",
       "      <th>Vas_12_easilydistracted</th>\n",
       "      <th>Vas_13_cannotwait</th>\n",
       "      <th>impulsive</th>\n",
       "      <th>impulsiveness_disturbes</th>\n",
       "      <th>inattention_score</th>\n",
       "      <th>impulsivity_score</th>\n",
       "    </tr>\n",
       "  </thead>\n",
       "  <tbody>\n",
       "    <tr>\n",
       "      <th>15370</th>\n",
       "      <td>15371</td>\n",
       "      <td>Teacup_dogs</td>\n",
       "      <td>male</td>\n",
       "      <td>intact</td>\n",
       "      <td>18.08898</td>\n",
       "      <td>18.08898</td>\n",
       "      <td>18.08898</td>\n",
       "      <td>100.9699</td>\n",
       "      <td>18.08898</td>\n",
       "      <td>18.08898</td>\n",
       "      <td>...</td>\n",
       "      <td>1.0</td>\n",
       "      <td>1.0</td>\n",
       "      <td>1.0</td>\n",
       "      <td>1.0</td>\n",
       "      <td>2.0</td>\n",
       "      <td>2.0</td>\n",
       "      <td>0.0</td>\n",
       "      <td>1.0</td>\n",
       "      <td>-0.41932</td>\n",
       "      <td>-0.66403</td>\n",
       "    </tr>\n",
       "  </tbody>\n",
       "</table>\n",
       "<p>1 rows × 250 columns</p>\n",
       "</div>"
      ],
      "text/plain": [
       "       dog.id  breed_group   sex sterilization_status  Noise.sensitivity_age  \\\n",
       "15370   15371  Teacup_dogs  male               intact               18.08898   \n",
       "\n",
       "       Fearfulness_age  Aggression_age  Surface_age  Separation_age  \\\n",
       "15370         18.08898        18.08898     100.9699        18.08898   \n",
       "\n",
       "       Impulsivity_age  ...  Vas_8_excessive  Vas_9_alwaysplay  \\\n",
       "15370         18.08898  ...              1.0               1.0   \n",
       "\n",
       "      Vas_10_complicatedtasks Vas_11_reacthastily Vas_12_easilydistracted  \\\n",
       "15370                     1.0                 1.0                     2.0   \n",
       "\n",
       "      Vas_13_cannotwait  impulsive  impulsiveness_disturbes  \\\n",
       "15370               2.0        0.0                      1.0   \n",
       "\n",
       "       inattention_score  impulsivity_score  \n",
       "15370           -0.41932           -0.66403  \n",
       "\n",
       "[1 rows x 250 columns]"
      ]
     },
     "metadata": {},
     "output_type": "display_data"
    }
   ],
   "source": [
    "ages = dogs[categories + ['dog.id']]\n",
    "display(ages.describe())\n",
    "\n",
    "display(dogs.query('Surface_age > 100'))"
   ]
  },
  {
   "cell_type": "code",
   "execution_count": 13,
   "id": "19dc2c92",
   "metadata": {},
   "outputs": [
    {
     "data": {
      "text/html": [
       "<div>\n",
       "<style scoped>\n",
       "    .dataframe tbody tr th:only-of-type {\n",
       "        vertical-align: middle;\n",
       "    }\n",
       "\n",
       "    .dataframe tbody tr th {\n",
       "        vertical-align: top;\n",
       "    }\n",
       "\n",
       "    .dataframe thead th {\n",
       "        text-align: right;\n",
       "    }\n",
       "</style>\n",
       "<table border=\"1\" class=\"dataframe\">\n",
       "  <thead>\n",
       "    <tr style=\"text-align: right;\">\n",
       "      <th></th>\n",
       "      <th>dog.id</th>\n",
       "      <th>breed_group</th>\n",
       "      <th>sex</th>\n",
       "      <th>sterilization_status</th>\n",
       "      <th>Noise.sensitivity_age</th>\n",
       "      <th>Fearfulness_age</th>\n",
       "      <th>Aggression_age</th>\n",
       "      <th>Surface_age</th>\n",
       "      <th>Separation_age</th>\n",
       "      <th>Impulsivity_age</th>\n",
       "      <th>...</th>\n",
       "      <th>Vas_8_excessive</th>\n",
       "      <th>Vas_9_alwaysplay</th>\n",
       "      <th>Vas_10_complicatedtasks</th>\n",
       "      <th>Vas_11_reacthastily</th>\n",
       "      <th>Vas_12_easilydistracted</th>\n",
       "      <th>Vas_13_cannotwait</th>\n",
       "      <th>impulsive</th>\n",
       "      <th>impulsiveness_disturbes</th>\n",
       "      <th>inattention_score</th>\n",
       "      <th>impulsivity_score</th>\n",
       "    </tr>\n",
       "  </thead>\n",
       "  <tbody>\n",
       "    <tr>\n",
       "      <th>0</th>\n",
       "      <td>1</td>\n",
       "      <td>Jack_Russell_Terrier</td>\n",
       "      <td>female</td>\n",
       "      <td>sterilized</td>\n",
       "      <td>14.241650</td>\n",
       "      <td>14.181420</td>\n",
       "      <td>14.236174</td>\n",
       "      <td>14.233437</td>\n",
       "      <td>14.181420</td>\n",
       "      <td>14.236174</td>\n",
       "      <td>...</td>\n",
       "      <td>2.0</td>\n",
       "      <td>3.0</td>\n",
       "      <td>2.0</td>\n",
       "      <td>2.0</td>\n",
       "      <td>3.0</td>\n",
       "      <td>2.0</td>\n",
       "      <td>0.0</td>\n",
       "      <td>3.0</td>\n",
       "      <td>0.993593</td>\n",
       "      <td>0.097521</td>\n",
       "    </tr>\n",
       "    <tr>\n",
       "      <th>1</th>\n",
       "      <td>2</td>\n",
       "      <td>Jack_Russell_Terrier</td>\n",
       "      <td>female</td>\n",
       "      <td>intact</td>\n",
       "      <td>8.693866</td>\n",
       "      <td>8.359294</td>\n",
       "      <td>8.693866</td>\n",
       "      <td>8.353818</td>\n",
       "      <td>NaN</td>\n",
       "      <td>8.422270</td>\n",
       "      <td>...</td>\n",
       "      <td>2.0</td>\n",
       "      <td>3.0</td>\n",
       "      <td>1.0</td>\n",
       "      <td>1.0</td>\n",
       "      <td>2.0</td>\n",
       "      <td>2.0</td>\n",
       "      <td>NaN</td>\n",
       "      <td>2.0</td>\n",
       "      <td>-0.633266</td>\n",
       "      <td>0.904661</td>\n",
       "    </tr>\n",
       "    <tr>\n",
       "      <th>2</th>\n",
       "      <td>3</td>\n",
       "      <td>Pinschers_Schnauzers</td>\n",
       "      <td>male</td>\n",
       "      <td>intact</td>\n",
       "      <td>1.992701</td>\n",
       "      <td>1.992701</td>\n",
       "      <td>1.992701</td>\n",
       "      <td>1.992701</td>\n",
       "      <td>1.992701</td>\n",
       "      <td>1.992701</td>\n",
       "      <td>...</td>\n",
       "      <td>NaN</td>\n",
       "      <td>NaN</td>\n",
       "      <td>NaN</td>\n",
       "      <td>NaN</td>\n",
       "      <td>NaN</td>\n",
       "      <td>NaN</td>\n",
       "      <td>1.0</td>\n",
       "      <td>4.0</td>\n",
       "      <td>NaN</td>\n",
       "      <td>NaN</td>\n",
       "    </tr>\n",
       "    <tr>\n",
       "      <th>3</th>\n",
       "      <td>4</td>\n",
       "      <td>Pinschers_Schnauzers</td>\n",
       "      <td>male</td>\n",
       "      <td>sterilized</td>\n",
       "      <td>5.405751</td>\n",
       "      <td>5.405751</td>\n",
       "      <td>5.405751</td>\n",
       "      <td>5.405751</td>\n",
       "      <td>5.405751</td>\n",
       "      <td>5.405751</td>\n",
       "      <td>...</td>\n",
       "      <td>1.0</td>\n",
       "      <td>2.0</td>\n",
       "      <td>1.0</td>\n",
       "      <td>2.0</td>\n",
       "      <td>2.0</td>\n",
       "      <td>1.0</td>\n",
       "      <td>1.0</td>\n",
       "      <td>2.0</td>\n",
       "      <td>-0.528441</td>\n",
       "      <td>-0.822966</td>\n",
       "    </tr>\n",
       "    <tr>\n",
       "      <th>4</th>\n",
       "      <td>5</td>\n",
       "      <td>German_Shepherd_Dog</td>\n",
       "      <td>male</td>\n",
       "      <td>sterilized</td>\n",
       "      <td>3.875205</td>\n",
       "      <td>4.006568</td>\n",
       "      <td>3.875205</td>\n",
       "      <td>4.006568</td>\n",
       "      <td>4.006568</td>\n",
       "      <td>4.006568</td>\n",
       "      <td>...</td>\n",
       "      <td>3.0</td>\n",
       "      <td>3.0</td>\n",
       "      <td>2.0</td>\n",
       "      <td>2.0</td>\n",
       "      <td>4.0</td>\n",
       "      <td>2.0</td>\n",
       "      <td>1.0</td>\n",
       "      <td>5.0</td>\n",
       "      <td>0.347356</td>\n",
       "      <td>1.438794</td>\n",
       "    </tr>\n",
       "    <tr>\n",
       "      <th>...</th>\n",
       "      <td>...</td>\n",
       "      <td>...</td>\n",
       "      <td>...</td>\n",
       "      <td>...</td>\n",
       "      <td>...</td>\n",
       "      <td>...</td>\n",
       "      <td>...</td>\n",
       "      <td>...</td>\n",
       "      <td>...</td>\n",
       "      <td>...</td>\n",
       "      <td>...</td>\n",
       "      <td>...</td>\n",
       "      <td>...</td>\n",
       "      <td>...</td>\n",
       "      <td>...</td>\n",
       "      <td>...</td>\n",
       "      <td>...</td>\n",
       "      <td>...</td>\n",
       "      <td>...</td>\n",
       "      <td>...</td>\n",
       "      <td>...</td>\n",
       "    </tr>\n",
       "    <tr>\n",
       "      <th>15366</th>\n",
       "      <td>15367</td>\n",
       "      <td>Labrador_Retriever</td>\n",
       "      <td>male</td>\n",
       "      <td>sterilized</td>\n",
       "      <td>4.515599</td>\n",
       "      <td>4.515599</td>\n",
       "      <td>4.515599</td>\n",
       "      <td>4.515599</td>\n",
       "      <td>4.515599</td>\n",
       "      <td>4.515599</td>\n",
       "      <td>...</td>\n",
       "      <td>3.0</td>\n",
       "      <td>3.0</td>\n",
       "      <td>1.0</td>\n",
       "      <td>2.0</td>\n",
       "      <td>2.0</td>\n",
       "      <td>2.0</td>\n",
       "      <td>0.0</td>\n",
       "      <td>4.0</td>\n",
       "      <td>0.002578</td>\n",
       "      <td>1.165461</td>\n",
       "    </tr>\n",
       "    <tr>\n",
       "      <th>15367</th>\n",
       "      <td>15368</td>\n",
       "      <td>Labrador_Retriever</td>\n",
       "      <td>male</td>\n",
       "      <td>intact</td>\n",
       "      <td>NaN</td>\n",
       "      <td>NaN</td>\n",
       "      <td>NaN</td>\n",
       "      <td>NaN</td>\n",
       "      <td>NaN</td>\n",
       "      <td>NaN</td>\n",
       "      <td>...</td>\n",
       "      <td>NaN</td>\n",
       "      <td>NaN</td>\n",
       "      <td>NaN</td>\n",
       "      <td>NaN</td>\n",
       "      <td>NaN</td>\n",
       "      <td>NaN</td>\n",
       "      <td>NaN</td>\n",
       "      <td>NaN</td>\n",
       "      <td>NaN</td>\n",
       "      <td>NaN</td>\n",
       "    </tr>\n",
       "    <tr>\n",
       "      <th>15368</th>\n",
       "      <td>15369</td>\n",
       "      <td>Pointers</td>\n",
       "      <td>female</td>\n",
       "      <td>intact</td>\n",
       "      <td>5.315693</td>\n",
       "      <td>NaN</td>\n",
       "      <td>5.315693</td>\n",
       "      <td>5.315693</td>\n",
       "      <td>5.315693</td>\n",
       "      <td>NaN</td>\n",
       "      <td>...</td>\n",
       "      <td>NaN</td>\n",
       "      <td>NaN</td>\n",
       "      <td>NaN</td>\n",
       "      <td>NaN</td>\n",
       "      <td>NaN</td>\n",
       "      <td>NaN</td>\n",
       "      <td>NaN</td>\n",
       "      <td>NaN</td>\n",
       "      <td>NaN</td>\n",
       "      <td>NaN</td>\n",
       "    </tr>\n",
       "    <tr>\n",
       "      <th>15369</th>\n",
       "      <td>15370</td>\n",
       "      <td>Hunting_terriers</td>\n",
       "      <td>male</td>\n",
       "      <td>intact</td>\n",
       "      <td>1.447332</td>\n",
       "      <td>1.447332</td>\n",
       "      <td>1.447332</td>\n",
       "      <td>1.447332</td>\n",
       "      <td>1.447332</td>\n",
       "      <td>1.447332</td>\n",
       "      <td>...</td>\n",
       "      <td>1.0</td>\n",
       "      <td>3.0</td>\n",
       "      <td>2.0</td>\n",
       "      <td>2.0</td>\n",
       "      <td>3.0</td>\n",
       "      <td>1.0</td>\n",
       "      <td>0.0</td>\n",
       "      <td>1.0</td>\n",
       "      <td>-0.076717</td>\n",
       "      <td>-0.764367</td>\n",
       "    </tr>\n",
       "    <tr>\n",
       "      <th>15370</th>\n",
       "      <td>15371</td>\n",
       "      <td>Teacup_dogs</td>\n",
       "      <td>male</td>\n",
       "      <td>intact</td>\n",
       "      <td>18.088980</td>\n",
       "      <td>18.088980</td>\n",
       "      <td>18.088980</td>\n",
       "      <td>100.969900</td>\n",
       "      <td>18.088980</td>\n",
       "      <td>18.088980</td>\n",
       "      <td>...</td>\n",
       "      <td>1.0</td>\n",
       "      <td>1.0</td>\n",
       "      <td>1.0</td>\n",
       "      <td>1.0</td>\n",
       "      <td>2.0</td>\n",
       "      <td>2.0</td>\n",
       "      <td>0.0</td>\n",
       "      <td>1.0</td>\n",
       "      <td>-0.419320</td>\n",
       "      <td>-0.664030</td>\n",
       "    </tr>\n",
       "  </tbody>\n",
       "</table>\n",
       "<p>15371 rows × 250 columns</p>\n",
       "</div>"
      ],
      "text/plain": [
       "       dog.id           breed_group     sex sterilization_status  \\\n",
       "0           1  Jack_Russell_Terrier  female           sterilized   \n",
       "1           2  Jack_Russell_Terrier  female               intact   \n",
       "2           3  Pinschers_Schnauzers    male               intact   \n",
       "3           4  Pinschers_Schnauzers    male           sterilized   \n",
       "4           5   German_Shepherd_Dog    male           sterilized   \n",
       "...       ...                   ...     ...                  ...   \n",
       "15366   15367    Labrador_Retriever    male           sterilized   \n",
       "15367   15368    Labrador_Retriever    male               intact   \n",
       "15368   15369              Pointers  female               intact   \n",
       "15369   15370      Hunting_terriers    male               intact   \n",
       "15370   15371           Teacup_dogs    male               intact   \n",
       "\n",
       "       Noise.sensitivity_age  Fearfulness_age  Aggression_age  Surface_age  \\\n",
       "0                  14.241650        14.181420       14.236174    14.233437   \n",
       "1                   8.693866         8.359294        8.693866     8.353818   \n",
       "2                   1.992701         1.992701        1.992701     1.992701   \n",
       "3                   5.405751         5.405751        5.405751     5.405751   \n",
       "4                   3.875205         4.006568        3.875205     4.006568   \n",
       "...                      ...              ...             ...          ...   \n",
       "15366               4.515599         4.515599        4.515599     4.515599   \n",
       "15367                    NaN              NaN             NaN          NaN   \n",
       "15368               5.315693              NaN        5.315693     5.315693   \n",
       "15369               1.447332         1.447332        1.447332     1.447332   \n",
       "15370              18.088980        18.088980       18.088980   100.969900   \n",
       "\n",
       "       Separation_age  Impulsivity_age  ...  Vas_8_excessive  \\\n",
       "0           14.181420        14.236174  ...              2.0   \n",
       "1                 NaN         8.422270  ...              2.0   \n",
       "2            1.992701         1.992701  ...              NaN   \n",
       "3            5.405751         5.405751  ...              1.0   \n",
       "4            4.006568         4.006568  ...              3.0   \n",
       "...               ...              ...  ...              ...   \n",
       "15366        4.515599         4.515599  ...              3.0   \n",
       "15367             NaN              NaN  ...              NaN   \n",
       "15368        5.315693              NaN  ...              NaN   \n",
       "15369        1.447332         1.447332  ...              1.0   \n",
       "15370       18.088980        18.088980  ...              1.0   \n",
       "\n",
       "       Vas_9_alwaysplay Vas_10_complicatedtasks Vas_11_reacthastily  \\\n",
       "0                   3.0                     2.0                 2.0   \n",
       "1                   3.0                     1.0                 1.0   \n",
       "2                   NaN                     NaN                 NaN   \n",
       "3                   2.0                     1.0                 2.0   \n",
       "4                   3.0                     2.0                 2.0   \n",
       "...                 ...                     ...                 ...   \n",
       "15366               3.0                     1.0                 2.0   \n",
       "15367               NaN                     NaN                 NaN   \n",
       "15368               NaN                     NaN                 NaN   \n",
       "15369               3.0                     2.0                 2.0   \n",
       "15370               1.0                     1.0                 1.0   \n",
       "\n",
       "      Vas_12_easilydistracted Vas_13_cannotwait  impulsive  \\\n",
       "0                         3.0               2.0        0.0   \n",
       "1                         2.0               2.0        NaN   \n",
       "2                         NaN               NaN        1.0   \n",
       "3                         2.0               1.0        1.0   \n",
       "4                         4.0               2.0        1.0   \n",
       "...                       ...               ...        ...   \n",
       "15366                     2.0               2.0        0.0   \n",
       "15367                     NaN               NaN        NaN   \n",
       "15368                     NaN               NaN        NaN   \n",
       "15369                     3.0               1.0        0.0   \n",
       "15370                     2.0               2.0        0.0   \n",
       "\n",
       "       impulsiveness_disturbes  inattention_score  impulsivity_score  \n",
       "0                          3.0           0.993593           0.097521  \n",
       "1                          2.0          -0.633266           0.904661  \n",
       "2                          4.0                NaN                NaN  \n",
       "3                          2.0          -0.528441          -0.822966  \n",
       "4                          5.0           0.347356           1.438794  \n",
       "...                        ...                ...                ...  \n",
       "15366                      4.0           0.002578           1.165461  \n",
       "15367                      NaN                NaN                NaN  \n",
       "15368                      NaN                NaN                NaN  \n",
       "15369                      1.0          -0.076717          -0.764367  \n",
       "15370                      1.0          -0.419320          -0.664030  \n",
       "\n",
       "[15371 rows x 250 columns]"
      ]
     },
     "metadata": {},
     "output_type": "display_data"
    }
   ],
   "source": [
    "display(dogs)"
   ]
  },
  {
   "cell_type": "code",
   "execution_count": 22,
   "id": "da33cc22",
   "metadata": {},
   "outputs": [
    {
     "data": {
      "application/vnd.plotly.v1+json": {
       "config": {
        "plotlyServerURL": "https://plot.ly"
       },
       "data": [
        {
         "hovertemplate": "variable=Aggressive_dogs_samegender<br>value=%{x}<br>breed_group=%{y}<extra></extra>",
         "legendgroup": "Aggressive_dogs_samegender",
         "marker": {
          "color": "#636efa",
          "pattern": {
           "shape": ""
          }
         },
         "name": "Aggressive_dogs_samegender",
         "orientation": "h",
         "showlegend": true,
         "textposition": "auto",
         "type": "bar",
         "x": {
          "bdata": "RO8W16lG9j95dOA935j2P6uqqqqqqvY/O/SbrUO/+T9A2Hg0f7D5P7iyzyE1wfg/R7XlKmlU+z9cj8L1KFz7P5EHrqKdKf0/vHmE6jNt/T8T2LSfLIH9P/rGtAkoRf0/Wblxxegv/T9Xi5swv6v9P0VAfDQhL/w/UFQPGnnn/z9DeQ3lNZT8PwAAAAAAAP8/r66urq6u/j9oL6G9hPb8P7bWWmuttf4/LPnFkl8sAUDBomBRsCgAQHcZU74OSwBAfyLhlObF/z9Ob3rTm14AQDX2MAvIFwFAT3D0BEdPAED0dG6vJYcAQOsGU+SzbgBArbXWWmutAUDGhytaX3wAQM3MzMzMzABAmpmZmZlZAUDSHGmONEcCQHwXDqLHdwFAwLVE7m8tAUC66KKLLroAQMprKK+hPAFAuawYKOGNAkBAbCoNOfcBQC8cRI/vwgFA6IDdHmsZAkDl0CLb+X4CQK/yTHzcdwNAAAAAAADgA0DUmcYNjDoDQA5jtfW3BwZA5DiO4zgOA0AW01lMZzEFQAZbsAVbsAVASW0ltZXUBkA=",
          "dtype": "f8"
         },
         "xaxis": "x",
         "y": [
          "Labrador_Retriever",
          "Golden_Retriever",
          "Other_breed",
          "Bernese_Mountain_Dogs",
          "Shetland_Sheepdog",
          "Scenthounds",
          "Whippet",
          "Collie_Rough",
          "Northern_companion_spitz",
          "Pointers",
          "Schapendoes",
          "European_sighthounds",
          "Retrievers_flushing_dogs",
          "Mastiff_type_dogs",
          "Bichon_type_dogs",
          "Sled_dogs",
          "Other_companion_dogs",
          "Nova_Scotia_Duck_Tolling_Retriever",
          "White_Swiss_Shepherd_Dog",
          "Lagotto_Romagnolo_Romagna_Water_Dog",
          "Miniature_Schnauzer",
          "Finnish_Lapphund",
          "Collie_Smooth",
          "Dachshunds",
          "Poodles",
          "German_spitz_related",
          "Bull_type_terriers",
          "Pinschers_Schnauzers",
          "Brachycephalic_dogs",
          "Teacup_dogs",
          "Hunting_terriers",
          "Spanish_Water_Dog",
          "Border_Collie",
          "Yard_terriers",
          "Welsh_Corgis",
          "Middle_European_utility_dogs",
          "English_herders",
          "Livestock_guardian_dogs",
          "Australian_Shepherd",
          "Northern_hunting_spitz",
          "Primitive_sighthounds",
          "Mixed_breed",
          "Chinese_Crested_Dog",
          "Middle_European_herders",
          "Jack_Russell_Terrier",
          "Japanese_Asian_primitive",
          "Belgian_shepherd_dogs",
          "Lapponian_Herder",
          "Miniature_Pinscher",
          "Parson_type_terriers",
          "German_Shepherd_Dog",
          "Fighting_dogs"
         ],
         "yaxis": "y"
        },
        {
         "hovertemplate": "variable=Aggressive_people<br>value=%{x}<br>breed_group=%{y}<extra></extra>",
         "legendgroup": "Aggressive_people",
         "marker": {
          "color": "#EF553B",
          "pattern": {
           "shape": ""
          }
         },
         "name": "Aggressive_people",
         "orientation": "h",
         "showlegend": true,
         "textposition": "auto",
         "type": "bar",
         "x": {
          "bdata": "dmIndmIn8T+pCcZb2efwP1IxtzojFfM/ztah32wd8j/ti6jW2RfxPycYb2WfQ/I/Egu40x+x8D+gcnYLvxrzP1fRzpRef/E/ua9lssgB8j8jFXOrM1LxP5k2AaWol/E/426+V87c8j/Zz8P0cQ7yP83MzMzMzPM/ep7neZ7n8T+7EGa7EGbzP4gDHn844PE/ZzGdxXQW8z/3EtpLaC/1P51zzjnnnPM/1kdJ+K+B8T+VmEpMJabyP1VVVVVV1fM/Ut/ZqO9s9D9uuOGGG270P9YNpshn3fA//rSFBizp9T9yIepm0LLzPxX5rBtMkfM/a6211lpr8T/GGGOMMcb0P2IndmIndvI/hNpuNX2j8z9eQ3kN5TXyPxKICzUngfQ/c08jLPc09D9xPQrXo3D1P1VVVVVVVfU/v/aQy4qB8j9PTSr699T0P9tfan+p/fU/07z4Ewmn9D8AAAAAADD2P5U1ZU1ZU/I/u6KuqCvq8j8Icx6Xvv31P9HOlF5/cfI/HMdxHMdx+D/xcd8thf70PxphuacRlvU/1aY2talN9T8=",
          "dtype": "f8"
         },
         "xaxis": "x",
         "y": [
          "Labrador_Retriever",
          "Golden_Retriever",
          "Other_breed",
          "Bernese_Mountain_Dogs",
          "Shetland_Sheepdog",
          "Scenthounds",
          "Whippet",
          "Collie_Rough",
          "Northern_companion_spitz",
          "Pointers",
          "Schapendoes",
          "European_sighthounds",
          "Retrievers_flushing_dogs",
          "Mastiff_type_dogs",
          "Bichon_type_dogs",
          "Sled_dogs",
          "Other_companion_dogs",
          "Nova_Scotia_Duck_Tolling_Retriever",
          "White_Swiss_Shepherd_Dog",
          "Lagotto_Romagnolo_Romagna_Water_Dog",
          "Miniature_Schnauzer",
          "Finnish_Lapphund",
          "Collie_Smooth",
          "Dachshunds",
          "Poodles",
          "German_spitz_related",
          "Bull_type_terriers",
          "Pinschers_Schnauzers",
          "Brachycephalic_dogs",
          "Teacup_dogs",
          "Hunting_terriers",
          "Spanish_Water_Dog",
          "Border_Collie",
          "Yard_terriers",
          "Welsh_Corgis",
          "Middle_European_utility_dogs",
          "English_herders",
          "Livestock_guardian_dogs",
          "Australian_Shepherd",
          "Northern_hunting_spitz",
          "Primitive_sighthounds",
          "Mixed_breed",
          "Chinese_Crested_Dog",
          "Middle_European_herders",
          "Jack_Russell_Terrier",
          "Japanese_Asian_primitive",
          "Belgian_shepherd_dogs",
          "Lapponian_Herder",
          "Miniature_Pinscher",
          "Parson_type_terriers",
          "German_Shepherd_Dog",
          "Fighting_dogs"
         ],
         "yaxis": "y"
        },
        {
         "hovertemplate": "variable=Aggressive_dogs_oppositegender<br>value=%{x}<br>breed_group=%{y}<extra></extra>",
         "legendgroup": "Aggressive_dogs_oppositegender",
         "marker": {
          "color": "#00cc96",
          "pattern": {
           "shape": ""
          }
         },
         "name": "Aggressive_dogs_oppositegender",
         "orientation": "h",
         "showlegend": true,
         "textposition": "auto",
         "type": "bar",
         "x": {
          "bdata": "B/utNoam8z9dobmdyqPzP8NB9PguHPQ/1AjLPY2w9D+6VxKpLMj1P9nnkJpgvPU/etOb3vSm9z9VVVVVVVX1Px2b74Yf1fU/3fj31hGU9j+F9hLaS2j3PwTv+ca0Cfg/LMI/TvcA9z8dDMX8U3j3PxbFOOV2f/c/I+/8LU5r9j/T2pN/53L4P1VVVVVVVfg/5ijdvrJ69z8T2ktoL6H3PxZYYIEFFvg/O+NmoUnN9z9GwaJgUbD4P8cKhJF2rPg/BHZ7rGXo+D+dUaWdwif5P8Iz/Q26Xfs/Kz8hzspP+D+315JDXGX6P7nSvQFl4vo/kBB45gay+j+dn0oIyPn5P5q/mAGd+fs/mpmZmZkZ+j+ivIbyGsr5P+0b1r5h7fk/7m8tkftb+z9cj8L1KFz7P0OY7UKY7fo/cSsUt0Jx+z/hehSuR+H6P24nz+B28vw/OmC3x1qG/j8URVEURVH8P5uypqwpa/4/Ly8vLy8v/z8PbX+P3aH9P3+2WBm+Ef0/VVVVVVVV/T97CusprKcAQIb3wnvhvQBAv6Av6Av6AEA=",
          "dtype": "f8"
         },
         "xaxis": "x",
         "y": [
          "Labrador_Retriever",
          "Golden_Retriever",
          "Other_breed",
          "Bernese_Mountain_Dogs",
          "Shetland_Sheepdog",
          "Scenthounds",
          "Whippet",
          "Collie_Rough",
          "Northern_companion_spitz",
          "Pointers",
          "Schapendoes",
          "European_sighthounds",
          "Retrievers_flushing_dogs",
          "Mastiff_type_dogs",
          "Bichon_type_dogs",
          "Sled_dogs",
          "Other_companion_dogs",
          "Nova_Scotia_Duck_Tolling_Retriever",
          "White_Swiss_Shepherd_Dog",
          "Lagotto_Romagnolo_Romagna_Water_Dog",
          "Miniature_Schnauzer",
          "Finnish_Lapphund",
          "Collie_Smooth",
          "Dachshunds",
          "Poodles",
          "German_spitz_related",
          "Bull_type_terriers",
          "Pinschers_Schnauzers",
          "Brachycephalic_dogs",
          "Teacup_dogs",
          "Hunting_terriers",
          "Spanish_Water_Dog",
          "Border_Collie",
          "Yard_terriers",
          "Welsh_Corgis",
          "Middle_European_utility_dogs",
          "English_herders",
          "Livestock_guardian_dogs",
          "Australian_Shepherd",
          "Northern_hunting_spitz",
          "Primitive_sighthounds",
          "Mixed_breed",
          "Chinese_Crested_Dog",
          "Middle_European_herders",
          "Jack_Russell_Terrier",
          "Japanese_Asian_primitive",
          "Belgian_shepherd_dogs",
          "Lapponian_Herder",
          "Miniature_Pinscher",
          "Parson_type_terriers",
          "German_Shepherd_Dog",
          "Fighting_dogs"
         ],
         "yaxis": "y"
        }
       ],
       "layout": {
        "barmode": "relative",
        "legend": {
         "title": {
          "text": "variable"
         },
         "tracegroupgap": 0
        },
        "margin": {
         "t": 60
        },
        "template": {
         "data": {
          "bar": [
           {
            "error_x": {
             "color": "#2a3f5f"
            },
            "error_y": {
             "color": "#2a3f5f"
            },
            "marker": {
             "line": {
              "color": "#E5ECF6",
              "width": 0.5
             },
             "pattern": {
              "fillmode": "overlay",
              "size": 10,
              "solidity": 0.2
             }
            },
            "type": "bar"
           }
          ],
          "barpolar": [
           {
            "marker": {
             "line": {
              "color": "#E5ECF6",
              "width": 0.5
             },
             "pattern": {
              "fillmode": "overlay",
              "size": 10,
              "solidity": 0.2
             }
            },
            "type": "barpolar"
           }
          ],
          "carpet": [
           {
            "aaxis": {
             "endlinecolor": "#2a3f5f",
             "gridcolor": "white",
             "linecolor": "white",
             "minorgridcolor": "white",
             "startlinecolor": "#2a3f5f"
            },
            "baxis": {
             "endlinecolor": "#2a3f5f",
             "gridcolor": "white",
             "linecolor": "white",
             "minorgridcolor": "white",
             "startlinecolor": "#2a3f5f"
            },
            "type": "carpet"
           }
          ],
          "choropleth": [
           {
            "colorbar": {
             "outlinewidth": 0,
             "ticks": ""
            },
            "type": "choropleth"
           }
          ],
          "contour": [
           {
            "colorbar": {
             "outlinewidth": 0,
             "ticks": ""
            },
            "colorscale": [
             [
              0,
              "#0d0887"
             ],
             [
              0.1111111111111111,
              "#46039f"
             ],
             [
              0.2222222222222222,
              "#7201a8"
             ],
             [
              0.3333333333333333,
              "#9c179e"
             ],
             [
              0.4444444444444444,
              "#bd3786"
             ],
             [
              0.5555555555555556,
              "#d8576b"
             ],
             [
              0.6666666666666666,
              "#ed7953"
             ],
             [
              0.7777777777777778,
              "#fb9f3a"
             ],
             [
              0.8888888888888888,
              "#fdca26"
             ],
             [
              1,
              "#f0f921"
             ]
            ],
            "type": "contour"
           }
          ],
          "contourcarpet": [
           {
            "colorbar": {
             "outlinewidth": 0,
             "ticks": ""
            },
            "type": "contourcarpet"
           }
          ],
          "heatmap": [
           {
            "colorbar": {
             "outlinewidth": 0,
             "ticks": ""
            },
            "colorscale": [
             [
              0,
              "#0d0887"
             ],
             [
              0.1111111111111111,
              "#46039f"
             ],
             [
              0.2222222222222222,
              "#7201a8"
             ],
             [
              0.3333333333333333,
              "#9c179e"
             ],
             [
              0.4444444444444444,
              "#bd3786"
             ],
             [
              0.5555555555555556,
              "#d8576b"
             ],
             [
              0.6666666666666666,
              "#ed7953"
             ],
             [
              0.7777777777777778,
              "#fb9f3a"
             ],
             [
              0.8888888888888888,
              "#fdca26"
             ],
             [
              1,
              "#f0f921"
             ]
            ],
            "type": "heatmap"
           }
          ],
          "histogram": [
           {
            "marker": {
             "pattern": {
              "fillmode": "overlay",
              "size": 10,
              "solidity": 0.2
             }
            },
            "type": "histogram"
           }
          ],
          "histogram2d": [
           {
            "colorbar": {
             "outlinewidth": 0,
             "ticks": ""
            },
            "colorscale": [
             [
              0,
              "#0d0887"
             ],
             [
              0.1111111111111111,
              "#46039f"
             ],
             [
              0.2222222222222222,
              "#7201a8"
             ],
             [
              0.3333333333333333,
              "#9c179e"
             ],
             [
              0.4444444444444444,
              "#bd3786"
             ],
             [
              0.5555555555555556,
              "#d8576b"
             ],
             [
              0.6666666666666666,
              "#ed7953"
             ],
             [
              0.7777777777777778,
              "#fb9f3a"
             ],
             [
              0.8888888888888888,
              "#fdca26"
             ],
             [
              1,
              "#f0f921"
             ]
            ],
            "type": "histogram2d"
           }
          ],
          "histogram2dcontour": [
           {
            "colorbar": {
             "outlinewidth": 0,
             "ticks": ""
            },
            "colorscale": [
             [
              0,
              "#0d0887"
             ],
             [
              0.1111111111111111,
              "#46039f"
             ],
             [
              0.2222222222222222,
              "#7201a8"
             ],
             [
              0.3333333333333333,
              "#9c179e"
             ],
             [
              0.4444444444444444,
              "#bd3786"
             ],
             [
              0.5555555555555556,
              "#d8576b"
             ],
             [
              0.6666666666666666,
              "#ed7953"
             ],
             [
              0.7777777777777778,
              "#fb9f3a"
             ],
             [
              0.8888888888888888,
              "#fdca26"
             ],
             [
              1,
              "#f0f921"
             ]
            ],
            "type": "histogram2dcontour"
           }
          ],
          "mesh3d": [
           {
            "colorbar": {
             "outlinewidth": 0,
             "ticks": ""
            },
            "type": "mesh3d"
           }
          ],
          "parcoords": [
           {
            "line": {
             "colorbar": {
              "outlinewidth": 0,
              "ticks": ""
             }
            },
            "type": "parcoords"
           }
          ],
          "pie": [
           {
            "automargin": true,
            "type": "pie"
           }
          ],
          "scatter": [
           {
            "fillpattern": {
             "fillmode": "overlay",
             "size": 10,
             "solidity": 0.2
            },
            "type": "scatter"
           }
          ],
          "scatter3d": [
           {
            "line": {
             "colorbar": {
              "outlinewidth": 0,
              "ticks": ""
             }
            },
            "marker": {
             "colorbar": {
              "outlinewidth": 0,
              "ticks": ""
             }
            },
            "type": "scatter3d"
           }
          ],
          "scattercarpet": [
           {
            "marker": {
             "colorbar": {
              "outlinewidth": 0,
              "ticks": ""
             }
            },
            "type": "scattercarpet"
           }
          ],
          "scattergeo": [
           {
            "marker": {
             "colorbar": {
              "outlinewidth": 0,
              "ticks": ""
             }
            },
            "type": "scattergeo"
           }
          ],
          "scattergl": [
           {
            "marker": {
             "colorbar": {
              "outlinewidth": 0,
              "ticks": ""
             }
            },
            "type": "scattergl"
           }
          ],
          "scattermap": [
           {
            "marker": {
             "colorbar": {
              "outlinewidth": 0,
              "ticks": ""
             }
            },
            "type": "scattermap"
           }
          ],
          "scattermapbox": [
           {
            "marker": {
             "colorbar": {
              "outlinewidth": 0,
              "ticks": ""
             }
            },
            "type": "scattermapbox"
           }
          ],
          "scatterpolar": [
           {
            "marker": {
             "colorbar": {
              "outlinewidth": 0,
              "ticks": ""
             }
            },
            "type": "scatterpolar"
           }
          ],
          "scatterpolargl": [
           {
            "marker": {
             "colorbar": {
              "outlinewidth": 0,
              "ticks": ""
             }
            },
            "type": "scatterpolargl"
           }
          ],
          "scatterternary": [
           {
            "marker": {
             "colorbar": {
              "outlinewidth": 0,
              "ticks": ""
             }
            },
            "type": "scatterternary"
           }
          ],
          "surface": [
           {
            "colorbar": {
             "outlinewidth": 0,
             "ticks": ""
            },
            "colorscale": [
             [
              0,
              "#0d0887"
             ],
             [
              0.1111111111111111,
              "#46039f"
             ],
             [
              0.2222222222222222,
              "#7201a8"
             ],
             [
              0.3333333333333333,
              "#9c179e"
             ],
             [
              0.4444444444444444,
              "#bd3786"
             ],
             [
              0.5555555555555556,
              "#d8576b"
             ],
             [
              0.6666666666666666,
              "#ed7953"
             ],
             [
              0.7777777777777778,
              "#fb9f3a"
             ],
             [
              0.8888888888888888,
              "#fdca26"
             ],
             [
              1,
              "#f0f921"
             ]
            ],
            "type": "surface"
           }
          ],
          "table": [
           {
            "cells": {
             "fill": {
              "color": "#EBF0F8"
             },
             "line": {
              "color": "white"
             }
            },
            "header": {
             "fill": {
              "color": "#C8D4E3"
             },
             "line": {
              "color": "white"
             }
            },
            "type": "table"
           }
          ]
         },
         "layout": {
          "annotationdefaults": {
           "arrowcolor": "#2a3f5f",
           "arrowhead": 0,
           "arrowwidth": 1
          },
          "autotypenumbers": "strict",
          "coloraxis": {
           "colorbar": {
            "outlinewidth": 0,
            "ticks": ""
           }
          },
          "colorscale": {
           "diverging": [
            [
             0,
             "#8e0152"
            ],
            [
             0.1,
             "#c51b7d"
            ],
            [
             0.2,
             "#de77ae"
            ],
            [
             0.3,
             "#f1b6da"
            ],
            [
             0.4,
             "#fde0ef"
            ],
            [
             0.5,
             "#f7f7f7"
            ],
            [
             0.6,
             "#e6f5d0"
            ],
            [
             0.7,
             "#b8e186"
            ],
            [
             0.8,
             "#7fbc41"
            ],
            [
             0.9,
             "#4d9221"
            ],
            [
             1,
             "#276419"
            ]
           ],
           "sequential": [
            [
             0,
             "#0d0887"
            ],
            [
             0.1111111111111111,
             "#46039f"
            ],
            [
             0.2222222222222222,
             "#7201a8"
            ],
            [
             0.3333333333333333,
             "#9c179e"
            ],
            [
             0.4444444444444444,
             "#bd3786"
            ],
            [
             0.5555555555555556,
             "#d8576b"
            ],
            [
             0.6666666666666666,
             "#ed7953"
            ],
            [
             0.7777777777777778,
             "#fb9f3a"
            ],
            [
             0.8888888888888888,
             "#fdca26"
            ],
            [
             1,
             "#f0f921"
            ]
           ],
           "sequentialminus": [
            [
             0,
             "#0d0887"
            ],
            [
             0.1111111111111111,
             "#46039f"
            ],
            [
             0.2222222222222222,
             "#7201a8"
            ],
            [
             0.3333333333333333,
             "#9c179e"
            ],
            [
             0.4444444444444444,
             "#bd3786"
            ],
            [
             0.5555555555555556,
             "#d8576b"
            ],
            [
             0.6666666666666666,
             "#ed7953"
            ],
            [
             0.7777777777777778,
             "#fb9f3a"
            ],
            [
             0.8888888888888888,
             "#fdca26"
            ],
            [
             1,
             "#f0f921"
            ]
           ]
          },
          "colorway": [
           "#636efa",
           "#EF553B",
           "#00cc96",
           "#ab63fa",
           "#FFA15A",
           "#19d3f3",
           "#FF6692",
           "#B6E880",
           "#FF97FF",
           "#FECB52"
          ],
          "font": {
           "color": "#2a3f5f"
          },
          "geo": {
           "bgcolor": "white",
           "lakecolor": "white",
           "landcolor": "#E5ECF6",
           "showlakes": true,
           "showland": true,
           "subunitcolor": "white"
          },
          "hoverlabel": {
           "align": "left"
          },
          "hovermode": "closest",
          "mapbox": {
           "style": "light"
          },
          "paper_bgcolor": "white",
          "plot_bgcolor": "#E5ECF6",
          "polar": {
           "angularaxis": {
            "gridcolor": "white",
            "linecolor": "white",
            "ticks": ""
           },
           "bgcolor": "#E5ECF6",
           "radialaxis": {
            "gridcolor": "white",
            "linecolor": "white",
            "ticks": ""
           }
          },
          "scene": {
           "xaxis": {
            "backgroundcolor": "#E5ECF6",
            "gridcolor": "white",
            "gridwidth": 2,
            "linecolor": "white",
            "showbackground": true,
            "ticks": "",
            "zerolinecolor": "white"
           },
           "yaxis": {
            "backgroundcolor": "#E5ECF6",
            "gridcolor": "white",
            "gridwidth": 2,
            "linecolor": "white",
            "showbackground": true,
            "ticks": "",
            "zerolinecolor": "white"
           },
           "zaxis": {
            "backgroundcolor": "#E5ECF6",
            "gridcolor": "white",
            "gridwidth": 2,
            "linecolor": "white",
            "showbackground": true,
            "ticks": "",
            "zerolinecolor": "white"
           }
          },
          "shapedefaults": {
           "line": {
            "color": "#2a3f5f"
           }
          },
          "ternary": {
           "aaxis": {
            "gridcolor": "white",
            "linecolor": "white",
            "ticks": ""
           },
           "baxis": {
            "gridcolor": "white",
            "linecolor": "white",
            "ticks": ""
           },
           "bgcolor": "#E5ECF6",
           "caxis": {
            "gridcolor": "white",
            "linecolor": "white",
            "ticks": ""
           }
          },
          "title": {
           "x": 0.05
          },
          "xaxis": {
           "automargin": true,
           "gridcolor": "white",
           "linecolor": "white",
           "ticks": "",
           "title": {
            "standoff": 15
           },
           "zerolinecolor": "white",
           "zerolinewidth": 2
          },
          "yaxis": {
           "automargin": true,
           "gridcolor": "white",
           "linecolor": "white",
           "ticks": "",
           "title": {
            "standoff": 15
           },
           "zerolinecolor": "white",
           "zerolinewidth": 2
          }
         }
        },
        "xaxis": {
         "anchor": "y",
         "domain": [
          0,
          1
         ],
         "title": {
          "text": "value"
         }
        },
        "yaxis": {
         "anchor": "x",
         "domain": [
          0,
          1
         ],
         "title": {
          "text": "breed_group"
         }
        }
       }
      }
     },
     "metadata": {},
     "output_type": "display_data"
    }
   ],
   "source": [
    "aggressive_columns = ['Aggressive_dogs_samegender', 'Aggressive_people', 'Aggressive_dogs_oppositegender', 'aggressiveness_dominance_score']\n",
    "\n",
    "means = dogs.groupby('breed_group')[aggressive_columns].mean().reset_index()\n",
    "means['Aggressive_columns_sum'] = means[aggressive_columns[0]] + means[aggressive_columns[1]] + means[aggressive_columns[2]]\n",
    "means.sort_values(by='Aggressive_columns_sum', inplace=True)\n",
    "fig = px.bar(means, y='breed_group', x=aggressive_columns[:-1])\n",
    "\n",
    "fig.show()"
   ]
  },
  {
   "cell_type": "code",
   "execution_count": 28,
   "id": "f2cebe88",
   "metadata": {},
   "outputs": [
    {
     "data": {
      "application/vnd.plotly.v1+json": {
       "config": {
        "plotlyServerURL": "https://plot.ly"
       },
       "data": [
        {
         "hovertemplate": "aggressiveness_dominance_score_positive=%{x}<br>breed_group=%{y}<extra></extra>",
         "legendgroup": "",
         "marker": {
          "color": "#636efa",
          "pattern": {
           "shape": ""
          }
         },
         "name": "",
         "orientation": "h",
         "showlegend": false,
         "textposition": "auto",
         "type": "bar",
         "x": {
          "bdata": "AAAAAAAAAABgqfV3z3+RP8yzs72dG70/vL/mh2XHvz/OC5GzxubKPyyJK6VpgMw/VMYKi6KAzj+nIdvoNAHQPx1TfDNtvdQ/ecv5XAX+1T9F/I5nUVDWPxJ5YE6fD9g/j+lCPPDh2D/i3oUBluvYPyPUAngo9tk/cpbeeo0n2j+7dG67sbHbPxhRvGd1U9w/LdeAs+HK3z+h817vS+3fP+Vlti2m/98/FEvieGFh4D/1+r4AdhXhPyjp8htBzuE/Cg9ZW6wi4j+ACFkrbnHiP4yS/Otgx+M/d1CsxBrN4z8j2ghBcAXkP74oiLrpGeQ/Sgj4//ws5D9mSwar52DkP9ZmLMPcjOQ/YM30dExB5j8QfWYhUlnmP5HZf88feeY/phB8gl355j84QcF7wxXnP2D1DnneZuc/dHFSohdv5z/HWXAbwWnoP2BuKwxHneg/xLMBRmra6D/OxdyMPHfrPwqV+0NTr+w/OxPPZ/3b7D/WPzmiP5ftPx6r/OQyh+4/0Yg7fC6c7j+7fu58v/rwP/RmqweoUfM/tEcmveZE9D8=",
          "dtype": "f8"
         },
         "xaxis": "x",
         "y": [
          "Golden_Retriever",
          "Labrador_Retriever",
          "Other_breed",
          "Scenthounds",
          "Shetland_Sheepdog",
          "Collie_Rough",
          "Whippet",
          "Bernese_Mountain_Dogs",
          "Northern_companion_spitz",
          "Pointers",
          "Schapendoes",
          "European_sighthounds",
          "Other_companion_dogs",
          "Retrievers_flushing_dogs",
          "Lagotto_Romagnolo_Romagna_Water_Dog",
          "Sled_dogs",
          "Bichon_type_dogs",
          "Mastiff_type_dogs",
          "Collie_Smooth",
          "Nova_Scotia_Duck_Tolling_Retriever",
          "Finnish_Lapphund",
          "White_Swiss_Shepherd_Dog",
          "Dachshunds",
          "Miniature_Schnauzer",
          "Poodles",
          "German_spitz_related",
          "Livestock_guardian_dogs",
          "Spanish_Water_Dog",
          "Welsh_Corgis",
          "Border_Collie",
          "Hunting_terriers",
          "Teacup_dogs",
          "Bull_type_terriers",
          "Brachycephalic_dogs",
          "Pinschers_Schnauzers",
          "Yard_terriers",
          "English_herders",
          "Australian_Shepherd",
          "Primitive_sighthounds",
          "Northern_hunting_spitz",
          "Chinese_Crested_Dog",
          "Mixed_breed",
          "Middle_European_utility_dogs",
          "Jack_Russell_Terrier",
          "Japanese_Asian_primitive",
          "Lapponian_Herder",
          "Middle_European_herders",
          "Miniature_Pinscher",
          "Belgian_shepherd_dogs",
          "Parson_type_terriers",
          "German_Shepherd_Dog",
          "Fighting_dogs"
         ],
         "yaxis": "y"
        }
       ],
       "layout": {
        "barmode": "relative",
        "legend": {
         "tracegroupgap": 0
        },
        "margin": {
         "t": 60
        },
        "template": {
         "data": {
          "bar": [
           {
            "error_x": {
             "color": "#2a3f5f"
            },
            "error_y": {
             "color": "#2a3f5f"
            },
            "marker": {
             "line": {
              "color": "#E5ECF6",
              "width": 0.5
             },
             "pattern": {
              "fillmode": "overlay",
              "size": 10,
              "solidity": 0.2
             }
            },
            "type": "bar"
           }
          ],
          "barpolar": [
           {
            "marker": {
             "line": {
              "color": "#E5ECF6",
              "width": 0.5
             },
             "pattern": {
              "fillmode": "overlay",
              "size": 10,
              "solidity": 0.2
             }
            },
            "type": "barpolar"
           }
          ],
          "carpet": [
           {
            "aaxis": {
             "endlinecolor": "#2a3f5f",
             "gridcolor": "white",
             "linecolor": "white",
             "minorgridcolor": "white",
             "startlinecolor": "#2a3f5f"
            },
            "baxis": {
             "endlinecolor": "#2a3f5f",
             "gridcolor": "white",
             "linecolor": "white",
             "minorgridcolor": "white",
             "startlinecolor": "#2a3f5f"
            },
            "type": "carpet"
           }
          ],
          "choropleth": [
           {
            "colorbar": {
             "outlinewidth": 0,
             "ticks": ""
            },
            "type": "choropleth"
           }
          ],
          "contour": [
           {
            "colorbar": {
             "outlinewidth": 0,
             "ticks": ""
            },
            "colorscale": [
             [
              0,
              "#0d0887"
             ],
             [
              0.1111111111111111,
              "#46039f"
             ],
             [
              0.2222222222222222,
              "#7201a8"
             ],
             [
              0.3333333333333333,
              "#9c179e"
             ],
             [
              0.4444444444444444,
              "#bd3786"
             ],
             [
              0.5555555555555556,
              "#d8576b"
             ],
             [
              0.6666666666666666,
              "#ed7953"
             ],
             [
              0.7777777777777778,
              "#fb9f3a"
             ],
             [
              0.8888888888888888,
              "#fdca26"
             ],
             [
              1,
              "#f0f921"
             ]
            ],
            "type": "contour"
           }
          ],
          "contourcarpet": [
           {
            "colorbar": {
             "outlinewidth": 0,
             "ticks": ""
            },
            "type": "contourcarpet"
           }
          ],
          "heatmap": [
           {
            "colorbar": {
             "outlinewidth": 0,
             "ticks": ""
            },
            "colorscale": [
             [
              0,
              "#0d0887"
             ],
             [
              0.1111111111111111,
              "#46039f"
             ],
             [
              0.2222222222222222,
              "#7201a8"
             ],
             [
              0.3333333333333333,
              "#9c179e"
             ],
             [
              0.4444444444444444,
              "#bd3786"
             ],
             [
              0.5555555555555556,
              "#d8576b"
             ],
             [
              0.6666666666666666,
              "#ed7953"
             ],
             [
              0.7777777777777778,
              "#fb9f3a"
             ],
             [
              0.8888888888888888,
              "#fdca26"
             ],
             [
              1,
              "#f0f921"
             ]
            ],
            "type": "heatmap"
           }
          ],
          "histogram": [
           {
            "marker": {
             "pattern": {
              "fillmode": "overlay",
              "size": 10,
              "solidity": 0.2
             }
            },
            "type": "histogram"
           }
          ],
          "histogram2d": [
           {
            "colorbar": {
             "outlinewidth": 0,
             "ticks": ""
            },
            "colorscale": [
             [
              0,
              "#0d0887"
             ],
             [
              0.1111111111111111,
              "#46039f"
             ],
             [
              0.2222222222222222,
              "#7201a8"
             ],
             [
              0.3333333333333333,
              "#9c179e"
             ],
             [
              0.4444444444444444,
              "#bd3786"
             ],
             [
              0.5555555555555556,
              "#d8576b"
             ],
             [
              0.6666666666666666,
              "#ed7953"
             ],
             [
              0.7777777777777778,
              "#fb9f3a"
             ],
             [
              0.8888888888888888,
              "#fdca26"
             ],
             [
              1,
              "#f0f921"
             ]
            ],
            "type": "histogram2d"
           }
          ],
          "histogram2dcontour": [
           {
            "colorbar": {
             "outlinewidth": 0,
             "ticks": ""
            },
            "colorscale": [
             [
              0,
              "#0d0887"
             ],
             [
              0.1111111111111111,
              "#46039f"
             ],
             [
              0.2222222222222222,
              "#7201a8"
             ],
             [
              0.3333333333333333,
              "#9c179e"
             ],
             [
              0.4444444444444444,
              "#bd3786"
             ],
             [
              0.5555555555555556,
              "#d8576b"
             ],
             [
              0.6666666666666666,
              "#ed7953"
             ],
             [
              0.7777777777777778,
              "#fb9f3a"
             ],
             [
              0.8888888888888888,
              "#fdca26"
             ],
             [
              1,
              "#f0f921"
             ]
            ],
            "type": "histogram2dcontour"
           }
          ],
          "mesh3d": [
           {
            "colorbar": {
             "outlinewidth": 0,
             "ticks": ""
            },
            "type": "mesh3d"
           }
          ],
          "parcoords": [
           {
            "line": {
             "colorbar": {
              "outlinewidth": 0,
              "ticks": ""
             }
            },
            "type": "parcoords"
           }
          ],
          "pie": [
           {
            "automargin": true,
            "type": "pie"
           }
          ],
          "scatter": [
           {
            "fillpattern": {
             "fillmode": "overlay",
             "size": 10,
             "solidity": 0.2
            },
            "type": "scatter"
           }
          ],
          "scatter3d": [
           {
            "line": {
             "colorbar": {
              "outlinewidth": 0,
              "ticks": ""
             }
            },
            "marker": {
             "colorbar": {
              "outlinewidth": 0,
              "ticks": ""
             }
            },
            "type": "scatter3d"
           }
          ],
          "scattercarpet": [
           {
            "marker": {
             "colorbar": {
              "outlinewidth": 0,
              "ticks": ""
             }
            },
            "type": "scattercarpet"
           }
          ],
          "scattergeo": [
           {
            "marker": {
             "colorbar": {
              "outlinewidth": 0,
              "ticks": ""
             }
            },
            "type": "scattergeo"
           }
          ],
          "scattergl": [
           {
            "marker": {
             "colorbar": {
              "outlinewidth": 0,
              "ticks": ""
             }
            },
            "type": "scattergl"
           }
          ],
          "scattermap": [
           {
            "marker": {
             "colorbar": {
              "outlinewidth": 0,
              "ticks": ""
             }
            },
            "type": "scattermap"
           }
          ],
          "scattermapbox": [
           {
            "marker": {
             "colorbar": {
              "outlinewidth": 0,
              "ticks": ""
             }
            },
            "type": "scattermapbox"
           }
          ],
          "scatterpolar": [
           {
            "marker": {
             "colorbar": {
              "outlinewidth": 0,
              "ticks": ""
             }
            },
            "type": "scatterpolar"
           }
          ],
          "scatterpolargl": [
           {
            "marker": {
             "colorbar": {
              "outlinewidth": 0,
              "ticks": ""
             }
            },
            "type": "scatterpolargl"
           }
          ],
          "scatterternary": [
           {
            "marker": {
             "colorbar": {
              "outlinewidth": 0,
              "ticks": ""
             }
            },
            "type": "scatterternary"
           }
          ],
          "surface": [
           {
            "colorbar": {
             "outlinewidth": 0,
             "ticks": ""
            },
            "colorscale": [
             [
              0,
              "#0d0887"
             ],
             [
              0.1111111111111111,
              "#46039f"
             ],
             [
              0.2222222222222222,
              "#7201a8"
             ],
             [
              0.3333333333333333,
              "#9c179e"
             ],
             [
              0.4444444444444444,
              "#bd3786"
             ],
             [
              0.5555555555555556,
              "#d8576b"
             ],
             [
              0.6666666666666666,
              "#ed7953"
             ],
             [
              0.7777777777777778,
              "#fb9f3a"
             ],
             [
              0.8888888888888888,
              "#fdca26"
             ],
             [
              1,
              "#f0f921"
             ]
            ],
            "type": "surface"
           }
          ],
          "table": [
           {
            "cells": {
             "fill": {
              "color": "#EBF0F8"
             },
             "line": {
              "color": "white"
             }
            },
            "header": {
             "fill": {
              "color": "#C8D4E3"
             },
             "line": {
              "color": "white"
             }
            },
            "type": "table"
           }
          ]
         },
         "layout": {
          "annotationdefaults": {
           "arrowcolor": "#2a3f5f",
           "arrowhead": 0,
           "arrowwidth": 1
          },
          "autotypenumbers": "strict",
          "coloraxis": {
           "colorbar": {
            "outlinewidth": 0,
            "ticks": ""
           }
          },
          "colorscale": {
           "diverging": [
            [
             0,
             "#8e0152"
            ],
            [
             0.1,
             "#c51b7d"
            ],
            [
             0.2,
             "#de77ae"
            ],
            [
             0.3,
             "#f1b6da"
            ],
            [
             0.4,
             "#fde0ef"
            ],
            [
             0.5,
             "#f7f7f7"
            ],
            [
             0.6,
             "#e6f5d0"
            ],
            [
             0.7,
             "#b8e186"
            ],
            [
             0.8,
             "#7fbc41"
            ],
            [
             0.9,
             "#4d9221"
            ],
            [
             1,
             "#276419"
            ]
           ],
           "sequential": [
            [
             0,
             "#0d0887"
            ],
            [
             0.1111111111111111,
             "#46039f"
            ],
            [
             0.2222222222222222,
             "#7201a8"
            ],
            [
             0.3333333333333333,
             "#9c179e"
            ],
            [
             0.4444444444444444,
             "#bd3786"
            ],
            [
             0.5555555555555556,
             "#d8576b"
            ],
            [
             0.6666666666666666,
             "#ed7953"
            ],
            [
             0.7777777777777778,
             "#fb9f3a"
            ],
            [
             0.8888888888888888,
             "#fdca26"
            ],
            [
             1,
             "#f0f921"
            ]
           ],
           "sequentialminus": [
            [
             0,
             "#0d0887"
            ],
            [
             0.1111111111111111,
             "#46039f"
            ],
            [
             0.2222222222222222,
             "#7201a8"
            ],
            [
             0.3333333333333333,
             "#9c179e"
            ],
            [
             0.4444444444444444,
             "#bd3786"
            ],
            [
             0.5555555555555556,
             "#d8576b"
            ],
            [
             0.6666666666666666,
             "#ed7953"
            ],
            [
             0.7777777777777778,
             "#fb9f3a"
            ],
            [
             0.8888888888888888,
             "#fdca26"
            ],
            [
             1,
             "#f0f921"
            ]
           ]
          },
          "colorway": [
           "#636efa",
           "#EF553B",
           "#00cc96",
           "#ab63fa",
           "#FFA15A",
           "#19d3f3",
           "#FF6692",
           "#B6E880",
           "#FF97FF",
           "#FECB52"
          ],
          "font": {
           "color": "#2a3f5f"
          },
          "geo": {
           "bgcolor": "white",
           "lakecolor": "white",
           "landcolor": "#E5ECF6",
           "showlakes": true,
           "showland": true,
           "subunitcolor": "white"
          },
          "hoverlabel": {
           "align": "left"
          },
          "hovermode": "closest",
          "mapbox": {
           "style": "light"
          },
          "paper_bgcolor": "white",
          "plot_bgcolor": "#E5ECF6",
          "polar": {
           "angularaxis": {
            "gridcolor": "white",
            "linecolor": "white",
            "ticks": ""
           },
           "bgcolor": "#E5ECF6",
           "radialaxis": {
            "gridcolor": "white",
            "linecolor": "white",
            "ticks": ""
           }
          },
          "scene": {
           "xaxis": {
            "backgroundcolor": "#E5ECF6",
            "gridcolor": "white",
            "gridwidth": 2,
            "linecolor": "white",
            "showbackground": true,
            "ticks": "",
            "zerolinecolor": "white"
           },
           "yaxis": {
            "backgroundcolor": "#E5ECF6",
            "gridcolor": "white",
            "gridwidth": 2,
            "linecolor": "white",
            "showbackground": true,
            "ticks": "",
            "zerolinecolor": "white"
           },
           "zaxis": {
            "backgroundcolor": "#E5ECF6",
            "gridcolor": "white",
            "gridwidth": 2,
            "linecolor": "white",
            "showbackground": true,
            "ticks": "",
            "zerolinecolor": "white"
           }
          },
          "shapedefaults": {
           "line": {
            "color": "#2a3f5f"
           }
          },
          "ternary": {
           "aaxis": {
            "gridcolor": "white",
            "linecolor": "white",
            "ticks": ""
           },
           "baxis": {
            "gridcolor": "white",
            "linecolor": "white",
            "ticks": ""
           },
           "bgcolor": "#E5ECF6",
           "caxis": {
            "gridcolor": "white",
            "linecolor": "white",
            "ticks": ""
           }
          },
          "title": {
           "x": 0.05
          },
          "xaxis": {
           "automargin": true,
           "gridcolor": "white",
           "linecolor": "white",
           "ticks": "",
           "title": {
            "standoff": 15
           },
           "zerolinecolor": "white",
           "zerolinewidth": 2
          },
          "yaxis": {
           "automargin": true,
           "gridcolor": "white",
           "linecolor": "white",
           "ticks": "",
           "title": {
            "standoff": 15
           },
           "zerolinecolor": "white",
           "zerolinewidth": 2
          }
         }
        },
        "xaxis": {
         "anchor": "y",
         "domain": [
          0,
          1
         ],
         "title": {
          "text": "aggressiveness_dominance_score_positive"
         }
        },
        "yaxis": {
         "anchor": "x",
         "domain": [
          0,
          1
         ],
         "title": {
          "text": "breed_group"
         }
        }
       }
      }
     },
     "metadata": {},
     "output_type": "display_data"
    }
   ],
   "source": [
    "means['aggressiveness_dominance_score_positive'] = means['aggressiveness_dominance_score'] - means['aggressiveness_dominance_score'].min()\n",
    "means2 = means.sort_values(by='aggressiveness_dominance_score_positive')\n",
    "fig = px.bar(means2, y='breed_group', x='aggressiveness_dominance_score_positive')\n",
    "fig.show()"
   ]
  }
 ],
 "metadata": {
  "kernelspec": {
   "display_name": "Python 3",
   "language": "python",
   "name": "python3"
  },
  "language_info": {
   "codemirror_mode": {
    "name": "ipython",
    "version": 3
   },
   "file_extension": ".py",
   "mimetype": "text/x-python",
   "name": "python",
   "nbconvert_exporter": "python",
   "pygments_lexer": "ipython3",
   "version": "3.12.0"
  }
 },
 "nbformat": 4,
 "nbformat_minor": 5
}
