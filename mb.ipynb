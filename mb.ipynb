{
 "cells": [
  {
   "cell_type": "code",
   "execution_count": null,
   "id": "608fec34",
   "metadata": {},
   "outputs": [],
   "source": [
    "import pandas as pd\n",
    "import seaborn as sns\n",
    "import matplotlib.pyplot as plt\n",
    "import plotly.express as px\n",
    "import plotly.graph_objects as go\n",
    "\n"
   ]
  },
  {
   "cell_type": "code",
   "execution_count": null,
   "id": "f7ab677b",
   "metadata": {},
   "outputs": [],
   "source": [
    "# Load data\n",
    "with open('data-for-publication.xlsx', 'rb') as f:\n",
    "    dogs = pd.read_excel(f, sheet_name='Dataset', header=0)\n",
    "display(dogs)"
   ]
  },
  {
   "cell_type": "code",
   "execution_count": null,
   "id": "14fbaf6b",
   "metadata": {},
   "outputs": [],
   "source": [
    "# for col_name in ['breed_group', 'sex', 'sterilization_status']:\n",
    "# figure, axes = plt.subplots(1,3, figsize=(20,8))\n",
    "# sns.barplot(dogs['breed_group'].value_counts().reset_index(), x='breed_group', y='count', ax=axes[0])\n",
    "fig = px.bar(dogs['breed_group'].value_counts().reset_index(), y='breed_group', x='count', title='Pocty jednotlivych plemien v datach', width=1000, height=600)\n",
    "fig.show()"
   ]
  },
  {
   "cell_type": "code",
   "execution_count": null,
   "id": "1c503002",
   "metadata": {},
   "outputs": [],
   "source": [
    "df = dogs.groupby(by=['sterilization_status','sex'])['dog.id'].count()#.rename(columns={'dog.id':'count'})#.reset_index().set_index(['sex', 'sterilization_status'])\n",
    "display(df)\n",
    "display(df['sterilized', 'male'])\n",
    "\n",
    "fig = go.Figure(data=[\n",
    "    go.Bar(name='sterlized', x=['male', 'female'], y=[df['sterilized', 'male'], df['sterilized', 'female']]),\n",
    "    go.Bar(name='intact', x=['male', 'female'], y=[df['intact', 'male'], df['intact', 'female']])\n",
    "])\n",
    "fig.update_layout(barmode='stack', width=700, title='Number of male and female sterilized/intact dogs')\n",
    "fig.show()\n",
    "\n",
    "# fig = px.bar(dogs['sex'].value_counts().reset_index(), y='sex', x='count', title='Pocty jednotlivych psov podla poh', width=1000, height=600)\n",
    "# fig.show()"
   ]
  },
  {
   "cell_type": "code",
   "execution_count": null,
   "id": "b4868e7c",
   "metadata": {},
   "outputs": [],
   "source": [
    "df = dogs.groupby(by=['sex'])['weight_kg'].mean()\n",
    "display(df)\n",
    "\n",
    "sns.histplot(data=dogs, x='weight_kg', hue='sex', hue_order={'female':'blue', 'male':'blue'})"
   ]
  },
  {
   "cell_type": "code",
   "execution_count": null,
   "id": "57d06bca",
   "metadata": {},
   "outputs": [],
   "source": [
    "fig = go.Figure()\n",
    "fig.add_trace(go.Histogram(x=dogs.query('sex == \"male\"')['weight_kg'], name='Male', hovertext=dogs.query('sex == \"male\"')['dog.id']))\n",
    "fig.add_trace(go.Histogram(x=dogs.query('sex == \"female\"')['weight_kg'], name='Female',  hovertext=dogs.query('sex == \"female\"')['dog.id']))\n",
    "\n",
    "# Overlay both histograms\n",
    "fig.update_layout(barmode='overlay', xaxis_title='Weight in KG')\n",
    "# Reduce opacity to see both histograms\n",
    "fig.update_traces(opacity=0.75)\n",
    "fig.show()"
   ]
  },
  {
   "cell_type": "code",
   "execution_count": null,
   "id": "95457fac",
   "metadata": {},
   "outputs": [],
   "source": [
    "categories = ['Noise.sensitivity_age',\n",
    "'Fearfulness_age',\n",
    "'Aggression_age',\n",
    "'Surface_age',\n",
    "'Separation_age',\n",
    "'Impulsivity_age',\n",
    "'Personality_age']\n",
    "\n",
    "ages_melt = dogs[categories + ['dog.id']].melt(id_vars='dog.id')\n",
    "display(ages_melt)\n",
    "\n",
    "sns.kdeplot(data=ages_melt, x='value', hue='variable')\n"
   ]
  },
  {
   "cell_type": "code",
   "execution_count": null,
   "id": "9cb1580c",
   "metadata": {},
   "outputs": [],
   "source": [
    "fig = px.line(ages_melt[ages_melt['dog.id'] < 100], x='variable', y='value', color='dog.id', markers=True)\n",
    "fig.show()"
   ]
  },
  {
   "cell_type": "code",
   "execution_count": null,
   "id": "5bc24810",
   "metadata": {},
   "outputs": [],
   "source": [
    "ages = dogs[categories + ['dog.id']]\n",
    "display(ages.describe())\n",
    "\n",
    "display(dogs.query('Surface_age > 100'))"
   ]
  },
  {
   "cell_type": "code",
   "execution_count": null,
   "id": "19dc2c92",
   "metadata": {},
   "outputs": [],
   "source": [
    "display(dogs)"
   ]
  },
  {
   "cell_type": "code",
   "execution_count": null,
   "id": "da33cc22",
   "metadata": {},
   "outputs": [],
   "source": [
    "aggressive_columns = ['Aggressive_dogs_samegender', 'Aggressive_people', 'Aggressive_dogs_oppositegender', 'aggressiveness_dominance_score']\n",
    "\n",
    "means = dogs.groupby('breed_group')[aggressive_columns].mean().reset_index()\n",
    "means['Aggressive_columns_sum'] = means[aggressive_columns[0]] + means[aggressive_columns[1]] + means[aggressive_columns[2]]\n",
    "means.sort_values(by='Aggressive_columns_sum', inplace=True)\n",
    "fig = px.bar(means, y='breed_group', x=aggressive_columns[:-1])\n",
    "\n",
    "fig.show()"
   ]
  },
  {
   "cell_type": "code",
   "execution_count": null,
   "id": "f2cebe88",
   "metadata": {},
   "outputs": [],
   "source": [
    "means['aggressiveness_dominance_score_positive'] = means['aggressiveness_dominance_score'] - means['aggressiveness_dominance_score'].min()\n",
    "means2 = means.sort_values(by='aggressiveness_dominance_score_positive')\n",
    "fig = px.bar(means2, y='breed_group', x='aggressiveness_dominance_score_positive')\n",
    "fig.show()"
   ]
  },
  {
   "cell_type": "markdown",
   "id": "7151204a",
   "metadata": {},
   "source": [
    "# Tendecia u chovatelov"
   ]
  },
  {
   "cell_type": "code",
   "execution_count": null,
   "id": "b8da478b",
   "metadata": {},
   "outputs": [],
   "source": [
    "# A = dogs.groupby(['leashed_unleashed', 'dog_breeder'])['leashed_unleashed'].count().rename('count').reset_index()\n",
    "# A['count'] = A['count'] / A.groupby('dog_breeder')['count'].transform('sum')\n",
    "# px.bar(A, x='leashed_unleashed', y='count', color='dog_breeder', barmode='group')"
   ]
  },
  {
   "cell_type": "markdown",
   "id": "f63612de",
   "metadata": {},
   "source": [
    "Chovatelia maju svojich psov zvycajne bez voditka, asi si viacej doveruju ? Pricom nechovatelia to maju opacne."
   ]
  },
  {
   "cell_type": "code",
   "execution_count": null,
   "id": "a11106fc",
   "metadata": {},
   "outputs": [],
   "source": [
    "A = dogs[['dog_breeder', 'leashed_unleashed']].value_counts().reset_index()\n",
    "A['leashed_unleashed'] = pd.Categorical(A['leashed_unleashed'], ordered=True, categories=['unleashed', 'partly_leashed', 'leashed'])\n",
    "A = A.sort_values(by='leashed_unleashed')\n",
    "A['total'] = A.groupby('dog_breeder')['count'].transform('sum')\n",
    "A['percentage'] = A['count'] / A['total']\n",
    "fig = px.bar(A, x='leashed_unleashed', y='percentage', color='dog_breeder', barmode='group')\n",
    "fig.update_layout(\n",
    "    xaxis_title='',\n",
    ")\n",
    "fig.show()\n",
    "display(A)\n"
   ]
  },
  {
   "cell_type": "code",
   "execution_count": null,
   "id": "298d0f1c",
   "metadata": {},
   "outputs": [],
   "source": [
    "sns.stripplot(dogs, x='dog_breeder', y='stranger_aggression_score',jitter=0.2, hue='dog_breeder', alpha=0.3)"
   ]
  },
  {
   "cell_type": "code",
   "execution_count": null,
   "id": "5f549546",
   "metadata": {},
   "outputs": [],
   "source": [
    "sns.violinplot(dogs, x='dog_breeder', y='stranger_aggression_score',)"
   ]
  },
  {
   "cell_type": "code",
   "execution_count": null,
   "id": "4b4d985f",
   "metadata": {},
   "outputs": [],
   "source": [
    "sns.violinplot(dogs, x='dog_breeder', y='Obedient', hue='dog_breeder')"
   ]
  }
 ],
 "metadata": {
  "language_info": {
   "name": "python"
  }
 },
 "nbformat": 4,
 "nbformat_minor": 5
}
